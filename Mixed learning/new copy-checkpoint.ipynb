{
 "cells": [
  {
   "cell_type": "code",
   "execution_count": 287,
   "id": "5e03ceb6",
   "metadata": {},
   "outputs": [],
   "source": [
    "import pandas as pd\n",
    "\n",
    "read_file = pd.read_excel (r'C:\\Users\\BRIGHT\\Desktop\\SUMMARY\\New1.xlsx')\n",
    "read_file.to_csv (r'C:\\Users\\BRIGHT\\Desktop\\SUMMARY\\New1.csv', index = None, header=True)"
   ]
  },
  {
   "cell_type": "code",
   "execution_count": 288,
   "id": "93f3dcc7",
   "metadata": {},
   "outputs": [
    {
     "name": "stdout",
     "output_type": "stream",
     "text": [
      "      Idme                         Q9_Loneliness_Meaning_Qual\n",
      "0      237                                Makes me feel empty\n",
      "1      545  Not speaking to anyone for days. Being out wit...\n",
      "2      565  I am a very loving generous person but due to ...\n",
      "3      658                                         Unlikeable\n",
      "4     1044  Feeling like you aren't connected to the world...\n",
      "..     ...                                                ...\n",
      "106  23445  To be lonely is to yearn for the feeling of cl...\n",
      "107  23784  No one to communicate with. No close relations...\n",
      "108  23917   being lonely.  No one to care about my feelings!\n",
      "109  24354  Being unable to express how I feel to someone ...\n",
      "110  24356  To me, loneliness is a feeling rather than phy...\n",
      "\n",
      "[111 rows x 2 columns]\n"
     ]
    }
   ],
   "source": [
    "import pandas as pd\n",
    "df = pd.read_excel (r'C:\\Users\\BRIGHT\\Desktop\\SUMMARY\\New1.xlsx')\n",
    " #place \"r\" before the path string to address special character, such as '\\'. Don't forget to put the file name at the end of the path + '.xlsx'\n",
    "print (df)"
   ]
  },
  {
   "cell_type": "code",
   "execution_count": 289,
   "id": "24a4ea45",
   "metadata": {},
   "outputs": [
    {
     "name": "stdout",
     "output_type": "stream",
     "text": [
      "111\n"
     ]
    }
   ],
   "source": [
    "print (len(df))"
   ]
  },
  {
   "cell_type": "code",
   "execution_count": 290,
   "id": "3b712f89",
   "metadata": {},
   "outputs": [],
   "source": [
    "response = pd.read_csv(r'C:\\Users\\BRIGHT\\Desktop\\SUMMARY\\New3.csv',\n",
    "                           sep='\\t',names=['responses'])"
   ]
  },
  {
   "cell_type": "code",
   "execution_count": 291,
   "id": "76681456",
   "metadata": {},
   "outputs": [
    {
     "data": {
      "text/html": [
       "<div>\n",
       "<style scoped>\n",
       "    .dataframe tbody tr th:only-of-type {\n",
       "        vertical-align: middle;\n",
       "    }\n",
       "\n",
       "    .dataframe tbody tr th {\n",
       "        vertical-align: top;\n",
       "    }\n",
       "\n",
       "    .dataframe thead th {\n",
       "        text-align: right;\n",
       "    }\n",
       "</style>\n",
       "<table border=\"1\" class=\"dataframe\">\n",
       "  <thead>\n",
       "    <tr style=\"text-align: right;\">\n",
       "      <th></th>\n",
       "      <th>responses</th>\n",
       "    </tr>\n",
       "  </thead>\n",
       "  <tbody>\n",
       "    <tr>\n",
       "      <th>0</th>\n",
       "      <td>Idme,Q9_Loneliness_Meaning_Qual</td>\n",
       "    </tr>\n",
       "    <tr>\n",
       "      <th>1</th>\n",
       "      <td>237,Makes me feel empty</td>\n",
       "    </tr>\n",
       "    <tr>\n",
       "      <th>2</th>\n",
       "      <td>545,Not speaking to anyone for days. Being out...</td>\n",
       "    </tr>\n",
       "    <tr>\n",
       "      <th>3</th>\n",
       "      <td>565,I am a very loving generous person but due...</td>\n",
       "    </tr>\n",
       "    <tr>\n",
       "      <th>4</th>\n",
       "      <td>658,Unlikeable</td>\n",
       "    </tr>\n",
       "  </tbody>\n",
       "</table>\n",
       "</div>"
      ],
      "text/plain": [
       "                                           responses\n",
       "0                    Idme,Q9_Loneliness_Meaning_Qual\n",
       "1                            237,Makes me feel empty\n",
       "2  545,Not speaking to anyone for days. Being out...\n",
       "3  565,I am a very loving generous person but due...\n",
       "4                                     658,Unlikeable"
      ]
     },
     "execution_count": 291,
     "metadata": {},
     "output_type": "execute_result"
    }
   ],
   "source": [
    "response.head()"
   ]
  },
  {
   "cell_type": "code",
   "execution_count": 292,
   "id": "1ed76d7f",
   "metadata": {},
   "outputs": [
    {
     "data": {
      "text/html": [
       "<div>\n",
       "<style scoped>\n",
       "    .dataframe tbody tr th:only-of-type {\n",
       "        vertical-align: middle;\n",
       "    }\n",
       "\n",
       "    .dataframe tbody tr th {\n",
       "        vertical-align: top;\n",
       "    }\n",
       "\n",
       "    .dataframe thead th {\n",
       "        text-align: right;\n",
       "    }\n",
       "</style>\n",
       "<table border=\"1\" class=\"dataframe\">\n",
       "  <thead>\n",
       "    <tr style=\"text-align: right;\">\n",
       "      <th></th>\n",
       "      <th>responses</th>\n",
       "    </tr>\n",
       "  </thead>\n",
       "  <tbody>\n",
       "    <tr>\n",
       "      <th>count</th>\n",
       "      <td>112</td>\n",
       "    </tr>\n",
       "    <tr>\n",
       "      <th>unique</th>\n",
       "      <td>112</td>\n",
       "    </tr>\n",
       "    <tr>\n",
       "      <th>top</th>\n",
       "      <td>14890,Bored</td>\n",
       "    </tr>\n",
       "    <tr>\n",
       "      <th>freq</th>\n",
       "      <td>1</td>\n",
       "    </tr>\n",
       "  </tbody>\n",
       "</table>\n",
       "</div>"
      ],
      "text/plain": [
       "          responses\n",
       "count           112\n",
       "unique          112\n",
       "top     14890,Bored\n",
       "freq              1"
      ]
     },
     "execution_count": 292,
     "metadata": {},
     "output_type": "execute_result"
    }
   ],
   "source": [
    "response.describe()"
   ]
  },
  {
   "cell_type": "code",
   "execution_count": 293,
   "id": "372be08b",
   "metadata": {},
   "outputs": [
    {
     "name": "stdout",
     "output_type": "stream",
     "text": [
      "<class 'pandas.core.frame.DataFrame'>\n",
      "RangeIndex: 112 entries, 0 to 111\n",
      "Data columns (total 1 columns):\n",
      " #   Column     Non-Null Count  Dtype \n",
      "---  ------     --------------  ----- \n",
      " 0   responses  112 non-null    object\n",
      "dtypes: object(1)\n",
      "memory usage: 1.0+ KB\n"
     ]
    }
   ],
   "source": [
    "response.info()"
   ]
  },
  {
   "cell_type": "code",
   "execution_count": 294,
   "id": "d282f6be",
   "metadata": {},
   "outputs": [
    {
     "data": {
      "text/plain": [
       "<bound method NDFrame.head of                                              responses  length\n",
       "0                      Idme,Q9_Loneliness_Meaning_Qual      31\n",
       "1                              237,Makes me feel empty      23\n",
       "2    545,Not speaking to anyone for days. Being out...     340\n",
       "3    565,I am a very loving generous person but due...     315\n",
       "4                                       658,Unlikeable      14\n",
       "..                                                 ...     ...\n",
       "107  23445,To be lonely is to yearn for the feeling...      92\n",
       "108  23784,No one to communicate with. No close rel...      78\n",
       "109  23917,being lonely.  No one to care about my f...      54\n",
       "110  24354,Being unable to express how I feel to so...     175\n",
       "111  24356,\"To me, loneliness is a feeling rather t...     466\n",
       "\n",
       "[112 rows x 2 columns]>"
      ]
     },
     "execution_count": 294,
     "metadata": {},
     "output_type": "execute_result"
    }
   ],
   "source": [
    "response['length'] = response['responses'].apply(len)\n",
    "response.head"
   ]
  },
  {
   "cell_type": "code",
   "execution_count": 295,
   "id": "1804ccbb",
   "metadata": {},
   "outputs": [],
   "source": [
    "import matplotlib.pyplot as plt\n",
    "import seaborn as sns\n",
    "\n",
    "%matplotlib inline"
   ]
  },
  {
   "cell_type": "code",
   "execution_count": 296,
   "id": "0aaa6eeb",
   "metadata": {},
   "outputs": [
    {
     "data": {
      "text/plain": [
       "<AxesSubplot:ylabel='Frequency'>"
      ]
     },
     "execution_count": 296,
     "metadata": {},
     "output_type": "execute_result"
    },
    {
     "data": {
      "image/png": "[encoded data removed]",
      "text/plain": [
       "<Figure size 432x288 with 1 Axes>"
      ]
     },
     "metadata": {
      "needs_background": "light"
     },
     "output_type": "display_data"
    }
   ],
   "source": [
    "response['length'].plot(bins=50, kind='hist')"
   ]
  },
  {
   "cell_type": "code",
   "execution_count": 297,
   "id": "784cc5bc",
   "metadata": {},
   "outputs": [
    {
     "data": {
      "text/plain": [
       "count    112.000000\n",
       "mean     142.464286\n",
       "std      162.389251\n",
       "min        8.000000\n",
       "25%       44.000000\n",
       "50%       85.000000\n",
       "75%      197.750000\n",
       "max      964.000000\n",
       "Name: length, dtype: float64"
      ]
     },
     "execution_count": 297,
     "metadata": {},
     "output_type": "execute_result"
    }
   ],
   "source": [
    "response['length'].describe()"
   ]
  },
  {
   "cell_type": "code",
   "execution_count": 298,
   "id": "ec6cf1b4",
   "metadata": {},
   "outputs": [
    {
     "data": {
      "text/plain": [
       "'21994,\"Loneliness is a feeling or state when you get the sense you are alone and when it seems there is nobody with whom you can share or relate to how you feel. There is no one who is either physically present with you so you are literally alone and you can be with other people with whom you do not connect in the way you think and feel. If you are with other people yet feel lonely you lose the capacity to elicit caring behaviour from those who you are around which instead becomes an environment of hostility or perceived to be hostility towards you although no words have to be spoken. You feel as if people misunderstand you or feel judged. I think in this sense you are distracted from who you actually are as essentially human with your own unique set of beliefs, experiences and/or values. There is a feeling of stagnancy from which it can be difficult to move on to productivity and regain a sense of control. You are in a vulnerable state when lonely.\"'"
      ]
     },
     "execution_count": 298,
     "metadata": {},
     "output_type": "execute_result"
    }
   ],
   "source": [
    "response[response['length'] == 964]['responses'].iloc[0]"
   ]
  },
  {
   "cell_type": "code",
   "execution_count": 299,
   "id": "624a8598",
   "metadata": {},
   "outputs": [
    {
     "data": {
      "text/html": [
       "<div>\n",
       "<style scoped>\n",
       "    .dataframe tbody tr th:only-of-type {\n",
       "        vertical-align: middle;\n",
       "    }\n",
       "\n",
       "    .dataframe tbody tr th {\n",
       "        vertical-align: top;\n",
       "    }\n",
       "\n",
       "    .dataframe thead th {\n",
       "        text-align: right;\n",
       "    }\n",
       "</style>\n",
       "<table border=\"1\" class=\"dataframe\">\n",
       "  <thead>\n",
       "    <tr style=\"text-align: right;\">\n",
       "      <th></th>\n",
       "      <th>responses</th>\n",
       "      <th>length</th>\n",
       "    </tr>\n",
       "  </thead>\n",
       "  <tbody>\n",
       "    <tr>\n",
       "      <th>0</th>\n",
       "      <td>Idme,Q9_Loneliness_Meaning_Qual</td>\n",
       "      <td>31</td>\n",
       "    </tr>\n",
       "    <tr>\n",
       "      <th>1</th>\n",
       "      <td>237,Makes me feel empty</td>\n",
       "      <td>23</td>\n",
       "    </tr>\n",
       "    <tr>\n",
       "      <th>2</th>\n",
       "      <td>545,Not speaking to anyone for days. Being out...</td>\n",
       "      <td>340</td>\n",
       "    </tr>\n",
       "    <tr>\n",
       "      <th>3</th>\n",
       "      <td>565,I am a very loving generous person but due...</td>\n",
       "      <td>315</td>\n",
       "    </tr>\n",
       "    <tr>\n",
       "      <th>4</th>\n",
       "      <td>658,Unlikeable</td>\n",
       "      <td>14</td>\n",
       "    </tr>\n",
       "  </tbody>\n",
       "</table>\n",
       "</div>"
      ],
      "text/plain": [
       "                                           responses  length\n",
       "0                    Idme,Q9_Loneliness_Meaning_Qual      31\n",
       "1                            237,Makes me feel empty      23\n",
       "2  545,Not speaking to anyone for days. Being out...     340\n",
       "3  565,I am a very loving generous person but due...     315\n",
       "4                                     658,Unlikeable      14"
      ]
     },
     "execution_count": 299,
     "metadata": {},
     "output_type": "execute_result"
    }
   ],
   "source": [
    "response.head()"
   ]
  },
  {
   "cell_type": "code",
   "execution_count": 300,
   "id": "fa5418fb",
   "metadata": {},
   "outputs": [
    {
     "data": {
      "text/plain": [
       "<bound method NDFrame.head of                                              responses  length\n",
       "0                      Idme,Q9_Loneliness_Meaning_Qual      31\n",
       "1                              237,Makes me feel empty      23\n",
       "2    545,Not speaking to anyone for days. Being out...     340\n",
       "3    565,I am a very loving generous person but due...     315\n",
       "4                                       658,Unlikeable      14\n",
       "..                                                 ...     ...\n",
       "107  23445,To be lonely is to yearn for the feeling...      92\n",
       "108  23784,No one to communicate with. No close rel...      78\n",
       "109  23917,being lonely.  No one to care about my f...      54\n",
       "110  24354,Being unable to express how I feel to so...     175\n",
       "111  24356,\"To me, loneliness is a feeling rather t...     466\n",
       "\n",
       "[112 rows x 2 columns]>"
      ]
     },
     "execution_count": 300,
     "metadata": {},
     "output_type": "execute_result"
    }
   ],
   "source": [
    "response['length'] = response['responses'].apply(len)\n",
    "response.head"
   ]
  },
  {
   "cell_type": "code",
   "execution_count": 301,
   "id": "8d4ea48d",
   "metadata": {},
   "outputs": [],
   "source": [
    "# Preprocessing\n",
    "import string"
   ]
  },
  {
   "cell_type": "code",
   "execution_count": 302,
   "id": "1d7e8ce2",
   "metadata": {},
   "outputs": [],
   "source": [
    "nopunc = [char for char in response if char not in string.punctuation]"
   ]
  },
  {
   "cell_type": "code",
   "execution_count": 303,
   "id": "c5d044f1",
   "metadata": {},
   "outputs": [],
   "source": [
    "nopunc = ''.join(nopunc)"
   ]
  },
  {
   "cell_type": "code",
   "execution_count": 304,
   "id": "08211489",
   "metadata": {},
   "outputs": [],
   "source": [
    "from nltk.corpus import stopwords"
   ]
  },
  {
   "cell_type": "code",
   "execution_count": 305,
   "id": "607fcc58",
   "metadata": {},
   "outputs": [
    {
     "data": {
      "text/plain": [
       "['i',\n",
       " 'me',\n",
       " 'my',\n",
       " 'myself',\n",
       " 'we',\n",
       " 'our',\n",
       " 'ours',\n",
       " 'ourselves',\n",
       " 'you',\n",
       " \"you're\",\n",
       " \"you've\",\n",
       " \"you'll\",\n",
       " \"you'd\",\n",
       " 'your',\n",
       " 'yours',\n",
       " 'yourself',\n",
       " 'yourselves',\n",
       " 'he',\n",
       " 'him',\n",
       " 'his',\n",
       " 'himself',\n",
       " 'she',\n",
       " \"she's\",\n",
       " 'her',\n",
       " 'hers',\n",
       " 'herself',\n",
       " 'it',\n",
       " \"it's\",\n",
       " 'its',\n",
       " 'itself',\n",
       " 'they',\n",
       " 'them',\n",
       " 'their',\n",
       " 'theirs',\n",
       " 'themselves',\n",
       " 'what',\n",
       " 'which',\n",
       " 'who',\n",
       " 'whom',\n",
       " 'this',\n",
       " 'that',\n",
       " \"that'll\",\n",
       " 'these',\n",
       " 'those',\n",
       " 'am',\n",
       " 'is',\n",
       " 'are',\n",
       " 'was',\n",
       " 'were',\n",
       " 'be',\n",
       " 'been',\n",
       " 'being',\n",
       " 'have',\n",
       " 'has',\n",
       " 'had',\n",
       " 'having',\n",
       " 'do',\n",
       " 'does',\n",
       " 'did',\n",
       " 'doing',\n",
       " 'a',\n",
       " 'an',\n",
       " 'the',\n",
       " 'and',\n",
       " 'but',\n",
       " 'if',\n",
       " 'or',\n",
       " 'because',\n",
       " 'as',\n",
       " 'until',\n",
       " 'while',\n",
       " 'of',\n",
       " 'at',\n",
       " 'by',\n",
       " 'for',\n",
       " 'with',\n",
       " 'about',\n",
       " 'against',\n",
       " 'between',\n",
       " 'into',\n",
       " 'through',\n",
       " 'during',\n",
       " 'before',\n",
       " 'after',\n",
       " 'above',\n",
       " 'below',\n",
       " 'to',\n",
       " 'from',\n",
       " 'up',\n",
       " 'down',\n",
       " 'in',\n",
       " 'out',\n",
       " 'on',\n",
       " 'off',\n",
       " 'over',\n",
       " 'under',\n",
       " 'again',\n",
       " 'further',\n",
       " 'then',\n",
       " 'once',\n",
       " 'here',\n",
       " 'there',\n",
       " 'when',\n",
       " 'where',\n",
       " 'why',\n",
       " 'how',\n",
       " 'all',\n",
       " 'any',\n",
       " 'both',\n",
       " 'each',\n",
       " 'few',\n",
       " 'more',\n",
       " 'most',\n",
       " 'other',\n",
       " 'some',\n",
       " 'such',\n",
       " 'no',\n",
       " 'nor',\n",
       " 'not',\n",
       " 'only',\n",
       " 'own',\n",
       " 'same',\n",
       " 'so',\n",
       " 'than',\n",
       " 'too',\n",
       " 'very',\n",
       " 's',\n",
       " 't',\n",
       " 'can',\n",
       " 'will',\n",
       " 'just',\n",
       " 'don',\n",
       " \"don't\",\n",
       " 'should',\n",
       " \"should've\",\n",
       " 'now',\n",
       " 'd',\n",
       " 'll',\n",
       " 'm',\n",
       " 'o',\n",
       " 're',\n",
       " 've',\n",
       " 'y',\n",
       " 'ain',\n",
       " 'aren',\n",
       " \"aren't\",\n",
       " 'couldn',\n",
       " \"couldn't\",\n",
       " 'didn',\n",
       " \"didn't\",\n",
       " 'doesn',\n",
       " \"doesn't\",\n",
       " 'hadn',\n",
       " \"hadn't\",\n",
       " 'hasn',\n",
       " \"hasn't\",\n",
       " 'haven',\n",
       " \"haven't\",\n",
       " 'isn',\n",
       " \"isn't\",\n",
       " 'ma',\n",
       " 'mightn',\n",
       " \"mightn't\",\n",
       " 'mustn',\n",
       " \"mustn't\",\n",
       " 'needn',\n",
       " \"needn't\",\n",
       " 'shan',\n",
       " \"shan't\",\n",
       " 'shouldn',\n",
       " \"shouldn't\",\n",
       " 'wasn',\n",
       " \"wasn't\",\n",
       " 'weren',\n",
       " \"weren't\",\n",
       " 'won',\n",
       " \"won't\",\n",
       " 'wouldn',\n",
       " \"wouldn't\"]"
      ]
     },
     "execution_count": 305,
     "metadata": {},
     "output_type": "execute_result"
    }
   ],
   "source": [
    "stp = stopwords.words('english')[0:]\n",
    "stp"
   ]
  },
  {
   "cell_type": "code",
   "execution_count": 306,
   "id": "690d09df",
   "metadata": {},
   "outputs": [
    {
     "data": {
      "text/plain": [
       "['responseslength']"
      ]
     },
     "execution_count": 306,
     "metadata": {},
     "output_type": "execute_result"
    }
   ],
   "source": [
    "nopunc.split()"
   ]
  },
  {
   "cell_type": "code",
   "execution_count": 307,
   "id": "f06bdd3e",
   "metadata": {},
   "outputs": [],
   "source": [
    "clean_response = [word for word in nopunc.split() if word.lower() not in stopwords.words('english')]"
   ]
  },
  {
   "cell_type": "code",
   "execution_count": 308,
   "id": "e7a42a19",
   "metadata": {},
   "outputs": [
    {
     "data": {
      "text/plain": [
       "['responseslength']"
      ]
     },
     "execution_count": 308,
     "metadata": {},
     "output_type": "execute_result"
    }
   ],
   "source": [
    "clean_response"
   ]
  },
  {
   "cell_type": "code",
   "execution_count": 309,
   "id": "806fabc5",
   "metadata": {},
   "outputs": [],
   "source": [
    "def text_process(response):\n",
    "    \"\"\"\n",
    "    Takes in a string of text, then performs the following:\n",
    "    1. Remove all punctuation\n",
    "    2. Remove all stopwords\n",
    "    3. Returns a list of the cleaned text\n",
    "    \n",
    "    \"\"\"\n",
    "    \n",
    "    nopunc = [char for char in response if char not in string.punctuation]"
   ]
  },
  {
   "cell_type": "code",
   "execution_count": 310,
   "id": "9dd23aa7",
   "metadata": {},
   "outputs": [],
   "source": [
    "nopunc = ''.join(nopunc)"
   ]
  },
  {
   "cell_type": "code",
   "execution_count": 311,
   "id": "3eba56f4",
   "metadata": {},
   "outputs": [
    {
     "data": {
      "text/html": [
       "<div>\n",
       "<style scoped>\n",
       "    .dataframe tbody tr th:only-of-type {\n",
       "        vertical-align: middle;\n",
       "    }\n",
       "\n",
       "    .dataframe tbody tr th {\n",
       "        vertical-align: top;\n",
       "    }\n",
       "\n",
       "    .dataframe thead th {\n",
       "        text-align: right;\n",
       "    }\n",
       "</style>\n",
       "<table border=\"1\" class=\"dataframe\">\n",
       "  <thead>\n",
       "    <tr style=\"text-align: right;\">\n",
       "      <th></th>\n",
       "      <th>responses</th>\n",
       "      <th>length</th>\n",
       "    </tr>\n",
       "  </thead>\n",
       "  <tbody>\n",
       "    <tr>\n",
       "      <th>0</th>\n",
       "      <td>Idme,Q9_Loneliness_Meaning_Qual</td>\n",
       "      <td>31</td>\n",
       "    </tr>\n",
       "    <tr>\n",
       "      <th>1</th>\n",
       "      <td>237,Makes me feel empty</td>\n",
       "      <td>23</td>\n",
       "    </tr>\n",
       "    <tr>\n",
       "      <th>2</th>\n",
       "      <td>545,Not speaking to anyone for days. Being out...</td>\n",
       "      <td>340</td>\n",
       "    </tr>\n",
       "    <tr>\n",
       "      <th>3</th>\n",
       "      <td>565,I am a very loving generous person but due...</td>\n",
       "      <td>315</td>\n",
       "    </tr>\n",
       "    <tr>\n",
       "      <th>4</th>\n",
       "      <td>658,Unlikeable</td>\n",
       "      <td>14</td>\n",
       "    </tr>\n",
       "  </tbody>\n",
       "</table>\n",
       "</div>"
      ],
      "text/plain": [
       "                                           responses  length\n",
       "0                    Idme,Q9_Loneliness_Meaning_Qual      31\n",
       "1                            237,Makes me feel empty      23\n",
       "2  545,Not speaking to anyone for days. Being out...     340\n",
       "3  565,I am a very loving generous person but due...     315\n",
       "4                                     658,Unlikeable      14"
      ]
     },
     "execution_count": 311,
     "metadata": {},
     "output_type": "execute_result"
    }
   ],
   "source": [
    "response.head()"
   ]
  },
  {
   "cell_type": "code",
   "execution_count": 312,
   "id": "c0956002",
   "metadata": {},
   "outputs": [],
   "source": [
    "from sklearn.feature_extraction.text import CountVectorizer"
   ]
  },
  {
   "cell_type": "code",
   "execution_count": 313,
   "id": "67723141",
   "metadata": {},
   "outputs": [],
   "source": [
    "bow_transformer = CountVectorizer()\n"
   ]
  },
  {
   "cell_type": "code",
   "execution_count": 314,
   "id": "cbccc93a",
   "metadata": {},
   "outputs": [
    {
     "data": {
      "text/plain": [
       "<112x776 sparse matrix of type '<class 'numpy.int64'>'\n",
       "\twith 2166 stored elements in Compressed Sparse Row format>"
      ]
     },
     "execution_count": 314,
     "metadata": {},
     "output_type": "execute_result"
    }
   ],
   "source": [
    "bow_transformer.fit_transform(response['responses'])\n"
   ]
  },
  {
   "cell_type": "code",
   "execution_count": 315,
   "id": "461eacaf",
   "metadata": {},
   "outputs": [],
   "source": [
    "response6 = response['responses']"
   ]
  },
  {
   "cell_type": "code",
   "execution_count": 316,
   "id": "4c1bf1bf",
   "metadata": {},
   "outputs": [
    {
     "name": "stdout",
     "output_type": "stream",
     "text": [
      "                                             responses  length\n",
      "0                      Idme,Q9_Loneliness_Meaning_Qual      31\n",
      "1                              237,Makes me feel empty      23\n",
      "2    545,Not speaking to anyone for days. Being out...     340\n",
      "3    565,I am a very loving generous person but due...     315\n",
      "4                                       658,Unlikeable      14\n",
      "..                                                 ...     ...\n",
      "107  23445,To be lonely is to yearn for the feeling...      92\n",
      "108  23784,No one to communicate with. No close rel...      78\n",
      "109  23917,being lonely.  No one to care about my f...      54\n",
      "110  24354,Being unable to express how I feel to so...     175\n",
      "111  24356,\"To me, loneliness is a feeling rather t...     466\n",
      "\n",
      "[112 rows x 2 columns]\n"
     ]
    }
   ],
   "source": [
    "print (response)"
   ]
  },
  {
   "cell_type": "code",
   "execution_count": 317,
   "id": "4fcf9f93",
   "metadata": {},
   "outputs": [
    {
     "name": "stdout",
     "output_type": "stream",
     "text": [
      "  (0, 7)\t1\n",
      "  (0, 134)\t1\n",
      "  (0, 160)\t1\n",
      "  (0, 168)\t1\n",
      "  (0, 188)\t1\n",
      "  (0, 289)\t1\n",
      "  (0, 315)\t1\n",
      "  (0, 341)\t1\n",
      "  (0, 695)\t1\n",
      "  (0, 731)\t1\n",
      "  (0, 742)\t1\n",
      "  (0, 771)\t2\n"
     ]
    }
   ],
   "source": [
    "print (bow6)"
   ]
  },
  {
   "cell_type": "code",
   "execution_count": 318,
   "id": "edb434c9",
   "metadata": {},
   "outputs": [
    {
     "name": "stdout",
     "output_type": "stream",
     "text": [
      "you\n"
     ]
    }
   ],
   "source": [
    "print (bow_transformer.get_feature_names()[771])"
   ]
  },
  {
   "cell_type": "code",
   "execution_count": 319,
   "id": "47f74a0e",
   "metadata": {},
   "outputs": [],
   "source": [
    "response_bow = bow_transformer.transform(response['responses'])"
   ]
  },
  {
   "cell_type": "code",
   "execution_count": 320,
   "id": "85fa50fb",
   "metadata": {},
   "outputs": [
    {
     "name": "stdout",
     "output_type": "stream",
     "text": [
      "shape of Sparse Matrix:  (112, 776)\n",
      "Amount of Non-Zero occurences:  2166\n",
      "sparsity: 17.27%\n"
     ]
    }
   ],
   "source": [
    "print ('shape of Sparse Matrix: ', response_bow.shape)\n",
    "print ('Amount of Non-Zero occurences: ', response_bow.nnz)\n",
    "print ('sparsity: %.2f%%' % (100.0 * response_bow.nnz / (response_bow.shape[0] * response_bow.shape[0])))"
   ]
  },
  {
   "cell_type": "markdown",
   "id": "4f2e9ccf",
   "metadata": {},
   "source": []
  },
  {
   "cell_type": "code",
   "execution_count": 321,
   "id": "06cc0d45",
   "metadata": {},
   "outputs": [],
   "source": [
    "from sklearn.feature_extraction.text import TfidfTransformer\n",
    "\n",
    "tfidf_transformer = TfidfTransformer().fit(response_bow)"
   ]
  },
  {
   "cell_type": "code",
   "execution_count": 322,
   "id": "108494eb",
   "metadata": {},
   "outputs": [],
   "source": [
    "tfidf = tfidf_transformer.transform(bow6)"
   ]
  },
  {
   "cell_type": "code",
   "execution_count": 323,
   "id": "6c50e189",
   "metadata": {},
   "outputs": [
    {
     "name": "stdout",
     "output_type": "stream",
     "text": [
      "  (0, 771)\t0.3785626245914309\n",
      "  (0, 742)\t0.2314446217803714\n",
      "  (0, 731)\t0.279630055757455\n",
      "  (0, 695)\t0.1133631863701569\n",
      "  (0, 341)\t0.15820074745795148\n",
      "  (0, 315)\t0.38589520882093203\n",
      "  (0, 289)\t0.35481464398316803\n",
      "  (0, 188)\t0.38589520882093203\n",
      "  (0, 168)\t0.18928131229571546\n",
      "  (0, 160)\t0.20939261008639687\n",
      "  (0, 134)\t0.18638836124416303\n",
      "  (0, 7)\t0.38589520882093203\n"
     ]
    }
   ],
   "source": [
    "print (tfidf6)"
   ]
  },
  {
   "cell_type": "code",
   "execution_count": 324,
   "id": "38ac0e7d",
   "metadata": {},
   "outputs": [],
   "source": [
    "response_tfidf = tfidf_transformer.transform(response_bow)"
   ]
  },
  {
   "cell_type": "code",
   "execution_count": 325,
   "id": "3eec6b72",
   "metadata": {},
   "outputs": [
    {
     "name": "stdout",
     "output_type": "stream",
     "text": [
      "                                             responses  length\n",
      "0                      Idme,Q9_Loneliness_Meaning_Qual      31\n",
      "1                              237,Makes me feel empty      23\n",
      "2    545,Not speaking to anyone for days. Being out...     340\n",
      "3    565,I am a very loving generous person but due...     315\n",
      "4                                       658,Unlikeable      14\n",
      "..                                                 ...     ...\n",
      "107  23445,To be lonely is to yearn for the feeling...      92\n",
      "108  23784,No one to communicate with. No close rel...      78\n",
      "109  23917,being lonely.  No one to care about my f...      54\n",
      "110  24354,Being unable to express how I feel to so...     175\n",
      "111  24356,\"To me, loneliness is a feeling rather t...     466\n",
      "\n",
      "[112 rows x 2 columns]\n"
     ]
    }
   ],
   "source": [
    "print (response)"
   ]
  },
  {
   "cell_type": "code",
   "execution_count": 326,
   "id": "ba2cddb0",
   "metadata": {},
   "outputs": [],
   "source": [
    "new_raw_data = pd.get_dummies(response)"
   ]
  },
  {
   "cell_type": "code",
   "execution_count": 327,
   "id": "648ec7f7",
   "metadata": {},
   "outputs": [
    {
     "data": {
      "text/html": [
       "<div>\n",
       "<style scoped>\n",
       "    .dataframe tbody tr th:only-of-type {\n",
       "        vertical-align: middle;\n",
       "    }\n",
       "\n",
       "    .dataframe tbody tr th {\n",
       "        vertical-align: top;\n",
       "    }\n",
       "\n",
       "    .dataframe thead th {\n",
       "        text-align: right;\n",
       "    }\n",
       "</style>\n",
       "<table border=\"1\" class=\"dataframe\">\n",
       "  <thead>\n",
       "    <tr style=\"text-align: right;\">\n",
       "      <th></th>\n",
       "      <th>length</th>\n",
       "      <th>responses_10037,Means not having someone to open up to and share things with.</th>\n",
       "      <th>responses_10208,Not having anyone to talk to when in need</th>\n",
       "      <th>responses_1044,\"Feeling like you aren't connected to the world, FOMO, having too much time to think by yourself\"</th>\n",
       "      <th>responses_10487,\"I've thought about loneliness a lot over the past 15 months or so. I believe it results from a combination of personality or psychological problems, societal &amp; economic problems (financial pressure to overwork &amp; spend too much time commuting), and the existential nature of being a social animal.\"</th>\n",
       "      <th>responses_10653,-99</th>\n",
       "      <th>responses_11271,Not having anyone to talk to about things. Not being able to spend time with like minded people.  Not sharing interests with anyone.  Not seeing relatives or friends.</th>\n",
       "      <th>responses_1149,being alone when you dont want to be. a feeling you cant escape</th>\n",
       "      <th>responses_11889,-99</th>\n",
       "      <th>responses_12173,Not having another person to share things with or relate to.  Feeling other people have close friendships or relationships when I'm alone when I don't want to be.</th>\n",
       "      <th>...</th>\n",
       "      <th>responses_6546,Loneliness means not having anyone who can understand where my life has taken me and how experiences have shaped me.</th>\n",
       "      <th>responses_658,Unlikeable</th>\n",
       "      <th>responses_7811,Feeling unhappy. Alone. Un-cared about. Not liked. Feeling of not fitting in.</th>\n",
       "      <th>responses_8634,Being in a group of people with whom I have little or nothing in common. Feeling like an alien in a crowd.</th>\n",
       "      <th>responses_9089,\"Spending long periods of time on my own not talking to anyone accept my cat.  Not participating in things I would like to do because I don't want to do them on my own (for example going to the theatre, going on holiday but not in a group). Being a singleton at social events. \"</th>\n",
       "      <th>responses_9193,-99</th>\n",
       "      <th>responses_9345,Lack of social interactions with people close to you.</th>\n",
       "      <th>responses_9576,not having someone to come home to</th>\n",
       "      <th>responses_9979,\"I can only recall being truly lonely, for a protracted period of time, when I was living alone in London, a city I didn't know well, and where I had few friends. My husband had left me, and I was too proud to admit I was lonely. I sometimes stood at bus stops (when I had no need or desire to catch a bus) just in case somebody spoke to me. Now, in my seventies and widowed, I sometimes have lonely Saturdays and Sundays, but I have coping strategies now.\"</th>\n",
       "      <th>responses_Idme,Q9_Loneliness_Meaning_Qual</th>\n",
       "    </tr>\n",
       "  </thead>\n",
       "  <tbody>\n",
       "    <tr>\n",
       "      <th>0</th>\n",
       "      <td>31</td>\n",
       "      <td>0</td>\n",
       "      <td>0</td>\n",
       "      <td>0</td>\n",
       "      <td>0</td>\n",
       "      <td>0</td>\n",
       "      <td>0</td>\n",
       "      <td>0</td>\n",
       "      <td>0</td>\n",
       "      <td>0</td>\n",
       "      <td>...</td>\n",
       "      <td>0</td>\n",
       "      <td>0</td>\n",
       "      <td>0</td>\n",
       "      <td>0</td>\n",
       "      <td>0</td>\n",
       "      <td>0</td>\n",
       "      <td>0</td>\n",
       "      <td>0</td>\n",
       "      <td>0</td>\n",
       "      <td>1</td>\n",
       "    </tr>\n",
       "    <tr>\n",
       "      <th>1</th>\n",
       "      <td>23</td>\n",
       "      <td>0</td>\n",
       "      <td>0</td>\n",
       "      <td>0</td>\n",
       "      <td>0</td>\n",
       "      <td>0</td>\n",
       "      <td>0</td>\n",
       "      <td>0</td>\n",
       "      <td>0</td>\n",
       "      <td>0</td>\n",
       "      <td>...</td>\n",
       "      <td>0</td>\n",
       "      <td>0</td>\n",
       "      <td>0</td>\n",
       "      <td>0</td>\n",
       "      <td>0</td>\n",
       "      <td>0</td>\n",
       "      <td>0</td>\n",
       "      <td>0</td>\n",
       "      <td>0</td>\n",
       "      <td>0</td>\n",
       "    </tr>\n",
       "    <tr>\n",
       "      <th>2</th>\n",
       "      <td>340</td>\n",
       "      <td>0</td>\n",
       "      <td>0</td>\n",
       "      <td>0</td>\n",
       "      <td>0</td>\n",
       "      <td>0</td>\n",
       "      <td>0</td>\n",
       "      <td>0</td>\n",
       "      <td>0</td>\n",
       "      <td>0</td>\n",
       "      <td>...</td>\n",
       "      <td>0</td>\n",
       "      <td>0</td>\n",
       "      <td>0</td>\n",
       "      <td>0</td>\n",
       "      <td>0</td>\n",
       "      <td>0</td>\n",
       "      <td>0</td>\n",
       "      <td>0</td>\n",
       "      <td>0</td>\n",
       "      <td>0</td>\n",
       "    </tr>\n",
       "    <tr>\n",
       "      <th>3</th>\n",
       "      <td>315</td>\n",
       "      <td>0</td>\n",
       "      <td>0</td>\n",
       "      <td>0</td>\n",
       "      <td>0</td>\n",
       "      <td>0</td>\n",
       "      <td>0</td>\n",
       "      <td>0</td>\n",
       "      <td>0</td>\n",
       "      <td>0</td>\n",
       "      <td>...</td>\n",
       "      <td>0</td>\n",
       "      <td>0</td>\n",
       "      <td>0</td>\n",
       "      <td>0</td>\n",
       "      <td>0</td>\n",
       "      <td>0</td>\n",
       "      <td>0</td>\n",
       "      <td>0</td>\n",
       "      <td>0</td>\n",
       "      <td>0</td>\n",
       "    </tr>\n",
       "    <tr>\n",
       "      <th>4</th>\n",
       "      <td>14</td>\n",
       "      <td>0</td>\n",
       "      <td>0</td>\n",
       "      <td>0</td>\n",
       "      <td>0</td>\n",
       "      <td>0</td>\n",
       "      <td>0</td>\n",
       "      <td>0</td>\n",
       "      <td>0</td>\n",
       "      <td>0</td>\n",
       "      <td>...</td>\n",
       "      <td>0</td>\n",
       "      <td>1</td>\n",
       "      <td>0</td>\n",
       "      <td>0</td>\n",
       "      <td>0</td>\n",
       "      <td>0</td>\n",
       "      <td>0</td>\n",
       "      <td>0</td>\n",
       "      <td>0</td>\n",
       "      <td>0</td>\n",
       "    </tr>\n",
       "  </tbody>\n",
       "</table>\n",
       "<p>5 rows × 113 columns</p>\n",
       "</div>"
      ],
      "text/plain": [
       "   length  \\\n",
       "0      31   \n",
       "1      23   \n",
       "2     340   \n",
       "3     315   \n",
       "4      14   \n",
       "\n",
       "   responses_10037,Means not having someone to open up to and share things with.  \\\n",
       "0                                                  0                               \n",
       "1                                                  0                               \n",
       "2                                                  0                               \n",
       "3                                                  0                               \n",
       "4                                                  0                               \n",
       "\n",
       "   responses_10208,Not having anyone to talk to when in need  \\\n",
       "0                                                  0           \n",
       "1                                                  0           \n",
       "2                                                  0           \n",
       "3                                                  0           \n",
       "4                                                  0           \n",
       "\n",
       "   responses_1044,\"Feeling like you aren't connected to the world, FOMO, having too much time to think by yourself\"  \\\n",
       "0                                                  0                                                                  \n",
       "1                                                  0                                                                  \n",
       "2                                                  0                                                                  \n",
       "3                                                  0                                                                  \n",
       "4                                                  0                                                                  \n",
       "\n",
       "   responses_10487,\"I've thought about loneliness a lot over the past 15 months or so. I believe it results from a combination of personality or psychological problems, societal & economic problems (financial pressure to overwork & spend too much time commuting), and the existential nature of being a social animal.\"  \\\n",
       "0                                                  0                                                                                                                                                                                                                                                                            \n",
       "1                                                  0                                                                                                                                                                                                                                                                            \n",
       "2                                                  0                                                                                                                                                                                                                                                                            \n",
       "3                                                  0                                                                                                                                                                                                                                                                            \n",
       "4                                                  0                                                                                                                                                                                                                                                                            \n",
       "\n",
       "   responses_10653,-99  \\\n",
       "0                    0   \n",
       "1                    0   \n",
       "2                    0   \n",
       "3                    0   \n",
       "4                    0   \n",
       "\n",
       "   responses_11271,Not having anyone to talk to about things. Not being able to spend time with like minded people.  Not sharing interests with anyone.  Not seeing relatives or friends.  \\\n",
       "0                                                  0                                                                                                                                        \n",
       "1                                                  0                                                                                                                                        \n",
       "2                                                  0                                                                                                                                        \n",
       "3                                                  0                                                                                                                                        \n",
       "4                                                  0                                                                                                                                        \n",
       "\n",
       "   responses_1149,being alone when you dont want to be. a feeling you cant escape  \\\n",
       "0                                                  0                                \n",
       "1                                                  0                                \n",
       "2                                                  0                                \n",
       "3                                                  0                                \n",
       "4                                                  0                                \n",
       "\n",
       "   responses_11889,-99  \\\n",
       "0                    0   \n",
       "1                    0   \n",
       "2                    0   \n",
       "3                    0   \n",
       "4                    0   \n",
       "\n",
       "   responses_12173,Not having another person to share things with or relate to.  Feeling other people have close friendships or relationships when I'm alone when I don't want to be.  \\\n",
       "0                                                  0                                                                                                                                    \n",
       "1                                                  0                                                                                                                                    \n",
       "2                                                  0                                                                                                                                    \n",
       "3                                                  0                                                                                                                                    \n",
       "4                                                  0                                                                                                                                    \n",
       "\n",
       "   ...  \\\n",
       "0  ...   \n",
       "1  ...   \n",
       "2  ...   \n",
       "3  ...   \n",
       "4  ...   \n",
       "\n",
       "   responses_6546,Loneliness means not having anyone who can understand where my life has taken me and how experiences have shaped me.  \\\n",
       "0                                                  0                                                                                     \n",
       "1                                                  0                                                                                     \n",
       "2                                                  0                                                                                     \n",
       "3                                                  0                                                                                     \n",
       "4                                                  0                                                                                     \n",
       "\n",
       "   responses_658,Unlikeable  \\\n",
       "0                         0   \n",
       "1                         0   \n",
       "2                         0   \n",
       "3                         0   \n",
       "4                         1   \n",
       "\n",
       "   responses_7811,Feeling unhappy. Alone. Un-cared about. Not liked. Feeling of not fitting in.  \\\n",
       "0                                                  0                                              \n",
       "1                                                  0                                              \n",
       "2                                                  0                                              \n",
       "3                                                  0                                              \n",
       "4                                                  0                                              \n",
       "\n",
       "   responses_8634,Being in a group of people with whom I have little or nothing in common. Feeling like an alien in a crowd.  \\\n",
       "0                                                  0                                                                           \n",
       "1                                                  0                                                                           \n",
       "2                                                  0                                                                           \n",
       "3                                                  0                                                                           \n",
       "4                                                  0                                                                           \n",
       "\n",
       "   responses_9089,\"Spending long periods of time on my own not talking to anyone accept my cat.  Not participating in things I would like to do because I don't want to do them on my own (for example going to the theatre, going on holiday but not in a group). Being a singleton at social events. \"  \\\n",
       "0                                                  0                                                                                                                                                                                                                                                       \n",
       "1                                                  0                                                                                                                                                                                                                                                       \n",
       "2                                                  0                                                                                                                                                                                                                                                       \n",
       "3                                                  0                                                                                                                                                                                                                                                       \n",
       "4                                                  0                                                                                                                                                                                                                                                       \n",
       "\n",
       "   responses_9193,-99  \\\n",
       "0                   0   \n",
       "1                   0   \n",
       "2                   0   \n",
       "3                   0   \n",
       "4                   0   \n",
       "\n",
       "   responses_9345,Lack of social interactions with people close to you.  \\\n",
       "0                                                  0                      \n",
       "1                                                  0                      \n",
       "2                                                  0                      \n",
       "3                                                  0                      \n",
       "4                                                  0                      \n",
       "\n",
       "   responses_9576,not having someone to come home to  \\\n",
       "0                                                  0   \n",
       "1                                                  0   \n",
       "2                                                  0   \n",
       "3                                                  0   \n",
       "4                                                  0   \n",
       "\n",
       "   responses_9979,\"I can only recall being truly lonely, for a protracted period of time, when I was living alone in London, a city I didn't know well, and where I had few friends. My husband had left me, and I was too proud to admit I was lonely. I sometimes stood at bus stops (when I had no need or desire to catch a bus) just in case somebody spoke to me. Now, in my seventies and widowed, I sometimes have lonely Saturdays and Sundays, but I have coping strategies now.\"  \\\n",
       "0                                                  0                                                                                                                                                                                                                                                                                                                                                                                                                                          \n",
       "1                                                  0                                                                                                                                                                                                                                                                                                                                                                                                                                          \n",
       "2                                                  0                                                                                                                                                                                                                                                                                                                                                                                                                                          \n",
       "3                                                  0                                                                                                                                                                                                                                                                                                                                                                                                                                          \n",
       "4                                                  0                                                                                                                                                                                                                                                                                                                                                                                                                                          \n",
       "\n",
       "   responses_Idme,Q9_Loneliness_Meaning_Qual  \n",
       "0                                          1  \n",
       "1                                          0  \n",
       "2                                          0  \n",
       "3                                          0  \n",
       "4                                          0  \n",
       "\n",
       "[5 rows x 113 columns]"
      ]
     },
     "execution_count": 327,
     "metadata": {},
     "output_type": "execute_result"
    }
   ],
   "source": [
    "new_raw_data.head()"
   ]
  },
  {
   "cell_type": "code",
   "execution_count": 328,
   "id": "eca7e4e5",
   "metadata": {},
   "outputs": [
    {
     "ename": "TypeError",
     "evalue": "fit() missing 1 required positional argument: 'X'",
     "output_type": "error",
     "traceback": [
      "\u001b[1;31m---------------------------------------------------------------------------\u001b[0m",
      "\u001b[1;31mTypeError\u001b[0m                                 Traceback (most recent call last)",
      "\u001b[1;32m<ipython-input-328-bb4e5d2f9466>\u001b[0m in \u001b[0;36m<module>\u001b[1;34m\u001b[0m\n\u001b[0;32m      3\u001b[0m \u001b[1;33m\u001b[0m\u001b[0m\n\u001b[0;32m      4\u001b[0m \u001b[0mkmeans\u001b[0m \u001b[1;33m=\u001b[0m \u001b[0mKMeans\u001b[0m\u001b[1;33m(\u001b[0m\u001b[0mn_clusters\u001b[0m\u001b[1;33m=\u001b[0m\u001b[1;36m5\u001b[0m\u001b[1;33m,\u001b[0m \u001b[0mrandom_state\u001b[0m\u001b[1;33m=\u001b[0m\u001b[1;36m111\u001b[0m\u001b[1;33m)\u001b[0m\u001b[1;33m\u001b[0m\u001b[1;33m\u001b[0m\u001b[0m\n\u001b[1;32m----> 5\u001b[1;33m \u001b[0mkmeans\u001b[0m \u001b[1;33m=\u001b[0m \u001b[0mKMeans\u001b[0m\u001b[1;33m.\u001b[0m\u001b[0mfit\u001b[0m\u001b[1;33m(\u001b[0m\u001b[0mX_train\u001b[0m\u001b[1;33m)\u001b[0m\u001b[1;33m\u001b[0m\u001b[1;33m\u001b[0m\u001b[0m\n\u001b[0m\u001b[0;32m      6\u001b[0m \u001b[1;33m\u001b[0m\u001b[0m\n\u001b[0;32m      7\u001b[0m \u001b[0mprint\u001b[0m \u001b[1;33m(\u001b[0m\u001b[1;34m'The clusters are: '\u001b[0m\u001b[1;33m,\u001b[0m \u001b[0mkmeans\u001b[0m\u001b[1;33m.\u001b[0m\u001b[0mnew_raw_data\u001b[0m\u001b[1;33m)\u001b[0m\u001b[1;33m\u001b[0m\u001b[1;33m\u001b[0m\u001b[0m\n",
      "\u001b[1;31mTypeError\u001b[0m: fit() missing 1 required positional argument: 'X'"
     ]
    }
   ],
   "source": [
    "from sklearn.cluster import KMeans\n",
    "X_train = new_raw_data\n",
    "\n",
    "kmeans = KMeans(n_clusters=5, random_state=111)\n",
    "kmeans = KMeans.fit(X_train)\n",
    "\n",
    "print ('The clusters are: ', kmeans.new_raw_data)"
   ]
  },
  {
   "cell_type": "code",
   "execution_count": null,
   "id": "57b421b7",
   "metadata": {},
   "outputs": [],
   "source": []
  },
  {
   "cell_type": "code",
   "execution_count": null,
   "id": "389a50b0",
   "metadata": {},
   "outputs": [],
   "source": []
  },
  {
   "cell_type": "code",
   "execution_count": null,
   "id": "c7a73a42",
   "metadata": {},
   "outputs": [],
   "source": []
  },
  {
   "cell_type": "code",
   "execution_count": null,
   "id": "5822e02e",
   "metadata": {},
   "outputs": [],
   "source": [
    "from sklearn.naive_bayes import MultinomialNB"
   ]
  },
  {
   "cell_type": "code",
   "execution_count": null,
   "id": "348d23dd",
   "metadata": {},
   "outputs": [],
   "source": [
    "loneliness_detect_model = MultinomialNB().fit(response_tfidf,response['responses'])"
   ]
  },
  {
   "cell_type": "code",
   "execution_count": null,
   "id": "92069f2d",
   "metadata": {},
   "outputs": [],
   "source": [
    "import numpy as np\n",
    "import matplotlib.pyplot as plt\n",
    "from sklearn.datasets import make_blobs"
   ]
  },
  {
   "cell_type": "code",
   "execution_count": null,
   "id": "6d66be06",
   "metadata": {},
   "outputs": [],
   "source": [
    "points = dataset[0]"
   ]
  },
  {
   "cell_type": "code",
   "execution_count": null,
   "id": "61d8d722",
   "metadata": {},
   "outputs": [],
   "source": [
    "from sklearn.cluster import KMeans"
   ]
  },
  {
   "cell_type": "code",
   "execution_count": null,
   "id": "b3eb55e8",
   "metadata": {},
   "outputs": [],
   "source": [
    "kmeans = KMeans(n_clusters=4)"
   ]
  },
  {
   "cell_type": "code",
   "execution_count": null,
   "id": "f634e2d8",
   "metadata": {},
   "outputs": [],
   "source": [
    "kmeans.fit(points)"
   ]
  },
  {
   "cell_type": "code",
   "execution_count": null,
   "id": "1a6b4b0b",
   "metadata": {},
   "outputs": [],
   "source": [
    "plt.scatter(dataset[0][:,0], dataset[0][:,1])"
   ]
  },
  {
   "cell_type": "code",
   "execution_count": null,
   "id": "db533645",
   "metadata": {},
   "outputs": [],
   "source": [
    "clusters = kmeans.cluster_centers_"
   ]
  },
  {
   "cell_type": "code",
   "execution_count": null,
   "id": "492001a2",
   "metadata": {},
   "outputs": [],
   "source": [
    "print (clusters)"
   ]
  },
  {
   "cell_type": "code",
   "execution_count": null,
   "id": "0287300a",
   "metadata": {},
   "outputs": [],
   "source": [
    "y_km = kmeans.fit_predict(points)"
   ]
  },
  {
   "cell_type": "code",
   "execution_count": null,
   "id": "3beaa30f",
   "metadata": {},
   "outputs": [],
   "source": [
    "plt.scatter(points[y_km ==0,0], points[y_km ==0,1], s=50, color='red')"
   ]
  },
  {
   "cell_type": "code",
   "execution_count": null,
   "id": "abf3146f",
   "metadata": {},
   "outputs": [],
   "source": [
    "# Another one\n",
    "\n"
   ]
  }
 ],
 "metadata": {
  "kernelspec": {
   "display_name": "Python 3",
   "language": "python",
   "name": "python3"
  },
  "language_info": {
   "codemirror_mode": {
    "name": "ipython",
    "version": 3
   },
   "file_extension": ".py",
   "mimetype": "text/x-python",
   "name": "python",
   "nbconvert_exporter": "python",
   "pygments_lexer": "ipython3",
   "version": "3.8.8"
  }
 },
 "nbformat": 4,
 "nbformat_minor": 5
}
