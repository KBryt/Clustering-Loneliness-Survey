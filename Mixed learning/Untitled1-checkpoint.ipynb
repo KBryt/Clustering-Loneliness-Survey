{
 "cells": [
  {
   "cell_type": "code",
   "execution_count": 1,
   "id": "6983d2a0",
   "metadata": {},
   "outputs": [],
   "source": [
    "import pandas as pd\n",
    "import numpy as np\n",
    "import matplotlib.pyplot as plt\n",
    "import seaborn as sns"
   ]
  },
  {
   "cell_type": "code",
   "execution_count": 2,
   "id": "6148313a",
   "metadata": {},
   "outputs": [],
   "source": [
    "from sklearn.linear_model import LogisticRegression\n",
    "from sklearn.neighbors import KNeighborsClassifier\n",
    "from sklearn.tree import DecisionTreeClassifier\n",
    "from sklearn.naive_bayes import GaussianNB,MultinomialNB\n",
    "from sklearn.metrics import accuracy_score,hamming_loss,classification_report\n",
    "\n",
    "\n",
    "### Split Dataset into Train and Text\n",
    "from sklearn.model_selection import train_test_split\n",
    "# Feature engineering\n",
    "from sklearn.feature_extraction.text import TfidfVectorizer"
   ]
  },
  {
   "cell_type": "code",
   "execution_count": 3,
   "id": "9b04cf14",
   "metadata": {},
   "outputs": [],
   "source": [
    "raw_data = pd.read_csv(\"C:\\\\Users\\BRIGHT\\\\Desktop\\\\caproject.csv\", \n",
    "                       names = ['Idme', 'Q9_Loneliness_Meaning_Qual'], sep=',')\n"
   ]
  },
  {
   "cell_type": "code",
   "execution_count": 4,
   "id": "7a76bb71",
   "metadata": {},
   "outputs": [],
   "source": [
    "data1 = raw_data.rename(columns = {'Q9_Loneliness_Meaning_Qual': 'response'})\n",
    "\n",
    "data2 = data1[data1['response'] != '-99']\n"
   ]
  },
  {
   "cell_type": "markdown",
   "id": "58a67b72",
   "metadata": {},
   "source": [
    "data2.dtypes"
   ]
  },
  {
   "cell_type": "code",
   "execution_count": 5,
   "id": "fb2500ee",
   "metadata": {},
   "outputs": [],
   "source": [
    "# Test preprocessing\n",
    "import neattext as nt\n",
    "import neattext.functions as nfx"
   ]
  },
  {
   "cell_type": "code",
   "execution_count": 6,
   "id": "4a53a6fb",
   "metadata": {},
   "outputs": [],
   "source": [
    "#+ neattext: remove_stopwords\n",
    "df1 = data2['response']\n"
   ]
  },
  {
   "cell_type": "code",
   "execution_count": 7,
   "id": "d871f61d",
   "metadata": {},
   "outputs": [],
   "source": [
    "df2 = data2['response'].apply(lambda x:nt.TextExtractor(str(x)).extract_stopwords())\n",
    "\n"
   ]
  },
  {
   "cell_type": "code",
   "execution_count": 8,
   "id": "9ee79855",
   "metadata": {},
   "outputs": [
    {
     "data": {
      "text/plain": [
       "Idme        object\n",
       "response    object\n",
       "dtype: object"
      ]
     },
     "execution_count": 8,
     "metadata": {},
     "output_type": "execute_result"
    }
   ],
   "source": [
    "data2.dtypes"
   ]
  },
  {
   "cell_type": "code",
   "execution_count": 9,
   "id": "120d7d35",
   "metadata": {},
   "outputs": [],
   "source": [
    "df_new = data2[data2['response'].notnull()]\n"
   ]
  },
  {
   "cell_type": "code",
   "execution_count": 10,
   "id": "cf83ac24",
   "metadata": {},
   "outputs": [],
   "source": [
    "df_new1 = df_new['response'].apply(nfx.remove_numbers)\n",
    "df_new2 = df_new1.apply(nfx.remove_emojis)\n",
    "df_new3 = df_new2.apply(nfx.remove_special_characters)\n",
    "corpus = df_new3.apply(nfx.remove_stopwords)\n",
    "\n"
   ]
  },
  {
   "cell_type": "code",
   "execution_count": 11,
   "id": "4479b71e",
   "metadata": {},
   "outputs": [],
   "source": [
    "\n",
    "tfidf = TfidfVectorizer()"
   ]
  },
  {
   "cell_type": "code",
   "execution_count": 12,
   "id": "70b1e60a",
   "metadata": {},
   "outputs": [],
   "source": [
    "Xfeatures = tfidf.fit_transform(corpus).toarray()\n"
   ]
  },
  {
   "cell_type": "code",
   "execution_count": 13,
   "id": "a4be298b",
   "metadata": {},
   "outputs": [],
   "source": [
    "\n",
    "from sklearn_extra.cluster import KMedoids\n",
    "import numpy as np"
   ]
  },
  {
   "cell_type": "code",
   "execution_count": null,
   "id": "b7ef5721",
   "metadata": {},
   "outputs": [],
   "source": [
    "X = Xfeatures\n",
    "kmedoids = KMedoids(n_clusters=20, init='heuristic', max_iter=30, random_state=None).fit(X)\n",
    "data2['Clusters'] = kmedoids.labels_\n"
   ]
  },
  {
   "cell_type": "markdown",
   "id": "a759dbe8",
   "metadata": {},
   "source": [
    "array([0, 0, 0, 1, 1, 1])\n",
    "kmedoids.predict([[0,0], [4,4]])\n",
    "array([0, 1])\n",
    "kmedoids.cluster_centers_\n",
    "array([[1, 2],\n",
    "       [4, 2]])\n",
    "kmedoids.inertia_\n",
    "8.0"
   ]
  },
  {
   "cell_type": "code",
   "execution_count": null,
   "id": "db545ed6",
   "metadata": {},
   "outputs": [],
   "source": [
    "data2.to_csv('Kmedoids.csv', index = False)"
   ]
  },
  {
   "cell_type": "code",
   "execution_count": null,
   "id": "32dfc11d",
   "metadata": {},
   "outputs": [],
   "source": []
  },
  {
   "cell_type": "code",
   "execution_count": null,
   "id": "fcf48fdf",
   "metadata": {},
   "outputs": [],
   "source": []
  },
  {
   "cell_type": "code",
   "execution_count": null,
   "id": "cb069d6f",
   "metadata": {},
   "outputs": [],
   "source": []
  },
  {
   "cell_type": "code",
   "execution_count": null,
   "id": "6c50369d",
   "metadata": {},
   "outputs": [],
   "source": [
    "docx.length"
   ]
  }
 ],
 "metadata": {
  "kernelspec": {
   "display_name": "Python 3",
   "language": "python",
   "name": "python3"
  },
  "language_info": {
   "codemirror_mode": {
    "name": "ipython",
    "version": 3
   },
   "file_extension": ".py",
   "mimetype": "text/x-python",
   "name": "python",
   "nbconvert_exporter": "python",
   "pygments_lexer": "ipython3",
   "version": "3.8.8"
  }
 },
 "nbformat": 4,
 "nbformat_minor": 5
}
