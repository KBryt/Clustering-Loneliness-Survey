{
 "cells": [
  {
   "cell_type": "code",
   "execution_count": 2,
   "id": "a655a527",
   "metadata": {},
   "outputs": [],
   "source": [
    "\n",
    "\n",
    "\n",
    "## Imports (code & data)\n",
    "\n",
    "import pandas as pd\n",
    "import yake\n",
    "import math\n",
    "import numpy as np\n",
    "\n",
    "\n",
    "raw_data = pd.read_csv(r'C:\\Users\\BRIGHT\\raw.csv')\n"
   ]
  },
  {
   "cell_type": "code",
   "execution_count": 3,
   "id": "d636d642",
   "metadata": {},
   "outputs": [],
   "source": [
    "# Renaming column\n",
    "\n",
    "raw_data = raw_data.rename(columns = {'Q9_Loneliness_Meaning_Qual': 'response'})"
   ]
  },
  {
   "cell_type": "code",
   "execution_count": 4,
   "id": "48000f8f",
   "metadata": {},
   "outputs": [],
   "source": [
    "clean_data = raw_data[raw_data['response'] != '-99']\n"
   ]
  },
  {
   "cell_type": "code",
   "execution_count": 5,
   "id": "aba738de",
   "metadata": {},
   "outputs": [
    {
     "name": "stderr",
     "output_type": "stream",
     "text": [
      "<ipython-input-5-1c5aab41cc2b>:1: SettingWithCopyWarning: \n",
      "A value is trying to be set on a copy of a slice from a DataFrame.\n",
      "Try using .loc[row_indexer,col_indexer] = value instead\n",
      "\n",
      "See the caveats in the documentation: https://pandas.pydata.org/pandas-docs/stable/user_guide/indexing.html#returning-a-view-versus-a-copy\n",
      "  clean_data['response'] = clean_data['response'].str.lower()\n",
      "<ipython-input-5-1c5aab41cc2b>:2: SettingWithCopyWarning: \n",
      "A value is trying to be set on a copy of a slice from a DataFrame.\n",
      "Try using .loc[row_indexer,col_indexer] = value instead\n",
      "\n",
      "See the caveats in the documentation: https://pandas.pydata.org/pandas-docs/stable/user_guide/indexing.html#returning-a-view-versus-a-copy\n",
      "  clean_data['response'] = clean_data['response'].str.replace('loneliness', '')\n",
      "<ipython-input-5-1c5aab41cc2b>:3: SettingWithCopyWarning: \n",
      "A value is trying to be set on a copy of a slice from a DataFrame.\n",
      "Try using .loc[row_indexer,col_indexer] = value instead\n",
      "\n",
      "See the caveats in the documentation: https://pandas.pydata.org/pandas-docs/stable/user_guide/indexing.html#returning-a-view-versus-a-copy\n",
      "  clean_data['response'] = clean_data['response'].str.replace('loneiness', '')\n",
      "<ipython-input-5-1c5aab41cc2b>:4: SettingWithCopyWarning: \n",
      "A value is trying to be set on a copy of a slice from a DataFrame.\n",
      "Try using .loc[row_indexer,col_indexer] = value instead\n",
      "\n",
      "See the caveats in the documentation: https://pandas.pydata.org/pandas-docs/stable/user_guide/indexing.html#returning-a-view-versus-a-copy\n",
      "  clean_data['response'] = clean_data['response'].str.replace('loneness', '')\n",
      "<ipython-input-5-1c5aab41cc2b>:5: SettingWithCopyWarning: \n",
      "A value is trying to be set on a copy of a slice from a DataFrame.\n",
      "Try using .loc[row_indexer,col_indexer] = value instead\n",
      "\n",
      "See the caveats in the documentation: https://pandas.pydata.org/pandas-docs/stable/user_guide/indexing.html#returning-a-view-versus-a-copy\n",
      "  clean_data['response'] = clean_data['response'].str.replace('aloneliness', '')\n",
      "<ipython-input-5-1c5aab41cc2b>:6: SettingWithCopyWarning: \n",
      "A value is trying to be set on a copy of a slice from a DataFrame.\n",
      "Try using .loc[row_indexer,col_indexer] = value instead\n",
      "\n",
      "See the caveats in the documentation: https://pandas.pydata.org/pandas-docs/stable/user_guide/indexing.html#returning-a-view-versus-a-copy\n",
      "  clean_data['response'] = clean_data['response'].str.replace('loneness', '')\n",
      "<ipython-input-5-1c5aab41cc2b>:7: SettingWithCopyWarning: \n",
      "A value is trying to be set on a copy of a slice from a DataFrame.\n",
      "Try using .loc[row_indexer,col_indexer] = value instead\n",
      "\n",
      "See the caveats in the documentation: https://pandas.pydata.org/pandas-docs/stable/user_guide/indexing.html#returning-a-view-versus-a-copy\n",
      "  clean_data['response'] = clean_data['response'].str.replace('/', ' ')\n",
      "<ipython-input-5-1c5aab41cc2b>:8: SettingWithCopyWarning: \n",
      "A value is trying to be set on a copy of a slice from a DataFrame.\n",
      "Try using .loc[row_indexer,col_indexer] = value instead\n",
      "\n",
      "See the caveats in the documentation: https://pandas.pydata.org/pandas-docs/stable/user_guide/indexing.html#returning-a-view-versus-a-copy\n",
      "  clean_data['response'] = clean_data['response'].str.replace('\\n', ' ')\n",
      "<ipython-input-5-1c5aab41cc2b>:9: FutureWarning: The default value of regex will change from True to False in a future version. In addition, single character regular expressions will*not* be treated as literal strings when regex=True.\n",
      "  clean_data['response'] = clean_data['response'].str.replace('.', '')\n",
      "<ipython-input-5-1c5aab41cc2b>:9: SettingWithCopyWarning: \n",
      "A value is trying to be set on a copy of a slice from a DataFrame.\n",
      "Try using .loc[row_indexer,col_indexer] = value instead\n",
      "\n",
      "See the caveats in the documentation: https://pandas.pydata.org/pandas-docs/stable/user_guide/indexing.html#returning-a-view-versus-a-copy\n",
      "  clean_data['response'] = clean_data['response'].str.replace('.', '')\n",
      "<ipython-input-5-1c5aab41cc2b>:10: SettingWithCopyWarning: \n",
      "A value is trying to be set on a copy of a slice from a DataFrame.\n",
      "Try using .loc[row_indexer,col_indexer] = value instead\n",
      "\n",
      "See the caveats in the documentation: https://pandas.pydata.org/pandas-docs/stable/user_guide/indexing.html#returning-a-view-versus-a-copy\n",
      "  clean_data['response'] = clean_data['response'].str.replace(',', '')\n"
     ]
    }
   ],
   "source": [
    "clean_data['response'] = clean_data['response'].str.lower()\n",
    "clean_data['response'] = clean_data['response'].str.replace('loneliness', '')\n",
    "clean_data['response'] = clean_data['response'].str.replace('loneiness', '')\n",
    "clean_data['response'] = clean_data['response'].str.replace('loneness', '')\n",
    "clean_data['response'] = clean_data['response'].str.replace('aloneliness', '')\n",
    "clean_data['response'] = clean_data['response'].str.replace('loneness', '')\n",
    "clean_data['response'] = clean_data['response'].str.replace('/', ' ')\n",
    "clean_data['response'] = clean_data['response'].str.replace('\\n', ' ')\n",
    "clean_data['response'] = clean_data['response'].str.replace('.', '')\n",
    "clean_data['response'] = clean_data['response'].str.replace(',', '')\n",
    "                                                            "
   ]
  },
  {
   "cell_type": "code",
   "execution_count": 8,
   "id": "f5cc532b",
   "metadata": {},
   "outputs": [
    {
     "name": "stderr",
     "output_type": "stream",
     "text": [
      "<ipython-input-8-d8ad44678df1>:25: SettingWithCopyWarning: \n",
      "A value is trying to be set on a copy of a slice from a DataFrame.\n",
      "Try using .loc[row_indexer,col_indexer] = value instead\n",
      "\n",
      "See the caveats in the documentation: https://pandas.pydata.org/pandas-docs/stable/user_guide/indexing.html#returning-a-view-versus-a-copy\n",
      "  clean_data['age_group'] = clean_data['age'].apply(getAnalysis)\n",
      "<ipython-input-8-d8ad44678df1>:28: SettingWithCopyWarning: \n",
      "A value is trying to be set on a copy of a slice from a DataFrame.\n",
      "Try using .loc[row_indexer,col_indexer] = value instead\n",
      "\n",
      "See the caveats in the documentation: https://pandas.pydata.org/pandas-docs/stable/user_guide/indexing.html#returning-a-view-versus-a-copy\n",
      "  clean_data['gender_cat'] = clean_data['gender'].apply(getAnalysis1)\n"
     ]
    }
   ],
   "source": [
    "def getAnalysis(score):\n",
    "    if score <= 19:\n",
    "        return '15-19'\n",
    "    elif score <=39:\n",
    "        return '20-39'\n",
    "    elif score <=49:\n",
    "        return '40-49'\n",
    "    elif score <=59:\n",
    "        return '50-59'\n",
    "    elif score <=69:\n",
    "        return '60-69'\n",
    "    else:\n",
    "        return '70 and above'\n",
    "    \n",
    "def getAnalysis1(score):\n",
    "    if score == 1:\n",
    "        return 'Male'\n",
    "    elif score ==2:\n",
    "        return 'Female'\n",
    "    elif score ==3:\n",
    "        return 'Others'\n",
    "    else:\n",
    "        return 'Prefer not to say'\n",
    "    \n",
    "clean_data['age_group'] = clean_data['age'].apply(getAnalysis)\n",
    "\n",
    "    \n",
    "clean_data['gender_cat'] = clean_data['gender'].apply(getAnalysis1)\n",
    "#clean_data.head()"
   ]
  },
  {
   "cell_type": "markdown",
   "id": "efa017df",
   "metadata": {},
   "source": [
    "import seaborn as sns\n",
    "from matplotlib import pyplot as plt\n",
    "features = ['age_group', 'gender_cat']\n",
    "\n",
    "for f in features:\n",
    "    sns.countplot(x = f, data = clean_data, palette = 'Set3')# hue = 'Good Loan')\n",
    "    plt.xticks(rotation=45)\n",
    "    plt.show()"
   ]
  },
  {
   "cell_type": "code",
   "execution_count": 12,
   "id": "e19822c7",
   "metadata": {},
   "outputs": [],
   "source": [
    "#teens = clean_data[clean_data.age_group == '15-19']\n",
    "youth = clean_data[clean_data.age_group == '20-39']\n",
    "ma_youth = clean_data[clean_data.age_group == '40-49']\n",
    "matured = clean_data[clean_data.age_group == '50-59']\n",
    "Retiring = clean_data[clean_data.age_group == '60-69']\n",
    "pension = clean_data[clean_data.age >= 60 ]\n",
    "\n"
   ]
  },
  {
   "cell_type": "code",
   "execution_count": 10,
   "id": "49e7952a",
   "metadata": {},
   "outputs": [
    {
     "data": {
      "text/plain": [
       "(6756, 6)"
      ]
     },
     "execution_count": 10,
     "metadata": {},
     "output_type": "execute_result"
    }
   ],
   "source": [
    "ma_youth.shape"
   ]
  },
  {
   "cell_type": "code",
   "execution_count": 15,
   "id": "a8318dfe",
   "metadata": {},
   "outputs": [
    {
     "data": {
      "text/plain": [
       "(7775, 6)"
      ]
     },
     "execution_count": 15,
     "metadata": {},
     "output_type": "execute_result"
    }
   ],
   "source": [
    "#matured.shape\n",
    "#youth.shape\n",
    "Retiring.shape\n",
    "#pension.shape"
   ]
  },
  {
   "cell_type": "code",
   "execution_count": 16,
   "id": "f3a5367b",
   "metadata": {},
   "outputs": [],
   "source": [
    "\n",
    "from sklearn.feature_extraction.text import TfidfVectorizer\n",
    "\n",
    "\n",
    "documents =ma_youth['response'].values.astype(\"U\")\n",
    "vectorizer = TfidfVectorizer(stop_words = ('english'))\n",
    "features = vectorizer.fit_transform(documents)\n",
    "\n",
    "documentsa =matured['response'].values.astype(\"U\")\n",
    "vectorizer = TfidfVectorizer(stop_words = ('english'))\n",
    "featuresa = vectorizer.fit_transform(documentsa)\n",
    "\n",
    "documentsb =Retiring['response'].values.astype(\"U\")\n",
    "vectorizer = TfidfVectorizer(stop_words = ('english'))\n",
    "featuresb = vectorizer.fit_transform(documentsb)\n",
    "\n",
    "documentsc =pension['response'].values.astype(\"U\")\n",
    "vectorizer = TfidfVectorizer(stop_words = ('english'))\n",
    "featuresc = vectorizer.fit_transform(documentsc)"
   ]
  },
  {
   "cell_type": "code",
   "execution_count": 17,
   "id": "664eaf7d",
   "metadata": {},
   "outputs": [],
   "source": [
    "from sklearn.decomposition import TruncatedSVD\n",
    "#from scipy.sparse import csr_matrix\n",
    "#import numpy as np\n",
    "#np.random.seed(0)\n",
    "#\n",
    "svd = TruncatedSVD(n_components=5, n_iter=7, random_state=42)\n",
    "T_SVD = svd.fit_transform(features)\n",
    "\n",
    "svd = TruncatedSVD(n_components=5, n_iter=7, random_state=42)\n",
    "T_SVDa = svd.fit_transform(featuresa)\n",
    "\n",
    "svd = TruncatedSVD(n_components=5, n_iter=7, random_state=42)\n",
    "T_SVDb = svd.fit_transform(featuresb)\n",
    "\n",
    "svd = TruncatedSVD(n_components=5, n_iter=7, random_state=42)\n",
    "T_SVDc = svd.fit_transform(featuresc)"
   ]
  },
  {
   "cell_type": "code",
   "execution_count": 18,
   "id": "a0735939",
   "metadata": {},
   "outputs": [],
   "source": [
    "import umap\n",
    "embeddings = umap.UMAP(n_neighbors=12,\n",
    "                      min_dist=0.3,\n",
    "                      metric='correlation').fit_transform(T_SVD)"
   ]
  },
  {
   "cell_type": "code",
   "execution_count": 22,
   "id": "faedcd84",
   "metadata": {},
   "outputs": [],
   "source": [
    "x_axis = [o[0] for o in embeddings]\n",
    "y_axis = [o[1] for o in embeddings]\n",
    "\n",
    "import matplotlib.pyplot as plt\n",
    "import matplotlib.gridspec as gridspec\n",
    "\n",
    "def drawTDAtutorial(embeddings, diagrams, R = 2):\n",
    "    fig, axes = plt.subplots(nrows=1, ncols=3,figsize = (20,5))\n",
    "\n",
    "    # Draw point cloud \n",
    "    plt.sca(axes[0])\n",
    "    plt.title('Point Cloud for Ma_Youth')\n",
    "    plt.scatter(x_axis, y_axis)\n",
    "\n",
    "    # Draw diagrams\n",
    "    plt.sca(axes[1])\n",
    "    plt.title('0-dim Diagram for Ma_Youth')\n",
    "    Draw.drawDgm(diagrams[0])\n",
    "\n",
    "    plt.sca(axes[2])\n",
    "    plt.title('1-dim Diagram for Ma_Youth')\n",
    "    Draw.drawDgm(diagrams[1])\n",
    "    plt.axis([0,R,0,R])"
   ]
  },
  {
   "cell_type": "code",
   "execution_count": 23,
   "id": "3cdf8709",
   "metadata": {},
   "outputs": [
    {
     "data": {
      "image/png": "[encoded data removed]",
      "text/plain": [
       "<Figure size 1440x360 with 3 Axes>"
      ]
     },
     "metadata": {
      "needs_background": "light"
     },
     "output_type": "display_data"
    }
   ],
   "source": [
    "import ripser\n",
    "import teaspoon.TDA.Draw as Draw\n",
    "diagrams = ripser.ripser(embeddings)['dgms']\n",
    "\n",
    "# Draw stuff\n",
    "drawTDAtutorial(embeddings,diagrams)"
   ]
  },
  {
   "cell_type": "code",
   "execution_count": 24,
   "id": "430dbffd",
   "metadata": {},
   "outputs": [],
   "source": [
    "import umap\n",
    "embeddingsa = umap.UMAP(n_neighbors=12,\n",
    "                      min_dist=0.3,\n",
    "                      metric='correlation').fit_transform(T_SVDa)"
   ]
  },
  {
   "cell_type": "code",
   "execution_count": 25,
   "id": "2d7afceb",
   "metadata": {},
   "outputs": [],
   "source": [
    "x_axis = [o[0] for o in embeddingsa]\n",
    "y_axis = [o[1] for o in embeddingsa]\n",
    "\n",
    "import matplotlib.pyplot as plt\n",
    "import matplotlib.gridspec as gridspec\n",
    "\n",
    "def drawTDAtutorial(embeddingsa, diagrams, R = 2):\n",
    "    fig, axes = plt.subplots(nrows=1, ncols=3,figsize = (20,5))\n",
    "\n",
    "    # Draw point cloud \n",
    "    plt.sca(axes[0])\n",
    "    plt.title('Point Cloud for Matured')\n",
    "    plt.scatter(x_axis, y_axis)\n",
    "\n",
    "    # Draw diagrams\n",
    "    plt.sca(axes[1])\n",
    "    plt.title('0-dim Diagram for Matured')\n",
    "    Draw.drawDgm(diagrams[0])\n",
    "\n",
    "    plt.sca(axes[2])\n",
    "    plt.title('1-dim Diagram for Matured')\n",
    "    Draw.drawDgm(diagrams[1])\n",
    "    plt.axis([0,R,0,R])"
   ]
  },
  {
   "cell_type": "code",
   "execution_count": 26,
   "id": "8259f5ca",
   "metadata": {},
   "outputs": [
    {
     "data": {
      "image/png": "[encoded data removed]",
      "text/plain": [
       "<Figure size 1440x360 with 3 Axes>"
      ]
     },
     "metadata": {
      "needs_background": "light"
     },
     "output_type": "display_data"
    }
   ],
   "source": [
    "import teaspoon.TDA.Draw as Draw\n",
    "diagrams = ripser.ripser(embeddingsa)['dgms']\n",
    "\n",
    "# Draw stuff\n",
    "drawTDAtutorial(embeddingsa,diagrams)"
   ]
  },
  {
   "cell_type": "code",
   "execution_count": 27,
   "id": "1e2f77f0",
   "metadata": {},
   "outputs": [],
   "source": [
    "import umap\n",
    "embeddingsb = umap.UMAP(n_neighbors=12,\n",
    "                      min_dist=0.3,\n",
    "                      metric='correlation').fit_transform(T_SVDb)"
   ]
  },
  {
   "cell_type": "code",
   "execution_count": 28,
   "id": "4cdaa3cd",
   "metadata": {},
   "outputs": [],
   "source": [
    "x_axis = [o[0] for o in embeddingsb]\n",
    "y_axis = [o[1] for o in embeddingsb]\n",
    "\n",
    "import matplotlib.pyplot as plt\n",
    "import matplotlib.gridspec as gridspec\n",
    "\n",
    "def drawTDAtutorial(embeddingsb, diagrams, R = 2):\n",
    "    fig, axes = plt.subplots(nrows=1, ncols=3,figsize = (20,5))\n",
    "\n",
    "    # Draw point cloud \n",
    "    plt.sca(axes[0])\n",
    "    plt.title('Point Cloud for Retiring')\n",
    "    plt.scatter(x_axis, y_axis)\n",
    "\n",
    "    # Draw diagrams\n",
    "    plt.sca(axes[1])\n",
    "    plt.title('0-dim Diagram for Retiring')\n",
    "    Draw.drawDgm(diagrams[0])\n",
    "\n",
    "    plt.sca(axes[2])\n",
    "    plt.title('1-dim Diagram for Retiring')\n",
    "    Draw.drawDgm(diagrams[1])\n",
    "    plt.axis([0,R,0,R])"
   ]
  },
  {
   "cell_type": "code",
   "execution_count": 29,
   "id": "0ae5ea74",
   "metadata": {},
   "outputs": [
    {
     "data": {
      "image/png": "[encoded data removed]",
      "text/plain": [
       "<Figure size 1440x360 with 3 Axes>"
      ]
     },
     "metadata": {
      "needs_background": "light"
     },
     "output_type": "display_data"
    }
   ],
   "source": [
    "import ripser\n",
    "diagrams = ripser.ripser(embeddingsb)['dgms']\n",
    "\n",
    "# Draw stuff\n",
    "drawTDAtutorial(embeddingsb,diagrams)"
   ]
  },
  {
   "cell_type": "code",
   "execution_count": 32,
   "id": "b8443323",
   "metadata": {},
   "outputs": [],
   "source": [
    "import umap\n",
    "embeddingsc = umap.UMAP(n_neighbors=12,\n",
    "                      min_dist=0.3,\n",
    "                      metric='correlation').fit_transform(T_SVDc)"
   ]
  },
  {
   "cell_type": "code",
   "execution_count": 33,
   "id": "a8298127",
   "metadata": {},
   "outputs": [],
   "source": [
    "x_axis = [o[0] for o in embeddingsc]\n",
    "y_axis = [o[1] for o in embeddingsc]\n",
    "\n",
    "import matplotlib.pyplot as plt\n",
    "import matplotlib.gridspec as gridspec\n",
    "\n",
    "def drawTDAtutorial(embeddingsc, diagrams, R = 2):\n",
    "    fig, axes = plt.subplots(nrows=1, ncols=3,figsize = (20,5))\n",
    "\n",
    "    # Draw point cloud \n",
    "    plt.sca(axes[0])\n",
    "    plt.title('Point Cloud for Pension')\n",
    "    plt.scatter(x_axis, y_axis)\n",
    "\n",
    "    # Draw diagrams\n",
    "    plt.sca(axes[1])\n",
    "    plt.title('0-dim Diagram for Pension')\n",
    "    Draw.drawDgm(diagrams[0])\n",
    "\n",
    "    plt.sca(axes[2])\n",
    "    plt.title('1-dim Diagram for Pension')\n",
    "    Draw.drawDgm(diagrams[1])\n",
    "    plt.axis([0,R,0,R])"
   ]
  },
  {
   "cell_type": "code",
   "execution_count": 34,
   "id": "44a0463e",
   "metadata": {},
   "outputs": [
    {
     "data": {
      "image/png": "[encoded data removed]",
      "text/plain": [
       "<Figure size 1440x360 with 3 Axes>"
      ]
     },
     "metadata": {
      "needs_background": "light"
     },
     "output_type": "display_data"
    }
   ],
   "source": [
    "import ripser\n",
    "diagrams = ripser.ripser(embeddingsc)['dgms'][]\n",
    "\n",
    "# Draw stuff\n",
    "drawTDAtutorial(embeddingsc,diagrams)"
   ]
  },
  {
   "cell_type": "code",
   "execution_count": null,
   "id": "7077fda9",
   "metadata": {},
   "outputs": [],
   "source": [
    "dgm_teens = ripser.ripser(data_clean)['dgms'][1]\n",
    "dgm_youth = ripser.ripser(data_noisy)['dgms'][1]\n",
    "dgm_ma_youth= ripser.ripser(data_clean)['dgms'][1]\n",
    "dgm_matured = ripser.ripser(data_noisy)['dgms'][1]\n",
    "dgm_Retiring = ripser.ripser(data_clean)['dgms'][1]\n",
    "dgm_pension = ripser.ripser(data_noisy)['dgms'][1]"
   ]
  },
  {
   "cell_type": "code",
   "execution_count": null,
   "id": "339b2ab2",
   "metadata": {},
   "outputs": [],
   "source": [
    "persim.plot_diagrams([dgm_clean, dgm_noisy] , labels=['Clean $H_1$', 'Noisy $H_1$'])\n",
    "plt.show()"
   ]
  },
  {
   "cell_type": "code",
   "execution_count": null,
   "id": "f3f6508a",
   "metadata": {},
   "outputs": [],
   "source": []
  },
  {
   "cell_type": "code",
   "execution_count": null,
   "id": "cabf3588",
   "metadata": {},
   "outputs": [],
   "source": [
    "import matplotlib.pyplot as plt\n",
    "plt.figure(figsize = (15,5))\n",
    "plt.scatter(T_SVD[:,0], T_SVD[:,1], label = 'P1')\n",
    "plt.scatter(T_SVDa[:,0],T_SVDa[:,1], label = 'P2')\n",
    "plt.scatter(T_SVDb[:,0],T_SVDb[:,1], label = 'P3')\n",
    "plt.scatter(T_SVDc[:,0],T_SVDc[:,1], label = 'P3')\n",
    "plt.axis('equal')\n",
    "plt.legend()"
   ]
  },
  {
   "cell_type": "code",
   "execution_count": null,
   "id": "0f664d82",
   "metadata": {},
   "outputs": [],
   "source": [
    "#--- this is the main persistence computation workhorse\n",
    "import ripser\n",
    "# from persim import plot_diagrams\n",
    "import persim\n",
    "\n",
    "diagrams1 = ripser.ripser(T_SVD)['dgms']\n",
    "\n",
    "\n",
    "\n",
    "\n"
   ]
  },
  {
   "cell_type": "code",
   "execution_count": null,
   "id": "1f8fc040",
   "metadata": {},
   "outputs": [],
   "source": []
  },
  {
   "cell_type": "code",
   "execution_count": null,
   "id": "e0a524f9",
   "metadata": {},
   "outputs": [],
   "source": [
    "drawTDAtutorial(,diagrams,R=2.5)"
   ]
  },
  {
   "cell_type": "code",
   "execution_count": null,
   "id": "525ea5a6",
   "metadata": {},
   "outputs": [],
   "source": [
    "diagrams2 = ripser.ripser(T_SVDa)['dgms']"
   ]
  },
  {
   "cell_type": "code",
   "execution_count": null,
   "id": "324c7d32",
   "metadata": {},
   "outputs": [],
   "source": [
    "\n",
    "diagrams3 = ripser.ripser(T_SVDb)['dgms']"
   ]
  },
  {
   "cell_type": "code",
   "execution_count": null,
   "id": "491b4df9",
   "metadata": {},
   "outputs": [],
   "source": [
    "Compute bottleneck distance using scikit-tda\n",
    "distance_bottleneck, (matching, D) = persim.bottleneck(diagrams1[1], diagrams2[1],  matching=True)\n",
    "persim.visuals.bottleneck_matching(diagrams1[1], diagrams2[1], matching, labels=['Clean $H_1$', 'Noisy $H_1$'])\n",
    "print('The bottleneck distance is', distance_bottleneck)\n",
    "# print(matching)\n",
    "# print(D)"
   ]
  },
  {
   "cell_type": "code",
   "execution_count": null,
   "id": "43f2b8cc",
   "metadata": {},
   "outputs": [],
   "source": [
    "\n",
    "diagrams3 = ripser.ripser(T_SVDb)['dgms']\n",
    "diagrams4 = ripser.ripser(T_SVDc)['dgms']"
   ]
  },
  {
   "cell_type": "markdown",
   "id": "17359c19",
   "metadata": {},
   "source": [
    "Draw.drawDgm(diagrams1[1])\n",
    "Draw.drawDgm(diagrams2[1])\n",
    "Draw.drawDgm(diagrams3[1])\n",
    "Draw.drawDgm(diagrams4[1])"
   ]
  },
  {
   "cell_type": "code",
   "execution_count": null,
   "id": "3b59c4ca",
   "metadata": {},
   "outputs": [],
   "source": [
    "import teaspoon.MakeData.PointCloud as makePtCloud\n",
    "r = 1\n",
    "R = 2\n",
    "P = makePtCloud.Annulus(embeddings, r=r, R=R, seed=None) # teaspoon data generation\n",
    "plt.scatter(P[:,0],P[:,1])\n",
    "# print(P)"
   ]
  },
  {
   "cell_type": "code",
   "execution_count": null,
   "id": "82deaa68",
   "metadata": {},
   "outputs": [],
   "source": [
    "#--- this is the main persistence computation workhorse\n",
    "import ripser\n",
    "# from persim import plot_diagrams\n",
    "import persim"
   ]
  },
  {
   "cell_type": "code",
   "execution_count": null,
   "id": "1c063dae",
   "metadata": {},
   "outputs": [],
   "source": [
    "import matplotlib.pyplot as plt\n",
    "\n",
    "x_axis = [o[0] for o in features.toarray()]\n",
    "y_axis = [o[1] for o in features.toarray()]\n",
    "\n",
    "\n"
   ]
  },
  {
   "cell_type": "code",
   "execution_count": null,
   "id": "389f8150",
   "metadata": {},
   "outputs": [],
   "source": [
    "import matplotlib.pyplot as plt\n",
    "import matplotlib.gridspec as gridspec\n",
    "\n",
    "def drawTDAtutorial(features, diagrams, R = 2):\n",
    "    fig, axes = plt.subplots(nrows=1, ncols=3,figsize = (20,5))\n",
    "\n",
    "    # Draw point cloud \n",
    "    plt.sca(axes[0])\n",
    "    plt.title('Point Cloud')\n",
    "    plt.scatter(x_axis, y_axis)\n",
    "\n",
    "    # Draw diagrams\n",
    "    plt.sca(axes[1])\n",
    "    plt.title('0-dim Diagram')\n",
    "    Draw.drawDgm(diagrams[0])\n",
    "\n",
    "    plt.sca(axes[2])\n",
    "    plt.title('1-dim Diagram')\n",
    "    Draw.drawDgm(diagrams[1])\n",
    "    plt.axis([0,R,0,R])"
   ]
  },
  {
   "cell_type": "code",
   "execution_count": null,
   "id": "03fe434c",
   "metadata": {},
   "outputs": [],
   "source": [
    "import teaspoon.TDA.Draw as Draw\n",
    "diagrams = ripser.ripser(features)['dgms']\n",
    "\n",
    "# Draw stuff\n",
    "drawTDAtutorial(features,diagrams)"
   ]
  },
  {
   "cell_type": "code",
   "execution_count": null,
   "id": "95a2d976",
   "metadata": {},
   "outputs": [],
   "source": [
    "kw_model.extract_keywords(words6, keyphrase_ngram_range=(3, 3), stop_words='english', \n",
    "                              use_maxsum=True, nr_candidates=20, top_n=5)"
   ]
  },
  {
   "cell_type": "code",
   "execution_count": null,
   "id": "4c75df8e",
   "metadata": {},
   "outputs": [],
   "source": [
    "kw_model.extract_keywords(words6, keyphrase_ngram_range=(1, 1))"
   ]
  },
  {
   "cell_type": "code",
   "execution_count": null,
   "id": "c611b5b5",
   "metadata": {},
   "outputs": [],
   "source": [
    "kw_model.extract_keywords(words6, keyphrase_ngram_range=(1, 2))"
   ]
  },
  {
   "cell_type": "code",
   "execution_count": null,
   "id": "5ca9a5c6",
   "metadata": {},
   "outputs": [],
   "source": [
    "keyy"
   ]
  },
  {
   "cell_type": "code",
   "execution_count": null,
   "id": "71136e25",
   "metadata": {},
   "outputs": [],
   "source": [
    "kw_model.extract_keywords(words6, keyphrase_ngram_range=(3, 3), stop_words='english', \n",
    "                              use_maxsum=True, nr_candidates=20, top_n=10)"
   ]
  },
  {
   "cell_type": "code",
   "execution_count": null,
   "id": "0853c5a8",
   "metadata": {},
   "outputs": [],
   "source": [
    "\n",
    "kw_model.extract_keywords(clean_data['response'], highlight=True)"
   ]
  },
  {
   "cell_type": "code",
   "execution_count": null,
   "id": "b2a585c9",
   "metadata": {},
   "outputs": [],
   "source": []
  },
  {
   "cell_type": "code",
   "execution_count": null,
   "id": "40ef66e0",
   "metadata": {},
   "outputs": [],
   "source": []
  },
  {
   "cell_type": "code",
   "execution_count": null,
   "id": "5f926cd4",
   "metadata": {},
   "outputs": [],
   "source": []
  },
  {
   "cell_type": "markdown",
   "id": "900afcf5",
   "metadata": {},
   "source": [
    "from os import path\n",
    "from PIL import Image\n",
    "from wordcloud import WordCloud, STOPWORDS, ImageColorGenerator\n",
    "%matplotlib inline\n",
    "\n",
    "import matplotlib\n",
    "import numpy as np\n",
    "import matplotlib.pyplot as plt\n",
    "import matplotlib.pyplot as plt\n",
    "\n",
    "\n",
    "wordcloud = WordCloud(max_font_size=30, max_words=30000, background_color=\"white\").generate(words6)\n",
    "plt.figure(figsize = (15, 15), facecolor = None)\n",
    "\n",
    "plt.imshow(wordcloud, interpolation=\"bilinear\")\n",
    "plt.axis(\"off\")\n",
    "plt.show()\n",
    "\n",
    "wordcloud.to_file('loneliness_wordcloud.png')"
   ]
  },
  {
   "cell_type": "markdown",
   "id": "869a6038",
   "metadata": {},
   "source": [
    " import yake\n",
    "kw_extractor = yake.KeywordExtractor()\n",
    "\n",
    "language = \"en\"\n",
    "max_ngram_size = 5\n",
    "deduplication_threshold = 0.9\n",
    "numOfKeywords = 10\n",
    "custom_kw_extractor = yake.KeywordExtractor(lan=language, n=max_ngram_size, dedupLim=deduplication_threshold, top=numOfKeywords, features=None)\n",
    "keywords = custom_kw_extractor.extract_keywords(words6)\n",
    "for kw in keywords:\n",
    "     print(kw)"
   ]
  },
  {
   "cell_type": "code",
   "execution_count": null,
   "id": "758f5cef",
   "metadata": {},
   "outputs": [],
   "source": [
    "import yake\n",
    "kw_extractor = yake.KeywordExtractor()\n",
    "\n",
    "language = \"en\"\n",
    "max_ngram_size = 1\n",
    "deduplication_threshold = 0.9\n",
    "numOfKeywords = 5\n",
    "custom_kw_extractor = yake.KeywordExtractor(lan=language, n=max_ngram_size, dedupLim=deduplication_threshold, top=numOfKeywords, features=None)\n",
    "keywords = custom_kw_extractor.extract_keywords(words6)\n",
    "for kw in keywords:\n",
    "     print(kw)"
   ]
  },
  {
   "cell_type": "code",
   "execution_count": null,
   "id": "cd2635c3",
   "metadata": {},
   "outputs": [],
   "source": [
    "features.shape"
   ]
  },
  {
   "cell_type": "code",
   "execution_count": null,
   "id": "737a3087",
   "metadata": {},
   "outputs": [],
   "source": [
    "from sklearn.decomposition import TruncatedSVD\n",
    "#from scipy.sparse import csr_matrix\n",
    "#import numpy as np\n",
    "#np.random.seed(0)\n",
    "#\n",
    "svd = TruncatedSVD(n_components=5, n_iter=7, random_state=42)\n",
    "T_SVD = svd.fit_transform(features)"
   ]
  },
  {
   "cell_type": "code",
   "execution_count": null,
   "id": "c2c90cf7",
   "metadata": {},
   "outputs": [],
   "source": [
    "T_SVD.shape"
   ]
  },
  {
   "cell_type": "code",
   "execution_count": null,
   "id": "3d34889b",
   "metadata": {},
   "outputs": [],
   "source": [
    "import matplotlib.pyplot as plt\n",
    "\n",
    "x_axis = [o[0] for o in T_SVD]\n",
    "y_axis = [o[1] for o in T_SVD]\n",
    "\n",
    "\n",
    "fig, ax = plt.subplots(figsize=(50, 50))\n",
    "\n",
    "ax.scatter(x_axis, y_axis, color = 'black', alpha = 0.5 )"
   ]
  },
  {
   "cell_type": "code",
   "execution_count": null,
   "id": "5b7f8801",
   "metadata": {},
   "outputs": [],
   "source": [
    "import numpy\n",
    "from sklearn.manifold import TSNE\n"
   ]
  },
  {
   "cell_type": "code",
   "execution_count": null,
   "id": "0410fd59",
   "metadata": {},
   "outputs": [],
   "source": [
    "tsne = TSNE(n_components=2, perplexity=20)\n",
    "data_2d = tsne.fit_transform(T_SVD)"
   ]
  },
  {
   "cell_type": "code",
   "execution_count": null,
   "id": "8db5f5a4",
   "metadata": {},
   "outputs": [],
   "source": [
    "\n",
    "from sklearn.cluster import DBSCAN\n",
    "from sklearn import metrics\n",
    "from sklearn.datasets import make_blobs\n",
    "from sklearn.preprocessing import StandardScaler"
   ]
  },
  {
   "cell_type": "code",
   "execution_count": null,
   "id": "a9e54808",
   "metadata": {},
   "outputs": [],
   "source": [
    "model= DBSCAN(eps = 0.7, min_samples = 25).fit(data_2d)"
   ]
  },
  {
   "cell_type": "code",
   "execution_count": null,
   "id": "da227077",
   "metadata": {},
   "outputs": [],
   "source": [
    "cluster = model.labels_"
   ]
  },
  {
   "cell_type": "code",
   "execution_count": null,
   "id": "43dd8524",
   "metadata": {},
   "outputs": [],
   "source": [
    "core_samples_mask = np.zeros_like(cluster, dtype=bool)\n",
    "core_samples_mask[model.core_sample_indices_] = True\n",
    "core_samples_mask"
   ]
  },
  {
   "cell_type": "code",
   "execution_count": null,
   "id": "731fc79f",
   "metadata": {},
   "outputs": [],
   "source": [
    "n_clusters_ = len(set(cluster)) - (1 if -1 in cluster else 0)\n",
    "n_noise_ = list(cluster).count(-1)"
   ]
  },
  {
   "cell_type": "code",
   "execution_count": null,
   "id": "57689271",
   "metadata": {},
   "outputs": [],
   "source": [
    "print(\"Estimated number of clusters: %d\" % n_clusters_)\n",
    "print(\"Estimated number of noise points: %d\" % n_noise_)"
   ]
  },
  {
   "cell_type": "code",
   "execution_count": null,
   "id": "292abe8e",
   "metadata": {},
   "outputs": [],
   "source": [
    "from sklearn.metrics import silhouette_score\n",
    "data_2d_cluster = (data_2d[\"cluster\"] >= 0)\n",
    "\n",
    "silhouette_score(data_2d_cluster[[x_axis, y_axis]], data_2d_cluster[(cluster)] )\n",
    "\n"
   ]
  },
  {
   "cell_type": "code",
   "execution_count": null,
   "id": "4d26952a",
   "metadata": {},
   "outputs": [],
   "source": [
    "x_axis = [o[0] for o in data_2d]\n",
    "y_axis = [o[1] for o in data_2d]\n"
   ]
  },
  {
   "cell_type": "code",
   "execution_count": null,
   "id": "c5f9847e",
   "metadata": {},
   "outputs": [],
   "source": [
    "n_noise_"
   ]
  },
  {
   "cell_type": "code",
   "execution_count": null,
   "id": "1a1da379",
   "metadata": {},
   "outputs": [],
   "source": [
    "\n",
    "x_axis = [o[0] for o in data_2d]\n",
    "y_axis = [o[1] for o in data_2d]\n",
    "\n",
    "\n",
    "fig, ax = plt.subplots(figsize=(50, 50))\n",
    "\n",
    "ax.scatter(x_axis, y_axis, color = 'black', alpha = 0.5 )"
   ]
  },
  {
   "cell_type": "code",
   "execution_count": null,
   "id": "db0bd186",
   "metadata": {},
   "outputs": [],
   "source": [
    "unique_labels = set(cluster)\n",
    "plt.figure(figsize=(30,30))\n",
    "\n",
    "colors = [plt.cm.Spectral(each) for each in np.linspace(0, 1, len(unique_labels))]\n",
    "for k, col in zip(unique_labels, colors):\n",
    "    if k == -1:\n",
    "        # Black used for noise.\n",
    "        col = [0, 0, 0, 1]\n",
    "\n",
    "    respondent_mask = cluster == k\n",
    "    \n",
    "    xy = data_2d[respondent_mask & core_samples_mask]\n",
    "    plt.plot(\n",
    "        xy[:, 0],\n",
    "        xy[:, 1],\n",
    "        \"o\",\n",
    "        markerfacecolor=tuple(col),\n",
    "        markeredgecolor=\"k\",\n",
    "        markersize=14,\n",
    "    )\n",
    "\n",
    "    xy = data_2d[respondent_mask & ~core_samples_mask]\n",
    "    plt.plot(\n",
    "        xy[:, 0],\n",
    "        xy[:, 1],\n",
    "        \"o\",\n",
    "        markerfacecolor=tuple(col),\n",
    "        markeredgecolor=\"k\",\n",
    "        markersize=6,\n",
    "    )\n",
    "\n",
    "plt.title(\"Estimated number of clusters: %d\" % n_clusters_)\n",
    "plt.show()"
   ]
  },
  {
   "cell_type": "markdown",
   "id": "e646df5e",
   "metadata": {},
   "source": [
    "from ggplot import *\n",
    "\n",
    "from sklearn.metrics import silhouette_score\n",
    "\n",
    "%matplotlib inline\n",
    "\n",
    "from pandas import Timestamp\n",
    "\n",
    "labslist = [\"Noise\"]\n",
    "labslist = labslist + [\"Cluster\" + str(i) for i in range(1, len(set(cluster)))]\n",
    "\n",
    "cluster = model.labels_\n",
    "\n",
    "x_axis = [o[0] for o in data_2d]\n",
    "y_axis = [o[1] for o in data_2d]\n",
    "\n",
    "\n",
    "ggplot(data_2d, aes(x_axis, y_axis, color = \"factor(cluster)\")) + geom_point() + theme_minimal()\n",
    "\n"
   ]
  },
  {
   "cell_type": "code",
   "execution_count": null,
   "id": "cc7fe893",
   "metadata": {},
   "outputs": [],
   "source": [
    "# Plot the points with colors\n",
    "plt.figure(figsize=(30,30))\n",
    "\n",
    "for k, col in zip(unique_labels, colors):\n",
    "    if k == -1:\n",
    "        # Black used for noise.\n",
    "        col = 'k'\n",
    "\n",
    "    class_member_mask = (cluster == k)\n",
    "   \n",
    "    # Plot the datapoints that are clustered\n",
    "    xy = data_2d[class_member_mask & core_samples_mask]\n",
    "    plt.scatter(xy[:, 0], xy[:, 1],s=50, c=[col], marker=u'o', alpha=0.2, )\n",
    "\n",
    "    # Plot the outliers\n",
    "    xy= data_2d[class_member_mask & ~core_samples_mask]\n",
    "    plt.scatter(xy[:, 0], xy[:, 1],s=50, c=[col], marker=u'o', alpha=0.2, )"
   ]
  },
  {
   "cell_type": "code",
   "execution_count": null,
   "id": "f8c7a9d0",
   "metadata": {},
   "outputs": [],
   "source": [
    "from sklearn import metrics\n",
    "from sklearn.datasets import make_blobs\n",
    "from sklearn.preprocessing import StandardScaler\n",
    "from sklearn.cluster import DBSCAN\n",
    "# Data viz\n",
    "from gtda.plotting import plot_point_cloud\n",
    "\n",
    "# TDA magic\n",
    "from gtda.mapper import (\n",
    "    CubicalCover,\n",
    "    make_mapper_pipeline,\n",
    "    Projection,\n",
    "    plot_static_mapper_graph,\n",
    "    plot_interactive_mapper_graph,\n",
    "    MapperInteractivePlotter\n",
    ")\n",
    "\n",
    "\n",
    "# Define cover\n",
    "cover = CubicalCover(n_intervals=10, overlap_frac=0.5)\n",
    "# Choose clustering algorithm – default is DBSCAN\n",
    "\n",
    "# Configure parallelism of clustering step\n",
    "n_jobs = 1\n",
    "\n",
    "# Initialise pipeline\n",
    "pipe = make_mapper_pipeline(\n",
    "    cover=cover,\n",
    "    clusterer=model,\n",
    "    verbose=False,\n",
    "    n_jobs=n_jobs,\n",
    ")\n",
    "\n"
   ]
  },
  {
   "cell_type": "code",
   "execution_count": null,
   "id": "6eff93e1",
   "metadata": {},
   "outputs": [],
   "source": [
    "fig = plot_static_mapper_graph(pipe, data_2d)\n",
    "fig.show(config={'scrollZoom': True})"
   ]
  },
  {
   "cell_type": "code",
   "execution_count": null,
   "id": "5f1a6fef",
   "metadata": {},
   "outputs": [],
   "source": [
    "from sklearn.metrics import silhouette_score\n",
    "data_2d_cluster = (data_2d[\"cluster\"] >= 0)\n",
    "\n",
    "silhouette_score(data_2d_cluster[[x_axis, y_axis]], data_2d_cluster[(cluster)] )\n"
   ]
  },
  {
   "cell_type": "code",
   "execution_count": null,
   "id": "7b44d46f",
   "metadata": {},
   "outputs": [],
   "source": [
    "model1= DBSCAN(eps = 0.6, min_samples = 25)\n",
    "cover = CubicalCover(n_intervals=10, overlap_frac=0.3)\n",
    "# Choose clustering algorithm – default is DBSCAN\n",
    "\n",
    "# Configure parallelism of clustering step\n",
    "n_jobs = 1\n",
    "\n",
    "# Initialise pipeline\n",
    "pipe = make_mapper_pipeline(\n",
    "    cover=cover,\n",
    "    clusterer=model1,\n",
    "    verbose=False,\n",
    "    n_jobs=n_jobs,\n",
    ")\n",
    "\n",
    "fig = plot_static_mapper_graph(pipe, data_2d)\n",
    "fig.show(config={'scrollZoom': False})"
   ]
  },
  {
   "cell_type": "code",
   "execution_count": null,
   "id": "b56785c8",
   "metadata": {},
   "outputs": [],
   "source": [
    "plot_interactive_mapper_graph(pipe, data_2d)\n",
    "\n"
   ]
  },
  {
   "cell_type": "code",
   "execution_count": null,
   "id": "d6185bc9",
   "metadata": {},
   "outputs": [],
   "source": [
    "\n",
    "# Create the plotter object\n",
    "MIP = MapperInteractivePlotter(pipe, data_2d)\n",
    "\n",
    "# Generate interactive widget\n",
    "MIP.plot(color_data=data_2d)"
   ]
  },
  {
   "cell_type": "code",
   "execution_count": null,
   "id": "604831c5",
   "metadata": {},
   "outputs": [],
   "source": [
    "print(\"Attributes created by `.plot` and updated during the interactive session:\\n\",\n",
    "      [attr for attr in dir(MIP) if attr.endswith(\"_\") and attr[0] != \"_\"])"
   ]
  },
  {
   "cell_type": "code",
   "execution_count": null,
   "id": "008f2372",
   "metadata": {},
   "outputs": [],
   "source": [
    "graph = pipe.fit_transform(data_2d)\n",
    "node_elements = graph.vs[\"node_elements\"]\n",
    "print(f\"There are {len(node_elements)} nodes.\\nThe first node consists of row indices {node_elements[0]}.\")"
   ]
  },
  {
   "cell_type": "code",
   "execution_count": null,
   "id": "f1aea2aa",
   "metadata": {},
   "outputs": [],
   "source": [
    "fig = plot_static_mapper_graph(\n",
    "    pipe, data_2d, node_color_statistic=np.arange(len(node_elements))\n",
    ")\n",
    "fig.show(config={'scrollZoom': True})"
   ]
  },
  {
   "cell_type": "code",
   "execution_count": null,
   "id": "99cb2e4b",
   "metadata": {},
   "outputs": [],
   "source": [
    "df = pd.DataFrame(data_2d, columns=[\"x\", \"y\"])\n",
    "df"
   ]
  },
  {
   "cell_type": "code",
   "execution_count": null,
   "id": "d7f95909",
   "metadata": {},
   "outputs": [],
   "source": [
    "pipe.set_params(filter_func=Projection(columns=[\"x\", \"y\"]));"
   ]
  },
  {
   "cell_type": "code",
   "execution_count": null,
   "id": "e6e5648e",
   "metadata": {},
   "outputs": [],
   "source": [
    "fig = plot_static_mapper_graph(pipe, df, color_data=df)\n",
    "fig.show(config={'scrollZoom': True})"
   ]
  },
  {
   "cell_type": "code",
   "execution_count": null,
   "id": "cba06407",
   "metadata": {},
   "outputs": [],
   "source": [
    "df[\"Circle\"] = df[\"x\"] ** 2 + df[\"y\"] ** 2 < 0.25\n",
    "df[\"Circle\"] = df[\"Circle\"].replace([False, True], [\"A\", \"B\"])"
   ]
  },
  {
   "cell_type": "code",
   "execution_count": null,
   "id": "640326c6",
   "metadata": {},
   "outputs": [],
   "source": [
    "color_data = pd.get_dummies(df[\"Circle\"], prefix=\"Circle\")\n",
    "\n",
    "fig = plot_static_mapper_graph(pipe, df[[\"x\", \"y\"]], color_data=color_data)\n",
    "fig.show(config={'scrollZoom': True})"
   ]
  },
  {
   "cell_type": "code",
   "execution_count": null,
   "id": "7f9cb6d8",
   "metadata": {},
   "outputs": [],
   "source": [
    "graph = pipe.fit_transform(df[[\"x\", \"y\"]])"
   ]
  },
  {
   "cell_type": "code",
   "execution_count": null,
   "id": "374f3c22",
   "metadata": {},
   "outputs": [],
   "source": [
    "graph.vs.attributes()"
   ]
  },
  {
   "cell_type": "code",
   "execution_count": null,
   "id": "21270214",
   "metadata": {},
   "outputs": [],
   "source": [
    "node_id = 0\n",
    "node_elements = graph.vs[\"node_elements\"]\n",
    "\n",
    "print(f\"\"\"\n",
    "Node ID: {node_id}\n",
    "Node elements: {node_elements[node_id]}\n",
    "Data points: {data_2d[node_elements[node_id]]}\n",
    "\"\"\")"
   ]
  },
  {
   "cell_type": "code",
   "execution_count": null,
   "id": "61d8a796",
   "metadata": {},
   "outputs": [],
   "source": [
    "filter_func = np.sum\n",
    "\n",
    "pipe = make_mapper_pipeline(\n",
    "    filter_func=filter_func,\n",
    "    cover=cover,\n",
    "    clusterer=model,\n",
    "    verbose=True,\n",
    "    n_jobs=n_jobs,\n",
    ")"
   ]
  },
  {
   "cell_type": "code",
   "execution_count": null,
   "id": "a22aaea8",
   "metadata": {},
   "outputs": [],
   "source": [
    "fig = plot_static_mapper_graph(pipe, data_2d)\n",
    "fig.show(config={'scrollZoom': True})"
   ]
  },
  {
   "cell_type": "code",
   "execution_count": null,
   "id": "37a6018c",
   "metadata": {},
   "outputs": [],
   "source": []
  },
  {
   "cell_type": "code",
   "execution_count": null,
   "id": "a087b2d4",
   "metadata": {},
   "outputs": [],
   "source": [
    "Newcluster = model.labels_\n",
    "Newcluster"
   ]
  },
  {
   "cell_type": "markdown",
   "id": "131b775c",
   "metadata": {},
   "source": [
    "k = 5\n",
    "order_centroids = model.cluster_centers_.argsort()[:, ::-1]\n",
    "terms = vectorizer.get_feature_names()\n",
    "\n",
    "for i in range(k):\n",
    "    print(\"Cluster %d:\" % i)\n",
    "    for j in order_centroids[i, :10]: #print out 10 feature terms of each cluster\n",
    "        print (' %s' % terms[j])\n",
    "    print('------------')"
   ]
  },
  {
   "cell_type": "code",
   "execution_count": null,
   "id": "da15be87",
   "metadata": {},
   "outputs": [],
   "source": [
    "raw_data['Clusters'] = hc.labels_"
   ]
  }
 ],
 "metadata": {
  "kernelspec": {
   "display_name": "Python 3",
   "language": "python",
   "name": "python3"
  },
  "language_info": {
   "codemirror_mode": {
    "name": "ipython",
    "version": 3
   },
   "file_extension": ".py",
   "mimetype": "text/x-python",
   "name": "python",
   "nbconvert_exporter": "python",
   "pygments_lexer": "ipython3",
   "version": "3.8.8"
  }
 },
 "nbformat": 4,
 "nbformat_minor": 5
}
