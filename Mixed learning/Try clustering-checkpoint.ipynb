{
 "cells": [
  {
   "cell_type": "code",
   "execution_count": 11,
   "id": "c926aa96",
   "metadata": {},
   "outputs": [],
   "source": [
    "import pandas as pd\n",
    "\n",
    "read_file = pd.read_excel (r'C:\\Users\\BRIGHT\\Desktop\\SUMMARY\\New1.xlsx')\n",
    "read_file.to_csv (r'C:\\Users\\BRIGHT\\Desktop\\SUMMARY\\New1.csv', index = None, header=True)"
   ]
  },
  {
   "cell_type": "code",
   "execution_count": 15,
   "id": "35a3e427",
   "metadata": {},
   "outputs": [
    {
     "ename": "FileNotFoundError",
     "evalue": "[Errno 2] No such file or directory: 'New2'",
     "output_type": "error",
     "traceback": [
      "\u001b[1;31m---------------------------------------------------------------------------\u001b[0m",
      "\u001b[1;31mFileNotFoundError\u001b[0m                         Traceback (most recent call last)",
      "\u001b[1;32m<ipython-input-15-b31fa1aa01f3>\u001b[0m in \u001b[0;36m<module>\u001b[1;34m\u001b[0m\n\u001b[1;32m----> 1\u001b[1;33m \u001b[0mresponses\u001b[0m \u001b[1;33m=\u001b[0m \u001b[1;33m[\u001b[0m\u001b[0mline\u001b[0m\u001b[1;33m.\u001b[0m\u001b[0mrstrip\u001b[0m\u001b[1;33m(\u001b[0m\u001b[1;33m)\u001b[0m \u001b[1;32mfor\u001b[0m \u001b[0mline\u001b[0m \u001b[1;32min\u001b[0m \u001b[0mopen\u001b[0m\u001b[1;33m(\u001b[0m\u001b[1;34m'New2'\u001b[0m\u001b[1;33m)\u001b[0m\u001b[1;33m]\u001b[0m\u001b[1;33m\u001b[0m\u001b[1;33m\u001b[0m\u001b[0m\n\u001b[0m",
      "\u001b[1;31mFileNotFoundError\u001b[0m: [Errno 2] No such file or directory: 'New2'"
     ]
    }
   ],
   "source": [
    "responses = [line.rstrip() for line in open('New2')]"
   ]
  },
  {
   "cell_type": "code",
   "execution_count": 17,
   "id": "430aea0c",
   "metadata": {},
   "outputs": [
    {
     "name": "stdout",
     "output_type": "stream",
     "text": [
      "      Idme                         Q9_Loneliness_Meaning_Qual\n",
      "0      237                                Makes me feel empty\n",
      "1      545  Not speaking to anyone for days. Being out wit...\n",
      "2      565  I am a very loving generous person but due to ...\n",
      "3      658                                         Unlikeable\n",
      "4     1044  Feeling like you aren't connected to the world...\n",
      "..     ...                                                ...\n",
      "106  23445  To be lonely is to yearn for the feeling of cl...\n",
      "107  23784  No one to communicate with. No close relations...\n",
      "108  23917   being lonely.  No one to care about my feelings!\n",
      "109  24354  Being unable to express how I feel to someone ...\n",
      "110  24356  To me, loneliness is a feeling rather than phy...\n",
      "\n",
      "[111 rows x 2 columns]\n"
     ]
    }
   ],
   "source": [
    "import pandas as pd\n",
    "df = pd.read_excel (r'C:\\Users\\BRIGHT\\Desktop\\SUMMARY\\New1.xlsx')\n",
    " #place \"r\" before the path string to address special character, such as '\\'. Don't forget to put the file name at the end of the path + '.xlsx'\n",
    "print (df)"
   ]
  },
  {
   "cell_type": "code",
   "execution_count": 20,
   "id": "acd869f1",
   "metadata": {},
   "outputs": [
    {
     "name": "stdout",
     "output_type": "stream",
     "text": [
      "111\n"
     ]
    }
   ],
   "source": [
    "print (len(df))"
   ]
  },
  {
   "cell_type": "code",
   "execution_count": 28,
   "id": "2241cd17",
   "metadata": {},
   "outputs": [],
   "source": [
    "response = pd.read_csv(r'C:\\Users\\BRIGHT\\Desktop\\SUMMARY\\New3.csv',\n",
    "                           sep='\\t',names=['responses'])"
   ]
  },
  {
   "cell_type": "code",
   "execution_count": 29,
   "id": "9f05066d",
   "metadata": {},
   "outputs": [
    {
     "data": {
      "text/html": [
       "<div>\n",
       "<style scoped>\n",
       "    .dataframe tbody tr th:only-of-type {\n",
       "        vertical-align: middle;\n",
       "    }\n",
       "\n",
       "    .dataframe tbody tr th {\n",
       "        vertical-align: top;\n",
       "    }\n",
       "\n",
       "    .dataframe thead th {\n",
       "        text-align: right;\n",
       "    }\n",
       "</style>\n",
       "<table border=\"1\" class=\"dataframe\">\n",
       "  <thead>\n",
       "    <tr style=\"text-align: right;\">\n",
       "      <th></th>\n",
       "      <th>responses</th>\n",
       "    </tr>\n",
       "  </thead>\n",
       "  <tbody>\n",
       "    <tr>\n",
       "      <th>0</th>\n",
       "      <td>Idme,Q9_Loneliness_Meaning_Qual</td>\n",
       "    </tr>\n",
       "    <tr>\n",
       "      <th>1</th>\n",
       "      <td>237,Makes me feel empty</td>\n",
       "    </tr>\n",
       "    <tr>\n",
       "      <th>2</th>\n",
       "      <td>545,Not speaking to anyone for days. Being out...</td>\n",
       "    </tr>\n",
       "    <tr>\n",
       "      <th>3</th>\n",
       "      <td>565,I am a very loving generous person but due...</td>\n",
       "    </tr>\n",
       "    <tr>\n",
       "      <th>4</th>\n",
       "      <td>658,Unlikeable</td>\n",
       "    </tr>\n",
       "  </tbody>\n",
       "</table>\n",
       "</div>"
      ],
      "text/plain": [
       "                                           responses\n",
       "0                    Idme,Q9_Loneliness_Meaning_Qual\n",
       "1                            237,Makes me feel empty\n",
       "2  545,Not speaking to anyone for days. Being out...\n",
       "3  565,I am a very loving generous person but due...\n",
       "4                                     658,Unlikeable"
      ]
     },
     "execution_count": 29,
     "metadata": {},
     "output_type": "execute_result"
    }
   ],
   "source": [
    "response.head()"
   ]
  },
  {
   "cell_type": "code",
   "execution_count": 30,
   "id": "f7933501",
   "metadata": {},
   "outputs": [
    {
     "data": {
      "text/html": [
       "<div>\n",
       "<style scoped>\n",
       "    .dataframe tbody tr th:only-of-type {\n",
       "        vertical-align: middle;\n",
       "    }\n",
       "\n",
       "    .dataframe tbody tr th {\n",
       "        vertical-align: top;\n",
       "    }\n",
       "\n",
       "    .dataframe thead th {\n",
       "        text-align: right;\n",
       "    }\n",
       "</style>\n",
       "<table border=\"1\" class=\"dataframe\">\n",
       "  <thead>\n",
       "    <tr style=\"text-align: right;\">\n",
       "      <th></th>\n",
       "      <th>responses</th>\n",
       "    </tr>\n",
       "  </thead>\n",
       "  <tbody>\n",
       "    <tr>\n",
       "      <th>count</th>\n",
       "      <td>112</td>\n",
       "    </tr>\n",
       "    <tr>\n",
       "      <th>unique</th>\n",
       "      <td>112</td>\n",
       "    </tr>\n",
       "    <tr>\n",
       "      <th>top</th>\n",
       "      <td>14890,Bored</td>\n",
       "    </tr>\n",
       "    <tr>\n",
       "      <th>freq</th>\n",
       "      <td>1</td>\n",
       "    </tr>\n",
       "  </tbody>\n",
       "</table>\n",
       "</div>"
      ],
      "text/plain": [
       "          responses\n",
       "count           112\n",
       "unique          112\n",
       "top     14890,Bored\n",
       "freq              1"
      ]
     },
     "execution_count": 30,
     "metadata": {},
     "output_type": "execute_result"
    }
   ],
   "source": [
    "response.describe()"
   ]
  },
  {
   "cell_type": "code",
   "execution_count": 31,
   "id": "d6cd74b3",
   "metadata": {},
   "outputs": [
    {
     "name": "stdout",
     "output_type": "stream",
     "text": [
      "<class 'pandas.core.frame.DataFrame'>\n",
      "RangeIndex: 112 entries, 0 to 111\n",
      "Data columns (total 1 columns):\n",
      " #   Column     Non-Null Count  Dtype \n",
      "---  ------     --------------  ----- \n",
      " 0   responses  112 non-null    object\n",
      "dtypes: object(1)\n",
      "memory usage: 1.0+ KB\n"
     ]
    }
   ],
   "source": [
    "response.info()"
   ]
  },
  {
   "cell_type": "code",
   "execution_count": 35,
   "id": "01318e87",
   "metadata": {},
   "outputs": [
    {
     "data": {
      "text/html": [
       "<div>\n",
       "<style scoped>\n",
       "    .dataframe tbody tr th:only-of-type {\n",
       "        vertical-align: middle;\n",
       "    }\n",
       "\n",
       "    .dataframe tbody tr th {\n",
       "        vertical-align: top;\n",
       "    }\n",
       "\n",
       "    .dataframe thead tr th {\n",
       "        text-align: left;\n",
       "    }\n",
       "\n",
       "    .dataframe thead tr:last-of-type th {\n",
       "        text-align: right;\n",
       "    }\n",
       "</style>\n",
       "<table border=\"1\" class=\"dataframe\">\n",
       "  <thead>\n",
       "    <tr>\n",
       "      <th></th>\n",
       "      <th colspan=\"8\" halign=\"left\">length</th>\n",
       "    </tr>\n",
       "    <tr>\n",
       "      <th></th>\n",
       "      <th>count</th>\n",
       "      <th>mean</th>\n",
       "      <th>std</th>\n",
       "      <th>min</th>\n",
       "      <th>25%</th>\n",
       "      <th>50%</th>\n",
       "      <th>75%</th>\n",
       "      <th>max</th>\n",
       "    </tr>\n",
       "    <tr>\n",
       "      <th>responses</th>\n",
       "      <th></th>\n",
       "      <th></th>\n",
       "      <th></th>\n",
       "      <th></th>\n",
       "      <th></th>\n",
       "      <th></th>\n",
       "      <th></th>\n",
       "      <th></th>\n",
       "    </tr>\n",
       "  </thead>\n",
       "  <tbody>\n",
       "    <tr>\n",
       "      <th>10037,Means not having someone to open up to and share things with.</th>\n",
       "      <td>1.0</td>\n",
       "      <td>67.0</td>\n",
       "      <td>NaN</td>\n",
       "      <td>67.0</td>\n",
       "      <td>67.0</td>\n",
       "      <td>67.0</td>\n",
       "      <td>67.0</td>\n",
       "      <td>67.0</td>\n",
       "    </tr>\n",
       "    <tr>\n",
       "      <th>10208,Not having anyone to talk to when in need</th>\n",
       "      <td>1.0</td>\n",
       "      <td>47.0</td>\n",
       "      <td>NaN</td>\n",
       "      <td>47.0</td>\n",
       "      <td>47.0</td>\n",
       "      <td>47.0</td>\n",
       "      <td>47.0</td>\n",
       "      <td>47.0</td>\n",
       "    </tr>\n",
       "    <tr>\n",
       "      <th>1044,\"Feeling like you aren't connected to the world, FOMO, having too much time to think by yourself\"</th>\n",
       "      <td>1.0</td>\n",
       "      <td>102.0</td>\n",
       "      <td>NaN</td>\n",
       "      <td>102.0</td>\n",
       "      <td>102.0</td>\n",
       "      <td>102.0</td>\n",
       "      <td>102.0</td>\n",
       "      <td>102.0</td>\n",
       "    </tr>\n",
       "    <tr>\n",
       "      <th>10487,\"I've thought about loneliness a lot over the past 15 months or so. I believe it results from a combination of personality or psychological problems, societal &amp; economic problems (financial pressure to overwork &amp; spend too much time commuting), and the existential nature of being a social animal.\"</th>\n",
       "      <td>1.0</td>\n",
       "      <td>304.0</td>\n",
       "      <td>NaN</td>\n",
       "      <td>304.0</td>\n",
       "      <td>304.0</td>\n",
       "      <td>304.0</td>\n",
       "      <td>304.0</td>\n",
       "      <td>304.0</td>\n",
       "    </tr>\n",
       "    <tr>\n",
       "      <th>10653,-99</th>\n",
       "      <td>1.0</td>\n",
       "      <td>9.0</td>\n",
       "      <td>NaN</td>\n",
       "      <td>9.0</td>\n",
       "      <td>9.0</td>\n",
       "      <td>9.0</td>\n",
       "      <td>9.0</td>\n",
       "      <td>9.0</td>\n",
       "    </tr>\n",
       "    <tr>\n",
       "      <th>...</th>\n",
       "      <td>...</td>\n",
       "      <td>...</td>\n",
       "      <td>...</td>\n",
       "      <td>...</td>\n",
       "      <td>...</td>\n",
       "      <td>...</td>\n",
       "      <td>...</td>\n",
       "      <td>...</td>\n",
       "    </tr>\n",
       "    <tr>\n",
       "      <th>9193,-99</th>\n",
       "      <td>1.0</td>\n",
       "      <td>8.0</td>\n",
       "      <td>NaN</td>\n",
       "      <td>8.0</td>\n",
       "      <td>8.0</td>\n",
       "      <td>8.0</td>\n",
       "      <td>8.0</td>\n",
       "      <td>8.0</td>\n",
       "    </tr>\n",
       "    <tr>\n",
       "      <th>9345,Lack of social interactions with people close to you.</th>\n",
       "      <td>1.0</td>\n",
       "      <td>58.0</td>\n",
       "      <td>NaN</td>\n",
       "      <td>58.0</td>\n",
       "      <td>58.0</td>\n",
       "      <td>58.0</td>\n",
       "      <td>58.0</td>\n",
       "      <td>58.0</td>\n",
       "    </tr>\n",
       "    <tr>\n",
       "      <th>9576,not having someone to come home to</th>\n",
       "      <td>1.0</td>\n",
       "      <td>39.0</td>\n",
       "      <td>NaN</td>\n",
       "      <td>39.0</td>\n",
       "      <td>39.0</td>\n",
       "      <td>39.0</td>\n",
       "      <td>39.0</td>\n",
       "      <td>39.0</td>\n",
       "    </tr>\n",
       "    <tr>\n",
       "      <th>9979,\"I can only recall being truly lonely, for a protracted period of time, when I was living alone in London, a city I didn't know well, and where I had few friends. My husband had left me, and I was too proud to admit I was lonely. I sometimes stood at bus stops (when I had no need or desire to catch a bus) just in case somebody spoke to me. Now, in my seventies and widowed, I sometimes have lonely Saturdays and Sundays, but I have coping strategies now.\"</th>\n",
       "      <td>1.0</td>\n",
       "      <td>462.0</td>\n",
       "      <td>NaN</td>\n",
       "      <td>462.0</td>\n",
       "      <td>462.0</td>\n",
       "      <td>462.0</td>\n",
       "      <td>462.0</td>\n",
       "      <td>462.0</td>\n",
       "    </tr>\n",
       "    <tr>\n",
       "      <th>Idme,Q9_Loneliness_Meaning_Qual</th>\n",
       "      <td>1.0</td>\n",
       "      <td>31.0</td>\n",
       "      <td>NaN</td>\n",
       "      <td>31.0</td>\n",
       "      <td>31.0</td>\n",
       "      <td>31.0</td>\n",
       "      <td>31.0</td>\n",
       "      <td>31.0</td>\n",
       "    </tr>\n",
       "  </tbody>\n",
       "</table>\n",
       "<p>112 rows × 8 columns</p>\n",
       "</div>"
      ],
      "text/plain": [
       "                                                   length                    \\\n",
       "                                                    count   mean std    min   \n",
       "responses                                                                     \n",
       "10037,Means not having someone to open up to an...    1.0   67.0 NaN   67.0   \n",
       "10208,Not having anyone to talk to when in need       1.0   47.0 NaN   47.0   \n",
       "1044,\"Feeling like you aren't connected to the ...    1.0  102.0 NaN  102.0   \n",
       "10487,\"I've thought about loneliness a lot over...    1.0  304.0 NaN  304.0   \n",
       "10653,-99                                             1.0    9.0 NaN    9.0   \n",
       "...                                                   ...    ...  ..    ...   \n",
       "9193,-99                                              1.0    8.0 NaN    8.0   \n",
       "9345,Lack of social interactions with people cl...    1.0   58.0 NaN   58.0   \n",
       "9576,not having someone to come home to               1.0   39.0 NaN   39.0   \n",
       "9979,\"I can only recall being truly lonely, for...    1.0  462.0 NaN  462.0   \n",
       "Idme,Q9_Loneliness_Meaning_Qual                       1.0   31.0 NaN   31.0   \n",
       "\n",
       "                                                                                \n",
       "                                                      25%    50%    75%    max  \n",
       "responses                                                                       \n",
       "10037,Means not having someone to open up to an...   67.0   67.0   67.0   67.0  \n",
       "10208,Not having anyone to talk to when in need      47.0   47.0   47.0   47.0  \n",
       "1044,\"Feeling like you aren't connected to the ...  102.0  102.0  102.0  102.0  \n",
       "10487,\"I've thought about loneliness a lot over...  304.0  304.0  304.0  304.0  \n",
       "10653,-99                                             9.0    9.0    9.0    9.0  \n",
       "...                                                   ...    ...    ...    ...  \n",
       "9193,-99                                              8.0    8.0    8.0    8.0  \n",
       "9345,Lack of social interactions with people cl...   58.0   58.0   58.0   58.0  \n",
       "9576,not having someone to come home to              39.0   39.0   39.0   39.0  \n",
       "9979,\"I can only recall being truly lonely, for...  462.0  462.0  462.0  462.0  \n",
       "Idme,Q9_Loneliness_Meaning_Qual                      31.0   31.0   31.0   31.0  \n",
       "\n",
       "[112 rows x 8 columns]"
      ]
     },
     "execution_count": 35,
     "metadata": {},
     "output_type": "execute_result"
    }
   ],
   "source": [
    "response.groupby('responses').describe()"
   ]
  },
  {
   "cell_type": "code",
   "execution_count": 36,
   "id": "44b4065d",
   "metadata": {},
   "outputs": [
    {
     "data": {
      "text/plain": [
       "<bound method NDFrame.head of                                              responses  length\n",
       "0                      Idme,Q9_Loneliness_Meaning_Qual      31\n",
       "1                              237,Makes me feel empty      23\n",
       "2    545,Not speaking to anyone for days. Being out...     340\n",
       "3    565,I am a very loving generous person but due...     315\n",
       "4                                       658,Unlikeable      14\n",
       "..                                                 ...     ...\n",
       "107  23445,To be lonely is to yearn for the feeling...      92\n",
       "108  23784,No one to communicate with. No close rel...      78\n",
       "109  23917,being lonely.  No one to care about my f...      54\n",
       "110  24354,Being unable to express how I feel to so...     175\n",
       "111  24356,\"To me, loneliness is a feeling rather t...     466\n",
       "\n",
       "[112 rows x 2 columns]>"
      ]
     },
     "execution_count": 36,
     "metadata": {},
     "output_type": "execute_result"
    }
   ],
   "source": [
    "response['length'] = response['responses'].apply(len)\n",
    "response.head"
   ]
  },
  {
   "cell_type": "code",
   "execution_count": 38,
   "id": "99222eae",
   "metadata": {},
   "outputs": [],
   "source": [
    "import matplotlib.pyplot as plt\n",
    "import seaborn as sns\n",
    "\n",
    "%matplotlib inline"
   ]
  },
  {
   "cell_type": "raw",
   "id": "b149f1f7",
   "metadata": {},
   "source": []
  }
 ],
 "metadata": {
  "kernelspec": {
   "display_name": "Python 3",
   "language": "python",
   "name": "python3"
  },
  "language_info": {
   "codemirror_mode": {
    "name": "ipython",
    "version": 3
   },
   "file_extension": ".py",
   "mimetype": "text/x-python",
   "name": "python",
   "nbconvert_exporter": "python",
   "pygments_lexer": "ipython3",
   "version": "3.8.8"
  }
 },
 "nbformat": 4,
 "nbformat_minor": 5
}
