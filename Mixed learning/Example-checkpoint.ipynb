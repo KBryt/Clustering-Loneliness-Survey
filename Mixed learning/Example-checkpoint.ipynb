{
 "cells": [
  {
   "cell_type": "code",
   "execution_count": 91,
   "id": "42432ffb",
   "metadata": {},
   "outputs": [],
   "source": [
    "import pandas as pd\n",
    "import numpy as np\n",
    "\n",
    "raw_data = pd.read_csv('C:\\\\Users\\\\BRIGHT\\\\raw_data.csv')"
   ]
  },
  {
   "cell_type": "code",
   "execution_count": 92,
   "id": "e746e845",
   "metadata": {},
   "outputs": [
    {
     "name": "stdout",
     "output_type": "stream",
     "text": [
      "(96, 1)\n"
     ]
    }
   ],
   "source": [
    "print (raw_data.shape)"
   ]
  },
  {
   "cell_type": "code",
   "execution_count": 93,
   "id": "85cd8882",
   "metadata": {},
   "outputs": [
    {
     "data": {
      "text/html": [
       "<div>\n",
       "<style scoped>\n",
       "    .dataframe tbody tr th:only-of-type {\n",
       "        vertical-align: middle;\n",
       "    }\n",
       "\n",
       "    .dataframe tbody tr th {\n",
       "        vertical-align: top;\n",
       "    }\n",
       "\n",
       "    .dataframe thead th {\n",
       "        text-align: right;\n",
       "    }\n",
       "</style>\n",
       "<table border=\"1\" class=\"dataframe\">\n",
       "  <thead>\n",
       "    <tr style=\"text-align: right;\">\n",
       "      <th></th>\n",
       "      <th>Q9_Loneliness_Meaning_Qual</th>\n",
       "    </tr>\n",
       "  </thead>\n",
       "  <tbody>\n",
       "    <tr>\n",
       "      <th>0</th>\n",
       "      <td>Makes me feel empty</td>\n",
       "    </tr>\n",
       "    <tr>\n",
       "      <th>1</th>\n",
       "      <td>Not speaking to anyone for days. Being out wit...</td>\n",
       "    </tr>\n",
       "    <tr>\n",
       "      <th>2</th>\n",
       "      <td>I am a very loving generous person but due to ...</td>\n",
       "    </tr>\n",
       "    <tr>\n",
       "      <th>3</th>\n",
       "      <td>Unlikeable</td>\n",
       "    </tr>\n",
       "    <tr>\n",
       "      <th>4</th>\n",
       "      <td>Feeling like you aren't connected to the world...</td>\n",
       "    </tr>\n",
       "  </tbody>\n",
       "</table>\n",
       "</div>"
      ],
      "text/plain": [
       "                          Q9_Loneliness_Meaning_Qual\n",
       "0                                Makes me feel empty\n",
       "1  Not speaking to anyone for days. Being out wit...\n",
       "2  I am a very loving generous person but due to ...\n",
       "3                                         Unlikeable\n",
       "4  Feeling like you aren't connected to the world..."
      ]
     },
     "execution_count": 93,
     "metadata": {},
     "output_type": "execute_result"
    }
   ],
   "source": [
    "raw_data.head()"
   ]
  },
  {
   "cell_type": "code",
   "execution_count": 94,
   "id": "e9a832df",
   "metadata": {},
   "outputs": [
    {
     "data": {
      "text/plain": [
       "Q9_Loneliness_Meaning_Qual    0\n",
       "dtype: int64"
      ]
     },
     "execution_count": 94,
     "metadata": {},
     "output_type": "execute_result"
    }
   ],
   "source": [
    "# Check for null values\n",
    "\n",
    "raw_data.isnull().sum()"
   ]
  },
  {
   "cell_type": "code",
   "execution_count": 95,
   "id": "a7cffc7e",
   "metadata": {},
   "outputs": [
    {
     "name": "stdout",
     "output_type": "stream",
     "text": [
      "The number of values for features Q9_Loneliness_Meaning_Qual :96\n"
     ]
    }
   ],
   "source": [
    "for column in raw_data:\n",
    "    unique_vals = np.unique(raw_data[column])\n",
    "    nr_values = len(unique_vals)\n",
    "    if nr_values < 2:\n",
    "        print('The number of values for features {} :{} --{}'.format(column,nr_values, unique_vals))\n",
    "    else:\n",
    "        print('The number of values for features {} :{}'.format(column,nr_values))"
   ]
  },
  {
   "cell_type": "code",
   "execution_count": 96,
   "id": "cc0157c0",
   "metadata": {},
   "outputs": [
    {
     "data": {
      "text/plain": [
       "Index(['Q9_Loneliness_Meaning_Qual'], dtype='object')"
      ]
     },
     "execution_count": 96,
     "metadata": {},
     "output_type": "execute_result"
    }
   ],
   "source": [
    "raw_data.columns"
   ]
  },
  {
   "cell_type": "code",
   "execution_count": 97,
   "id": "81744ed8",
   "metadata": {},
   "outputs": [],
   "source": [
    "import matplotlib.pyplot as plt\n",
    "import seaborn as sns\n",
    "\n",
    "%matplotlib inline\n",
    "\n",
    "#features = labels['Idme', 'Q9_Loneliness_Meaning_Qual']\n",
    "\n"
   ]
  },
  {
   "cell_type": "code",
   "execution_count": 98,
   "id": "66fec828",
   "metadata": {},
   "outputs": [
    {
     "name": "stdout",
     "output_type": "stream",
     "text": [
      "(96, 1)\n"
     ]
    },
    {
     "data": {
      "text/html": [
       "<div>\n",
       "<style scoped>\n",
       "    .dataframe tbody tr th:only-of-type {\n",
       "        vertical-align: middle;\n",
       "    }\n",
       "\n",
       "    .dataframe tbody tr th {\n",
       "        vertical-align: top;\n",
       "    }\n",
       "\n",
       "    .dataframe thead th {\n",
       "        text-align: right;\n",
       "    }\n",
       "</style>\n",
       "<table border=\"1\" class=\"dataframe\">\n",
       "  <thead>\n",
       "    <tr style=\"text-align: right;\">\n",
       "      <th></th>\n",
       "      <th>Q9_Loneliness_Meaning_Qual_'@home and @work was married for 29 years still felt lonely and now she has homemade for younger man left me totally devested</th>\n",
       "      <th>Q9_Loneliness_Meaning_Qual_A general sadness. A desire to be liked and loved which is not being met. I???m a very sociable person so when I am alone for longer periods that can get me down. Sometimes you don???t want to keep reaching out to your friends for company in case you come across as a bit desperate or needy, as that may put them off hanging out with you</th>\n",
       "      <th>Q9_Loneliness_Meaning_Qual_Absence or loss of connection. Not having someone to tell exciting or upsetting news to. The  absence of someone to show curiosity or concern about the events of my life. Having no one to call upon for taking part in a social event. Having no one to offer advice. Feeling excluded from those in close proximity.  Being rejected by people whom you feel aligned with. Spending time alone when you desire to feel connected. Having no one to be intimate with, either physically or emotionally.  The absence of another person who understands your circumstances or struggle.</th>\n",
       "      <th>Q9_Loneliness_Meaning_Qual_As if nobody cares. Nobody can help you. Nobody understands. Feeling like i can???t be with people.</th>\n",
       "      <th>Q9_Loneliness_Meaning_Qual_Being in a group of people with whom I have little or nothing in common. Feeling like an alien in a crowd.</th>\n",
       "      <th>Q9_Loneliness_Meaning_Qual_Being lonely is not the same as being alone.  I like to spend time alone but I don't like to be lonely. Loneliness means lack of connection with other people and can occur when alone or in company.</th>\n",
       "      <th>Q9_Loneliness_Meaning_Qual_Being unable to express how I feel to someone and feel that they care - having the option to talk to anyone and yet feeling like I can't because they wouldn't understand</th>\n",
       "      <th>Q9_Loneliness_Meaning_Qual_Being without contact with other people</th>\n",
       "      <th>Q9_Loneliness_Meaning_Qual_Bored</th>\n",
       "      <th>Q9_Loneliness_Meaning_Qual_Everyone I relied on for companionship  is dead</th>\n",
       "      <th>...</th>\n",
       "      <th>Q9_Loneliness_Meaning_Qual_feeling like you're the only one not invited to the party</th>\n",
       "      <th>Q9_Loneliness_Meaning_Qual_having no one to be with/ to care about you/to meet up spontanously for a coffee</th>\n",
       "      <th>Q9_Loneliness_Meaning_Qual_isolation, inability to cope</th>\n",
       "      <th>Q9_Loneliness_Meaning_Qual_no one to talk to. isolation. cut off. lack of affection. unconnected.</th>\n",
       "      <th>Q9_Loneliness_Meaning_Qual_not belonging. not feeling acknowledged. when alone at certain times eg bank holidays</th>\n",
       "      <th>Q9_Loneliness_Meaning_Qual_not having someone to come home to</th>\n",
       "      <th>Q9_Loneliness_Meaning_Qual_not having someone to talk to</th>\n",
       "      <th>Q9_Loneliness_Meaning_Qual_not talking to someone, no support, alone with my thoughts and ideas, alone on activities</th>\n",
       "      <th>Q9_Loneliness_Meaning_Qual_not to be understood, feeling apart even with them together</th>\n",
       "      <th>Q9_Loneliness_Meaning_Qual_sadness, depression, wasting time.</th>\n",
       "    </tr>\n",
       "  </thead>\n",
       "  <tbody>\n",
       "    <tr>\n",
       "      <th>0</th>\n",
       "      <td>0</td>\n",
       "      <td>0</td>\n",
       "      <td>0</td>\n",
       "      <td>0</td>\n",
       "      <td>0</td>\n",
       "      <td>0</td>\n",
       "      <td>0</td>\n",
       "      <td>0</td>\n",
       "      <td>0</td>\n",
       "      <td>0</td>\n",
       "      <td>...</td>\n",
       "      <td>0</td>\n",
       "      <td>0</td>\n",
       "      <td>0</td>\n",
       "      <td>0</td>\n",
       "      <td>0</td>\n",
       "      <td>0</td>\n",
       "      <td>0</td>\n",
       "      <td>0</td>\n",
       "      <td>0</td>\n",
       "      <td>0</td>\n",
       "    </tr>\n",
       "    <tr>\n",
       "      <th>1</th>\n",
       "      <td>0</td>\n",
       "      <td>0</td>\n",
       "      <td>0</td>\n",
       "      <td>0</td>\n",
       "      <td>0</td>\n",
       "      <td>0</td>\n",
       "      <td>0</td>\n",
       "      <td>0</td>\n",
       "      <td>0</td>\n",
       "      <td>0</td>\n",
       "      <td>...</td>\n",
       "      <td>0</td>\n",
       "      <td>0</td>\n",
       "      <td>0</td>\n",
       "      <td>0</td>\n",
       "      <td>0</td>\n",
       "      <td>0</td>\n",
       "      <td>0</td>\n",
       "      <td>0</td>\n",
       "      <td>0</td>\n",
       "      <td>0</td>\n",
       "    </tr>\n",
       "    <tr>\n",
       "      <th>2</th>\n",
       "      <td>0</td>\n",
       "      <td>0</td>\n",
       "      <td>0</td>\n",
       "      <td>0</td>\n",
       "      <td>0</td>\n",
       "      <td>0</td>\n",
       "      <td>0</td>\n",
       "      <td>0</td>\n",
       "      <td>0</td>\n",
       "      <td>0</td>\n",
       "      <td>...</td>\n",
       "      <td>0</td>\n",
       "      <td>0</td>\n",
       "      <td>0</td>\n",
       "      <td>0</td>\n",
       "      <td>0</td>\n",
       "      <td>0</td>\n",
       "      <td>0</td>\n",
       "      <td>0</td>\n",
       "      <td>0</td>\n",
       "      <td>0</td>\n",
       "    </tr>\n",
       "    <tr>\n",
       "      <th>3</th>\n",
       "      <td>0</td>\n",
       "      <td>0</td>\n",
       "      <td>0</td>\n",
       "      <td>0</td>\n",
       "      <td>0</td>\n",
       "      <td>0</td>\n",
       "      <td>0</td>\n",
       "      <td>0</td>\n",
       "      <td>0</td>\n",
       "      <td>0</td>\n",
       "      <td>...</td>\n",
       "      <td>0</td>\n",
       "      <td>0</td>\n",
       "      <td>0</td>\n",
       "      <td>0</td>\n",
       "      <td>0</td>\n",
       "      <td>0</td>\n",
       "      <td>0</td>\n",
       "      <td>0</td>\n",
       "      <td>0</td>\n",
       "      <td>0</td>\n",
       "    </tr>\n",
       "    <tr>\n",
       "      <th>4</th>\n",
       "      <td>0</td>\n",
       "      <td>0</td>\n",
       "      <td>0</td>\n",
       "      <td>0</td>\n",
       "      <td>0</td>\n",
       "      <td>0</td>\n",
       "      <td>0</td>\n",
       "      <td>0</td>\n",
       "      <td>0</td>\n",
       "      <td>0</td>\n",
       "      <td>...</td>\n",
       "      <td>0</td>\n",
       "      <td>0</td>\n",
       "      <td>0</td>\n",
       "      <td>0</td>\n",
       "      <td>0</td>\n",
       "      <td>0</td>\n",
       "      <td>0</td>\n",
       "      <td>0</td>\n",
       "      <td>0</td>\n",
       "      <td>0</td>\n",
       "    </tr>\n",
       "  </tbody>\n",
       "</table>\n",
       "<p>5 rows × 96 columns</p>\n",
       "</div>"
      ],
      "text/plain": [
       "   Q9_Loneliness_Meaning_Qual_'@home and @work was married for 29 years still felt lonely and now she has homemade for younger man left me totally devested   \\\n",
       "0                                                  0                                                                                                           \n",
       "1                                                  0                                                                                                           \n",
       "2                                                  0                                                                                                           \n",
       "3                                                  0                                                                                                           \n",
       "4                                                  0                                                                                                           \n",
       "\n",
       "   Q9_Loneliness_Meaning_Qual_A general sadness. A desire to be liked and loved which is not being met. I???m a very sociable person so when I am alone for longer periods that can get me down. Sometimes you don???t want to keep reaching out to your friends for company in case you come across as a bit desperate or needy, as that may put them off hanging out with you   \\\n",
       "0                                                  0                                                                                                                                                                                                                                                                                                                               \n",
       "1                                                  0                                                                                                                                                                                                                                                                                                                               \n",
       "2                                                  0                                                                                                                                                                                                                                                                                                                               \n",
       "3                                                  0                                                                                                                                                                                                                                                                                                                               \n",
       "4                                                  0                                                                                                                                                                                                                                                                                                                               \n",
       "\n",
       "   Q9_Loneliness_Meaning_Qual_Absence or loss of connection. Not having someone to tell exciting or upsetting news to. The  absence of someone to show curiosity or concern about the events of my life. Having no one to call upon for taking part in a social event. Having no one to offer advice. Feeling excluded from those in close proximity.  Being rejected by people whom you feel aligned with. Spending time alone when you desire to feel connected. Having no one to be intimate with, either physically or emotionally.  The absence of another person who understands your circumstances or struggle.  \\\n",
       "0                                                  0                                                                                                                                                                                                                                                                                                                                                                                                                                                                                                                                                                     \n",
       "1                                                  0                                                                                                                                                                                                                                                                                                                                                                                                                                                                                                                                                                     \n",
       "2                                                  0                                                                                                                                                                                                                                                                                                                                                                                                                                                                                                                                                                     \n",
       "3                                                  0                                                                                                                                                                                                                                                                                                                                                                                                                                                                                                                                                                     \n",
       "4                                                  0                                                                                                                                                                                                                                                                                                                                                                                                                                                                                                                                                                     \n",
       "\n",
       "   Q9_Loneliness_Meaning_Qual_As if nobody cares. Nobody can help you. Nobody understands. Feeling like i can???t be with people.  \\\n",
       "0                                                  0                                                                                \n",
       "1                                                  0                                                                                \n",
       "2                                                  0                                                                                \n",
       "3                                                  0                                                                                \n",
       "4                                                  0                                                                                \n",
       "\n",
       "   Q9_Loneliness_Meaning_Qual_Being in a group of people with whom I have little or nothing in common. Feeling like an alien in a crowd.  \\\n",
       "0                                                  0                                                                                       \n",
       "1                                                  0                                                                                       \n",
       "2                                                  0                                                                                       \n",
       "3                                                  0                                                                                       \n",
       "4                                                  0                                                                                       \n",
       "\n",
       "   Q9_Loneliness_Meaning_Qual_Being lonely is not the same as being alone.  I like to spend time alone but I don't like to be lonely. Loneliness means lack of connection with other people and can occur when alone or in company.   \\\n",
       "0                                                  0                                                                                                                                                                                   \n",
       "1                                                  0                                                                                                                                                                                   \n",
       "2                                                  0                                                                                                                                                                                   \n",
       "3                                                  0                                                                                                                                                                                   \n",
       "4                                                  0                                                                                                                                                                                   \n",
       "\n",
       "   Q9_Loneliness_Meaning_Qual_Being unable to express how I feel to someone and feel that they care - having the option to talk to anyone and yet feeling like I can't because they wouldn't understand  \\\n",
       "0                                                  0                                                                                                                                                      \n",
       "1                                                  0                                                                                                                                                      \n",
       "2                                                  0                                                                                                                                                      \n",
       "3                                                  0                                                                                                                                                      \n",
       "4                                                  0                                                                                                                                                      \n",
       "\n",
       "   Q9_Loneliness_Meaning_Qual_Being without contact with other people  \\\n",
       "0                                                  0                    \n",
       "1                                                  0                    \n",
       "2                                                  0                    \n",
       "3                                                  0                    \n",
       "4                                                  0                    \n",
       "\n",
       "   Q9_Loneliness_Meaning_Qual_Bored  \\\n",
       "0                                 0   \n",
       "1                                 0   \n",
       "2                                 0   \n",
       "3                                 0   \n",
       "4                                 0   \n",
       "\n",
       "   Q9_Loneliness_Meaning_Qual_Everyone I relied on for companionship  is dead  \\\n",
       "0                                                  0                            \n",
       "1                                                  0                            \n",
       "2                                                  0                            \n",
       "3                                                  0                            \n",
       "4                                                  0                            \n",
       "\n",
       "   ...  \\\n",
       "0  ...   \n",
       "1  ...   \n",
       "2  ...   \n",
       "3  ...   \n",
       "4  ...   \n",
       "\n",
       "   Q9_Loneliness_Meaning_Qual_feeling like you're the only one not invited to the party  \\\n",
       "0                                                  0                                      \n",
       "1                                                  0                                      \n",
       "2                                                  0                                      \n",
       "3                                                  0                                      \n",
       "4                                                  0                                      \n",
       "\n",
       "   Q9_Loneliness_Meaning_Qual_having no one to be with/ to care about you/to meet up spontanously for a coffee  \\\n",
       "0                                                  0                                                             \n",
       "1                                                  0                                                             \n",
       "2                                                  0                                                             \n",
       "3                                                  0                                                             \n",
       "4                                                  0                                                             \n",
       "\n",
       "   Q9_Loneliness_Meaning_Qual_isolation, inability to cope   \\\n",
       "0                                                  0          \n",
       "1                                                  0          \n",
       "2                                                  0          \n",
       "3                                                  0          \n",
       "4                                                  0          \n",
       "\n",
       "   Q9_Loneliness_Meaning_Qual_no one to talk to. isolation. cut off. lack of affection. unconnected.  \\\n",
       "0                                                  0                                                   \n",
       "1                                                  0                                                   \n",
       "2                                                  0                                                   \n",
       "3                                                  0                                                   \n",
       "4                                                  0                                                   \n",
       "\n",
       "   Q9_Loneliness_Meaning_Qual_not belonging. not feeling acknowledged. when alone at certain times eg bank holidays  \\\n",
       "0                                                  0                                                                  \n",
       "1                                                  0                                                                  \n",
       "2                                                  0                                                                  \n",
       "3                                                  0                                                                  \n",
       "4                                                  0                                                                  \n",
       "\n",
       "   Q9_Loneliness_Meaning_Qual_not having someone to come home to  \\\n",
       "0                                                  0               \n",
       "1                                                  0               \n",
       "2                                                  0               \n",
       "3                                                  0               \n",
       "4                                                  0               \n",
       "\n",
       "   Q9_Loneliness_Meaning_Qual_not having someone to talk to  \\\n",
       "0                                                  0          \n",
       "1                                                  0          \n",
       "2                                                  0          \n",
       "3                                                  0          \n",
       "4                                                  0          \n",
       "\n",
       "   Q9_Loneliness_Meaning_Qual_not talking to someone, no support, alone with my thoughts and ideas, alone on activities  \\\n",
       "0                                                  0                                                                      \n",
       "1                                                  0                                                                      \n",
       "2                                                  0                                                                      \n",
       "3                                                  0                                                                      \n",
       "4                                                  0                                                                      \n",
       "\n",
       "   Q9_Loneliness_Meaning_Qual_not to be understood, feeling apart even with them together  \\\n",
       "0                                                  0                                        \n",
       "1                                                  0                                        \n",
       "2                                                  0                                        \n",
       "3                                                  0                                        \n",
       "4                                                  0                                        \n",
       "\n",
       "   Q9_Loneliness_Meaning_Qual_sadness, depression, wasting time.  \n",
       "0                                                  0              \n",
       "1                                                  0              \n",
       "2                                                  0              \n",
       "3                                                  0              \n",
       "4                                                  0              \n",
       "\n",
       "[5 rows x 96 columns]"
      ]
     },
     "execution_count": 98,
     "metadata": {},
     "output_type": "execute_result"
    }
   ],
   "source": [
    "# making categorical variables into numeric representation\n",
    "\n",
    "print (raw_data.shape)\n",
    "\n",
    "# keeping the columns we may need\n",
    "#raw_data1 =raw_data[features]\n",
    "#print (raw_data1.shape)\n",
    "\n",
    "new_raw_data = pd.get_dummies(raw_data, columns=['Q9_Loneliness_Meaning_Qual'] )\n",
    "\n",
    "#printing the shape\n",
    "\n",
    "new_raw_data.head()"
   ]
  },
  {
   "cell_type": "code",
   "execution_count": 99,
   "id": "6689b30c",
   "metadata": {},
   "outputs": [],
   "source": [
    "#Run kmeans\n",
    "\n",
    "from sklearn.cluster import KMeans\n",
    "\n",
    "\n",
    "X_train = new_raw_data.values\n",
    "\n"
   ]
  },
  {
   "cell_type": "code",
   "execution_count": 100,
   "id": "6e2cd79d",
   "metadata": {},
   "outputs": [],
   "source": [
    "kmeans1 = KMeans(n_clusters=5, random_state=540)\n",
    "kmeans = kmeans1.fit(X_train)\n",
    "\n"
   ]
  },
  {
   "cell_type": "code",
   "execution_count": 101,
   "id": "9ee81d49",
   "metadata": {},
   "outputs": [
    {
     "name": "stdout",
     "output_type": "stream",
     "text": [
      "The clusters are:  [4 0 3 0 0 0 0 0 2 0 0 0 0 0 0 0 0 0 0 0 0 0 0 0 0 0 0 0 0 0 0 0 0 0 0 0 0\n",
      " 0 0 0 0 0 0 0 0 0 0 0 0 0 0 0 0 0 0 0 0 0 0 0 0 0 0 0 0 0 0 0 0 0 0 0 0 0\n",
      " 0 0 0 0 0 0 0 0 0 0 0 0 0 1 0 0 0 0 0 0 0 0]\n"
     ]
    }
   ],
   "source": [
    "print (\"The clusters are: \", kmeans.labels_)"
   ]
  },
  {
   "cell_type": "code",
   "execution_count": 102,
   "id": "aedf63c7",
   "metadata": {},
   "outputs": [
    {
     "name": "stdout",
     "output_type": "stream",
     "text": [
      "The inertia are:  91.00000000000003\n"
     ]
    }
   ],
   "source": [
    "#Show how good our cluster is. The lower the value the good it will be\n",
    "print (\"The inertia are: \", kmeans.inertia_)"
   ]
  },
  {
   "cell_type": "code",
   "execution_count": 103,
   "id": "386b38dc",
   "metadata": {},
   "outputs": [
    {
     "data": {
      "text/plain": [
       "array([[0, 0, 0, ..., 0, 0, 0],\n",
       "       [0, 0, 0, ..., 0, 0, 0],\n",
       "       [0, 0, 0, ..., 0, 0, 0],\n",
       "       ...,\n",
       "       [0, 0, 0, ..., 0, 0, 0],\n",
       "       [0, 0, 0, ..., 0, 0, 0],\n",
       "       [0, 0, 0, ..., 0, 0, 0]], dtype=uint8)"
      ]
     },
     "execution_count": 103,
     "metadata": {},
     "output_type": "execute_result"
    }
   ],
   "source": [
    "X_train"
   ]
  },
  {
   "cell_type": "code",
   "execution_count": 104,
   "id": "6279afea",
   "metadata": {},
   "outputs": [
    {
     "data": {
      "text/plain": [
       "(96,)"
      ]
     },
     "execution_count": 104,
     "metadata": {},
     "output_type": "execute_result"
    }
   ],
   "source": [
    "kmeans.labels_.shape"
   ]
  },
  {
   "cell_type": "code",
   "execution_count": 105,
   "id": "86c77d51",
   "metadata": {},
   "outputs": [
    {
     "name": "stdout",
     "output_type": "stream",
     "text": [
      "The innertia for: 2 Clusters is: 93.99999999999982\n",
      "The innertia for: 3 Clusters is: 93.00000000000023\n",
      "The innertia for: 4 Clusters is: 91.99999999999996\n",
      "The innertia for: 5 Clusters is: 91.00000000000003\n",
      "The innertia for: 6 Clusters is: 89.99999999999999\n",
      "The innertia for: 7 Clusters is: 89.00000000000011\n",
      "The innertia for: 8 Clusters is: 88.00000000000003\n",
      "The innertia for: 9 Clusters is: 86.99999999999991\n",
      "The innertia for: 10 Clusters is: 86.0000000000001\n",
      "The innertia for: 11 Clusters is: 85.00000000000013\n",
      "The innertia for: 12 Clusters is: 83.99999999999986\n",
      "The innertia for: 13 Clusters is: 83.00000000000011\n",
      "The innertia for: 14 Clusters is: 81.99999999999997\n",
      "The innertia for: 15 Clusters is: 80.99999999999984\n",
      "The innertia for: 16 Clusters is: 80.0\n",
      "The innertia for: 17 Clusters is: 78.99999999999989\n",
      "The innertia for: 18 Clusters is: 78.0\n",
      "The innertia for: 19 Clusters is: 77.00000000000006\n"
     ]
    }
   ],
   "source": [
    "#Running k means with multiple\n",
    "\n",
    "no_of_clusters = range(2,20)\n",
    "inertia = []\n",
    "\n",
    "for f in no_of_clusters:\n",
    "    kmeans1 = KMeans(n_clusters=f, random_state=350)\n",
    "    kmeans = kmeans1.fit(X_train)\n",
    "    u = kmeans.inertia_\n",
    "    inertia.append(u)\n",
    "    \n",
    "    print (\"The innertia for:\", f, \"Clusters is:\", u)"
   ]
  },
  {
   "cell_type": "code",
   "execution_count": 106,
   "id": "742cd533",
   "metadata": {},
   "outputs": [
    {
     "data": {
      "text/plain": [
       "range(2, 20)"
      ]
     },
     "execution_count": 106,
     "metadata": {},
     "output_type": "execute_result"
    }
   ],
   "source": [
    "no_of_clusters"
   ]
  },
  {
   "cell_type": "code",
   "execution_count": 107,
   "id": "86a2e24e",
   "metadata": {},
   "outputs": [
    {
     "data": {
      "text/plain": [
       "Text(0.5, 1.0, 'Inertia Plot per k')"
      ]
     },
     "execution_count": 107,
     "metadata": {},
     "output_type": "execute_result"
    },
    {
     "data": {
      "image/png": "[encoded data removed]",
      "text/plain": [
       "<Figure size 1152x432 with 1 Axes>"
      ]
     },
     "metadata": {
      "needs_background": "light"
     },
     "output_type": "display_data"
    }
   ],
   "source": [
    "#Creating the scree plot for intertia - elbow method\n",
    "\n",
    "fig, (ax1) = plt.subplots(1, figsize = (16,6))\n",
    "xx = np.arange(len(no_of_clusters))\n",
    "ax1.plot(xx, inertia)\n",
    "ax1.set_xticks(xx)\n",
    "ax1.set_xticklabels(no_of_clusters, rotation = 'vertical')\n",
    "plt.xlabel('Number of clusters')\n",
    "plt.ylabel('Inertia Score')\n",
    "plt.title(\"Inertia Plot per k\")"
   ]
  },
  {
   "cell_type": "code",
   "execution_count": 108,
   "id": "d9a4a3d9",
   "metadata": {},
   "outputs": [
    {
     "data": {
      "text/html": [
       "<div>\n",
       "<style scoped>\n",
       "    .dataframe tbody tr th:only-of-type {\n",
       "        vertical-align: middle;\n",
       "    }\n",
       "\n",
       "    .dataframe tbody tr th {\n",
       "        vertical-align: top;\n",
       "    }\n",
       "\n",
       "    .dataframe thead th {\n",
       "        text-align: right;\n",
       "    }\n",
       "</style>\n",
       "<table border=\"1\" class=\"dataframe\">\n",
       "  <thead>\n",
       "    <tr style=\"text-align: right;\">\n",
       "      <th></th>\n",
       "      <th>Cluster 0</th>\n",
       "      <th>Cluster 1</th>\n",
       "      <th>Cluster 2</th>\n",
       "      <th>Cluster 3</th>\n",
       "      <th>Cluster 4</th>\n",
       "    </tr>\n",
       "  </thead>\n",
       "  <tbody>\n",
       "    <tr>\n",
       "      <th>0</th>\n",
       "      <td>92</td>\n",
       "      <td>1</td>\n",
       "      <td>1</td>\n",
       "      <td>1</td>\n",
       "      <td>1</td>\n",
       "    </tr>\n",
       "  </tbody>\n",
       "</table>\n",
       "</div>"
      ],
      "text/plain": [
       "   Cluster 0  Cluster 1  Cluster 2  Cluster 3  Cluster 4\n",
       "0         92          1          1          1          1"
      ]
     },
     "execution_count": 108,
     "metadata": {},
     "output_type": "execute_result"
    }
   ],
   "source": [
    "# Running k means on 5 clusters\n",
    "\n",
    "kmeans = KMeans(n_clusters=5, random_state=2)\n",
    "kmeans = kmeans.fit(X_train)\n",
    "\n",
    "kmeans.labels_\n",
    "\n",
    "predictions = kmeans.predict(X_train)\n",
    "\n",
    "#Calculating the counts of the cluster\n",
    "unique, counts = np.unique(predictions, return_counts=True)\n",
    "counts = counts.reshape(1,5)\n",
    "\n",
    "#Creating a datagrome\n",
    "countscidf = pd.DataFrame(counts, columns = ['Cluster 0','Cluster 1','Cluster 2','Cluster 3','Cluster 4'])\n",
    "\n",
    "countscidf\n",
    "\n",
    "\n"
   ]
  },
  {
   "cell_type": "code",
   "execution_count": null,
   "id": "48805a37",
   "metadata": {},
   "outputs": [],
   "source": []
  },
  {
   "cell_type": "code",
   "execution_count": 109,
   "id": "89f8d034",
   "metadata": {},
   "outputs": [
    {
     "data": {
      "text/plain": [
       "array([0, 0, 0, 0, 0, 0, 0, 0, 0, 0, 0, 0, 0, 0, 0, 0, 0, 1, 0, 0, 0, 0,\n",
       "       0, 0, 0, 0, 0, 0, 0, 0, 0, 0, 0, 0, 0, 0, 0, 0, 0, 0, 0, 0, 0, 0,\n",
       "       0, 0, 0, 2, 0, 0, 0, 0, 0, 0, 0, 0, 0, 0, 0, 0, 0, 4, 0, 0, 0, 0,\n",
       "       0, 3, 0, 0, 0, 0, 0, 0, 0, 0, 0, 0, 0, 0, 0, 0, 0, 0, 0, 0, 0, 0,\n",
       "       0, 0, 0, 0, 0, 0, 0, 0])"
      ]
     },
     "execution_count": 109,
     "metadata": {},
     "output_type": "execute_result"
    }
   ],
   "source": [
    "kmeans.labels_"
   ]
  },
  {
   "cell_type": "code",
   "execution_count": 110,
   "id": "98e51326",
   "metadata": {},
   "outputs": [
    {
     "data": {
      "text/plain": [
       "array([0, 0, 0, 0, 0, 0, 0, 0, 0, 0, 0, 0, 0, 0, 0, 0, 0, 1, 0, 0, 0, 0,\n",
       "       0, 0, 0, 0, 0, 0, 0, 0, 0, 0, 0, 0, 0, 0, 0, 0, 0, 0, 0, 0, 0, 0,\n",
       "       0, 0, 0, 2, 0, 0, 0, 0, 0, 0, 0, 0, 0, 0, 0, 0, 0, 4, 0, 0, 0, 0,\n",
       "       0, 3, 0, 0, 0, 0, 0, 0, 0, 0, 0, 0, 0, 0, 0, 0, 0, 0, 0, 0, 0, 0,\n",
       "       0, 0, 0, 0, 0, 0, 0, 0])"
      ]
     },
     "execution_count": 110,
     "metadata": {},
     "output_type": "execute_result"
    }
   ],
   "source": [
    "predictions"
   ]
  },
  {
   "cell_type": "code",
   "execution_count": 124,
   "id": "e2f933d0",
   "metadata": {},
   "outputs": [
    {
     "name": "stdout",
     "output_type": "stream",
     "text": [
      "Explained variance ratio (first two components):[0.01052632 0.01052632]\n"
     ]
    },
    {
     "data": {
      "text/plain": [
       "<Figure size 432x288 with 0 Axes>"
      ]
     },
     "metadata": {},
     "output_type": "display_data"
    },
    {
     "data": {
      "image/png": "[encoded data removed]",
      "text/plain": [
       "<Figure size 1296x432 with 1 Axes>"
      ]
     },
     "metadata": {
      "needs_background": "light"
     },
     "output_type": "display_data"
    },
    {
     "data": {
      "image/png": "[encoded data removed]",
      "text/plain": [
       "<Figure size 432x288 with 1 Axes>"
      ]
     },
     "metadata": {
      "needs_background": "light"
     },
     "output_type": "display_data"
    },
    {
     "data": {
      "image/png": "[encoded data removed]",
      "text/plain": [
       "<Figure size 432x288 with 1 Axes>"
      ]
     },
     "metadata": {
      "needs_background": "light"
     },
     "output_type": "display_data"
    },
    {
     "data": {
      "image/png": "[encoded data removed]",
      "text/plain": [
       "<Figure size 432x288 with 1 Axes>"
      ]
     },
     "metadata": {
      "needs_background": "light"
     },
     "output_type": "display_data"
    },
    {
     "data": {
      "image/png": "[encoded data removed]",
      "text/plain": [
       "<Figure size 432x288 with 1 Axes>"
      ]
     },
     "metadata": {
      "needs_background": "light"
     },
     "output_type": "display_data"
    }
   ],
   "source": [
    "from sklearn.decomposition import PCA\n",
    "from sklearn.discriminant_analysis import LinearDiscriminantAnalysis\n",
    "\n",
    "X = X_train\n",
    "y_num = predictions\n",
    "\n",
    "target_names = [\"Cluster 0\",\"Cluster 1\",\"Cluster 2\",\"Cluster 3\",\"Cluster 4\"]\n",
    "\n",
    "pca =PCA(n_components=2, random_state = 330)\n",
    "X_r = pca.fit(X).transform(X)\n",
    "\n",
    "#Percentage of variance explained for each component\n",
    "print ('Explained variance ratio (first two components):%s' % str(pca.explained_variance_ratio_))\n",
    "\n",
    "#Plotting the data\n",
    "plt.figure()\n",
    "plt.figure(figsize=(18,6))\n",
    "colors = ['navy','turquoise','darkorange','red','black']\n",
    "lw = 2\n",
    "\n",
    "for color, i, target_name in zip(colors, [0,1,2,3,4], target_names):\n",
    "    plt.scatter(X_r[y_num == i, 0], X_r[y_num == i, 1], color = color, alpha=.8, lw=lw, label=target_name)\n",
    "    \n",
    "    plt.legend(loc='best',shadow=False, scatterpoints=1)\n",
    "    plt.legend(bbox_to_anchor=(1.05,1), loc=2, borderaxespad=0.6)\n",
    "    plt.title('PCA of Items')\n",
    "    plt.show()\n",
    "  \n",
    "       \n",
    "\n",
    "\n",
    "\n"
   ]
  },
  {
   "cell_type": "code",
   "execution_count": 112,
   "id": "a34a0b83",
   "metadata": {},
   "outputs": [],
   "source": [
    "#Trying with dimentionality reduction and kmeans\n",
    "\n",
    "n_components = X.shape[1]\n",
    "\n",
    "# Running PCA with all components\n",
    "pca = PCA(n_components = 53, random_state = 80)\n",
    "X_r = pca.fit(X).transform(X)\n"
   ]
  },
  {
   "cell_type": "code",
   "execution_count": 113,
   "id": "1b69c04d",
   "metadata": {},
   "outputs": [
    {
     "name": "stdout",
     "output_type": "stream",
     "text": [
      "Total Variance in our dataset is: 0.557894736842106\n",
      "The 95% variance we want to have is:  0.5300000000000007\n",
      "\n",
      "Variance explain with 30 n_components:  0.31578947368421095\n",
      "Variance explain with 35 n_components:  0.36842105263157954\n",
      "Variance explain with 40 n_components:  0.4210526315789481\n",
      "Variance explain with 45 n_components:  0.47368421052631643\n",
      "Variance explain with 50 n_components:  0.5263157894736848\n",
      "Variance explain with 53 n_components:  0.557894736842106\n",
      "Variance explain with 55 n_components:  0.557894736842106\n"
     ]
    }
   ],
   "source": [
    "# Calculating the 95% variance\n",
    "total_variance = sum(pca.explained_variance_)\n",
    "print (\"Total Variance in our dataset is:\",total_variance)\n",
    "var_95 = total_variance * 0.95\n",
    "print (\"The 95% variance we want to have is: \", var_95)\n",
    "print (\"\")\n",
    "\n",
    "\n",
    "#Creating a df with the components and explained variance\n",
    "a = zip(range(0, n_components), pca.explained_variance_)\n",
    "a = pd.DataFrame(a, columns=[\"PCA Comp\",\"Explained Variance\"]) \n",
    "\n",
    "print ('Variance explain with 30 n_components: ', sum(a[\"Explained Variance\"][0:30]))\n",
    "print (\"Variance explain with 35 n_components: \", sum(a[\"Explained Variance\"][0:35]))\n",
    "print (\"Variance explain with 40 n_components: \", sum(a[\"Explained Variance\"][0:40]))\n",
    "print (\"Variance explain with 45 n_components: \", sum(a[\"Explained Variance\"][0:45]))\n",
    "print (\"Variance explain with 50 n_components: \", sum(a[\"Explained Variance\"][0:50]))\n",
    "print (\"Variance explain with 53 n_components: \", sum(a[\"Explained Variance\"][0:53]))\n",
    "print (\"Variance explain with 55 n_components: \", sum(a[\"Explained Variance\"][0:55]))\n",
    "\n",
    " \n",
    "    "
   ]
  },
  {
   "cell_type": "code",
   "execution_count": 114,
   "id": "400ab8ac",
   "metadata": {},
   "outputs": [
    {
     "data": {
      "image/png": "[encoded data removed]",
      "text/plain": [
       "<Figure size 1008x576 with 1 Axes>"
      ]
     },
     "metadata": {
      "needs_background": "light"
     },
     "output_type": "display_data"
    }
   ],
   "source": [
    "    \n",
    "    #plotting the data\n",
    "plt.figure(1, figsize=(14,8))\n",
    "plt.plot(pca.explained_variance_ratio_, linewidth=2, c='r')\n",
    "plt.xlabel('n_components')\n",
    "plt.ylabel('explained_ratio_')\n",
    "\n",
    "# Plotting line with 95% e.v\n",
    "plt.axvline(50,linestyle=':', label='n_components - 95% explained', c ='blue')\n",
    "plt.legend(prop=dict(size=16))\n",
    "\n",
    "#Adding arrow\n",
    "plt.annotate('50 eigenvectors used to explain 95% variance', xy=(50,pca.explained_variance_ratio_[50]), \n",
    "             xytext=(58, pca.explained_variance_ratio_[10]),\n",
    "             arrowprops=dict(facecolor='blue', shrink=0.05))\n",
    "\n",
    "plt.show()\n",
    "\n",
    "       "
   ]
  },
  {
   "cell_type": "code",
   "execution_count": 115,
   "id": "c78f6fef",
   "metadata": {},
   "outputs": [
    {
     "name": "stdout",
     "output_type": "stream",
     "text": [
      "The innertia for: 2 Clusters is: 49.01933687615576\n",
      "The innertia for: 3 Clusters is: 48.44855568921574\n",
      "The innertia for: 4 Clusters is: 47.53238948380046\n",
      "The innertia for: 5 Clusters is: 46.68637967593571\n",
      "The innertia for: 6 Clusters is: 46.07754699770777\n",
      "The innertia for: 7 Clusters is: 45.24814913719014\n",
      "The innertia for: 8 Clusters is: 44.38425075187222\n",
      "The innertia for: 9 Clusters is: 43.61155613183731\n",
      "The innertia for: 10 Clusters is: 42.69958259538621\n",
      "The innertia for: 11 Clusters is: 42.20501320160967\n",
      "The innertia for: 12 Clusters is: 40.90773804838819\n",
      "The innertia for: 13 Clusters is: 40.73848799730742\n",
      "The innertia for: 14 Clusters is: 39.941675297598984\n",
      "The innertia for: 15 Clusters is: 39.13713626232989\n",
      "The innertia for: 16 Clusters is: 38.537840297392094\n",
      "The innertia for: 17 Clusters is: 37.81280554783654\n",
      "The innertia for: 18 Clusters is: 37.0663485473202\n",
      "The innertia for: 19 Clusters is: 36.0712526003072\n"
     ]
    },
    {
     "data": {
      "text/plain": [
       "Text(0.5, 1.0, 'Inertia Plot per k')"
      ]
     },
     "execution_count": 115,
     "metadata": {},
     "output_type": "execute_result"
    },
    {
     "data": {
      "image/png": "[encoded data removed]",
      "text/plain": [
       "<Figure size 1152x432 with 1 Axes>"
      ]
     },
     "metadata": {
      "needs_background": "light"
     },
     "output_type": "display_data"
    }
   ],
   "source": [
    "pca =PCA(n_components=50, random_state = 330)\n",
    "X_r = pca.fit(X).transform(X)\n",
    "\n",
    "inertia = []\n",
    "\n",
    "#Running kmeans again\n",
    "for f in no_of_clusters:\n",
    "    kmeans1 = KMeans(n_clusters=f, random_state=2)\n",
    "    kmeans = kmeans1.fit(X_r)\n",
    "    u = kmeans.inertia_\n",
    "    inertia.append(u)\n",
    "    print (\"The innertia for:\", f, \"Clusters is:\", u)\n",
    "    \n",
    "#Creating the scree plot for intertia - elbow method\n",
    "\n",
    "fig, (ax1) = plt.subplots(1, figsize = (16,6))\n",
    "xx = np.arange(len(no_of_clusters))\n",
    "ax1.plot(xx, inertia)\n",
    "ax1.set_xticks(xx)\n",
    "ax1.set_xticklabels(no_of_clusters, rotation = 'vertical')\n",
    "plt.xlabel('n_components Value')\n",
    "plt.ylabel('Inertia Score')\n",
    "plt.title(\"Inertia Plot per k\")\n",
    "    \n"
   ]
  },
  {
   "cell_type": "code",
   "execution_count": 116,
   "id": "ce9a3823",
   "metadata": {},
   "outputs": [
    {
     "name": "stdout",
     "output_type": "stream",
     "text": [
      "Explained variance ratio (first two components):[0.01052632 0.01052632]\n"
     ]
    },
    {
     "data": {
      "text/plain": [
       "<Figure size 432x288 with 0 Axes>"
      ]
     },
     "metadata": {},
     "output_type": "display_data"
    },
    {
     "data": {
      "image/png": "[encoded data removed]",
      "text/plain": [
       "<Figure size 864x576 with 1 Axes>"
      ]
     },
     "metadata": {
      "needs_background": "light"
     },
     "output_type": "display_data"
    },
    {
     "data": {
      "image/png": "[encoded data removed]",
      "text/plain": [
       "<Figure size 432x288 with 1 Axes>"
      ]
     },
     "metadata": {
      "needs_background": "light"
     },
     "output_type": "display_data"
    },
    {
     "data": {
      "image/png": "[encoded data removed]",
      "text/plain": [
       "<Figure size 432x288 with 1 Axes>"
      ]
     },
     "metadata": {
      "needs_background": "light"
     },
     "output_type": "display_data"
    },
    {
     "data": {
      "image/png": "[encoded data removed]",
      "text/plain": [
       "<Figure size 432x288 with 1 Axes>"
      ]
     },
     "metadata": {
      "needs_background": "light"
     },
     "output_type": "display_data"
    },
    {
     "data": {
      "image/png": "[encoded data removed]",
      "text/plain": [
       "<Figure size 432x288 with 1 Axes>"
      ]
     },
     "metadata": {
      "needs_background": "light"
     },
     "output_type": "display_data"
    }
   ],
   "source": [
    "from sklearn.decomposition import PCA\n",
    "from sklearn.discriminant_analysis import LinearDiscriminantAnalysis\n",
    "\n",
    "X = X_train\n",
    "y_num = predictions\n",
    "\n",
    "target_names = [\"Cluster 0\",\"Cluster 1\",\"Cluster 2\",\"Cluster 3\",\"Cluster 4\"]\n",
    "\n",
    "pca =PCA(n_components=2, random_state = 30)\n",
    "X_r = pca.fit(X).transform(X)\n",
    "\n",
    "#Percentage of variance explained for each component\n",
    "print ('Explained variance ratio (first two components):%s' % str(pca.explained_variance_ratio_))\n",
    "\n",
    "#Plotting the data\n",
    "plt.figure()\n",
    "plt.figure(figsize=(12,8))\n",
    "colors = ['navy','turquoise','darkorange','red','black']\n",
    "lw = 2\n",
    "\n",
    "for color, i, target_name in zip(colors, [0,1,2,3,4], target_names):\n",
    "    plt.scatter(X_r[y_num == i, 0], X_r[y_num == i, 1], color = color, alpha=.8, lw=lw, label=target_name)\n",
    "    \n",
    "    plt.legend(loc='best',shadow=False, scatterpoints=5)\n",
    "    plt.legend(bbox_to_anchor=(1.05,1), loc=2, borderaxespad=0.6)\n",
    "    plt.title('PCA of Items')\n",
    "    plt.show()\n",
    "       "
   ]
  },
  {
   "cell_type": "code",
   "execution_count": 117,
   "id": "95d9ec16",
   "metadata": {},
   "outputs": [
    {
     "data": {
      "text/html": [
       "<div>\n",
       "<style scoped>\n",
       "    .dataframe tbody tr th:only-of-type {\n",
       "        vertical-align: middle;\n",
       "    }\n",
       "\n",
       "    .dataframe tbody tr th {\n",
       "        vertical-align: top;\n",
       "    }\n",
       "\n",
       "    .dataframe thead th {\n",
       "        text-align: right;\n",
       "    }\n",
       "</style>\n",
       "<table border=\"1\" class=\"dataframe\">\n",
       "  <thead>\n",
       "    <tr style=\"text-align: right;\">\n",
       "      <th></th>\n",
       "      <th>Q9_Loneliness_Meaning_Qual_'@home and @work was married for 29 years still felt lonely and now she has homemade for younger man left me totally devested</th>\n",
       "      <th>Q9_Loneliness_Meaning_Qual_A general sadness. A desire to be liked and loved which is not being met. I???m a very sociable person so when I am alone for longer periods that can get me down. Sometimes you don???t want to keep reaching out to your friends for company in case you come across as a bit desperate or needy, as that may put them off hanging out with you</th>\n",
       "      <th>Q9_Loneliness_Meaning_Qual_Absence or loss of connection. Not having someone to tell exciting or upsetting news to. The  absence of someone to show curiosity or concern about the events of my life. Having no one to call upon for taking part in a social event. Having no one to offer advice. Feeling excluded from those in close proximity.  Being rejected by people whom you feel aligned with. Spending time alone when you desire to feel connected. Having no one to be intimate with, either physically or emotionally.  The absence of another person who understands your circumstances or struggle.</th>\n",
       "      <th>Q9_Loneliness_Meaning_Qual_As if nobody cares. Nobody can help you. Nobody understands. Feeling like i can???t be with people.</th>\n",
       "      <th>Q9_Loneliness_Meaning_Qual_Being in a group of people with whom I have little or nothing in common. Feeling like an alien in a crowd.</th>\n",
       "      <th>Q9_Loneliness_Meaning_Qual_Being lonely is not the same as being alone.  I like to spend time alone but I don't like to be lonely. Loneliness means lack of connection with other people and can occur when alone or in company.</th>\n",
       "      <th>Q9_Loneliness_Meaning_Qual_Being unable to express how I feel to someone and feel that they care - having the option to talk to anyone and yet feeling like I can't because they wouldn't understand</th>\n",
       "      <th>Q9_Loneliness_Meaning_Qual_Being without contact with other people</th>\n",
       "      <th>Q9_Loneliness_Meaning_Qual_Bored</th>\n",
       "      <th>Q9_Loneliness_Meaning_Qual_Everyone I relied on for companionship  is dead</th>\n",
       "      <th>...</th>\n",
       "      <th>Q9_Loneliness_Meaning_Qual_feeling like you're the only one not invited to the party</th>\n",
       "      <th>Q9_Loneliness_Meaning_Qual_having no one to be with/ to care about you/to meet up spontanously for a coffee</th>\n",
       "      <th>Q9_Loneliness_Meaning_Qual_isolation, inability to cope</th>\n",
       "      <th>Q9_Loneliness_Meaning_Qual_no one to talk to. isolation. cut off. lack of affection. unconnected.</th>\n",
       "      <th>Q9_Loneliness_Meaning_Qual_not belonging. not feeling acknowledged. when alone at certain times eg bank holidays</th>\n",
       "      <th>Q9_Loneliness_Meaning_Qual_not having someone to come home to</th>\n",
       "      <th>Q9_Loneliness_Meaning_Qual_not having someone to talk to</th>\n",
       "      <th>Q9_Loneliness_Meaning_Qual_not talking to someone, no support, alone with my thoughts and ideas, alone on activities</th>\n",
       "      <th>Q9_Loneliness_Meaning_Qual_not to be understood, feeling apart even with them together</th>\n",
       "      <th>Q9_Loneliness_Meaning_Qual_sadness, depression, wasting time.</th>\n",
       "    </tr>\n",
       "  </thead>\n",
       "  <tbody>\n",
       "    <tr>\n",
       "      <th>0</th>\n",
       "      <td>0</td>\n",
       "      <td>0</td>\n",
       "      <td>0</td>\n",
       "      <td>0</td>\n",
       "      <td>0</td>\n",
       "      <td>0</td>\n",
       "      <td>0</td>\n",
       "      <td>0</td>\n",
       "      <td>0</td>\n",
       "      <td>0</td>\n",
       "      <td>...</td>\n",
       "      <td>0</td>\n",
       "      <td>0</td>\n",
       "      <td>0</td>\n",
       "      <td>0</td>\n",
       "      <td>0</td>\n",
       "      <td>0</td>\n",
       "      <td>0</td>\n",
       "      <td>0</td>\n",
       "      <td>0</td>\n",
       "      <td>0</td>\n",
       "    </tr>\n",
       "    <tr>\n",
       "      <th>1</th>\n",
       "      <td>0</td>\n",
       "      <td>0</td>\n",
       "      <td>0</td>\n",
       "      <td>0</td>\n",
       "      <td>0</td>\n",
       "      <td>0</td>\n",
       "      <td>0</td>\n",
       "      <td>0</td>\n",
       "      <td>0</td>\n",
       "      <td>0</td>\n",
       "      <td>...</td>\n",
       "      <td>0</td>\n",
       "      <td>0</td>\n",
       "      <td>0</td>\n",
       "      <td>0</td>\n",
       "      <td>0</td>\n",
       "      <td>0</td>\n",
       "      <td>0</td>\n",
       "      <td>0</td>\n",
       "      <td>0</td>\n",
       "      <td>0</td>\n",
       "    </tr>\n",
       "    <tr>\n",
       "      <th>2</th>\n",
       "      <td>0</td>\n",
       "      <td>0</td>\n",
       "      <td>0</td>\n",
       "      <td>0</td>\n",
       "      <td>0</td>\n",
       "      <td>0</td>\n",
       "      <td>0</td>\n",
       "      <td>0</td>\n",
       "      <td>0</td>\n",
       "      <td>0</td>\n",
       "      <td>...</td>\n",
       "      <td>0</td>\n",
       "      <td>0</td>\n",
       "      <td>0</td>\n",
       "      <td>0</td>\n",
       "      <td>0</td>\n",
       "      <td>0</td>\n",
       "      <td>0</td>\n",
       "      <td>0</td>\n",
       "      <td>0</td>\n",
       "      <td>0</td>\n",
       "    </tr>\n",
       "    <tr>\n",
       "      <th>3</th>\n",
       "      <td>0</td>\n",
       "      <td>0</td>\n",
       "      <td>0</td>\n",
       "      <td>0</td>\n",
       "      <td>0</td>\n",
       "      <td>0</td>\n",
       "      <td>0</td>\n",
       "      <td>0</td>\n",
       "      <td>0</td>\n",
       "      <td>0</td>\n",
       "      <td>...</td>\n",
       "      <td>0</td>\n",
       "      <td>0</td>\n",
       "      <td>0</td>\n",
       "      <td>0</td>\n",
       "      <td>0</td>\n",
       "      <td>0</td>\n",
       "      <td>0</td>\n",
       "      <td>0</td>\n",
       "      <td>0</td>\n",
       "      <td>0</td>\n",
       "    </tr>\n",
       "    <tr>\n",
       "      <th>4</th>\n",
       "      <td>0</td>\n",
       "      <td>0</td>\n",
       "      <td>0</td>\n",
       "      <td>0</td>\n",
       "      <td>0</td>\n",
       "      <td>0</td>\n",
       "      <td>0</td>\n",
       "      <td>0</td>\n",
       "      <td>0</td>\n",
       "      <td>0</td>\n",
       "      <td>...</td>\n",
       "      <td>0</td>\n",
       "      <td>0</td>\n",
       "      <td>0</td>\n",
       "      <td>0</td>\n",
       "      <td>0</td>\n",
       "      <td>0</td>\n",
       "      <td>0</td>\n",
       "      <td>0</td>\n",
       "      <td>0</td>\n",
       "      <td>0</td>\n",
       "    </tr>\n",
       "  </tbody>\n",
       "</table>\n",
       "<p>5 rows × 96 columns</p>\n",
       "</div>"
      ],
      "text/plain": [
       "   Q9_Loneliness_Meaning_Qual_'@home and @work was married for 29 years still felt lonely and now she has homemade for younger man left me totally devested   \\\n",
       "0                                                  0                                                                                                           \n",
       "1                                                  0                                                                                                           \n",
       "2                                                  0                                                                                                           \n",
       "3                                                  0                                                                                                           \n",
       "4                                                  0                                                                                                           \n",
       "\n",
       "   Q9_Loneliness_Meaning_Qual_A general sadness. A desire to be liked and loved which is not being met. I???m a very sociable person so when I am alone for longer periods that can get me down. Sometimes you don???t want to keep reaching out to your friends for company in case you come across as a bit desperate or needy, as that may put them off hanging out with you   \\\n",
       "0                                                  0                                                                                                                                                                                                                                                                                                                               \n",
       "1                                                  0                                                                                                                                                                                                                                                                                                                               \n",
       "2                                                  0                                                                                                                                                                                                                                                                                                                               \n",
       "3                                                  0                                                                                                                                                                                                                                                                                                                               \n",
       "4                                                  0                                                                                                                                                                                                                                                                                                                               \n",
       "\n",
       "   Q9_Loneliness_Meaning_Qual_Absence or loss of connection. Not having someone to tell exciting or upsetting news to. The  absence of someone to show curiosity or concern about the events of my life. Having no one to call upon for taking part in a social event. Having no one to offer advice. Feeling excluded from those in close proximity.  Being rejected by people whom you feel aligned with. Spending time alone when you desire to feel connected. Having no one to be intimate with, either physically or emotionally.  The absence of another person who understands your circumstances or struggle.  \\\n",
       "0                                                  0                                                                                                                                                                                                                                                                                                                                                                                                                                                                                                                                                                     \n",
       "1                                                  0                                                                                                                                                                                                                                                                                                                                                                                                                                                                                                                                                                     \n",
       "2                                                  0                                                                                                                                                                                                                                                                                                                                                                                                                                                                                                                                                                     \n",
       "3                                                  0                                                                                                                                                                                                                                                                                                                                                                                                                                                                                                                                                                     \n",
       "4                                                  0                                                                                                                                                                                                                                                                                                                                                                                                                                                                                                                                                                     \n",
       "\n",
       "   Q9_Loneliness_Meaning_Qual_As if nobody cares. Nobody can help you. Nobody understands. Feeling like i can???t be with people.  \\\n",
       "0                                                  0                                                                                \n",
       "1                                                  0                                                                                \n",
       "2                                                  0                                                                                \n",
       "3                                                  0                                                                                \n",
       "4                                                  0                                                                                \n",
       "\n",
       "   Q9_Loneliness_Meaning_Qual_Being in a group of people with whom I have little or nothing in common. Feeling like an alien in a crowd.  \\\n",
       "0                                                  0                                                                                       \n",
       "1                                                  0                                                                                       \n",
       "2                                                  0                                                                                       \n",
       "3                                                  0                                                                                       \n",
       "4                                                  0                                                                                       \n",
       "\n",
       "   Q9_Loneliness_Meaning_Qual_Being lonely is not the same as being alone.  I like to spend time alone but I don't like to be lonely. Loneliness means lack of connection with other people and can occur when alone or in company.   \\\n",
       "0                                                  0                                                                                                                                                                                   \n",
       "1                                                  0                                                                                                                                                                                   \n",
       "2                                                  0                                                                                                                                                                                   \n",
       "3                                                  0                                                                                                                                                                                   \n",
       "4                                                  0                                                                                                                                                                                   \n",
       "\n",
       "   Q9_Loneliness_Meaning_Qual_Being unable to express how I feel to someone and feel that they care - having the option to talk to anyone and yet feeling like I can't because they wouldn't understand  \\\n",
       "0                                                  0                                                                                                                                                      \n",
       "1                                                  0                                                                                                                                                      \n",
       "2                                                  0                                                                                                                                                      \n",
       "3                                                  0                                                                                                                                                      \n",
       "4                                                  0                                                                                                                                                      \n",
       "\n",
       "   Q9_Loneliness_Meaning_Qual_Being without contact with other people  \\\n",
       "0                                                  0                    \n",
       "1                                                  0                    \n",
       "2                                                  0                    \n",
       "3                                                  0                    \n",
       "4                                                  0                    \n",
       "\n",
       "   Q9_Loneliness_Meaning_Qual_Bored  \\\n",
       "0                                 0   \n",
       "1                                 0   \n",
       "2                                 0   \n",
       "3                                 0   \n",
       "4                                 0   \n",
       "\n",
       "   Q9_Loneliness_Meaning_Qual_Everyone I relied on for companionship  is dead  \\\n",
       "0                                                  0                            \n",
       "1                                                  0                            \n",
       "2                                                  0                            \n",
       "3                                                  0                            \n",
       "4                                                  0                            \n",
       "\n",
       "   ...  \\\n",
       "0  ...   \n",
       "1  ...   \n",
       "2  ...   \n",
       "3  ...   \n",
       "4  ...   \n",
       "\n",
       "   Q9_Loneliness_Meaning_Qual_feeling like you're the only one not invited to the party  \\\n",
       "0                                                  0                                      \n",
       "1                                                  0                                      \n",
       "2                                                  0                                      \n",
       "3                                                  0                                      \n",
       "4                                                  0                                      \n",
       "\n",
       "   Q9_Loneliness_Meaning_Qual_having no one to be with/ to care about you/to meet up spontanously for a coffee  \\\n",
       "0                                                  0                                                             \n",
       "1                                                  0                                                             \n",
       "2                                                  0                                                             \n",
       "3                                                  0                                                             \n",
       "4                                                  0                                                             \n",
       "\n",
       "   Q9_Loneliness_Meaning_Qual_isolation, inability to cope   \\\n",
       "0                                                  0          \n",
       "1                                                  0          \n",
       "2                                                  0          \n",
       "3                                                  0          \n",
       "4                                                  0          \n",
       "\n",
       "   Q9_Loneliness_Meaning_Qual_no one to talk to. isolation. cut off. lack of affection. unconnected.  \\\n",
       "0                                                  0                                                   \n",
       "1                                                  0                                                   \n",
       "2                                                  0                                                   \n",
       "3                                                  0                                                   \n",
       "4                                                  0                                                   \n",
       "\n",
       "   Q9_Loneliness_Meaning_Qual_not belonging. not feeling acknowledged. when alone at certain times eg bank holidays  \\\n",
       "0                                                  0                                                                  \n",
       "1                                                  0                                                                  \n",
       "2                                                  0                                                                  \n",
       "3                                                  0                                                                  \n",
       "4                                                  0                                                                  \n",
       "\n",
       "   Q9_Loneliness_Meaning_Qual_not having someone to come home to  \\\n",
       "0                                                  0               \n",
       "1                                                  0               \n",
       "2                                                  0               \n",
       "3                                                  0               \n",
       "4                                                  0               \n",
       "\n",
       "   Q9_Loneliness_Meaning_Qual_not having someone to talk to  \\\n",
       "0                                                  0          \n",
       "1                                                  0          \n",
       "2                                                  0          \n",
       "3                                                  0          \n",
       "4                                                  0          \n",
       "\n",
       "   Q9_Loneliness_Meaning_Qual_not talking to someone, no support, alone with my thoughts and ideas, alone on activities  \\\n",
       "0                                                  0                                                                      \n",
       "1                                                  0                                                                      \n",
       "2                                                  0                                                                      \n",
       "3                                                  0                                                                      \n",
       "4                                                  0                                                                      \n",
       "\n",
       "   Q9_Loneliness_Meaning_Qual_not to be understood, feeling apart even with them together  \\\n",
       "0                                                  0                                        \n",
       "1                                                  0                                        \n",
       "2                                                  0                                        \n",
       "3                                                  0                                        \n",
       "4                                                  0                                        \n",
       "\n",
       "   Q9_Loneliness_Meaning_Qual_sadness, depression, wasting time.  \n",
       "0                                                  0              \n",
       "1                                                  0              \n",
       "2                                                  0              \n",
       "3                                                  0              \n",
       "4                                                  0              \n",
       "\n",
       "[5 rows x 96 columns]"
      ]
     },
     "execution_count": 117,
     "metadata": {},
     "output_type": "execute_result"
    }
   ],
   "source": [
    "new_raw_data.head()"
   ]
  },
  {
   "cell_type": "code",
   "execution_count": 118,
   "id": "e16bcb2d",
   "metadata": {},
   "outputs": [],
   "source": [
    "kmeans = KMeans(n_clusters=5, random_state=2)\n",
    "kmeans = kmeans.fit(X_train)"
   ]
  },
  {
   "cell_type": "code",
   "execution_count": 119,
   "id": "8f7f25b1",
   "metadata": {},
   "outputs": [],
   "source": [
    "raw_data['Clusters'] = predictions"
   ]
  },
  {
   "cell_type": "code",
   "execution_count": 120,
   "id": "94e377d5",
   "metadata": {},
   "outputs": [
    {
     "data": {
      "text/html": [
       "<div>\n",
       "<style scoped>\n",
       "    .dataframe tbody tr th:only-of-type {\n",
       "        vertical-align: middle;\n",
       "    }\n",
       "\n",
       "    .dataframe tbody tr th {\n",
       "        vertical-align: top;\n",
       "    }\n",
       "\n",
       "    .dataframe thead th {\n",
       "        text-align: right;\n",
       "    }\n",
       "</style>\n",
       "<table border=\"1\" class=\"dataframe\">\n",
       "  <thead>\n",
       "    <tr style=\"text-align: right;\">\n",
       "      <th></th>\n",
       "      <th>Q9_Loneliness_Meaning_Qual</th>\n",
       "      <th>Clusters</th>\n",
       "    </tr>\n",
       "  </thead>\n",
       "  <tbody>\n",
       "    <tr>\n",
       "      <th>0</th>\n",
       "      <td>Makes me feel empty</td>\n",
       "      <td>0</td>\n",
       "    </tr>\n",
       "    <tr>\n",
       "      <th>1</th>\n",
       "      <td>Not speaking to anyone for days. Being out wit...</td>\n",
       "      <td>0</td>\n",
       "    </tr>\n",
       "    <tr>\n",
       "      <th>2</th>\n",
       "      <td>I am a very loving generous person but due to ...</td>\n",
       "      <td>0</td>\n",
       "    </tr>\n",
       "    <tr>\n",
       "      <th>3</th>\n",
       "      <td>Unlikeable</td>\n",
       "      <td>0</td>\n",
       "    </tr>\n",
       "    <tr>\n",
       "      <th>4</th>\n",
       "      <td>Feeling like you aren't connected to the world...</td>\n",
       "      <td>0</td>\n",
       "    </tr>\n",
       "  </tbody>\n",
       "</table>\n",
       "</div>"
      ],
      "text/plain": [
       "                          Q9_Loneliness_Meaning_Qual  Clusters\n",
       "0                                Makes me feel empty         0\n",
       "1  Not speaking to anyone for days. Being out wit...         0\n",
       "2  I am a very loving generous person but due to ...         0\n",
       "3                                         Unlikeable         0\n",
       "4  Feeling like you aren't connected to the world...         0"
      ]
     },
     "execution_count": 120,
     "metadata": {},
     "output_type": "execute_result"
    }
   ],
   "source": [
    "raw_data.head()"
   ]
  },
  {
   "cell_type": "code",
   "execution_count": 121,
   "id": "8ef902c5",
   "metadata": {},
   "outputs": [],
   "source": [
    "raw_data.to_csv('raw_data4.csv', index = False)"
   ]
  },
  {
   "cell_type": "code",
   "execution_count": null,
   "id": "4be23c09",
   "metadata": {},
   "outputs": [],
   "source": []
  },
  {
   "cell_type": "code",
   "execution_count": null,
   "id": "230bf79a",
   "metadata": {},
   "outputs": [],
   "source": []
  }
 ],
 "metadata": {
  "kernelspec": {
   "display_name": "Python 3",
   "language": "python",
   "name": "python3"
  },
  "language_info": {
   "codemirror_mode": {
    "name": "ipython",
    "version": 3
   },
   "file_extension": ".py",
   "mimetype": "text/x-python",
   "name": "python",
   "nbconvert_exporter": "python",
   "pygments_lexer": "ipython3",
   "version": "3.8.8"
  }
 },
 "nbformat": 4,
 "nbformat_minor": 5
}
