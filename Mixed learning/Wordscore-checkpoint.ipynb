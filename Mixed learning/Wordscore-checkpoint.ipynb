{
 "cells": [
  {
   "cell_type": "code",
   "execution_count": 21,
   "id": "6933d418",
   "metadata": {},
   "outputs": [],
   "source": [
    "fruits = ['Apple','Mango','Banana','Kiwi','Orange']"
   ]
  },
  {
   "cell_type": "code",
   "execution_count": 22,
   "id": "b7d8f445",
   "metadata": {},
   "outputs": [
    {
     "name": "stdout",
     "output_type": "stream",
     "text": [
      "Apple\n",
      "Mango\n",
      "Banana\n",
      "Kiwi\n",
      "Orange\n"
     ]
    }
   ],
   "source": [
    "for fruit in fruits:\n",
    "    print(fruit)"
   ]
  },
  {
   "cell_type": "code",
   "execution_count": 25,
   "id": "e6a825b1",
   "metadata": {},
   "outputs": [
    {
     "name": "stdout",
     "output_type": "stream",
     "text": [
      "A\n",
      "B\n",
      "A\n",
      "B+\n"
     ]
    }
   ],
   "source": [
    "grade = ['A','B','A','B+']\n",
    "\n",
    "for G in grade:\n",
    "    print(G)"
   ]
  },
  {
   "cell_type": "code",
   "execution_count": 55,
   "id": "358fa1fb",
   "metadata": {},
   "outputs": [
    {
     "ename": "SyntaxError",
     "evalue": "invalid syntax (<ipython-input-55-414bc7de84ec>, line 2)",
     "output_type": "error",
     "traceback": [
      "\u001b[1;36m  File \u001b[1;32m\"<ipython-input-55-414bc7de84ec>\"\u001b[1;36m, line \u001b[1;32m2\u001b[0m\n\u001b[1;33m    for i in range(0,mygrade,1):\u001b[0m\n\u001b[1;37m                               ^\u001b[0m\n\u001b[1;31mSyntaxError\u001b[0m\u001b[1;31m:\u001b[0m invalid syntax\n"
     ]
    }
   ],
   "source": [
    "mygrade = int(input('How many Grade did you get? ')\n",
    "              for i in range(0,mygrade,1):\n",
    "              grades=[]\n",
    "              Grade=float(input('What are your grades: '))\n",
    "              grades.append(Grade)\n",
    "    print('Your grades are: ')\n",
    "              for i in range(0,mygrade,1):\n",
    "                  print(grades[i])\n",
    "              \n",
    "             "
   ]
  },
  {
   "cell_type": "code",
   "execution_count": 3,
   "id": "af5b0371",
   "metadata": {},
   "outputs": [
    {
     "data": {
      "text/html": [
       "<div>\n",
       "<style scoped>\n",
       "    .dataframe tbody tr th:only-of-type {\n",
       "        vertical-align: middle;\n",
       "    }\n",
       "\n",
       "    .dataframe tbody tr th {\n",
       "        vertical-align: top;\n",
       "    }\n",
       "\n",
       "    .dataframe thead th {\n",
       "        text-align: right;\n",
       "    }\n",
       "</style>\n",
       "<table border=\"1\" class=\"dataframe\">\n",
       "  <thead>\n",
       "    <tr style=\"text-align: right;\">\n",
       "      <th></th>\n",
       "      <th>referenceCase1</th>\n",
       "      <th>referenceCase2</th>\n",
       "      <th>referenceCase3</th>\n",
       "    </tr>\n",
       "  </thead>\n",
       "  <tbody>\n",
       "    <tr>\n",
       "      <th>score</th>\n",
       "      <td>1.1</td>\n",
       "      <td>3.7</td>\n",
       "      <td>8.2</td>\n",
       "    </tr>\n",
       "  </tbody>\n",
       "</table>\n",
       "</div>"
      ],
      "text/plain": [
       "       referenceCase1  referenceCase2  referenceCase3\n",
       "score             1.1             3.7             8.2"
      ]
     },
     "execution_count": 3,
     "metadata": {},
     "output_type": "execute_result"
    }
   ],
   "source": [
    "import pandas as pd\n",
    "Ar = pd.DataFrame({'referenceCase1': 1.1, # these are just examples\n",
    "                   'referenceCase2': 3.7, \n",
    "                   'referenceCase3': 8.2},\n",
    "                   index = ['score'])\n",
    "Ar"
   ]
  },
  {
   "cell_type": "code",
   "execution_count": null,
   "id": "cab9ad74",
   "metadata": {},
   "outputs": [],
   "source": [
    "import os\n",
    "import numpy as np\n",
    "import pandas as pd\n",
    " \n",
    "ipath = '/Users/username/inputdata/' # folder containing the CSV files\n",
    "opath = '/Users/username/outputdata/' # folder where output will be saved\n",
    " \n",
    "# hardcode your reference cases and their scores\n",
    "Ar = pd.DataFrame({'referenceCase1': 1.1, # these are just examples\n",
    "                   'referenceCase2': 3.7, \n",
    "                   'referenceCase3': 8.2},\n",
    "                   index = ['score'])\n",
    " \n",
    "# create function to load and merge data\n",
    "def loadData(caseSet, path, cols):\n",
    "    '''\n",
    "    iterable, string, dict -&gt; pandas.DataFrame\n",
    "    '''\n",
    "    output = pd.DataFrame(columns = ['word'])\n",
    "    for case in caseSet:\n",
    "    \n",
    "        # check if case is casename or filename\n",
    "        if '.csv' not in case:\n",
    "            case = case + '.csv'\n",
    " \n",
    "        # load new data file\n",
    "        newData = pd.read_csv(path + case,\n",
    "                              usecols = [col for col in cols.keys()],\n",
    "                              dtype = cols,\n",
    "                              names = ['word', case.replace('.csv', '')],\n",
    "                              header = None)\n",
    " \n",
    "        # merge with previous data\n",
    "        output = pd.merge(output, newData, on = 'word', how = 'outer')\n",
    "        output = output.fillna(0) # kill NaNs\n",
    "                          \n",
    "    return output\n",
    " \n",
    "# load reference data\n",
    "Fwr = loadData(Ar.keys(), ipath, {0: 'S30', 2: 'float'})\n",
    " \n",
    "# compute p(r|w) = f_wr / sum(f_wr)_{for all r}\n",
    "Pwr = Fwr.iloc[:, 1:].div(Fwr.sum(axis = 1), axis = 0)\n",
    " \n",
    "# compute Sw and save to file\n",
    "Sw = pd.DataFrame(Fwr.word)\n",
    "Sw['score'] = Pwr.dot(Ar.T)\n",
    "Sw.to_csv(opath + 'wordscores.csv', index = False)\n",
    " \n",
    "# load virgin data\n",
    "virginSet = [file for file in os.listdir(ipath) \n",
    "             if file.replace('.csv', '') not in Ar.keys()]\n",
    "virginAbsFreq = loadData(virginSet, ipath, {0: 'S30', 1: 'int'})\n",
    "Fwv = loadData(virginSet, ipath, {0: 'S30', 2: 'float'})\n",
    " \n",
    "# 1:1 merge Fwv with Sw (to discard all disjoint words)\n",
    "temp = pd.merge(Fwv, Sw, on = 'word', how = 'inner')\n",
    " \n",
    "# split filtered Sw\n",
    "cleanSw = pd.DataFrame(temp.score)\n",
    " \n",
    "# clean up filtered Fwv\n",
    "del temp['word']\n",
    "del temp['score']\n",
    "cleanFwv = temp\n",
    " \n",
    "# compute Sv = sum(Fwv * Sw)_{for all w}\n",
    "Sv = cleanFwv.T.dot(cleanSw)\n",
    " \n",
    "# compute transformed Sv\n",
    "Sv_t = (Sv - Sv.mean()) * (Ar.T.std() / Sv.std()) + Sv.mean()\n",
    " \n",
    "# compute Vv\n",
    "Vv = (cleanFwv * np.square((np.array(cleanSw) \n",
    "                            - np.array(Sv.T)))).sum(axis = 0)\n",
    " \n",
    "# 1:1 merge absolute frequencies with Sw (to discard all disjoint words)\n",
    "temp = pd.merge(virginAbsFreq, Sw, on = 'word', how = 'inner')\n",
    " \n",
    "# compute N\n",
    "del temp['word']\n",
    "del temp['score']\n",
    "N = temp.sum(axis = 0)\n",
    " \n",
    "# compute standard errors and confidence intervals\n",
    "std_error = np.sqrt(Vv / N)\n",
    "lower = np.array(Sv).flatten() - np.array((1.96 * std_error))\n",
    "upper = np.array(Sv).flatten() + np.array((1.96 * std_error))\n",
    " \n",
    "# compute transformed confidence intervals\n",
    "lower_t = (np.array(lower) - np.array(Sv.mean())) \\\n",
    "          * np.array((Ar.T.std() / Sv.std())) \\\n",
    "          + np.array(Sv.mean())\n",
    "upper_t = (np.array(upper) - np.array(Sv.mean())) \\\n",
    "          * np.array((Ar.T.std() / Sv.std())) \\\n",
    "          + np.array(Sv.mean())\n",
    " \n",
    "# print everything\n",
    "print ''\n",
    "print 'Original scores (w/ 95CI):'\n",
    "print ''\n",
    "Sv['lower'] = lower\n",
    "Sv['upper'] = upper\n",
    "print Sv\n",
    "print ''\n",
    "print 'Transformed scores (w/ 95CI):'\n",
    "print ''\n",
    "Sv_t['lower'] = lower_t\n",
    "Sv_t['upper'] = upper_t\n",
    "print Sv_t\n",
    "print ''\n",
    " \n",
    "# save transformed estimates to file\n",
    "Sv_t.to_csv(opath + 'virginScores.csv', index_label = 'case')"
   ]
  },
  {
   "cell_type": "code",
   "execution_count": null,
   "id": "497b9103",
   "metadata": {},
   "outputs": [],
   "source": []
  }
 ],
 "metadata": {
  "kernelspec": {
   "display_name": "Python 3",
   "language": "python",
   "name": "python3"
  },
  "language_info": {
   "codemirror_mode": {
    "name": "ipython",
    "version": 3
   },
   "file_extension": ".py",
   "mimetype": "text/x-python",
   "name": "python",
   "nbconvert_exporter": "python",
   "pygments_lexer": "ipython3",
   "version": "3.8.8"
  }
 },
 "nbformat": 4,
 "nbformat_minor": 5
}
