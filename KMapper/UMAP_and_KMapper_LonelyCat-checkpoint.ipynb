{
 "cells": [
  {
   "cell_type": "code",
   "execution_count": null,
   "id": "4ea293e3",
   "metadata": {},
   "outputs": [],
   "source": [
    "import kmapper as km\n",
    "from kmapper import Cover, jupyter\n",
    "import numpy as np\n",
    "\n",
    "from sklearn.datasets import fetch_20newsgroups\n",
    "from sklearn.cluster import AgglomerativeClustering\n",
    "from sklearn.feature_extraction.text import TfidfVectorizer\n",
    "from sklearn.decomposition import TruncatedSVD\n",
    "from sklearn.manifold import Isomap\n",
    "from sklearn.preprocessing import MinMaxScaler"
   ]
  },
  {
   "cell_type": "code",
   "execution_count": null,
   "id": "vFkiUvTAqeA3",
   "metadata": {
    "colab": {
     "base_uri": "https://localhost:8080/",
     "height": 206
    },
    "id": "vFkiUvTAqeA3",
    "outputId": "96989ccc-9317-4bef-baf7-8819e97cd57c"
   },
   "outputs": [],
   "source": [
    "\n",
    "import pandas as pd\n",
    "\n",
    "import math\n",
    "import numpy as np\n",
    "\n",
    "\n",
    "#raw_data = pd.read_csv(r'C:\\Users\\BRIGHT\\raw.csv')\n",
    "#raw_data.head()\n",
    "\n",
    "\n",
    "path_1 = r'C:\\Users\\BRIGHT\\BBCdata.csv'\n",
    "df_1 = pd.read_csv(path_1)\n",
    "df_1.head()"
   ]
  },
  {
   "cell_type": "code",
   "execution_count": null,
   "id": "vpSWR0BbseXo",
   "metadata": {
    "colab": {
     "base_uri": "https://localhost:8080/"
    },
    "id": "vpSWR0BbseXo",
    "outputId": "c7cb8197-d095-43d5-a89b-f208decb2639"
   },
   "outputs": [],
   "source": [
    "df_1.shape"
   ]
  },
  {
   "cell_type": "code",
   "execution_count": null,
   "id": "ZigAhagTPuLB",
   "metadata": {
    "id": "ZigAhagTPuLB"
   },
   "outputs": [],
   "source": [
    "import numpy as np\n",
    "\n",
    "df_1 = df_1.replace(\"#NULL!\t\", np.NaN)\n",
    "\n",
    "#df_1 = df_1.replace(np.NaN, 0 , inplace=True)"
   ]
  },
  {
   "cell_type": "code",
   "execution_count": null,
   "id": "v_GsAvFCQ6zY",
   "metadata": {
    "colab": {
     "base_uri": "https://localhost:8080/",
     "height": 424
    },
    "id": "v_GsAvFCQ6zY",
    "outputId": "6e4837cd-574a-4bc9-9afd-70090d458e44"
   },
   "outputs": [],
   "source": [
    "df_1.head()"
   ]
  },
  {
   "cell_type": "markdown",
   "id": "sCfNjh9N87EK",
   "metadata": {
    "id": "sCfNjh9N87EK"
   },
   "source": [
    "## I encoded the file with (encoding=\"ISO-8859-1\") for my CSV file that took 3 hours"
   ]
  },
  {
   "cell_type": "code",
   "execution_count": null,
   "id": "oFnNkJw77RNm",
   "metadata": {
    "colab": {
     "base_uri": "https://localhost:8080/",
     "height": 206
    },
    "id": "oFnNkJw77RNm",
    "outputId": "2550d564-4be5-4e6a-9140-298f9605c2e1"
   },
   "outputs": [],
   "source": [
    "path_2 = r'C:\\Users\\BRIGHT\\raw.csv'\n",
    "df_2 = pd.read_csv(path_2)  # , encoding=\"ISO-8859-1\")\n",
    "# df_2.head()"
   ]
  },
  {
   "cell_type": "code",
   "execution_count": null,
   "id": "41ba6a05",
   "metadata": {
    "id": "ESSETYnJcUY6"
   },
   "outputs": [],
   "source": [
    "df_1.replace(\"#NULL!\", \"0\", inplace=True)"
   ]
  },
  {
   "cell_type": "code",
   "execution_count": null,
   "id": "SIGa_Z7c9Mqy",
   "metadata": {
    "colab": {
     "base_uri": "https://localhost:8080/"
    },
    "id": "SIGa_Z7c9Mqy",
    "outputId": "7c69f420-c001-4ea4-8e22-19cb3a0e00de"
   },
   "outputs": [],
   "source": [
    " df_2"
   ]
  },
  {
   "cell_type": "code",
   "execution_count": 9,
   "id": "d636d642",
   "metadata": {
    "id": "d636d642"
   },
   "outputs": [],
   "source": [
    "# Renaming column\n",
    "\n",
    "clean_data = df_2.rename(columns = {'Q9_Loneliness_Meaning_Qual': 'response'})"
   ]
  },
  {
   "cell_type": "code",
   "execution_count": 10,
   "id": "b05092d9",
   "metadata": {},
   "outputs": [],
   "source": [
    "clean_data = clean_data[clean_data['response'].notnull()]"
   ]
  },
  {
   "cell_type": "code",
   "execution_count": 11,
   "id": "8c7e444d",
   "metadata": {},
   "outputs": [],
   "source": [
    " from nltk.corpus import stopwords\n",
    "stop = stopwords.words('english')\n",
    "\n",
    " clean_data[\"response\"] = clean_data[\"response\"].apply(lambda x: ' '.join([word for word in x.split() if word not in (stop)]))"
   ]
  },
  {
   "cell_type": "code",
   "execution_count": 12,
   "id": "Li-PgpxR3UDm",
   "metadata": {
    "colab": {
     "base_uri": "https://localhost:8080/"
    },
    "id": "Li-PgpxR3UDm",
    "outputId": "3908a018-53dd-4681-9d69-df0bd39019ca"
   },
   "outputs": [],
   "source": [
    "clean_data['response'] = clean_data['response'].str.lower()\n",
    "#ean_data['response'] = clean_data['response'].str.replace('[^a-z0-9]+', ' ')\n",
    "clean_data['response'] = clean_data['response'].str.findall('\\w{3,}').str.join(' ')"
   ]
  },
  {
   "cell_type": "code",
   "execution_count": 13,
   "id": "b33eb388",
   "metadata": {},
   "outputs": [
    {
     "data": {
      "text/html": [
       "<div>\n",
       "<style scoped>\n",
       "    .dataframe tbody tr th:only-of-type {\n",
       "        vertical-align: middle;\n",
       "    }\n",
       "\n",
       "    .dataframe tbody tr th {\n",
       "        vertical-align: top;\n",
       "    }\n",
       "\n",
       "    .dataframe thead th {\n",
       "        text-align: right;\n",
       "    }\n",
       "</style>\n",
       "<table border=\"1\" class=\"dataframe\">\n",
       "  <thead>\n",
       "    <tr style=\"text-align: right;\">\n",
       "      <th></th>\n",
       "      <th>F</th>\n",
       "      <th>gender</th>\n",
       "      <th>age</th>\n",
       "      <th>response</th>\n",
       "    </tr>\n",
       "  </thead>\n",
       "  <tbody>\n",
       "    <tr>\n",
       "      <th>0</th>\n",
       "      <td>29</td>\n",
       "      <td>1.0</td>\n",
       "      <td>89.0</td>\n",
       "      <td>time reflect close family affairs time reflect...</td>\n",
       "    </tr>\n",
       "    <tr>\n",
       "      <th>1</th>\n",
       "      <td>30</td>\n",
       "      <td>2.0</td>\n",
       "      <td>44.0</td>\n",
       "      <td></td>\n",
       "    </tr>\n",
       "    <tr>\n",
       "      <th>2</th>\n",
       "      <td>31</td>\n",
       "      <td>NaN</td>\n",
       "      <td>NaN</td>\n",
       "      <td></td>\n",
       "    </tr>\n",
       "    <tr>\n",
       "      <th>3</th>\n",
       "      <td>32</td>\n",
       "      <td>2.0</td>\n",
       "      <td>63.0</td>\n",
       "      <td>not fitting sad distant emotionally others</td>\n",
       "    </tr>\n",
       "    <tr>\n",
       "      <th>4</th>\n",
       "      <td>33</td>\n",
       "      <td>NaN</td>\n",
       "      <td>NaN</td>\n",
       "      <td></td>\n",
       "    </tr>\n",
       "  </tbody>\n",
       "</table>\n",
       "</div>"
      ],
      "text/plain": [
       "    F  gender   age                                           response\n",
       "0  29     1.0  89.0  time reflect close family affairs time reflect...\n",
       "1  30     2.0  44.0                                                   \n",
       "2  31     NaN   NaN                                                   \n",
       "3  32     2.0  63.0         not fitting sad distant emotionally others\n",
       "4  33     NaN   NaN                                                   "
      ]
     },
     "execution_count": 13,
     "metadata": {},
     "output_type": "execute_result"
    }
   ],
   "source": [
    "clean_data.head()"
   ]
  },
  {
   "cell_type": "code",
   "execution_count": 14,
   "id": "BDOFQsTw3EwI",
   "metadata": {
    "id": "BDOFQsTw3EwI"
   },
   "outputs": [],
   "source": [
    "clean_data1 = clean_data[clean_data['response'] != '99']"
   ]
  },
  {
   "cell_type": "markdown",
   "id": "1467083a",
   "metadata": {
    "id": "MGtiuW782_f4"
   },
   "source": [
    "from sklearn.feature_extraction.text import TfidfVectorizer\n",
    "\n",
    "\n",
    "documents =clean_data['response'].values.astype(\"U\")\n",
    "\n",
    "\n",
    "\n",
    "vectorizer = TfidfVectorizer(stop_words = ('english'))\n",
    "features = vectorizer.fit_transform(documents)\n"
   ]
  },
  {
   "cell_type": "markdown",
   "id": "c703637e",
   "metadata": {
    "id": "z0AZfw3F3_i5"
   },
   "source": [
    "df_4 = pd.DataFrame(lens)"
   ]
  },
  {
   "cell_type": "code",
   "execution_count": 15,
   "id": "61927cfd",
   "metadata": {},
   "outputs": [
    {
     "data": {
      "text/plain": [
       "(55202, 4)"
      ]
     },
     "execution_count": 15,
     "metadata": {},
     "output_type": "execute_result"
    }
   ],
   "source": [
    "clean_data1.shape"
   ]
  },
  {
   "cell_type": "code",
   "execution_count": 16,
   "id": "88310b9d",
   "metadata": {},
   "outputs": [],
   "source": [
    "import string\n",
    "clean_data[\"response\"] = [char for char in clean_data[\"response\"]]"
   ]
  },
  {
   "cell_type": "code",
   "execution_count": 17,
   "id": "Ta8m4CiG4UUp",
   "metadata": {
    "id": "Ta8m4CiG4UUp"
   },
   "outputs": [],
   "source": [
    "df1 = pd.merge(df_1, clean_data, left_index=True, right_index=True)"
   ]
  },
  {
   "cell_type": "markdown",
   "id": "795ca3c6",
   "metadata": {
    "id": "9b4baa7f"
   },
   "source": [
    "df2 = pd.merge(df_1, df1, left_on='ID', right_on='F')"
   ]
  },
  {
   "cell_type": "code",
   "execution_count": 18,
   "id": "6057b9be",
   "metadata": {},
   "outputs": [
    {
     "data": {
      "text/html": [
       "<div>\n",
       "<style scoped>\n",
       "    .dataframe tbody tr th:only-of-type {\n",
       "        vertical-align: middle;\n",
       "    }\n",
       "\n",
       "    .dataframe tbody tr th {\n",
       "        vertical-align: top;\n",
       "    }\n",
       "\n",
       "    .dataframe thead th {\n",
       "        text-align: right;\n",
       "    }\n",
       "</style>\n",
       "<table border=\"1\" class=\"dataframe\">\n",
       "  <thead>\n",
       "    <tr style=\"text-align: right;\">\n",
       "      <th></th>\n",
       "      <th>ID</th>\n",
       "      <th>Live_Alone</th>\n",
       "      <th>groupedmaritalstatus</th>\n",
       "      <th>Lonelycategrical</th>\n",
       "      <th>positivelonelinessgrouped</th>\n",
       "      <th>groupedtimealone</th>\n",
       "      <th>groupedhealth</th>\n",
       "      <th>F</th>\n",
       "      <th>gender</th>\n",
       "      <th>age</th>\n",
       "      <th>response</th>\n",
       "    </tr>\n",
       "  </thead>\n",
       "  <tbody>\n",
       "    <tr>\n",
       "      <th>0</th>\n",
       "      <td>29</td>\n",
       "      <td>1</td>\n",
       "      <td>1.00</td>\n",
       "      <td>1.00</td>\n",
       "      <td>0</td>\n",
       "      <td>2.00</td>\n",
       "      <td>1.00</td>\n",
       "      <td>29</td>\n",
       "      <td>1.0</td>\n",
       "      <td>89.0</td>\n",
       "      <td>time reflect close family affairs time reflect...</td>\n",
       "    </tr>\n",
       "    <tr>\n",
       "      <th>1</th>\n",
       "      <td>32</td>\n",
       "      <td>1</td>\n",
       "      <td>1.00</td>\n",
       "      <td>2.00</td>\n",
       "      <td>1.00</td>\n",
       "      <td>2.00</td>\n",
       "      <td>1.00</td>\n",
       "      <td>30</td>\n",
       "      <td>2.0</td>\n",
       "      <td>44.0</td>\n",
       "      <td></td>\n",
       "    </tr>\n",
       "    <tr>\n",
       "      <th>2</th>\n",
       "      <td>33</td>\n",
       "      <td>-99</td>\n",
       "      <td>0</td>\n",
       "      <td>0</td>\n",
       "      <td>0</td>\n",
       "      <td>0</td>\n",
       "      <td>0</td>\n",
       "      <td>31</td>\n",
       "      <td>NaN</td>\n",
       "      <td>NaN</td>\n",
       "      <td></td>\n",
       "    </tr>\n",
       "    <tr>\n",
       "      <th>3</th>\n",
       "      <td>34</td>\n",
       "      <td>1</td>\n",
       "      <td>1.00</td>\n",
       "      <td>1.00</td>\n",
       "      <td>2.00</td>\n",
       "      <td>1.00</td>\n",
       "      <td>2.00</td>\n",
       "      <td>32</td>\n",
       "      <td>2.0</td>\n",
       "      <td>63.0</td>\n",
       "      <td>not fitting sad distant emotionally others</td>\n",
       "    </tr>\n",
       "    <tr>\n",
       "      <th>4</th>\n",
       "      <td>35</td>\n",
       "      <td>-99</td>\n",
       "      <td>0</td>\n",
       "      <td>0</td>\n",
       "      <td>0</td>\n",
       "      <td>0</td>\n",
       "      <td>0</td>\n",
       "      <td>33</td>\n",
       "      <td>NaN</td>\n",
       "      <td>NaN</td>\n",
       "      <td></td>\n",
       "    </tr>\n",
       "  </tbody>\n",
       "</table>\n",
       "</div>"
      ],
      "text/plain": [
       "   ID  Live_Alone groupedmaritalstatus Lonelycategrical  \\\n",
       "0  29           1                 1.00             1.00   \n",
       "1  32           1                 1.00             2.00   \n",
       "2  33         -99                    0                0   \n",
       "3  34           1                 1.00             1.00   \n",
       "4  35         -99                    0                0   \n",
       "\n",
       "  positivelonelinessgrouped groupedtimealone groupedhealth   F  gender   age  \\\n",
       "0                         0             2.00          1.00  29     1.0  89.0   \n",
       "1                      1.00             2.00          1.00  30     2.0  44.0   \n",
       "2                         0                0             0  31     NaN   NaN   \n",
       "3                      2.00             1.00          2.00  32     2.0  63.0   \n",
       "4                         0                0             0  33     NaN   NaN   \n",
       "\n",
       "                                            response  \n",
       "0  time reflect close family affairs time reflect...  \n",
       "1                                                     \n",
       "2                                                     \n",
       "3         not fitting sad distant emotionally others  \n",
       "4                                                     "
      ]
     },
     "execution_count": 18,
     "metadata": {},
     "output_type": "execute_result"
    }
   ],
   "source": [
    "df1.head()"
   ]
  },
  {
   "cell_type": "code",
   "execution_count": 19,
   "id": "c4d899f5",
   "metadata": {},
   "outputs": [
    {
     "data": {
      "text/plain": [
       "ID                             int64\n",
       "Live_Alone                     int64\n",
       "groupedmaritalstatus          object\n",
       "Lonelycategrical              object\n",
       "positivelonelinessgrouped     object\n",
       "groupedtimealone              object\n",
       "groupedhealth                 object\n",
       "F                              int64\n",
       "gender                       float64\n",
       "age                          float64\n",
       "response                      object\n",
       "dtype: object"
      ]
     },
     "execution_count": 19,
     "metadata": {},
     "output_type": "execute_result"
    }
   ],
   "source": [
    "df1.dtypes"
   ]
  },
  {
   "cell_type": "code",
   "execution_count": 20,
   "id": "8d8a3680",
   "metadata": {},
   "outputs": [],
   "source": [
    "df_sel = df1[[\"ID\",\"groupedmaritalstatus\",\"Live_Alone\", \"Lonelycategrical\", \"response\"]]"
   ]
  },
  {
   "cell_type": "code",
   "execution_count": 21,
   "id": "1408dbcd",
   "metadata": {},
   "outputs": [
    {
     "data": {
      "text/html": [
       "<div>\n",
       "<style scoped>\n",
       "    .dataframe tbody tr th:only-of-type {\n",
       "        vertical-align: middle;\n",
       "    }\n",
       "\n",
       "    .dataframe tbody tr th {\n",
       "        vertical-align: top;\n",
       "    }\n",
       "\n",
       "    .dataframe thead th {\n",
       "        text-align: right;\n",
       "    }\n",
       "</style>\n",
       "<table border=\"1\" class=\"dataframe\">\n",
       "  <thead>\n",
       "    <tr style=\"text-align: right;\">\n",
       "      <th></th>\n",
       "      <th>ID</th>\n",
       "      <th>groupedmaritalstatus</th>\n",
       "      <th>Live_Alone</th>\n",
       "      <th>Lonelycategrical</th>\n",
       "      <th>response</th>\n",
       "    </tr>\n",
       "  </thead>\n",
       "  <tbody>\n",
       "    <tr>\n",
       "      <th>0</th>\n",
       "      <td>29</td>\n",
       "      <td>1.00</td>\n",
       "      <td>1</td>\n",
       "      <td>1.00</td>\n",
       "      <td>time reflect close family affairs time reflect...</td>\n",
       "    </tr>\n",
       "    <tr>\n",
       "      <th>1</th>\n",
       "      <td>32</td>\n",
       "      <td>1.00</td>\n",
       "      <td>1</td>\n",
       "      <td>2.00</td>\n",
       "      <td></td>\n",
       "    </tr>\n",
       "    <tr>\n",
       "      <th>2</th>\n",
       "      <td>33</td>\n",
       "      <td>0</td>\n",
       "      <td>-99</td>\n",
       "      <td>0</td>\n",
       "      <td></td>\n",
       "    </tr>\n",
       "    <tr>\n",
       "      <th>3</th>\n",
       "      <td>34</td>\n",
       "      <td>1.00</td>\n",
       "      <td>1</td>\n",
       "      <td>1.00</td>\n",
       "      <td>not fitting sad distant emotionally others</td>\n",
       "    </tr>\n",
       "    <tr>\n",
       "      <th>4</th>\n",
       "      <td>35</td>\n",
       "      <td>0</td>\n",
       "      <td>-99</td>\n",
       "      <td>0</td>\n",
       "      <td></td>\n",
       "    </tr>\n",
       "    <tr>\n",
       "      <th>...</th>\n",
       "      <td>...</td>\n",
       "      <td>...</td>\n",
       "      <td>...</td>\n",
       "      <td>...</td>\n",
       "      <td>...</td>\n",
       "    </tr>\n",
       "    <tr>\n",
       "      <th>55055</th>\n",
       "      <td>55227</td>\n",
       "      <td>0</td>\n",
       "      <td>-99</td>\n",
       "      <td>0</td>\n",
       "      <td></td>\n",
       "    </tr>\n",
       "    <tr>\n",
       "      <th>55056</th>\n",
       "      <td>55228</td>\n",
       "      <td>0</td>\n",
       "      <td>-99</td>\n",
       "      <td>0</td>\n",
       "      <td></td>\n",
       "    </tr>\n",
       "    <tr>\n",
       "      <th>55057</th>\n",
       "      <td>55229</td>\n",
       "      <td>0</td>\n",
       "      <td>-99</td>\n",
       "      <td>0</td>\n",
       "      <td></td>\n",
       "    </tr>\n",
       "    <tr>\n",
       "      <th>55058</th>\n",
       "      <td>55230</td>\n",
       "      <td>0</td>\n",
       "      <td>-99</td>\n",
       "      <td>0</td>\n",
       "      <td></td>\n",
       "    </tr>\n",
       "    <tr>\n",
       "      <th>55059</th>\n",
       "      <td>55231</td>\n",
       "      <td>0</td>\n",
       "      <td>-99</td>\n",
       "      <td>0</td>\n",
       "      <td></td>\n",
       "    </tr>\n",
       "  </tbody>\n",
       "</table>\n",
       "<p>55059 rows × 5 columns</p>\n",
       "</div>"
      ],
      "text/plain": [
       "          ID groupedmaritalstatus  Live_Alone Lonelycategrical  \\\n",
       "0         29                 1.00           1             1.00   \n",
       "1         32                 1.00           1             2.00   \n",
       "2         33                    0         -99                0   \n",
       "3         34                 1.00           1             1.00   \n",
       "4         35                    0         -99                0   \n",
       "...      ...                  ...         ...              ...   \n",
       "55055  55227                    0         -99                0   \n",
       "55056  55228                    0         -99                0   \n",
       "55057  55229                    0         -99                0   \n",
       "55058  55230                    0         -99                0   \n",
       "55059  55231                    0         -99                0   \n",
       "\n",
       "                                                response  \n",
       "0      time reflect close family affairs time reflect...  \n",
       "1                                                         \n",
       "2                                                         \n",
       "3             not fitting sad distant emotionally others  \n",
       "4                                                         \n",
       "...                                                  ...  \n",
       "55055                                                     \n",
       "55056                                                     \n",
       "55057                                                     \n",
       "55058                                                     \n",
       "55059                                                     \n",
       "\n",
       "[55059 rows x 5 columns]"
      ]
     },
     "execution_count": 21,
     "metadata": {},
     "output_type": "execute_result"
    }
   ],
   "source": [
    "df_sel"
   ]
  },
  {
   "cell_type": "code",
   "execution_count": 22,
   "id": "061bcf7e",
   "metadata": {},
   "outputs": [],
   "source": [
    "Not_lonely = df_sel[df_sel.Lonelycategrical == '1.00']\n",
    "Lonely = df_sel[df_sel.Lonelycategrical == '2.00']"
   ]
  },
  {
   "cell_type": "code",
   "execution_count": 23,
   "id": "22dcb102",
   "metadata": {},
   "outputs": [
    {
     "data": {
      "text/plain": [
       "(29778, 14847)"
      ]
     },
     "execution_count": 23,
     "metadata": {},
     "output_type": "execute_result"
    }
   ],
   "source": [
    "len(Not_lonely), len(Lonely)"
   ]
  },
  {
   "cell_type": "code",
   "execution_count": null,
   "id": "2aa01303",
   "metadata": {},
   "outputs": [],
   "source": []
  },
  {
   "cell_type": "code",
   "execution_count": 24,
   "id": "baf23019",
   "metadata": {},
   "outputs": [
    {
     "data": {
      "text/html": [
       "<div>\n",
       "<style scoped>\n",
       "    .dataframe tbody tr th:only-of-type {\n",
       "        vertical-align: middle;\n",
       "    }\n",
       "\n",
       "    .dataframe tbody tr th {\n",
       "        vertical-align: top;\n",
       "    }\n",
       "\n",
       "    .dataframe thead th {\n",
       "        text-align: right;\n",
       "    }\n",
       "</style>\n",
       "<table border=\"1\" class=\"dataframe\">\n",
       "  <thead>\n",
       "    <tr style=\"text-align: right;\">\n",
       "      <th></th>\n",
       "      <th>ID</th>\n",
       "      <th>groupedmaritalstatus</th>\n",
       "      <th>Live_Alone</th>\n",
       "      <th>Lonelycategrical</th>\n",
       "      <th>response</th>\n",
       "    </tr>\n",
       "  </thead>\n",
       "  <tbody>\n",
       "    <tr>\n",
       "      <th>0</th>\n",
       "      <td>29</td>\n",
       "      <td>1.00</td>\n",
       "      <td>1</td>\n",
       "      <td>1.00</td>\n",
       "      <td>time reflect close family affairs time reflect...</td>\n",
       "    </tr>\n",
       "    <tr>\n",
       "      <th>3</th>\n",
       "      <td>34</td>\n",
       "      <td>1.00</td>\n",
       "      <td>1</td>\n",
       "      <td>1.00</td>\n",
       "      <td>not fitting sad distant emotionally others</td>\n",
       "    </tr>\n",
       "    <tr>\n",
       "      <th>5</th>\n",
       "      <td>36</td>\n",
       "      <td>1.00</td>\n",
       "      <td>1</td>\n",
       "      <td>1.00</td>\n",
       "      <td></td>\n",
       "    </tr>\n",
       "    <tr>\n",
       "      <th>7</th>\n",
       "      <td>38</td>\n",
       "      <td>1.00</td>\n",
       "      <td>1</td>\n",
       "      <td>1.00</td>\n",
       "      <td>feeling like one turn rely having one speak</td>\n",
       "    </tr>\n",
       "    <tr>\n",
       "      <th>11</th>\n",
       "      <td>42</td>\n",
       "      <td>2.00</td>\n",
       "      <td>1</td>\n",
       "      <td>1.00</td>\n",
       "      <td></td>\n",
       "    </tr>\n",
       "    <tr>\n",
       "      <th>...</th>\n",
       "      <td>...</td>\n",
       "      <td>...</td>\n",
       "      <td>...</td>\n",
       "      <td>...</td>\n",
       "      <td>...</td>\n",
       "    </tr>\n",
       "    <tr>\n",
       "      <th>46698</th>\n",
       "      <td>46870</td>\n",
       "      <td>2.00</td>\n",
       "      <td>1</td>\n",
       "      <td>1.00</td>\n",
       "      <td>not knowing turn times wanting share news worr...</td>\n",
       "    </tr>\n",
       "    <tr>\n",
       "      <th>46732</th>\n",
       "      <td>46904</td>\n",
       "      <td>2.00</td>\n",
       "      <td>2</td>\n",
       "      <td>1.00</td>\n",
       "      <td></td>\n",
       "    </tr>\n",
       "    <tr>\n",
       "      <th>46738</th>\n",
       "      <td>46910</td>\n",
       "      <td>1.00</td>\n",
       "      <td>1</td>\n",
       "      <td>1.00</td>\n",
       "      <td>void being surrounded people able reach anyone...</td>\n",
       "    </tr>\n",
       "    <tr>\n",
       "      <th>46937</th>\n",
       "      <td>47109</td>\n",
       "      <td>2.00</td>\n",
       "      <td>2</td>\n",
       "      <td>1.00</td>\n",
       "      <td>lack meaningful relationships unhappy self</td>\n",
       "    </tr>\n",
       "    <tr>\n",
       "      <th>46938</th>\n",
       "      <td>47110</td>\n",
       "      <td>1.00</td>\n",
       "      <td>1</td>\n",
       "      <td>1.00</td>\n",
       "      <td>feeling one share things with</td>\n",
       "    </tr>\n",
       "  </tbody>\n",
       "</table>\n",
       "<p>29778 rows × 5 columns</p>\n",
       "</div>"
      ],
      "text/plain": [
       "          ID groupedmaritalstatus  Live_Alone Lonelycategrical  \\\n",
       "0         29                 1.00           1             1.00   \n",
       "3         34                 1.00           1             1.00   \n",
       "5         36                 1.00           1             1.00   \n",
       "7         38                 1.00           1             1.00   \n",
       "11        42                 2.00           1             1.00   \n",
       "...      ...                  ...         ...              ...   \n",
       "46698  46870                 2.00           1             1.00   \n",
       "46732  46904                 2.00           2             1.00   \n",
       "46738  46910                 1.00           1             1.00   \n",
       "46937  47109                 2.00           2             1.00   \n",
       "46938  47110                 1.00           1             1.00   \n",
       "\n",
       "                                                response  \n",
       "0      time reflect close family affairs time reflect...  \n",
       "3             not fitting sad distant emotionally others  \n",
       "5                                                         \n",
       "7            feeling like one turn rely having one speak  \n",
       "11                                                        \n",
       "...                                                  ...  \n",
       "46698  not knowing turn times wanting share news worr...  \n",
       "46732                                                     \n",
       "46738  void being surrounded people able reach anyone...  \n",
       "46937         lack meaningful relationships unhappy self  \n",
       "46938                      feeling one share things with  \n",
       "\n",
       "[29778 rows x 5 columns]"
      ]
     },
     "execution_count": 24,
     "metadata": {},
     "output_type": "execute_result"
    }
   ],
   "source": [
    "Not_lonely"
   ]
  },
  {
   "cell_type": "code",
   "execution_count": 25,
   "id": "51ba14c8",
   "metadata": {},
   "outputs": [],
   "source": [
    "y = np.array(Not_lonely.ID)\n",
    "y2 = np.array(Lonely.ID)\n",
    "# print(\"SAMPLE\",X[0])\n",
    "# print(\"SHAPE\",X.shape)\n",
    "# print(\"TARGET\",target_names[y[0]])"
   ]
  },
  {
   "cell_type": "code",
   "execution_count": 27,
   "id": "dd1972fd",
   "metadata": {},
   "outputs": [],
   "source": [
    "from sklearn.feature_extraction.text import TfidfVectorizer\n",
    "\n",
    "\n",
    "documents1 = Not_lonely.response.values.astype(\"U\")\n",
    "\n",
    "\n",
    "documents2 =Lonely.response.values.astype(\"U\")\n",
    "\n",
    "vectorizer = TfidfVectorizer(stop_words = ('english'))\n",
    "features1 = vectorizer.fit_transform(documents1)\n",
    "\n",
    "features2 = vectorizer.fit_transform(documents2)\n"
   ]
  },
  {
   "cell_type": "code",
   "execution_count": null,
   "id": "29a1f619",
   "metadata": {},
   "outputs": [],
   "source": [
    "features1.shape"
   ]
  },
  {
   "cell_type": "code",
   "execution_count": 28,
   "id": "c09d11cf",
   "metadata": {},
   "outputs": [],
   "source": [
    "len_01 = TruncatedSVD(n_components=100, n_iter=7,  random_state=42).fit_transform(features1)\n",
    "\n",
    "len_02 = TruncatedSVD(n_components=100, n_iter=7,  random_state=42).fit_transform(features2)"
   ]
  },
  {
   "cell_type": "code",
   "execution_count": null,
   "id": "9acf3732",
   "metadata": {},
   "outputs": [],
   "source": [
    "len_01"
   ]
  },
  {
   "cell_type": "code",
   "execution_count": 29,
   "id": "a38ecd7c",
   "metadata": {},
   "outputs": [],
   "source": [
    "import umap\n",
    "import numpy as np\n",
    "lens1 = umap.UMAP(n_components=2,\n",
    "                  random_state=1).fit_transform(len_01)\n",
    "\n",
    "lens2 = umap.UMAP(n_components=2,\n",
    "                  random_state=1).fit_transform(len_02)"
   ]
  },
  {
   "cell_type": "code",
   "execution_count": 31,
   "id": "bb2d1268",
   "metadata": {},
   "outputs": [],
   "source": [
    "import persim"
   ]
  },
  {
   "cell_type": "code",
   "execution_count": 33,
   "id": "daf0c081",
   "metadata": {},
   "outputs": [
    {
     "ename": "SyntaxError",
     "evalue": "invalid syntax (<ipython-input-33-ebea9b0021d8>, line 5)",
     "output_type": "error",
     "traceback": [
      "\u001b[1;36m  File \u001b[1;32m\"<ipython-input-33-ebea9b0021d8>\"\u001b[1;36m, line \u001b[1;32m5\u001b[0m\n\u001b[1;33m    as.factor = FALSE,\u001b[0m\n\u001b[1;37m    ^\u001b[0m\n\u001b[1;31mSyntaxError\u001b[0m\u001b[1;31m:\u001b[0m invalid syntax\n"
     ]
    }
   ],
   "source": [
    "bottleneck.plot(\n",
    "  rds.data,\n",
    "  outcome.variable,\n",
    "  est.func = RDS.II.estimates,\n",
    "  as.factor = FALSE,\n",
    "  n.eval.points = 25,\n",
    "  ...\n",
    ")"
   ]
  },
  {
   "cell_type": "code",
   "execution_count": null,
   "id": "4e8b50a2",
   "metadata": {},
   "outputs": [],
   "source": []
  },
  {
   "cell_type": "code",
   "execution_count": null,
   "id": "b23c85a2",
   "metadata": {},
   "outputs": [],
   "source": []
  },
  {
   "cell_type": "code",
   "execution_count": null,
   "id": "20de3b45",
   "metadata": {},
   "outputs": [],
   "source": []
  },
  {
   "cell_type": "code",
   "execution_count": 32,
   "id": "4ba03d0c",
   "metadata": {},
   "outputs": [
    {
     "ename": "MemoryError",
     "evalue": "Unable to allocate 14.8 GiB for an array with shape (44625, 44625) and data type float64",
     "output_type": "error",
     "traceback": [
      "\u001b[1;31m---------------------------------------------------------------------------\u001b[0m",
      "\u001b[1;31mMemoryError\u001b[0m                               Traceback (most recent call last)",
      "\u001b[1;32m<ipython-input-32-7a7e4ad95a37>\u001b[0m in \u001b[0;36m<module>\u001b[1;34m\u001b[0m\n\u001b[1;32m----> 1\u001b[1;33m \u001b[0mpersim\u001b[0m\u001b[1;33m.\u001b[0m\u001b[0mbottleneck\u001b[0m\u001b[1;33m(\u001b[0m\u001b[0mlens1\u001b[0m\u001b[1;33m,\u001b[0m \u001b[0mlens2\u001b[0m\u001b[1;33m)\u001b[0m\u001b[1;33m\u001b[0m\u001b[1;33m\u001b[0m\u001b[0m\n\u001b[0m",
      "\u001b[1;32mC:\\ProgramData\\Anaconda3\\lib\\site-packages\\persim\\bottleneck.py\u001b[0m in \u001b[0;36mbottleneck\u001b[1;34m(dgm1, dgm2, matching)\u001b[0m\n\u001b[0;32m     87\u001b[0m     \u001b[1;31m# Put diagonal elements into the matrix, being mindful that Linfinity\u001b[0m\u001b[1;33m\u001b[0m\u001b[1;33m\u001b[0m\u001b[1;33m\u001b[0m\u001b[0m\n\u001b[0;32m     88\u001b[0m     \u001b[1;31m# balls meet the diagonal line at a diamond vertex\u001b[0m\u001b[1;33m\u001b[0m\u001b[1;33m\u001b[0m\u001b[1;33m\u001b[0m\u001b[0m\n\u001b[1;32m---> 89\u001b[1;33m     \u001b[0mD\u001b[0m \u001b[1;33m=\u001b[0m \u001b[0mnp\u001b[0m\u001b[1;33m.\u001b[0m\u001b[0mzeros\u001b[0m\u001b[1;33m(\u001b[0m\u001b[1;33m(\u001b[0m\u001b[0mM\u001b[0m \u001b[1;33m+\u001b[0m \u001b[0mN\u001b[0m\u001b[1;33m,\u001b[0m \u001b[0mM\u001b[0m \u001b[1;33m+\u001b[0m \u001b[0mN\u001b[0m\u001b[1;33m)\u001b[0m\u001b[1;33m)\u001b[0m\u001b[1;33m\u001b[0m\u001b[1;33m\u001b[0m\u001b[0m\n\u001b[0m\u001b[0;32m     90\u001b[0m     \u001b[1;31m# Upper left is Linfinity cross-similarity between two diagrams\u001b[0m\u001b[1;33m\u001b[0m\u001b[1;33m\u001b[0m\u001b[1;33m\u001b[0m\u001b[0m\n\u001b[0;32m     91\u001b[0m     \u001b[0mD\u001b[0m\u001b[1;33m[\u001b[0m\u001b[1;36m0\u001b[0m\u001b[1;33m:\u001b[0m\u001b[0mM\u001b[0m\u001b[1;33m,\u001b[0m \u001b[1;36m0\u001b[0m\u001b[1;33m:\u001b[0m\u001b[0mN\u001b[0m\u001b[1;33m]\u001b[0m \u001b[1;33m=\u001b[0m \u001b[0mDUL\u001b[0m\u001b[1;33m\u001b[0m\u001b[1;33m\u001b[0m\u001b[0m\n",
      "\u001b[1;31mMemoryError\u001b[0m: Unable to allocate 14.8 GiB for an array with shape (44625, 44625) and data type float64"
     ]
    }
   ],
   "source": [
    "persim.bottleneck(lens1, lens2)"
   ]
  },
  {
   "cell_type": "code",
   "execution_count": null,
   "id": "7a2e6ca1",
   "metadata": {},
   "outputs": [],
   "source": [
    "import kmapper as km\n",
    "from kmapper import Cover, jupyter\n",
    "import numpy as np\n",
    "\n",
    "from sklearn.datasets import fetch_20newsgroups\n",
    "from sklearn.cluster import AgglomerativeClustering\n",
    "from sklearn.feature_extraction.text import TfidfVectorizer\n",
    "from sklearn.decomposition import TruncatedSVD\n",
    "from sklearn.manifold import Isomap\n",
    "from sklearn.preprocessing import MinMaxScaler"
   ]
  },
  {
   "cell_type": "code",
   "execution_count": null,
   "id": "bdec0f07",
   "metadata": {},
   "outputs": [],
   "source": [
    "mapper = km.KeplerMapper(verbose=2)\n",
    "\n",
    "projected_X1 = mapper.fit_transform(len_01, lens1)\n",
    "\n",
    "projected_X2 = mapper.fit_transform(len_02, lens2)"
   ]
  },
  {
   "cell_type": "code",
   "execution_count": null,
   "id": "cb100770",
   "metadata": {},
   "outputs": [],
   "source": [
    "import sklearn\n",
    "\n",
    "graph1 = mapper.map(\n",
    "    lens1, \n",
    "    clusterer=sklearn.cluster.DBSCAN(eps=0.3, min_samples=15),\n",
    "    cover=km.Cover(20, 0.2),\n",
    ")\n",
    "\n",
    "graph2 = mapper.map(\n",
    "    lens2, \n",
    "    clusterer=sklearn.cluster.DBSCAN(eps=0.3, min_samples=15),\n",
    "    cover=km.Cover(20, 0.2),\n",
    ")\n"
   ]
  },
  {
   "cell_type": "markdown",
   "id": "ce5578b9",
   "metadata": {
    "colab": {
     "base_uri": "https://localhost:8080/"
    },
    "id": "vcAOairyBYfc",
    "outputId": "23689dac-4ca0-41ad-bfbb-891e903662c9"
   },
   "source": [
    "!pip install ripser umap-learn kmapper persim PersistenceImages\n",
    "!pip install git+https://github.com/shizuo-kaji/CubicalRipser_3dim\n",
    "!pip install tomaster Boruta\n",
    "!pip install gudhi\n"
   ]
  },
  {
   "cell_type": "markdown",
   "id": "24cdf1d4",
   "metadata": {
    "colab": {
     "base_uri": "https://localhost:8080/"
    },
    "id": "GffFxSLqC9zI",
    "outputId": "7028dae2-6dd0-4960-f1a1-b035816abe17"
   },
   "source": [
    "!pip install python-igraph plotly ipywidgets"
   ]
  },
  {
   "cell_type": "markdown",
   "id": "a909f97f",
   "metadata": {},
   "source": [
    "from sklearn.manifold import Isomap\n",
    "X1 = Isomap(n_components=50, n_jobs=-1).fit_transform(features)\n"
   ]
  },
  {
   "cell_type": "markdown",
   "id": "c64770ed",
   "metadata": {},
   "source": [
    "mapper = km.KeplerMapper(verbose=2)\n",
    "\n",
    "projected_X = mapper.fit_transform(X,\n",
    "    projection=[TfidfVectorizer(analyzer=\"char\",\n",
    "                                ngram_range=(1,6),\n",
    "                                max_df=0.83,\n",
    "                                min_df=0.05),\n",
    "                TruncatedSVD(n_components=100,\n",
    "                             random_state=1729),\n",
    "                Isomap(n_components=2,\n",
    "                       n_jobs=-1)],\n",
    "    scaler=[None, None, MinMaxScaler()])\n",
    "\n",
    "print(\"SHAPE\",projected_X.shape)"
   ]
  },
  {
   "cell_type": "code",
   "execution_count": null,
   "id": "5c4faadd",
   "metadata": {},
   "outputs": [],
   "source": [
    "import matplotlib.pyplot as plt\n",
    "import numpy as np\n",
    "import sklearn\n",
    "from sklearn import datasets\n",
    "from sklearn.preprocessing import MinMaxScaler\n",
    "import kmapper as km"
   ]
  },
  {
   "cell_type": "code",
   "execution_count": null,
   "id": "6e8255f0",
   "metadata": {},
   "outputs": [],
   "source": [
    "\n",
    "    \n",
    "    \n",
    "mapper.visualize(\n",
    "    graph1,\n",
    "    path_html=\"Project0/Mapper_Not_Lonely1.html\",\n",
    "    title=\"Not_lonely\",\n",
    "    custom_tooltips=y,\n",
    "    color_values=lens1,\n",
    "    color_function_name=[\"lens_01\", \"lens1\"],\n",
    "    node_color_function=[\"mean\", \"std\", \"median\", \"max\"],\n",
    ")"
   ]
  },
  {
   "cell_type": "code",
   "execution_count": null,
   "id": "4f27dfe5",
   "metadata": {},
   "outputs": [],
   "source": [
    "\n",
    "\n",
    "mapper.visualize(\n",
    "    graph2,\n",
    "    path_html=\"Project0/Mapper_Lonely1.html\",\n",
    "    title=\"Lonely\",\n",
    "    custom_tooltips=y2,\n",
    "    color_values=lens1,\n",
    "    color_function_name=[\"lens_01\", \"lens1\"],\n",
    "    node_color_function=[\"mean\", \"std\", \"median\", \"max\"],\n",
    ")"
   ]
  },
  {
   "cell_type": "code",
   "execution_count": null,
   "id": "8151fe9d",
   "metadata": {},
   "outputs": [],
   "source": [
    "import pandas as pd\n",
    "import re\n",
    "\n",
    "\n",
    "list_of_values= [ \n",
    "                446, 6330, 7654, 9891, 11815, 12600, 15083, 24274, 25373, 26626, 27194, 28652, 31018, 31795, 34182, 39415, 42342, 44119]\n",
    "#                  2324, 2336, 2397, 2406, 2445, 2538, 2569, 2607, 2684, 2821, 2834, 2867, 2997, 2999, 3172, \n",
    "#                  3523, 3525, 3628, 3646, 3823, 3925, 4051, 4100, 4112, 4168, 4193, 4298, 4334, 4405, 4419, 4468, \n",
    "#                  4556, 4621, 4751, 4766, 4828, 4839, 4880, 4938, 4955, 5001, 5046, 5077, 5084, 5110, 5129, 5152, 5225,\n",
    "#                5810, 5845, 5912, 5943, 5990, 5995, 6010, 6014, 6099, 6184, 6198, 6217, 6243, 6267, 6268, 6278, 6370,\n",
    "#                  6382, 6388, 6480, 6605, 6666, 6702, 6760, 6772, 6786, 6804, 6841, 6849, 6852, 6908, 6934, 6964, 7028, \n",
    "#                  7073, 7103, 7121, 7145, 7148, 7178, 7211, 7304, 7315, 7562, 7697, 7815, 7832, 7918, 8008, 8030, 8099, 8195, 8203, 8244, 8276, 8338, 8428, 8433, 8435, 8544, 8571, 8856, 8892, 8948, 9005, 9020, 9057, 9058, 9147, 9226, 9424, 9486, 9538, 9544, 9548, 9554, 9575, 9583, 9599, 9666, 9712, 9740, 9742, 9778, 9781, 9831, 9913, 9958, 9974, 10039, 10072, 10104, 10111, 10183, 10248, 10300, 10338, 10348, 10351, 10358, 10446, 10496, 10507, 10566, 10585, 10593, 10724, 10755, 10964, 11112, 11154, 11161, 11186, 11265, 11267, 11269, 11273, 11302, 11324, 11345, 11412, 11463, 11472, 11479, 11499, 11506 8056, 8363, 9027, 9442, 10465, 10580, 10657, 11121, 11462, 11712, 11719, 12183, 13645, 13677, 13928, 14846, 16290, 17194, 18041, 18105, 18856, 19117, 19295, 19936, 19983, 20094, 20217, 20459, 21293, 21403, 21744, 22882, 23394, 24018, 24506, 24979, 25921, 26079, 26270, 27153, 27334, 27525, 27814, 27869, 28198, 28659, 28858, 28907, 28990, 30103, 30485, 30566, 31533, 32724, 34446, 34575, 36138, 36265, 36282, 36397, 36543, 37337, 37840, 38257, 38590, 38932, 39734, 40009, 40196, 41074, 41184, 41492, 41528, 41955, 42504, 43077, 43775, 44289, 44325, 44653, 44835, 45600, 45731, 45871, 46036, 46077, 46759] \n",
    "\n",
    "\n",
    "\n",
    "df_21= df_2[df_2['F'].isin(list_of_values)]\n",
    "\n",
    "df_21.values\n"
   ]
  },
  {
   "cell_type": "code",
   "execution_count": null,
   "id": "b6b493d6",
   "metadata": {},
   "outputs": [],
   "source": [
    "list_of_value=[64,163,303,362,430,435,459,464,510,515,520,545,550,590,744,772,871,959,997] # Lonely\n",
    "\n",
    "df_21= df_2[df_2['F'].isin(list_of_value)]\n",
    "\n",
    "df_21.values"
   ]
  },
  {
   "cell_type": "code",
   "execution_count": null,
   "id": "13920c7a",
   "metadata": {},
   "outputs": [],
   "source": [
    "list_of_valu = [719, 860, 900, 918, 951, 967, 991, 994, 1035, 1056, 1071, 1130, 1874, 1889, 1926,\n",
    "                1959, 1979, 1985, 1986, 1997, 2153, 2211, 2219, 2238, 2265, 2282, 2292, 2343, 2379,\n",
    "                3229, 3268, 3275, 3358, 3367, 3408, 3417, 3423, 3453, 3468, 3471, 3473, 3474, 3507, \n",
    "                3511, 3534, 3544, 3640, 3649, 3663, 3665, 3672, 3684, 3720, 3722, 3742, 3861, 3903, \n",
    "                3940, 3990, 3992, 4006, 4079, 4098, 4103, 4110, 4114, 4130, 4175, 4180, 4186, 4200, \n",
    "                4201, 4267, 4290, 4304, 4359, 4380, 4411, 4422, 4441, 4466, 4481, 4499, 4518, 4524, \n",
    "                8888, 8917, 8929, 8930, 8942, 8972, 8976, 8981, 9037, 9046, 9134, 9144, 9166, 9180, \n",
    "                9256, 9257, 9260, 9312, 9405, 9500, 9514, 9550, 9592, 9600, 9603, 9650, 9663, 9668, \n",
    "                9698, 9765, 9786, 9793, 9803, 9872, 9950, 9994, 10049, 10082, 10128, 10138, 10178, \n",
    "                10187, 10194, 10203, 10226, 10231, 10323, 10326, 10349, 10396, 10398, 10426, 10459, \n",
    "                10494, 10538, 10575, 10613, 10658, 10663, 10735, 10737, 10772, 10775, 11008, 11017, \n",
    "                11054, 11148, 11157, 11205, 11257, 11260, 11262]\n",
    "\n",
    "\n",
    "\n",
    "df_21= df_2[df_2['F'].isin(list_of_valu)]\n",
    "\n",
    "df_21.values"
   ]
  },
  {
   "cell_type": "code",
   "execution_count": null,
   "id": "f53a264f",
   "metadata": {},
   "outputs": [],
   "source": [
    "list_of_valu1=[3155, 3274, 8449, 9741, 11048, 12303, 14976, 16725, 18687, 21070, 21375, 23939, 26013, 26585, 28574, 30375, 31503, 31894, 32023, 32674, 33081, 34678, 35096, 35113, 37239, 38673, 38981, 40060, 42000, 42385, 43392, 43494, 43961, 44380]\n",
    "\n",
    "\n",
    "df_21= df_2[df_2['F'].isin(list_of_valu1)]\n",
    "\n",
    "df_21.values"
   ]
  },
  {
   "cell_type": "code",
   "execution_count": null,
   "id": "3ba52a7a",
   "metadata": {},
   "outputs": [],
   "source": [
    "list_of_valu2=[47, 553, 1301, 2442, 2767, 3721, 8547, 10016, 10176, 10705, 11633, 12911, 15747, 16320, 21485, 22600, 24436, 26059, 26511, 26906, 29812, 32189, 34388, 35634, 38774, 38900, 39464, 39935, 41451, 43855, 43892]\n",
    "\n",
    "df_21= df_2[df_2['F'].isin(list_of_valu2)]\n",
    "\n",
    "df_21.values"
   ]
  },
  {
   "cell_type": "code",
   "execution_count": null,
   "id": "33f3a4ee",
   "metadata": {},
   "outputs": [],
   "source": [
    "36, 50, 66, 84, 96, 137, 140, 159, 175, 179, 182, 189, 195, 200, 203, 233, 269, 290, 328, 348, 389, 390, 449, 460, 469, 540, 585, 597, 631, 639, 686, 693, 725, 767, 824, 925, 943, 1026, 1047, 1061, 1093, 1107, 1164, 1172, 1185, 1224, 1241, 1261, 1278, 1316, 1346, 1348, 1446, 1465, 1492, 1505, 1631, 1657, 1699, 1705, 1718, 1771, 1778, 1808, 1829, 1845, 1870, 1872, 1892, 1906, 1938, 1950, 1984, 2031, 2054, 2061, 2087, 2093, 2150, 2155, 2162, 2194, 2250, 2286, 2311, 2316, 2321, 2323, 2344, 2374, 2467, 2480, 2500, 2562, 2601, 2629, 2656, 2662, 2704, 2783, 2912, 2998, 3024, 3046, 3058, 3070, 3073, 3082, 3116, 3157, 3165, 3313, 3320, 3362, 3373, 3418, 3419, 3441, 3477, 3480, 3485, 3633, 3696, 3735, 3761, 3774, 3882, 3896, 3934, 3963, 3984, 4057, 4097, 4148, 4152, 4153, 4172, 4190, 4242, 4268, 4295, 4316, 4317, 4333, 4410, 4416, 4477, 4523, 4526, 4561, 4565, 4570, 4606, 4641, 4642, 4648, 4656, 4699, 4741, 4767, 4807, 4823, 4838, 4875, 4901, 4904, 4908, 4919, 4952, 4992, 4996, 5038, 5154, 5156, 5228, 5257, 5293, 5314, 5321, 5331, 5432, 5474, 5531, 5578, 5671, 5740, 5761, 5891, 5903, 5950, 5965, 6109, 6308, 6315, 6325, 6377, 6391, 6425, 6438, 6462, 6482, 6491, 6492, 6499, 6549, 6556, 6570, 6601, 6632, 6676, 6743, 6778, 6810, 6830, 6899, 6951, 6958, 7018, 7038, 7074, 7108, 7179, 7187, 7212, 7226, 7227, 7254, 7312, 7316, 7327, 7333, 7349, 7364, 7380, 7429, 7446, 7506, 7508, 7528, 7555, 7560, 7641, 7659, 7661, 7755, 7767, 7775, 7785, 7795, 7816, 7825, 7842, 7864, 7874, 7879, 7884, 7894, 8046, 8048, 8061, 8077, 8098, 8153, 8156, 8272, 8288, 8291, 8340, 8383, 8410, 8413, 8415, 8471, 8477, 8486, 8513, 8533, 8558, 8617, 8620, 8632, 8633, 8655, 8687, 8693, 8726, 8763, 8780, 8846, 8853, 8865, 8869, 8871, 8884, 8894, 8901, 8964, 8967, 9052, 9068, 9086, 9097, 9133, 9167, 9177, 9190, 9207, 9340, 9365, 9446, 9469, 9488, 9611, 9636, 9691, 9721, 9726, 9768, 9798, 9870, 9876, 9941, 9948, 9977, 9985, 9992, 10019, 10041, 10044, 10045, 10122, 10146, 10175, 10182, 10232, 10253, 10256, 10288, 10322, 10376, 10377, 10385, 10402, 10424, 10448, 10453, 10466, 10522, 10534, 10600, 10608, 10648, 10674, 10685, 10718, 10777, 10779, 10784, 10811, 10837, 10864, 10911, 10913, 10929, 10952, 10953, 10988, 10991, 11009, 11038, 11066, 11071, 11097, 11098, 11111, 11185, 11193, 11209, 11230, 11258, 11268, 11274, 11277, 11305, 11335, 11343, 11370, 11376, 11390, 11394, 11398, 11458, 11568, 11613, 11615, 11640, 11704, 11750, 11756, 11768, 11777, 11788, 11810, 11853, 11875, 11915, 11923, 11931, 11979, 12006, 12007, 12085, 12095, 12114, 12144, 12154, 12162, 12172, 12216, 12224, 12234, 12255, 12297, 12358, 12398, 12479, 12482, 12533, 12541, 12607, 12648, 12661, 12679, 12704, 12705, 12739, 12741, 12742, 12747, 12795, 12820, 12865, 12918, 12932, 12934, 12936, 12974, 12990, 13004, 13038, 13044, 13049, 13087, 13107, 13147, 13161, 13166, 13189, 13203, 13205, 13230, 13286, 13338, 13393, 13434, 13442, 13472, 13512, 13536, 13543, 13588, 13672, 13674, 13708, 13724, 13752, 13771, 13802, 13832, 13919, 13978, 14023, 14061, 14127, 14143, 14172, 14184, 14214, 14235, 14250, 14253, 14257, 14274, 14315, 14349, 14353, 14389, 14458, 14468, 14489, 14493, 14505, 14554, 14621, 14647, 14702, 14711, 14742, 14768, 14773, 14821, 14833, 14845, 14854, 14900, 14921, 14968, 15077, 15094, 15137, 15153, 15181, 15193, 15298, 15302, 15323, 15383, 15392, 15400, 15417, 15436, 15488, 15539, 15599, 15619, 15752, 15774, 15815, 15845, 15866, 15869, 15901, 15968, 15976, 16085, 16088, 16115, 16159, 16173, 16188, 16235, 16246, 16289, 16332, 16358, 16422, 16438, 16479, 16482, 16489, 16495, 16547, 16549, 16563, 16669, 16693, 16695, 16716, 16735, 16745, 16748, 16782, 16792, 16873, 16892, 16895, 16902, 16956, 17031, 17035, 17050, 17058, 17074, 17088, 17115, 17183, 17222, 17227, 17259, 17296, 17298, 17318, 17349, 17417, 17463, 17588, 17620, 17747, 17754, 17765, 17799, 17819, 17833, 17853, 17880, 17915, 17924, 17949, 18060, 18064, 18073, 18089, 18109, 18128, 18133, 18152, 18165, 18185, 18214, 18287, 18299, 18300, 18304, 18308, 18364, 18413, 18431, 18471, 18475, 18486, 18512, 18515, 18535, 18581, 18588, 18636, 18676, 18680, 18689, 18706, 18746, 18801, 18802, 18830, 18839, 18880, 18887, 18936, 18949, 18969, 18988, 18993, 19005, 19011, 19170, 19229, 19244, 19271, 19286, 19316, 19318, 19335, 19348, 19360, 19373, 19386, 19441, 19471, 19505, 19564, 19598, 19620, 19621, 19642, 19707, 19710, 19742, 19753, 19765, 19794, 19823, 19834, 19929, 19968, 20007, 20014, 20015, 20048, 20121, 20122, 20146, 20152, 20158, 20187, 20198, 20201, 20298, 20368, 20410, 20420, 20422, 20434, 20481, 20508, 20513, 20524, 20564, 20597, 20637, 20644, 20779, 20788, 20894, 20900, 20930, 20935, 20951, 21008, 21027, 21035, 21072, 21108, 21136, 21141, 21174, 21230, 21315, 21330, 21335, 21352, 21419, 21436, 21454, 21455, 21504, 21529, 21576, 21613, 21646, 21656, 21676, 21679, 21728, 21735, 21791, 21794, 21803, 21814, 21818, 21836, 21841, 21868, 21885, 21903, 21930, 21949, 21970, 22014, 22019, 22025, 22056, 22090, 22182, 22188, 22190, 22195, 22210, 22221, 22322, 22331, 22337, 22382, 22421, 22435, 22441, 22473, 22522, 22546, 22556, 22615, 22628, 22706, 22791, 22813, 22858, 22888, 22909, 22916, 22918, 22989, 23069, 23114, 23168, 23242, 23269, 23276, 23296, 23314, 23328, 23342, 23398, 23465, 23491, 23560, 23564, 23600, 23606, 23661, 23850, 23857, 23860, 23869, 23878, 23992, 24006, 24113, 24119, 24155, 24287, 24288, 24315, 24317, 24360, 24400, 24404, 24492, 24500, 24521, 24526, 24530, 24536, 24571, 24590, 24642, 24695, 24709, 24713, 24754, 24756, 24763, 24792, 24800, 24817, 24826, 24827, 24837, 24856, 24875, 24893, 24936, 24960, 24967, 24976, 24989, 25015, 25063, 25077, 25085, 25101, 25104, 25110, 25180, 25183, 25212, 25222, 25239, 25281, 25375, 25378, 25394, 25415, 25427, 25537, 25556, 25597, 25699, 25705, 25748, 25806, 25853, 25864, 25904, 25909, 26001, 26049, 26064, 26084, 26091, 26097, 26105, 26137, 26151, 26171, 26237, 26267, 26283, 26292, 26302, 26323, 26357, 26395, 26519, 26531, 26595, 26611, 26656, 26661, 26683, 26715, 26738, 26759, 26777, 26784, 26789, 26790, 26817, 26822, 26933, 27003, 27021, 27044, 27152, 27165, 27173, 27180, 27201, 27209, 27211, 27233, 27252, 27255, 27267, 27292, 27427, 27474, 27484, 27505, 27517, 27519, 27535, 27604, 27616, 27684, 27688, 27701, 27764, 27803, 27828, 27831, 27899, 27904, 27905, 27924, 27954, 27983, 28026, 28040, 28044, 28056, 28058, 28076, 28147, 28162, 28175, 28181, 28248, 28267, 28302, 28316, 28322, 28369, 28372, 28444, 28477, 28505, 28544, 28614, 28635, 28682, 28699, 28712, 28734, 28765, 28788, 28799, 28864, 28891, 28919, 28926, 28932, 28940, 28955, 29001, 29019, 29097, 29099, 29102, 29126, 29153, 29160, 29170, 29206, 29241, 29282, 29327, 29332, 29362, 29385, 29469, 29505, 29527, 29574, 29587, 29612, 29637, 29645, 29650, 29668, 29690, 29728, 29792, 29841, 29845, 29905, 29920, 30012, 30057, 30092, 30128, 30145, 30158, 30170, 30270, 30477, 30488, 30685, 30760, 30798, 30806, 30817, 30850, 30861, 30889, 30899, 30915, 30998, 31016, 31044, 31069, 31098, 31118, 31145, 31176, 31225, 31289, 31362, 31400, 31433, 31438, 31462, 31592, 31630, 31641, 31714, 31731, 31737, 31739, 31773, 31797, 31853, 31912, 31935, 31949, 31952, 31954, 31995, 32078, 32112, 32152, 32188, 32190, 32203, 32209, 32258, 32259, 32283, 32356, 32404, 32412, 32413, 32513, 32514, 32577, 32579, 32598, 32644, 32691, 32714, 32771, 32836, 32845, 32919, 32920, 32946, 32991, 33079, 33088, 33098, 33101, 33103, 33142, 33215, 33220, 33250, 33266, 33286, 33352, 33377, 33398, 33484, 33491, 33532, 33562, 33588, 33591, 33618, 33701, 33739, 33743, 33767, 33802, 33804, 33826, 33853, 33854, 33860, 33917, 33936, 33937, 34009, 34027, 34040, 34044, 34061, 34078, 34116, 34123, 34144, 34179, 34194, 34202, 34274, 34312, 34324, 34329, 34331, 34367, 34389, 34398, 34449, 34491, 34538, 34609, 34633, 34670, 34727, 34729, 34780, 34832, 34867, 34929, 34936, 34940, 35038, 35052, 35055, 35129, 35140, 35167, 35198, 35261, 35280, 35299, 35336, 35370, 35380, 35504, 35519, 35608, 35639, 35646, 35686, 35745, 35747, 35750, 35764, 35789, 35792, 35811, 35837, 35920, 35953, 35969, 35988, 36036, 36055, 36076, 36124, 36132, 36136, 36226, 36248, 36259, 36277, 36378, 36402, 36448, 36464, 36469, 36513, 36536, 36581, 36604, 36626, 36639, 36671, 36712, 36782, 36801, 36869, 36899, 36923, 36933, 37009, 37057, 37062, 37066, 37070, 37083, 37094, 37095, 37100, 37106, 37148, 37185, 37191, 37204, 37218, 37222, 37234, 37238, 37265, 37276, 37287, 37292, 37309, 37315, 37323, 37355, 37380, 37383, 37396, 37424, 37438, 37472, 37487, 37529, 37564, 37581, 37601, 37614, 37627, 37631, 37643, 37669, 37671, 37676, 37711, 37727, 37739, 37745, 37805, 37819, 37838, 37864, 37868, 37873, 37890, 37926, 37968, 37989, 37997, 38007, 38070, 38082, 38157, 38159, 38167, 38192, 38208, 38213, 38219, 38224, 38263, 38297, 38299, 38327, 38364, 38380, 38416, 38436, 38465, 38486, 38490, 38499, 38505, 38515, 38598, 38650, 38683, 38698, 38708, 38739, 38778, 38783, 38821, 38825, 38859, 38876, 38899, 38903, 38954, 38961, 38978, 39054, 39067, 39091, 39132, 39153, 39168, 39186, 39201, 39229, 39253, 39259, 39272, 39276, 39284, 39299, 39328, 39374, 39381, 39382, 39386, 39398, 39400, 39420, 39422, 39440, 39445, 39459, 39461, 39517, 39519, 39522, 39564, 39567, 39648, 39685, 39731, 39772, 39870, 39894, 39907, 39909, 39929, 39933, 39940, 39973, 39997, 40000, 40086, 40112, 40122, 40139, 40153, 40154, 40157, 40221, 40267, 40321, 40339, 40364, 40377, 40421, 40436, 40451, 40473, 40485, 40487, 40505, 40508, 40520, 40525, 40553, 40554, 40611, 40639, 40653, 40657, 40681, 40691, 40705, 40706, 40711, 40725, 40767, 40781, 40785, 40791, 40811, 40847, 40854, 40858, 40874, 40876, 40903, 40907, 40916, 40934, 40944, 40949, 40951, 40960, 40961, 40964, 40981, 40991, 41001, 41012, 41019, 41020, 41021, 41023, 41026, 41027, 41075, 41090, 41094, 41100, 41131, 41141, 41159, 41171, 41181, 41190, 41210, 41212, 41213, 41223, 41226, 41251, 41261, 41283, 41289, 41307, 41343, 41366, 41413, 41417, 41426, 41439, 41440, 41457, 41490, 41503, 41507, 41512, 41519, 41547, 41568, 41615, 41635, 41644, 41645, 41652, 41693, 41696, 41711, 41756, 41806, 41872, 41887, 41909, 41952, 41975, 42010, 42019, 42071, 42086, 42091, 42096, 42101, 42141, 42148, 42168, 42186, 42190, 42197, 42198, 42208, 42210, 42217, 42239, 42257, 42279, 42289, 42349, 42352, 42360, 42370, 42378, 42397, 42412, 42435, 42448, 42452, 42457, 42485, 42509, 42544, 42586, 42602, 42614, 42620, 42654, 42657, 42661, 42699, 42710, 42748, 42749, 42763, 42770, 42783, 42800, 42807, 42818, 42836, 42849, 42872, 42874, 42875, 42897, 42942, 42945, 42964, 42983, 42995, 43016, 43022, 43026, 43031, 43041, 43054, 43057, 43073, 43075, 43086, 43111, 43120, 43121, 43126, 43138, 43162, 43174, 43192, 43210, 43214, 43236, 43247, 43256, 43300, 43309, 43330, 43333, 43336, 43339, 43422, 43451, 43464, 43467, 43488, 43500, 43522, 43530, 43576, 43603, 43609, 43637, 43640, 43648, 43650, 43686, 43697, 43698, 43744, 43746, 43760, 43761, 43779, 43808, 43811, 43827, 43841, 43871, 43881, 43882, 43898, 43921, 43955, 43959, 43979, 43985, 43988, 44000, 44013, 44019, 44042, 44050, 44085, 44089, 44090, 44092, 44099, 44105, 44116, 44126, 44128, 44161, 44168, 44180, 44185, 44198, 44210, 44229, 44251, 44262, 44273, 44291, 44292, 44347, 44374, 44381, 44390, 44400, 44443, 44445, 44446, 44517, 44536, 44616, 44622, 44626, 44641, 44644, 44657, 44669, 44683, 44703, 44707, 44746, 44791, 44828, 44838, 44854, 44865, 44866, 44869, 44879, 44903, 44929, 44932, 44991, 44995, 45025, 45027, 45078, 45080, 45091, 45104, 45111, 45120, 45141, 45155, 45169, 45171, 45182, 45208, 45212, 45222, 45251, 45273, 45277, 45285, 45309, 45333, 45387, 45392, 45394, 45402, 45406, 45427, 45429, 45440, 45443, 45449, 45463, 45464, 45477, 45504, 45507, 45522, 45551, 45553, 45557, 45621, 45628, 45633, 45636, 45654, 45669, 45682, 45689, 45703, 45705, 45716, 45725, 45737, 45756, 45759, 45762, 45776, 45779, 45786, 45789, 45807, 45811, 45816, 45818, 45822, 45830, 45833, 45836, 45839, 45841, 45847, 45854, 45859, 45873, 45881, 45885, 45888, 45893, 45900, 45906, 45910, 45911, 45925, 45990, 46004, 46006, 46010, 46017, 46020, 46024, 46035, 46049, 46055, 46061, 46074, 46095, 46098, 46102, 46110, 46131, 46132, 46145, 46157, 46224, 46226, 46227, 46234, 46265, 46278, 46279, 46289, 46300, 46319, 46326, 46328, 46331, 46332, 46339, 46368, 46377, 46584, 46796]"
   ]
  },
  {
   "cell_type": "code",
   "execution_count": null,
   "id": "6d09a129",
   "metadata": {},
   "outputs": [],
   "source": [
    " # Custom coloring data based on the first variable\n",
    "df_11 = pd.DataFrame(lens1, columns=[\"x\", \"y\"])\n",
    "df_11.head()"
   ]
  },
  {
   "cell_type": "code",
   "execution_count": null,
   "id": "a5b88d75",
   "metadata": {},
   "outputs": [],
   "source": [
    "df_11[\"Circle\"] = df_11[\"x\"] ** 2 + df_11[\"y\"] ** 2 < 0.25\n",
    "df_11[\"Circle\"] = df_11[\"Circle\"].replace([False, True], [\"A\", \"B\"])"
   ]
  },
  {
   "cell_type": "code",
   "execution_count": null,
   "id": "484592d7",
   "metadata": {},
   "outputs": [],
   "source": [
    "df_11.head()"
   ]
  },
  {
   "cell_type": "code",
   "execution_count": null,
   "id": "1c68c0a1",
   "metadata": {},
   "outputs": [],
   "source": [
    "node_elements = graph1.vs[\"node_elements\"]"
   ]
  },
  {
   "cell_type": "code",
   "execution_count": null,
   "id": "3aabed0f",
   "metadata": {},
   "outputs": [],
   "source": [
    "graph_1 = mapper.fit_transform(df_11[[\"x\", \"y\"]])"
   ]
  },
  {
   "cell_type": "code",
   "execution_count": null,
   "id": "2adb8ba2",
   "metadata": {},
   "outputs": [],
   "source": [
    "node_elements"
   ]
  },
  {
   "cell_type": "code",
   "execution_count": null,
   "id": "53cd81c8",
   "metadata": {},
   "outputs": [],
   "source": [
    "\n",
    "import matplotlib.pyplot as plt\n",
    "\n",
    "km.draw_matplotlib(graph)\n",
    "plt.show()"
   ]
  },
  {
   "cell_type": "code",
   "execution_count": null,
   "id": "26d36409",
   "metadata": {},
   "outputs": [],
   "source": []
  },
  {
   "cell_type": "code",
   "execution_count": null,
   "id": "H53KercT_TtO",
   "metadata": {
    "id": "H53KercT_TtO"
   },
   "outputs": [],
   "source": [
    "import sys\n",
    "try:\n",
    "    import pandas as pd\n",
    "except ImportError as e:\n",
    "    print(\"pandas is required for this example. Please install with conda or pip  and then try again.\")\n",
    "    sys.exit()\n",
    "\n",
    "import numpy as np\n",
    "import sklearn\n",
    "from sklearn import ensemble\n",
    "import kmapper as km\n",
    "from kmapper.plotlyviz import *\n",
    "\n",
    "import matplotlib.pyplot as plt\n",
    "\n",
    "import warnings\n",
    "warnings.filterwarnings(\"ignore\")\n",
    "\n",
    "\n",
    "\n"
   ]
  },
  {
   "cell_type": "code",
   "execution_count": null,
   "id": "zK6rbFkR72aa",
   "metadata": {
    "id": "zK6rbFkR72aa"
   },
   "outputs": [],
   "source": [
    "feature_names = [c for c in clean_data.columns if c not in [\"ID\", \"gender\", \"age\", \"Live_Alone\",\"groupedmaritalstatus\",\"Lonelycategrical\",\"positivelonelinessgrouped\",\"groupedtimealone\",\n",
    "                        \"groupedhealth\"]]"
   ]
  },
  {
   "cell_type": "code",
   "execution_count": null,
   "id": "5d8191fd",
   "metadata": {
    "id": "5d8191fd"
   },
   "outputs": [],
   "source": [
    "X = text ve\n",
    "y = np.array(clean_data[[\"Live_Alone\",\"groupedmaritalstatus\",\"Lonelycategrical\",\"positivelonelinessgrouped\",\"groupedtimealone\",\n",
    "                        \"groupedhealth\"]])"
   ]
  },
  {
   "cell_type": "code",
   "execution_count": null,
   "id": "MxOyuULV8O3N",
   "metadata": {
    "colab": {
     "base_uri": "https://localhost:8080/"
    },
    "id": "MxOyuULV8O3N",
    "outputId": "bcd60e74-349d-49b5-a6e7-0f2236428917"
   },
   "outputs": [],
   "source": [
    "X"
   ]
  },
  {
   "cell_type": "code",
   "execution_count": null,
   "id": "e1a1fedd",
   "metadata": {
    "colab": {
     "base_uri": "https://localhost:8080/",
     "height": 200
    },
    "id": "e1a1fedd",
    "outputId": "2e076233-b8fb-4baa-e692-659907295390"
   },
   "outputs": [],
   "source": [
    "import umap\n",
    "import numpy as np\n",
    "lens = umap.UMAP(n_components=2,\n",
    "                  random_state=1).fit_transform(X)"
   ]
  },
  {
   "cell_type": "code",
   "execution_count": null,
   "id": "a8e06deb",
   "metadata": {
    "id": "a8e06deb"
   },
   "outputs": [],
   "source": [
    "embeddings.shape"
   ]
  },
  {
   "cell_type": "code",
   "execution_count": null,
   "id": "36604d14",
   "metadata": {
    "id": "36604d14"
   },
   "outputs": [],
   "source": [
    "from sklearn.cluster import DBSCAN\n",
    "from sklearn import metrics\n",
    "from sklearn.datasets import make_blobs\n",
    "from sklearn.preprocessing import StandardScaler"
   ]
  },
  {
   "cell_type": "code",
   "execution_count": null,
   "id": "c4216ad4",
   "metadata": {
    "id": "c4216ad4"
   },
   "outputs": [],
   "source": [
    "model= DBSCAN(eps = 0.6, min_samples = 25).fit(embeddings)"
   ]
  },
  {
   "cell_type": "code",
   "execution_count": null,
   "id": "6b51e417",
   "metadata": {
    "id": "6b51e417"
   },
   "outputs": [],
   "source": [
    "clean_data['cluster'] = model.labels_"
   ]
  },
  {
   "cell_type": "markdown",
   "id": "cab4317f",
   "metadata": {
    "id": "cab4317f"
   },
   "source": [
    "n_clusters_ = len(set(clean_data['cluster'])) - (1 if -1 in clean_data['cluster'] else 0)\n",
    "n_noise_ = list(clean_data['cluster']).count(-1)\n"
   ]
  },
  {
   "cell_type": "markdown",
   "id": "10bba277",
   "metadata": {
    "id": "10bba277"
   },
   "source": [
    "n_clusters_"
   ]
  },
  {
   "cell_type": "markdown",
   "id": "d078e850",
   "metadata": {
    "id": "d078e850"
   },
   "source": [
    "#clean_data.to_csv('raw_cluster1.csv', index = False)"
   ]
  },
  {
   "cell_type": "markdown",
   "id": "a5e98171",
   "metadata": {
    "id": "a5e98171"
   },
   "source": [
    "k = 17\n",
    "order_centroids = model.labels_\n",
    "terms = vectorizer.get_feature_names()\n",
    "\n",
    "for i in range(k):\n",
    "    print(\"Cluster %d:\" % i)\n",
    "    for j in order_centroids[i, :10]: #print out 10 feature terms of each cluster\n",
    "        print (' %s' % terms[j])\n",
    "    print('------------')"
   ]
  },
  {
   "cell_type": "code",
   "execution_count": null,
   "id": "cc8bd407",
   "metadata": {
    "id": "cc8bd407"
   },
   "outputs": [],
   "source": [
    "##### from sklearn import metrics\n",
    "from sklearn.datasets import make_blobs\n",
    "from sklearn.preprocessing import StandardScaler\n",
    "from sklearn.cluster import DBSCAN\n",
    "# Data viz\n",
    "from gtda.plotting import plot_point_cloud\n",
    "\n",
    "# TDA magic\n",
    "from gtda.mapper import (\n",
    "    CubicalCover,\n",
    "    make_mapper_pipeline,\n",
    "    Projection,\n",
    "    plot_static_mapper_graph,\n",
    "    plot_interactive_mapper_graph,\n",
    "    MapperInteractivePlotter\n",
    ")\n",
    "\n",
    "#Define filter\n",
    "ump = umap.UMAP(n_neighbors=12,\n",
    "                      min_dist=0.3,\n",
    "                      metric='correlation')\n",
    "\n",
    "# Define cover\n",
    "cover = CubicalCover(n_intervals=10, overlap_frac=0.3)\n",
    "# Choose clustering algorithm – default is DBSCAN\n",
    "model= DBSCAN(eps = 0.6, min_samples = 20)\n",
    "# Configure parallelism of clustering step\n",
    "n_jobs = 1\n",
    "\n",
    "# Initialise pipeline\n",
    "pipe = make_mapper_pipeline(\n",
    "    #filter_func=ump,\n",
    "    cover=cover,\n",
    "    clusterer=model,\n",
    "    verbose=True,\n",
    "    n_jobs=n_jobs,\n",
    ")\n",
    "\n"
   ]
  },
  {
   "cell_type": "code",
   "execution_count": null,
   "id": "3c15b43d",
   "metadata": {
    "id": "3c15b43d"
   },
   "outputs": [],
   "source": [
    "reshape = embeddings.reshape(-1,1)"
   ]
  },
  {
   "cell_type": "markdown",
   "id": "9977e218",
   "metadata": {
    "id": "9977e218"
   },
   "source": [
    "fig = plot_static_mapper_graph(pipe, reshape)\n",
    "fig.show(config={'scrollZoom': True})"
   ]
  },
  {
   "cell_type": "code",
   "execution_count": null,
   "id": "7b44d46f",
   "metadata": {
    "id": "7b44d46f"
   },
   "outputs": [],
   "source": [
    "plot_interactive_mapper_graph(pipe, embeddings)"
   ]
  },
  {
   "cell_type": "code",
   "execution_count": null,
   "id": "d6185bc9",
   "metadata": {
    "id": "d6185bc9"
   },
   "outputs": [],
   "source": [
    "reshape = embeddings\n",
    "# Create the plotter object\n",
    "MIP = MapperInteractivePlotter(pipe, reshape)\n",
    "\n",
    "# Generate interactive widget\n",
    "MIP.plot(color_data=reshape)"
   ]
  },
  {
   "cell_type": "code",
   "execution_count": null,
   "id": "46776432",
   "metadata": {
    "id": "46776432"
   },
   "outputs": [],
   "source": [
    "print(\"Attributes created by `.plot` and updated during the interactive session:\\n\",\n",
    "      [attr for attr in dir(MIP) if attr.endswith(\"_\") and attr[0] != \"_\"])"
   ]
  },
  {
   "cell_type": "code",
   "execution_count": null,
   "id": "f273a8cc",
   "metadata": {
    "id": "f273a8cc"
   },
   "outputs": [],
   "source": [
    "graph = pipe.fit_transform(reshape)\n",
    "node_elements = graph.vs[\"node_elements\"]\n",
    "#print(f\"There are {len(node_elements)} nodes.\\nThe first node consists of row indices {node_elements[0]}.\")"
   ]
  },
  {
   "cell_type": "code",
   "execution_count": null,
   "id": "974e7200",
   "metadata": {
    "id": "974e7200"
   },
   "outputs": [],
   "source": [
    "fig = plot_static_mapper_graph(\n",
    "    pipe, embeddings, node_color_statistic=np.arange(len(node_elements))\n",
    ")\n",
    "#fig.show(config={'scrollZoom': True})"
   ]
  },
  {
   "cell_type": "code",
   "execution_count": null,
   "id": "79dabe82",
   "metadata": {
    "id": "79dabe82"
   },
   "outputs": [],
   "source": [
    "df = pd.DataFrame(reshape, columns=[\"x\", \"y\"])\n",
    "df.head()\n",
    "df.shape"
   ]
  },
  {
   "cell_type": "code",
   "execution_count": null,
   "id": "424218d0",
   "metadata": {
    "id": "424218d0"
   },
   "outputs": [],
   "source": [
    "pipe.set_params(filter_func=Projection(columns=[\"x\", \"y\"]));"
   ]
  },
  {
   "cell_type": "code",
   "execution_count": null,
   "id": "f0be56aa",
   "metadata": {
    "id": "f0be56aa"
   },
   "outputs": [],
   "source": [
    "\n",
    "fig = plot_static_mapper_graph(pipe, df, color_data=df)\n",
    "fig.show(config={'scrollZoom': True})"
   ]
  },
  {
   "cell_type": "code",
   "execution_count": null,
   "id": "613b93a9",
   "metadata": {
    "id": "613b93a9"
   },
   "outputs": [],
   "source": [
    "df = pd.DataFrame(embeddings, columns=[\"x\", \"y\"])\n"
   ]
  },
  {
   "cell_type": "code",
   "execution_count": null,
   "id": "5ae6bf28",
   "metadata": {
    "id": "5ae6bf28"
   },
   "outputs": [],
   "source": [
    "df[\"Circle\"] = df[\"x\"] ** 2 + df[\"y\"] ** 2 < 0.25\n",
    "df[\"Circle\"] = df[\"Circle\"].replace([False, True], [\"A\", \"B\"])"
   ]
  },
  {
   "cell_type": "code",
   "execution_count": null,
   "id": "bc19c6f5",
   "metadata": {
    "id": "bc19c6f5"
   },
   "outputs": [],
   "source": [
    "df"
   ]
  },
  {
   "cell_type": "code",
   "execution_count": null,
   "id": "c0cb57cf",
   "metadata": {
    "id": "c0cb57cf"
   },
   "outputs": [],
   "source": [
    "color_data = pd.get_dummies(df[\"Circle\"], prefix=\"Circle\")\n",
    "\n",
    "fig = plot_static_mapper_graph(pipe, df[[\"x\", \"y\"]], color_data=color_data)\n",
    "fig.show(config={'scrollZoom': True})"
   ]
  },
  {
   "cell_type": "code",
   "execution_count": null,
   "id": "7f9cb6d8",
   "metadata": {
    "id": "7f9cb6d8"
   },
   "outputs": [],
   "source": [
    "graph = pipe.fit_transform(df[[\"x\", \"y\"]])"
   ]
  },
  {
   "cell_type": "code",
   "execution_count": null,
   "id": "374f3c22",
   "metadata": {
    "id": "374f3c22"
   },
   "outputs": [],
   "source": [
    "graph.vs.attributes()"
   ]
  },
  {
   "cell_type": "code",
   "execution_count": null,
   "id": "2c3b87d5",
   "metadata": {
    "id": "2c3b87d5"
   },
   "outputs": [],
   "source": [
    "node_elements"
   ]
  },
  {
   "cell_type": "markdown",
   "id": "31c74afb",
   "metadata": {
    "id": "31c74afb"
   },
   "source": [
    "for "
   ]
  },
  {
   "cell_type": "code",
   "execution_count": null,
   "id": "d9acc1ac",
   "metadata": {
    "id": "d9acc1ac"
   },
   "outputs": [],
   "source": [
    "node_id = 0\n",
    "node_elements = graph.vs[\"node_elements\"]\n",
    "\n",
    "print(f\"\"\"\n",
    "Node ID: {node_id}\n",
    "Node elements: {node_elements[node_id]}\n",
    "Data points: {embeddings[node_elements[node_id]]}\n",
    "\"\"\")"
   ]
  },
  {
   "cell_type": "code",
   "execution_count": null,
   "id": "7b8bc62f",
   "metadata": {
    "id": "7b8bc62f"
   },
   "outputs": [],
   "source": [
    "node_elements"
   ]
  },
  {
   "cell_type": "markdown",
   "id": "d7e9efb5",
   "metadata": {
    "id": "d7e9efb5"
   },
   "source": [
    "Clean_data"
   ]
  },
  {
   "cell_type": "code",
   "execution_count": null,
   "id": "56987a8f",
   "metadata": {
    "id": "56987a8f"
   },
   "outputs": [],
   "source": [
    "filter_func = np.sum\n",
    "\n",
    "pipe = make_mapper_pipeline(\n",
    "    filter_func=filter_func,\n",
    "    cover=cover,\n",
    "    clusterer=model,\n",
    "    verbose=True,\n",
    "    n_jobs=n_jobs,\n",
    ")"
   ]
  },
  {
   "cell_type": "code",
   "execution_count": null,
   "id": "bdd346d2",
   "metadata": {
    "id": "bdd346d2"
   },
   "outputs": [],
   "source": [
    "fig = plot_static_mapper_graph(pipe, embeddings)\n",
    "fig.show(config={'scrollZoom': True})"
   ]
  },
  {
   "cell_type": "code",
   "execution_count": null,
   "id": "fb1dc811",
   "metadata": {
    "id": "fb1dc811"
   },
   "outputs": [],
   "source": []
  },
  {
   "cell_type": "code",
   "execution_count": null,
   "id": "99bc4a36",
   "metadata": {
    "id": "99bc4a36"
   },
   "outputs": [],
   "source": []
  },
  {
   "cell_type": "code",
   "execution_count": null,
   "id": "67375727",
   "metadata": {
    "id": "67375727"
   },
   "outputs": [],
   "source": []
  }
 ],
 "metadata": {
  "colab": {
   "collapsed_sections": [
    "d078e850"
   ],
   "name": "UMAP and Mapper.ipynb",
   "provenance": []
  },
  "kernelspec": {
   "display_name": "Python 3",
   "language": "python",
   "name": "python3"
  },
  "language_info": {
   "codemirror_mode": {
    "name": "ipython",
    "version": 3
   },
   "file_extension": ".py",
   "mimetype": "text/x-python",
   "name": "python",
   "nbconvert_exporter": "python",
   "pygments_lexer": "ipython3",
   "version": "3.8.8"
  }
 },
 "nbformat": 4,
 "nbformat_minor": 5
}
