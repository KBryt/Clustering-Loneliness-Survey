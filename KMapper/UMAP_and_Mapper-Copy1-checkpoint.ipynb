{
 "cells": [
  {
   "cell_type": "code",
   "execution_count": 1,
   "id": "vFkiUvTAqeA3",
   "metadata": {
    "colab": {
     "base_uri": "https://localhost:8080/",
     "height": 206
    },
    "id": "vFkiUvTAqeA3",
    "outputId": "96989ccc-9317-4bef-baf7-8819e97cd57c"
   },
   "outputs": [
    {
     "data": {
      "text/html": [
       "<div>\n",
       "<style scoped>\n",
       "    .dataframe tbody tr th:only-of-type {\n",
       "        vertical-align: middle;\n",
       "    }\n",
       "\n",
       "    .dataframe tbody tr th {\n",
       "        vertical-align: top;\n",
       "    }\n",
       "\n",
       "    .dataframe thead th {\n",
       "        text-align: right;\n",
       "    }\n",
       "</style>\n",
       "<table border=\"1\" class=\"dataframe\">\n",
       "  <thead>\n",
       "    <tr style=\"text-align: right;\">\n",
       "      <th></th>\n",
       "      <th>ID</th>\n",
       "      <th>Live_Alone</th>\n",
       "      <th>groupedmaritalstatus</th>\n",
       "      <th>Lonelycategrical</th>\n",
       "      <th>positivelonelinessgrouped</th>\n",
       "      <th>groupedtimealone</th>\n",
       "      <th>groupedhealth</th>\n",
       "    </tr>\n",
       "  </thead>\n",
       "  <tbody>\n",
       "    <tr>\n",
       "      <th>0</th>\n",
       "      <td>29</td>\n",
       "      <td>1</td>\n",
       "      <td>1.00</td>\n",
       "      <td>1.00</td>\n",
       "      <td>#NULL!</td>\n",
       "      <td>2.00</td>\n",
       "      <td>1.00</td>\n",
       "    </tr>\n",
       "    <tr>\n",
       "      <th>1</th>\n",
       "      <td>32</td>\n",
       "      <td>1</td>\n",
       "      <td>1.00</td>\n",
       "      <td>2.00</td>\n",
       "      <td>1.00</td>\n",
       "      <td>2.00</td>\n",
       "      <td>1.00</td>\n",
       "    </tr>\n",
       "    <tr>\n",
       "      <th>2</th>\n",
       "      <td>33</td>\n",
       "      <td>-99</td>\n",
       "      <td>#NULL!</td>\n",
       "      <td>#NULL!</td>\n",
       "      <td>#NULL!</td>\n",
       "      <td>#NULL!</td>\n",
       "      <td>#NULL!</td>\n",
       "    </tr>\n",
       "    <tr>\n",
       "      <th>3</th>\n",
       "      <td>34</td>\n",
       "      <td>1</td>\n",
       "      <td>1.00</td>\n",
       "      <td>1.00</td>\n",
       "      <td>2.00</td>\n",
       "      <td>1.00</td>\n",
       "      <td>2.00</td>\n",
       "    </tr>\n",
       "    <tr>\n",
       "      <th>4</th>\n",
       "      <td>35</td>\n",
       "      <td>-99</td>\n",
       "      <td>#NULL!</td>\n",
       "      <td>#NULL!</td>\n",
       "      <td>#NULL!</td>\n",
       "      <td>#NULL!</td>\n",
       "      <td>#NULL!</td>\n",
       "    </tr>\n",
       "  </tbody>\n",
       "</table>\n",
       "</div>"
      ],
      "text/plain": [
       "   ID  Live_Alone groupedmaritalstatus Lonelycategrical  \\\n",
       "0  29           1                 1.00             1.00   \n",
       "1  32           1                 1.00             2.00   \n",
       "2  33         -99               #NULL!           #NULL!   \n",
       "3  34           1                 1.00             1.00   \n",
       "4  35         -99               #NULL!           #NULL!   \n",
       "\n",
       "  positivelonelinessgrouped groupedtimealone groupedhealth  \n",
       "0                    #NULL!             2.00          1.00  \n",
       "1                      1.00             2.00          1.00  \n",
       "2                    #NULL!           #NULL!        #NULL!  \n",
       "3                      2.00             1.00          2.00  \n",
       "4                    #NULL!           #NULL!        #NULL!  "
      ]
     },
     "execution_count": 1,
     "metadata": {},
     "output_type": "execute_result"
    }
   ],
   "source": [
    "\n",
    "import pandas as pd\n",
    "\n",
    "import math\n",
    "import numpy as np\n",
    "\n",
    "\n",
    "#raw_data = pd.read_csv(r'C:\\Users\\BRIGHT\\raw.csv')\n",
    "#raw_data.head()\n",
    "\n",
    "\n",
    "path_1 = r'C:\\Users\\BRIGHT\\BBCdata.csv'\n",
    "df_1 = pd.read_csv(path_1)\n",
    "df_1.head()"
   ]
  },
  {
   "cell_type": "code",
   "execution_count": 2,
   "id": "vpSWR0BbseXo",
   "metadata": {
    "colab": {
     "base_uri": "https://localhost:8080/"
    },
    "id": "vpSWR0BbseXo",
    "outputId": "c7cb8197-d095-43d5-a89b-f208decb2639"
   },
   "outputs": [
    {
     "data": {
      "text/plain": [
       "385420"
      ]
     },
     "execution_count": 2,
     "metadata": {},
     "output_type": "execute_result"
    }
   ],
   "source": [
    "df_1.size"
   ]
  },
  {
   "cell_type": "code",
   "execution_count": 3,
   "id": "ZigAhagTPuLB",
   "metadata": {
    "id": "ZigAhagTPuLB"
   },
   "outputs": [],
   "source": [
    "import numpy as np\n",
    "\n",
    "df_1 = df_1.replace(\"#NULL!\t\", np.NaN)\n",
    "\n",
    "#df_1 = df_1.replace(np.NaN, 0 , inplace=True)"
   ]
  },
  {
   "cell_type": "code",
   "execution_count": 4,
   "id": "v_GsAvFCQ6zY",
   "metadata": {
    "colab": {
     "base_uri": "https://localhost:8080/",
     "height": 424
    },
    "id": "v_GsAvFCQ6zY",
    "outputId": "6e4837cd-574a-4bc9-9afd-70090d458e44"
   },
   "outputs": [
    {
     "data": {
      "text/html": [
       "<div>\n",
       "<style scoped>\n",
       "    .dataframe tbody tr th:only-of-type {\n",
       "        vertical-align: middle;\n",
       "    }\n",
       "\n",
       "    .dataframe tbody tr th {\n",
       "        vertical-align: top;\n",
       "    }\n",
       "\n",
       "    .dataframe thead th {\n",
       "        text-align: right;\n",
       "    }\n",
       "</style>\n",
       "<table border=\"1\" class=\"dataframe\">\n",
       "  <thead>\n",
       "    <tr style=\"text-align: right;\">\n",
       "      <th></th>\n",
       "      <th>ID</th>\n",
       "      <th>Live_Alone</th>\n",
       "      <th>groupedmaritalstatus</th>\n",
       "      <th>Lonelycategrical</th>\n",
       "      <th>positivelonelinessgrouped</th>\n",
       "      <th>groupedtimealone</th>\n",
       "      <th>groupedhealth</th>\n",
       "    </tr>\n",
       "  </thead>\n",
       "  <tbody>\n",
       "    <tr>\n",
       "      <th>0</th>\n",
       "      <td>29</td>\n",
       "      <td>1</td>\n",
       "      <td>1.00</td>\n",
       "      <td>1.00</td>\n",
       "      <td>#NULL!</td>\n",
       "      <td>2.00</td>\n",
       "      <td>1.00</td>\n",
       "    </tr>\n",
       "    <tr>\n",
       "      <th>1</th>\n",
       "      <td>32</td>\n",
       "      <td>1</td>\n",
       "      <td>1.00</td>\n",
       "      <td>2.00</td>\n",
       "      <td>1.00</td>\n",
       "      <td>2.00</td>\n",
       "      <td>1.00</td>\n",
       "    </tr>\n",
       "    <tr>\n",
       "      <th>2</th>\n",
       "      <td>33</td>\n",
       "      <td>-99</td>\n",
       "      <td>#NULL!</td>\n",
       "      <td>#NULL!</td>\n",
       "      <td>#NULL!</td>\n",
       "      <td>#NULL!</td>\n",
       "      <td>#NULL!</td>\n",
       "    </tr>\n",
       "    <tr>\n",
       "      <th>3</th>\n",
       "      <td>34</td>\n",
       "      <td>1</td>\n",
       "      <td>1.00</td>\n",
       "      <td>1.00</td>\n",
       "      <td>2.00</td>\n",
       "      <td>1.00</td>\n",
       "      <td>2.00</td>\n",
       "    </tr>\n",
       "    <tr>\n",
       "      <th>4</th>\n",
       "      <td>35</td>\n",
       "      <td>-99</td>\n",
       "      <td>#NULL!</td>\n",
       "      <td>#NULL!</td>\n",
       "      <td>#NULL!</td>\n",
       "      <td>#NULL!</td>\n",
       "      <td>#NULL!</td>\n",
       "    </tr>\n",
       "  </tbody>\n",
       "</table>\n",
       "</div>"
      ],
      "text/plain": [
       "   ID  Live_Alone groupedmaritalstatus Lonelycategrical  \\\n",
       "0  29           1                 1.00             1.00   \n",
       "1  32           1                 1.00             2.00   \n",
       "2  33         -99               #NULL!           #NULL!   \n",
       "3  34           1                 1.00             1.00   \n",
       "4  35         -99               #NULL!           #NULL!   \n",
       "\n",
       "  positivelonelinessgrouped groupedtimealone groupedhealth  \n",
       "0                    #NULL!             2.00          1.00  \n",
       "1                      1.00             2.00          1.00  \n",
       "2                    #NULL!           #NULL!        #NULL!  \n",
       "3                      2.00             1.00          2.00  \n",
       "4                    #NULL!           #NULL!        #NULL!  "
      ]
     },
     "execution_count": 4,
     "metadata": {},
     "output_type": "execute_result"
    }
   ],
   "source": [
    "df_1.head()"
   ]
  },
  {
   "cell_type": "markdown",
   "id": "sCfNjh9N87EK",
   "metadata": {
    "id": "sCfNjh9N87EK"
   },
   "source": [
    "## I encoded the file with (encoding=\"ISO-8859-1\") for my CSV file that took 3 hours"
   ]
  },
  {
   "cell_type": "code",
   "execution_count": 5,
   "id": "oFnNkJw77RNm",
   "metadata": {
    "colab": {
     "base_uri": "https://localhost:8080/",
     "height": 206
    },
    "id": "oFnNkJw77RNm",
    "outputId": "2550d564-4be5-4e6a-9140-298f9605c2e1"
   },
   "outputs": [
    {
     "data": {
      "text/html": [
       "<div>\n",
       "<style scoped>\n",
       "    .dataframe tbody tr th:only-of-type {\n",
       "        vertical-align: middle;\n",
       "    }\n",
       "\n",
       "    .dataframe tbody tr th {\n",
       "        vertical-align: top;\n",
       "    }\n",
       "\n",
       "    .dataframe thead th {\n",
       "        text-align: right;\n",
       "    }\n",
       "</style>\n",
       "<table border=\"1\" class=\"dataframe\">\n",
       "  <thead>\n",
       "    <tr style=\"text-align: right;\">\n",
       "      <th></th>\n",
       "      <th>F</th>\n",
       "      <th>gender</th>\n",
       "      <th>age</th>\n",
       "      <th>Q9_Loneliness_Meaning_Qual</th>\n",
       "    </tr>\n",
       "  </thead>\n",
       "  <tbody>\n",
       "    <tr>\n",
       "      <th>0</th>\n",
       "      <td>29</td>\n",
       "      <td>1.0</td>\n",
       "      <td>89.0</td>\n",
       "      <td>time to reflect on close family affairs, time ...</td>\n",
       "    </tr>\n",
       "    <tr>\n",
       "      <th>1</th>\n",
       "      <td>30</td>\n",
       "      <td>2.0</td>\n",
       "      <td>44.0</td>\n",
       "      <td>-99</td>\n",
       "    </tr>\n",
       "    <tr>\n",
       "      <th>2</th>\n",
       "      <td>31</td>\n",
       "      <td>NaN</td>\n",
       "      <td>NaN</td>\n",
       "      <td>-99</td>\n",
       "    </tr>\n",
       "    <tr>\n",
       "      <th>3</th>\n",
       "      <td>32</td>\n",
       "      <td>2.0</td>\n",
       "      <td>63.0</td>\n",
       "      <td>Not fitting in; sad; distant emotionally from ...</td>\n",
       "    </tr>\n",
       "    <tr>\n",
       "      <th>4</th>\n",
       "      <td>33</td>\n",
       "      <td>NaN</td>\n",
       "      <td>NaN</td>\n",
       "      <td>-99</td>\n",
       "    </tr>\n",
       "  </tbody>\n",
       "</table>\n",
       "</div>"
      ],
      "text/plain": [
       "    F  gender   age                         Q9_Loneliness_Meaning_Qual\n",
       "0  29     1.0  89.0  time to reflect on close family affairs, time ...\n",
       "1  30     2.0  44.0                                                -99\n",
       "2  31     NaN   NaN                                                -99\n",
       "3  32     2.0  63.0  Not fitting in; sad; distant emotionally from ...\n",
       "4  33     NaN   NaN                                                -99"
      ]
     },
     "execution_count": 5,
     "metadata": {},
     "output_type": "execute_result"
    }
   ],
   "source": [
    "path_2 = r'C:\\Users\\BRIGHT\\raw.csv'\n",
    "df_2 = pd.read_csv(path_2)  # , encoding=\"ISO-8859-1\")\n",
    "df_2.head()"
   ]
  },
  {
   "cell_type": "markdown",
   "id": "332b04cd",
   "metadata": {
    "id": "ESSETYnJcUY6"
   },
   "source": [
    "df_1.replace(\"#NULL!\", \"0\", inplace=True)"
   ]
  },
  {
   "cell_type": "code",
   "execution_count": 6,
   "id": "SIGa_Z7c9Mqy",
   "metadata": {
    "colab": {
     "base_uri": "https://localhost:8080/"
    },
    "id": "SIGa_Z7c9Mqy",
    "outputId": "7c69f420-c001-4ea4-8e22-19cb3a0e00de"
   },
   "outputs": [
    {
     "data": {
      "text/plain": [
       "(55203, 4)"
      ]
     },
     "execution_count": 6,
     "metadata": {},
     "output_type": "execute_result"
    }
   ],
   "source": [
    " df_2.shape"
   ]
  },
  {
   "cell_type": "code",
   "execution_count": 7,
   "id": "d636d642",
   "metadata": {
    "id": "d636d642"
   },
   "outputs": [],
   "source": [
    "# Renaming column\n",
    "\n",
    "clean_data = df_2.rename(columns = {'Q9_Loneliness_Meaning_Qual': 'response'})"
   ]
  },
  {
   "cell_type": "code",
   "execution_count": 8,
   "id": "Li-PgpxR3UDm",
   "metadata": {
    "colab": {
     "base_uri": "https://localhost:8080/"
    },
    "id": "Li-PgpxR3UDm",
    "outputId": "3908a018-53dd-4681-9d69-df0bd39019ca"
   },
   "outputs": [
    {
     "name": "stderr",
     "output_type": "stream",
     "text": [
      "<ipython-input-8-c7aa80a078c6>:5: FutureWarning: The default value of regex will change from True to False in a future version. In addition, single character regular expressions will*not* be treated as literal strings when regex=True.\n",
      "  clean_data['response'] = clean_data['response'].str.replace('.', '')\n"
     ]
    }
   ],
   "source": [
    "clean_data['response'] = clean_data['response'].str.lower()\n",
    "clean_data['response'] = clean_data['response'].str.replace('loneliness', '')\n",
    "clean_data['response'] = clean_data['response'].str.replace('/', ' ')\n",
    "clean_data['response'] = clean_data['response'].str.replace('\\n', ' ')\n",
    "clean_data['response'] = clean_data['response'].str.replace('.', '')\n",
    "clean_data['response'] = clean_data['response'].str.replace(',', '')"
   ]
  },
  {
   "cell_type": "code",
   "execution_count": 9,
   "id": "BDOFQsTw3EwI",
   "metadata": {
    "id": "BDOFQsTw3EwI"
   },
   "outputs": [],
   "source": [
    "clean_data = clean_data[clean_data['response'] != '-99']"
   ]
  },
  {
   "cell_type": "code",
   "execution_count": 10,
   "id": "MGtiuW782_f4",
   "metadata": {
    "id": "MGtiuW782_f4"
   },
   "outputs": [],
   "source": [
    "from sklearn.feature_extraction.text import TfidfVectorizer\n",
    "\n",
    "\n",
    "documents =clean_data['response'].values.astype(\"U\")\n",
    "\n",
    "\n",
    "\n",
    "vectorizer = TfidfVectorizer(stop_words = ('english'))\n",
    "features = vectorizer.fit_transform(documents)\n"
   ]
  },
  {
   "cell_type": "code",
   "execution_count": 11,
   "id": "01eb436a",
   "metadata": {},
   "outputs": [],
   "source": [
    "import umap\n",
    "import numpy as np\n",
    "lens = umap.UMAP(n_components=2,\n",
    "                  random_state=1).fit_transform(features)"
   ]
  },
  {
   "cell_type": "code",
   "execution_count": 12,
   "id": "z0AZfw3F3_i5",
   "metadata": {
    "id": "z0AZfw3F3_i5"
   },
   "outputs": [],
   "source": [
    "df_4 = pd.DataFrame(lens)"
   ]
  },
  {
   "cell_type": "code",
   "execution_count": 13,
   "id": "69f95922",
   "metadata": {},
   "outputs": [
    {
     "data": {
      "text/html": [
       "<div>\n",
       "<style scoped>\n",
       "    .dataframe tbody tr th:only-of-type {\n",
       "        vertical-align: middle;\n",
       "    }\n",
       "\n",
       "    .dataframe tbody tr th {\n",
       "        vertical-align: top;\n",
       "    }\n",
       "\n",
       "    .dataframe thead th {\n",
       "        text-align: right;\n",
       "    }\n",
       "</style>\n",
       "<table border=\"1\" class=\"dataframe\">\n",
       "  <thead>\n",
       "    <tr style=\"text-align: right;\">\n",
       "      <th></th>\n",
       "      <th>0</th>\n",
       "      <th>1</th>\n",
       "    </tr>\n",
       "  </thead>\n",
       "  <tbody>\n",
       "    <tr>\n",
       "      <th>0</th>\n",
       "      <td>-5.844135</td>\n",
       "      <td>13.877417</td>\n",
       "    </tr>\n",
       "    <tr>\n",
       "      <th>1</th>\n",
       "      <td>1.173233</td>\n",
       "      <td>12.114919</td>\n",
       "    </tr>\n",
       "    <tr>\n",
       "      <th>2</th>\n",
       "      <td>-3.085478</td>\n",
       "      <td>9.912493</td>\n",
       "    </tr>\n",
       "    <tr>\n",
       "      <th>3</th>\n",
       "      <td>0.392786</td>\n",
       "      <td>7.220436</td>\n",
       "    </tr>\n",
       "    <tr>\n",
       "      <th>4</th>\n",
       "      <td>-6.253227</td>\n",
       "      <td>13.206820</td>\n",
       "    </tr>\n",
       "  </tbody>\n",
       "</table>\n",
       "</div>"
      ],
      "text/plain": [
       "          0          1\n",
       "0 -5.844135  13.877417\n",
       "1  1.173233  12.114919\n",
       "2 -3.085478   9.912493\n",
       "3  0.392786   7.220436\n",
       "4 -6.253227  13.206820"
      ]
     },
     "execution_count": 13,
     "metadata": {},
     "output_type": "execute_result"
    }
   ],
   "source": [
    "df_4.head()"
   ]
  },
  {
   "cell_type": "code",
   "execution_count": 31,
   "id": "914c9062",
   "metadata": {},
   "outputs": [
    {
     "data": {
      "text/plain": [
       "(39444, 2)"
      ]
     },
     "execution_count": 31,
     "metadata": {},
     "output_type": "execute_result"
    }
   ],
   "source": [
    "df_4.shape"
   ]
  },
  {
   "cell_type": "code",
   "execution_count": 39,
   "id": "Ta8m4CiG4UUp",
   "metadata": {
    "id": "Ta8m4CiG4UUp"
   },
   "outputs": [],
   "source": [
    "df1 = pd.merge(df_1, df_4, left_index=True, right_index=True)"
   ]
  },
  {
   "cell_type": "code",
   "execution_count": 45,
   "id": "585b9dc4",
   "metadata": {},
   "outputs": [
    {
     "data": {
      "text/html": [
       "<div>\n",
       "<style scoped>\n",
       "    .dataframe tbody tr th:only-of-type {\n",
       "        vertical-align: middle;\n",
       "    }\n",
       "\n",
       "    .dataframe tbody tr th {\n",
       "        vertical-align: top;\n",
       "    }\n",
       "\n",
       "    .dataframe thead th {\n",
       "        text-align: right;\n",
       "    }\n",
       "</style>\n",
       "<table border=\"1\" class=\"dataframe\">\n",
       "  <thead>\n",
       "    <tr style=\"text-align: right;\">\n",
       "      <th></th>\n",
       "      <th>ID</th>\n",
       "      <th>Live_Alone</th>\n",
       "      <th>groupedmaritalstatus</th>\n",
       "      <th>Lonelycategrical</th>\n",
       "      <th>positivelonelinessgrouped</th>\n",
       "      <th>groupedtimealone</th>\n",
       "      <th>groupedhealth</th>\n",
       "      <th>0</th>\n",
       "      <th>1</th>\n",
       "    </tr>\n",
       "  </thead>\n",
       "  <tbody>\n",
       "    <tr>\n",
       "      <th>0</th>\n",
       "      <td>29</td>\n",
       "      <td>1</td>\n",
       "      <td>1.00</td>\n",
       "      <td>1.00</td>\n",
       "      <td>0</td>\n",
       "      <td>2.00</td>\n",
       "      <td>1.00</td>\n",
       "      <td>-5.844135</td>\n",
       "      <td>13.877417</td>\n",
       "    </tr>\n",
       "    <tr>\n",
       "      <th>1</th>\n",
       "      <td>32</td>\n",
       "      <td>1</td>\n",
       "      <td>1.00</td>\n",
       "      <td>2.00</td>\n",
       "      <td>1.00</td>\n",
       "      <td>2.00</td>\n",
       "      <td>1.00</td>\n",
       "      <td>1.173233</td>\n",
       "      <td>12.114919</td>\n",
       "    </tr>\n",
       "    <tr>\n",
       "      <th>2</th>\n",
       "      <td>33</td>\n",
       "      <td>-99</td>\n",
       "      <td>0</td>\n",
       "      <td>0</td>\n",
       "      <td>0</td>\n",
       "      <td>0</td>\n",
       "      <td>0</td>\n",
       "      <td>-3.085478</td>\n",
       "      <td>9.912493</td>\n",
       "    </tr>\n",
       "    <tr>\n",
       "      <th>3</th>\n",
       "      <td>34</td>\n",
       "      <td>1</td>\n",
       "      <td>1.00</td>\n",
       "      <td>1.00</td>\n",
       "      <td>2.00</td>\n",
       "      <td>1.00</td>\n",
       "      <td>2.00</td>\n",
       "      <td>0.392786</td>\n",
       "      <td>7.220436</td>\n",
       "    </tr>\n",
       "    <tr>\n",
       "      <th>4</th>\n",
       "      <td>35</td>\n",
       "      <td>-99</td>\n",
       "      <td>0</td>\n",
       "      <td>0</td>\n",
       "      <td>0</td>\n",
       "      <td>0</td>\n",
       "      <td>0</td>\n",
       "      <td>-6.253227</td>\n",
       "      <td>13.206820</td>\n",
       "    </tr>\n",
       "    <tr>\n",
       "      <th>...</th>\n",
       "      <td>...</td>\n",
       "      <td>...</td>\n",
       "      <td>...</td>\n",
       "      <td>...</td>\n",
       "      <td>...</td>\n",
       "      <td>...</td>\n",
       "      <td>...</td>\n",
       "      <td>...</td>\n",
       "      <td>...</td>\n",
       "    </tr>\n",
       "    <tr>\n",
       "      <th>39439</th>\n",
       "      <td>39608</td>\n",
       "      <td>1</td>\n",
       "      <td>1.00</td>\n",
       "      <td>1.00</td>\n",
       "      <td>2.00</td>\n",
       "      <td>2.00</td>\n",
       "      <td>0</td>\n",
       "      <td>-17.229113</td>\n",
       "      <td>11.571386</td>\n",
       "    </tr>\n",
       "    <tr>\n",
       "      <th>39440</th>\n",
       "      <td>39609</td>\n",
       "      <td>1</td>\n",
       "      <td>1.00</td>\n",
       "      <td>1.00</td>\n",
       "      <td>2.00</td>\n",
       "      <td>2.00</td>\n",
       "      <td>0</td>\n",
       "      <td>-5.906610</td>\n",
       "      <td>11.784863</td>\n",
       "    </tr>\n",
       "    <tr>\n",
       "      <th>39441</th>\n",
       "      <td>39610</td>\n",
       "      <td>2</td>\n",
       "      <td>2.00</td>\n",
       "      <td>2.00</td>\n",
       "      <td>2.00</td>\n",
       "      <td>2.00</td>\n",
       "      <td>0</td>\n",
       "      <td>-2.749730</td>\n",
       "      <td>12.862091</td>\n",
       "    </tr>\n",
       "    <tr>\n",
       "      <th>39442</th>\n",
       "      <td>39611</td>\n",
       "      <td>2</td>\n",
       "      <td>2.00</td>\n",
       "      <td>2.00</td>\n",
       "      <td>1.00</td>\n",
       "      <td>2.00</td>\n",
       "      <td>0</td>\n",
       "      <td>-17.218416</td>\n",
       "      <td>11.583133</td>\n",
       "    </tr>\n",
       "    <tr>\n",
       "      <th>39443</th>\n",
       "      <td>39612</td>\n",
       "      <td>1</td>\n",
       "      <td>2.00</td>\n",
       "      <td>2.00</td>\n",
       "      <td>1.00</td>\n",
       "      <td>2.00</td>\n",
       "      <td>0</td>\n",
       "      <td>-3.272557</td>\n",
       "      <td>10.641032</td>\n",
       "    </tr>\n",
       "  </tbody>\n",
       "</table>\n",
       "<p>39444 rows × 9 columns</p>\n",
       "</div>"
      ],
      "text/plain": [
       "          ID  Live_Alone groupedmaritalstatus Lonelycategrical  \\\n",
       "0         29           1                 1.00             1.00   \n",
       "1         32           1                 1.00             2.00   \n",
       "2         33         -99                    0                0   \n",
       "3         34           1                 1.00             1.00   \n",
       "4         35         -99                    0                0   \n",
       "...      ...         ...                  ...              ...   \n",
       "39439  39608           1                 1.00             1.00   \n",
       "39440  39609           1                 1.00             1.00   \n",
       "39441  39610           2                 2.00             2.00   \n",
       "39442  39611           2                 2.00             2.00   \n",
       "39443  39612           1                 2.00             2.00   \n",
       "\n",
       "      positivelonelinessgrouped groupedtimealone groupedhealth          0  \\\n",
       "0                             0             2.00          1.00  -5.844135   \n",
       "1                          1.00             2.00          1.00   1.173233   \n",
       "2                             0                0             0  -3.085478   \n",
       "3                          2.00             1.00          2.00   0.392786   \n",
       "4                             0                0             0  -6.253227   \n",
       "...                         ...              ...           ...        ...   \n",
       "39439                      2.00             2.00             0 -17.229113   \n",
       "39440                      2.00             2.00             0  -5.906610   \n",
       "39441                      2.00             2.00             0  -2.749730   \n",
       "39442                      1.00             2.00             0 -17.218416   \n",
       "39443                      1.00             2.00             0  -3.272557   \n",
       "\n",
       "               1  \n",
       "0      13.877417  \n",
       "1      12.114919  \n",
       "2       9.912493  \n",
       "3       7.220436  \n",
       "4      13.206820  \n",
       "...          ...  \n",
       "39439  11.571386  \n",
       "39440  11.784863  \n",
       "39441  12.862091  \n",
       "39442  11.583133  \n",
       "39443  10.641032  \n",
       "\n",
       "[39444 rows x 9 columns]"
      ]
     },
     "execution_count": 45,
     "metadata": {},
     "output_type": "execute_result"
    }
   ],
   "source": [
    "\n",
    "df1"
   ]
  },
  {
   "cell_type": "markdown",
   "id": "af967cde",
   "metadata": {
    "id": "9b4baa7f"
   },
   "source": [
    "df2 = pd.merge(df_1, df1, left_on='ID', right_on='F')"
   ]
  },
  {
   "cell_type": "code",
   "execution_count": 41,
   "id": "7f9a280d",
   "metadata": {},
   "outputs": [],
   "source": [
    "df2 = df1.replace(\"#NULL!\", \"0\", inplace=True)"
   ]
  },
  {
   "cell_type": "code",
   "execution_count": 44,
   "id": "00cef7e9",
   "metadata": {},
   "outputs": [],
   "source": [
    "df2"
   ]
  },
  {
   "cell_type": "code",
   "execution_count": 46,
   "id": "Oy3DaG4tFT7U",
   "metadata": {
    "id": "Oy3DaG4tFT7U"
   },
   "outputs": [],
   "source": [
    "df3 = df1.replace(\"-99\", \"0\", inplace=True)"
   ]
  },
  {
   "cell_type": "markdown",
   "id": "2781a3b7",
   "metadata": {
    "colab": {
     "base_uri": "https://localhost:8080/"
    },
    "id": "vcAOairyBYfc",
    "outputId": "23689dac-4ca0-41ad-bfbb-891e903662c9"
   },
   "source": [
    "!pip install ripser umap-learn kmapper persim PersistenceImages\n",
    "!pip install git+https://github.com/shizuo-kaji/CubicalRipser_3dim\n",
    "!pip install tomaster Boruta\n",
    "!pip install gudhi\n"
   ]
  },
  {
   "cell_type": "markdown",
   "id": "9e27603d",
   "metadata": {
    "colab": {
     "base_uri": "https://localhost:8080/"
    },
    "id": "GffFxSLqC9zI",
    "outputId": "7028dae2-6dd0-4960-f1a1-b035816abe17"
   },
   "source": [
    "!pip install python-igraph plotly ipywidgets"
   ]
  },
  {
   "cell_type": "code",
   "execution_count": 49,
   "id": "40e22c24",
   "metadata": {},
   "outputs": [],
   "source": [
    "import matplotlib.pyplot as plt\n",
    "import numpy as np\n",
    "import sklearn\n",
    "from sklearn import datasets\n",
    "from sklearn.preprocessing import MinMaxScaler\n",
    "import kmapper as km"
   ]
  },
  {
   "cell_type": "code",
   "execution_count": 51,
   "id": "9bd0a7bb",
   "metadata": {},
   "outputs": [
    {
     "name": "stdout",
     "output_type": "stream",
     "text": [
      "KeplerMapper(verbose=2)\n"
     ]
    }
   ],
   "source": [
    "# Initialize to use t-SNE with 2 components (reduces data to 2 dimensions). Also note high overlap_percentage.\n",
    "mapper = km.KeplerMapper(verbose=2)"
   ]
  },
  {
   "cell_type": "code",
   "execution_count": 57,
   "id": "c587a784",
   "metadata": {},
   "outputs": [
    {
     "name": "stdout",
     "output_type": "stream",
     "text": [
      "Mapping on data shaped (39444, 18558) using lens shaped (39444, 2)\n",
      "\n",
      "Minimal points in hypercube before clustering: 15\n",
      "Creating 1225 hypercubes.\n",
      "   > Found 1 clusters in hypercube 0.\n",
      "   > Found 1 clusters in hypercube 1.\n",
      "   > Found 1 clusters in hypercube 2.\n",
      "   > Found 1 clusters in hypercube 3.\n",
      "   > Found 1 clusters in hypercube 4.\n",
      "   > Found 1 clusters in hypercube 5.\n",
      "   > Found 1 clusters in hypercube 6.\n",
      "   > Found 1 clusters in hypercube 7.\n",
      "Cube_8 is empty.\n",
      "\n",
      "Cube_9 is empty.\n",
      "\n",
      "Cube_10 is empty.\n",
      "\n",
      "Cube_11 is empty.\n",
      "\n",
      "   > Found 1 clusters in hypercube 12.\n",
      "   > Found 1 clusters in hypercube 13.\n",
      "   > Found 1 clusters in hypercube 14.\n",
      "   > Found 1 clusters in hypercube 15.\n",
      "Cube_16 is empty.\n",
      "\n",
      "Cube_17 is empty.\n",
      "\n",
      "   > Found 0 clusters in hypercube 18.\n",
      "   > Found 0 clusters in hypercube 19.\n",
      "   > Found 0 clusters in hypercube 20.\n",
      "   > Found 0 clusters in hypercube 21.\n",
      "   > Found 0 clusters in hypercube 22.\n",
      "   > Found 1 clusters in hypercube 23.\n",
      "   > Found 1 clusters in hypercube 24.\n",
      "   > Found 1 clusters in hypercube 25.\n",
      "   > Found 0 clusters in hypercube 26.\n",
      "   > Found 1 clusters in hypercube 27.\n",
      "   > Found 1 clusters in hypercube 28.\n",
      "   > Found 1 clusters in hypercube 29.\n",
      "   > Found 1 clusters in hypercube 30.\n",
      "Cube_31 is empty.\n",
      "\n",
      "Cube_32 is empty.\n",
      "\n",
      "Cube_33 is empty.\n",
      "\n",
      "   > Found 1 clusters in hypercube 34.\n",
      "   > Found 1 clusters in hypercube 35.\n",
      "   > Found 0 clusters in hypercube 36.\n",
      "   > Found 0 clusters in hypercube 37.\n",
      "   > Found 0 clusters in hypercube 38.\n",
      "   > Found 0 clusters in hypercube 39.\n",
      "   > Found 1 clusters in hypercube 40.\n",
      "   > Found 1 clusters in hypercube 41.\n",
      "   > Found 1 clusters in hypercube 42.\n",
      "   > Found 0 clusters in hypercube 43.\n",
      "   > Found 0 clusters in hypercube 44.\n",
      "Cube_45 is empty.\n",
      "\n",
      "Cube_46 is empty.\n",
      "\n",
      "Cube_47 is empty.\n",
      "\n",
      "Cube_48 is empty.\n",
      "\n",
      "   > Found 1 clusters in hypercube 49.\n",
      "   > Found 1 clusters in hypercube 50.\n",
      "   > Found 0 clusters in hypercube 51.\n",
      "   > Found 0 clusters in hypercube 52.\n",
      "   > Found 0 clusters in hypercube 53.\n",
      "   > Found 0 clusters in hypercube 54.\n",
      "   > Found 0 clusters in hypercube 55.\n",
      "   > Found 0 clusters in hypercube 56.\n",
      "   > Found 0 clusters in hypercube 57.\n",
      "   > Found 1 clusters in hypercube 58.\n",
      "   > Found 0 clusters in hypercube 59.\n",
      "   > Found 0 clusters in hypercube 60.\n",
      "   > Found 0 clusters in hypercube 61.\n",
      "   > Found 1 clusters in hypercube 62.\n",
      "   > Found 1 clusters in hypercube 63.\n",
      "   > Found 1 clusters in hypercube 64.\n",
      "   > Found 0 clusters in hypercube 65.\n",
      "   > Found 0 clusters in hypercube 66.\n",
      "   > Found 0 clusters in hypercube 67.\n",
      "Cube_68 is empty.\n",
      "\n",
      "   > Found 2 clusters in hypercube 69.\n",
      "   > Found 2 clusters in hypercube 70.\n",
      "   > Found 1 clusters in hypercube 71.\n",
      "   > Found 0 clusters in hypercube 72.\n",
      "   > Found 1 clusters in hypercube 73.\n",
      "   > Found 0 clusters in hypercube 74.\n",
      "   > Found 0 clusters in hypercube 75.\n",
      "   > Found 1 clusters in hypercube 76.\n",
      "   > Found 0 clusters in hypercube 77.\n",
      "   > Found 0 clusters in hypercube 78.\n",
      "   > Found 0 clusters in hypercube 79.\n",
      "   > Found 0 clusters in hypercube 80.\n",
      "   > Found 0 clusters in hypercube 81.\n",
      "   > Found 1 clusters in hypercube 82.\n",
      "   > Found 1 clusters in hypercube 83.\n",
      "   > Found 1 clusters in hypercube 84.\n",
      "Cube_85 is empty.\n",
      "\n",
      "   > Found 1 clusters in hypercube 86.\n",
      "   > Found 0 clusters in hypercube 87.\n",
      "Cube_88 is empty.\n",
      "\n",
      "   > Found 1 clusters in hypercube 89.\n",
      "   > Found 3 clusters in hypercube 90.\n",
      "   > Found 1 clusters in hypercube 91.\n",
      "   > Found 0 clusters in hypercube 92.\n",
      "   > Found 0 clusters in hypercube 93.\n",
      "   > Found 1 clusters in hypercube 94.\n",
      "   > Found 0 clusters in hypercube 95.\n",
      "   > Found 0 clusters in hypercube 96.\n",
      "   > Found 1 clusters in hypercube 97.\n",
      "   > Found 2 clusters in hypercube 98.\n",
      "   > Found 2 clusters in hypercube 99.\n",
      "   > Found 0 clusters in hypercube 100.\n",
      "   > Found 0 clusters in hypercube 101.\n",
      "Cube_102 is empty.\n",
      "\n",
      "Cube_103 is empty.\n",
      "\n",
      "   > Found 1 clusters in hypercube 104.\n",
      "   > Found 1 clusters in hypercube 105.\n",
      "Cube_106 is empty.\n",
      "\n",
      "   > Found 1 clusters in hypercube 107.\n",
      "Cube_108 is empty.\n",
      "\n",
      "Cube_109 is empty.\n",
      "\n",
      "   > Found 1 clusters in hypercube 110.\n",
      "   > Found 2 clusters in hypercube 111.\n",
      "   > Found 1 clusters in hypercube 112.\n",
      "   > Found 1 clusters in hypercube 113.\n",
      "   > Found 0 clusters in hypercube 114.\n",
      "   > Found 0 clusters in hypercube 115.\n",
      "   > Found 0 clusters in hypercube 116.\n",
      "   > Found 0 clusters in hypercube 117.\n",
      "   > Found 0 clusters in hypercube 118.\n",
      "   > Found 2 clusters in hypercube 119.\n",
      "   > Found 2 clusters in hypercube 120.\n",
      "   > Found 0 clusters in hypercube 121.\n",
      "   > Found 0 clusters in hypercube 122.\n",
      "   > Found 0 clusters in hypercube 123.\n",
      "   > Found 0 clusters in hypercube 124.\n",
      "Cube_125 is empty.\n",
      "\n",
      "   > Found 0 clusters in hypercube 126.\n",
      "   > Found 0 clusters in hypercube 127.\n",
      "   > Found 1 clusters in hypercube 128.\n",
      "   > Found 1 clusters in hypercube 129.\n",
      "   > Found 0 clusters in hypercube 130.\n",
      "   > Found 0 clusters in hypercube 131.\n",
      "   > Found 0 clusters in hypercube 132.\n",
      "   > Found 0 clusters in hypercube 133.\n",
      "   > Found 0 clusters in hypercube 134.\n",
      "   > Found 0 clusters in hypercube 135.\n",
      "   > Found 0 clusters in hypercube 136.\n",
      "   > Found 0 clusters in hypercube 137.\n",
      "   > Found 0 clusters in hypercube 138.\n",
      "   > Found 0 clusters in hypercube 139.\n",
      "   > Found 0 clusters in hypercube 140.\n",
      "   > Found 1 clusters in hypercube 141.\n",
      "Cube_142 is empty.\n",
      "\n",
      "Cube_143 is empty.\n",
      "\n",
      "Cube_144 is empty.\n",
      "\n",
      "Cube_145 is empty.\n",
      "\n",
      "   > Found 1 clusters in hypercube 146.\n",
      "   > Found 1 clusters in hypercube 147.\n",
      "   > Found 0 clusters in hypercube 148.\n",
      "   > Found 0 clusters in hypercube 149.\n",
      "   > Found 0 clusters in hypercube 150.\n",
      "   > Found 0 clusters in hypercube 151.\n",
      "   > Found 0 clusters in hypercube 152.\n",
      "   > Found 0 clusters in hypercube 153.\n",
      "   > Found 0 clusters in hypercube 154.\n",
      "   > Found 0 clusters in hypercube 155.\n",
      "   > Found 0 clusters in hypercube 156.\n",
      "   > Found 0 clusters in hypercube 157.\n",
      "   > Found 0 clusters in hypercube 158.\n",
      "Cube_159 is empty.\n",
      "\n",
      "   > Found 1 clusters in hypercube 160.\n",
      "   > Found 1 clusters in hypercube 161.\n",
      "   > Found 1 clusters in hypercube 162.\n",
      "   > Found 1 clusters in hypercube 163.\n",
      "   > Found 0 clusters in hypercube 164.\n",
      "   > Found 0 clusters in hypercube 165.\n",
      "   > Found 0 clusters in hypercube 166.\n",
      "   > Found 0 clusters in hypercube 167.\n",
      "   > Found 0 clusters in hypercube 168.\n",
      "   > Found 0 clusters in hypercube 169.\n",
      "   > Found 0 clusters in hypercube 170.\n",
      "   > Found 0 clusters in hypercube 171.\n",
      "   > Found 0 clusters in hypercube 172.\n",
      "   > Found 0 clusters in hypercube 173.\n",
      "   > Found 0 clusters in hypercube 174.\n",
      "   > Found 0 clusters in hypercube 175.\n",
      "   > Found 1 clusters in hypercube 176.\n",
      "Cube_177 is empty.\n",
      "\n",
      "   > Found 0 clusters in hypercube 178.\n",
      "Cube_179 is empty.\n",
      "\n",
      "Cube_180 is empty.\n",
      "\n",
      "   > Found 0 clusters in hypercube 181.\n",
      "   > Found 0 clusters in hypercube 182.\n",
      "   > Found 0 clusters in hypercube 183.\n",
      "   > Found 0 clusters in hypercube 184.\n",
      "   > Found 0 clusters in hypercube 185.\n",
      "   > Found 0 clusters in hypercube 186.\n",
      "   > Found 0 clusters in hypercube 187.\n",
      "   > Found 0 clusters in hypercube 188.\n",
      "   > Found 0 clusters in hypercube 189.\n",
      "   > Found 0 clusters in hypercube 190.\n",
      "   > Found 0 clusters in hypercube 191.\n",
      "   > Found 0 clusters in hypercube 192.\n",
      "   > Found 1 clusters in hypercube 193.\n",
      "   > Found 1 clusters in hypercube 194.\n",
      "Cube_195 is empty.\n",
      "\n",
      "Cube_196 is empty.\n",
      "\n",
      "   > Found 0 clusters in hypercube 197.\n",
      "   > Found 0 clusters in hypercube 198.\n",
      "Cube_199 is empty.\n",
      "\n",
      "   > Found 1 clusters in hypercube 200.\n",
      "   > Found 1 clusters in hypercube 201.\n",
      "   > Found 0 clusters in hypercube 202.\n",
      "   > Found 0 clusters in hypercube 203.\n",
      "   > Found 0 clusters in hypercube 204.\n",
      "   > Found 0 clusters in hypercube 205.\n",
      "   > Found 0 clusters in hypercube 206.\n",
      "   > Found 0 clusters in hypercube 207.\n",
      "   > Found 0 clusters in hypercube 208.\n",
      "   > Found 0 clusters in hypercube 209.\n",
      "   > Found 0 clusters in hypercube 210.\n",
      "Cube_211 is empty.\n",
      "\n",
      "   > Found 0 clusters in hypercube 212.\n",
      "   > Found 0 clusters in hypercube 213.\n",
      "   > Found 1 clusters in hypercube 214.\n",
      "   > Found 1 clusters in hypercube 215.\n",
      "   > Found 0 clusters in hypercube 216.\n",
      "   > Found 0 clusters in hypercube 217.\n",
      "   > Found 0 clusters in hypercube 218.\n",
      "   > Found 0 clusters in hypercube 219.\n",
      "   > Found 0 clusters in hypercube 220.\n",
      "   > Found 0 clusters in hypercube 221.\n",
      "   > Found 0 clusters in hypercube 222.\n",
      "   > Found 1 clusters in hypercube 223.\n",
      "   > Found 1 clusters in hypercube 224.\n",
      "   > Found 0 clusters in hypercube 225.\n",
      "   > Found 1 clusters in hypercube 226.\n",
      "   > Found 1 clusters in hypercube 227.\n",
      "   > Found 0 clusters in hypercube 228.\n",
      "   > Found 0 clusters in hypercube 229.\n",
      "   > Found 0 clusters in hypercube 230.\n",
      "   > Found 0 clusters in hypercube 231.\n",
      "   > Found 0 clusters in hypercube 232.\n",
      "   > Found 0 clusters in hypercube 233.\n",
      "Cube_234 is empty.\n",
      "\n",
      "   > Found 0 clusters in hypercube 235.\n",
      "   > Found 0 clusters in hypercube 236.\n",
      "Cube_237 is empty.\n",
      "\n",
      "   > Found 0 clusters in hypercube 238.\n",
      "   > Found 1 clusters in hypercube 239.\n",
      "   > Found 1 clusters in hypercube 240.\n",
      "   > Found 1 clusters in hypercube 241.\n",
      "   > Found 1 clusters in hypercube 242.\n",
      "   > Found 0 clusters in hypercube 243.\n",
      "   > Found 0 clusters in hypercube 244.\n",
      "   > Found 1 clusters in hypercube 245.\n",
      "   > Found 1 clusters in hypercube 246.\n",
      "   > Found 0 clusters in hypercube 247.\n",
      "   > Found 0 clusters in hypercube 248.\n",
      "Cube_249 is empty.\n",
      "\n",
      "Cube_250 is empty.\n",
      "\n",
      "   > Found 0 clusters in hypercube 251.\n",
      "   > Found 0 clusters in hypercube 252.\n",
      "   > Found 0 clusters in hypercube 253.\n",
      "Cube_254 is empty.\n",
      "\n",
      "Cube_255 is empty.\n",
      "\n",
      "   > Found 1 clusters in hypercube 256.\n",
      "   > Found 1 clusters in hypercube 257.\n",
      "   > Found 0 clusters in hypercube 258.\n",
      "   > Found 0 clusters in hypercube 259.\n",
      "   > Found 0 clusters in hypercube 260.\n",
      "   > Found 0 clusters in hypercube 261.\n",
      "   > Found 0 clusters in hypercube 262.\n",
      "   > Found 0 clusters in hypercube 263.\n",
      "   > Found 1 clusters in hypercube 264.\n",
      "   > Found 1 clusters in hypercube 265.\n",
      "   > Found 0 clusters in hypercube 266.\n",
      "   > Found 1 clusters in hypercube 267.\n"
     ]
    },
    {
     "name": "stdout",
     "output_type": "stream",
     "text": [
      "   > Found 1 clusters in hypercube 268.\n",
      "   > Found 1 clusters in hypercube 269.\n",
      "   > Found 1 clusters in hypercube 270.\n",
      "   > Found 0 clusters in hypercube 271.\n",
      "   > Found 1 clusters in hypercube 272.\n",
      "   > Found 2 clusters in hypercube 273.\n",
      "   > Found 1 clusters in hypercube 274.\n",
      "   > Found 0 clusters in hypercube 275.\n",
      "Cube_276 is empty.\n",
      "\n",
      "Cube_277 is empty.\n",
      "\n",
      "   > Found 1 clusters in hypercube 278.\n",
      "   > Found 1 clusters in hypercube 279.\n",
      "   > Found 1 clusters in hypercube 280.\n",
      "   > Found 1 clusters in hypercube 281.\n",
      "   > Found 0 clusters in hypercube 282.\n",
      "   > Found 1 clusters in hypercube 283.\n",
      "   > Found 1 clusters in hypercube 284.\n",
      "Cube_285 is empty.\n",
      "\n",
      "Cube_286 is empty.\n",
      "\n",
      "   > Found 0 clusters in hypercube 287.\n",
      "   > Found 0 clusters in hypercube 288.\n",
      "   > Found 0 clusters in hypercube 289.\n",
      "   > Found 1 clusters in hypercube 290.\n",
      "   > Found 1 clusters in hypercube 291.\n",
      "\n",
      "Created 132 edges and 110 nodes in 0:00:04.667199.\n"
     ]
    }
   ],
   "source": [
    "X = features\n",
    "\n",
    "# Create the graph (we cluster on the projected data and suffer projection loss)\n",
    "graph = mapper.map(\n",
    "    lens, X,\n",
    "    clusterer=sklearn.cluster.DBSCAN(eps=0.3, min_samples=15),\n",
    "    cover=km.Cover(35, 0.4),\n",
    ")"
   ]
  },
  {
   "cell_type": "code",
   "execution_count": 45,
   "id": "d14dced5",
   "metadata": {},
   "outputs": [
    {
     "data": {
      "text/html": [
       "<div>\n",
       "<style scoped>\n",
       "    .dataframe tbody tr th:only-of-type {\n",
       "        vertical-align: middle;\n",
       "    }\n",
       "\n",
       "    .dataframe tbody tr th {\n",
       "        vertical-align: top;\n",
       "    }\n",
       "\n",
       "    .dataframe thead th {\n",
       "        text-align: right;\n",
       "    }\n",
       "</style>\n",
       "<table border=\"1\" class=\"dataframe\">\n",
       "  <thead>\n",
       "    <tr style=\"text-align: right;\">\n",
       "      <th></th>\n",
       "      <th>ID</th>\n",
       "      <th>Live_Alone</th>\n",
       "      <th>groupedmaritalstatus</th>\n",
       "      <th>Lonelycategrical</th>\n",
       "      <th>positivelonelinessgrouped</th>\n",
       "      <th>groupedtimealone</th>\n",
       "      <th>groupedhealth</th>\n",
       "      <th>0</th>\n",
       "      <th>1</th>\n",
       "    </tr>\n",
       "  </thead>\n",
       "  <tbody>\n",
       "    <tr>\n",
       "      <th>0</th>\n",
       "      <td>29</td>\n",
       "      <td>1</td>\n",
       "      <td>1.00</td>\n",
       "      <td>1.00</td>\n",
       "      <td>0</td>\n",
       "      <td>2.00</td>\n",
       "      <td>1.00</td>\n",
       "      <td>-5.844135</td>\n",
       "      <td>13.877417</td>\n",
       "    </tr>\n",
       "    <tr>\n",
       "      <th>1</th>\n",
       "      <td>32</td>\n",
       "      <td>1</td>\n",
       "      <td>1.00</td>\n",
       "      <td>2.00</td>\n",
       "      <td>1.00</td>\n",
       "      <td>2.00</td>\n",
       "      <td>1.00</td>\n",
       "      <td>1.173233</td>\n",
       "      <td>12.114919</td>\n",
       "    </tr>\n",
       "    <tr>\n",
       "      <th>2</th>\n",
       "      <td>33</td>\n",
       "      <td>-99</td>\n",
       "      <td>0</td>\n",
       "      <td>0</td>\n",
       "      <td>0</td>\n",
       "      <td>0</td>\n",
       "      <td>0</td>\n",
       "      <td>-3.085478</td>\n",
       "      <td>9.912493</td>\n",
       "    </tr>\n",
       "    <tr>\n",
       "      <th>3</th>\n",
       "      <td>34</td>\n",
       "      <td>1</td>\n",
       "      <td>1.00</td>\n",
       "      <td>1.00</td>\n",
       "      <td>2.00</td>\n",
       "      <td>1.00</td>\n",
       "      <td>2.00</td>\n",
       "      <td>0.392786</td>\n",
       "      <td>7.220436</td>\n",
       "    </tr>\n",
       "    <tr>\n",
       "      <th>4</th>\n",
       "      <td>35</td>\n",
       "      <td>-99</td>\n",
       "      <td>0</td>\n",
       "      <td>0</td>\n",
       "      <td>0</td>\n",
       "      <td>0</td>\n",
       "      <td>0</td>\n",
       "      <td>-6.253227</td>\n",
       "      <td>13.206820</td>\n",
       "    </tr>\n",
       "    <tr>\n",
       "      <th>...</th>\n",
       "      <td>...</td>\n",
       "      <td>...</td>\n",
       "      <td>...</td>\n",
       "      <td>...</td>\n",
       "      <td>...</td>\n",
       "      <td>...</td>\n",
       "      <td>...</td>\n",
       "      <td>...</td>\n",
       "      <td>...</td>\n",
       "    </tr>\n",
       "    <tr>\n",
       "      <th>39439</th>\n",
       "      <td>39608</td>\n",
       "      <td>1</td>\n",
       "      <td>1.00</td>\n",
       "      <td>1.00</td>\n",
       "      <td>2.00</td>\n",
       "      <td>2.00</td>\n",
       "      <td>0</td>\n",
       "      <td>-17.229113</td>\n",
       "      <td>11.571386</td>\n",
       "    </tr>\n",
       "    <tr>\n",
       "      <th>39440</th>\n",
       "      <td>39609</td>\n",
       "      <td>1</td>\n",
       "      <td>1.00</td>\n",
       "      <td>1.00</td>\n",
       "      <td>2.00</td>\n",
       "      <td>2.00</td>\n",
       "      <td>0</td>\n",
       "      <td>-5.906610</td>\n",
       "      <td>11.784863</td>\n",
       "    </tr>\n",
       "    <tr>\n",
       "      <th>39441</th>\n",
       "      <td>39610</td>\n",
       "      <td>2</td>\n",
       "      <td>2.00</td>\n",
       "      <td>2.00</td>\n",
       "      <td>2.00</td>\n",
       "      <td>2.00</td>\n",
       "      <td>0</td>\n",
       "      <td>-2.749730</td>\n",
       "      <td>12.862091</td>\n",
       "    </tr>\n",
       "    <tr>\n",
       "      <th>39442</th>\n",
       "      <td>39611</td>\n",
       "      <td>2</td>\n",
       "      <td>2.00</td>\n",
       "      <td>2.00</td>\n",
       "      <td>1.00</td>\n",
       "      <td>2.00</td>\n",
       "      <td>0</td>\n",
       "      <td>-17.218416</td>\n",
       "      <td>11.583133</td>\n",
       "    </tr>\n",
       "    <tr>\n",
       "      <th>39443</th>\n",
       "      <td>39612</td>\n",
       "      <td>1</td>\n",
       "      <td>2.00</td>\n",
       "      <td>2.00</td>\n",
       "      <td>1.00</td>\n",
       "      <td>2.00</td>\n",
       "      <td>0</td>\n",
       "      <td>-3.272557</td>\n",
       "      <td>10.641032</td>\n",
       "    </tr>\n",
       "  </tbody>\n",
       "</table>\n",
       "<p>39444 rows × 9 columns</p>\n",
       "</div>"
      ],
      "text/plain": [
       "          ID  Live_Alone groupedmaritalstatus Lonelycategrical  \\\n",
       "0         29           1                 1.00             1.00   \n",
       "1         32           1                 1.00             2.00   \n",
       "2         33         -99                    0                0   \n",
       "3         34           1                 1.00             1.00   \n",
       "4         35         -99                    0                0   \n",
       "...      ...         ...                  ...              ...   \n",
       "39439  39608           1                 1.00             1.00   \n",
       "39440  39609           1                 1.00             1.00   \n",
       "39441  39610           2                 2.00             2.00   \n",
       "39442  39611           2                 2.00             2.00   \n",
       "39443  39612           1                 2.00             2.00   \n",
       "\n",
       "      positivelonelinessgrouped groupedtimealone groupedhealth          0  \\\n",
       "0                             0             2.00          1.00  -5.844135   \n",
       "1                          1.00             2.00          1.00   1.173233   \n",
       "2                             0                0             0  -3.085478   \n",
       "3                          2.00             1.00          2.00   0.392786   \n",
       "4                             0                0             0  -6.253227   \n",
       "...                         ...              ...           ...        ...   \n",
       "39439                      2.00             2.00             0 -17.229113   \n",
       "39440                      2.00             2.00             0  -5.906610   \n",
       "39441                      2.00             2.00             0  -2.749730   \n",
       "39442                      1.00             2.00             0 -17.218416   \n",
       "39443                      1.00             2.00             0  -3.272557   \n",
       "\n",
       "               1  \n",
       "0      13.877417  \n",
       "1      12.114919  \n",
       "2       9.912493  \n",
       "3       7.220436  \n",
       "4      13.206820  \n",
       "...          ...  \n",
       "39439  11.571386  \n",
       "39440  11.784863  \n",
       "39441  12.862091  \n",
       "39442  11.583133  \n",
       "39443  10.641032  \n",
       "\n",
       "[39444 rows x 9 columns]"
      ]
     },
     "execution_count": 45,
     "metadata": {},
     "output_type": "execute_result"
    }
   ],
   "source": [
    "\n",
    "df1"
   ]
  },
  {
   "cell_type": "code",
   "execution_count": 61,
   "id": "cd2f5c4a",
   "metadata": {},
   "outputs": [
    {
     "ename": "KeyError",
     "evalue": "('Lonelycategrical', 'groupedmaritalstatus')",
     "output_type": "error",
     "traceback": [
      "\u001b[1;31m--------------------------------------------------------------------\u001b[0m",
      "\u001b[1;31mKeyError\u001b[0m                           Traceback (most recent call last)",
      "\u001b[1;32mC:\\ProgramData\\Anaconda3\\lib\\site-packages\\pandas\\core\\indexes\\base.py\u001b[0m in \u001b[0;36mget_loc\u001b[1;34m(self, key, method, tolerance)\u001b[0m\n\u001b[0;32m   3079\u001b[0m             \u001b[1;32mtry\u001b[0m\u001b[1;33m:\u001b[0m\u001b[1;33m\u001b[0m\u001b[1;33m\u001b[0m\u001b[0m\n\u001b[1;32m-> 3080\u001b[1;33m                 \u001b[1;32mreturn\u001b[0m \u001b[0mself\u001b[0m\u001b[1;33m.\u001b[0m\u001b[0m_engine\u001b[0m\u001b[1;33m.\u001b[0m\u001b[0mget_loc\u001b[0m\u001b[1;33m(\u001b[0m\u001b[0mcasted_key\u001b[0m\u001b[1;33m)\u001b[0m\u001b[1;33m\u001b[0m\u001b[1;33m\u001b[0m\u001b[0m\n\u001b[0m\u001b[0;32m   3081\u001b[0m             \u001b[1;32mexcept\u001b[0m \u001b[0mKeyError\u001b[0m \u001b[1;32mas\u001b[0m \u001b[0merr\u001b[0m\u001b[1;33m:\u001b[0m\u001b[1;33m\u001b[0m\u001b[1;33m\u001b[0m\u001b[0m\n",
      "\u001b[1;32mpandas\\_libs\\index.pyx\u001b[0m in \u001b[0;36mpandas._libs.index.IndexEngine.get_loc\u001b[1;34m()\u001b[0m\n",
      "\u001b[1;32mpandas\\_libs\\index.pyx\u001b[0m in \u001b[0;36mpandas._libs.index.IndexEngine.get_loc\u001b[1;34m()\u001b[0m\n",
      "\u001b[1;32mpandas\\_libs\\hashtable_class_helper.pxi\u001b[0m in \u001b[0;36mpandas._libs.hashtable.PyObjectHashTable.get_item\u001b[1;34m()\u001b[0m\n",
      "\u001b[1;32mpandas\\_libs\\hashtable_class_helper.pxi\u001b[0m in \u001b[0;36mpandas._libs.hashtable.PyObjectHashTable.get_item\u001b[1;34m()\u001b[0m\n",
      "\u001b[1;31mKeyError\u001b[0m: ('Lonelycategrical', 'groupedmaritalstatus')",
      "\nThe above exception was the direct cause of the following exception:\n",
      "\u001b[1;31mKeyError\u001b[0m                           Traceback (most recent call last)",
      "\u001b[1;32m<ipython-input-61-66a1ad5df24d>\u001b[0m in \u001b[0;36m<module>\u001b[1;34m\u001b[0m\n\u001b[1;32m----> 1\u001b[1;33m \u001b[0my\u001b[0m \u001b[1;33m=\u001b[0m \u001b[0mnp\u001b[0m\u001b[1;33m.\u001b[0m\u001b[0marray\u001b[0m\u001b[1;33m(\u001b[0m\u001b[0mdf1\u001b[0m\u001b[1;33m[\u001b[0m\u001b[1;34m\"Lonelycategrical\"\u001b[0m\u001b[1;33m,\u001b[0m\u001b[1;34m\"groupedmaritalstatus\"\u001b[0m \u001b[1;33m]\u001b[0m\u001b[1;33m)\u001b[0m\u001b[1;33m\u001b[0m\u001b[1;33m\u001b[0m\u001b[0m\n\u001b[0m\u001b[0;32m      2\u001b[0m \u001b[1;33m\u001b[0m\u001b[0m\n\u001b[0;32m      3\u001b[0m \u001b[0mX\u001b[0m \u001b[1;33m=\u001b[0m \u001b[0mnp\u001b[0m\u001b[1;33m.\u001b[0m\u001b[0marray\u001b[0m\u001b[1;33m(\u001b[0m\u001b[0mfeatures\u001b[0m\u001b[1;33m)\u001b[0m\u001b[1;33m\u001b[0m\u001b[1;33m\u001b[0m\u001b[0m\n\u001b[0;32m      4\u001b[0m     \u001b[1;31m# Customizing the tooltips with binary target variables\u001b[0m\u001b[1;33m\u001b[0m\u001b[1;33m\u001b[0m\u001b[1;33m\u001b[0m\u001b[0m\n\u001b[0;32m      5\u001b[0m \u001b[1;31m#X, y = split_data(df)\u001b[0m\u001b[1;33m\u001b[0m\u001b[1;33m\u001b[0m\u001b[1;33m\u001b[0m\u001b[0m\n",
      "\u001b[1;32mC:\\ProgramData\\Anaconda3\\lib\\site-packages\\pandas\\core\\frame.py\u001b[0m in \u001b[0;36m__getitem__\u001b[1;34m(self, key)\u001b[0m\n\u001b[0;32m   3022\u001b[0m             \u001b[1;32mif\u001b[0m \u001b[0mself\u001b[0m\u001b[1;33m.\u001b[0m\u001b[0mcolumns\u001b[0m\u001b[1;33m.\u001b[0m\u001b[0mnlevels\u001b[0m \u001b[1;33m>\u001b[0m \u001b[1;36m1\u001b[0m\u001b[1;33m:\u001b[0m\u001b[1;33m\u001b[0m\u001b[1;33m\u001b[0m\u001b[0m\n\u001b[0;32m   3023\u001b[0m                 \u001b[1;32mreturn\u001b[0m \u001b[0mself\u001b[0m\u001b[1;33m.\u001b[0m\u001b[0m_getitem_multilevel\u001b[0m\u001b[1;33m(\u001b[0m\u001b[0mkey\u001b[0m\u001b[1;33m)\u001b[0m\u001b[1;33m\u001b[0m\u001b[1;33m\u001b[0m\u001b[0m\n\u001b[1;32m-> 3024\u001b[1;33m             \u001b[0mindexer\u001b[0m \u001b[1;33m=\u001b[0m \u001b[0mself\u001b[0m\u001b[1;33m.\u001b[0m\u001b[0mcolumns\u001b[0m\u001b[1;33m.\u001b[0m\u001b[0mget_loc\u001b[0m\u001b[1;33m(\u001b[0m\u001b[0mkey\u001b[0m\u001b[1;33m)\u001b[0m\u001b[1;33m\u001b[0m\u001b[1;33m\u001b[0m\u001b[0m\n\u001b[0m\u001b[0;32m   3025\u001b[0m             \u001b[1;32mif\u001b[0m \u001b[0mis_integer\u001b[0m\u001b[1;33m(\u001b[0m\u001b[0mindexer\u001b[0m\u001b[1;33m)\u001b[0m\u001b[1;33m:\u001b[0m\u001b[1;33m\u001b[0m\u001b[1;33m\u001b[0m\u001b[0m\n\u001b[0;32m   3026\u001b[0m                 \u001b[0mindexer\u001b[0m \u001b[1;33m=\u001b[0m \u001b[1;33m[\u001b[0m\u001b[0mindexer\u001b[0m\u001b[1;33m]\u001b[0m\u001b[1;33m\u001b[0m\u001b[1;33m\u001b[0m\u001b[0m\n",
      "\u001b[1;32mC:\\ProgramData\\Anaconda3\\lib\\site-packages\\pandas\\core\\indexes\\base.py\u001b[0m in \u001b[0;36mget_loc\u001b[1;34m(self, key, method, tolerance)\u001b[0m\n\u001b[0;32m   3080\u001b[0m                 \u001b[1;32mreturn\u001b[0m \u001b[0mself\u001b[0m\u001b[1;33m.\u001b[0m\u001b[0m_engine\u001b[0m\u001b[1;33m.\u001b[0m\u001b[0mget_loc\u001b[0m\u001b[1;33m(\u001b[0m\u001b[0mcasted_key\u001b[0m\u001b[1;33m)\u001b[0m\u001b[1;33m\u001b[0m\u001b[1;33m\u001b[0m\u001b[0m\n\u001b[0;32m   3081\u001b[0m             \u001b[1;32mexcept\u001b[0m \u001b[0mKeyError\u001b[0m \u001b[1;32mas\u001b[0m \u001b[0merr\u001b[0m\u001b[1;33m:\u001b[0m\u001b[1;33m\u001b[0m\u001b[1;33m\u001b[0m\u001b[0m\n\u001b[1;32m-> 3082\u001b[1;33m                 \u001b[1;32mraise\u001b[0m \u001b[0mKeyError\u001b[0m\u001b[1;33m(\u001b[0m\u001b[0mkey\u001b[0m\u001b[1;33m)\u001b[0m \u001b[1;32mfrom\u001b[0m \u001b[0merr\u001b[0m\u001b[1;33m\u001b[0m\u001b[1;33m\u001b[0m\u001b[0m\n\u001b[0m\u001b[0;32m   3083\u001b[0m \u001b[1;33m\u001b[0m\u001b[0m\n\u001b[0;32m   3084\u001b[0m         \u001b[1;32mif\u001b[0m \u001b[0mtolerance\u001b[0m \u001b[1;32mis\u001b[0m \u001b[1;32mnot\u001b[0m \u001b[1;32mNone\u001b[0m\u001b[1;33m:\u001b[0m\u001b[1;33m\u001b[0m\u001b[1;33m\u001b[0m\u001b[0m\n",
      "\u001b[1;31mKeyError\u001b[0m: ('Lonelycategrical', 'groupedmaritalstatus')"
     ]
    }
   ],
   "source": [
    "y = np.array(df1[\"Lonelycategrical\",\"groupedmaritalstatus\" ]) \n",
    "\n",
    "X = np.array(features)    \n",
    "    # Customizing the tooltips with binary target variables\n",
    "#X, y = split_data(df)\n",
    "# html = mapper.visualize(\n",
    "#                         graph,\n",
    "#                         path_html=\"Project0/Mapper_visuals3.html\",\n",
    "#                         title=\"Lonely_Categ_Umap\",\n",
    "#                         custom_tooltips=y)"
   ]
  },
  {
   "cell_type": "code",
   "execution_count": 59,
   "id": "6ef8ca55",
   "metadata": {},
   "outputs": [
    {
     "ename": "Exception",
     "evalue": "0 `color_function_names` values found, but 1 columns found in color_values. Must be equal.",
     "output_type": "error",
     "traceback": [
      "\u001b[1;31m--------------------------------------------------------------------\u001b[0m",
      "\u001b[1;31mException\u001b[0m                          Traceback (most recent call last)",
      "\u001b[1;32m<ipython-input-59-5c8450b008e7>\u001b[0m in \u001b[0;36m<module>\u001b[1;34m\u001b[0m\n\u001b[0;32m      1\u001b[0m \u001b[1;31m# Custom coloring data based on the first variable\u001b[0m\u001b[1;33m\u001b[0m\u001b[1;33m\u001b[0m\u001b[1;33m\u001b[0m\u001b[0m\n\u001b[0;32m      2\u001b[0m \u001b[1;33m\u001b[0m\u001b[0m\n\u001b[1;32m----> 3\u001b[1;33m html = mapper.visualize(graph,\n\u001b[0m\u001b[0;32m      4\u001b[0m                        \u001b[0mpath_html\u001b[0m\u001b[1;33m=\u001b[0m\u001b[1;34m\"Project0/Mapper_visuals3.html\"\u001b[0m\u001b[1;33m,\u001b[0m\u001b[1;33m\u001b[0m\u001b[1;33m\u001b[0m\u001b[0m\n\u001b[0;32m      5\u001b[0m                        color_values=y)\n",
      "\u001b[1;32mC:\\ProgramData\\Anaconda3\\lib\\site-packages\\kmapper\\utils.py\u001b[0m in \u001b[0;36mwrapper\u001b[1;34m(*args, **kwargs)\u001b[0m\n\u001b[0;32m      9\u001b[0m         \u001b[1;32mdef\u001b[0m \u001b[0mwrapper\u001b[0m\u001b[1;33m(\u001b[0m\u001b[1;33m*\u001b[0m\u001b[0margs\u001b[0m\u001b[1;33m,\u001b[0m \u001b[1;33m**\u001b[0m\u001b[0mkwargs\u001b[0m\u001b[1;33m)\u001b[0m\u001b[1;33m:\u001b[0m\u001b[1;33m\u001b[0m\u001b[1;33m\u001b[0m\u001b[0m\n\u001b[0;32m     10\u001b[0m             \u001b[0mrename_kwargs\u001b[0m\u001b[1;33m(\u001b[0m\u001b[0mf\u001b[0m\u001b[1;33m.\u001b[0m\u001b[0m__name__\u001b[0m\u001b[1;33m,\u001b[0m \u001b[0mkwargs\u001b[0m\u001b[1;33m,\u001b[0m \u001b[0maliases\u001b[0m\u001b[1;33m)\u001b[0m\u001b[1;33m\u001b[0m\u001b[1;33m\u001b[0m\u001b[0m\n\u001b[1;32m---> 11\u001b[1;33m             \u001b[1;32mreturn\u001b[0m \u001b[0mf\u001b[0m\u001b[1;33m(\u001b[0m\u001b[1;33m*\u001b[0m\u001b[0margs\u001b[0m\u001b[1;33m,\u001b[0m \u001b[1;33m**\u001b[0m\u001b[0mkwargs\u001b[0m\u001b[1;33m)\u001b[0m\u001b[1;33m\u001b[0m\u001b[1;33m\u001b[0m\u001b[0m\n\u001b[0m\u001b[0;32m     12\u001b[0m \u001b[1;33m\u001b[0m\u001b[0m\n\u001b[0;32m     13\u001b[0m         \u001b[1;32mreturn\u001b[0m \u001b[0mwrapper\u001b[0m\u001b[1;33m\u001b[0m\u001b[1;33m\u001b[0m\u001b[0m\n",
      "\u001b[1;32mC:\\ProgramData\\Anaconda3\\lib\\site-packages\\kmapper\\kmapper.py\u001b[0m in \u001b[0;36mvisualize\u001b[1;34m(self, graph, color_values, color_function_name, node_color_function, colorscale, custom_tooltips, custom_meta, path_html, title, save_file, X, X_names, lens, lens_names, nbins, include_searchbar)\u001b[0m\n\u001b[0;32m    880\u001b[0m             \u001b[0mnum_color_function_names\u001b[0m \u001b[1;33m=\u001b[0m \u001b[0mlen\u001b[0m\u001b[1;33m(\u001b[0m\u001b[0mcolor_function_name\u001b[0m\u001b[1;33m)\u001b[0m\u001b[1;33m\u001b[0m\u001b[1;33m\u001b[0m\u001b[0m\n\u001b[0;32m    881\u001b[0m             \u001b[1;32mif\u001b[0m \u001b[0mnum_color_value_vectors\u001b[0m \u001b[1;33m!=\u001b[0m \u001b[0mnum_color_function_names\u001b[0m\u001b[1;33m:\u001b[0m\u001b[1;33m\u001b[0m\u001b[1;33m\u001b[0m\u001b[0m\n\u001b[1;32m--> 882\u001b[1;33m                 raise Exception(\n\u001b[0m\u001b[0;32m    883\u001b[0m                     \"{} `color_function_names` values found, but {} columns found in color_values. Must be equal.\".format(\n\u001b[0;32m    884\u001b[0m                         \u001b[0mnum_color_function_names\u001b[0m\u001b[1;33m,\u001b[0m \u001b[0mnum_color_value_vectors\u001b[0m\u001b[1;33m\u001b[0m\u001b[1;33m\u001b[0m\u001b[0m\n",
      "\u001b[1;31mException\u001b[0m: 0 `color_function_names` values found, but 1 columns found in color_values. Must be equal."
     ]
    }
   ],
   "source": [
    " # Custom coloring data based on the first variable\n",
    " \n",
    "html = mapper.visualize(graph,\n",
    "                        path_html=\"Project0/Mapper_visuals3.html\",\n",
    "                        color_values=y)"
   ]
  },
  {
   "cell_type": "code",
   "execution_count": 54,
   "id": "e2e09aaa",
   "metadata": {},
   "outputs": [
    {
     "name": "stdout",
     "output_type": "stream",
     "text": [
      "no display found. Using non-interactive Agg backend\n"
     ]
    },
    {
     "name": "stderr",
     "output_type": "stream",
     "text": [
      "<ipython-input-54-33d7157822bf>:4: UserWarning: Matplotlib is currently using agg, which is a non-GUI backend, so cannot show the figure.\n",
      "  plt.show()\n"
     ]
    }
   ],
   "source": [
    "\n",
    "import matplotlib.pyplot as plt\n",
    "\n",
    "km.draw_matplotlib(graph)\n",
    "plt.show()"
   ]
  },
  {
   "cell_type": "code",
   "execution_count": null,
   "id": "c80ed4bf",
   "metadata": {},
   "outputs": [],
   "source": []
  },
  {
   "cell_type": "code",
   "execution_count": null,
   "id": "H53KercT_TtO",
   "metadata": {
    "id": "H53KercT_TtO"
   },
   "outputs": [],
   "source": [
    "import sys\n",
    "try:\n",
    "    import pandas as pd\n",
    "except ImportError as e:\n",
    "    print(\"pandas is required for this example. Please install with conda or pip  and then try again.\")\n",
    "    sys.exit()\n",
    "\n",
    "import numpy as np\n",
    "import sklearn\n",
    "from sklearn import ensemble\n",
    "import kmapper as km\n",
    "from kmapper.plotlyviz import *\n",
    "\n",
    "import matplotlib.pyplot as plt\n",
    "\n",
    "import warnings\n",
    "warnings.filterwarnings(\"ignore\")\n",
    "\n",
    "\n",
    "\n"
   ]
  },
  {
   "cell_type": "code",
   "execution_count": null,
   "id": "zK6rbFkR72aa",
   "metadata": {
    "id": "zK6rbFkR72aa"
   },
   "outputs": [],
   "source": [
    "feature_names = [c for c in clean_data.columns if c not in [\"ID\", \"gender\", \"age\", \"Live_Alone\",\"groupedmaritalstatus\",\"Lonelycategrical\",\"positivelonelinessgrouped\",\"groupedtimealone\",\n",
    "                        \"groupedhealth\"]]"
   ]
  },
  {
   "cell_type": "code",
   "execution_count": null,
   "id": "5d8191fd",
   "metadata": {
    "id": "5d8191fd"
   },
   "outputs": [],
   "source": [
    "X = text ve\n",
    "y = np.array(clean_data[[\"Live_Alone\",\"groupedmaritalstatus\",\"Lonelycategrical\",\"positivelonelinessgrouped\",\"groupedtimealone\",\n",
    "                        \"groupedhealth\"]])"
   ]
  },
  {
   "cell_type": "code",
   "execution_count": null,
   "id": "MxOyuULV8O3N",
   "metadata": {
    "colab": {
     "base_uri": "https://localhost:8080/"
    },
    "id": "MxOyuULV8O3N",
    "outputId": "bcd60e74-349d-49b5-a6e7-0f2236428917"
   },
   "outputs": [],
   "source": [
    "X"
   ]
  },
  {
   "cell_type": "code",
   "execution_count": null,
   "id": "e1a1fedd",
   "metadata": {
    "colab": {
     "base_uri": "https://localhost:8080/",
     "height": 200
    },
    "id": "e1a1fedd",
    "outputId": "2e076233-b8fb-4baa-e692-659907295390"
   },
   "outputs": [],
   "source": [
    "import umap\n",
    "import numpy as np\n",
    "lens = umap.UMAP(n_components=2,\n",
    "                  random_state=1).fit_transform(X)"
   ]
  },
  {
   "cell_type": "code",
   "execution_count": null,
   "id": "a8e06deb",
   "metadata": {
    "id": "a8e06deb"
   },
   "outputs": [],
   "source": [
    "embeddings.shape"
   ]
  },
  {
   "cell_type": "code",
   "execution_count": null,
   "id": "36604d14",
   "metadata": {
    "id": "36604d14"
   },
   "outputs": [],
   "source": [
    "from sklearn.cluster import DBSCAN\n",
    "from sklearn import metrics\n",
    "from sklearn.datasets import make_blobs\n",
    "from sklearn.preprocessing import StandardScaler"
   ]
  },
  {
   "cell_type": "code",
   "execution_count": null,
   "id": "c4216ad4",
   "metadata": {
    "id": "c4216ad4"
   },
   "outputs": [],
   "source": [
    "model= DBSCAN(eps = 0.6, min_samples = 25).fit(embeddings)"
   ]
  },
  {
   "cell_type": "code",
   "execution_count": null,
   "id": "6b51e417",
   "metadata": {
    "id": "6b51e417"
   },
   "outputs": [],
   "source": [
    "clean_data['cluster'] = model.labels_"
   ]
  },
  {
   "cell_type": "markdown",
   "id": "cab4317f",
   "metadata": {
    "id": "cab4317f"
   },
   "source": [
    "n_clusters_ = len(set(clean_data['cluster'])) - (1 if -1 in clean_data['cluster'] else 0)\n",
    "n_noise_ = list(clean_data['cluster']).count(-1)\n"
   ]
  },
  {
   "cell_type": "markdown",
   "id": "10bba277",
   "metadata": {
    "id": "10bba277"
   },
   "source": [
    "n_clusters_"
   ]
  },
  {
   "cell_type": "markdown",
   "id": "d078e850",
   "metadata": {
    "id": "d078e850"
   },
   "source": [
    "#clean_data.to_csv('raw_cluster1.csv', index = False)"
   ]
  },
  {
   "cell_type": "markdown",
   "id": "a5e98171",
   "metadata": {
    "id": "a5e98171"
   },
   "source": [
    "k = 17\n",
    "order_centroids = model.labels_\n",
    "terms = vectorizer.get_feature_names()\n",
    "\n",
    "for i in range(k):\n",
    "    print(\"Cluster %d:\" % i)\n",
    "    for j in order_centroids[i, :10]: #print out 10 feature terms of each cluster\n",
    "        print (' %s' % terms[j])\n",
    "    print('------------')"
   ]
  },
  {
   "cell_type": "code",
   "execution_count": null,
   "id": "cc8bd407",
   "metadata": {
    "id": "cc8bd407"
   },
   "outputs": [],
   "source": [
    "##### from sklearn import metrics\n",
    "from sklearn.datasets import make_blobs\n",
    "from sklearn.preprocessing import StandardScaler\n",
    "from sklearn.cluster import DBSCAN\n",
    "# Data viz\n",
    "from gtda.plotting import plot_point_cloud\n",
    "\n",
    "# TDA magic\n",
    "from gtda.mapper import (\n",
    "    CubicalCover,\n",
    "    make_mapper_pipeline,\n",
    "    Projection,\n",
    "    plot_static_mapper_graph,\n",
    "    plot_interactive_mapper_graph,\n",
    "    MapperInteractivePlotter\n",
    ")\n",
    "\n",
    "#Define filter\n",
    "ump = umap.UMAP(n_neighbors=12,\n",
    "                      min_dist=0.3,\n",
    "                      metric='correlation')\n",
    "\n",
    "# Define cover\n",
    "cover = CubicalCover(n_intervals=10, overlap_frac=0.3)\n",
    "# Choose clustering algorithm – default is DBSCAN\n",
    "model= DBSCAN(eps = 0.6, min_samples = 20)\n",
    "# Configure parallelism of clustering step\n",
    "n_jobs = 1\n",
    "\n",
    "# Initialise pipeline\n",
    "pipe = make_mapper_pipeline(\n",
    "    #filter_func=ump,\n",
    "    cover=cover,\n",
    "    clusterer=model,\n",
    "    verbose=True,\n",
    "    n_jobs=n_jobs,\n",
    ")\n",
    "\n"
   ]
  },
  {
   "cell_type": "code",
   "execution_count": null,
   "id": "3c15b43d",
   "metadata": {
    "id": "3c15b43d"
   },
   "outputs": [],
   "source": [
    "reshape = embeddings.reshape(-1,1)"
   ]
  },
  {
   "cell_type": "markdown",
   "id": "9977e218",
   "metadata": {
    "id": "9977e218"
   },
   "source": [
    "fig = plot_static_mapper_graph(pipe, reshape)\n",
    "fig.show(config={'scrollZoom': True})"
   ]
  },
  {
   "cell_type": "code",
   "execution_count": null,
   "id": "7b44d46f",
   "metadata": {
    "id": "7b44d46f"
   },
   "outputs": [],
   "source": [
    "plot_interactive_mapper_graph(pipe, embeddings)"
   ]
  },
  {
   "cell_type": "code",
   "execution_count": null,
   "id": "d6185bc9",
   "metadata": {
    "id": "d6185bc9"
   },
   "outputs": [],
   "source": [
    "reshape = embeddings\n",
    "# Create the plotter object\n",
    "MIP = MapperInteractivePlotter(pipe, reshape)\n",
    "\n",
    "# Generate interactive widget\n",
    "MIP.plot(color_data=reshape)"
   ]
  },
  {
   "cell_type": "code",
   "execution_count": null,
   "id": "46776432",
   "metadata": {
    "id": "46776432"
   },
   "outputs": [],
   "source": [
    "print(\"Attributes created by `.plot` and updated during the interactive session:\\n\",\n",
    "      [attr for attr in dir(MIP) if attr.endswith(\"_\") and attr[0] != \"_\"])"
   ]
  },
  {
   "cell_type": "code",
   "execution_count": null,
   "id": "f273a8cc",
   "metadata": {
    "id": "f273a8cc"
   },
   "outputs": [],
   "source": [
    "graph = pipe.fit_transform(reshape)\n",
    "node_elements = graph.vs[\"node_elements\"]\n",
    "#print(f\"There are {len(node_elements)} nodes.\\nThe first node consists of row indices {node_elements[0]}.\")"
   ]
  },
  {
   "cell_type": "code",
   "execution_count": null,
   "id": "974e7200",
   "metadata": {
    "id": "974e7200"
   },
   "outputs": [],
   "source": [
    "fig = plot_static_mapper_graph(\n",
    "    pipe, embeddings, node_color_statistic=np.arange(len(node_elements))\n",
    ")\n",
    "#fig.show(config={'scrollZoom': True})"
   ]
  },
  {
   "cell_type": "code",
   "execution_count": null,
   "id": "79dabe82",
   "metadata": {
    "id": "79dabe82"
   },
   "outputs": [],
   "source": [
    "df = pd.DataFrame(reshape, columns=[\"x\", \"y\"])\n",
    "df.head()\n",
    "df.shape"
   ]
  },
  {
   "cell_type": "code",
   "execution_count": null,
   "id": "424218d0",
   "metadata": {
    "id": "424218d0"
   },
   "outputs": [],
   "source": [
    "pipe.set_params(filter_func=Projection(columns=[\"x\", \"y\"]));"
   ]
  },
  {
   "cell_type": "code",
   "execution_count": null,
   "id": "f0be56aa",
   "metadata": {
    "id": "f0be56aa"
   },
   "outputs": [],
   "source": [
    "\n",
    "fig = plot_static_mapper_graph(pipe, df, color_data=df)\n",
    "fig.show(config={'scrollZoom': True})"
   ]
  },
  {
   "cell_type": "code",
   "execution_count": null,
   "id": "613b93a9",
   "metadata": {
    "id": "613b93a9"
   },
   "outputs": [],
   "source": [
    "df = pd.DataFrame(embeddings, columns=[\"x\", \"y\"])\n"
   ]
  },
  {
   "cell_type": "code",
   "execution_count": null,
   "id": "5ae6bf28",
   "metadata": {
    "id": "5ae6bf28"
   },
   "outputs": [],
   "source": [
    "df[\"Circle\"] = df[\"x\"] ** 2 + df[\"y\"] ** 2 < 0.25\n",
    "df[\"Circle\"] = df[\"Circle\"].replace([False, True], [\"A\", \"B\"])"
   ]
  },
  {
   "cell_type": "code",
   "execution_count": null,
   "id": "bc19c6f5",
   "metadata": {
    "id": "bc19c6f5"
   },
   "outputs": [],
   "source": [
    "df"
   ]
  },
  {
   "cell_type": "code",
   "execution_count": null,
   "id": "c0cb57cf",
   "metadata": {
    "id": "c0cb57cf"
   },
   "outputs": [],
   "source": [
    "color_data = pd.get_dummies(df[\"Circle\"], prefix=\"Circle\")\n",
    "\n",
    "fig = plot_static_mapper_graph(pipe, df[[\"x\", \"y\"]], color_data=color_data)\n",
    "fig.show(config={'scrollZoom': True})"
   ]
  },
  {
   "cell_type": "code",
   "execution_count": null,
   "id": "7f9cb6d8",
   "metadata": {
    "id": "7f9cb6d8"
   },
   "outputs": [],
   "source": [
    "graph = pipe.fit_transform(df[[\"x\", \"y\"]])"
   ]
  },
  {
   "cell_type": "code",
   "execution_count": null,
   "id": "374f3c22",
   "metadata": {
    "id": "374f3c22"
   },
   "outputs": [],
   "source": [
    "graph.vs.attributes()"
   ]
  },
  {
   "cell_type": "code",
   "execution_count": null,
   "id": "2c3b87d5",
   "metadata": {
    "id": "2c3b87d5"
   },
   "outputs": [],
   "source": [
    "node_elements"
   ]
  },
  {
   "cell_type": "markdown",
   "id": "31c74afb",
   "metadata": {
    "id": "31c74afb"
   },
   "source": [
    "for "
   ]
  },
  {
   "cell_type": "code",
   "execution_count": null,
   "id": "d9acc1ac",
   "metadata": {
    "id": "d9acc1ac"
   },
   "outputs": [],
   "source": [
    "node_id = 0\n",
    "node_elements = graph.vs[\"node_elements\"]\n",
    "\n",
    "print(f\"\"\"\n",
    "Node ID: {node_id}\n",
    "Node elements: {node_elements[node_id]}\n",
    "Data points: {embeddings[node_elements[node_id]]}\n",
    "\"\"\")"
   ]
  },
  {
   "cell_type": "code",
   "execution_count": null,
   "id": "7b8bc62f",
   "metadata": {
    "id": "7b8bc62f"
   },
   "outputs": [],
   "source": [
    "node_elements"
   ]
  },
  {
   "cell_type": "markdown",
   "id": "d7e9efb5",
   "metadata": {
    "id": "d7e9efb5"
   },
   "source": [
    "Clean_data"
   ]
  },
  {
   "cell_type": "code",
   "execution_count": null,
   "id": "56987a8f",
   "metadata": {
    "id": "56987a8f"
   },
   "outputs": [],
   "source": [
    "filter_func = np.sum\n",
    "\n",
    "pipe = make_mapper_pipeline(\n",
    "    filter_func=filter_func,\n",
    "    cover=cover,\n",
    "    clusterer=model,\n",
    "    verbose=True,\n",
    "    n_jobs=n_jobs,\n",
    ")"
   ]
  },
  {
   "cell_type": "code",
   "execution_count": null,
   "id": "bdd346d2",
   "metadata": {
    "id": "bdd346d2"
   },
   "outputs": [],
   "source": [
    "fig = plot_static_mapper_graph(pipe, embeddings)\n",
    "fig.show(config={'scrollZoom': True})"
   ]
  },
  {
   "cell_type": "code",
   "execution_count": null,
   "id": "fb1dc811",
   "metadata": {
    "id": "fb1dc811"
   },
   "outputs": [],
   "source": []
  },
  {
   "cell_type": "code",
   "execution_count": null,
   "id": "99bc4a36",
   "metadata": {
    "id": "99bc4a36"
   },
   "outputs": [],
   "source": []
  },
  {
   "cell_type": "code",
   "execution_count": null,
   "id": "67375727",
   "metadata": {
    "id": "67375727"
   },
   "outputs": [],
   "source": []
  }
 ],
 "metadata": {
  "colab": {
   "collapsed_sections": [
    "d078e850"
   ],
   "name": "UMAP and Mapper.ipynb",
   "provenance": []
  },
  "kernelspec": {
   "display_name": "Python 3",
   "language": "python",
   "name": "python3"
  },
  "language_info": {
   "codemirror_mode": {
    "name": "ipython",
    "version": 3
   },
   "file_extension": ".py",
   "mimetype": "text/x-python",
   "name": "python",
   "nbconvert_exporter": "python",
   "pygments_lexer": "ipython3",
   "version": "3.8.8"
  }
 },
 "nbformat": 4,
 "nbformat_minor": 5
}
