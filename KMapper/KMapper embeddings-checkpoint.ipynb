{
 "cells": [
  {
   "cell_type": "code",
   "execution_count": 1,
   "id": "a655a527",
   "metadata": {},
   "outputs": [
    {
     "data": {
      "text/html": [
       "<div>\n",
       "<style scoped>\n",
       "    .dataframe tbody tr th:only-of-type {\n",
       "        vertical-align: middle;\n",
       "    }\n",
       "\n",
       "    .dataframe tbody tr th {\n",
       "        vertical-align: top;\n",
       "    }\n",
       "\n",
       "    .dataframe thead th {\n",
       "        text-align: right;\n",
       "    }\n",
       "</style>\n",
       "<table border=\"1\" class=\"dataframe\">\n",
       "  <thead>\n",
       "    <tr style=\"text-align: right;\">\n",
       "      <th></th>\n",
       "      <th>Idme</th>\n",
       "      <th>gender</th>\n",
       "      <th>age</th>\n",
       "      <th>Q9_Loneliness_Meaning_Qual</th>\n",
       "    </tr>\n",
       "  </thead>\n",
       "  <tbody>\n",
       "    <tr>\n",
       "      <th>0</th>\n",
       "      <td>203</td>\n",
       "      <td>2.0</td>\n",
       "      <td>16.0</td>\n",
       "      <td>-99</td>\n",
       "    </tr>\n",
       "    <tr>\n",
       "      <th>1</th>\n",
       "      <td>237</td>\n",
       "      <td>2.0</td>\n",
       "      <td>16.0</td>\n",
       "      <td>Makes me feel empty</td>\n",
       "    </tr>\n",
       "    <tr>\n",
       "      <th>2</th>\n",
       "      <td>545</td>\n",
       "      <td>2.0</td>\n",
       "      <td>16.0</td>\n",
       "      <td>Not speaking to anyone for days. Being out wit...</td>\n",
       "    </tr>\n",
       "    <tr>\n",
       "      <th>3</th>\n",
       "      <td>565</td>\n",
       "      <td>1.0</td>\n",
       "      <td>16.0</td>\n",
       "      <td>I am a very loving generous person but due to ...</td>\n",
       "    </tr>\n",
       "    <tr>\n",
       "      <th>4</th>\n",
       "      <td>658</td>\n",
       "      <td>2.0</td>\n",
       "      <td>16.0</td>\n",
       "      <td>Unlikeable</td>\n",
       "    </tr>\n",
       "  </tbody>\n",
       "</table>\n",
       "</div>"
      ],
      "text/plain": [
       "   Idme  gender   age                         Q9_Loneliness_Meaning_Qual\n",
       "0   203     2.0  16.0                                                -99\n",
       "1   237     2.0  16.0                                Makes me feel empty\n",
       "2   545     2.0  16.0  Not speaking to anyone for days. Being out wit...\n",
       "3   565     1.0  16.0  I am a very loving generous person but due to ...\n",
       "4   658     2.0  16.0                                         Unlikeable"
      ]
     },
     "execution_count": 1,
     "metadata": {},
     "output_type": "execute_result"
    }
   ],
   "source": [
    "\n",
    "\n",
    "\n",
    "## Imports (code & data)\n",
    "\n",
    "import pandas as pd\n",
    "import yake\n",
    "import math\n",
    "import numpy as np\n",
    "\n",
    "\n",
    "raw_data = pd.read_csv(r'C:\\Users\\BRIGHT\\raw.csv')\n",
    "raw_data.head()"
   ]
  },
  {
   "cell_type": "code",
   "execution_count": 2,
   "id": "d636d642",
   "metadata": {},
   "outputs": [],
   "source": [
    "# Renaming column\n",
    "\n",
    "raw_data = raw_data.rename(columns = {'Q9_Loneliness_Meaning_Qual': 'response'})"
   ]
  },
  {
   "cell_type": "code",
   "execution_count": 3,
   "id": "48000f8f",
   "metadata": {},
   "outputs": [],
   "source": [
    "clean_data = raw_data[raw_data['response'] != '-99']\n"
   ]
  },
  {
   "cell_type": "code",
   "execution_count": 4,
   "id": "9b4baa7f",
   "metadata": {},
   "outputs": [
    {
     "data": {
      "text/plain": [
       "(39444, 4)"
      ]
     },
     "execution_count": 4,
     "metadata": {},
     "output_type": "execute_result"
    }
   ],
   "source": [
    "clean_data.shape"
   ]
  },
  {
   "cell_type": "code",
   "execution_count": 5,
   "id": "aba738de",
   "metadata": {},
   "outputs": [
    {
     "name": "stderr",
     "output_type": "stream",
     "text": [
      "<ipython-input-5-f0c347be4c19>:1: SettingWithCopyWarning: \n",
      "A value is trying to be set on a copy of a slice from a DataFrame.\n",
      "Try using .loc[row_indexer,col_indexer] = value instead\n",
      "\n",
      "See the caveats in the documentation: https://pandas.pydata.org/pandas-docs/stable/user_guide/indexing.html#returning-a-view-versus-a-copy\n",
      "  clean_data['response'] = clean_data['response'].str.lower()\n",
      "<ipython-input-5-f0c347be4c19>:2: SettingWithCopyWarning: \n",
      "A value is trying to be set on a copy of a slice from a DataFrame.\n",
      "Try using .loc[row_indexer,col_indexer] = value instead\n",
      "\n",
      "See the caveats in the documentation: https://pandas.pydata.org/pandas-docs/stable/user_guide/indexing.html#returning-a-view-versus-a-copy\n",
      "  clean_data['response'] = clean_data['response'].str.replace('loneliness', '')\n",
      "<ipython-input-5-f0c347be4c19>:3: SettingWithCopyWarning: \n",
      "A value is trying to be set on a copy of a slice from a DataFrame.\n",
      "Try using .loc[row_indexer,col_indexer] = value instead\n",
      "\n",
      "See the caveats in the documentation: https://pandas.pydata.org/pandas-docs/stable/user_guide/indexing.html#returning-a-view-versus-a-copy\n",
      "  clean_data['response'] = clean_data['response'].str.replace('/', ' ')\n",
      "<ipython-input-5-f0c347be4c19>:4: SettingWithCopyWarning: \n",
      "A value is trying to be set on a copy of a slice from a DataFrame.\n",
      "Try using .loc[row_indexer,col_indexer] = value instead\n",
      "\n",
      "See the caveats in the documentation: https://pandas.pydata.org/pandas-docs/stable/user_guide/indexing.html#returning-a-view-versus-a-copy\n",
      "  clean_data['response'] = clean_data['response'].str.replace('\\n', ' ')\n",
      "<ipython-input-5-f0c347be4c19>:5: FutureWarning: The default value of regex will change from True to False in a future version. In addition, single character regular expressions will*not* be treated as literal strings when regex=True.\n",
      "  clean_data['response'] = clean_data['response'].str.replace('.', '')\n",
      "<ipython-input-5-f0c347be4c19>:5: SettingWithCopyWarning: \n",
      "A value is trying to be set on a copy of a slice from a DataFrame.\n",
      "Try using .loc[row_indexer,col_indexer] = value instead\n",
      "\n",
      "See the caveats in the documentation: https://pandas.pydata.org/pandas-docs/stable/user_guide/indexing.html#returning-a-view-versus-a-copy\n",
      "  clean_data['response'] = clean_data['response'].str.replace('.', '')\n",
      "<ipython-input-5-f0c347be4c19>:6: SettingWithCopyWarning: \n",
      "A value is trying to be set on a copy of a slice from a DataFrame.\n",
      "Try using .loc[row_indexer,col_indexer] = value instead\n",
      "\n",
      "See the caveats in the documentation: https://pandas.pydata.org/pandas-docs/stable/user_guide/indexing.html#returning-a-view-versus-a-copy\n",
      "  clean_data['response'] = clean_data['response'].str.replace(',', '')\n"
     ]
    }
   ],
   "source": [
    "clean_data['response'] = clean_data['response'].str.lower()\n",
    "clean_data['response'] = clean_data['response'].str.replace('loneliness', '')\n",
    "clean_data['response'] = clean_data['response'].str.replace('/', ' ')\n",
    "clean_data['response'] = clean_data['response'].str.replace('\\n', ' ')\n",
    "clean_data['response'] = clean_data['response'].str.replace('.', '')\n",
    "clean_data['response'] = clean_data['response'].str.replace(',', '')\n",
    "                                                            "
   ]
  },
  {
   "cell_type": "code",
   "execution_count": 6,
   "id": "b0d7523c",
   "metadata": {},
   "outputs": [
    {
     "name": "stderr",
     "output_type": "stream",
     "text": [
      "<ipython-input-6-ea8eda6d50f1>:13: SettingWithCopyWarning: \n",
      "A value is trying to be set on a copy of a slice from a DataFrame.\n",
      "Try using .loc[row_indexer,col_indexer] = value instead\n",
      "\n",
      "See the caveats in the documentation: https://pandas.pydata.org/pandas-docs/stable/user_guide/indexing.html#returning-a-view-versus-a-copy\n",
      "  clean_data['gender_cat'] = clean_data['gender'].apply(getAnalysis1)\n"
     ]
    }
   ],
   "source": [
    "   \n",
    "def getAnalysis1(score):\n",
    "    if score == 1:\n",
    "        return 'Male'\n",
    "    elif score ==2:\n",
    "        return 'Female'\n",
    "    elif score ==3:\n",
    "        return 'Others'\n",
    "    else:\n",
    "        return 'Prefer not to say'\n",
    "    \n",
    "\n",
    "       \n",
    "clean_data['gender_cat'] = clean_data['gender'].apply(getAnalysis1)"
   ]
  },
  {
   "cell_type": "code",
   "execution_count": 7,
   "id": "2001ad0a",
   "metadata": {},
   "outputs": [],
   "source": [
    "Male = clean_data[clean_data.gender_cat == 'Male']\n",
    "Female = clean_data[clean_data.gender_cat == 'Female']\n"
   ]
  },
  {
   "cell_type": "code",
   "execution_count": 74,
   "id": "7dc8d63c",
   "metadata": {},
   "outputs": [],
   "source": [
    "Others = clean_data[clean_data.gender_cat == 'Others']\n",
    "Not_say = clean_data[clean_data.gender_cat == 'Prefer not to say']"
   ]
  },
  {
   "cell_type": "code",
   "execution_count": 75,
   "id": "7422d1d6",
   "metadata": {},
   "outputs": [
    {
     "data": {
      "text/plain": [
       "(182, 5)"
      ]
     },
     "execution_count": 75,
     "metadata": {},
     "output_type": "execute_result"
    }
   ],
   "source": [
    "Others.shape"
   ]
  },
  {
   "cell_type": "code",
   "execution_count": 76,
   "id": "3db96958",
   "metadata": {},
   "outputs": [
    {
     "data": {
      "text/plain": [
       "(1443, 5)"
      ]
     },
     "execution_count": 76,
     "metadata": {},
     "output_type": "execute_result"
    }
   ],
   "source": [
    "Not_say.shape"
   ]
  },
  {
   "cell_type": "code",
   "execution_count": 9,
   "id": "565d044c",
   "metadata": {},
   "outputs": [
    {
     "data": {
      "text/plain": [
       "(12280, 5)"
      ]
     },
     "execution_count": 9,
     "metadata": {},
     "output_type": "execute_result"
    }
   ],
   "source": [
    "Male.shape"
   ]
  },
  {
   "cell_type": "code",
   "execution_count": 10,
   "id": "aa476f6d",
   "metadata": {},
   "outputs": [
    {
     "data": {
      "text/plain": [
       "(25539, 5)"
      ]
     },
     "execution_count": 10,
     "metadata": {},
     "output_type": "execute_result"
    }
   ],
   "source": [
    "Female.shape"
   ]
  },
  {
   "cell_type": "code",
   "execution_count": 12,
   "id": "30bb4d5a",
   "metadata": {},
   "outputs": [],
   "source": [
    "from sklearn.feature_extraction.text import TfidfVectorizer\n",
    "\n",
    "documentsM =Male['response'].values.astype(\"U\")\n",
    "vectorizer = TfidfVectorizer(stop_words = ('english'))\n",
    "featuresM = vectorizer.fit_transform(documentsM)\n",
    "\n",
    "documentsF =Female['response'].values.astype(\"U\")\n",
    "vectorizer = TfidfVectorizer(stop_words = ('english'))\n",
    "featuresF = vectorizer.fit_transform(documentsF)"
   ]
  },
  {
   "cell_type": "code",
   "execution_count": 51,
   "id": "b17b2f79",
   "metadata": {},
   "outputs": [],
   "source": [
    "import umap\n",
    "embeddingsM = umap.UMAP(n_neighbors=15,\n",
    "                      min_dist=0.3,\n",
    "                      metric='correlation').fit_transform(featuresM)\n",
    "\n",
    "embeddingsF = umap.UMAP(n_neighbors=15,\n",
    "                      min_dist=0.3,\n",
    "                      metric='correlation').fit_transform(featuresF)"
   ]
  },
  {
   "cell_type": "code",
   "execution_count": null,
   "id": "3d34889b",
   "metadata": {},
   "outputs": [],
   "source": [
    "import matplotlib.pyplot as plt\n",
    "\n",
    "x_axis = [o[0] for o in T_SVD]\n",
    "y_axis = [o[1] for o in T_SVD]\n",
    "\n",
    "\n",
    "fig, ax = plt.subplots(figsize=(50, 50))\n",
    "\n",
    "ax.scatter(x_axis, y_axis, color = 'black', alpha = 0.5 )"
   ]
  },
  {
   "cell_type": "code",
   "execution_count": 83,
   "id": "3720b4c2",
   "metadata": {},
   "outputs": [],
   "source": [
    "model= DBSCAN(eps = 0.6, min_samples = 25).fit(embeddingsM)"
   ]
  },
  {
   "cell_type": "code",
   "execution_count": 84,
   "id": "7140f52e",
   "metadata": {},
   "outputs": [],
   "source": [
    "clean = model.labels_"
   ]
  },
  {
   "cell_type": "code",
   "execution_count": null,
   "id": "b42fa42c",
   "metadata": {},
   "outputs": [],
   "source": [
    "n_clusters_ = len(set(clean_data['cluster'])) - (1 if -1 in clean_data['cluster'] else 0)\n",
    "n_noise_ = list(clean_data['cluster']).count(-1)"
   ]
  },
  {
   "cell_type": "code",
   "execution_count": 52,
   "id": "6148e30e",
   "metadata": {},
   "outputs": [],
   "source": [
    "from sklearn import metrics\n",
    "from sklearn.datasets import make_blobs\n",
    "from sklearn.preprocessing import StandardScaler\n",
    "from sklearn.cluster import DBSCAN\n",
    "# Data viz\n",
    "from gtda.plotting import plot_point_cloud\n",
    "\n",
    "# TDA magic\n",
    "from gtda.mapper import (\n",
    "    CubicalCover,\n",
    "    make_mapper_pipeline,\n",
    "    Projection,\n",
    "    plot_static_mapper_graph,\n",
    "    plot_interactive_mapper_graph,\n",
    "    MapperInteractivePlotter\n",
    ")\n",
    "\n",
    "#tsne = TSNE(n_components=2, perplexity=25)\n",
    "# Define cover\n",
    "cover = CubicalCover(n_intervals=10, overlap_frac=0.3)\n",
    "# Choose clustering algorithm – default is DBSCAN\n",
    "model= DBSCAN(eps = 0.6, min_samples = 25)\n",
    "# Configure parallelism of clustering step\n",
    "n_jobs = 1\n",
    "\n",
    "# Initialise pipeline\n",
    "pipe = make_mapper_pipeline(\n",
    "    cover=cover,\n",
    "    clusterer=model,\n",
    "    verbose=False,\n",
    "    n_jobs=n_jobs,\n",
    ")\n",
    "\n"
   ]
  },
  {
   "cell_type": "code",
   "execution_count": 53,
   "id": "6eff93e1",
   "metadata": {},
   "outputs": [
    {
     "data": {
      "application/vnd.plotly.v1+json": {
       "config": {
        "plotlyServerURL": "https://plot.ly",
        "scrollZoom": true
       },
       "data": [
        {
         "hoverinfo": "none",
         "line": {
          "color": "#888",
          "width": 1
         },
         "mode": "lines",
         "name": "edge_trace",
         "type": "scatter",
         "uid": "a4b52b33-9678-4ae3-bc50-03f5e8071ffd",
         "x": [
          -2.1138878265445826,
          -1.5385450084797307,
          null,
          -2.1138878265445826,
          -1.948072739644338,
          null,
          -2.1138878265445826,
          -2.5532741066630864,
          null,
          -2.1138878265445826,
          -3.1212886256459065,
          null,
          -2.1138878265445826,
          -1.6741575159227857,
          null,
          -2.1138878265445826,
          -1.094940195653709,
          null,
          -2.1138878265445826,
          -2.6701693038977217,
          null,
          -2.1138878265445826,
          -2.213041126796609,
          null,
          -1.5385450084797307,
          -1.948072739644338,
          null,
          -1.5385450084797307,
          -1.3912471778252713,
          null,
          -1.5385450084797307,
          -0.9070116846687002,
          null,
          -1.5385450084797307,
          -2.5532741066630864,
          null,
          -1.5385450084797307,
          -1.6741575159227857,
          null,
          -1.5385450084797307,
          -1.094940195653709,
          null,
          -1.5385450084797307,
          -0.5291934933194179,
          null,
          0.3589199330404751,
          0.8156347015121105,
          null,
          0.3589199330404751,
          0.9129159734322765,
          null,
          0.3589199330404751,
          1.3083604750352105,
          null,
          0.3589199330404751,
          -0.658597009199983,
          null,
          0.3589199330404751,
          -0.08654127263664628,
          null,
          0.3589199330404751,
          -0.1936877968301489,
          null,
          0.3589199330404751,
          0.29231906507648314,
          null,
          0.3589199330404751,
          0.48547180040078736,
          null,
          0.8156347015121105,
          0.9129159734322765,
          null,
          0.8156347015121105,
          1.3083604750352105,
          null,
          0.8156347015121105,
          -0.1936877968301489,
          null,
          0.8156347015121105,
          0.29231906507648314,
          null,
          0.8156347015121105,
          0.6822478029760655,
          null,
          0.8156347015121105,
          1.3699007238719956,
          null,
          0.8156347015121105,
          1.7729478672633001,
          null,
          0.9129159734322765,
          1.3083604750352105,
          null,
          0.9129159734322765,
          -0.08654127263664628,
          null,
          0.9129159734322765,
          0.48547180040078736,
          null,
          1.3083604750352105,
          1.3699007238719956,
          null,
          1.3083604750352105,
          1.7729478672633001,
          null,
          -0.9067193233951932,
          -1.3087139037610764,
          null,
          -0.9067193233951932,
          -0.3291041118505061,
          null,
          -0.9067193233951932,
          -0.7455500665116445,
          null,
          -0.9067193233951932,
          -0.7025989549458321,
          null,
          -0.9067193233951932,
          0.06647532499090546,
          null,
          -1.3087139037610764,
          -0.3291041118505061,
          null,
          -1.3087139037610764,
          -0.7455500665116445,
          null,
          -1.3087139037610764,
          -1.2126819805881814,
          null,
          -1.3087139037610764,
          -1.7874413944676502,
          null,
          -0.658597009199983,
          -0.08654127263664628,
          null,
          -0.658597009199983,
          -0.1936877968301489,
          null,
          -0.658597009199983,
          -1.6741575159227857,
          null,
          -0.658597009199983,
          -0.7455500665116445,
          null,
          -0.658597009199983,
          -1.094940195653709,
          null,
          -0.658597009199983,
          -1.2126819805881814,
          null,
          -0.658597009199983,
          -0.5291934933194179,
          null,
          -0.08654127263664628,
          -0.1936877968301489,
          null,
          -0.08654127263664628,
          0.48547180040078736,
          null,
          -0.08654127263664628,
          -1.094940195653709,
          null,
          -0.08654127263664628,
          -0.5291934933194179,
          null,
          -0.08654127263664628,
          0.06846585436187738,
          null,
          -0.3291041118505061,
          -0.1936877968301489,
          null,
          -0.3291041118505061,
          0.29231906507648314,
          null,
          -0.3291041118505061,
          0.6822478029760655,
          null,
          -0.3291041118505061,
          -0.7455500665116445,
          null,
          -0.3291041118505061,
          -0.7025989549458321,
          null,
          -0.3291041118505061,
          0.06647532499090546,
          null,
          -0.1936877968301489,
          0.29231906507648314,
          null,
          -0.1936877968301489,
          -0.7455500665116445,
          null,
          -0.1936877968301489,
          -1.2126819805881814,
          null,
          0.29231906507648314,
          0.6822478029760655,
          null,
          0.29231906507648314,
          1.3699007238719956,
          null,
          0.29231906507648314,
          -0.7455500665116445,
          null,
          0.29231906507648314,
          0.06647532499090546,
          null,
          -1.948072739644338,
          -1.3912471778252713,
          null,
          -1.948072739644338,
          -0.9070116846687002,
          null,
          -1.948072739644338,
          -2.9563626599535464,
          null,
          -1.948072739644338,
          -2.5532741066630864,
          null,
          -1.948072739644338,
          -2.3682141369238754,
          null,
          -1.948072739644338,
          -1.8695657413458822,
          null,
          -1.3912471778252713,
          -0.9070116846687002,
          null,
          -1.3912471778252713,
          -2.3682141369238754,
          null,
          -1.3912471778252713,
          -0.3685006257751071,
          null,
          -1.3912471778252713,
          -1.8695657413458822,
          null,
          -1.3912471778252713,
          -0.7360549193155423,
          null,
          -0.9070116846687002,
          -1.094940195653709,
          null,
          -0.9070116846687002,
          -0.3685006257751071,
          null,
          -0.9070116846687002,
          -0.5291934933194179,
          null,
          -0.9070116846687002,
          -0.7360549193155423,
          null,
          -0.9070116846687002,
          0.06846585436187738,
          null,
          -0.9070116846687002,
          -0.16242504822666173,
          null,
          -2.9563626599535464,
          -2.5532741066630864,
          null,
          -2.9563626599535464,
          -2.3682141369238754,
          null,
          -2.9563626599535464,
          -3.1212886256459065,
          null,
          -2.9563626599535464,
          -3.5618512640050977,
          null,
          -2.5532741066630864,
          -2.3682141369238754,
          null,
          -2.5532741066630864,
          -3.1212886256459065,
          null,
          -2.5532741066630864,
          -2.6701693038977217,
          null,
          -2.5532741066630864,
          -3.5618512640050977,
          null,
          -2.3682141369238754,
          -1.8695657413458822,
          null,
          0.6822478029760655,
          1.3699007238719956,
          null,
          0.6822478029760655,
          1.0346146231281743,
          null,
          0.6822478029760655,
          0.6159710512719657,
          null,
          0.6822478029760655,
          0.06647532499090546,
          null,
          0.6822478029760655,
          1.4667155217486727,
          null,
          1.3699007238719956,
          1.0346146231281743,
          null,
          1.3699007238719956,
          2.2143756576055207,
          null,
          1.3699007238719956,
          2.4460117965110397,
          null,
          1.3699007238719956,
          2.371794575497215,
          null,
          1.3699007238719956,
          1.4667155217486727,
          null,
          1.3699007238719956,
          1.7729478672633001,
          null,
          -3.1212886256459065,
          -2.6701693038977217,
          null,
          -3.1212886256459065,
          -3.5618512640050977,
          null,
          0.48547180040078736,
          -0.5291934933194179,
          null,
          0.48547180040078736,
          0.06846585436187738,
          null,
          -4.886063877095729,
          -5.493005692100232,
          null,
          -1.6741575159227857,
          -1.094940195653709,
          null,
          -1.6741575159227857,
          -1.2126819805881814,
          null,
          -1.6741575159227857,
          -2.6701693038977217,
          null,
          -1.6741575159227857,
          -2.213041126796609,
          null,
          -1.6741575159227857,
          -1.7874413944676502,
          null,
          -0.7455500665116445,
          -1.2126819805881814,
          null,
          -0.7455500665116445,
          -1.7874413944676502,
          null,
          -1.094940195653709,
          -1.2126819805881814,
          null,
          -1.094940195653709,
          -0.5291934933194179,
          null,
          -1.2126819805881814,
          -2.213041126796609,
          null,
          -1.2126819805881814,
          -1.7874413944676502,
          null,
          -0.3685006257751071,
          -0.5291934933194179,
          null,
          -0.3685006257751071,
          -0.7360549193155423,
          null,
          -0.3685006257751071,
          0.06846585436187738,
          null,
          -0.3685006257751071,
          -0.16242504822666173,
          null,
          -2.6701693038977217,
          -2.213041126796609,
          null,
          -2.213041126796609,
          -1.7874413944676502,
          null,
          1.0346146231281743,
          0.6159710512719657,
          null,
          1.0346146231281743,
          0.06647532499090546,
          null,
          1.0346146231281743,
          1.4667155217486727,
          null,
          1.0346146231281743,
          1.3899672666886507,
          null,
          1.0346146231281743,
          0.9526581014463901,
          null,
          1.0346146231281743,
          1.8121237796209269,
          null,
          -1.7874413944676502,
          -2.6369469578045637,
          null,
          0.6159710512719657,
          0.06647532499090546,
          null,
          0.6159710512719657,
          1.3899672666886507,
          null,
          0.6159710512719657,
          1.8121237796209269,
          null,
          -0.7025989549458321,
          0.06647532499090546,
          null,
          -0.5291934933194179,
          0.06846585436187738,
          null,
          2.2143756576055207,
          2.4460117965110397,
          null,
          2.2143756576055207,
          2.371794575497215,
          null,
          2.4460117965110397,
          2.371794575497215,
          null,
          1.4667155217486727,
          1.3899672666886507,
          null,
          1.4667155217486727,
          0.9526581014463901,
          null,
          4.317847225734699,
          4.870551271821686,
          null,
          4.317847225734699,
          3.6817716466848003,
          null,
          1.3899672666886507,
          0.9526581014463901,
          null,
          1.3899672666886507,
          1.8121237796209269,
          null,
          -0.7360549193155423,
          -0.16242504822666173,
          null,
          -7.3856192982978985,
          -7.582466222614883,
          null,
          -4.741879722384131,
          -5.408940830158502,
          null
         ],
         "y": [
          2.244626801469249,
          2.618732580460368,
          null,
          2.244626801469249,
          3.294498014794469,
          null,
          2.244626801469249,
          2.894721382054264,
          null,
          2.244626801469249,
          2.495647082109043,
          null,
          2.244626801469249,
          1.5573311068985731,
          null,
          2.244626801469249,
          1.9729105112290972,
          null,
          2.244626801469249,
          1.846891323847273,
          null,
          2.244626801469249,
          1.1935725338241374,
          null,
          2.618732580460368,
          3.294498014794469,
          null,
          2.618732580460368,
          3.6436887540847662,
          null,
          2.618732580460368,
          3.039787193918189,
          null,
          2.618732580460368,
          2.894721382054264,
          null,
          2.618732580460368,
          1.5573311068985731,
          null,
          2.618732580460368,
          1.9729105112290972,
          null,
          2.618732580460368,
          2.3233829462053195,
          null,
          0.9648728135059572,
          0.275346343095292,
          null,
          0.9648728135059572,
          1.345885319013047,
          null,
          0.9648728135059572,
          0.6767660133827605,
          null,
          0.9648728135059572,
          1.2777854968196078,
          null,
          0.9648728135059572,
          1.6435892932729017,
          null,
          0.9648728135059572,
          0.5757228652089992,
          null,
          0.9648728135059572,
          -0.09382060796478636,
          null,
          0.9648728135059572,
          2.0090282009563265,
          null,
          0.275346343095292,
          1.345885319013047,
          null,
          0.275346343095292,
          0.6767660133827605,
          null,
          0.275346343095292,
          0.5757228652089992,
          null,
          0.275346343095292,
          -0.09382060796478636,
          null,
          0.275346343095292,
          -0.7550368140832527,
          null,
          0.275346343095292,
          -0.39287960040132236,
          null,
          0.275346343095292,
          0.3300327703396017,
          null,
          1.345885319013047,
          0.6767660133827605,
          null,
          1.345885319013047,
          1.6435892932729017,
          null,
          1.345885319013047,
          2.0090282009563265,
          null,
          0.6767660133827605,
          -0.39287960040132236,
          null,
          0.6767660133827605,
          0.3300327703396017,
          null,
          -0.8178389426077152,
          -0.14094024502921518,
          null,
          -0.8178389426077152,
          -0.47142242113595406,
          null,
          -0.8178389426077152,
          0.21061921006024556,
          null,
          -0.8178389426077152,
          -1.4616068896688754,
          null,
          -0.8178389426077152,
          -1.135923619269714,
          null,
          -0.14094024502921518,
          -0.47142242113595406,
          null,
          -0.14094024502921518,
          0.21061921006024556,
          null,
          -0.14094024502921518,
          0.8949310235667307,
          null,
          -0.14094024502921518,
          0.4864511735824019,
          null,
          1.2777854968196078,
          1.6435892932729017,
          null,
          1.2777854968196078,
          0.5757228652089992,
          null,
          1.2777854968196078,
          1.5573311068985731,
          null,
          1.2777854968196078,
          0.21061921006024556,
          null,
          1.2777854968196078,
          1.9729105112290972,
          null,
          1.2777854968196078,
          0.8949310235667307,
          null,
          1.2777854968196078,
          2.3233829462053195,
          null,
          1.6435892932729017,
          0.5757228652089992,
          null,
          1.6435892932729017,
          2.0090282009563265,
          null,
          1.6435892932729017,
          1.9729105112290972,
          null,
          1.6435892932729017,
          2.3233829462053195,
          null,
          1.6435892932729017,
          2.6667771833484504,
          null,
          -0.47142242113595406,
          0.5757228652089992,
          null,
          -0.47142242113595406,
          -0.09382060796478636,
          null,
          -0.47142242113595406,
          -0.7550368140832527,
          null,
          -0.47142242113595406,
          0.21061921006024556,
          null,
          -0.47142242113595406,
          -1.4616068896688754,
          null,
          -0.47142242113595406,
          -1.135923619269714,
          null,
          0.5757228652089992,
          -0.09382060796478636,
          null,
          0.5757228652089992,
          0.21061921006024556,
          null,
          0.5757228652089992,
          0.8949310235667307,
          null,
          -0.09382060796478636,
          -0.7550368140832527,
          null,
          -0.09382060796478636,
          -0.39287960040132236,
          null,
          -0.09382060796478636,
          0.21061921006024556,
          null,
          -0.09382060796478636,
          -1.135923619269714,
          null,
          3.294498014794469,
          3.6436887540847662,
          null,
          3.294498014794469,
          3.039787193918189,
          null,
          3.294498014794469,
          3.532008682278592,
          null,
          3.294498014794469,
          2.894721382054264,
          null,
          3.294498014794469,
          3.9259750129099085,
          null,
          3.294498014794469,
          4.355850036943098,
          null,
          3.6436887540847662,
          3.039787193918189,
          null,
          3.6436887540847662,
          3.9259750129099085,
          null,
          3.6436887540847662,
          3.3202461456044157,
          null,
          3.6436887540847662,
          4.355850036943098,
          null,
          3.6436887540847662,
          4.025810560685627,
          null,
          3.039787193918189,
          1.9729105112290972,
          null,
          3.039787193918189,
          3.3202461456044157,
          null,
          3.039787193918189,
          2.3233829462053195,
          null,
          3.039787193918189,
          4.025810560685627,
          null,
          3.039787193918189,
          2.6667771833484504,
          null,
          3.039787193918189,
          3.9230133455403005,
          null,
          3.532008682278592,
          2.894721382054264,
          null,
          3.532008682278592,
          3.9259750129099085,
          null,
          3.532008682278592,
          2.495647082109043,
          null,
          3.532008682278592,
          3.1339000734028555,
          null,
          2.894721382054264,
          3.9259750129099085,
          null,
          2.894721382054264,
          2.495647082109043,
          null,
          2.894721382054264,
          1.846891323847273,
          null,
          2.894721382054264,
          3.1339000734028555,
          null,
          3.9259750129099085,
          4.355850036943098,
          null,
          -0.7550368140832527,
          -0.39287960040132236,
          null,
          -0.7550368140832527,
          -1.4433284207056132,
          null,
          -0.7550368140832527,
          -1.803460050638212,
          null,
          -0.7550368140832527,
          -1.135923619269714,
          null,
          -0.7550368140832527,
          -1.3228426362671597,
          null,
          -0.39287960040132236,
          -1.4433284207056132,
          null,
          -0.39287960040132236,
          -0.792367372754257,
          null,
          -0.39287960040132236,
          -0.44568621119536117,
          null,
          -0.39287960040132236,
          -0.035867055060358435,
          null,
          -0.39287960040132236,
          -1.3228426362671597,
          null,
          -0.39287960040132236,
          0.3300327703396017,
          null,
          2.495647082109043,
          1.846891323847273,
          null,
          2.495647082109043,
          3.1339000734028555,
          null,
          2.0090282009563265,
          2.3233829462053195,
          null,
          2.0090282009563265,
          2.6667771833484504,
          null,
          -4.373921164553792,
          -3.828241940518957,
          null,
          1.5573311068985731,
          1.9729105112290972,
          null,
          1.5573311068985731,
          0.8949310235667307,
          null,
          1.5573311068985731,
          1.846891323847273,
          null,
          1.5573311068985731,
          1.1935725338241374,
          null,
          1.5573311068985731,
          0.4864511735824019,
          null,
          0.21061921006024556,
          0.8949310235667307,
          null,
          0.21061921006024556,
          0.4864511735824019,
          null,
          1.9729105112290972,
          0.8949310235667307,
          null,
          1.9729105112290972,
          2.3233829462053195,
          null,
          0.8949310235667307,
          1.1935725338241374,
          null,
          0.8949310235667307,
          0.4864511735824019,
          null,
          3.3202461456044157,
          2.3233829462053195,
          null,
          3.3202461456044157,
          4.025810560685627,
          null,
          3.3202461456044157,
          2.6667771833484504,
          null,
          3.3202461456044157,
          3.9230133455403005,
          null,
          1.846891323847273,
          1.1935725338241374,
          null,
          1.1935725338241374,
          0.4864511735824019,
          null,
          -1.4433284207056132,
          -1.803460050638212,
          null,
          -1.4433284207056132,
          -1.135923619269714,
          null,
          -1.4433284207056132,
          -1.3228426362671597,
          null,
          -1.4433284207056132,
          -2.277787165173954,
          null,
          -1.4433284207056132,
          -2.4361516262287433,
          null,
          -1.4433284207056132,
          -2.077242109001079,
          null,
          0.4864511735824019,
          -0.08205277332044454,
          null,
          -1.803460050638212,
          -1.135923619269714,
          null,
          -1.803460050638212,
          -2.277787165173954,
          null,
          -1.803460050638212,
          -2.077242109001079,
          null,
          -1.4616068896688754,
          -1.135923619269714,
          null,
          2.3233829462053195,
          2.6667771833484504,
          null,
          -0.792367372754257,
          -0.44568621119536117,
          null,
          -0.792367372754257,
          -0.035867055060358435,
          null,
          -0.44568621119536117,
          -0.035867055060358435,
          null,
          -1.3228426362671597,
          -2.277787165173954,
          null,
          -1.3228426362671597,
          -2.4361516262287433,
          null,
          6.0254077204182055,
          5.373394270990479,
          null,
          6.0254077204182055,
          6.573486319158222,
          null,
          -2.277787165173954,
          -2.4361516262287433,
          null,
          -2.277787165173954,
          -2.077242109001079,
          null,
          4.025810560685627,
          3.9230133455403005,
          null,
          -0.7343515656972136,
          0.0566084955354028,
          null,
          7.129573507957074,
          6.607548419357273,
          null
         ]
        },
        {
         "hoverinfo": "text",
         "hovertext": [
          "Node ID: 0<br>Pullback set label: 10<br>Partial cluster label: 0<br>Node size: 1089<br>Summary statistic: 6000.0",
          "Node ID: 1<br>Pullback set label: 20<br>Partial cluster label: 0<br>Node size: 1125<br>Summary statistic: 6090.0",
          "Node ID: 2<br>Pullback set label: 33<br>Partial cluster label: 0<br>Node size: 846<br>Summary statistic: 5970.0",
          "Node ID: 3<br>Pullback set label: 34<br>Partial cluster label: 0<br>Node size: 621<br>Summary statistic: 6170.0",
          "Node ID: 4<br>Pullback set label: 43<br>Partial cluster label: 0<br>Node size: 231<br>Summary statistic: 6130.0",
          "Node ID: 5<br>Pullback set label: 44<br>Partial cluster label: 0<br>Node size: 125<br>Summary statistic: 6500.0",
          "Node ID: 6<br>Pullback set label: 6<br>Partial cluster label: 0<br>Node size: 401<br>Summary statistic: 6120.0",
          "Node ID: 7<br>Pullback set label: 5<br>Partial cluster label: 0<br>Node size: 551<br>Summary statistic: 6050.0",
          "Node ID: 8<br>Pullback set label: 22<br>Partial cluster label: 0<br>Node size: 1336<br>Summary statistic: 5990.0",
          "Node ID: 9<br>Pullback set label: 32<br>Partial cluster label: 0<br>Node size: 1109<br>Summary statistic: 6290.0",
          "Node ID: 10<br>Pullback set label: 14<br>Partial cluster label: 0<br>Node size: 830<br>Summary statistic: 6280.0",
          "Node ID: 11<br>Pullback set label: 23<br>Partial cluster label: 0<br>Node size: 1211<br>Summary statistic: 6050.0",
          "Node ID: 12<br>Pullback set label: 24<br>Partial cluster label: 0<br>Node size: 982<br>Summary statistic: 6340.0",
          "Node ID: 13<br>Pullback set label: 19<br>Partial cluster label: 0<br>Node size: 799<br>Summary statistic: 6180.0",
          "Node ID: 14<br>Pullback set label: 29<br>Partial cluster label: 0<br>Node size: 249<br>Summary statistic: 5790.0",
          "Node ID: 15<br>Pullback set label: 30<br>Partial cluster label: 0<br>Node size: 784<br>Summary statistic: 6160.0",
          "Node ID: 16<br>Pullback set label: 8<br>Partial cluster label: 0<br>Node size: 190<br>Summary statistic: 6000.0",
          "Node ID: 17<br>Pullback set label: 9<br>Partial cluster label: 0<br>Node size: 830<br>Summary statistic: 6100.0",
          "Node ID: 18<br>Pullback set label: 18<br>Partial cluster label: 0<br>Node size: 227<br>Summary statistic: 6070.0",
          "Node ID: 19<br>Pullback set label: 25<br>Partial cluster label: 0<br>Node size: 674<br>Summary statistic: 6310.0",
          "Node ID: 20<br>Pullback set label: 35<br>Partial cluster label: 0<br>Node size: 294<br>Summary statistic: 6290.0",
          "Node ID: 21<br>Pullback set label: 1<br>Partial cluster label: 0<br>Node size: 291<br>Summary statistic: 5900.0",
          "Node ID: 22<br>Pullback set label: 42<br>Partial cluster label: 0<br>Node size: 485<br>Summary statistic: 6280.0",
          "Node ID: 23<br>Pullback set label: 27<br>Partial cluster label: 0<br>Node size: 87<br>Summary statistic: 6260.0",
          "Node ID: 24<br>Pullback set label: 37<br>Partial cluster label: 0<br>Node size: 86<br>Summary statistic: 6220.0",
          "Node ID: 25<br>Pullback set label: 11<br>Partial cluster label: 0<br>Node size: 973<br>Summary statistic: 5710.0",
          "Node ID: 26<br>Pullback set label: 13<br>Partial cluster label: 0<br>Node size: 1027<br>Summary statistic: 6250.0",
          "Node ID: 27<br>Pullback set label: 21<br>Partial cluster label: 0<br>Node size: 1265<br>Summary statistic: 6240.0",
          "Node ID: 28<br>Pullback set label: 12<br>Partial cluster label: 0<br>Node size: 1034<br>Summary statistic: 6030.0",
          "Node ID: 29<br>Pullback set label: 40<br>Partial cluster label: 0<br>Node size: 169<br>Summary statistic: 5890.0",
          "Node ID: 30<br>Pullback set label: 28<br>Partial cluster label: 0<br>Node size: 71<br>Summary statistic: 6110.0",
          "Node ID: 31<br>Pullback set label: 2<br>Partial cluster label: 0<br>Node size: 325<br>Summary statistic: 6060.0",
          "Node ID: 32<br>Pullback set label: 3<br>Partial cluster label: 0<br>Node size: 227<br>Summary statistic: 6040.0",
          "Node ID: 33<br>Pullback set label: 26<br>Partial cluster label: 0<br>Node size: 497<br>Summary statistic: 6340.0",
          "Node ID: 34<br>Pullback set label: 4<br>Partial cluster label: 0<br>Node size: 432<br>Summary statistic: 6270.0",
          "Node ID: 35<br>Pullback set label: 16<br>Partial cluster label: 0<br>Node size: 214<br>Summary statistic: 6340.0",
          "Node ID: 36<br>Pullback set label: 7<br>Partial cluster label: 0<br>Node size: 208<br>Summary statistic: 6340.0",
          "Node ID: 37<br>Pullback set label: 15<br>Partial cluster label: 0<br>Node size: 524<br>Summary statistic: 6290.0",
          "Node ID: 38<br>Pullback set label: 31<br>Partial cluster label: 0<br>Node size: 1031<br>Summary statistic: 6510.0",
          "Node ID: 39<br>Pullback set label: 0<br>Partial cluster label: -1<br>Node size: 8<br>Summary statistic: 6170.0",
          "Node ID: 40<br>Pullback set label: 36<br>Partial cluster label: -1<br>Node size: 21<br>Summary statistic: 4850.0",
          "Node ID: 41<br>Pullback set label: 45<br>Partial cluster label: 0<br>Node size: 32<br>Summary statistic: 5940.0",
          "Node ID: 42<br>Pullback set label: 46<br>Partial cluster label: -1<br>Node size: 15<br>Summary statistic: 4950.0",
          "Node ID: 43<br>Pullback set label: 36<br>Partial cluster label: 0<br>Node size: 153<br>Summary statistic: 6160.0",
          "Node ID: 44<br>Pullback set label: 48<br>Partial cluster label: 0<br>Node size: 231<br>Summary statistic: 5910.0",
          "Node ID: 45<br>Pullback set label: 27<br>Partial cluster label: 1<br>Node size: 184<br>Summary statistic: 6250.0",
          "Node ID: 46<br>Pullback set label: 37<br>Partial cluster label: 1<br>Node size: 73<br>Summary statistic: 6210.0",
          "Node ID: 47<br>Pullback set label: 39<br>Partial cluster label: -1<br>Node size: 13<br>Summary statistic: 5300.0",
          "Node ID: 48<br>Pullback set label: 41<br>Partial cluster label: 0<br>Node size: 252<br>Summary statistic: 6380.0",
          "Node ID: 49<br>Pullback set label: 18<br>Partial cluster label: -1<br>Node size: 16<br>Summary statistic: 5650.0",
          "Node ID: 50<br>Pullback set label: 17<br>Partial cluster label: 0<br>Node size: 75<br>Summary statistic: 6350.0",
          "Node ID: 51<br>Pullback set label: 28<br>Partial cluster label: 1<br>Node size: 39<br>Summary statistic: 6740.0",
          "Node ID: 52<br>Pullback set label: 29<br>Partial cluster label: 1<br>Node size: 32<br>Summary statistic: 6640.0",
          "Node ID: 53<br>Pullback set label: 38<br>Partial cluster label: 0<br>Node size: 27<br>Summary statistic: 6270.0",
          "Node ID: 54<br>Pullback set label: 47<br>Partial cluster label: -1<br>Node size: 5<br>Summary statistic: 5170.0",
          "Node ID: 55<br>Pullback set label: 28<br>Partial cluster label: -1<br>Node size: 18<br>Summary statistic: 6800.0",
          "Node ID: 56<br>Pullback set label: 29<br>Partial cluster label: -1<br>Node size: 3<br>Summary statistic: 5910.0",
          "Node ID: 57<br>Pullback set label: 49<br>Partial cluster label: -1<br>Node size: 2<br>Summary statistic: 3320.0",
          "Node ID: 58<br>Pullback set label: 3<br>Partial cluster label: -1<br>Node size: 4<br>Summary statistic: 6520.0",
          "Node ID: 59<br>Pullback set label: 45<br>Partial cluster label: -1<br>Node size: 1<br>Summary statistic: 3960.0"
         ],
         "marker": {
          "color": [
           6001.847566574839,
           6085.776888888889,
           5966.502364066194,
           6169.610305958132,
           6126.38961038961,
           6498.016,
           6119.311720698254,
           6051.337568058077,
           5985.70508982036,
           6293.87466185753,
           6277.350602409639,
           6048.04789430223,
           6338.475560081466,
           6182.936170212766,
           5790.658634538153,
           6155.918367346939,
           6004.4,
           6096.063855421687,
           6072.753303964758,
           6314.69881305638,
           6285.156462585034,
           5901.223367697595,
           6277.686597938145,
           6257.0344827586205,
           6216.953488372093,
           5713.015416238438,
           6245.367088607595,
           6236.392885375494,
           6025.031914893617,
           5890.455621301775,
           6110.408450704225,
           6062.673846153846,
           6041.770925110132,
           6340.17907444668,
           6272.6087962962965,
           6342.130841121495,
           6336.754807692308,
           6288.135496183206,
           6510.356935014549,
           6167.125,
           4853.714285714285,
           5941.03125,
           4951.866666666667,
           6157.6274509803925,
           5913.917748917749,
           6248.554347826087,
           6209.013698630137,
           5299.153846153846,
           6384.892857142857,
           5652.875,
           6347.933333333333,
           6739.410256410257,
           6637,
           6265.592592592592,
           5172.2,
           6803.333333333333,
           5907.666666666667,
           3324.5,
           6515.25,
           3961
          ],
          "colorbar": {
           "thickness": 15,
           "title": {
            "side": "right",
            "text": ""
           },
           "xanchor": "left"
          },
          "colorscale": [
           [
            0,
            "#440154"
           ],
           [
            0.1111111111111111,
            "#482878"
           ],
           [
            0.2222222222222222,
            "#3e4989"
           ],
           [
            0.3333333333333333,
            "#31688e"
           ],
           [
            0.4444444444444444,
            "#26828e"
           ],
           [
            0.5555555555555556,
            "#1f9e89"
           ],
           [
            0.6666666666666666,
            "#35b779"
           ],
           [
            0.7777777777777778,
            "#6ece58"
           ],
           [
            0.8888888888888888,
            "#b5de2b"
           ],
           [
            1,
            "#fde725"
           ]
          ],
          "line": {
           "color": "#888",
           "width": 1
          },
          "opacity": 1,
          "reversescale": false,
          "showscale": true,
          "size": [
           1089,
           1125,
           846,
           621,
           231,
           125,
           401,
           551,
           1336,
           1109,
           830,
           1211,
           982,
           799,
           249,
           784,
           190,
           830,
           227,
           674,
           294,
           291,
           485,
           87,
           86,
           973,
           1027,
           1265,
           1034,
           169,
           71,
           325,
           227,
           497,
           432,
           214,
           208,
           524,
           1031,
           8,
           21,
           32,
           15,
           153,
           231,
           184,
           73,
           13,
           252,
           16,
           75,
           39,
           32,
           27,
           5,
           18,
           3,
           2,
           4,
           1
          ],
          "sizemin": 4,
          "sizemode": "area",
          "sizeref": 18.555555555555557
         },
         "mode": "markers",
         "name": "node_trace",
         "type": "scatter",
         "uid": "22ffccec-ae8f-4b3c-8155-c4b7aa96d7b4",
         "x": [
          -2.1138878265445826,
          -1.5385450084797307,
          0.3589199330404751,
          0.8156347015121105,
          0.9129159734322765,
          1.3083604750352105,
          -0.9067193233951932,
          -1.3087139037610764,
          -0.658597009199983,
          -0.08654127263664628,
          -0.3291041118505061,
          -0.1936877968301489,
          0.29231906507648314,
          -1.948072739644338,
          -1.3912471778252713,
          -0.9070116846687002,
          -2.9563626599535464,
          -2.5532741066630864,
          -2.3682141369238754,
          0.6822478029760655,
          1.3699007238719956,
          -3.1212886256459065,
          0.48547180040078736,
          -4.886063877095729,
          -5.493005692100232,
          -1.6741575159227857,
          -0.7455500665116445,
          -1.094940195653709,
          -1.2126819805881814,
          -0.3685006257751071,
          -1.8695657413458822,
          -2.6701693038977217,
          -2.213041126796609,
          1.0346146231281743,
          -1.7874413944676502,
          0.6159710512719657,
          -0.7025989549458321,
          0.06647532499090546,
          -0.5291934933194179,
          -3.5618512640050977,
          2.2143756576055207,
          2.4460117965110397,
          2.371794575497215,
          1.4667155217486727,
          4.317847225734699,
          1.3899672666886507,
          0.9526581014463901,
          -0.7360549193155423,
          0.06846585436187738,
          -0.5234157341678982,
          1.8121237796209269,
          -7.3856192982978985,
          -4.741879722384131,
          -7.582466222614883,
          4.870551271821686,
          -5.408940830158502,
          -0.16242504822666173,
          3.6817716466848003,
          -2.6369469578045637,
          1.7729478672633001
         ],
         "y": [
          2.244626801469249,
          2.618732580460368,
          0.9648728135059572,
          0.275346343095292,
          1.345885319013047,
          0.6767660133827605,
          -0.8178389426077152,
          -0.14094024502921518,
          1.2777854968196078,
          1.6435892932729017,
          -0.47142242113595406,
          0.5757228652089992,
          -0.09382060796478636,
          3.294498014794469,
          3.6436887540847662,
          3.039787193918189,
          3.532008682278592,
          2.894721382054264,
          3.9259750129099085,
          -0.7550368140832527,
          -0.39287960040132236,
          2.495647082109043,
          2.0090282009563265,
          -4.373921164553792,
          -3.828241940518957,
          1.5573311068985731,
          0.21061921006024556,
          1.9729105112290972,
          0.8949310235667307,
          3.3202461456044157,
          4.355850036943098,
          1.846891323847273,
          1.1935725338241374,
          -1.4433284207056132,
          0.4864511735824019,
          -1.803460050638212,
          -1.4616068896688754,
          -1.135923619269714,
          2.3233829462053195,
          3.1339000734028555,
          -0.792367372754257,
          -0.44568621119536117,
          -0.035867055060358435,
          -1.3228426362671597,
          6.0254077204182055,
          -2.277787165173954,
          -2.4361516262287433,
          4.025810560685627,
          2.6667771833484504,
          1.1305385435523074,
          -2.077242109001079,
          -0.7343515656972136,
          7.129573507957074,
          0.0566084955354028,
          5.373394270990479,
          6.607548419357273,
          3.9230133455403005,
          6.573486319158222,
          -0.08205277332044454,
          0.3300327703396017
         ]
        }
       ],
       "layout": {
        "autosize": false,
        "hovermode": "closest",
        "margin": {
         "b": 20,
         "l": 5,
         "r": 5,
         "t": 40
        },
        "showlegend": false,
        "template": {
         "data": {
          "bar": [
           {
            "error_x": {
             "color": "rgb(36,36,36)"
            },
            "error_y": {
             "color": "rgb(36,36,36)"
            },
            "marker": {
             "line": {
              "color": "white",
              "width": 0.5
             },
             "pattern": {
              "fillmode": "overlay",
              "size": 10,
              "solidity": 0.2
             }
            },
            "type": "bar"
           }
          ],
          "barpolar": [
           {
            "marker": {
             "line": {
              "color": "white",
              "width": 0.5
             },
             "pattern": {
              "fillmode": "overlay",
              "size": 10,
              "solidity": 0.2
             }
            },
            "type": "barpolar"
           }
          ],
          "carpet": [
           {
            "aaxis": {
             "endlinecolor": "rgb(36,36,36)",
             "gridcolor": "white",
             "linecolor": "white",
             "minorgridcolor": "white",
             "startlinecolor": "rgb(36,36,36)"
            },
            "baxis": {
             "endlinecolor": "rgb(36,36,36)",
             "gridcolor": "white",
             "linecolor": "white",
             "minorgridcolor": "white",
             "startlinecolor": "rgb(36,36,36)"
            },
            "type": "carpet"
           }
          ],
          "choropleth": [
           {
            "colorbar": {
             "outlinewidth": 1,
             "tickcolor": "rgb(36,36,36)",
             "ticks": "outside"
            },
            "type": "choropleth"
           }
          ],
          "contour": [
           {
            "colorbar": {
             "outlinewidth": 1,
             "tickcolor": "rgb(36,36,36)",
             "ticks": "outside"
            },
            "colorscale": [
             [
              0,
              "#440154"
             ],
             [
              0.1111111111111111,
              "#482878"
             ],
             [
              0.2222222222222222,
              "#3e4989"
             ],
             [
              0.3333333333333333,
              "#31688e"
             ],
             [
              0.4444444444444444,
              "#26828e"
             ],
             [
              0.5555555555555556,
              "#1f9e89"
             ],
             [
              0.6666666666666666,
              "#35b779"
             ],
             [
              0.7777777777777778,
              "#6ece58"
             ],
             [
              0.8888888888888888,
              "#b5de2b"
             ],
             [
              1,
              "#fde725"
             ]
            ],
            "type": "contour"
           }
          ],
          "contourcarpet": [
           {
            "colorbar": {
             "outlinewidth": 1,
             "tickcolor": "rgb(36,36,36)",
             "ticks": "outside"
            },
            "type": "contourcarpet"
           }
          ],
          "heatmap": [
           {
            "colorbar": {
             "outlinewidth": 1,
             "tickcolor": "rgb(36,36,36)",
             "ticks": "outside"
            },
            "colorscale": [
             [
              0,
              "#440154"
             ],
             [
              0.1111111111111111,
              "#482878"
             ],
             [
              0.2222222222222222,
              "#3e4989"
             ],
             [
              0.3333333333333333,
              "#31688e"
             ],
             [
              0.4444444444444444,
              "#26828e"
             ],
             [
              0.5555555555555556,
              "#1f9e89"
             ],
             [
              0.6666666666666666,
              "#35b779"
             ],
             [
              0.7777777777777778,
              "#6ece58"
             ],
             [
              0.8888888888888888,
              "#b5de2b"
             ],
             [
              1,
              "#fde725"
             ]
            ],
            "type": "heatmap"
           }
          ],
          "heatmapgl": [
           {
            "colorbar": {
             "outlinewidth": 1,
             "tickcolor": "rgb(36,36,36)",
             "ticks": "outside"
            },
            "colorscale": [
             [
              0,
              "#440154"
             ],
             [
              0.1111111111111111,
              "#482878"
             ],
             [
              0.2222222222222222,
              "#3e4989"
             ],
             [
              0.3333333333333333,
              "#31688e"
             ],
             [
              0.4444444444444444,
              "#26828e"
             ],
             [
              0.5555555555555556,
              "#1f9e89"
             ],
             [
              0.6666666666666666,
              "#35b779"
             ],
             [
              0.7777777777777778,
              "#6ece58"
             ],
             [
              0.8888888888888888,
              "#b5de2b"
             ],
             [
              1,
              "#fde725"
             ]
            ],
            "type": "heatmapgl"
           }
          ],
          "histogram": [
           {
            "marker": {
             "line": {
              "color": "white",
              "width": 0.6
             }
            },
            "type": "histogram"
           }
          ],
          "histogram2d": [
           {
            "colorbar": {
             "outlinewidth": 1,
             "tickcolor": "rgb(36,36,36)",
             "ticks": "outside"
            },
            "colorscale": [
             [
              0,
              "#440154"
             ],
             [
              0.1111111111111111,
              "#482878"
             ],
             [
              0.2222222222222222,
              "#3e4989"
             ],
             [
              0.3333333333333333,
              "#31688e"
             ],
             [
              0.4444444444444444,
              "#26828e"
             ],
             [
              0.5555555555555556,
              "#1f9e89"
             ],
             [
              0.6666666666666666,
              "#35b779"
             ],
             [
              0.7777777777777778,
              "#6ece58"
             ],
             [
              0.8888888888888888,
              "#b5de2b"
             ],
             [
              1,
              "#fde725"
             ]
            ],
            "type": "histogram2d"
           }
          ],
          "histogram2dcontour": [
           {
            "colorbar": {
             "outlinewidth": 1,
             "tickcolor": "rgb(36,36,36)",
             "ticks": "outside"
            },
            "colorscale": [
             [
              0,
              "#440154"
             ],
             [
              0.1111111111111111,
              "#482878"
             ],
             [
              0.2222222222222222,
              "#3e4989"
             ],
             [
              0.3333333333333333,
              "#31688e"
             ],
             [
              0.4444444444444444,
              "#26828e"
             ],
             [
              0.5555555555555556,
              "#1f9e89"
             ],
             [
              0.6666666666666666,
              "#35b779"
             ],
             [
              0.7777777777777778,
              "#6ece58"
             ],
             [
              0.8888888888888888,
              "#b5de2b"
             ],
             [
              1,
              "#fde725"
             ]
            ],
            "type": "histogram2dcontour"
           }
          ],
          "mesh3d": [
           {
            "colorbar": {
             "outlinewidth": 1,
             "tickcolor": "rgb(36,36,36)",
             "ticks": "outside"
            },
            "type": "mesh3d"
           }
          ],
          "parcoords": [
           {
            "line": {
             "colorbar": {
              "outlinewidth": 1,
              "tickcolor": "rgb(36,36,36)",
              "ticks": "outside"
             }
            },
            "type": "parcoords"
           }
          ],
          "pie": [
           {
            "automargin": true,
            "type": "pie"
           }
          ],
          "scatter": [
           {
            "marker": {
             "colorbar": {
              "outlinewidth": 1,
              "tickcolor": "rgb(36,36,36)",
              "ticks": "outside"
             }
            },
            "type": "scatter"
           }
          ],
          "scatter3d": [
           {
            "line": {
             "colorbar": {
              "outlinewidth": 1,
              "tickcolor": "rgb(36,36,36)",
              "ticks": "outside"
             }
            },
            "marker": {
             "colorbar": {
              "outlinewidth": 1,
              "tickcolor": "rgb(36,36,36)",
              "ticks": "outside"
             }
            },
            "type": "scatter3d"
           }
          ],
          "scattercarpet": [
           {
            "marker": {
             "colorbar": {
              "outlinewidth": 1,
              "tickcolor": "rgb(36,36,36)",
              "ticks": "outside"
             }
            },
            "type": "scattercarpet"
           }
          ],
          "scattergeo": [
           {
            "marker": {
             "colorbar": {
              "outlinewidth": 1,
              "tickcolor": "rgb(36,36,36)",
              "ticks": "outside"
             }
            },
            "type": "scattergeo"
           }
          ],
          "scattergl": [
           {
            "marker": {
             "colorbar": {
              "outlinewidth": 1,
              "tickcolor": "rgb(36,36,36)",
              "ticks": "outside"
             }
            },
            "type": "scattergl"
           }
          ],
          "scattermapbox": [
           {
            "marker": {
             "colorbar": {
              "outlinewidth": 1,
              "tickcolor": "rgb(36,36,36)",
              "ticks": "outside"
             }
            },
            "type": "scattermapbox"
           }
          ],
          "scatterpolar": [
           {
            "marker": {
             "colorbar": {
              "outlinewidth": 1,
              "tickcolor": "rgb(36,36,36)",
              "ticks": "outside"
             }
            },
            "type": "scatterpolar"
           }
          ],
          "scatterpolargl": [
           {
            "marker": {
             "colorbar": {
              "outlinewidth": 1,
              "tickcolor": "rgb(36,36,36)",
              "ticks": "outside"
             }
            },
            "type": "scatterpolargl"
           }
          ],
          "scatterternary": [
           {
            "marker": {
             "colorbar": {
              "outlinewidth": 1,
              "tickcolor": "rgb(36,36,36)",
              "ticks": "outside"
             }
            },
            "type": "scatterternary"
           }
          ],
          "surface": [
           {
            "colorbar": {
             "outlinewidth": 1,
             "tickcolor": "rgb(36,36,36)",
             "ticks": "outside"
            },
            "colorscale": [
             [
              0,
              "#440154"
             ],
             [
              0.1111111111111111,
              "#482878"
             ],
             [
              0.2222222222222222,
              "#3e4989"
             ],
             [
              0.3333333333333333,
              "#31688e"
             ],
             [
              0.4444444444444444,
              "#26828e"
             ],
             [
              0.5555555555555556,
              "#1f9e89"
             ],
             [
              0.6666666666666666,
              "#35b779"
             ],
             [
              0.7777777777777778,
              "#6ece58"
             ],
             [
              0.8888888888888888,
              "#b5de2b"
             ],
             [
              1,
              "#fde725"
             ]
            ],
            "type": "surface"
           }
          ],
          "table": [
           {
            "cells": {
             "fill": {
              "color": "rgb(237,237,237)"
             },
             "line": {
              "color": "white"
             }
            },
            "header": {
             "fill": {
              "color": "rgb(217,217,217)"
             },
             "line": {
              "color": "white"
             }
            },
            "type": "table"
           }
          ]
         },
         "layout": {
          "annotationdefaults": {
           "arrowhead": 0,
           "arrowwidth": 1
          },
          "autotypenumbers": "strict",
          "coloraxis": {
           "colorbar": {
            "outlinewidth": 1,
            "tickcolor": "rgb(36,36,36)",
            "ticks": "outside"
           }
          },
          "colorscale": {
           "diverging": [
            [
             0,
             "rgb(103,0,31)"
            ],
            [
             0.1,
             "rgb(178,24,43)"
            ],
            [
             0.2,
             "rgb(214,96,77)"
            ],
            [
             0.3,
             "rgb(244,165,130)"
            ],
            [
             0.4,
             "rgb(253,219,199)"
            ],
            [
             0.5,
             "rgb(247,247,247)"
            ],
            [
             0.6,
             "rgb(209,229,240)"
            ],
            [
             0.7,
             "rgb(146,197,222)"
            ],
            [
             0.8,
             "rgb(67,147,195)"
            ],
            [
             0.9,
             "rgb(33,102,172)"
            ],
            [
             1,
             "rgb(5,48,97)"
            ]
           ],
           "sequential": [
            [
             0,
             "#440154"
            ],
            [
             0.1111111111111111,
             "#482878"
            ],
            [
             0.2222222222222222,
             "#3e4989"
            ],
            [
             0.3333333333333333,
             "#31688e"
            ],
            [
             0.4444444444444444,
             "#26828e"
            ],
            [
             0.5555555555555556,
             "#1f9e89"
            ],
            [
             0.6666666666666666,
             "#35b779"
            ],
            [
             0.7777777777777778,
             "#6ece58"
            ],
            [
             0.8888888888888888,
             "#b5de2b"
            ],
            [
             1,
             "#fde725"
            ]
           ],
           "sequentialminus": [
            [
             0,
             "#440154"
            ],
            [
             0.1111111111111111,
             "#482878"
            ],
            [
             0.2222222222222222,
             "#3e4989"
            ],
            [
             0.3333333333333333,
             "#31688e"
            ],
            [
             0.4444444444444444,
             "#26828e"
            ],
            [
             0.5555555555555556,
             "#1f9e89"
            ],
            [
             0.6666666666666666,
             "#35b779"
            ],
            [
             0.7777777777777778,
             "#6ece58"
            ],
            [
             0.8888888888888888,
             "#b5de2b"
            ],
            [
             1,
             "#fde725"
            ]
           ]
          },
          "colorway": [
           "#1F77B4",
           "#FF7F0E",
           "#2CA02C",
           "#D62728",
           "#9467BD",
           "#8C564B",
           "#E377C2",
           "#7F7F7F",
           "#BCBD22",
           "#17BECF"
          ],
          "font": {
           "color": "rgb(36,36,36)"
          },
          "geo": {
           "bgcolor": "white",
           "lakecolor": "white",
           "landcolor": "white",
           "showlakes": true,
           "showland": true,
           "subunitcolor": "white"
          },
          "hoverlabel": {
           "align": "left"
          },
          "hovermode": "closest",
          "mapbox": {
           "style": "light"
          },
          "paper_bgcolor": "white",
          "plot_bgcolor": "white",
          "polar": {
           "angularaxis": {
            "gridcolor": "rgb(232,232,232)",
            "linecolor": "rgb(36,36,36)",
            "showgrid": false,
            "showline": true,
            "ticks": "outside"
           },
           "bgcolor": "white",
           "radialaxis": {
            "gridcolor": "rgb(232,232,232)",
            "linecolor": "rgb(36,36,36)",
            "showgrid": false,
            "showline": true,
            "ticks": "outside"
           }
          },
          "scene": {
           "xaxis": {
            "backgroundcolor": "white",
            "gridcolor": "rgb(232,232,232)",
            "gridwidth": 2,
            "linecolor": "rgb(36,36,36)",
            "showbackground": true,
            "showgrid": false,
            "showline": true,
            "ticks": "outside",
            "zeroline": false,
            "zerolinecolor": "rgb(36,36,36)"
           },
           "yaxis": {
            "backgroundcolor": "white",
            "gridcolor": "rgb(232,232,232)",
            "gridwidth": 2,
            "linecolor": "rgb(36,36,36)",
            "showbackground": true,
            "showgrid": false,
            "showline": true,
            "ticks": "outside",
            "zeroline": false,
            "zerolinecolor": "rgb(36,36,36)"
           },
           "zaxis": {
            "backgroundcolor": "white",
            "gridcolor": "rgb(232,232,232)",
            "gridwidth": 2,
            "linecolor": "rgb(36,36,36)",
            "showbackground": true,
            "showgrid": false,
            "showline": true,
            "ticks": "outside",
            "zeroline": false,
            "zerolinecolor": "rgb(36,36,36)"
           }
          },
          "shapedefaults": {
           "fillcolor": "black",
           "line": {
            "width": 0
           },
           "opacity": 0.3
          },
          "ternary": {
           "aaxis": {
            "gridcolor": "rgb(232,232,232)",
            "linecolor": "rgb(36,36,36)",
            "showgrid": false,
            "showline": true,
            "ticks": "outside"
           },
           "baxis": {
            "gridcolor": "rgb(232,232,232)",
            "linecolor": "rgb(36,36,36)",
            "showgrid": false,
            "showline": true,
            "ticks": "outside"
           },
           "bgcolor": "white",
           "caxis": {
            "gridcolor": "rgb(232,232,232)",
            "linecolor": "rgb(36,36,36)",
            "showgrid": false,
            "showline": true,
            "ticks": "outside"
           }
          },
          "title": {
           "x": 0.05
          },
          "xaxis": {
           "automargin": true,
           "gridcolor": "rgb(232,232,232)",
           "linecolor": "rgb(36,36,36)",
           "showgrid": false,
           "showline": true,
           "ticks": "outside",
           "title": {
            "standoff": 15
           },
           "zeroline": false,
           "zerolinecolor": "rgb(36,36,36)"
          },
          "yaxis": {
           "automargin": true,
           "gridcolor": "rgb(232,232,232)",
           "linecolor": "rgb(36,36,36)",
           "showgrid": false,
           "showline": true,
           "ticks": "outside",
           "title": {
            "standoff": 15
           },
           "zeroline": false,
           "zerolinecolor": "rgb(36,36,36)"
          }
         }
        },
        "title": {
         "text": ""
        },
        "xaxis": {
         "showgrid": false,
         "showline": false,
         "showticklabels": false,
         "ticks": "",
         "title": {
          "text": ""
         },
         "zeroline": false
        },
        "yaxis": {
         "showgrid": false,
         "showline": false,
         "showticklabels": false,
         "ticks": "",
         "title": {
          "text": ""
         },
         "zeroline": false
        }
       }
      },
      "text/html": [
       "<div>                            <div id=\"6df53a73-a473-40ed-b22e-e2af8fc94755\" class=\"plotly-graph-div\" style=\"height:525px; width:100%;\"></div>            <script type=\"text/javascript\">                require([\"plotly\"], function(Plotly) {                    window.PLOTLYENV=window.PLOTLYENV || {};                                    if (document.getElementById(\"6df53a73-a473-40ed-b22e-e2af8fc94755\")) {                    Plotly.newPlot(                        \"6df53a73-a473-40ed-b22e-e2af8fc94755\",                        [{\"hoverinfo\":\"none\",\"line\":{\"color\":\"#888\",\"width\":1},\"mode\":\"lines\",\"name\":\"edge_trace\",\"x\":[-2.1138878265445826,-1.5385450084797307,null,-2.1138878265445826,-1.948072739644338,null,-2.1138878265445826,-2.5532741066630864,null,-2.1138878265445826,-3.1212886256459065,null,-2.1138878265445826,-1.6741575159227857,null,-2.1138878265445826,-1.094940195653709,null,-2.1138878265445826,-2.6701693038977217,null,-2.1138878265445826,-2.213041126796609,null,-1.5385450084797307,-1.948072739644338,null,-1.5385450084797307,-1.3912471778252713,null,-1.5385450084797307,-0.9070116846687002,null,-1.5385450084797307,-2.5532741066630864,null,-1.5385450084797307,-1.6741575159227857,null,-1.5385450084797307,-1.094940195653709,null,-1.5385450084797307,-0.5291934933194179,null,0.3589199330404751,0.8156347015121105,null,0.3589199330404751,0.9129159734322765,null,0.3589199330404751,1.3083604750352105,null,0.3589199330404751,-0.658597009199983,null,0.3589199330404751,-0.08654127263664628,null,0.3589199330404751,-0.1936877968301489,null,0.3589199330404751,0.29231906507648314,null,0.3589199330404751,0.48547180040078736,null,0.8156347015121105,0.9129159734322765,null,0.8156347015121105,1.3083604750352105,null,0.8156347015121105,-0.1936877968301489,null,0.8156347015121105,0.29231906507648314,null,0.8156347015121105,0.6822478029760655,null,0.8156347015121105,1.3699007238719956,null,0.8156347015121105,1.7729478672633001,null,0.9129159734322765,1.3083604750352105,null,0.9129159734322765,-0.08654127263664628,null,0.9129159734322765,0.48547180040078736,null,1.3083604750352105,1.3699007238719956,null,1.3083604750352105,1.7729478672633001,null,-0.9067193233951932,-1.3087139037610764,null,-0.9067193233951932,-0.3291041118505061,null,-0.9067193233951932,-0.7455500665116445,null,-0.9067193233951932,-0.7025989549458321,null,-0.9067193233951932,0.06647532499090546,null,-1.3087139037610764,-0.3291041118505061,null,-1.3087139037610764,-0.7455500665116445,null,-1.3087139037610764,-1.2126819805881814,null,-1.3087139037610764,-1.7874413944676502,null,-0.658597009199983,-0.08654127263664628,null,-0.658597009199983,-0.1936877968301489,null,-0.658597009199983,-1.6741575159227857,null,-0.658597009199983,-0.7455500665116445,null,-0.658597009199983,-1.094940195653709,null,-0.658597009199983,-1.2126819805881814,null,-0.658597009199983,-0.5291934933194179,null,-0.08654127263664628,-0.1936877968301489,null,-0.08654127263664628,0.48547180040078736,null,-0.08654127263664628,-1.094940195653709,null,-0.08654127263664628,-0.5291934933194179,null,-0.08654127263664628,0.06846585436187738,null,-0.3291041118505061,-0.1936877968301489,null,-0.3291041118505061,0.29231906507648314,null,-0.3291041118505061,0.6822478029760655,null,-0.3291041118505061,-0.7455500665116445,null,-0.3291041118505061,-0.7025989549458321,null,-0.3291041118505061,0.06647532499090546,null,-0.1936877968301489,0.29231906507648314,null,-0.1936877968301489,-0.7455500665116445,null,-0.1936877968301489,-1.2126819805881814,null,0.29231906507648314,0.6822478029760655,null,0.29231906507648314,1.3699007238719956,null,0.29231906507648314,-0.7455500665116445,null,0.29231906507648314,0.06647532499090546,null,-1.948072739644338,-1.3912471778252713,null,-1.948072739644338,-0.9070116846687002,null,-1.948072739644338,-2.9563626599535464,null,-1.948072739644338,-2.5532741066630864,null,-1.948072739644338,-2.3682141369238754,null,-1.948072739644338,-1.8695657413458822,null,-1.3912471778252713,-0.9070116846687002,null,-1.3912471778252713,-2.3682141369238754,null,-1.3912471778252713,-0.3685006257751071,null,-1.3912471778252713,-1.8695657413458822,null,-1.3912471778252713,-0.7360549193155423,null,-0.9070116846687002,-1.094940195653709,null,-0.9070116846687002,-0.3685006257751071,null,-0.9070116846687002,-0.5291934933194179,null,-0.9070116846687002,-0.7360549193155423,null,-0.9070116846687002,0.06846585436187738,null,-0.9070116846687002,-0.16242504822666173,null,-2.9563626599535464,-2.5532741066630864,null,-2.9563626599535464,-2.3682141369238754,null,-2.9563626599535464,-3.1212886256459065,null,-2.9563626599535464,-3.5618512640050977,null,-2.5532741066630864,-2.3682141369238754,null,-2.5532741066630864,-3.1212886256459065,null,-2.5532741066630864,-2.6701693038977217,null,-2.5532741066630864,-3.5618512640050977,null,-2.3682141369238754,-1.8695657413458822,null,0.6822478029760655,1.3699007238719956,null,0.6822478029760655,1.0346146231281743,null,0.6822478029760655,0.6159710512719657,null,0.6822478029760655,0.06647532499090546,null,0.6822478029760655,1.4667155217486727,null,1.3699007238719956,1.0346146231281743,null,1.3699007238719956,2.2143756576055207,null,1.3699007238719956,2.4460117965110397,null,1.3699007238719956,2.371794575497215,null,1.3699007238719956,1.4667155217486727,null,1.3699007238719956,1.7729478672633001,null,-3.1212886256459065,-2.6701693038977217,null,-3.1212886256459065,-3.5618512640050977,null,0.48547180040078736,-0.5291934933194179,null,0.48547180040078736,0.06846585436187738,null,-4.886063877095729,-5.493005692100232,null,-1.6741575159227857,-1.094940195653709,null,-1.6741575159227857,-1.2126819805881814,null,-1.6741575159227857,-2.6701693038977217,null,-1.6741575159227857,-2.213041126796609,null,-1.6741575159227857,-1.7874413944676502,null,-0.7455500665116445,-1.2126819805881814,null,-0.7455500665116445,-1.7874413944676502,null,-1.094940195653709,-1.2126819805881814,null,-1.094940195653709,-0.5291934933194179,null,-1.2126819805881814,-2.213041126796609,null,-1.2126819805881814,-1.7874413944676502,null,-0.3685006257751071,-0.5291934933194179,null,-0.3685006257751071,-0.7360549193155423,null,-0.3685006257751071,0.06846585436187738,null,-0.3685006257751071,-0.16242504822666173,null,-2.6701693038977217,-2.213041126796609,null,-2.213041126796609,-1.7874413944676502,null,1.0346146231281743,0.6159710512719657,null,1.0346146231281743,0.06647532499090546,null,1.0346146231281743,1.4667155217486727,null,1.0346146231281743,1.3899672666886507,null,1.0346146231281743,0.9526581014463901,null,1.0346146231281743,1.8121237796209269,null,-1.7874413944676502,-2.6369469578045637,null,0.6159710512719657,0.06647532499090546,null,0.6159710512719657,1.3899672666886507,null,0.6159710512719657,1.8121237796209269,null,-0.7025989549458321,0.06647532499090546,null,-0.5291934933194179,0.06846585436187738,null,2.2143756576055207,2.4460117965110397,null,2.2143756576055207,2.371794575497215,null,2.4460117965110397,2.371794575497215,null,1.4667155217486727,1.3899672666886507,null,1.4667155217486727,0.9526581014463901,null,4.317847225734699,4.870551271821686,null,4.317847225734699,3.6817716466848003,null,1.3899672666886507,0.9526581014463901,null,1.3899672666886507,1.8121237796209269,null,-0.7360549193155423,-0.16242504822666173,null,-7.3856192982978985,-7.582466222614883,null,-4.741879722384131,-5.408940830158502,null],\"y\":[2.244626801469249,2.618732580460368,null,2.244626801469249,3.294498014794469,null,2.244626801469249,2.894721382054264,null,2.244626801469249,2.495647082109043,null,2.244626801469249,1.5573311068985731,null,2.244626801469249,1.9729105112290972,null,2.244626801469249,1.846891323847273,null,2.244626801469249,1.1935725338241374,null,2.618732580460368,3.294498014794469,null,2.618732580460368,3.6436887540847662,null,2.618732580460368,3.039787193918189,null,2.618732580460368,2.894721382054264,null,2.618732580460368,1.5573311068985731,null,2.618732580460368,1.9729105112290972,null,2.618732580460368,2.3233829462053195,null,0.9648728135059572,0.275346343095292,null,0.9648728135059572,1.345885319013047,null,0.9648728135059572,0.6767660133827605,null,0.9648728135059572,1.2777854968196078,null,0.9648728135059572,1.6435892932729017,null,0.9648728135059572,0.5757228652089992,null,0.9648728135059572,-0.09382060796478636,null,0.9648728135059572,2.0090282009563265,null,0.275346343095292,1.345885319013047,null,0.275346343095292,0.6767660133827605,null,0.275346343095292,0.5757228652089992,null,0.275346343095292,-0.09382060796478636,null,0.275346343095292,-0.7550368140832527,null,0.275346343095292,-0.39287960040132236,null,0.275346343095292,0.3300327703396017,null,1.345885319013047,0.6767660133827605,null,1.345885319013047,1.6435892932729017,null,1.345885319013047,2.0090282009563265,null,0.6767660133827605,-0.39287960040132236,null,0.6767660133827605,0.3300327703396017,null,-0.8178389426077152,-0.14094024502921518,null,-0.8178389426077152,-0.47142242113595406,null,-0.8178389426077152,0.21061921006024556,null,-0.8178389426077152,-1.4616068896688754,null,-0.8178389426077152,-1.135923619269714,null,-0.14094024502921518,-0.47142242113595406,null,-0.14094024502921518,0.21061921006024556,null,-0.14094024502921518,0.8949310235667307,null,-0.14094024502921518,0.4864511735824019,null,1.2777854968196078,1.6435892932729017,null,1.2777854968196078,0.5757228652089992,null,1.2777854968196078,1.5573311068985731,null,1.2777854968196078,0.21061921006024556,null,1.2777854968196078,1.9729105112290972,null,1.2777854968196078,0.8949310235667307,null,1.2777854968196078,2.3233829462053195,null,1.6435892932729017,0.5757228652089992,null,1.6435892932729017,2.0090282009563265,null,1.6435892932729017,1.9729105112290972,null,1.6435892932729017,2.3233829462053195,null,1.6435892932729017,2.6667771833484504,null,-0.47142242113595406,0.5757228652089992,null,-0.47142242113595406,-0.09382060796478636,null,-0.47142242113595406,-0.7550368140832527,null,-0.47142242113595406,0.21061921006024556,null,-0.47142242113595406,-1.4616068896688754,null,-0.47142242113595406,-1.135923619269714,null,0.5757228652089992,-0.09382060796478636,null,0.5757228652089992,0.21061921006024556,null,0.5757228652089992,0.8949310235667307,null,-0.09382060796478636,-0.7550368140832527,null,-0.09382060796478636,-0.39287960040132236,null,-0.09382060796478636,0.21061921006024556,null,-0.09382060796478636,-1.135923619269714,null,3.294498014794469,3.6436887540847662,null,3.294498014794469,3.039787193918189,null,3.294498014794469,3.532008682278592,null,3.294498014794469,2.894721382054264,null,3.294498014794469,3.9259750129099085,null,3.294498014794469,4.355850036943098,null,3.6436887540847662,3.039787193918189,null,3.6436887540847662,3.9259750129099085,null,3.6436887540847662,3.3202461456044157,null,3.6436887540847662,4.355850036943098,null,3.6436887540847662,4.025810560685627,null,3.039787193918189,1.9729105112290972,null,3.039787193918189,3.3202461456044157,null,3.039787193918189,2.3233829462053195,null,3.039787193918189,4.025810560685627,null,3.039787193918189,2.6667771833484504,null,3.039787193918189,3.9230133455403005,null,3.532008682278592,2.894721382054264,null,3.532008682278592,3.9259750129099085,null,3.532008682278592,2.495647082109043,null,3.532008682278592,3.1339000734028555,null,2.894721382054264,3.9259750129099085,null,2.894721382054264,2.495647082109043,null,2.894721382054264,1.846891323847273,null,2.894721382054264,3.1339000734028555,null,3.9259750129099085,4.355850036943098,null,-0.7550368140832527,-0.39287960040132236,null,-0.7550368140832527,-1.4433284207056132,null,-0.7550368140832527,-1.803460050638212,null,-0.7550368140832527,-1.135923619269714,null,-0.7550368140832527,-1.3228426362671597,null,-0.39287960040132236,-1.4433284207056132,null,-0.39287960040132236,-0.792367372754257,null,-0.39287960040132236,-0.44568621119536117,null,-0.39287960040132236,-0.035867055060358435,null,-0.39287960040132236,-1.3228426362671597,null,-0.39287960040132236,0.3300327703396017,null,2.495647082109043,1.846891323847273,null,2.495647082109043,3.1339000734028555,null,2.0090282009563265,2.3233829462053195,null,2.0090282009563265,2.6667771833484504,null,-4.373921164553792,-3.828241940518957,null,1.5573311068985731,1.9729105112290972,null,1.5573311068985731,0.8949310235667307,null,1.5573311068985731,1.846891323847273,null,1.5573311068985731,1.1935725338241374,null,1.5573311068985731,0.4864511735824019,null,0.21061921006024556,0.8949310235667307,null,0.21061921006024556,0.4864511735824019,null,1.9729105112290972,0.8949310235667307,null,1.9729105112290972,2.3233829462053195,null,0.8949310235667307,1.1935725338241374,null,0.8949310235667307,0.4864511735824019,null,3.3202461456044157,2.3233829462053195,null,3.3202461456044157,4.025810560685627,null,3.3202461456044157,2.6667771833484504,null,3.3202461456044157,3.9230133455403005,null,1.846891323847273,1.1935725338241374,null,1.1935725338241374,0.4864511735824019,null,-1.4433284207056132,-1.803460050638212,null,-1.4433284207056132,-1.135923619269714,null,-1.4433284207056132,-1.3228426362671597,null,-1.4433284207056132,-2.277787165173954,null,-1.4433284207056132,-2.4361516262287433,null,-1.4433284207056132,-2.077242109001079,null,0.4864511735824019,-0.08205277332044454,null,-1.803460050638212,-1.135923619269714,null,-1.803460050638212,-2.277787165173954,null,-1.803460050638212,-2.077242109001079,null,-1.4616068896688754,-1.135923619269714,null,2.3233829462053195,2.6667771833484504,null,-0.792367372754257,-0.44568621119536117,null,-0.792367372754257,-0.035867055060358435,null,-0.44568621119536117,-0.035867055060358435,null,-1.3228426362671597,-2.277787165173954,null,-1.3228426362671597,-2.4361516262287433,null,6.0254077204182055,5.373394270990479,null,6.0254077204182055,6.573486319158222,null,-2.277787165173954,-2.4361516262287433,null,-2.277787165173954,-2.077242109001079,null,4.025810560685627,3.9230133455403005,null,-0.7343515656972136,0.0566084955354028,null,7.129573507957074,6.607548419357273,null],\"type\":\"scatter\",\"uid\":\"a4b52b33-9678-4ae3-bc50-03f5e8071ffd\"},{\"hoverinfo\":\"text\",\"hovertext\":[\"Node ID: 0<br>Pullback set label: 10<br>Partial cluster label: 0<br>Node size: 1089<br>Summary statistic: 6000.0\",\"Node ID: 1<br>Pullback set label: 20<br>Partial cluster label: 0<br>Node size: 1125<br>Summary statistic: 6090.0\",\"Node ID: 2<br>Pullback set label: 33<br>Partial cluster label: 0<br>Node size: 846<br>Summary statistic: 5970.0\",\"Node ID: 3<br>Pullback set label: 34<br>Partial cluster label: 0<br>Node size: 621<br>Summary statistic: 6170.0\",\"Node ID: 4<br>Pullback set label: 43<br>Partial cluster label: 0<br>Node size: 231<br>Summary statistic: 6130.0\",\"Node ID: 5<br>Pullback set label: 44<br>Partial cluster label: 0<br>Node size: 125<br>Summary statistic: 6500.0\",\"Node ID: 6<br>Pullback set label: 6<br>Partial cluster label: 0<br>Node size: 401<br>Summary statistic: 6120.0\",\"Node ID: 7<br>Pullback set label: 5<br>Partial cluster label: 0<br>Node size: 551<br>Summary statistic: 6050.0\",\"Node ID: 8<br>Pullback set label: 22<br>Partial cluster label: 0<br>Node size: 1336<br>Summary statistic: 5990.0\",\"Node ID: 9<br>Pullback set label: 32<br>Partial cluster label: 0<br>Node size: 1109<br>Summary statistic: 6290.0\",\"Node ID: 10<br>Pullback set label: 14<br>Partial cluster label: 0<br>Node size: 830<br>Summary statistic: 6280.0\",\"Node ID: 11<br>Pullback set label: 23<br>Partial cluster label: 0<br>Node size: 1211<br>Summary statistic: 6050.0\",\"Node ID: 12<br>Pullback set label: 24<br>Partial cluster label: 0<br>Node size: 982<br>Summary statistic: 6340.0\",\"Node ID: 13<br>Pullback set label: 19<br>Partial cluster label: 0<br>Node size: 799<br>Summary statistic: 6180.0\",\"Node ID: 14<br>Pullback set label: 29<br>Partial cluster label: 0<br>Node size: 249<br>Summary statistic: 5790.0\",\"Node ID: 15<br>Pullback set label: 30<br>Partial cluster label: 0<br>Node size: 784<br>Summary statistic: 6160.0\",\"Node ID: 16<br>Pullback set label: 8<br>Partial cluster label: 0<br>Node size: 190<br>Summary statistic: 6000.0\",\"Node ID: 17<br>Pullback set label: 9<br>Partial cluster label: 0<br>Node size: 830<br>Summary statistic: 6100.0\",\"Node ID: 18<br>Pullback set label: 18<br>Partial cluster label: 0<br>Node size: 227<br>Summary statistic: 6070.0\",\"Node ID: 19<br>Pullback set label: 25<br>Partial cluster label: 0<br>Node size: 674<br>Summary statistic: 6310.0\",\"Node ID: 20<br>Pullback set label: 35<br>Partial cluster label: 0<br>Node size: 294<br>Summary statistic: 6290.0\",\"Node ID: 21<br>Pullback set label: 1<br>Partial cluster label: 0<br>Node size: 291<br>Summary statistic: 5900.0\",\"Node ID: 22<br>Pullback set label: 42<br>Partial cluster label: 0<br>Node size: 485<br>Summary statistic: 6280.0\",\"Node ID: 23<br>Pullback set label: 27<br>Partial cluster label: 0<br>Node size: 87<br>Summary statistic: 6260.0\",\"Node ID: 24<br>Pullback set label: 37<br>Partial cluster label: 0<br>Node size: 86<br>Summary statistic: 6220.0\",\"Node ID: 25<br>Pullback set label: 11<br>Partial cluster label: 0<br>Node size: 973<br>Summary statistic: 5710.0\",\"Node ID: 26<br>Pullback set label: 13<br>Partial cluster label: 0<br>Node size: 1027<br>Summary statistic: 6250.0\",\"Node ID: 27<br>Pullback set label: 21<br>Partial cluster label: 0<br>Node size: 1265<br>Summary statistic: 6240.0\",\"Node ID: 28<br>Pullback set label: 12<br>Partial cluster label: 0<br>Node size: 1034<br>Summary statistic: 6030.0\",\"Node ID: 29<br>Pullback set label: 40<br>Partial cluster label: 0<br>Node size: 169<br>Summary statistic: 5890.0\",\"Node ID: 30<br>Pullback set label: 28<br>Partial cluster label: 0<br>Node size: 71<br>Summary statistic: 6110.0\",\"Node ID: 31<br>Pullback set label: 2<br>Partial cluster label: 0<br>Node size: 325<br>Summary statistic: 6060.0\",\"Node ID: 32<br>Pullback set label: 3<br>Partial cluster label: 0<br>Node size: 227<br>Summary statistic: 6040.0\",\"Node ID: 33<br>Pullback set label: 26<br>Partial cluster label: 0<br>Node size: 497<br>Summary statistic: 6340.0\",\"Node ID: 34<br>Pullback set label: 4<br>Partial cluster label: 0<br>Node size: 432<br>Summary statistic: 6270.0\",\"Node ID: 35<br>Pullback set label: 16<br>Partial cluster label: 0<br>Node size: 214<br>Summary statistic: 6340.0\",\"Node ID: 36<br>Pullback set label: 7<br>Partial cluster label: 0<br>Node size: 208<br>Summary statistic: 6340.0\",\"Node ID: 37<br>Pullback set label: 15<br>Partial cluster label: 0<br>Node size: 524<br>Summary statistic: 6290.0\",\"Node ID: 38<br>Pullback set label: 31<br>Partial cluster label: 0<br>Node size: 1031<br>Summary statistic: 6510.0\",\"Node ID: 39<br>Pullback set label: 0<br>Partial cluster label: -1<br>Node size: 8<br>Summary statistic: 6170.0\",\"Node ID: 40<br>Pullback set label: 36<br>Partial cluster label: -1<br>Node size: 21<br>Summary statistic: 4850.0\",\"Node ID: 41<br>Pullback set label: 45<br>Partial cluster label: 0<br>Node size: 32<br>Summary statistic: 5940.0\",\"Node ID: 42<br>Pullback set label: 46<br>Partial cluster label: -1<br>Node size: 15<br>Summary statistic: 4950.0\",\"Node ID: 43<br>Pullback set label: 36<br>Partial cluster label: 0<br>Node size: 153<br>Summary statistic: 6160.0\",\"Node ID: 44<br>Pullback set label: 48<br>Partial cluster label: 0<br>Node size: 231<br>Summary statistic: 5910.0\",\"Node ID: 45<br>Pullback set label: 27<br>Partial cluster label: 1<br>Node size: 184<br>Summary statistic: 6250.0\",\"Node ID: 46<br>Pullback set label: 37<br>Partial cluster label: 1<br>Node size: 73<br>Summary statistic: 6210.0\",\"Node ID: 47<br>Pullback set label: 39<br>Partial cluster label: -1<br>Node size: 13<br>Summary statistic: 5300.0\",\"Node ID: 48<br>Pullback set label: 41<br>Partial cluster label: 0<br>Node size: 252<br>Summary statistic: 6380.0\",\"Node ID: 49<br>Pullback set label: 18<br>Partial cluster label: -1<br>Node size: 16<br>Summary statistic: 5650.0\",\"Node ID: 50<br>Pullback set label: 17<br>Partial cluster label: 0<br>Node size: 75<br>Summary statistic: 6350.0\",\"Node ID: 51<br>Pullback set label: 28<br>Partial cluster label: 1<br>Node size: 39<br>Summary statistic: 6740.0\",\"Node ID: 52<br>Pullback set label: 29<br>Partial cluster label: 1<br>Node size: 32<br>Summary statistic: 6640.0\",\"Node ID: 53<br>Pullback set label: 38<br>Partial cluster label: 0<br>Node size: 27<br>Summary statistic: 6270.0\",\"Node ID: 54<br>Pullback set label: 47<br>Partial cluster label: -1<br>Node size: 5<br>Summary statistic: 5170.0\",\"Node ID: 55<br>Pullback set label: 28<br>Partial cluster label: -1<br>Node size: 18<br>Summary statistic: 6800.0\",\"Node ID: 56<br>Pullback set label: 29<br>Partial cluster label: -1<br>Node size: 3<br>Summary statistic: 5910.0\",\"Node ID: 57<br>Pullback set label: 49<br>Partial cluster label: -1<br>Node size: 2<br>Summary statistic: 3320.0\",\"Node ID: 58<br>Pullback set label: 3<br>Partial cluster label: -1<br>Node size: 4<br>Summary statistic: 6520.0\",\"Node ID: 59<br>Pullback set label: 45<br>Partial cluster label: -1<br>Node size: 1<br>Summary statistic: 3960.0\"],\"marker\":{\"color\":[6001.847566574839,6085.776888888889,5966.502364066194,6169.610305958132,6126.38961038961,6498.016,6119.311720698254,6051.337568058077,5985.70508982036,6293.87466185753,6277.350602409639,6048.04789430223,6338.475560081466,6182.936170212766,5790.658634538153,6155.918367346939,6004.4,6096.063855421687,6072.753303964758,6314.69881305638,6285.156462585034,5901.223367697595,6277.686597938145,6257.0344827586205,6216.953488372093,5713.015416238438,6245.367088607595,6236.392885375494,6025.031914893617,5890.455621301775,6110.408450704225,6062.673846153846,6041.770925110132,6340.17907444668,6272.6087962962965,6342.130841121495,6336.754807692308,6288.135496183206,6510.356935014549,6167.125,4853.714285714285,5941.03125,4951.866666666667,6157.6274509803925,5913.917748917749,6248.554347826087,6209.013698630137,5299.153846153846,6384.892857142857,5652.875,6347.933333333333,6739.410256410257,6637.0,6265.592592592592,5172.2,6803.333333333333,5907.666666666667,3324.5,6515.25,3961.0],\"colorbar\":{\"thickness\":15,\"title\":{\"side\":\"right\",\"text\":\"\"},\"xanchor\":\"left\"},\"colorscale\":[[0.0,\"#440154\"],[0.1111111111111111,\"#482878\"],[0.2222222222222222,\"#3e4989\"],[0.3333333333333333,\"#31688e\"],[0.4444444444444444,\"#26828e\"],[0.5555555555555556,\"#1f9e89\"],[0.6666666666666666,\"#35b779\"],[0.7777777777777778,\"#6ece58\"],[0.8888888888888888,\"#b5de2b\"],[1.0,\"#fde725\"]],\"line\":{\"color\":\"#888\",\"width\":1},\"opacity\":1.0,\"reversescale\":false,\"showscale\":true,\"size\":[1089,1125,846,621,231,125,401,551,1336,1109,830,1211,982,799,249,784,190,830,227,674,294,291,485,87,86,973,1027,1265,1034,169,71,325,227,497,432,214,208,524,1031,8,21,32,15,153,231,184,73,13,252,16,75,39,32,27,5,18,3,2,4,1],\"sizemin\":4,\"sizemode\":\"area\",\"sizeref\":18.555555555555557},\"mode\":\"markers\",\"name\":\"node_trace\",\"x\":[-2.1138878265445826,-1.5385450084797307,0.3589199330404751,0.8156347015121105,0.9129159734322765,1.3083604750352105,-0.9067193233951932,-1.3087139037610764,-0.658597009199983,-0.08654127263664628,-0.3291041118505061,-0.1936877968301489,0.29231906507648314,-1.948072739644338,-1.3912471778252713,-0.9070116846687002,-2.9563626599535464,-2.5532741066630864,-2.3682141369238754,0.6822478029760655,1.3699007238719956,-3.1212886256459065,0.48547180040078736,-4.886063877095729,-5.493005692100232,-1.6741575159227857,-0.7455500665116445,-1.094940195653709,-1.2126819805881814,-0.3685006257751071,-1.8695657413458822,-2.6701693038977217,-2.213041126796609,1.0346146231281743,-1.7874413944676502,0.6159710512719657,-0.7025989549458321,0.06647532499090546,-0.5291934933194179,-3.5618512640050977,2.2143756576055207,2.4460117965110397,2.371794575497215,1.4667155217486727,4.317847225734699,1.3899672666886507,0.9526581014463901,-0.7360549193155423,0.06846585436187738,-0.5234157341678982,1.8121237796209269,-7.3856192982978985,-4.741879722384131,-7.582466222614883,4.870551271821686,-5.408940830158502,-0.16242504822666173,3.6817716466848003,-2.6369469578045637,1.7729478672633001],\"y\":[2.244626801469249,2.618732580460368,0.9648728135059572,0.275346343095292,1.345885319013047,0.6767660133827605,-0.8178389426077152,-0.14094024502921518,1.2777854968196078,1.6435892932729017,-0.47142242113595406,0.5757228652089992,-0.09382060796478636,3.294498014794469,3.6436887540847662,3.039787193918189,3.532008682278592,2.894721382054264,3.9259750129099085,-0.7550368140832527,-0.39287960040132236,2.495647082109043,2.0090282009563265,-4.373921164553792,-3.828241940518957,1.5573311068985731,0.21061921006024556,1.9729105112290972,0.8949310235667307,3.3202461456044157,4.355850036943098,1.846891323847273,1.1935725338241374,-1.4433284207056132,0.4864511735824019,-1.803460050638212,-1.4616068896688754,-1.135923619269714,2.3233829462053195,3.1339000734028555,-0.792367372754257,-0.44568621119536117,-0.035867055060358435,-1.3228426362671597,6.0254077204182055,-2.277787165173954,-2.4361516262287433,4.025810560685627,2.6667771833484504,1.1305385435523074,-2.077242109001079,-0.7343515656972136,7.129573507957074,0.0566084955354028,5.373394270990479,6.607548419357273,3.9230133455403005,6.573486319158222,-0.08205277332044454,0.3300327703396017],\"type\":\"scatter\",\"uid\":\"22ffccec-ae8f-4b3c-8155-c4b7aa96d7b4\"}],                        {\"autosize\":false,\"hovermode\":\"closest\",\"margin\":{\"b\":20,\"l\":5,\"r\":5,\"t\":40},\"showlegend\":false,\"template\":{\"data\":{\"barpolar\":[{\"marker\":{\"line\":{\"color\":\"white\",\"width\":0.5},\"pattern\":{\"fillmode\":\"overlay\",\"size\":10,\"solidity\":0.2}},\"type\":\"barpolar\"}],\"bar\":[{\"error_x\":{\"color\":\"rgb(36,36,36)\"},\"error_y\":{\"color\":\"rgb(36,36,36)\"},\"marker\":{\"line\":{\"color\":\"white\",\"width\":0.5},\"pattern\":{\"fillmode\":\"overlay\",\"size\":10,\"solidity\":0.2}},\"type\":\"bar\"}],\"carpet\":[{\"aaxis\":{\"endlinecolor\":\"rgb(36,36,36)\",\"gridcolor\":\"white\",\"linecolor\":\"white\",\"minorgridcolor\":\"white\",\"startlinecolor\":\"rgb(36,36,36)\"},\"baxis\":{\"endlinecolor\":\"rgb(36,36,36)\",\"gridcolor\":\"white\",\"linecolor\":\"white\",\"minorgridcolor\":\"white\",\"startlinecolor\":\"rgb(36,36,36)\"},\"type\":\"carpet\"}],\"choropleth\":[{\"colorbar\":{\"outlinewidth\":1,\"tickcolor\":\"rgb(36,36,36)\",\"ticks\":\"outside\"},\"type\":\"choropleth\"}],\"contourcarpet\":[{\"colorbar\":{\"outlinewidth\":1,\"tickcolor\":\"rgb(36,36,36)\",\"ticks\":\"outside\"},\"type\":\"contourcarpet\"}],\"contour\":[{\"colorbar\":{\"outlinewidth\":1,\"tickcolor\":\"rgb(36,36,36)\",\"ticks\":\"outside\"},\"colorscale\":[[0.0,\"#440154\"],[0.1111111111111111,\"#482878\"],[0.2222222222222222,\"#3e4989\"],[0.3333333333333333,\"#31688e\"],[0.4444444444444444,\"#26828e\"],[0.5555555555555556,\"#1f9e89\"],[0.6666666666666666,\"#35b779\"],[0.7777777777777778,\"#6ece58\"],[0.8888888888888888,\"#b5de2b\"],[1.0,\"#fde725\"]],\"type\":\"contour\"}],\"heatmapgl\":[{\"colorbar\":{\"outlinewidth\":1,\"tickcolor\":\"rgb(36,36,36)\",\"ticks\":\"outside\"},\"colorscale\":[[0.0,\"#440154\"],[0.1111111111111111,\"#482878\"],[0.2222222222222222,\"#3e4989\"],[0.3333333333333333,\"#31688e\"],[0.4444444444444444,\"#26828e\"],[0.5555555555555556,\"#1f9e89\"],[0.6666666666666666,\"#35b779\"],[0.7777777777777778,\"#6ece58\"],[0.8888888888888888,\"#b5de2b\"],[1.0,\"#fde725\"]],\"type\":\"heatmapgl\"}],\"heatmap\":[{\"colorbar\":{\"outlinewidth\":1,\"tickcolor\":\"rgb(36,36,36)\",\"ticks\":\"outside\"},\"colorscale\":[[0.0,\"#440154\"],[0.1111111111111111,\"#482878\"],[0.2222222222222222,\"#3e4989\"],[0.3333333333333333,\"#31688e\"],[0.4444444444444444,\"#26828e\"],[0.5555555555555556,\"#1f9e89\"],[0.6666666666666666,\"#35b779\"],[0.7777777777777778,\"#6ece58\"],[0.8888888888888888,\"#b5de2b\"],[1.0,\"#fde725\"]],\"type\":\"heatmap\"}],\"histogram2dcontour\":[{\"colorbar\":{\"outlinewidth\":1,\"tickcolor\":\"rgb(36,36,36)\",\"ticks\":\"outside\"},\"colorscale\":[[0.0,\"#440154\"],[0.1111111111111111,\"#482878\"],[0.2222222222222222,\"#3e4989\"],[0.3333333333333333,\"#31688e\"],[0.4444444444444444,\"#26828e\"],[0.5555555555555556,\"#1f9e89\"],[0.6666666666666666,\"#35b779\"],[0.7777777777777778,\"#6ece58\"],[0.8888888888888888,\"#b5de2b\"],[1.0,\"#fde725\"]],\"type\":\"histogram2dcontour\"}],\"histogram2d\":[{\"colorbar\":{\"outlinewidth\":1,\"tickcolor\":\"rgb(36,36,36)\",\"ticks\":\"outside\"},\"colorscale\":[[0.0,\"#440154\"],[0.1111111111111111,\"#482878\"],[0.2222222222222222,\"#3e4989\"],[0.3333333333333333,\"#31688e\"],[0.4444444444444444,\"#26828e\"],[0.5555555555555556,\"#1f9e89\"],[0.6666666666666666,\"#35b779\"],[0.7777777777777778,\"#6ece58\"],[0.8888888888888888,\"#b5de2b\"],[1.0,\"#fde725\"]],\"type\":\"histogram2d\"}],\"histogram\":[{\"marker\":{\"line\":{\"color\":\"white\",\"width\":0.6}},\"type\":\"histogram\"}],\"mesh3d\":[{\"colorbar\":{\"outlinewidth\":1,\"tickcolor\":\"rgb(36,36,36)\",\"ticks\":\"outside\"},\"type\":\"mesh3d\"}],\"parcoords\":[{\"line\":{\"colorbar\":{\"outlinewidth\":1,\"tickcolor\":\"rgb(36,36,36)\",\"ticks\":\"outside\"}},\"type\":\"parcoords\"}],\"pie\":[{\"automargin\":true,\"type\":\"pie\"}],\"scatter3d\":[{\"line\":{\"colorbar\":{\"outlinewidth\":1,\"tickcolor\":\"rgb(36,36,36)\",\"ticks\":\"outside\"}},\"marker\":{\"colorbar\":{\"outlinewidth\":1,\"tickcolor\":\"rgb(36,36,36)\",\"ticks\":\"outside\"}},\"type\":\"scatter3d\"}],\"scattercarpet\":[{\"marker\":{\"colorbar\":{\"outlinewidth\":1,\"tickcolor\":\"rgb(36,36,36)\",\"ticks\":\"outside\"}},\"type\":\"scattercarpet\"}],\"scattergeo\":[{\"marker\":{\"colorbar\":{\"outlinewidth\":1,\"tickcolor\":\"rgb(36,36,36)\",\"ticks\":\"outside\"}},\"type\":\"scattergeo\"}],\"scattergl\":[{\"marker\":{\"colorbar\":{\"outlinewidth\":1,\"tickcolor\":\"rgb(36,36,36)\",\"ticks\":\"outside\"}},\"type\":\"scattergl\"}],\"scattermapbox\":[{\"marker\":{\"colorbar\":{\"outlinewidth\":1,\"tickcolor\":\"rgb(36,36,36)\",\"ticks\":\"outside\"}},\"type\":\"scattermapbox\"}],\"scatterpolargl\":[{\"marker\":{\"colorbar\":{\"outlinewidth\":1,\"tickcolor\":\"rgb(36,36,36)\",\"ticks\":\"outside\"}},\"type\":\"scatterpolargl\"}],\"scatterpolar\":[{\"marker\":{\"colorbar\":{\"outlinewidth\":1,\"tickcolor\":\"rgb(36,36,36)\",\"ticks\":\"outside\"}},\"type\":\"scatterpolar\"}],\"scatter\":[{\"marker\":{\"colorbar\":{\"outlinewidth\":1,\"tickcolor\":\"rgb(36,36,36)\",\"ticks\":\"outside\"}},\"type\":\"scatter\"}],\"scatterternary\":[{\"marker\":{\"colorbar\":{\"outlinewidth\":1,\"tickcolor\":\"rgb(36,36,36)\",\"ticks\":\"outside\"}},\"type\":\"scatterternary\"}],\"surface\":[{\"colorbar\":{\"outlinewidth\":1,\"tickcolor\":\"rgb(36,36,36)\",\"ticks\":\"outside\"},\"colorscale\":[[0.0,\"#440154\"],[0.1111111111111111,\"#482878\"],[0.2222222222222222,\"#3e4989\"],[0.3333333333333333,\"#31688e\"],[0.4444444444444444,\"#26828e\"],[0.5555555555555556,\"#1f9e89\"],[0.6666666666666666,\"#35b779\"],[0.7777777777777778,\"#6ece58\"],[0.8888888888888888,\"#b5de2b\"],[1.0,\"#fde725\"]],\"type\":\"surface\"}],\"table\":[{\"cells\":{\"fill\":{\"color\":\"rgb(237,237,237)\"},\"line\":{\"color\":\"white\"}},\"header\":{\"fill\":{\"color\":\"rgb(217,217,217)\"},\"line\":{\"color\":\"white\"}},\"type\":\"table\"}]},\"layout\":{\"annotationdefaults\":{\"arrowhead\":0,\"arrowwidth\":1},\"autotypenumbers\":\"strict\",\"coloraxis\":{\"colorbar\":{\"outlinewidth\":1,\"tickcolor\":\"rgb(36,36,36)\",\"ticks\":\"outside\"}},\"colorscale\":{\"diverging\":[[0.0,\"rgb(103,0,31)\"],[0.1,\"rgb(178,24,43)\"],[0.2,\"rgb(214,96,77)\"],[0.3,\"rgb(244,165,130)\"],[0.4,\"rgb(253,219,199)\"],[0.5,\"rgb(247,247,247)\"],[0.6,\"rgb(209,229,240)\"],[0.7,\"rgb(146,197,222)\"],[0.8,\"rgb(67,147,195)\"],[0.9,\"rgb(33,102,172)\"],[1.0,\"rgb(5,48,97)\"]],\"sequential\":[[0.0,\"#440154\"],[0.1111111111111111,\"#482878\"],[0.2222222222222222,\"#3e4989\"],[0.3333333333333333,\"#31688e\"],[0.4444444444444444,\"#26828e\"],[0.5555555555555556,\"#1f9e89\"],[0.6666666666666666,\"#35b779\"],[0.7777777777777778,\"#6ece58\"],[0.8888888888888888,\"#b5de2b\"],[1.0,\"#fde725\"]],\"sequentialminus\":[[0.0,\"#440154\"],[0.1111111111111111,\"#482878\"],[0.2222222222222222,\"#3e4989\"],[0.3333333333333333,\"#31688e\"],[0.4444444444444444,\"#26828e\"],[0.5555555555555556,\"#1f9e89\"],[0.6666666666666666,\"#35b779\"],[0.7777777777777778,\"#6ece58\"],[0.8888888888888888,\"#b5de2b\"],[1.0,\"#fde725\"]]},\"colorway\":[\"#1F77B4\",\"#FF7F0E\",\"#2CA02C\",\"#D62728\",\"#9467BD\",\"#8C564B\",\"#E377C2\",\"#7F7F7F\",\"#BCBD22\",\"#17BECF\"],\"font\":{\"color\":\"rgb(36,36,36)\"},\"geo\":{\"bgcolor\":\"white\",\"lakecolor\":\"white\",\"landcolor\":\"white\",\"showlakes\":true,\"showland\":true,\"subunitcolor\":\"white\"},\"hoverlabel\":{\"align\":\"left\"},\"hovermode\":\"closest\",\"mapbox\":{\"style\":\"light\"},\"paper_bgcolor\":\"white\",\"plot_bgcolor\":\"white\",\"polar\":{\"angularaxis\":{\"gridcolor\":\"rgb(232,232,232)\",\"linecolor\":\"rgb(36,36,36)\",\"showgrid\":false,\"showline\":true,\"ticks\":\"outside\"},\"bgcolor\":\"white\",\"radialaxis\":{\"gridcolor\":\"rgb(232,232,232)\",\"linecolor\":\"rgb(36,36,36)\",\"showgrid\":false,\"showline\":true,\"ticks\":\"outside\"}},\"scene\":{\"xaxis\":{\"backgroundcolor\":\"white\",\"gridcolor\":\"rgb(232,232,232)\",\"gridwidth\":2,\"linecolor\":\"rgb(36,36,36)\",\"showbackground\":true,\"showgrid\":false,\"showline\":true,\"ticks\":\"outside\",\"zeroline\":false,\"zerolinecolor\":\"rgb(36,36,36)\"},\"yaxis\":{\"backgroundcolor\":\"white\",\"gridcolor\":\"rgb(232,232,232)\",\"gridwidth\":2,\"linecolor\":\"rgb(36,36,36)\",\"showbackground\":true,\"showgrid\":false,\"showline\":true,\"ticks\":\"outside\",\"zeroline\":false,\"zerolinecolor\":\"rgb(36,36,36)\"},\"zaxis\":{\"backgroundcolor\":\"white\",\"gridcolor\":\"rgb(232,232,232)\",\"gridwidth\":2,\"linecolor\":\"rgb(36,36,36)\",\"showbackground\":true,\"showgrid\":false,\"showline\":true,\"ticks\":\"outside\",\"zeroline\":false,\"zerolinecolor\":\"rgb(36,36,36)\"}},\"shapedefaults\":{\"fillcolor\":\"black\",\"line\":{\"width\":0},\"opacity\":0.3},\"ternary\":{\"aaxis\":{\"gridcolor\":\"rgb(232,232,232)\",\"linecolor\":\"rgb(36,36,36)\",\"showgrid\":false,\"showline\":true,\"ticks\":\"outside\"},\"baxis\":{\"gridcolor\":\"rgb(232,232,232)\",\"linecolor\":\"rgb(36,36,36)\",\"showgrid\":false,\"showline\":true,\"ticks\":\"outside\"},\"bgcolor\":\"white\",\"caxis\":{\"gridcolor\":\"rgb(232,232,232)\",\"linecolor\":\"rgb(36,36,36)\",\"showgrid\":false,\"showline\":true,\"ticks\":\"outside\"}},\"title\":{\"x\":0.05},\"xaxis\":{\"automargin\":true,\"gridcolor\":\"rgb(232,232,232)\",\"linecolor\":\"rgb(36,36,36)\",\"showgrid\":false,\"showline\":true,\"ticks\":\"outside\",\"title\":{\"standoff\":15},\"zeroline\":false,\"zerolinecolor\":\"rgb(36,36,36)\"},\"yaxis\":{\"automargin\":true,\"gridcolor\":\"rgb(232,232,232)\",\"linecolor\":\"rgb(36,36,36)\",\"showgrid\":false,\"showline\":true,\"ticks\":\"outside\",\"title\":{\"standoff\":15},\"zeroline\":false,\"zerolinecolor\":\"rgb(36,36,36)\"}}},\"title\":{\"text\":\"\"},\"xaxis\":{\"showgrid\":false,\"showline\":false,\"showticklabels\":false,\"ticks\":\"\",\"title\":{\"text\":\"\"},\"zeroline\":false},\"yaxis\":{\"showgrid\":false,\"showline\":false,\"showticklabels\":false,\"ticks\":\"\",\"title\":{\"text\":\"\"},\"zeroline\":false}},                        {\"scrollZoom\": true, \"responsive\": true}                    ).then(function(){\n",
       "                            \n",
       "var gd = document.getElementById('6df53a73-a473-40ed-b22e-e2af8fc94755');\n",
       "var x = new MutationObserver(function (mutations, observer) {{\n",
       "        var display = window.getComputedStyle(gd).display;\n",
       "        if (!display || display === 'none') {{\n",
       "            console.log([gd, 'removed!']);\n",
       "            Plotly.purge(gd);\n",
       "            observer.disconnect();\n",
       "        }}\n",
       "}});\n",
       "\n",
       "// Listen for the removal of the full notebook cells\n",
       "var notebookContainer = gd.closest('#notebook-container');\n",
       "if (notebookContainer) {{\n",
       "    x.observe(notebookContainer, {childList: true});\n",
       "}}\n",
       "\n",
       "// Listen for the clearing of the current output cell\n",
       "var outputEl = gd.closest('.output');\n",
       "if (outputEl) {{\n",
       "    x.observe(outputEl, {childList: true});\n",
       "}}\n",
       "\n",
       "                        })                };                });            </script>        </div>"
      ]
     },
     "metadata": {},
     "output_type": "display_data"
    }
   ],
   "source": [
    "fig = plot_static_mapper_graph(pipe, embeddingsM)\n",
    "fig.show(config={'scrollZoom': True})"
   ]
  },
  {
   "cell_type": "code",
   "execution_count": 54,
   "id": "7b44d46f",
   "metadata": {},
   "outputs": [
    {
     "data": {
      "application/vnd.plotly.v1+json": {
       "config": {
        "plotlyServerURL": "https://plot.ly",
        "scrollZoom": false
       },
       "data": [
        {
         "hoverinfo": "none",
         "line": {
          "color": "#888",
          "width": 1
         },
         "mode": "lines",
         "name": "edge_trace",
         "type": "scatter",
         "uid": "a162c1fc-08b3-4766-a688-44acbf8ed4f2",
         "x": [
          1.5499951184233025,
          1.0815333288329307,
          null,
          1.5499951184233025,
          0.8247030797638369,
          null,
          1.5499951184233025,
          1.3175880765213832,
          null,
          1.5499951184233025,
          2.071982597759893,
          null,
          1.5499951184233025,
          2.75623607565114,
          null,
          1.5499951184233025,
          2.2555881733665903,
          null,
          1.5499951184233025,
          0.3451958872585451,
          null,
          1.5499951184233025,
          1.7276108218159394,
          null,
          1.0815333288329307,
          0.8247030797638369,
          null,
          1.0815333288329307,
          2.2555881733665903,
          null,
          1.0815333288329307,
          0.3451958872585451,
          null,
          1.0815333288329307,
          -0.14739631984758786,
          null,
          1.0815333288329307,
          1.7276108218159394,
          null,
          1.0815333288329307,
          0.5755288292080698,
          null,
          1.0815333288329307,
          1.682994955054318,
          null,
          1.0815333288329307,
          1.1700083635469716,
          null,
          0.8247030797638369,
          1.3175880765213832,
          null,
          0.8247030797638369,
          2.071982597759893,
          null,
          0.8247030797638369,
          0.5884918860213153,
          null,
          0.8247030797638369,
          0.10774646918966167,
          null,
          0.8247030797638369,
          0.3451958872585451,
          null,
          0.8247030797638369,
          -0.39213496545340526,
          null,
          1.3175880765213832,
          2.071982597759893,
          null,
          1.3175880765213832,
          2.5612819650164282,
          null,
          1.3175880765213832,
          0.5884918860213153,
          null,
          1.3175880765213832,
          0.10774646918966167,
          null,
          1.3175880765213832,
          1.134308044463986,
          null,
          1.3175880765213832,
          1.8137158440039227,
          null,
          2.071982597759893,
          2.75623607565114,
          null,
          2.071982597759893,
          2.2555881733665903,
          null,
          2.071982597759893,
          2.5612819650164282,
          null,
          2.071982597759893,
          3.3314593197032853,
          null,
          2.071982597759893,
          1.8137158440039227,
          null,
          2.75623607565114,
          2.2555881733665903,
          null,
          2.75623607565114,
          2.5612819650164282,
          null,
          2.75623607565114,
          3.3314593197032853,
          null,
          2.75623607565114,
          3.2137724796862064,
          null,
          2.75623607565114,
          3.951110680509135,
          null,
          2.75623607565114,
          3.3555905568430693,
          null,
          2.2555881733665903,
          3.2137724796862064,
          null,
          2.2555881733665903,
          1.7276108218159394,
          null,
          2.2555881733665903,
          3.3555905568430693,
          null,
          -0.7165567036594894,
          -0.07587123881911624,
          null,
          -0.7165567036594894,
          -1.9043176996032942,
          null,
          -0.7165567036594894,
          -1.2892559006896198,
          null,
          -0.7165567036594894,
          -1.4026842857100355,
          null,
          -0.7165567036594894,
          -0.6119543888998855,
          null,
          -0.7165567036594894,
          -0.22112052489198938,
          null,
          -0.7165567036594894,
          0.5098134402021238,
          null,
          -0.7165567036594894,
          -1.1559438919149556,
          null,
          -0.07587123881911624,
          0.5884918860213153,
          null,
          -0.07587123881911624,
          0.10774646918966167,
          null,
          -0.07587123881911624,
          1.134308044463986,
          null,
          -0.07587123881911624,
          -1.2892559006896198,
          null,
          -0.07587123881911624,
          -0.6119543888998855,
          null,
          -0.07587123881911624,
          -0.22112052489198938,
          null,
          -0.07587123881911624,
          0.5098134402021238,
          null,
          2.5612819650164282,
          3.3314593197032853,
          null,
          2.5612819650164282,
          2.3680616800655505,
          null,
          2.5612819650164282,
          3.0622065321991583,
          null,
          2.5612819650164282,
          1.8137158440039227,
          null,
          2.5612819650164282,
          3.752070015698711,
          null,
          3.3314593197032853,
          3.0622065321991583,
          null,
          3.3314593197032853,
          3.752070015698711,
          null,
          3.3314593197032853,
          4.571552725053844,
          null,
          3.3314593197032853,
          3.951110680509135,
          null,
          3.3314593197032853,
          3.3555905568430693,
          null,
          3.3314593197032853,
          4.396662318845394,
          null,
          0.5884918860213153,
          0.10774646918966167,
          null,
          0.5884918860213153,
          1.134308044463986,
          null,
          0.5884918860213153,
          1.8137158440039227,
          null,
          0.5884918860213153,
          -0.6119543888998855,
          null,
          0.5884918860213153,
          0.5098134402021238,
          null,
          0.10774646918966167,
          0.3451958872585451,
          null,
          0.10774646918966167,
          -0.39213496545340526,
          null,
          0.10774646918966167,
          -0.6119543888998855,
          null,
          0.10774646918966167,
          -1.1152214141483063,
          null,
          -3.705993667104501,
          -3.1824062081722433,
          null,
          -3.705993667104501,
          -4.655079482900079,
          null,
          -1.6090911430754171,
          -2.116301594366763,
          null,
          -1.6090911430754171,
          -1.8084745892936245,
          null,
          -1.6090911430754171,
          -0.39213496545340526,
          null,
          -1.6090911430754171,
          -0.910707328910102,
          null,
          -1.6090911430754171,
          -1.1152214141483063,
          null,
          -1.6090911430754171,
          -1.3551122768232189,
          null,
          -1.6090911430754171,
          -2.327108268838766,
          null,
          -1.6090911430754171,
          -2.8157498322957224,
          null,
          -2.116301594366763,
          -0.910707328910102,
          null,
          -2.116301594366763,
          -1.3551122768232189,
          null,
          -2.116301594366763,
          -2.327108268838766,
          null,
          -2.116301594366763,
          -2.8157498322957224,
          null,
          -2.116301594366763,
          -2.416891173779435,
          null,
          -2.116301594366763,
          -1.755438224796266,
          null,
          -2.116301594366763,
          -3.0821045408875323,
          null,
          -2.116301594366763,
          -3.393269356971824,
          null,
          2.3680616800655505,
          3.0622065321991583,
          null,
          2.3680616800655505,
          1.134308044463986,
          null,
          2.3680616800655505,
          2.1858793437568864,
          null,
          2.3680616800655505,
          1.7364244776704132,
          null,
          2.3680616800655505,
          1.8137158440039227,
          null,
          2.3680616800655505,
          2.9679717811299473,
          null,
          2.3680616800655505,
          3.569968897380521,
          null,
          3.0622065321991583,
          1.8137158440039227,
          null,
          3.0622065321991583,
          2.9679717811299473,
          null,
          3.0622065321991583,
          3.569968897380521,
          null,
          3.0622065321991583,
          3.752070015698711,
          null,
          3.0622065321991583,
          4.349787843019887,
          null,
          3.2137724796862064,
          3.3555905568430693,
          null,
          1.134308044463986,
          0.9890625131061204,
          null,
          1.134308044463986,
          1.7364244776704132,
          null,
          1.134308044463986,
          1.8137158440039227,
          null,
          1.134308044463986,
          0.5098134402021238,
          null,
          1.519915243863435,
          2.1858793437568864,
          null,
          1.519915243863435,
          0.9890625131061204,
          null,
          1.519915243863435,
          1.7364244776704132,
          null,
          1.519915243863435,
          0.29662880138256525,
          null,
          1.519915243863435,
          1.3653685412332015,
          null,
          1.519915243863435,
          2.262858054238828,
          null,
          1.519915243863435,
          2.7097705802672274,
          null,
          1.519915243863435,
          0.7976091826440795,
          null,
          1.519915243863435,
          0.8812911419462025,
          null,
          1.519915243863435,
          1.9091089886522128,
          null,
          2.1858793437568864,
          0.9890625131061204,
          null,
          2.1858793437568864,
          1.7364244776704132,
          null,
          2.1858793437568864,
          2.9679717811299473,
          null,
          2.1858793437568864,
          2.262858054238828,
          null,
          2.1858793437568864,
          2.7097705802672274,
          null,
          2.1858793437568864,
          3.3469716377471603,
          null,
          0.9890625131061204,
          1.7364244776704132,
          null,
          0.9890625131061204,
          0.29662880138256525,
          null,
          0.9890625131061204,
          -0.22112052489198938,
          null,
          0.9890625131061204,
          0.5098134402021238,
          null,
          0.9890625131061204,
          0.7976091826440795,
          null,
          1.7364244776704132,
          1.8137158440039227,
          null,
          1.7364244776704132,
          2.9679717811299473,
          null,
          1.7364244776704132,
          0.5098134402021238,
          null,
          0.3451958872585451,
          -0.14739631984758786,
          null,
          0.3451958872585451,
          -0.39213496545340526,
          null,
          0.3451958872585451,
          -0.910707328910102,
          null,
          0.3451958872585451,
          0.5755288292080698,
          null,
          -0.14739631984758786,
          -0.39213496545340526,
          null,
          -0.14739631984758786,
          -0.910707328910102,
          null,
          -0.14739631984758786,
          -1.3551122768232189,
          null,
          -0.14739631984758786,
          -0.638561958487124,
          null,
          -0.14739631984758786,
          0.04773219192777706,
          null,
          -0.14739631984758786,
          0.5755288292080698,
          null,
          -1.9043176996032942,
          -1.2892559006896198,
          null,
          -1.9043176996032942,
          -2.4757563751930522,
          null,
          -1.9043176996032942,
          -1.8084745892936245,
          null,
          -1.9043176996032942,
          -1.4026842857100355,
          null,
          -1.2892559006896198,
          -2.4757563751930522,
          null,
          -1.2892559006896198,
          -1.8084745892936245,
          null,
          -1.2892559006896198,
          -1.4026842857100355,
          null,
          -1.2892559006896198,
          -0.6119543888998855,
          null,
          -1.2892559006896198,
          -1.1152214141483063,
          null,
          -2.4757563751930522,
          -1.8084745892936245,
          null,
          -2.4757563751930522,
          -2.327108268838766,
          null,
          -2.4757563751930522,
          -3.0420768672508913,
          null,
          -1.8084745892936245,
          -0.6119543888998855,
          null,
          -1.8084745892936245,
          -1.1152214141483063,
          null,
          -1.8084745892936245,
          -2.327108268838766,
          null,
          -1.8084745892936245,
          -3.0420768672508913,
          null,
          -7.166107779798924,
          -6.321270579995906,
          null,
          -9.028577480030078,
          -8.4898295308762,
          null,
          -9.028577480030078,
          -8.826183827985664,
          null,
          -9.028577480030078,
          -9.32737002279371,
          null,
          -8.4898295308762,
          -8.826183827985664,
          null,
          -8.4898295308762,
          -9.32737002279371,
          null,
          2.9679717811299473,
          3.569968897380521,
          null,
          2.9679717811299473,
          2.7097705802672274,
          null,
          2.9679717811299473,
          3.3469716377471603,
          null,
          2.9679717811299473,
          4.106356906671475,
          null,
          2.9679717811299473,
          4.224526666984982,
          null,
          2.9679717811299473,
          3.8023645115499947,
          null,
          3.569968897380521,
          3.752070015698711,
          null,
          3.569968897380521,
          3.3469716377471603,
          null,
          3.569968897380521,
          4.349787843019887,
          null,
          3.569968897380521,
          4.106356906671475,
          null,
          3.569968897380521,
          3.8023645115499947,
          null,
          -1.4026842857100355,
          -0.22112052489198938,
          null,
          -1.4026842857100355,
          -1.1559438919149556,
          null,
          -0.39213496545340526,
          -0.6119543888998855,
          null,
          -0.39213496545340526,
          -0.910707328910102,
          null,
          -0.39213496545340526,
          -1.1152214141483063,
          null,
          -0.6119543888998855,
          -1.1152214141483063,
          null,
          -0.910707328910102,
          -1.1152214141483063,
          null,
          -0.910707328910102,
          -1.3551122768232189,
          null,
          -0.910707328910102,
          -0.638561958487124,
          null,
          3.752070015698711,
          4.571552725053844,
          null,
          3.752070015698711,
          4.349787843019887,
          null,
          3.752070015698711,
          4.396662318845394,
          null,
          4.571552725053844,
          4.396662318845394,
          null,
          -1.1152214141483063,
          -2.327108268838766,
          null,
          -6.037693194563303,
          -6.328759120003844,
          null,
          -6.037693194563303,
          -5.467586012618778,
          null,
          1.7276108218159394,
          0.5755288292080698,
          null,
          1.7276108218159394,
          1.682994955054318,
          null,
          1.7276108218159394,
          1.1700083635469716,
          null,
          -1.3551122768232189,
          -0.638561958487124,
          null,
          -1.3551122768232189,
          -2.416891173779435,
          null,
          -1.3551122768232189,
          -1.755438224796266,
          null,
          -1.3551122768232189,
          -1.4714076343788807,
          null,
          -0.638561958487124,
          0.04773219192777706,
          null,
          -0.638561958487124,
          0.5755288292080698,
          null,
          -0.638561958487124,
          -1.755438224796266,
          null,
          -0.638561958487124,
          -1.4714076343788807,
          null,
          0.29662880138256525,
          -0.22112052489198938,
          null,
          0.29662880138256525,
          0.5098134402021238,
          null,
          0.29662880138256525,
          0.7976091826440795,
          null,
          0.29662880138256525,
          -0.37550510372683266,
          null,
          -0.22112052489198938,
          0.5098134402021238,
          null,
          -0.22112052489198938,
          -1.1559438919149556,
          null,
          -2.327108268838766,
          -2.8157498322957224,
          null,
          -2.327108268838766,
          -3.0420768672508913,
          null,
          -2.327108268838766,
          -3.5770764618929602,
          null,
          -0.49957787800297676,
          -0.4270958638288385,
          null,
          -0.49957787800297676,
          0.12525052587435515,
          null,
          -0.49957787800297676,
          0.598414282162793,
          null,
          0.04773219192777706,
          0.5755288292080698,
          null,
          0.04773219192777706,
          1.1700083635469716,
          null,
          0.04773219192777706,
          0.5768419882003124,
          null,
          0.04773219192777706,
          0.9127476114535893,
          null,
          0.5755288292080698,
          1.682994955054318,
          null,
          0.5755288292080698,
          1.1700083635469716,
          null,
          0.5755288292080698,
          0.5768419882003124,
          null,
          0.5755288292080698,
          0.9127476114535893,
          null,
          -2.8157498322957224,
          -3.0420768672508913,
          null,
          -2.8157498322957224,
          -3.5770764618929602,
          null,
          -2.8157498322957224,
          -3.0821045408875323,
          null,
          -2.8157498322957224,
          -3.393269356971824,
          null,
          -4.050590332210306,
          -3.0420768672508913,
          null,
          -3.0420768672508913,
          -3.5770764618929602,
          null,
          1.3653685412332015,
          2.262858054238828,
          null,
          1.3653685412332015,
          0.7976091826440795,
          null,
          1.3653685412332015,
          0.8812911419462025,
          null,
          1.3653685412332015,
          1.9091089886522128,
          null,
          2.262858054238828,
          2.7097705802672274,
          null,
          2.262858054238828,
          1.9091089886522128,
          null,
          -2.416891173779435,
          -1.755438224796266,
          null,
          -1.755438224796266,
          -1.4714076343788807,
          null,
          2.7097705802672274,
          3.3469716377471603,
          null,
          3.3469716377471603,
          4.106356906671475,
          null,
          3.3469716377471603,
          4.224526666984982,
          null,
          3.3469716377471603,
          3.8023645115499947,
          null,
          4.106356906671475,
          4.224526666984982,
          null,
          4.106356906671475,
          5.057368332528563,
          null,
          1.1700083635469716,
          0.5768419882003124,
          null,
          1.1700083635469716,
          0.9127476114535893,
          null,
          4.848594597128896,
          5.753655010684706,
          null,
          4.848594597128896,
          4.187143082478826,
          null,
          -0.4270958638288385,
          0.12525052587435515,
          null,
          -0.4270958638288385,
          0.598414282162793,
          null,
          3.951110680509135,
          3.3555905568430693,
          null,
          0.7976091826440795,
          0.8812911419462025,
          null,
          -9.380222343051738,
          -8.853248912797643,
          null,
          -8.826183827985664,
          -9.32737002279371,
          null,
          -7.2081913106744295,
          -8.189369561954948,
          null,
          -7.2081913106744295,
          -7.794638157327307,
          null,
          -7.2081913106744295,
          -7.994052707117933,
          null,
          -8.189369561954948,
          -7.794638157327307,
          null,
          -8.189369561954948,
          -7.994052707117933,
          null,
          -3.0821045408875323,
          -3.393269356971824,
          null,
          -7.794638157327307,
          -7.994052707117933,
          null,
          0.12525052587435515,
          0.598414282162793,
          null
         ],
         "y": [
          1.184161939344752,
          0.42189927925292353,
          null,
          1.184161939344752,
          1.6617177292768568,
          null,
          1.184161939344752,
          2.3739286065274747,
          null,
          1.184161939344752,
          1.86247241578869,
          null,
          1.184161939344752,
          1.3016334124443816,
          null,
          1.184161939344752,
          0.6693078279097746,
          null,
          1.184161939344752,
          0.9397715874364649,
          null,
          1.184161939344752,
          0.001224870075344553,
          null,
          0.42189927925292353,
          1.6617177292768568,
          null,
          0.42189927925292353,
          0.6693078279097746,
          null,
          0.42189927925292353,
          0.9397715874364649,
          null,
          0.42189927925292353,
          0.2522182237617278,
          null,
          0.42189927925292353,
          0.001224870075344553,
          null,
          0.42189927925292353,
          -0.34150187889417305,
          null,
          0.42189927925292353,
          -0.6888557589046919,
          null,
          0.42189927925292353,
          -0.7768892011423926,
          null,
          1.6617177292768568,
          2.3739286065274747,
          null,
          1.6617177292768568,
          1.86247241578869,
          null,
          1.6617177292768568,
          2.9283761310780245,
          null,
          1.6617177292768568,
          2.1635251641549558,
          null,
          1.6617177292768568,
          0.9397715874364649,
          null,
          1.6617177292768568,
          1.4843049019925085,
          null,
          2.3739286065274747,
          1.86247241578869,
          null,
          2.3739286065274747,
          2.492783558414266,
          null,
          2.3739286065274747,
          2.9283761310780245,
          null,
          2.3739286065274747,
          2.1635251641549558,
          null,
          2.3739286065274747,
          3.6172209746009067,
          null,
          2.3739286065274747,
          3.071381478948909,
          null,
          1.86247241578869,
          1.3016334124443816,
          null,
          1.86247241578869,
          0.6693078279097746,
          null,
          1.86247241578869,
          2.492783558414266,
          null,
          1.86247241578869,
          1.952935486428593,
          null,
          1.86247241578869,
          3.071381478948909,
          null,
          1.3016334124443816,
          0.6693078279097746,
          null,
          1.3016334124443816,
          2.492783558414266,
          null,
          1.3016334124443816,
          1.952935486428593,
          null,
          1.3016334124443816,
          0.11208380615954011,
          null,
          1.3016334124443816,
          0.9894530062525705,
          null,
          1.3016334124443816,
          0.7650143905347145,
          null,
          0.6693078279097746,
          0.11208380615954011,
          null,
          0.6693078279097746,
          0.001224870075344553,
          null,
          0.6693078279097746,
          0.7650143905347145,
          null,
          3.959206110116345,
          3.42005491844548,
          null,
          3.959206110116345,
          3.7922291221568236,
          null,
          3.959206110116345,
          3.295072092455769,
          null,
          3.959206110116345,
          4.466777022306482,
          null,
          3.959206110116345,
          2.738481600132786,
          null,
          3.959206110116345,
          4.624102628201184,
          null,
          3.959206110116345,
          4.183352203978333,
          null,
          3.959206110116345,
          5.1193399314211145,
          null,
          3.42005491844548,
          2.9283761310780245,
          null,
          3.42005491844548,
          2.1635251641549558,
          null,
          3.42005491844548,
          3.6172209746009067,
          null,
          3.42005491844548,
          3.295072092455769,
          null,
          3.42005491844548,
          2.738481600132786,
          null,
          3.42005491844548,
          4.624102628201184,
          null,
          3.42005491844548,
          4.183352203978333,
          null,
          2.492783558414266,
          1.952935486428593,
          null,
          2.492783558414266,
          3.7265359056645804,
          null,
          2.492783558414266,
          3.1695321303804245,
          null,
          2.492783558414266,
          3.071381478948909,
          null,
          2.492783558414266,
          2.701843176220692,
          null,
          1.952935486428593,
          3.1695321303804245,
          null,
          1.952935486428593,
          2.701843176220692,
          null,
          1.952935486428593,
          2.1796996617532365,
          null,
          1.952935486428593,
          0.9894530062525705,
          null,
          1.952935486428593,
          0.7650143905347145,
          null,
          1.952935486428593,
          1.73124244548441,
          null,
          2.9283761310780245,
          2.1635251641549558,
          null,
          2.9283761310780245,
          3.6172209746009067,
          null,
          2.9283761310780245,
          3.071381478948909,
          null,
          2.9283761310780245,
          2.738481600132786,
          null,
          2.9283761310780245,
          4.183352203978333,
          null,
          2.1635251641549558,
          0.9397715874364649,
          null,
          2.1635251641549558,
          1.4843049019925085,
          null,
          2.1635251641549558,
          2.738481600132786,
          null,
          2.1635251641549558,
          2.034426974593821,
          null,
          -6.333456645430036,
          -6.977140372111743,
          null,
          -6.333456645430036,
          -6.024860794138293,
          null,
          1.3213045516439301,
          0.5971974109062762,
          null,
          1.3213045516439301,
          2.5701225744273613,
          null,
          1.3213045516439301,
          1.4843049019925085,
          null,
          1.3213045516439301,
          0.8126120982532217,
          null,
          1.3213045516439301,
          2.034426974593821,
          null,
          1.3213045516439301,
          0.09016843381265308,
          null,
          1.3213045516439301,
          1.887313013838989,
          null,
          1.3213045516439301,
          1.2256304260652309,
          null,
          0.5971974109062762,
          0.8126120982532217,
          null,
          0.5971974109062762,
          0.09016843381265308,
          null,
          0.5971974109062762,
          1.887313013838989,
          null,
          0.5971974109062762,
          1.2256304260652309,
          null,
          0.5971974109062762,
          -0.4497215795712788,
          null,
          0.5971974109062762,
          -0.5815332969418869,
          null,
          0.5971974109062762,
          0.1795167972299494,
          null,
          0.5971974109062762,
          0.543481717421512,
          null,
          3.7265359056645804,
          3.1695321303804245,
          null,
          3.7265359056645804,
          3.6172209746009067,
          null,
          3.7265359056645804,
          4.924801849242065,
          null,
          3.7265359056645804,
          4.313978356702513,
          null,
          3.7265359056645804,
          3.071381478948909,
          null,
          3.7265359056645804,
          4.410915975503451,
          null,
          3.7265359056645804,
          3.862803289840741,
          null,
          3.1695321303804245,
          3.071381478948909,
          null,
          3.1695321303804245,
          4.410915975503451,
          null,
          3.1695321303804245,
          3.862803289840741,
          null,
          3.1695321303804245,
          2.701843176220692,
          null,
          3.1695321303804245,
          3.2886398966394355,
          null,
          0.11208380615954011,
          0.7650143905347145,
          null,
          3.6172209746009067,
          4.8346731773308536,
          null,
          3.6172209746009067,
          4.313978356702513,
          null,
          3.6172209746009067,
          3.071381478948909,
          null,
          3.6172209746009067,
          4.183352203978333,
          null,
          5.610415895854559,
          4.924801849242065,
          null,
          5.610415895854559,
          4.8346731773308536,
          null,
          5.610415895854559,
          4.313978356702513,
          null,
          5.610415895854559,
          5.356615923405598,
          null,
          5.610415895854559,
          6.719547702416279,
          null,
          5.610415895854559,
          6.0943690351719315,
          null,
          5.610415895854559,
          5.60536207835381,
          null,
          5.610415895854559,
          5.956729566426476,
          null,
          5.610415895854559,
          6.700292435440088,
          null,
          5.610415895854559,
          6.715833394082446,
          null,
          4.924801849242065,
          4.8346731773308536,
          null,
          4.924801849242065,
          4.313978356702513,
          null,
          4.924801849242065,
          4.410915975503451,
          null,
          4.924801849242065,
          6.0943690351719315,
          null,
          4.924801849242065,
          5.60536207835381,
          null,
          4.924801849242065,
          5.121124285553786,
          null,
          4.8346731773308536,
          4.313978356702513,
          null,
          4.8346731773308536,
          5.356615923405598,
          null,
          4.8346731773308536,
          4.624102628201184,
          null,
          4.8346731773308536,
          4.183352203978333,
          null,
          4.8346731773308536,
          5.956729566426476,
          null,
          4.313978356702513,
          3.071381478948909,
          null,
          4.313978356702513,
          4.410915975503451,
          null,
          4.313978356702513,
          4.183352203978333,
          null,
          0.9397715874364649,
          0.2522182237617278,
          null,
          0.9397715874364649,
          1.4843049019925085,
          null,
          0.9397715874364649,
          0.8126120982532217,
          null,
          0.9397715874364649,
          -0.34150187889417305,
          null,
          0.2522182237617278,
          1.4843049019925085,
          null,
          0.2522182237617278,
          0.8126120982532217,
          null,
          0.2522182237617278,
          0.09016843381265308,
          null,
          0.2522182237617278,
          -0.4418520445178793,
          null,
          0.2522182237617278,
          -0.9895821454578798,
          null,
          0.2522182237617278,
          -0.34150187889417305,
          null,
          3.7922291221568236,
          3.295072092455769,
          null,
          3.7922291221568236,
          3.1247639796328115,
          null,
          3.7922291221568236,
          2.5701225744273613,
          null,
          3.7922291221568236,
          4.466777022306482,
          null,
          3.295072092455769,
          3.1247639796328115,
          null,
          3.295072092455769,
          2.5701225744273613,
          null,
          3.295072092455769,
          4.466777022306482,
          null,
          3.295072092455769,
          2.738481600132786,
          null,
          3.295072092455769,
          2.034426974593821,
          null,
          3.1247639796328115,
          2.5701225744273613,
          null,
          3.1247639796328115,
          1.887313013838989,
          null,
          3.1247639796328115,
          2.495936259298495,
          null,
          2.5701225744273613,
          2.738481600132786,
          null,
          2.5701225744273613,
          2.034426974593821,
          null,
          2.5701225744273613,
          1.887313013838989,
          null,
          2.5701225744273613,
          2.495936259298495,
          null,
          7.6640543888898485,
          8.349742486203521,
          null,
          2.5807013540313806,
          3.02600665395188,
          null,
          2.5807013540313806,
          3.774848120393341,
          null,
          2.5807013540313806,
          3.3097850280658756,
          null,
          3.02600665395188,
          3.774848120393341,
          null,
          3.02600665395188,
          3.3097850280658756,
          null,
          4.410915975503451,
          3.862803289840741,
          null,
          4.410915975503451,
          5.60536207835381,
          null,
          4.410915975503451,
          5.121124285553786,
          null,
          4.410915975503451,
          4.9733872044942835,
          null,
          4.410915975503451,
          4.504901653439961,
          null,
          4.410915975503451,
          4.696550489370113,
          null,
          3.862803289840741,
          2.701843176220692,
          null,
          3.862803289840741,
          5.121124285553786,
          null,
          3.862803289840741,
          3.2886398966394355,
          null,
          3.862803289840741,
          4.9733872044942835,
          null,
          3.862803289840741,
          4.696550489370113,
          null,
          4.466777022306482,
          4.624102628201184,
          null,
          4.466777022306482,
          5.1193399314211145,
          null,
          1.4843049019925085,
          2.738481600132786,
          null,
          1.4843049019925085,
          0.8126120982532217,
          null,
          1.4843049019925085,
          2.034426974593821,
          null,
          2.738481600132786,
          2.034426974593821,
          null,
          0.8126120982532217,
          2.034426974593821,
          null,
          0.8126120982532217,
          0.09016843381265308,
          null,
          0.8126120982532217,
          -0.4418520445178793,
          null,
          2.701843176220692,
          2.1796996617532365,
          null,
          2.701843176220692,
          3.2886398966394355,
          null,
          2.701843176220692,
          1.73124244548441,
          null,
          2.1796996617532365,
          1.73124244548441,
          null,
          2.034426974593821,
          1.887313013838989,
          null,
          -4.944529929303324,
          -3.954328276523996,
          null,
          -4.944529929303324,
          -5.6302945745099,
          null,
          0.001224870075344553,
          -0.34150187889417305,
          null,
          0.001224870075344553,
          -0.6888557589046919,
          null,
          0.001224870075344553,
          -0.7768892011423926,
          null,
          0.09016843381265308,
          -0.4418520445178793,
          null,
          0.09016843381265308,
          -0.4497215795712788,
          null,
          0.09016843381265308,
          -0.5815332969418869,
          null,
          0.09016843381265308,
          -1.1622006407343461,
          null,
          -0.4418520445178793,
          -0.9895821454578798,
          null,
          -0.4418520445178793,
          -0.34150187889417305,
          null,
          -0.4418520445178793,
          -0.5815332969418869,
          null,
          -0.4418520445178793,
          -1.1622006407343461,
          null,
          5.356615923405598,
          4.624102628201184,
          null,
          5.356615923405598,
          4.183352203978333,
          null,
          5.356615923405598,
          5.956729566426476,
          null,
          5.356615923405598,
          6.46700400953539,
          null,
          4.624102628201184,
          4.183352203978333,
          null,
          4.624102628201184,
          5.1193399314211145,
          null,
          1.887313013838989,
          1.2256304260652309,
          null,
          1.887313013838989,
          2.495936259298495,
          null,
          1.887313013838989,
          1.8076431501108272,
          null,
          -6.974180178530656,
          -7.7749365091952125,
          null,
          -6.974180178530656,
          -7.082460194332136,
          null,
          -6.974180178530656,
          -7.506943769453173,
          null,
          -0.9895821454578798,
          -0.34150187889417305,
          null,
          -0.9895821454578798,
          -0.7768892011423926,
          null,
          -0.9895821454578798,
          -1.535310722814617,
          null,
          -0.9895821454578798,
          -1.566179358896533,
          null,
          -0.34150187889417305,
          -0.6888557589046919,
          null,
          -0.34150187889417305,
          -0.7768892011423926,
          null,
          -0.34150187889417305,
          -1.535310722814617,
          null,
          -0.34150187889417305,
          -1.566179358896533,
          null,
          1.2256304260652309,
          2.495936259298495,
          null,
          1.2256304260652309,
          1.8076431501108272,
          null,
          1.2256304260652309,
          0.1795167972299494,
          null,
          1.2256304260652309,
          0.543481717421512,
          null,
          3.0481543168767944,
          2.495936259298495,
          null,
          2.495936259298495,
          1.8076431501108272,
          null,
          6.719547702416279,
          6.0943690351719315,
          null,
          6.719547702416279,
          5.956729566426476,
          null,
          6.719547702416279,
          6.700292435440088,
          null,
          6.719547702416279,
          6.715833394082446,
          null,
          6.0943690351719315,
          5.60536207835381,
          null,
          6.0943690351719315,
          6.715833394082446,
          null,
          -0.4497215795712788,
          -0.5815332969418869,
          null,
          -0.5815332969418869,
          -1.1622006407343461,
          null,
          5.60536207835381,
          5.121124285553786,
          null,
          5.121124285553786,
          4.9733872044942835,
          null,
          5.121124285553786,
          4.504901653439961,
          null,
          5.121124285553786,
          4.696550489370113,
          null,
          4.9733872044942835,
          4.504901653439961,
          null,
          4.9733872044942835,
          5.4296767067000795,
          null,
          -0.7768892011423926,
          -1.535310722814617,
          null,
          -0.7768892011423926,
          -1.566179358896533,
          null,
          -5.450223780525313,
          -4.975766105063439,
          null,
          -5.450223780525313,
          -5.885001681340755,
          null,
          -7.7749365091952125,
          -7.082460194332136,
          null,
          -7.7749365091952125,
          -7.506943769453173,
          null,
          0.9894530062525705,
          0.7650143905347145,
          null,
          5.956729566426476,
          6.700292435440088,
          null,
          0.05638785548461728,
          -0.5739771086957871,
          null,
          3.774848120393341,
          3.3097850280658756,
          null,
          -2.865456038928163,
          -2.7922013617947545,
          null,
          -2.865456038928163,
          -2.211209718002631,
          null,
          -2.865456038928163,
          -3.489919459235512,
          null,
          -2.7922013617947545,
          -2.211209718002631,
          null,
          -2.7922013617947545,
          -3.489919459235512,
          null,
          0.1795167972299494,
          0.543481717421512,
          null,
          -2.211209718002631,
          -3.489919459235512,
          null,
          -7.082460194332136,
          -7.506943769453173,
          null
         ]
        },
        {
         "hoverinfo": "text",
         "hovertext": [
          "Node ID: 0<br>Pullback set label: 44<br>Partial cluster label: 0<br>Node size: 1397<br>Summary statistic: 12700.0",
          "Node ID: 1<br>Pullback set label: 54<br>Partial cluster label: 0<br>Node size: 737<br>Summary statistic: 11900.0",
          "Node ID: 2<br>Pullback set label: 43<br>Partial cluster label: 0<br>Node size: 1743<br>Summary statistic: 12300.0",
          "Node ID: 3<br>Pullback set label: 81<br>Partial cluster label: 0<br>Node size: 419<br>Summary statistic: 12200.0",
          "Node ID: 4<br>Pullback set label: 33<br>Partial cluster label: 0<br>Node size: 2009<br>Summary statistic: 12700.0",
          "Node ID: 5<br>Pullback set label: 34<br>Partial cluster label: 0<br>Node size: 1605<br>Summary statistic: 13200.0",
          "Node ID: 6<br>Pullback set label: 35<br>Partial cluster label: 0<br>Node size: 860<br>Summary statistic: 13100.0",
          "Node ID: 7<br>Pullback set label: 45<br>Partial cluster label: 0<br>Node size: 747<br>Summary statistic: 13400.0",
          "Node ID: 8<br>Pullback set label: 30<br>Partial cluster label: 0<br>Node size: 1039<br>Summary statistic: 13100.0",
          "Node ID: 9<br>Pullback set label: 31<br>Partial cluster label: 0<br>Node size: 1524<br>Summary statistic: 12900.0",
          "Node ID: 10<br>Pullback set label: 26<br>Partial cluster label: 0<br>Node size: 1491<br>Summary statistic: 13000.0",
          "Node ID: 11<br>Pullback set label: 27<br>Partial cluster label: 0<br>Node size: 709<br>Summary statistic: 13000.0",
          "Node ID: 12<br>Pullback set label: 32<br>Partial cluster label: 0<br>Node size: 1828<br>Summary statistic: 12700.0",
          "Node ID: 13<br>Pullback set label: 42<br>Partial cluster label: 0<br>Node size: 1595<br>Summary statistic: 12500.0",
          "Node ID: 14<br>Pullback set label: 68<br>Partial cluster label: 0<br>Node size: 201<br>Summary statistic: 12300.0",
          "Node ID: 15<br>Pullback set label: 76<br>Partial cluster label: 0<br>Node size: 190<br>Summary statistic: 12300.0",
          "Node ID: 16<br>Pullback set label: 61<br>Partial cluster label: 0<br>Node size: 935<br>Summary statistic: 12600.0",
          "Node ID: 17<br>Pullback set label: 71<br>Partial cluster label: 0<br>Node size: 638<br>Summary statistic: 13100.0",
          "Node ID: 18<br>Pullback set label: 17<br>Partial cluster label: 0<br>Node size: 1504<br>Summary statistic: 12700.0",
          "Node ID: 19<br>Pullback set label: 18<br>Partial cluster label: 0<br>Node size: 986<br>Summary statistic: 13000.0",
          "Node ID: 20<br>Pullback set label: 46<br>Partial cluster label: 0<br>Node size: 45<br>Summary statistic: 13200.0",
          "Node ID: 21<br>Pullback set label: 24<br>Partial cluster label: 0<br>Node size: 1911<br>Summary statistic: 12900.0",
          "Node ID: 22<br>Pullback set label: 8<br>Partial cluster label: 0<br>Node size: 781<br>Summary statistic: 13200.0",
          "Node ID: 23<br>Pullback set label: 9<br>Partial cluster label: 0<br>Node size: 1123<br>Summary statistic: 12900.0",
          "Node ID: 24<br>Pullback set label: 15<br>Partial cluster label: 0<br>Node size: 1463<br>Summary statistic: 13500.0",
          "Node ID: 25<br>Pullback set label: 16<br>Partial cluster label: 0<br>Node size: 1718<br>Summary statistic: 13000.0",
          "Node ID: 26<br>Pullback set label: 25<br>Partial cluster label: 0<br>Node size: 1808<br>Summary statistic: 12600.0",
          "Node ID: 27<br>Pullback set label: 53<br>Partial cluster label: 0<br>Node size: 1375<br>Summary statistic: 12400.0",
          "Node ID: 28<br>Pullback set label: 63<br>Partial cluster label: 0<br>Node size: 945<br>Summary statistic: 12600.0",
          "Node ID: 29<br>Pullback set label: 39<br>Partial cluster label: 0<br>Node size: 317<br>Summary statistic: 12400.0",
          "Node ID: 30<br>Pullback set label: 40<br>Partial cluster label: 0<br>Node size: 1213<br>Summary statistic: 12900.0",
          "Node ID: 31<br>Pullback set label: 49<br>Partial cluster label: 0<br>Node size: 214<br>Summary statistic: 13400.0",
          "Node ID: 32<br>Pullback set label: 50<br>Partial cluster label: 0<br>Node size: 634<br>Summary statistic: 13400.0",
          "Node ID: 33<br>Pullback set label: 2<br>Partial cluster label: 0<br>Node size: 30<br>Summary statistic: 13000.0",
          "Node ID: 34<br>Pullback set label: 3<br>Partial cluster label: 0<br>Node size: 30<br>Summary statistic: 13000.0",
          "Node ID: 35<br>Pullback set label: 48<br>Partial cluster label: 0<br>Node size: 102<br>Summary statistic: 13000.0",
          "Node ID: 36<br>Pullback set label: 58<br>Partial cluster label: 0<br>Node size: 31<br>Summary statistic: 11500.0",
          "Node ID: 37<br>Pullback set label: 10<br>Partial cluster label: 0<br>Node size: 821<br>Summary statistic: 13000.0",
          "Node ID: 38<br>Pullback set label: 11<br>Partial cluster label: 0<br>Node size: 351<br>Summary statistic: 12600.0",
          "Node ID: 39<br>Pullback set label: 29<br>Partial cluster label: 0<br>Node size: 320<br>Summary statistic: 12900.0",
          "Node ID: 40<br>Pullback set label: 52<br>Partial cluster label: 0<br>Node size: 1431<br>Summary statistic: 13000.0",
          "Node ID: 41<br>Pullback set label: 41<br>Partial cluster label: 0<br>Node size: 1525<br>Summary statistic: 12400.0",
          "Node ID: 42<br>Pullback set label: 62<br>Partial cluster label: 0<br>Node size: 1104<br>Summary statistic: 12800.0",
          "Node ID: 43<br>Pullback set label: 19<br>Partial cluster label: 0<br>Node size: 392<br>Summary statistic: 13000.0",
          "Node ID: 44<br>Pullback set label: 20<br>Partial cluster label: -1<br>Node size: 9<br>Summary statistic: 13900.0",
          "Node ID: 45<br>Pullback set label: 51<br>Partial cluster label: 0<br>Node size: 1121<br>Summary statistic: 12700.0",
          "Node ID: 46<br>Pullback set label: 38<br>Partial cluster label: 0<br>Node size: 195<br>Summary statistic: 12000.0",
          "Node ID: 47<br>Pullback set label: 55<br>Partial cluster label: 0<br>Node size: 277<br>Summary statistic: 12400.0",
          "Node ID: 48<br>Pullback set label: 72<br>Partial cluster label: 0<br>Node size: 521<br>Summary statistic: 12800.0",
          "Node ID: 49<br>Pullback set label: 73<br>Partial cluster label: 0<br>Node size: 409<br>Summary statistic: 12400.0",
          "Node ID: 50<br>Pullback set label: 14<br>Partial cluster label: 0<br>Node size: 692<br>Summary statistic: 13200.0",
          "Node ID: 51<br>Pullback set label: 22<br>Partial cluster label: 0<br>Node size: 811<br>Summary statistic: 12700.0",
          "Node ID: 52<br>Pullback set label: 23<br>Partial cluster label: 0<br>Node size: 1523<br>Summary statistic: 13000.0",
          "Node ID: 53<br>Pullback set label: 60<br>Partial cluster label: 0<br>Node size: 642<br>Summary statistic: 12800.0",
          "Node ID: 54<br>Pullback set label: 48<br>Partial cluster label: -1<br>Node size: 7<br>Summary statistic: 9960.0",
          "Node ID: 55<br>Pullback set label: 47<br>Partial cluster label: 0<br>Node size: 127<br>Summary statistic: 13000.0",
          "Node ID: 56<br>Pullback set label: 74<br>Partial cluster label: 0<br>Node size: 201<br>Summary statistic: 12600.0",
          "Node ID: 57<br>Pullback set label: 64<br>Partial cluster label: 0<br>Node size: 484<br>Summary statistic: 12200.0",
          "Node ID: 58<br>Pullback set label: 65<br>Partial cluster label: -1<br>Node size: 10<br>Summary statistic: 11100.0",
          "Node ID: 59<br>Pullback set label: 70<br>Partial cluster label: 0<br>Node size: 399<br>Summary statistic: 12800.0",
          "Node ID: 60<br>Pullback set label: 58<br>Partial cluster label: 1<br>Node size: 35<br>Summary statistic: 11600.0",
          "Node ID: 61<br>Pullback set label: 59<br>Partial cluster label: 0<br>Node size: 253<br>Summary statistic: 12800.0",
          "Node ID: 62<br>Pullback set label: 0<br>Partial cluster label: -1<br>Node size: 25<br>Summary statistic: 11100.0",
          "Node ID: 63<br>Pullback set label: 1<br>Partial cluster label: 0<br>Node size: 228<br>Summary statistic: 12200.0",
          "Node ID: 64<br>Pullback set label: 78<br>Partial cluster label: 0<br>Node size: 157<br>Summary statistic: 13600.0",
          "Node ID: 65<br>Pullback set label: 79<br>Partial cluster label: 0<br>Node size: 171<br>Summary statistic: 13100.0",
          "Node ID: 66<br>Pullback set label: 2<br>Partial cluster label: 1<br>Node size: 282<br>Summary statistic: 13100.0",
          "Node ID: 67<br>Pullback set label: 3<br>Partial cluster label: 1<br>Node size: 182<br>Summary statistic: 13100.0",
          "Node ID: 68<br>Pullback set label: 69<br>Partial cluster label: 0<br>Node size: 71<br>Summary statistic: 12700.0",
          "Node ID: 69<br>Pullback set label: 21<br>Partial cluster label: 0<br>Node size: 149<br>Summary statistic: 12800.0",
          "Node ID: 70<br>Pullback set label: 80<br>Partial cluster label: 0<br>Node size: 50<br>Summary statistic: 13000.0",
          "Node ID: 71<br>Pullback set label: 12<br>Partial cluster label: 0<br>Node size: 46<br>Summary statistic: 12700.0",
          "Node ID: 72<br>Pullback set label: 4<br>Partial cluster label: 0<br>Node size: 107<br>Summary statistic: 12400.0",
          "Node ID: 73<br>Pullback set label: 65<br>Partial cluster label: 0<br>Node size: 95<br>Summary statistic: 13600.0",
          "Node ID: 74<br>Pullback set label: 75<br>Partial cluster label: -1<br>Node size: 1<br>Summary statistic: 279.0",
          "Node ID: 75<br>Pullback set label: 75<br>Partial cluster label: 0<br>Node size: 52<br>Summary statistic: 12300.0",
          "Node ID: 76<br>Pullback set label: 5<br>Partial cluster label: 0<br>Node size: 59<br>Summary statistic: 12600.0",
          "Node ID: 77<br>Pullback set label: 6<br>Partial cluster label: 0<br>Node size: 40<br>Summary statistic: 12600.0",
          "Node ID: 78<br>Pullback set label: 46<br>Partial cluster label: 1<br>Node size: 38<br>Summary statistic: 13500.0",
          "Node ID: 79<br>Pullback set label: 28<br>Partial cluster label: 0<br>Node size: 31<br>Summary statistic: 10900.0",
          "Node ID: 80<br>Pullback set label: 36<br>Partial cluster label: 0<br>Node size: 91<br>Summary statistic: 11600.0",
          "Node ID: 81<br>Pullback set label: 7<br>Partial cluster label: 0<br>Node size: 238<br>Summary statistic: 14300.0",
          "Node ID: 82<br>Pullback set label: 57<br>Partial cluster label: 0<br>Node size: 80<br>Summary statistic: 13600.0",
          "Node ID: 83<br>Pullback set label: 67<br>Partial cluster label: -1<br>Node size: 4<br>Summary statistic: 12500.0",
          "Node ID: 84<br>Pullback set label: 49<br>Partial cluster label: -1<br>Node size: 3<br>Summary statistic: 11600.0",
          "Node ID: 85<br>Pullback set label: 56<br>Partial cluster label: 0<br>Node size: 51<br>Summary statistic: 12700.0",
          "Node ID: 86<br>Pullback set label: 57<br>Partial cluster label: 1<br>Node size: 51<br>Summary statistic: 12800.0",
          "Node ID: 87<br>Pullback set label: 77<br>Partial cluster label: -1<br>Node size: 16<br>Summary statistic: 9990.0",
          "Node ID: 88<br>Pullback set label: 78<br>Partial cluster label: -1<br>Node size: 11<br>Summary statistic: 11400.0",
          "Node ID: 89<br>Pullback set label: 66<br>Partial cluster label: 0<br>Node size: 46<br>Summary statistic: 13200.0",
          "Node ID: 90<br>Pullback set label: 67<br>Partial cluster label: 0<br>Node size: 47<br>Summary statistic: 13300.0",
          "Node ID: 91<br>Pullback set label: 11<br>Partial cluster label: -1<br>Node size: 2<br>Summary statistic: 4610.0",
          "Node ID: 92<br>Pullback set label: 69<br>Partial cluster label: -1<br>Node size: 1<br>Summary statistic: 3420.0",
          "Node ID: 93<br>Pullback set label: 3<br>Partial cluster label: -1<br>Node size: 5<br>Summary statistic: 10000.0",
          "Node ID: 94<br>Pullback set label: 13<br>Partial cluster label: -1<br>Node size: 8<br>Summary statistic: 15000.0",
          "Node ID: 95<br>Pullback set label: 37<br>Partial cluster label: -1<br>Node size: 2<br>Summary statistic: 11000.0",
          "Node ID: 96<br>Pullback set label: 39<br>Partial cluster label: -1<br>Node size: 1<br>Summary statistic: 6930.0",
          "Node ID: 97<br>Pullback set label: 1<br>Partial cluster label: -1<br>Node size: 1<br>Summary statistic: 8650.0",
          "Node ID: 98<br>Pullback set label: 7<br>Partial cluster label: -1<br>Node size: 1<br>Summary statistic: 13400.0",
          "Node ID: 99<br>Pullback set label: 4<br>Partial cluster label: -1<br>Node size: 4<br>Summary statistic: 17800.0",
          "Node ID: 100<br>Pullback set label: 28<br>Partial cluster label: -1<br>Node size: 2<br>Summary statistic: 20200.0",
          "Node ID: 101<br>Pullback set label: 12<br>Partial cluster label: -1<br>Node size: 1<br>Summary statistic: 15300.0",
          "Node ID: 102<br>Pullback set label: 36<br>Partial cluster label: -1<br>Node size: 1<br>Summary statistic: 15500.0",
          "Node ID: 103<br>Pullback set label: 59<br>Partial cluster label: -1<br>Node size: 1<br>Summary statistic: 21600.0"
         ],
         "marker": {
          "color": [
           12728.828919112384,
           11903.702849389416,
           12294.19736087206,
           12231.494033412888,
           12728.1931309109,
           13179.614953271028,
           13146.94534883721,
           13422.863453815262,
           13091.314725697786,
           12858.574146981628,
           13042.551978537895,
           12952.211565585332,
           12738.420131291028,
           12454.563636363637,
           12348.47263681592,
           12336.615789473684,
           12632.012834224599,
           13063.60971786834,
           12662.109707446809,
           13038.866125760649,
           13240.888888888889,
           12892.106750392464,
           13181.513444302176,
           12925.514692787177,
           13519.394395078605,
           12984.591385331782,
           12627.787610619469,
           12365.265454545455,
           12629.319576719578,
           12378.119873817035,
           12942.588623248144,
           13385.289719626167,
           13384.649842271294,
           13042.533333333333,
           13042.533333333333,
           13037.058823529413,
           11487.741935483871,
           13011.411693057247,
           12613.20227920228,
           12917.278125,
           13026.850454227813,
           12388.711475409837,
           12823.63134057971,
           12996.834183673469,
           13926.111111111111,
           12691.132917038358,
           12046.502564102564,
           12369.646209386281,
           12804.236084452976,
           12377.694376528118,
           13185.307803468208,
           12708.36251541307,
           12975.76231122784,
           12777.211838006231,
           9959.57142857143,
           12982.653543307086,
           12620.73631840796,
           12181.613636363636,
           11054.7,
           12763.817042606517,
           11554.657142857142,
           12756.142292490118,
           11096.96,
           12204.899122807017,
           13562.184713375796,
           13139.526315789473,
           13138.921985815603,
           13117.054945054944,
           12700.577464788732,
           12759.838926174496,
           13047.96,
           12659.152173913044,
           12424.214953271028,
           13595.652631578947,
           279,
           12340.807692307691,
           12638.93220338983,
           12594.85,
           13467.052631578947,
           10938.354838709678,
           11570.846153846154,
           14266.197478991597,
           13579.2125,
           12520,
           11563.666666666666,
           12722.35294117647,
           12811.35294117647,
           9993.25,
           11362.272727272728,
           13193.91304347826,
           13268.936170212766,
           4611.5,
           3423,
           10002.6,
           14952.375,
           11027.5,
           6933,
           8653,
           13382,
           17804.75,
           20178,
           15257,
           15494,
           21602
          ],
          "colorbar": {
           "thickness": 15,
           "title": {
            "side": "right",
            "text": ""
           },
           "xanchor": "left"
          },
          "colorscale": [
           [
            0,
            "#440154"
           ],
           [
            0.1111111111111111,
            "#482878"
           ],
           [
            0.2222222222222222,
            "#3e4989"
           ],
           [
            0.3333333333333333,
            "#31688e"
           ],
           [
            0.4444444444444444,
            "#26828e"
           ],
           [
            0.5555555555555556,
            "#1f9e89"
           ],
           [
            0.6666666666666666,
            "#35b779"
           ],
           [
            0.7777777777777778,
            "#6ece58"
           ],
           [
            0.8888888888888888,
            "#b5de2b"
           ],
           [
            1,
            "#fde725"
           ]
          ],
          "line": {
           "color": "#888",
           "width": 1
          },
          "opacity": 1,
          "reversescale": false,
          "showscale": true,
          "size": [
           1397,
           737,
           1743,
           419,
           2009,
           1605,
           860,
           747,
           1039,
           1524,
           1491,
           709,
           1828,
           1595,
           201,
           190,
           935,
           638,
           1504,
           986,
           45,
           1911,
           781,
           1123,
           1463,
           1718,
           1808,
           1375,
           945,
           317,
           1213,
           214,
           634,
           30,
           30,
           102,
           31,
           821,
           351,
           320,
           1431,
           1525,
           1104,
           392,
           9,
           1121,
           195,
           277,
           521,
           409,
           692,
           811,
           1523,
           642,
           7,
           127,
           201,
           484,
           10,
           399,
           35,
           253,
           25,
           228,
           157,
           171,
           282,
           182,
           71,
           149,
           50,
           46,
           107,
           95,
           1,
           52,
           59,
           40,
           38,
           31,
           91,
           238,
           80,
           4,
           3,
           51,
           51,
           16,
           11,
           46,
           47,
           2,
           1,
           5,
           8,
           2,
           1,
           1,
           1,
           4,
           2,
           1,
           1,
           1
          ],
          "sizemin": 4,
          "sizemode": "area",
          "sizeref": 27.90277777777778
         },
         "mode": "markers",
         "name": "node_trace",
         "type": "scatter",
         "uid": "48d2ee66-2215-47df-862a-b02fc8a3b944",
         "x": [
          1.5499951184233025,
          1.0815333288329307,
          0.8247030797638369,
          0.837805218627088,
          1.3175880765213832,
          2.071982597759893,
          2.75623607565114,
          2.2555881733665903,
          -0.7165567036594894,
          -0.07587123881911624,
          2.5612819650164282,
          3.3314593197032853,
          0.5884918860213153,
          0.10774646918966167,
          -3.705993667104501,
          -3.1824062081722433,
          -1.6090911430754171,
          -2.116301594366763,
          2.3680616800655505,
          3.0622065321991583,
          3.2137724796862064,
          1.134308044463986,
          1.519915243863435,
          2.1858793437568864,
          0.9890625131061204,
          1.7364244776704132,
          1.8137158440039227,
          0.3451958872585451,
          -0.14739631984758786,
          -1.9043176996032942,
          -1.2892559006896198,
          -2.4757563751930522,
          -1.8084745892936245,
          -7.166107779798924,
          -6.321270579995906,
          -9.028577480030078,
          -8.4898295308762,
          2.9679717811299473,
          3.569968897380521,
          -1.4026842857100355,
          -0.39213496545340526,
          -0.6119543888998855,
          -0.910707328910102,
          3.752070015698711,
          4.571552725053844,
          -1.1152214141483063,
          -6.037693194563303,
          1.7276108218159394,
          -1.3551122768232189,
          -0.638561958487124,
          0.29662880138256525,
          -0.22112052489198938,
          0.5098134402021238,
          -2.327108268838766,
          -6.328759120003844,
          -0.49957787800297676,
          0.04773219192777706,
          0.5755288292080698,
          1.682994955054318,
          -2.8157498322957224,
          -4.050590332210306,
          -3.0420768672508913,
          1.3653685412332015,
          2.262858054238828,
          -2.416891173779435,
          -1.755438224796266,
          2.7097705802672274,
          3.3469716377471603,
          -3.5770764618929602,
          -1.1559438919149556,
          -1.4714076343788807,
          4.349787843019887,
          4.106356906671475,
          1.1700083635469716,
          0.5768419882003124,
          0.9127476114535893,
          4.848594597128896,
          5.753655010684706,
          -0.4270958638288385,
          3.951110680509135,
          3.3555905568430693,
          0.7976091826440795,
          -9.380222343051738,
          -8.853248912797643,
          -8.826183827985664,
          -7.2081913106744295,
          -8.189369561954948,
          -3.0821045408875323,
          -3.393269356971824,
          -7.794638157327307,
          -7.994052707117933,
          4.224526666984982,
          -4.655079482900079,
          5.057368332528563,
          -0.37550510372683266,
          0.12525052587435515,
          -5.467586012618778,
          0.8812911419462025,
          1.9091089886522128,
          3.8023645115499947,
          4.396662318845394,
          4.187143082478826,
          0.598414282162793,
          -9.32737002279371
         ],
         "y": [
          1.184161939344752,
          0.42189927925292353,
          1.6617177292768568,
          2.5916031937557897,
          2.3739286065274747,
          1.86247241578869,
          1.3016334124443816,
          0.6693078279097746,
          3.959206110116345,
          3.42005491844548,
          2.492783558414266,
          1.952935486428593,
          2.9283761310780245,
          2.1635251641549558,
          -6.333456645430036,
          -6.977140372111743,
          1.3213045516439301,
          0.5971974109062762,
          3.7265359056645804,
          3.1695321303804245,
          0.11208380615954011,
          3.6172209746009067,
          5.610415895854559,
          4.924801849242065,
          4.8346731773308536,
          4.313978356702513,
          3.071381478948909,
          0.9397715874364649,
          0.2522182237617278,
          3.7922291221568236,
          3.295072092455769,
          3.1247639796328115,
          2.5701225744273613,
          7.6640543888898485,
          8.349742486203521,
          2.5807013540313806,
          3.02600665395188,
          4.410915975503451,
          3.862803289840741,
          4.466777022306482,
          1.4843049019925085,
          2.738481600132786,
          0.8126120982532217,
          2.701843176220692,
          2.1796996617532365,
          2.034426974593821,
          -4.944529929303324,
          0.001224870075344553,
          0.09016843381265308,
          -0.4418520445178793,
          5.356615923405598,
          4.624102628201184,
          4.183352203978333,
          1.887313013838989,
          -3.954328276523996,
          -6.974180178530656,
          -0.9895821454578798,
          -0.34150187889417305,
          -0.6888557589046919,
          1.2256304260652309,
          3.0481543168767944,
          2.495936259298495,
          6.719547702416279,
          6.0943690351719315,
          -0.4497215795712788,
          -0.5815332969418869,
          5.60536207835381,
          5.121124285553786,
          1.8076431501108272,
          5.1193399314211145,
          -1.1622006407343461,
          3.2886398966394355,
          4.9733872044942835,
          -0.7768892011423926,
          -1.535310722814617,
          -1.566179358896533,
          -5.450223780525313,
          -4.975766105063439,
          -7.7749365091952125,
          0.9894530062525705,
          0.7650143905347145,
          5.956729566426476,
          0.05638785548461728,
          -0.5739771086957871,
          3.774848120393341,
          -2.865456038928163,
          -2.7922013617947545,
          0.1795167972299494,
          0.543481717421512,
          -2.211209718002631,
          -3.489919459235512,
          4.504901653439961,
          -6.024860794138293,
          5.4296767067000795,
          6.46700400953539,
          -7.082460194332136,
          -5.6302945745099,
          6.700292435440088,
          6.715833394082446,
          4.696550489370113,
          1.73124244548441,
          -5.885001681340755,
          -7.506943769453173,
          3.3097850280658756
         ]
        }
       ],
       "layout": {
        "autosize": false,
        "hovermode": "closest",
        "margin": {
         "b": 20,
         "l": 5,
         "r": 5,
         "t": 40
        },
        "showlegend": false,
        "template": {
         "data": {
          "bar": [
           {
            "error_x": {
             "color": "rgb(36,36,36)"
            },
            "error_y": {
             "color": "rgb(36,36,36)"
            },
            "marker": {
             "line": {
              "color": "white",
              "width": 0.5
             },
             "pattern": {
              "fillmode": "overlay",
              "size": 10,
              "solidity": 0.2
             }
            },
            "type": "bar"
           }
          ],
          "barpolar": [
           {
            "marker": {
             "line": {
              "color": "white",
              "width": 0.5
             },
             "pattern": {
              "fillmode": "overlay",
              "size": 10,
              "solidity": 0.2
             }
            },
            "type": "barpolar"
           }
          ],
          "carpet": [
           {
            "aaxis": {
             "endlinecolor": "rgb(36,36,36)",
             "gridcolor": "white",
             "linecolor": "white",
             "minorgridcolor": "white",
             "startlinecolor": "rgb(36,36,36)"
            },
            "baxis": {
             "endlinecolor": "rgb(36,36,36)",
             "gridcolor": "white",
             "linecolor": "white",
             "minorgridcolor": "white",
             "startlinecolor": "rgb(36,36,36)"
            },
            "type": "carpet"
           }
          ],
          "choropleth": [
           {
            "colorbar": {
             "outlinewidth": 1,
             "tickcolor": "rgb(36,36,36)",
             "ticks": "outside"
            },
            "type": "choropleth"
           }
          ],
          "contour": [
           {
            "colorbar": {
             "outlinewidth": 1,
             "tickcolor": "rgb(36,36,36)",
             "ticks": "outside"
            },
            "colorscale": [
             [
              0,
              "#440154"
             ],
             [
              0.1111111111111111,
              "#482878"
             ],
             [
              0.2222222222222222,
              "#3e4989"
             ],
             [
              0.3333333333333333,
              "#31688e"
             ],
             [
              0.4444444444444444,
              "#26828e"
             ],
             [
              0.5555555555555556,
              "#1f9e89"
             ],
             [
              0.6666666666666666,
              "#35b779"
             ],
             [
              0.7777777777777778,
              "#6ece58"
             ],
             [
              0.8888888888888888,
              "#b5de2b"
             ],
             [
              1,
              "#fde725"
             ]
            ],
            "type": "contour"
           }
          ],
          "contourcarpet": [
           {
            "colorbar": {
             "outlinewidth": 1,
             "tickcolor": "rgb(36,36,36)",
             "ticks": "outside"
            },
            "type": "contourcarpet"
           }
          ],
          "heatmap": [
           {
            "colorbar": {
             "outlinewidth": 1,
             "tickcolor": "rgb(36,36,36)",
             "ticks": "outside"
            },
            "colorscale": [
             [
              0,
              "#440154"
             ],
             [
              0.1111111111111111,
              "#482878"
             ],
             [
              0.2222222222222222,
              "#3e4989"
             ],
             [
              0.3333333333333333,
              "#31688e"
             ],
             [
              0.4444444444444444,
              "#26828e"
             ],
             [
              0.5555555555555556,
              "#1f9e89"
             ],
             [
              0.6666666666666666,
              "#35b779"
             ],
             [
              0.7777777777777778,
              "#6ece58"
             ],
             [
              0.8888888888888888,
              "#b5de2b"
             ],
             [
              1,
              "#fde725"
             ]
            ],
            "type": "heatmap"
           }
          ],
          "heatmapgl": [
           {
            "colorbar": {
             "outlinewidth": 1,
             "tickcolor": "rgb(36,36,36)",
             "ticks": "outside"
            },
            "colorscale": [
             [
              0,
              "#440154"
             ],
             [
              0.1111111111111111,
              "#482878"
             ],
             [
              0.2222222222222222,
              "#3e4989"
             ],
             [
              0.3333333333333333,
              "#31688e"
             ],
             [
              0.4444444444444444,
              "#26828e"
             ],
             [
              0.5555555555555556,
              "#1f9e89"
             ],
             [
              0.6666666666666666,
              "#35b779"
             ],
             [
              0.7777777777777778,
              "#6ece58"
             ],
             [
              0.8888888888888888,
              "#b5de2b"
             ],
             [
              1,
              "#fde725"
             ]
            ],
            "type": "heatmapgl"
           }
          ],
          "histogram": [
           {
            "marker": {
             "line": {
              "color": "white",
              "width": 0.6
             }
            },
            "type": "histogram"
           }
          ],
          "histogram2d": [
           {
            "colorbar": {
             "outlinewidth": 1,
             "tickcolor": "rgb(36,36,36)",
             "ticks": "outside"
            },
            "colorscale": [
             [
              0,
              "#440154"
             ],
             [
              0.1111111111111111,
              "#482878"
             ],
             [
              0.2222222222222222,
              "#3e4989"
             ],
             [
              0.3333333333333333,
              "#31688e"
             ],
             [
              0.4444444444444444,
              "#26828e"
             ],
             [
              0.5555555555555556,
              "#1f9e89"
             ],
             [
              0.6666666666666666,
              "#35b779"
             ],
             [
              0.7777777777777778,
              "#6ece58"
             ],
             [
              0.8888888888888888,
              "#b5de2b"
             ],
             [
              1,
              "#fde725"
             ]
            ],
            "type": "histogram2d"
           }
          ],
          "histogram2dcontour": [
           {
            "colorbar": {
             "outlinewidth": 1,
             "tickcolor": "rgb(36,36,36)",
             "ticks": "outside"
            },
            "colorscale": [
             [
              0,
              "#440154"
             ],
             [
              0.1111111111111111,
              "#482878"
             ],
             [
              0.2222222222222222,
              "#3e4989"
             ],
             [
              0.3333333333333333,
              "#31688e"
             ],
             [
              0.4444444444444444,
              "#26828e"
             ],
             [
              0.5555555555555556,
              "#1f9e89"
             ],
             [
              0.6666666666666666,
              "#35b779"
             ],
             [
              0.7777777777777778,
              "#6ece58"
             ],
             [
              0.8888888888888888,
              "#b5de2b"
             ],
             [
              1,
              "#fde725"
             ]
            ],
            "type": "histogram2dcontour"
           }
          ],
          "mesh3d": [
           {
            "colorbar": {
             "outlinewidth": 1,
             "tickcolor": "rgb(36,36,36)",
             "ticks": "outside"
            },
            "type": "mesh3d"
           }
          ],
          "parcoords": [
           {
            "line": {
             "colorbar": {
              "outlinewidth": 1,
              "tickcolor": "rgb(36,36,36)",
              "ticks": "outside"
             }
            },
            "type": "parcoords"
           }
          ],
          "pie": [
           {
            "automargin": true,
            "type": "pie"
           }
          ],
          "scatter": [
           {
            "marker": {
             "colorbar": {
              "outlinewidth": 1,
              "tickcolor": "rgb(36,36,36)",
              "ticks": "outside"
             }
            },
            "type": "scatter"
           }
          ],
          "scatter3d": [
           {
            "line": {
             "colorbar": {
              "outlinewidth": 1,
              "tickcolor": "rgb(36,36,36)",
              "ticks": "outside"
             }
            },
            "marker": {
             "colorbar": {
              "outlinewidth": 1,
              "tickcolor": "rgb(36,36,36)",
              "ticks": "outside"
             }
            },
            "type": "scatter3d"
           }
          ],
          "scattercarpet": [
           {
            "marker": {
             "colorbar": {
              "outlinewidth": 1,
              "tickcolor": "rgb(36,36,36)",
              "ticks": "outside"
             }
            },
            "type": "scattercarpet"
           }
          ],
          "scattergeo": [
           {
            "marker": {
             "colorbar": {
              "outlinewidth": 1,
              "tickcolor": "rgb(36,36,36)",
              "ticks": "outside"
             }
            },
            "type": "scattergeo"
           }
          ],
          "scattergl": [
           {
            "marker": {
             "colorbar": {
              "outlinewidth": 1,
              "tickcolor": "rgb(36,36,36)",
              "ticks": "outside"
             }
            },
            "type": "scattergl"
           }
          ],
          "scattermapbox": [
           {
            "marker": {
             "colorbar": {
              "outlinewidth": 1,
              "tickcolor": "rgb(36,36,36)",
              "ticks": "outside"
             }
            },
            "type": "scattermapbox"
           }
          ],
          "scatterpolar": [
           {
            "marker": {
             "colorbar": {
              "outlinewidth": 1,
              "tickcolor": "rgb(36,36,36)",
              "ticks": "outside"
             }
            },
            "type": "scatterpolar"
           }
          ],
          "scatterpolargl": [
           {
            "marker": {
             "colorbar": {
              "outlinewidth": 1,
              "tickcolor": "rgb(36,36,36)",
              "ticks": "outside"
             }
            },
            "type": "scatterpolargl"
           }
          ],
          "scatterternary": [
           {
            "marker": {
             "colorbar": {
              "outlinewidth": 1,
              "tickcolor": "rgb(36,36,36)",
              "ticks": "outside"
             }
            },
            "type": "scatterternary"
           }
          ],
          "surface": [
           {
            "colorbar": {
             "outlinewidth": 1,
             "tickcolor": "rgb(36,36,36)",
             "ticks": "outside"
            },
            "colorscale": [
             [
              0,
              "#440154"
             ],
             [
              0.1111111111111111,
              "#482878"
             ],
             [
              0.2222222222222222,
              "#3e4989"
             ],
             [
              0.3333333333333333,
              "#31688e"
             ],
             [
              0.4444444444444444,
              "#26828e"
             ],
             [
              0.5555555555555556,
              "#1f9e89"
             ],
             [
              0.6666666666666666,
              "#35b779"
             ],
             [
              0.7777777777777778,
              "#6ece58"
             ],
             [
              0.8888888888888888,
              "#b5de2b"
             ],
             [
              1,
              "#fde725"
             ]
            ],
            "type": "surface"
           }
          ],
          "table": [
           {
            "cells": {
             "fill": {
              "color": "rgb(237,237,237)"
             },
             "line": {
              "color": "white"
             }
            },
            "header": {
             "fill": {
              "color": "rgb(217,217,217)"
             },
             "line": {
              "color": "white"
             }
            },
            "type": "table"
           }
          ]
         },
         "layout": {
          "annotationdefaults": {
           "arrowhead": 0,
           "arrowwidth": 1
          },
          "autotypenumbers": "strict",
          "coloraxis": {
           "colorbar": {
            "outlinewidth": 1,
            "tickcolor": "rgb(36,36,36)",
            "ticks": "outside"
           }
          },
          "colorscale": {
           "diverging": [
            [
             0,
             "rgb(103,0,31)"
            ],
            [
             0.1,
             "rgb(178,24,43)"
            ],
            [
             0.2,
             "rgb(214,96,77)"
            ],
            [
             0.3,
             "rgb(244,165,130)"
            ],
            [
             0.4,
             "rgb(253,219,199)"
            ],
            [
             0.5,
             "rgb(247,247,247)"
            ],
            [
             0.6,
             "rgb(209,229,240)"
            ],
            [
             0.7,
             "rgb(146,197,222)"
            ],
            [
             0.8,
             "rgb(67,147,195)"
            ],
            [
             0.9,
             "rgb(33,102,172)"
            ],
            [
             1,
             "rgb(5,48,97)"
            ]
           ],
           "sequential": [
            [
             0,
             "#440154"
            ],
            [
             0.1111111111111111,
             "#482878"
            ],
            [
             0.2222222222222222,
             "#3e4989"
            ],
            [
             0.3333333333333333,
             "#31688e"
            ],
            [
             0.4444444444444444,
             "#26828e"
            ],
            [
             0.5555555555555556,
             "#1f9e89"
            ],
            [
             0.6666666666666666,
             "#35b779"
            ],
            [
             0.7777777777777778,
             "#6ece58"
            ],
            [
             0.8888888888888888,
             "#b5de2b"
            ],
            [
             1,
             "#fde725"
            ]
           ],
           "sequentialminus": [
            [
             0,
             "#440154"
            ],
            [
             0.1111111111111111,
             "#482878"
            ],
            [
             0.2222222222222222,
             "#3e4989"
            ],
            [
             0.3333333333333333,
             "#31688e"
            ],
            [
             0.4444444444444444,
             "#26828e"
            ],
            [
             0.5555555555555556,
             "#1f9e89"
            ],
            [
             0.6666666666666666,
             "#35b779"
            ],
            [
             0.7777777777777778,
             "#6ece58"
            ],
            [
             0.8888888888888888,
             "#b5de2b"
            ],
            [
             1,
             "#fde725"
            ]
           ]
          },
          "colorway": [
           "#1F77B4",
           "#FF7F0E",
           "#2CA02C",
           "#D62728",
           "#9467BD",
           "#8C564B",
           "#E377C2",
           "#7F7F7F",
           "#BCBD22",
           "#17BECF"
          ],
          "font": {
           "color": "rgb(36,36,36)"
          },
          "geo": {
           "bgcolor": "white",
           "lakecolor": "white",
           "landcolor": "white",
           "showlakes": true,
           "showland": true,
           "subunitcolor": "white"
          },
          "hoverlabel": {
           "align": "left"
          },
          "hovermode": "closest",
          "mapbox": {
           "style": "light"
          },
          "paper_bgcolor": "white",
          "plot_bgcolor": "white",
          "polar": {
           "angularaxis": {
            "gridcolor": "rgb(232,232,232)",
            "linecolor": "rgb(36,36,36)",
            "showgrid": false,
            "showline": true,
            "ticks": "outside"
           },
           "bgcolor": "white",
           "radialaxis": {
            "gridcolor": "rgb(232,232,232)",
            "linecolor": "rgb(36,36,36)",
            "showgrid": false,
            "showline": true,
            "ticks": "outside"
           }
          },
          "scene": {
           "xaxis": {
            "backgroundcolor": "white",
            "gridcolor": "rgb(232,232,232)",
            "gridwidth": 2,
            "linecolor": "rgb(36,36,36)",
            "showbackground": true,
            "showgrid": false,
            "showline": true,
            "ticks": "outside",
            "zeroline": false,
            "zerolinecolor": "rgb(36,36,36)"
           },
           "yaxis": {
            "backgroundcolor": "white",
            "gridcolor": "rgb(232,232,232)",
            "gridwidth": 2,
            "linecolor": "rgb(36,36,36)",
            "showbackground": true,
            "showgrid": false,
            "showline": true,
            "ticks": "outside",
            "zeroline": false,
            "zerolinecolor": "rgb(36,36,36)"
           },
           "zaxis": {
            "backgroundcolor": "white",
            "gridcolor": "rgb(232,232,232)",
            "gridwidth": 2,
            "linecolor": "rgb(36,36,36)",
            "showbackground": true,
            "showgrid": false,
            "showline": true,
            "ticks": "outside",
            "zeroline": false,
            "zerolinecolor": "rgb(36,36,36)"
           }
          },
          "shapedefaults": {
           "fillcolor": "black",
           "line": {
            "width": 0
           },
           "opacity": 0.3
          },
          "ternary": {
           "aaxis": {
            "gridcolor": "rgb(232,232,232)",
            "linecolor": "rgb(36,36,36)",
            "showgrid": false,
            "showline": true,
            "ticks": "outside"
           },
           "baxis": {
            "gridcolor": "rgb(232,232,232)",
            "linecolor": "rgb(36,36,36)",
            "showgrid": false,
            "showline": true,
            "ticks": "outside"
           },
           "bgcolor": "white",
           "caxis": {
            "gridcolor": "rgb(232,232,232)",
            "linecolor": "rgb(36,36,36)",
            "showgrid": false,
            "showline": true,
            "ticks": "outside"
           }
          },
          "title": {
           "x": 0.05
          },
          "xaxis": {
           "automargin": true,
           "gridcolor": "rgb(232,232,232)",
           "linecolor": "rgb(36,36,36)",
           "showgrid": false,
           "showline": true,
           "ticks": "outside",
           "title": {
            "standoff": 15
           },
           "zeroline": false,
           "zerolinecolor": "rgb(36,36,36)"
          },
          "yaxis": {
           "automargin": true,
           "gridcolor": "rgb(232,232,232)",
           "linecolor": "rgb(36,36,36)",
           "showgrid": false,
           "showline": true,
           "ticks": "outside",
           "title": {
            "standoff": 15
           },
           "zeroline": false,
           "zerolinecolor": "rgb(36,36,36)"
          }
         }
        },
        "title": {
         "text": ""
        },
        "xaxis": {
         "showgrid": false,
         "showline": false,
         "showticklabels": false,
         "ticks": "",
         "title": {
          "text": ""
         },
         "zeroline": false
        },
        "yaxis": {
         "showgrid": false,
         "showline": false,
         "showticklabels": false,
         "ticks": "",
         "title": {
          "text": ""
         },
         "zeroline": false
        }
       }
      },
      "text/html": [
       "<div>                            <div id=\"3bae7919-7500-4538-8d2a-717cfe7748b7\" class=\"plotly-graph-div\" style=\"height:525px; width:100%;\"></div>            <script type=\"text/javascript\">                require([\"plotly\"], function(Plotly) {                    window.PLOTLYENV=window.PLOTLYENV || {};                                    if (document.getElementById(\"3bae7919-7500-4538-8d2a-717cfe7748b7\")) {                    Plotly.newPlot(                        \"3bae7919-7500-4538-8d2a-717cfe7748b7\",                        [{\"hoverinfo\":\"none\",\"line\":{\"color\":\"#888\",\"width\":1},\"mode\":\"lines\",\"name\":\"edge_trace\",\"x\":[1.5499951184233025,1.0815333288329307,null,1.5499951184233025,0.8247030797638369,null,1.5499951184233025,1.3175880765213832,null,1.5499951184233025,2.071982597759893,null,1.5499951184233025,2.75623607565114,null,1.5499951184233025,2.2555881733665903,null,1.5499951184233025,0.3451958872585451,null,1.5499951184233025,1.7276108218159394,null,1.0815333288329307,0.8247030797638369,null,1.0815333288329307,2.2555881733665903,null,1.0815333288329307,0.3451958872585451,null,1.0815333288329307,-0.14739631984758786,null,1.0815333288329307,1.7276108218159394,null,1.0815333288329307,0.5755288292080698,null,1.0815333288329307,1.682994955054318,null,1.0815333288329307,1.1700083635469716,null,0.8247030797638369,1.3175880765213832,null,0.8247030797638369,2.071982597759893,null,0.8247030797638369,0.5884918860213153,null,0.8247030797638369,0.10774646918966167,null,0.8247030797638369,0.3451958872585451,null,0.8247030797638369,-0.39213496545340526,null,1.3175880765213832,2.071982597759893,null,1.3175880765213832,2.5612819650164282,null,1.3175880765213832,0.5884918860213153,null,1.3175880765213832,0.10774646918966167,null,1.3175880765213832,1.134308044463986,null,1.3175880765213832,1.8137158440039227,null,2.071982597759893,2.75623607565114,null,2.071982597759893,2.2555881733665903,null,2.071982597759893,2.5612819650164282,null,2.071982597759893,3.3314593197032853,null,2.071982597759893,1.8137158440039227,null,2.75623607565114,2.2555881733665903,null,2.75623607565114,2.5612819650164282,null,2.75623607565114,3.3314593197032853,null,2.75623607565114,3.2137724796862064,null,2.75623607565114,3.951110680509135,null,2.75623607565114,3.3555905568430693,null,2.2555881733665903,3.2137724796862064,null,2.2555881733665903,1.7276108218159394,null,2.2555881733665903,3.3555905568430693,null,-0.7165567036594894,-0.07587123881911624,null,-0.7165567036594894,-1.9043176996032942,null,-0.7165567036594894,-1.2892559006896198,null,-0.7165567036594894,-1.4026842857100355,null,-0.7165567036594894,-0.6119543888998855,null,-0.7165567036594894,-0.22112052489198938,null,-0.7165567036594894,0.5098134402021238,null,-0.7165567036594894,-1.1559438919149556,null,-0.07587123881911624,0.5884918860213153,null,-0.07587123881911624,0.10774646918966167,null,-0.07587123881911624,1.134308044463986,null,-0.07587123881911624,-1.2892559006896198,null,-0.07587123881911624,-0.6119543888998855,null,-0.07587123881911624,-0.22112052489198938,null,-0.07587123881911624,0.5098134402021238,null,2.5612819650164282,3.3314593197032853,null,2.5612819650164282,2.3680616800655505,null,2.5612819650164282,3.0622065321991583,null,2.5612819650164282,1.8137158440039227,null,2.5612819650164282,3.752070015698711,null,3.3314593197032853,3.0622065321991583,null,3.3314593197032853,3.752070015698711,null,3.3314593197032853,4.571552725053844,null,3.3314593197032853,3.951110680509135,null,3.3314593197032853,3.3555905568430693,null,3.3314593197032853,4.396662318845394,null,0.5884918860213153,0.10774646918966167,null,0.5884918860213153,1.134308044463986,null,0.5884918860213153,1.8137158440039227,null,0.5884918860213153,-0.6119543888998855,null,0.5884918860213153,0.5098134402021238,null,0.10774646918966167,0.3451958872585451,null,0.10774646918966167,-0.39213496545340526,null,0.10774646918966167,-0.6119543888998855,null,0.10774646918966167,-1.1152214141483063,null,-3.705993667104501,-3.1824062081722433,null,-3.705993667104501,-4.655079482900079,null,-1.6090911430754171,-2.116301594366763,null,-1.6090911430754171,-1.8084745892936245,null,-1.6090911430754171,-0.39213496545340526,null,-1.6090911430754171,-0.910707328910102,null,-1.6090911430754171,-1.1152214141483063,null,-1.6090911430754171,-1.3551122768232189,null,-1.6090911430754171,-2.327108268838766,null,-1.6090911430754171,-2.8157498322957224,null,-2.116301594366763,-0.910707328910102,null,-2.116301594366763,-1.3551122768232189,null,-2.116301594366763,-2.327108268838766,null,-2.116301594366763,-2.8157498322957224,null,-2.116301594366763,-2.416891173779435,null,-2.116301594366763,-1.755438224796266,null,-2.116301594366763,-3.0821045408875323,null,-2.116301594366763,-3.393269356971824,null,2.3680616800655505,3.0622065321991583,null,2.3680616800655505,1.134308044463986,null,2.3680616800655505,2.1858793437568864,null,2.3680616800655505,1.7364244776704132,null,2.3680616800655505,1.8137158440039227,null,2.3680616800655505,2.9679717811299473,null,2.3680616800655505,3.569968897380521,null,3.0622065321991583,1.8137158440039227,null,3.0622065321991583,2.9679717811299473,null,3.0622065321991583,3.569968897380521,null,3.0622065321991583,3.752070015698711,null,3.0622065321991583,4.349787843019887,null,3.2137724796862064,3.3555905568430693,null,1.134308044463986,0.9890625131061204,null,1.134308044463986,1.7364244776704132,null,1.134308044463986,1.8137158440039227,null,1.134308044463986,0.5098134402021238,null,1.519915243863435,2.1858793437568864,null,1.519915243863435,0.9890625131061204,null,1.519915243863435,1.7364244776704132,null,1.519915243863435,0.29662880138256525,null,1.519915243863435,1.3653685412332015,null,1.519915243863435,2.262858054238828,null,1.519915243863435,2.7097705802672274,null,1.519915243863435,0.7976091826440795,null,1.519915243863435,0.8812911419462025,null,1.519915243863435,1.9091089886522128,null,2.1858793437568864,0.9890625131061204,null,2.1858793437568864,1.7364244776704132,null,2.1858793437568864,2.9679717811299473,null,2.1858793437568864,2.262858054238828,null,2.1858793437568864,2.7097705802672274,null,2.1858793437568864,3.3469716377471603,null,0.9890625131061204,1.7364244776704132,null,0.9890625131061204,0.29662880138256525,null,0.9890625131061204,-0.22112052489198938,null,0.9890625131061204,0.5098134402021238,null,0.9890625131061204,0.7976091826440795,null,1.7364244776704132,1.8137158440039227,null,1.7364244776704132,2.9679717811299473,null,1.7364244776704132,0.5098134402021238,null,0.3451958872585451,-0.14739631984758786,null,0.3451958872585451,-0.39213496545340526,null,0.3451958872585451,-0.910707328910102,null,0.3451958872585451,0.5755288292080698,null,-0.14739631984758786,-0.39213496545340526,null,-0.14739631984758786,-0.910707328910102,null,-0.14739631984758786,-1.3551122768232189,null,-0.14739631984758786,-0.638561958487124,null,-0.14739631984758786,0.04773219192777706,null,-0.14739631984758786,0.5755288292080698,null,-1.9043176996032942,-1.2892559006896198,null,-1.9043176996032942,-2.4757563751930522,null,-1.9043176996032942,-1.8084745892936245,null,-1.9043176996032942,-1.4026842857100355,null,-1.2892559006896198,-2.4757563751930522,null,-1.2892559006896198,-1.8084745892936245,null,-1.2892559006896198,-1.4026842857100355,null,-1.2892559006896198,-0.6119543888998855,null,-1.2892559006896198,-1.1152214141483063,null,-2.4757563751930522,-1.8084745892936245,null,-2.4757563751930522,-2.327108268838766,null,-2.4757563751930522,-3.0420768672508913,null,-1.8084745892936245,-0.6119543888998855,null,-1.8084745892936245,-1.1152214141483063,null,-1.8084745892936245,-2.327108268838766,null,-1.8084745892936245,-3.0420768672508913,null,-7.166107779798924,-6.321270579995906,null,-9.028577480030078,-8.4898295308762,null,-9.028577480030078,-8.826183827985664,null,-9.028577480030078,-9.32737002279371,null,-8.4898295308762,-8.826183827985664,null,-8.4898295308762,-9.32737002279371,null,2.9679717811299473,3.569968897380521,null,2.9679717811299473,2.7097705802672274,null,2.9679717811299473,3.3469716377471603,null,2.9679717811299473,4.106356906671475,null,2.9679717811299473,4.224526666984982,null,2.9679717811299473,3.8023645115499947,null,3.569968897380521,3.752070015698711,null,3.569968897380521,3.3469716377471603,null,3.569968897380521,4.349787843019887,null,3.569968897380521,4.106356906671475,null,3.569968897380521,3.8023645115499947,null,-1.4026842857100355,-0.22112052489198938,null,-1.4026842857100355,-1.1559438919149556,null,-0.39213496545340526,-0.6119543888998855,null,-0.39213496545340526,-0.910707328910102,null,-0.39213496545340526,-1.1152214141483063,null,-0.6119543888998855,-1.1152214141483063,null,-0.910707328910102,-1.1152214141483063,null,-0.910707328910102,-1.3551122768232189,null,-0.910707328910102,-0.638561958487124,null,3.752070015698711,4.571552725053844,null,3.752070015698711,4.349787843019887,null,3.752070015698711,4.396662318845394,null,4.571552725053844,4.396662318845394,null,-1.1152214141483063,-2.327108268838766,null,-6.037693194563303,-6.328759120003844,null,-6.037693194563303,-5.467586012618778,null,1.7276108218159394,0.5755288292080698,null,1.7276108218159394,1.682994955054318,null,1.7276108218159394,1.1700083635469716,null,-1.3551122768232189,-0.638561958487124,null,-1.3551122768232189,-2.416891173779435,null,-1.3551122768232189,-1.755438224796266,null,-1.3551122768232189,-1.4714076343788807,null,-0.638561958487124,0.04773219192777706,null,-0.638561958487124,0.5755288292080698,null,-0.638561958487124,-1.755438224796266,null,-0.638561958487124,-1.4714076343788807,null,0.29662880138256525,-0.22112052489198938,null,0.29662880138256525,0.5098134402021238,null,0.29662880138256525,0.7976091826440795,null,0.29662880138256525,-0.37550510372683266,null,-0.22112052489198938,0.5098134402021238,null,-0.22112052489198938,-1.1559438919149556,null,-2.327108268838766,-2.8157498322957224,null,-2.327108268838766,-3.0420768672508913,null,-2.327108268838766,-3.5770764618929602,null,-0.49957787800297676,-0.4270958638288385,null,-0.49957787800297676,0.12525052587435515,null,-0.49957787800297676,0.598414282162793,null,0.04773219192777706,0.5755288292080698,null,0.04773219192777706,1.1700083635469716,null,0.04773219192777706,0.5768419882003124,null,0.04773219192777706,0.9127476114535893,null,0.5755288292080698,1.682994955054318,null,0.5755288292080698,1.1700083635469716,null,0.5755288292080698,0.5768419882003124,null,0.5755288292080698,0.9127476114535893,null,-2.8157498322957224,-3.0420768672508913,null,-2.8157498322957224,-3.5770764618929602,null,-2.8157498322957224,-3.0821045408875323,null,-2.8157498322957224,-3.393269356971824,null,-4.050590332210306,-3.0420768672508913,null,-3.0420768672508913,-3.5770764618929602,null,1.3653685412332015,2.262858054238828,null,1.3653685412332015,0.7976091826440795,null,1.3653685412332015,0.8812911419462025,null,1.3653685412332015,1.9091089886522128,null,2.262858054238828,2.7097705802672274,null,2.262858054238828,1.9091089886522128,null,-2.416891173779435,-1.755438224796266,null,-1.755438224796266,-1.4714076343788807,null,2.7097705802672274,3.3469716377471603,null,3.3469716377471603,4.106356906671475,null,3.3469716377471603,4.224526666984982,null,3.3469716377471603,3.8023645115499947,null,4.106356906671475,4.224526666984982,null,4.106356906671475,5.057368332528563,null,1.1700083635469716,0.5768419882003124,null,1.1700083635469716,0.9127476114535893,null,4.848594597128896,5.753655010684706,null,4.848594597128896,4.187143082478826,null,-0.4270958638288385,0.12525052587435515,null,-0.4270958638288385,0.598414282162793,null,3.951110680509135,3.3555905568430693,null,0.7976091826440795,0.8812911419462025,null,-9.380222343051738,-8.853248912797643,null,-8.826183827985664,-9.32737002279371,null,-7.2081913106744295,-8.189369561954948,null,-7.2081913106744295,-7.794638157327307,null,-7.2081913106744295,-7.994052707117933,null,-8.189369561954948,-7.794638157327307,null,-8.189369561954948,-7.994052707117933,null,-3.0821045408875323,-3.393269356971824,null,-7.794638157327307,-7.994052707117933,null,0.12525052587435515,0.598414282162793,null],\"y\":[1.184161939344752,0.42189927925292353,null,1.184161939344752,1.6617177292768568,null,1.184161939344752,2.3739286065274747,null,1.184161939344752,1.86247241578869,null,1.184161939344752,1.3016334124443816,null,1.184161939344752,0.6693078279097746,null,1.184161939344752,0.9397715874364649,null,1.184161939344752,0.001224870075344553,null,0.42189927925292353,1.6617177292768568,null,0.42189927925292353,0.6693078279097746,null,0.42189927925292353,0.9397715874364649,null,0.42189927925292353,0.2522182237617278,null,0.42189927925292353,0.001224870075344553,null,0.42189927925292353,-0.34150187889417305,null,0.42189927925292353,-0.6888557589046919,null,0.42189927925292353,-0.7768892011423926,null,1.6617177292768568,2.3739286065274747,null,1.6617177292768568,1.86247241578869,null,1.6617177292768568,2.9283761310780245,null,1.6617177292768568,2.1635251641549558,null,1.6617177292768568,0.9397715874364649,null,1.6617177292768568,1.4843049019925085,null,2.3739286065274747,1.86247241578869,null,2.3739286065274747,2.492783558414266,null,2.3739286065274747,2.9283761310780245,null,2.3739286065274747,2.1635251641549558,null,2.3739286065274747,3.6172209746009067,null,2.3739286065274747,3.071381478948909,null,1.86247241578869,1.3016334124443816,null,1.86247241578869,0.6693078279097746,null,1.86247241578869,2.492783558414266,null,1.86247241578869,1.952935486428593,null,1.86247241578869,3.071381478948909,null,1.3016334124443816,0.6693078279097746,null,1.3016334124443816,2.492783558414266,null,1.3016334124443816,1.952935486428593,null,1.3016334124443816,0.11208380615954011,null,1.3016334124443816,0.9894530062525705,null,1.3016334124443816,0.7650143905347145,null,0.6693078279097746,0.11208380615954011,null,0.6693078279097746,0.001224870075344553,null,0.6693078279097746,0.7650143905347145,null,3.959206110116345,3.42005491844548,null,3.959206110116345,3.7922291221568236,null,3.959206110116345,3.295072092455769,null,3.959206110116345,4.466777022306482,null,3.959206110116345,2.738481600132786,null,3.959206110116345,4.624102628201184,null,3.959206110116345,4.183352203978333,null,3.959206110116345,5.1193399314211145,null,3.42005491844548,2.9283761310780245,null,3.42005491844548,2.1635251641549558,null,3.42005491844548,3.6172209746009067,null,3.42005491844548,3.295072092455769,null,3.42005491844548,2.738481600132786,null,3.42005491844548,4.624102628201184,null,3.42005491844548,4.183352203978333,null,2.492783558414266,1.952935486428593,null,2.492783558414266,3.7265359056645804,null,2.492783558414266,3.1695321303804245,null,2.492783558414266,3.071381478948909,null,2.492783558414266,2.701843176220692,null,1.952935486428593,3.1695321303804245,null,1.952935486428593,2.701843176220692,null,1.952935486428593,2.1796996617532365,null,1.952935486428593,0.9894530062525705,null,1.952935486428593,0.7650143905347145,null,1.952935486428593,1.73124244548441,null,2.9283761310780245,2.1635251641549558,null,2.9283761310780245,3.6172209746009067,null,2.9283761310780245,3.071381478948909,null,2.9283761310780245,2.738481600132786,null,2.9283761310780245,4.183352203978333,null,2.1635251641549558,0.9397715874364649,null,2.1635251641549558,1.4843049019925085,null,2.1635251641549558,2.738481600132786,null,2.1635251641549558,2.034426974593821,null,-6.333456645430036,-6.977140372111743,null,-6.333456645430036,-6.024860794138293,null,1.3213045516439301,0.5971974109062762,null,1.3213045516439301,2.5701225744273613,null,1.3213045516439301,1.4843049019925085,null,1.3213045516439301,0.8126120982532217,null,1.3213045516439301,2.034426974593821,null,1.3213045516439301,0.09016843381265308,null,1.3213045516439301,1.887313013838989,null,1.3213045516439301,1.2256304260652309,null,0.5971974109062762,0.8126120982532217,null,0.5971974109062762,0.09016843381265308,null,0.5971974109062762,1.887313013838989,null,0.5971974109062762,1.2256304260652309,null,0.5971974109062762,-0.4497215795712788,null,0.5971974109062762,-0.5815332969418869,null,0.5971974109062762,0.1795167972299494,null,0.5971974109062762,0.543481717421512,null,3.7265359056645804,3.1695321303804245,null,3.7265359056645804,3.6172209746009067,null,3.7265359056645804,4.924801849242065,null,3.7265359056645804,4.313978356702513,null,3.7265359056645804,3.071381478948909,null,3.7265359056645804,4.410915975503451,null,3.7265359056645804,3.862803289840741,null,3.1695321303804245,3.071381478948909,null,3.1695321303804245,4.410915975503451,null,3.1695321303804245,3.862803289840741,null,3.1695321303804245,2.701843176220692,null,3.1695321303804245,3.2886398966394355,null,0.11208380615954011,0.7650143905347145,null,3.6172209746009067,4.8346731773308536,null,3.6172209746009067,4.313978356702513,null,3.6172209746009067,3.071381478948909,null,3.6172209746009067,4.183352203978333,null,5.610415895854559,4.924801849242065,null,5.610415895854559,4.8346731773308536,null,5.610415895854559,4.313978356702513,null,5.610415895854559,5.356615923405598,null,5.610415895854559,6.719547702416279,null,5.610415895854559,6.0943690351719315,null,5.610415895854559,5.60536207835381,null,5.610415895854559,5.956729566426476,null,5.610415895854559,6.700292435440088,null,5.610415895854559,6.715833394082446,null,4.924801849242065,4.8346731773308536,null,4.924801849242065,4.313978356702513,null,4.924801849242065,4.410915975503451,null,4.924801849242065,6.0943690351719315,null,4.924801849242065,5.60536207835381,null,4.924801849242065,5.121124285553786,null,4.8346731773308536,4.313978356702513,null,4.8346731773308536,5.356615923405598,null,4.8346731773308536,4.624102628201184,null,4.8346731773308536,4.183352203978333,null,4.8346731773308536,5.956729566426476,null,4.313978356702513,3.071381478948909,null,4.313978356702513,4.410915975503451,null,4.313978356702513,4.183352203978333,null,0.9397715874364649,0.2522182237617278,null,0.9397715874364649,1.4843049019925085,null,0.9397715874364649,0.8126120982532217,null,0.9397715874364649,-0.34150187889417305,null,0.2522182237617278,1.4843049019925085,null,0.2522182237617278,0.8126120982532217,null,0.2522182237617278,0.09016843381265308,null,0.2522182237617278,-0.4418520445178793,null,0.2522182237617278,-0.9895821454578798,null,0.2522182237617278,-0.34150187889417305,null,3.7922291221568236,3.295072092455769,null,3.7922291221568236,3.1247639796328115,null,3.7922291221568236,2.5701225744273613,null,3.7922291221568236,4.466777022306482,null,3.295072092455769,3.1247639796328115,null,3.295072092455769,2.5701225744273613,null,3.295072092455769,4.466777022306482,null,3.295072092455769,2.738481600132786,null,3.295072092455769,2.034426974593821,null,3.1247639796328115,2.5701225744273613,null,3.1247639796328115,1.887313013838989,null,3.1247639796328115,2.495936259298495,null,2.5701225744273613,2.738481600132786,null,2.5701225744273613,2.034426974593821,null,2.5701225744273613,1.887313013838989,null,2.5701225744273613,2.495936259298495,null,7.6640543888898485,8.349742486203521,null,2.5807013540313806,3.02600665395188,null,2.5807013540313806,3.774848120393341,null,2.5807013540313806,3.3097850280658756,null,3.02600665395188,3.774848120393341,null,3.02600665395188,3.3097850280658756,null,4.410915975503451,3.862803289840741,null,4.410915975503451,5.60536207835381,null,4.410915975503451,5.121124285553786,null,4.410915975503451,4.9733872044942835,null,4.410915975503451,4.504901653439961,null,4.410915975503451,4.696550489370113,null,3.862803289840741,2.701843176220692,null,3.862803289840741,5.121124285553786,null,3.862803289840741,3.2886398966394355,null,3.862803289840741,4.9733872044942835,null,3.862803289840741,4.696550489370113,null,4.466777022306482,4.624102628201184,null,4.466777022306482,5.1193399314211145,null,1.4843049019925085,2.738481600132786,null,1.4843049019925085,0.8126120982532217,null,1.4843049019925085,2.034426974593821,null,2.738481600132786,2.034426974593821,null,0.8126120982532217,2.034426974593821,null,0.8126120982532217,0.09016843381265308,null,0.8126120982532217,-0.4418520445178793,null,2.701843176220692,2.1796996617532365,null,2.701843176220692,3.2886398966394355,null,2.701843176220692,1.73124244548441,null,2.1796996617532365,1.73124244548441,null,2.034426974593821,1.887313013838989,null,-4.944529929303324,-3.954328276523996,null,-4.944529929303324,-5.6302945745099,null,0.001224870075344553,-0.34150187889417305,null,0.001224870075344553,-0.6888557589046919,null,0.001224870075344553,-0.7768892011423926,null,0.09016843381265308,-0.4418520445178793,null,0.09016843381265308,-0.4497215795712788,null,0.09016843381265308,-0.5815332969418869,null,0.09016843381265308,-1.1622006407343461,null,-0.4418520445178793,-0.9895821454578798,null,-0.4418520445178793,-0.34150187889417305,null,-0.4418520445178793,-0.5815332969418869,null,-0.4418520445178793,-1.1622006407343461,null,5.356615923405598,4.624102628201184,null,5.356615923405598,4.183352203978333,null,5.356615923405598,5.956729566426476,null,5.356615923405598,6.46700400953539,null,4.624102628201184,4.183352203978333,null,4.624102628201184,5.1193399314211145,null,1.887313013838989,1.2256304260652309,null,1.887313013838989,2.495936259298495,null,1.887313013838989,1.8076431501108272,null,-6.974180178530656,-7.7749365091952125,null,-6.974180178530656,-7.082460194332136,null,-6.974180178530656,-7.506943769453173,null,-0.9895821454578798,-0.34150187889417305,null,-0.9895821454578798,-0.7768892011423926,null,-0.9895821454578798,-1.535310722814617,null,-0.9895821454578798,-1.566179358896533,null,-0.34150187889417305,-0.6888557589046919,null,-0.34150187889417305,-0.7768892011423926,null,-0.34150187889417305,-1.535310722814617,null,-0.34150187889417305,-1.566179358896533,null,1.2256304260652309,2.495936259298495,null,1.2256304260652309,1.8076431501108272,null,1.2256304260652309,0.1795167972299494,null,1.2256304260652309,0.543481717421512,null,3.0481543168767944,2.495936259298495,null,2.495936259298495,1.8076431501108272,null,6.719547702416279,6.0943690351719315,null,6.719547702416279,5.956729566426476,null,6.719547702416279,6.700292435440088,null,6.719547702416279,6.715833394082446,null,6.0943690351719315,5.60536207835381,null,6.0943690351719315,6.715833394082446,null,-0.4497215795712788,-0.5815332969418869,null,-0.5815332969418869,-1.1622006407343461,null,5.60536207835381,5.121124285553786,null,5.121124285553786,4.9733872044942835,null,5.121124285553786,4.504901653439961,null,5.121124285553786,4.696550489370113,null,4.9733872044942835,4.504901653439961,null,4.9733872044942835,5.4296767067000795,null,-0.7768892011423926,-1.535310722814617,null,-0.7768892011423926,-1.566179358896533,null,-5.450223780525313,-4.975766105063439,null,-5.450223780525313,-5.885001681340755,null,-7.7749365091952125,-7.082460194332136,null,-7.7749365091952125,-7.506943769453173,null,0.9894530062525705,0.7650143905347145,null,5.956729566426476,6.700292435440088,null,0.05638785548461728,-0.5739771086957871,null,3.774848120393341,3.3097850280658756,null,-2.865456038928163,-2.7922013617947545,null,-2.865456038928163,-2.211209718002631,null,-2.865456038928163,-3.489919459235512,null,-2.7922013617947545,-2.211209718002631,null,-2.7922013617947545,-3.489919459235512,null,0.1795167972299494,0.543481717421512,null,-2.211209718002631,-3.489919459235512,null,-7.082460194332136,-7.506943769453173,null],\"type\":\"scatter\",\"uid\":\"a162c1fc-08b3-4766-a688-44acbf8ed4f2\"},{\"hoverinfo\":\"text\",\"hovertext\":[\"Node ID: 0<br>Pullback set label: 44<br>Partial cluster label: 0<br>Node size: 1397<br>Summary statistic: 12700.0\",\"Node ID: 1<br>Pullback set label: 54<br>Partial cluster label: 0<br>Node size: 737<br>Summary statistic: 11900.0\",\"Node ID: 2<br>Pullback set label: 43<br>Partial cluster label: 0<br>Node size: 1743<br>Summary statistic: 12300.0\",\"Node ID: 3<br>Pullback set label: 81<br>Partial cluster label: 0<br>Node size: 419<br>Summary statistic: 12200.0\",\"Node ID: 4<br>Pullback set label: 33<br>Partial cluster label: 0<br>Node size: 2009<br>Summary statistic: 12700.0\",\"Node ID: 5<br>Pullback set label: 34<br>Partial cluster label: 0<br>Node size: 1605<br>Summary statistic: 13200.0\",\"Node ID: 6<br>Pullback set label: 35<br>Partial cluster label: 0<br>Node size: 860<br>Summary statistic: 13100.0\",\"Node ID: 7<br>Pullback set label: 45<br>Partial cluster label: 0<br>Node size: 747<br>Summary statistic: 13400.0\",\"Node ID: 8<br>Pullback set label: 30<br>Partial cluster label: 0<br>Node size: 1039<br>Summary statistic: 13100.0\",\"Node ID: 9<br>Pullback set label: 31<br>Partial cluster label: 0<br>Node size: 1524<br>Summary statistic: 12900.0\",\"Node ID: 10<br>Pullback set label: 26<br>Partial cluster label: 0<br>Node size: 1491<br>Summary statistic: 13000.0\",\"Node ID: 11<br>Pullback set label: 27<br>Partial cluster label: 0<br>Node size: 709<br>Summary statistic: 13000.0\",\"Node ID: 12<br>Pullback set label: 32<br>Partial cluster label: 0<br>Node size: 1828<br>Summary statistic: 12700.0\",\"Node ID: 13<br>Pullback set label: 42<br>Partial cluster label: 0<br>Node size: 1595<br>Summary statistic: 12500.0\",\"Node ID: 14<br>Pullback set label: 68<br>Partial cluster label: 0<br>Node size: 201<br>Summary statistic: 12300.0\",\"Node ID: 15<br>Pullback set label: 76<br>Partial cluster label: 0<br>Node size: 190<br>Summary statistic: 12300.0\",\"Node ID: 16<br>Pullback set label: 61<br>Partial cluster label: 0<br>Node size: 935<br>Summary statistic: 12600.0\",\"Node ID: 17<br>Pullback set label: 71<br>Partial cluster label: 0<br>Node size: 638<br>Summary statistic: 13100.0\",\"Node ID: 18<br>Pullback set label: 17<br>Partial cluster label: 0<br>Node size: 1504<br>Summary statistic: 12700.0\",\"Node ID: 19<br>Pullback set label: 18<br>Partial cluster label: 0<br>Node size: 986<br>Summary statistic: 13000.0\",\"Node ID: 20<br>Pullback set label: 46<br>Partial cluster label: 0<br>Node size: 45<br>Summary statistic: 13200.0\",\"Node ID: 21<br>Pullback set label: 24<br>Partial cluster label: 0<br>Node size: 1911<br>Summary statistic: 12900.0\",\"Node ID: 22<br>Pullback set label: 8<br>Partial cluster label: 0<br>Node size: 781<br>Summary statistic: 13200.0\",\"Node ID: 23<br>Pullback set label: 9<br>Partial cluster label: 0<br>Node size: 1123<br>Summary statistic: 12900.0\",\"Node ID: 24<br>Pullback set label: 15<br>Partial cluster label: 0<br>Node size: 1463<br>Summary statistic: 13500.0\",\"Node ID: 25<br>Pullback set label: 16<br>Partial cluster label: 0<br>Node size: 1718<br>Summary statistic: 13000.0\",\"Node ID: 26<br>Pullback set label: 25<br>Partial cluster label: 0<br>Node size: 1808<br>Summary statistic: 12600.0\",\"Node ID: 27<br>Pullback set label: 53<br>Partial cluster label: 0<br>Node size: 1375<br>Summary statistic: 12400.0\",\"Node ID: 28<br>Pullback set label: 63<br>Partial cluster label: 0<br>Node size: 945<br>Summary statistic: 12600.0\",\"Node ID: 29<br>Pullback set label: 39<br>Partial cluster label: 0<br>Node size: 317<br>Summary statistic: 12400.0\",\"Node ID: 30<br>Pullback set label: 40<br>Partial cluster label: 0<br>Node size: 1213<br>Summary statistic: 12900.0\",\"Node ID: 31<br>Pullback set label: 49<br>Partial cluster label: 0<br>Node size: 214<br>Summary statistic: 13400.0\",\"Node ID: 32<br>Pullback set label: 50<br>Partial cluster label: 0<br>Node size: 634<br>Summary statistic: 13400.0\",\"Node ID: 33<br>Pullback set label: 2<br>Partial cluster label: 0<br>Node size: 30<br>Summary statistic: 13000.0\",\"Node ID: 34<br>Pullback set label: 3<br>Partial cluster label: 0<br>Node size: 30<br>Summary statistic: 13000.0\",\"Node ID: 35<br>Pullback set label: 48<br>Partial cluster label: 0<br>Node size: 102<br>Summary statistic: 13000.0\",\"Node ID: 36<br>Pullback set label: 58<br>Partial cluster label: 0<br>Node size: 31<br>Summary statistic: 11500.0\",\"Node ID: 37<br>Pullback set label: 10<br>Partial cluster label: 0<br>Node size: 821<br>Summary statistic: 13000.0\",\"Node ID: 38<br>Pullback set label: 11<br>Partial cluster label: 0<br>Node size: 351<br>Summary statistic: 12600.0\",\"Node ID: 39<br>Pullback set label: 29<br>Partial cluster label: 0<br>Node size: 320<br>Summary statistic: 12900.0\",\"Node ID: 40<br>Pullback set label: 52<br>Partial cluster label: 0<br>Node size: 1431<br>Summary statistic: 13000.0\",\"Node ID: 41<br>Pullback set label: 41<br>Partial cluster label: 0<br>Node size: 1525<br>Summary statistic: 12400.0\",\"Node ID: 42<br>Pullback set label: 62<br>Partial cluster label: 0<br>Node size: 1104<br>Summary statistic: 12800.0\",\"Node ID: 43<br>Pullback set label: 19<br>Partial cluster label: 0<br>Node size: 392<br>Summary statistic: 13000.0\",\"Node ID: 44<br>Pullback set label: 20<br>Partial cluster label: -1<br>Node size: 9<br>Summary statistic: 13900.0\",\"Node ID: 45<br>Pullback set label: 51<br>Partial cluster label: 0<br>Node size: 1121<br>Summary statistic: 12700.0\",\"Node ID: 46<br>Pullback set label: 38<br>Partial cluster label: 0<br>Node size: 195<br>Summary statistic: 12000.0\",\"Node ID: 47<br>Pullback set label: 55<br>Partial cluster label: 0<br>Node size: 277<br>Summary statistic: 12400.0\",\"Node ID: 48<br>Pullback set label: 72<br>Partial cluster label: 0<br>Node size: 521<br>Summary statistic: 12800.0\",\"Node ID: 49<br>Pullback set label: 73<br>Partial cluster label: 0<br>Node size: 409<br>Summary statistic: 12400.0\",\"Node ID: 50<br>Pullback set label: 14<br>Partial cluster label: 0<br>Node size: 692<br>Summary statistic: 13200.0\",\"Node ID: 51<br>Pullback set label: 22<br>Partial cluster label: 0<br>Node size: 811<br>Summary statistic: 12700.0\",\"Node ID: 52<br>Pullback set label: 23<br>Partial cluster label: 0<br>Node size: 1523<br>Summary statistic: 13000.0\",\"Node ID: 53<br>Pullback set label: 60<br>Partial cluster label: 0<br>Node size: 642<br>Summary statistic: 12800.0\",\"Node ID: 54<br>Pullback set label: 48<br>Partial cluster label: -1<br>Node size: 7<br>Summary statistic: 9960.0\",\"Node ID: 55<br>Pullback set label: 47<br>Partial cluster label: 0<br>Node size: 127<br>Summary statistic: 13000.0\",\"Node ID: 56<br>Pullback set label: 74<br>Partial cluster label: 0<br>Node size: 201<br>Summary statistic: 12600.0\",\"Node ID: 57<br>Pullback set label: 64<br>Partial cluster label: 0<br>Node size: 484<br>Summary statistic: 12200.0\",\"Node ID: 58<br>Pullback set label: 65<br>Partial cluster label: -1<br>Node size: 10<br>Summary statistic: 11100.0\",\"Node ID: 59<br>Pullback set label: 70<br>Partial cluster label: 0<br>Node size: 399<br>Summary statistic: 12800.0\",\"Node ID: 60<br>Pullback set label: 58<br>Partial cluster label: 1<br>Node size: 35<br>Summary statistic: 11600.0\",\"Node ID: 61<br>Pullback set label: 59<br>Partial cluster label: 0<br>Node size: 253<br>Summary statistic: 12800.0\",\"Node ID: 62<br>Pullback set label: 0<br>Partial cluster label: -1<br>Node size: 25<br>Summary statistic: 11100.0\",\"Node ID: 63<br>Pullback set label: 1<br>Partial cluster label: 0<br>Node size: 228<br>Summary statistic: 12200.0\",\"Node ID: 64<br>Pullback set label: 78<br>Partial cluster label: 0<br>Node size: 157<br>Summary statistic: 13600.0\",\"Node ID: 65<br>Pullback set label: 79<br>Partial cluster label: 0<br>Node size: 171<br>Summary statistic: 13100.0\",\"Node ID: 66<br>Pullback set label: 2<br>Partial cluster label: 1<br>Node size: 282<br>Summary statistic: 13100.0\",\"Node ID: 67<br>Pullback set label: 3<br>Partial cluster label: 1<br>Node size: 182<br>Summary statistic: 13100.0\",\"Node ID: 68<br>Pullback set label: 69<br>Partial cluster label: 0<br>Node size: 71<br>Summary statistic: 12700.0\",\"Node ID: 69<br>Pullback set label: 21<br>Partial cluster label: 0<br>Node size: 149<br>Summary statistic: 12800.0\",\"Node ID: 70<br>Pullback set label: 80<br>Partial cluster label: 0<br>Node size: 50<br>Summary statistic: 13000.0\",\"Node ID: 71<br>Pullback set label: 12<br>Partial cluster label: 0<br>Node size: 46<br>Summary statistic: 12700.0\",\"Node ID: 72<br>Pullback set label: 4<br>Partial cluster label: 0<br>Node size: 107<br>Summary statistic: 12400.0\",\"Node ID: 73<br>Pullback set label: 65<br>Partial cluster label: 0<br>Node size: 95<br>Summary statistic: 13600.0\",\"Node ID: 74<br>Pullback set label: 75<br>Partial cluster label: -1<br>Node size: 1<br>Summary statistic: 279.0\",\"Node ID: 75<br>Pullback set label: 75<br>Partial cluster label: 0<br>Node size: 52<br>Summary statistic: 12300.0\",\"Node ID: 76<br>Pullback set label: 5<br>Partial cluster label: 0<br>Node size: 59<br>Summary statistic: 12600.0\",\"Node ID: 77<br>Pullback set label: 6<br>Partial cluster label: 0<br>Node size: 40<br>Summary statistic: 12600.0\",\"Node ID: 78<br>Pullback set label: 46<br>Partial cluster label: 1<br>Node size: 38<br>Summary statistic: 13500.0\",\"Node ID: 79<br>Pullback set label: 28<br>Partial cluster label: 0<br>Node size: 31<br>Summary statistic: 10900.0\",\"Node ID: 80<br>Pullback set label: 36<br>Partial cluster label: 0<br>Node size: 91<br>Summary statistic: 11600.0\",\"Node ID: 81<br>Pullback set label: 7<br>Partial cluster label: 0<br>Node size: 238<br>Summary statistic: 14300.0\",\"Node ID: 82<br>Pullback set label: 57<br>Partial cluster label: 0<br>Node size: 80<br>Summary statistic: 13600.0\",\"Node ID: 83<br>Pullback set label: 67<br>Partial cluster label: -1<br>Node size: 4<br>Summary statistic: 12500.0\",\"Node ID: 84<br>Pullback set label: 49<br>Partial cluster label: -1<br>Node size: 3<br>Summary statistic: 11600.0\",\"Node ID: 85<br>Pullback set label: 56<br>Partial cluster label: 0<br>Node size: 51<br>Summary statistic: 12700.0\",\"Node ID: 86<br>Pullback set label: 57<br>Partial cluster label: 1<br>Node size: 51<br>Summary statistic: 12800.0\",\"Node ID: 87<br>Pullback set label: 77<br>Partial cluster label: -1<br>Node size: 16<br>Summary statistic: 9990.0\",\"Node ID: 88<br>Pullback set label: 78<br>Partial cluster label: -1<br>Node size: 11<br>Summary statistic: 11400.0\",\"Node ID: 89<br>Pullback set label: 66<br>Partial cluster label: 0<br>Node size: 46<br>Summary statistic: 13200.0\",\"Node ID: 90<br>Pullback set label: 67<br>Partial cluster label: 0<br>Node size: 47<br>Summary statistic: 13300.0\",\"Node ID: 91<br>Pullback set label: 11<br>Partial cluster label: -1<br>Node size: 2<br>Summary statistic: 4610.0\",\"Node ID: 92<br>Pullback set label: 69<br>Partial cluster label: -1<br>Node size: 1<br>Summary statistic: 3420.0\",\"Node ID: 93<br>Pullback set label: 3<br>Partial cluster label: -1<br>Node size: 5<br>Summary statistic: 10000.0\",\"Node ID: 94<br>Pullback set label: 13<br>Partial cluster label: -1<br>Node size: 8<br>Summary statistic: 15000.0\",\"Node ID: 95<br>Pullback set label: 37<br>Partial cluster label: -1<br>Node size: 2<br>Summary statistic: 11000.0\",\"Node ID: 96<br>Pullback set label: 39<br>Partial cluster label: -1<br>Node size: 1<br>Summary statistic: 6930.0\",\"Node ID: 97<br>Pullback set label: 1<br>Partial cluster label: -1<br>Node size: 1<br>Summary statistic: 8650.0\",\"Node ID: 98<br>Pullback set label: 7<br>Partial cluster label: -1<br>Node size: 1<br>Summary statistic: 13400.0\",\"Node ID: 99<br>Pullback set label: 4<br>Partial cluster label: -1<br>Node size: 4<br>Summary statistic: 17800.0\",\"Node ID: 100<br>Pullback set label: 28<br>Partial cluster label: -1<br>Node size: 2<br>Summary statistic: 20200.0\",\"Node ID: 101<br>Pullback set label: 12<br>Partial cluster label: -1<br>Node size: 1<br>Summary statistic: 15300.0\",\"Node ID: 102<br>Pullback set label: 36<br>Partial cluster label: -1<br>Node size: 1<br>Summary statistic: 15500.0\",\"Node ID: 103<br>Pullback set label: 59<br>Partial cluster label: -1<br>Node size: 1<br>Summary statistic: 21600.0\"],\"marker\":{\"color\":[12728.828919112384,11903.702849389416,12294.19736087206,12231.494033412888,12728.1931309109,13179.614953271028,13146.94534883721,13422.863453815262,13091.314725697786,12858.574146981628,13042.551978537895,12952.211565585332,12738.420131291028,12454.563636363637,12348.47263681592,12336.615789473684,12632.012834224599,13063.60971786834,12662.109707446809,13038.866125760649,13240.888888888889,12892.106750392464,13181.513444302176,12925.514692787177,13519.394395078605,12984.591385331782,12627.787610619469,12365.265454545455,12629.319576719578,12378.119873817035,12942.588623248144,13385.289719626167,13384.649842271294,13042.533333333333,13042.533333333333,13037.058823529413,11487.741935483871,13011.411693057247,12613.20227920228,12917.278125,13026.850454227813,12388.711475409837,12823.63134057971,12996.834183673469,13926.111111111111,12691.132917038358,12046.502564102564,12369.646209386281,12804.236084452976,12377.694376528118,13185.307803468208,12708.36251541307,12975.76231122784,12777.211838006231,9959.57142857143,12982.653543307086,12620.73631840796,12181.613636363636,11054.7,12763.817042606517,11554.657142857142,12756.142292490118,11096.96,12204.899122807017,13562.184713375796,13139.526315789473,13138.921985815603,13117.054945054944,12700.577464788732,12759.838926174496,13047.96,12659.152173913044,12424.214953271028,13595.652631578947,279.0,12340.807692307691,12638.93220338983,12594.85,13467.052631578947,10938.354838709678,11570.846153846154,14266.197478991597,13579.2125,12520.0,11563.666666666666,12722.35294117647,12811.35294117647,9993.25,11362.272727272728,13193.91304347826,13268.936170212766,4611.5,3423.0,10002.6,14952.375,11027.5,6933.0,8653.0,13382.0,17804.75,20178.0,15257.0,15494.0,21602.0],\"colorbar\":{\"thickness\":15,\"title\":{\"side\":\"right\",\"text\":\"\"},\"xanchor\":\"left\"},\"colorscale\":[[0.0,\"#440154\"],[0.1111111111111111,\"#482878\"],[0.2222222222222222,\"#3e4989\"],[0.3333333333333333,\"#31688e\"],[0.4444444444444444,\"#26828e\"],[0.5555555555555556,\"#1f9e89\"],[0.6666666666666666,\"#35b779\"],[0.7777777777777778,\"#6ece58\"],[0.8888888888888888,\"#b5de2b\"],[1.0,\"#fde725\"]],\"line\":{\"color\":\"#888\",\"width\":1},\"opacity\":1.0,\"reversescale\":false,\"showscale\":true,\"size\":[1397,737,1743,419,2009,1605,860,747,1039,1524,1491,709,1828,1595,201,190,935,638,1504,986,45,1911,781,1123,1463,1718,1808,1375,945,317,1213,214,634,30,30,102,31,821,351,320,1431,1525,1104,392,9,1121,195,277,521,409,692,811,1523,642,7,127,201,484,10,399,35,253,25,228,157,171,282,182,71,149,50,46,107,95,1,52,59,40,38,31,91,238,80,4,3,51,51,16,11,46,47,2,1,5,8,2,1,1,1,4,2,1,1,1],\"sizemin\":4,\"sizemode\":\"area\",\"sizeref\":27.90277777777778},\"mode\":\"markers\",\"name\":\"node_trace\",\"x\":[1.5499951184233025,1.0815333288329307,0.8247030797638369,0.837805218627088,1.3175880765213832,2.071982597759893,2.75623607565114,2.2555881733665903,-0.7165567036594894,-0.07587123881911624,2.5612819650164282,3.3314593197032853,0.5884918860213153,0.10774646918966167,-3.705993667104501,-3.1824062081722433,-1.6090911430754171,-2.116301594366763,2.3680616800655505,3.0622065321991583,3.2137724796862064,1.134308044463986,1.519915243863435,2.1858793437568864,0.9890625131061204,1.7364244776704132,1.8137158440039227,0.3451958872585451,-0.14739631984758786,-1.9043176996032942,-1.2892559006896198,-2.4757563751930522,-1.8084745892936245,-7.166107779798924,-6.321270579995906,-9.028577480030078,-8.4898295308762,2.9679717811299473,3.569968897380521,-1.4026842857100355,-0.39213496545340526,-0.6119543888998855,-0.910707328910102,3.752070015698711,4.571552725053844,-1.1152214141483063,-6.037693194563303,1.7276108218159394,-1.3551122768232189,-0.638561958487124,0.29662880138256525,-0.22112052489198938,0.5098134402021238,-2.327108268838766,-6.328759120003844,-0.49957787800297676,0.04773219192777706,0.5755288292080698,1.682994955054318,-2.8157498322957224,-4.050590332210306,-3.0420768672508913,1.3653685412332015,2.262858054238828,-2.416891173779435,-1.755438224796266,2.7097705802672274,3.3469716377471603,-3.5770764618929602,-1.1559438919149556,-1.4714076343788807,4.349787843019887,4.106356906671475,1.1700083635469716,0.5768419882003124,0.9127476114535893,4.848594597128896,5.753655010684706,-0.4270958638288385,3.951110680509135,3.3555905568430693,0.7976091826440795,-9.380222343051738,-8.853248912797643,-8.826183827985664,-7.2081913106744295,-8.189369561954948,-3.0821045408875323,-3.393269356971824,-7.794638157327307,-7.994052707117933,4.224526666984982,-4.655079482900079,5.057368332528563,-0.37550510372683266,0.12525052587435515,-5.467586012618778,0.8812911419462025,1.9091089886522128,3.8023645115499947,4.396662318845394,4.187143082478826,0.598414282162793,-9.32737002279371],\"y\":[1.184161939344752,0.42189927925292353,1.6617177292768568,2.5916031937557897,2.3739286065274747,1.86247241578869,1.3016334124443816,0.6693078279097746,3.959206110116345,3.42005491844548,2.492783558414266,1.952935486428593,2.9283761310780245,2.1635251641549558,-6.333456645430036,-6.977140372111743,1.3213045516439301,0.5971974109062762,3.7265359056645804,3.1695321303804245,0.11208380615954011,3.6172209746009067,5.610415895854559,4.924801849242065,4.8346731773308536,4.313978356702513,3.071381478948909,0.9397715874364649,0.2522182237617278,3.7922291221568236,3.295072092455769,3.1247639796328115,2.5701225744273613,7.6640543888898485,8.349742486203521,2.5807013540313806,3.02600665395188,4.410915975503451,3.862803289840741,4.466777022306482,1.4843049019925085,2.738481600132786,0.8126120982532217,2.701843176220692,2.1796996617532365,2.034426974593821,-4.944529929303324,0.001224870075344553,0.09016843381265308,-0.4418520445178793,5.356615923405598,4.624102628201184,4.183352203978333,1.887313013838989,-3.954328276523996,-6.974180178530656,-0.9895821454578798,-0.34150187889417305,-0.6888557589046919,1.2256304260652309,3.0481543168767944,2.495936259298495,6.719547702416279,6.0943690351719315,-0.4497215795712788,-0.5815332969418869,5.60536207835381,5.121124285553786,1.8076431501108272,5.1193399314211145,-1.1622006407343461,3.2886398966394355,4.9733872044942835,-0.7768892011423926,-1.535310722814617,-1.566179358896533,-5.450223780525313,-4.975766105063439,-7.7749365091952125,0.9894530062525705,0.7650143905347145,5.956729566426476,0.05638785548461728,-0.5739771086957871,3.774848120393341,-2.865456038928163,-2.7922013617947545,0.1795167972299494,0.543481717421512,-2.211209718002631,-3.489919459235512,4.504901653439961,-6.024860794138293,5.4296767067000795,6.46700400953539,-7.082460194332136,-5.6302945745099,6.700292435440088,6.715833394082446,4.696550489370113,1.73124244548441,-5.885001681340755,-7.506943769453173,3.3097850280658756],\"type\":\"scatter\",\"uid\":\"48d2ee66-2215-47df-862a-b02fc8a3b944\"}],                        {\"autosize\":false,\"hovermode\":\"closest\",\"margin\":{\"b\":20,\"l\":5,\"r\":5,\"t\":40},\"showlegend\":false,\"template\":{\"data\":{\"barpolar\":[{\"marker\":{\"line\":{\"color\":\"white\",\"width\":0.5},\"pattern\":{\"fillmode\":\"overlay\",\"size\":10,\"solidity\":0.2}},\"type\":\"barpolar\"}],\"bar\":[{\"error_x\":{\"color\":\"rgb(36,36,36)\"},\"error_y\":{\"color\":\"rgb(36,36,36)\"},\"marker\":{\"line\":{\"color\":\"white\",\"width\":0.5},\"pattern\":{\"fillmode\":\"overlay\",\"size\":10,\"solidity\":0.2}},\"type\":\"bar\"}],\"carpet\":[{\"aaxis\":{\"endlinecolor\":\"rgb(36,36,36)\",\"gridcolor\":\"white\",\"linecolor\":\"white\",\"minorgridcolor\":\"white\",\"startlinecolor\":\"rgb(36,36,36)\"},\"baxis\":{\"endlinecolor\":\"rgb(36,36,36)\",\"gridcolor\":\"white\",\"linecolor\":\"white\",\"minorgridcolor\":\"white\",\"startlinecolor\":\"rgb(36,36,36)\"},\"type\":\"carpet\"}],\"choropleth\":[{\"colorbar\":{\"outlinewidth\":1,\"tickcolor\":\"rgb(36,36,36)\",\"ticks\":\"outside\"},\"type\":\"choropleth\"}],\"contourcarpet\":[{\"colorbar\":{\"outlinewidth\":1,\"tickcolor\":\"rgb(36,36,36)\",\"ticks\":\"outside\"},\"type\":\"contourcarpet\"}],\"contour\":[{\"colorbar\":{\"outlinewidth\":1,\"tickcolor\":\"rgb(36,36,36)\",\"ticks\":\"outside\"},\"colorscale\":[[0.0,\"#440154\"],[0.1111111111111111,\"#482878\"],[0.2222222222222222,\"#3e4989\"],[0.3333333333333333,\"#31688e\"],[0.4444444444444444,\"#26828e\"],[0.5555555555555556,\"#1f9e89\"],[0.6666666666666666,\"#35b779\"],[0.7777777777777778,\"#6ece58\"],[0.8888888888888888,\"#b5de2b\"],[1.0,\"#fde725\"]],\"type\":\"contour\"}],\"heatmapgl\":[{\"colorbar\":{\"outlinewidth\":1,\"tickcolor\":\"rgb(36,36,36)\",\"ticks\":\"outside\"},\"colorscale\":[[0.0,\"#440154\"],[0.1111111111111111,\"#482878\"],[0.2222222222222222,\"#3e4989\"],[0.3333333333333333,\"#31688e\"],[0.4444444444444444,\"#26828e\"],[0.5555555555555556,\"#1f9e89\"],[0.6666666666666666,\"#35b779\"],[0.7777777777777778,\"#6ece58\"],[0.8888888888888888,\"#b5de2b\"],[1.0,\"#fde725\"]],\"type\":\"heatmapgl\"}],\"heatmap\":[{\"colorbar\":{\"outlinewidth\":1,\"tickcolor\":\"rgb(36,36,36)\",\"ticks\":\"outside\"},\"colorscale\":[[0.0,\"#440154\"],[0.1111111111111111,\"#482878\"],[0.2222222222222222,\"#3e4989\"],[0.3333333333333333,\"#31688e\"],[0.4444444444444444,\"#26828e\"],[0.5555555555555556,\"#1f9e89\"],[0.6666666666666666,\"#35b779\"],[0.7777777777777778,\"#6ece58\"],[0.8888888888888888,\"#b5de2b\"],[1.0,\"#fde725\"]],\"type\":\"heatmap\"}],\"histogram2dcontour\":[{\"colorbar\":{\"outlinewidth\":1,\"tickcolor\":\"rgb(36,36,36)\",\"ticks\":\"outside\"},\"colorscale\":[[0.0,\"#440154\"],[0.1111111111111111,\"#482878\"],[0.2222222222222222,\"#3e4989\"],[0.3333333333333333,\"#31688e\"],[0.4444444444444444,\"#26828e\"],[0.5555555555555556,\"#1f9e89\"],[0.6666666666666666,\"#35b779\"],[0.7777777777777778,\"#6ece58\"],[0.8888888888888888,\"#b5de2b\"],[1.0,\"#fde725\"]],\"type\":\"histogram2dcontour\"}],\"histogram2d\":[{\"colorbar\":{\"outlinewidth\":1,\"tickcolor\":\"rgb(36,36,36)\",\"ticks\":\"outside\"},\"colorscale\":[[0.0,\"#440154\"],[0.1111111111111111,\"#482878\"],[0.2222222222222222,\"#3e4989\"],[0.3333333333333333,\"#31688e\"],[0.4444444444444444,\"#26828e\"],[0.5555555555555556,\"#1f9e89\"],[0.6666666666666666,\"#35b779\"],[0.7777777777777778,\"#6ece58\"],[0.8888888888888888,\"#b5de2b\"],[1.0,\"#fde725\"]],\"type\":\"histogram2d\"}],\"histogram\":[{\"marker\":{\"line\":{\"color\":\"white\",\"width\":0.6}},\"type\":\"histogram\"}],\"mesh3d\":[{\"colorbar\":{\"outlinewidth\":1,\"tickcolor\":\"rgb(36,36,36)\",\"ticks\":\"outside\"},\"type\":\"mesh3d\"}],\"parcoords\":[{\"line\":{\"colorbar\":{\"outlinewidth\":1,\"tickcolor\":\"rgb(36,36,36)\",\"ticks\":\"outside\"}},\"type\":\"parcoords\"}],\"pie\":[{\"automargin\":true,\"type\":\"pie\"}],\"scatter3d\":[{\"line\":{\"colorbar\":{\"outlinewidth\":1,\"tickcolor\":\"rgb(36,36,36)\",\"ticks\":\"outside\"}},\"marker\":{\"colorbar\":{\"outlinewidth\":1,\"tickcolor\":\"rgb(36,36,36)\",\"ticks\":\"outside\"}},\"type\":\"scatter3d\"}],\"scattercarpet\":[{\"marker\":{\"colorbar\":{\"outlinewidth\":1,\"tickcolor\":\"rgb(36,36,36)\",\"ticks\":\"outside\"}},\"type\":\"scattercarpet\"}],\"scattergeo\":[{\"marker\":{\"colorbar\":{\"outlinewidth\":1,\"tickcolor\":\"rgb(36,36,36)\",\"ticks\":\"outside\"}},\"type\":\"scattergeo\"}],\"scattergl\":[{\"marker\":{\"colorbar\":{\"outlinewidth\":1,\"tickcolor\":\"rgb(36,36,36)\",\"ticks\":\"outside\"}},\"type\":\"scattergl\"}],\"scattermapbox\":[{\"marker\":{\"colorbar\":{\"outlinewidth\":1,\"tickcolor\":\"rgb(36,36,36)\",\"ticks\":\"outside\"}},\"type\":\"scattermapbox\"}],\"scatterpolargl\":[{\"marker\":{\"colorbar\":{\"outlinewidth\":1,\"tickcolor\":\"rgb(36,36,36)\",\"ticks\":\"outside\"}},\"type\":\"scatterpolargl\"}],\"scatterpolar\":[{\"marker\":{\"colorbar\":{\"outlinewidth\":1,\"tickcolor\":\"rgb(36,36,36)\",\"ticks\":\"outside\"}},\"type\":\"scatterpolar\"}],\"scatter\":[{\"marker\":{\"colorbar\":{\"outlinewidth\":1,\"tickcolor\":\"rgb(36,36,36)\",\"ticks\":\"outside\"}},\"type\":\"scatter\"}],\"scatterternary\":[{\"marker\":{\"colorbar\":{\"outlinewidth\":1,\"tickcolor\":\"rgb(36,36,36)\",\"ticks\":\"outside\"}},\"type\":\"scatterternary\"}],\"surface\":[{\"colorbar\":{\"outlinewidth\":1,\"tickcolor\":\"rgb(36,36,36)\",\"ticks\":\"outside\"},\"colorscale\":[[0.0,\"#440154\"],[0.1111111111111111,\"#482878\"],[0.2222222222222222,\"#3e4989\"],[0.3333333333333333,\"#31688e\"],[0.4444444444444444,\"#26828e\"],[0.5555555555555556,\"#1f9e89\"],[0.6666666666666666,\"#35b779\"],[0.7777777777777778,\"#6ece58\"],[0.8888888888888888,\"#b5de2b\"],[1.0,\"#fde725\"]],\"type\":\"surface\"}],\"table\":[{\"cells\":{\"fill\":{\"color\":\"rgb(237,237,237)\"},\"line\":{\"color\":\"white\"}},\"header\":{\"fill\":{\"color\":\"rgb(217,217,217)\"},\"line\":{\"color\":\"white\"}},\"type\":\"table\"}]},\"layout\":{\"annotationdefaults\":{\"arrowhead\":0,\"arrowwidth\":1},\"autotypenumbers\":\"strict\",\"coloraxis\":{\"colorbar\":{\"outlinewidth\":1,\"tickcolor\":\"rgb(36,36,36)\",\"ticks\":\"outside\"}},\"colorscale\":{\"diverging\":[[0.0,\"rgb(103,0,31)\"],[0.1,\"rgb(178,24,43)\"],[0.2,\"rgb(214,96,77)\"],[0.3,\"rgb(244,165,130)\"],[0.4,\"rgb(253,219,199)\"],[0.5,\"rgb(247,247,247)\"],[0.6,\"rgb(209,229,240)\"],[0.7,\"rgb(146,197,222)\"],[0.8,\"rgb(67,147,195)\"],[0.9,\"rgb(33,102,172)\"],[1.0,\"rgb(5,48,97)\"]],\"sequential\":[[0.0,\"#440154\"],[0.1111111111111111,\"#482878\"],[0.2222222222222222,\"#3e4989\"],[0.3333333333333333,\"#31688e\"],[0.4444444444444444,\"#26828e\"],[0.5555555555555556,\"#1f9e89\"],[0.6666666666666666,\"#35b779\"],[0.7777777777777778,\"#6ece58\"],[0.8888888888888888,\"#b5de2b\"],[1.0,\"#fde725\"]],\"sequentialminus\":[[0.0,\"#440154\"],[0.1111111111111111,\"#482878\"],[0.2222222222222222,\"#3e4989\"],[0.3333333333333333,\"#31688e\"],[0.4444444444444444,\"#26828e\"],[0.5555555555555556,\"#1f9e89\"],[0.6666666666666666,\"#35b779\"],[0.7777777777777778,\"#6ece58\"],[0.8888888888888888,\"#b5de2b\"],[1.0,\"#fde725\"]]},\"colorway\":[\"#1F77B4\",\"#FF7F0E\",\"#2CA02C\",\"#D62728\",\"#9467BD\",\"#8C564B\",\"#E377C2\",\"#7F7F7F\",\"#BCBD22\",\"#17BECF\"],\"font\":{\"color\":\"rgb(36,36,36)\"},\"geo\":{\"bgcolor\":\"white\",\"lakecolor\":\"white\",\"landcolor\":\"white\",\"showlakes\":true,\"showland\":true,\"subunitcolor\":\"white\"},\"hoverlabel\":{\"align\":\"left\"},\"hovermode\":\"closest\",\"mapbox\":{\"style\":\"light\"},\"paper_bgcolor\":\"white\",\"plot_bgcolor\":\"white\",\"polar\":{\"angularaxis\":{\"gridcolor\":\"rgb(232,232,232)\",\"linecolor\":\"rgb(36,36,36)\",\"showgrid\":false,\"showline\":true,\"ticks\":\"outside\"},\"bgcolor\":\"white\",\"radialaxis\":{\"gridcolor\":\"rgb(232,232,232)\",\"linecolor\":\"rgb(36,36,36)\",\"showgrid\":false,\"showline\":true,\"ticks\":\"outside\"}},\"scene\":{\"xaxis\":{\"backgroundcolor\":\"white\",\"gridcolor\":\"rgb(232,232,232)\",\"gridwidth\":2,\"linecolor\":\"rgb(36,36,36)\",\"showbackground\":true,\"showgrid\":false,\"showline\":true,\"ticks\":\"outside\",\"zeroline\":false,\"zerolinecolor\":\"rgb(36,36,36)\"},\"yaxis\":{\"backgroundcolor\":\"white\",\"gridcolor\":\"rgb(232,232,232)\",\"gridwidth\":2,\"linecolor\":\"rgb(36,36,36)\",\"showbackground\":true,\"showgrid\":false,\"showline\":true,\"ticks\":\"outside\",\"zeroline\":false,\"zerolinecolor\":\"rgb(36,36,36)\"},\"zaxis\":{\"backgroundcolor\":\"white\",\"gridcolor\":\"rgb(232,232,232)\",\"gridwidth\":2,\"linecolor\":\"rgb(36,36,36)\",\"showbackground\":true,\"showgrid\":false,\"showline\":true,\"ticks\":\"outside\",\"zeroline\":false,\"zerolinecolor\":\"rgb(36,36,36)\"}},\"shapedefaults\":{\"fillcolor\":\"black\",\"line\":{\"width\":0},\"opacity\":0.3},\"ternary\":{\"aaxis\":{\"gridcolor\":\"rgb(232,232,232)\",\"linecolor\":\"rgb(36,36,36)\",\"showgrid\":false,\"showline\":true,\"ticks\":\"outside\"},\"baxis\":{\"gridcolor\":\"rgb(232,232,232)\",\"linecolor\":\"rgb(36,36,36)\",\"showgrid\":false,\"showline\":true,\"ticks\":\"outside\"},\"bgcolor\":\"white\",\"caxis\":{\"gridcolor\":\"rgb(232,232,232)\",\"linecolor\":\"rgb(36,36,36)\",\"showgrid\":false,\"showline\":true,\"ticks\":\"outside\"}},\"title\":{\"x\":0.05},\"xaxis\":{\"automargin\":true,\"gridcolor\":\"rgb(232,232,232)\",\"linecolor\":\"rgb(36,36,36)\",\"showgrid\":false,\"showline\":true,\"ticks\":\"outside\",\"title\":{\"standoff\":15},\"zeroline\":false,\"zerolinecolor\":\"rgb(36,36,36)\"},\"yaxis\":{\"automargin\":true,\"gridcolor\":\"rgb(232,232,232)\",\"linecolor\":\"rgb(36,36,36)\",\"showgrid\":false,\"showline\":true,\"ticks\":\"outside\",\"title\":{\"standoff\":15},\"zeroline\":false,\"zerolinecolor\":\"rgb(36,36,36)\"}}},\"title\":{\"text\":\"\"},\"xaxis\":{\"showgrid\":false,\"showline\":false,\"showticklabels\":false,\"ticks\":\"\",\"title\":{\"text\":\"\"},\"zeroline\":false},\"yaxis\":{\"showgrid\":false,\"showline\":false,\"showticklabels\":false,\"ticks\":\"\",\"title\":{\"text\":\"\"},\"zeroline\":false}},                        {\"scrollZoom\": false, \"responsive\": true}                    ).then(function(){\n",
       "                            \n",
       "var gd = document.getElementById('3bae7919-7500-4538-8d2a-717cfe7748b7');\n",
       "var x = new MutationObserver(function (mutations, observer) {{\n",
       "        var display = window.getComputedStyle(gd).display;\n",
       "        if (!display || display === 'none') {{\n",
       "            console.log([gd, 'removed!']);\n",
       "            Plotly.purge(gd);\n",
       "            observer.disconnect();\n",
       "        }}\n",
       "}});\n",
       "\n",
       "// Listen for the removal of the full notebook cells\n",
       "var notebookContainer = gd.closest('#notebook-container');\n",
       "if (notebookContainer) {{\n",
       "    x.observe(notebookContainer, {childList: true});\n",
       "}}\n",
       "\n",
       "// Listen for the clearing of the current output cell\n",
       "var outputEl = gd.closest('.output');\n",
       "if (outputEl) {{\n",
       "    x.observe(outputEl, {childList: true});\n",
       "}}\n",
       "\n",
       "                        })                };                });            </script>        </div>"
      ]
     },
     "metadata": {},
     "output_type": "display_data"
    }
   ],
   "source": [
    "fig = plot_static_mapper_graph(pipe, embeddingsF)\n",
    "fig.show(config={'scrollZoom': False})"
   ]
  },
  {
   "cell_type": "code",
   "execution_count": 55,
   "id": "70c21d78",
   "metadata": {},
   "outputs": [
    {
     "data": {
      "application/vnd.jupyter.widget-view+json": {
       "model_id": "8d60f282c5874e3f80e9724cdec313f1",
       "version_major": 2,
       "version_minor": 0
      },
      "text/plain": [
       "VBox(children=(HBox(children=(VBox(children=(HTML(value='<b>Cover parameters</b>'), Text(value='uniform', cont…"
      ]
     },
     "metadata": {},
     "output_type": "display_data"
    }
   ],
   "source": [
    "plot_interactive_mapper_graph(pipe, embeddingsM)"
   ]
  },
  {
   "cell_type": "code",
   "execution_count": 56,
   "id": "a5ad4d04",
   "metadata": {},
   "outputs": [
    {
     "data": {
      "application/vnd.jupyter.widget-view+json": {
       "model_id": "683c53684d404df1872565291b3d7960",
       "version_major": 2,
       "version_minor": 0
      },
      "text/plain": [
       "VBox(children=(HBox(children=(VBox(children=(HTML(value='<b>Cover parameters</b>'), Text(value='uniform', cont…"
      ]
     },
     "metadata": {},
     "output_type": "display_data"
    }
   ],
   "source": [
    "plot_interactive_mapper_graph(pipe, embeddingsF)"
   ]
  },
  {
   "cell_type": "code",
   "execution_count": 57,
   "id": "47e8d230",
   "metadata": {},
   "outputs": [
    {
     "data": {
      "application/vnd.plotly.v1+json": {
       "config": {
        "plotlyServerURL": "https://plot.ly",
        "scrollZoom": true
       },
       "data": [
        {
         "hoverinfo": "none",
         "line": {
          "color": "#888",
          "width": 1
         },
         "mode": "lines",
         "name": "edge_trace",
         "type": "scatter3d",
         "uid": "02780247-cfc1-4ea5-8912-a74eaaf8e1b0",
         "x": [
          1.8554728996831464,
          1.5276565551312504,
          null,
          1.8554728996831464,
          2.1949859114951726,
          null,
          1.8554728996831464,
          2.570901616237107,
          null,
          1.8554728996831464,
          2.8144876962530723,
          null,
          1.8554728996831464,
          1.1728908788726713,
          null,
          1.8554728996831464,
          0.8552310810594604,
          null,
          1.8554728996831464,
          2.1977586232397113,
          null,
          1.8554728996831464,
          1.4526960919698373,
          null,
          1.5276565551312504,
          2.1949859114951726,
          null,
          1.5276565551312504,
          1.8335203247376581,
          null,
          1.5276565551312504,
          1.1771143495329666,
          null,
          1.5276565551312504,
          2.570901616237107,
          null,
          1.5276565551312504,
          1.1728908788726713,
          null,
          1.5276565551312504,
          0.8552310810594604,
          null,
          1.5276565551312504,
          0.4480887438807469,
          null,
          -0.914640458389585,
          -1.3697179982729855,
          null,
          -0.914640458389585,
          -0.9788566733177861,
          null,
          -0.914640458389585,
          -1.6802395019192602,
          null,
          -0.914640458389585,
          0.08888966958466044,
          null,
          -0.914640458389585,
          -0.12486236101142525,
          null,
          -0.914640458389585,
          -0.5297487575271422,
          null,
          -0.914640458389585,
          -1.3673708497641486,
          null,
          -0.914640458389585,
          -0.5601813511943884,
          null,
          -1.3697179982729855,
          -0.9788566733177861,
          null,
          -1.3697179982729855,
          -1.6802395019192602,
          null,
          -1.3697179982729855,
          -0.5297487575271422,
          null,
          -1.3697179982729855,
          -1.3673708497641486,
          null,
          -1.3697179982729855,
          -1.8433854727160177,
          null,
          -1.3697179982729855,
          -2.2224795112339844,
          null,
          -1.3697179982729855,
          -1.78039527563798,
          null,
          -0.9788566733177861,
          -1.6802395019192602,
          null,
          -0.9788566733177861,
          -0.12486236101142525,
          null,
          -0.9788566733177861,
          -0.5601813511943884,
          null,
          -1.6802395019192602,
          -2.2224795112339844,
          null,
          -1.6802395019192602,
          -1.78039527563798,
          null,
          -0.7916978097035565,
          -0.0056458762629420815,
          null,
          -0.7916978097035565,
          -1.0150142259299129,
          null,
          -0.7916978097035565,
          -0.33900369525750135,
          null,
          -0.7916978097035565,
          -1.4825795991270436,
          null,
          -0.7916978097035565,
          -1.760552724254237,
          null,
          -0.0056458762629420815,
          -1.0150142259299129,
          null,
          -0.0056458762629420815,
          -0.33900369525750135,
          null,
          -0.0056458762629420815,
          0.46468341675575536,
          null,
          -0.0056458762629420815,
          0.7580757706092331,
          null,
          0.08888966958466044,
          -0.12486236101142525,
          null,
          0.08888966958466044,
          -0.5297487575271422,
          null,
          0.08888966958466044,
          1.1728908788726713,
          null,
          0.08888966958466044,
          -0.33900369525750135,
          null,
          0.08888966958466044,
          0.8552310810594604,
          null,
          0.08888966958466044,
          0.46468341675575536,
          null,
          0.08888966958466044,
          0.4480887438807469,
          null,
          -0.12486236101142525,
          -0.5297487575271422,
          null,
          -0.12486236101142525,
          -0.5601813511943884,
          null,
          -0.12486236101142525,
          0.8552310810594604,
          null,
          -0.12486236101142525,
          0.4480887438807469,
          null,
          -0.12486236101142525,
          0.15917173944551918,
          null,
          -1.0150142259299129,
          -0.5297487575271422,
          null,
          -1.0150142259299129,
          -1.3673708497641486,
          null,
          -1.0150142259299129,
          -1.8433854727160177,
          null,
          -1.0150142259299129,
          -0.33900369525750135,
          null,
          -1.0150142259299129,
          -1.4825795991270436,
          null,
          -1.0150142259299129,
          -1.760552724254237,
          null,
          -0.5297487575271422,
          -1.3673708497641486,
          null,
          -0.5297487575271422,
          -0.33900369525750135,
          null,
          -0.5297487575271422,
          0.46468341675575536,
          null,
          -1.3673708497641486,
          -1.8433854727160177,
          null,
          -1.3673708497641486,
          -2.2224795112339844,
          null,
          -1.3673708497641486,
          -0.33900369525750135,
          null,
          -1.3673708497641486,
          -1.760552724254237,
          null,
          2.1949859114951726,
          1.8335203247376581,
          null,
          2.1949859114951726,
          1.1771143495329666,
          null,
          2.1949859114951726,
          3.1475299126437624,
          null,
          2.1949859114951726,
          2.570901616237107,
          null,
          2.1949859114951726,
          2.8580060491061174,
          null,
          2.1949859114951726,
          2.644293711884661,
          null,
          1.8335203247376581,
          1.1771143495329666,
          null,
          1.8335203247376581,
          2.8580060491061174,
          null,
          1.8335203247376581,
          0.7509771613258307,
          null,
          1.8335203247376581,
          2.644293711884661,
          null,
          1.8335203247376581,
          1.308211534238659,
          null,
          1.1771143495329666,
          0.8552310810594604,
          null,
          1.1771143495329666,
          0.7509771613258307,
          null,
          1.1771143495329666,
          0.4480887438807469,
          null,
          1.1771143495329666,
          1.308211534238659,
          null,
          1.1771143495329666,
          0.15917173944551918,
          null,
          1.1771143495329666,
          1.1132549358650246,
          null,
          3.1475299126437624,
          2.570901616237107,
          null,
          3.1475299126437624,
          2.8580060491061174,
          null,
          3.1475299126437624,
          2.8144876962530723,
          null,
          3.1475299126437624,
          3.545056387579874,
          null,
          2.570901616237107,
          2.8580060491061174,
          null,
          2.570901616237107,
          2.8144876962530723,
          null,
          2.570901616237107,
          2.1977586232397113,
          null,
          2.570901616237107,
          3.545056387579874,
          null,
          2.8580060491061174,
          2.644293711884661,
          null,
          -1.8433854727160177,
          -2.2224795112339844,
          null,
          -1.8433854727160177,
          -2.555655312445141,
          null,
          -1.8433854727160177,
          -2.4895237272641824,
          null,
          -1.8433854727160177,
          -1.760552724254237,
          null,
          -1.8433854727160177,
          -2.3886827619327238,
          null,
          -2.2224795112339844,
          -2.555655312445141,
          null,
          -2.2224795112339844,
          -3.0344415802453986,
          null,
          -2.2224795112339844,
          -2.983762028315379,
          null,
          -2.2224795112339844,
          -3.1780813849994467,
          null,
          -2.2224795112339844,
          -2.3886827619327238,
          null,
          -2.2224795112339844,
          -1.78039527563798,
          null,
          2.8144876962530723,
          2.1977586232397113,
          null,
          2.8144876962530723,
          3.545056387579874,
          null,
          -0.5601813511943884,
          0.4480887438807469,
          null,
          -0.5601813511943884,
          0.15917173944551918,
          null,
          2.1216669337881466,
          1.5622705018676695,
          null,
          1.1728908788726713,
          0.8552310810594604,
          null,
          1.1728908788726713,
          0.46468341675575536,
          null,
          1.1728908788726713,
          2.1977586232397113,
          null,
          1.1728908788726713,
          1.4526960919698373,
          null,
          1.1728908788726713,
          0.7580757706092331,
          null,
          -0.33900369525750135,
          0.46468341675575536,
          null,
          -0.33900369525750135,
          0.7580757706092331,
          null,
          0.8552310810594604,
          0.46468341675575536,
          null,
          0.8552310810594604,
          0.4480887438807469,
          null,
          0.46468341675575536,
          1.4526960919698373,
          null,
          0.46468341675575536,
          0.7580757706092331,
          null,
          0.7509771613258307,
          0.4480887438807469,
          null,
          0.7509771613258307,
          1.308211534238659,
          null,
          0.7509771613258307,
          0.15917173944551918,
          null,
          0.7509771613258307,
          1.1132549358650246,
          null,
          2.1977586232397113,
          1.4526960919698373,
          null,
          1.4526960919698373,
          0.7580757706092331,
          null,
          -2.555655312445141,
          -2.4895237272641824,
          null,
          -2.555655312445141,
          -1.760552724254237,
          null,
          -2.555655312445141,
          -2.3886827619327238,
          null,
          -2.555655312445141,
          -3.0300662526319906,
          null,
          -2.555655312445141,
          -2.6872102899872563,
          null,
          -2.555655312445141,
          -3.3698903308440835,
          null,
          0.7580757706092331,
          1.2356735914434496,
          null,
          -2.4895237272641824,
          -1.760552724254237,
          null,
          -2.4895237272641824,
          -3.0300662526319906,
          null,
          -2.4895237272641824,
          -3.3698903308440835,
          null,
          -1.4825795991270436,
          -1.760552724254237,
          null,
          0.4480887438807469,
          0.15917173944551918,
          null,
          -3.0344415802453986,
          -2.983762028315379,
          null,
          -3.0344415802453986,
          -3.1780813849994467,
          null,
          -2.983762028315379,
          -3.1780813849994467,
          null,
          -2.3886827619327238,
          -3.0300662526319906,
          null,
          -2.3886827619327238,
          -2.6872102899872563,
          null,
          2.970111125340026,
          3.4024630266660174,
          null,
          2.970111125340026,
          2.185604379743753,
          null,
          -3.0300662526319906,
          -2.6872102899872563,
          null,
          -3.0300662526319906,
          -3.3698903308440835,
          null,
          1.308211534238659,
          1.1132549358650246,
          null,
          0.878713972752056,
          0.24692135909857882,
          null,
          -3.3224945900909377,
          -3.540998194232536,
          null
         ],
         "y": [
          -0.2317801328758763,
          -0.9664670014436818,
          null,
          -0.2317801328758763,
          -1.0626049810813316,
          null,
          -0.2317801328758763,
          -0.7252132369545344,
          null,
          -0.2317801328758763,
          0.0639658834994653,
          null,
          -0.2317801328758763,
          -0.28372162974083415,
          null,
          -0.2317801328758763,
          -0.44010663042243753,
          null,
          -0.2317801328758763,
          0.004578306658217471,
          null,
          -0.2317801328758763,
          0.39654000944767415,
          null,
          -0.9664670014436818,
          -1.0626049810813316,
          null,
          -0.9664670014436818,
          -1.8186119278673056,
          null,
          -0.9664670014436818,
          -1.2567578142089981,
          null,
          -0.9664670014436818,
          -0.7252132369545344,
          null,
          -0.9664670014436818,
          -0.28372162974083415,
          null,
          -0.9664670014436818,
          -0.44010663042243753,
          null,
          -0.9664670014436818,
          -1.0522681638596614,
          null,
          -0.12539284878015872,
          0.6870619792753432,
          null,
          -0.12539284878015872,
          0.09677417465779883,
          null,
          -0.12539284878015872,
          0.5120391354049632,
          null,
          -0.12539284878015872,
          -0.40962120003762614,
          null,
          -0.12539284878015872,
          -0.31893083202120637,
          null,
          -0.12539284878015872,
          0.24082104874958837,
          null,
          -0.12539284878015872,
          0.3071976284434996,
          null,
          -0.12539284878015872,
          -0.792003067270504,
          null,
          0.6870619792753432,
          0.09677417465779883,
          null,
          0.6870619792753432,
          0.5120391354049632,
          null,
          0.6870619792753432,
          0.24082104874958837,
          null,
          0.6870619792753432,
          0.3071976284434996,
          null,
          0.6870619792753432,
          0.9469974312770807,
          null,
          0.6870619792753432,
          0.9019674095923333,
          null,
          0.6870619792753432,
          1.3881958516339832,
          null,
          0.09677417465779883,
          0.5120391354049632,
          null,
          0.09677417465779883,
          -0.31893083202120637,
          null,
          0.09677417465779883,
          -0.792003067270504,
          null,
          0.5120391354049632,
          0.9019674095923333,
          null,
          0.5120391354049632,
          1.3881958516339832,
          null,
          0.307450166357377,
          0.4787470720396506,
          null,
          0.307450166357377,
          0.44210664185103365,
          null,
          0.307450166357377,
          0.04743427029464305,
          null,
          0.307450166357377,
          0.03724298657870754,
          null,
          0.307450166357377,
          0.5902193287772233,
          null,
          0.4787470720396506,
          0.44210664185103365,
          null,
          0.4787470720396506,
          0.04743427029464305,
          null,
          0.4787470720396506,
          0.17240033767714527,
          null,
          0.4787470720396506,
          0.21269250197333023,
          null,
          -0.40962120003762614,
          -0.31893083202120637,
          null,
          -0.40962120003762614,
          0.24082104874958837,
          null,
          -0.40962120003762614,
          -0.28372162974083415,
          null,
          -0.40962120003762614,
          0.04743427029464305,
          null,
          -0.40962120003762614,
          -0.44010663042243753,
          null,
          -0.40962120003762614,
          0.17240033767714527,
          null,
          -0.40962120003762614,
          -1.0522681638596614,
          null,
          -0.31893083202120637,
          0.24082104874958837,
          null,
          -0.31893083202120637,
          -0.792003067270504,
          null,
          -0.31893083202120637,
          -0.44010663042243753,
          null,
          -0.31893083202120637,
          -1.0522681638596614,
          null,
          -0.31893083202120637,
          -1.145539506835308,
          null,
          0.44210664185103365,
          0.24082104874958837,
          null,
          0.44210664185103365,
          0.3071976284434996,
          null,
          0.44210664185103365,
          0.9469974312770807,
          null,
          0.44210664185103365,
          0.04743427029464305,
          null,
          0.44210664185103365,
          0.03724298657870754,
          null,
          0.44210664185103365,
          0.5902193287772233,
          null,
          0.24082104874958837,
          0.3071976284434996,
          null,
          0.24082104874958837,
          0.04743427029464305,
          null,
          0.24082104874958837,
          0.17240033767714527,
          null,
          0.3071976284434996,
          0.9469974312770807,
          null,
          0.3071976284434996,
          0.9019674095923333,
          null,
          0.3071976284434996,
          0.04743427029464305,
          null,
          0.3071976284434996,
          0.5902193287772233,
          null,
          -1.0626049810813316,
          -1.8186119278673056,
          null,
          -1.0626049810813316,
          -1.2567578142089981,
          null,
          -1.0626049810813316,
          -0.7413225882584388,
          null,
          -1.0626049810813316,
          -0.7252132369545344,
          null,
          -1.0626049810813316,
          -1.5764839708244043,
          null,
          -1.0626049810813316,
          -1.927921520713493,
          null,
          -1.8186119278673056,
          -1.2567578142089981,
          null,
          -1.8186119278673056,
          -1.5764839708244043,
          null,
          -1.8186119278673056,
          -1.8600144749774317,
          null,
          -1.8186119278673056,
          -1.927921520713493,
          null,
          -1.8186119278673056,
          -2.3105078073650924,
          null,
          -1.2567578142089981,
          -0.44010663042243753,
          null,
          -1.2567578142089981,
          -1.8600144749774317,
          null,
          -1.2567578142089981,
          -1.0522681638596614,
          null,
          -1.2567578142089981,
          -2.3105078073650924,
          null,
          -1.2567578142089981,
          -1.145539506835308,
          null,
          -1.2567578142089981,
          -1.802937527167718,
          null,
          -0.7413225882584388,
          -0.7252132369545344,
          null,
          -0.7413225882584388,
          -1.5764839708244043,
          null,
          -0.7413225882584388,
          0.0639658834994653,
          null,
          -0.7413225882584388,
          -0.41696379967703484,
          null,
          -0.7252132369545344,
          -1.5764839708244043,
          null,
          -0.7252132369545344,
          0.0639658834994653,
          null,
          -0.7252132369545344,
          0.004578306658217471,
          null,
          -0.7252132369545344,
          -0.41696379967703484,
          null,
          -1.5764839708244043,
          -1.927921520713493,
          null,
          0.9469974312770807,
          0.9019674095923333,
          null,
          0.9469974312770807,
          1.2293224024875242,
          null,
          0.9469974312770807,
          0.9536204508953611,
          null,
          0.9469974312770807,
          0.5902193287772233,
          null,
          0.9469974312770807,
          1.7652627553069662,
          null,
          0.9019674095923333,
          1.2293224024875242,
          null,
          0.9019674095923333,
          0.6547082114872955,
          null,
          0.9019674095923333,
          1.2739759270417148,
          null,
          0.9019674095923333,
          0.43212309750340727,
          null,
          0.9019674095923333,
          1.7652627553069662,
          null,
          0.9019674095923333,
          1.3881958516339832,
          null,
          0.0639658834994653,
          0.004578306658217471,
          null,
          0.0639658834994653,
          -0.41696379967703484,
          null,
          -0.792003067270504,
          -1.0522681638596614,
          null,
          -0.792003067270504,
          -1.145539506835308,
          null,
          -3.355806637153506,
          -2.846171798971228,
          null,
          -0.28372162974083415,
          -0.44010663042243753,
          null,
          -0.28372162974083415,
          0.17240033767714527,
          null,
          -0.28372162974083415,
          0.004578306658217471,
          null,
          -0.28372162974083415,
          0.39654000944767415,
          null,
          -0.28372162974083415,
          0.21269250197333023,
          null,
          0.04743427029464305,
          0.17240033767714527,
          null,
          0.04743427029464305,
          0.21269250197333023,
          null,
          -0.44010663042243753,
          0.17240033767714527,
          null,
          -0.44010663042243753,
          -1.0522681638596614,
          null,
          0.17240033767714527,
          0.39654000944767415,
          null,
          0.17240033767714527,
          0.21269250197333023,
          null,
          -1.8600144749774317,
          -1.0522681638596614,
          null,
          -1.8600144749774317,
          -2.3105078073650924,
          null,
          -1.8600144749774317,
          -1.145539506835308,
          null,
          -1.8600144749774317,
          -1.802937527167718,
          null,
          0.004578306658217471,
          0.39654000944767415,
          null,
          0.39654000944767415,
          0.21269250197333023,
          null,
          1.2293224024875242,
          0.9536204508953611,
          null,
          1.2293224024875242,
          0.5902193287772233,
          null,
          1.2293224024875242,
          1.7652627553069662,
          null,
          1.2293224024875242,
          1.7675125369600815,
          null,
          1.2293224024875242,
          2.3375255125723684,
          null,
          1.2293224024875242,
          1.0828293828355935,
          null,
          0.21269250197333023,
          0.4571119243295607,
          null,
          0.9536204508953611,
          0.5902193287772233,
          null,
          0.9536204508953611,
          1.7675125369600815,
          null,
          0.9536204508953611,
          1.0828293828355935,
          null,
          0.03724298657870754,
          0.5902193287772233,
          null,
          -1.0522681638596614,
          -1.145539506835308,
          null,
          0.6547082114872955,
          1.2739759270417148,
          null,
          0.6547082114872955,
          0.43212309750340727,
          null,
          1.2739759270417148,
          0.43212309750340727,
          null,
          1.7652627553069662,
          1.7675125369600815,
          null,
          1.7652627553069662,
          2.3375255125723684,
          null,
          2.030187702111041,
          2.6171454199008073,
          null,
          2.030187702111041,
          2.0819636117748233,
          null,
          1.7675125369600815,
          2.3375255125723684,
          null,
          1.7675125369600815,
          1.0828293828355935,
          null,
          -2.3105078073650924,
          -1.802937527167718,
          null,
          -6.689940853924637,
          -6.945562283528238,
          null,
          -5.254546311961844,
          -4.66962202624671,
          null
         ],
         "z": [
          0.336085645601207,
          0.4189369768041691,
          null,
          0.336085645601207,
          0.9587189558091119,
          null,
          0.336085645601207,
          0.3157215846521829,
          null,
          0.336085645601207,
          0.3855501239649984,
          null,
          0.336085645601207,
          -0.2758245543126569,
          null,
          0.336085645601207,
          0.4353373053961855,
          null,
          0.336085645601207,
          -0.30068044886260553,
          null,
          0.336085645601207,
          -0.4553313638256909,
          null,
          0.4189369768041691,
          0.9587189558091119,
          null,
          0.4189369768041691,
          0.881460644098442,
          null,
          0.4189369768041691,
          1.113567236328111,
          null,
          0.4189369768041691,
          0.3157215846521829,
          null,
          0.4189369768041691,
          -0.2758245543126569,
          null,
          0.4189369768041691,
          0.4353373053961855,
          null,
          0.4189369768041691,
          0.6650414081948298,
          null,
          0.3675254832135147,
          0.19829149014870984,
          null,
          0.3675254832135147,
          1.0705734262525834,
          null,
          0.3675254832135147,
          0.7891242171296435,
          null,
          0.3675254832135147,
          -0.03925941627940423,
          null,
          0.3675254832135147,
          0.7134421195875371,
          null,
          0.3675254832135147,
          -0.16248935822152558,
          null,
          0.3675254832135147,
          -0.46016199334669905,
          null,
          0.3675254832135147,
          1.078114019961172,
          null,
          0.19829149014870984,
          1.0705734262525834,
          null,
          0.19829149014870984,
          0.7891242171296435,
          null,
          0.19829149014870984,
          -0.16248935822152558,
          null,
          0.19829149014870984,
          -0.46016199334669905,
          null,
          0.19829149014870984,
          -0.7482997991451538,
          null,
          0.19829149014870984,
          -0.041940325296721925,
          null,
          0.19829149014870984,
          0.7008925052444824,
          null,
          1.0705734262525834,
          0.7891242171296435,
          null,
          1.0705734262525834,
          0.7134421195875371,
          null,
          1.0705734262525834,
          1.078114019961172,
          null,
          0.7891242171296435,
          -0.041940325296721925,
          null,
          0.7891242171296435,
          0.7008925052444824,
          null,
          -1.7735485612591535,
          -1.3565251498693904,
          null,
          -1.7735485612591535,
          -1.1242380876243958,
          null,
          -1.7735485612591535,
          -0.8700709746574915,
          null,
          -1.7735485612591535,
          -2.0395713574781715,
          null,
          -1.7735485612591535,
          -1.4238547853062855,
          null,
          -1.3565251498693904,
          -1.1242380876243958,
          null,
          -1.3565251498693904,
          -0.8700709746574915,
          null,
          -1.3565251498693904,
          -0.4174893023910735,
          null,
          -1.3565251498693904,
          -1.1069765591535625,
          null,
          -0.03925941627940423,
          0.7134421195875371,
          null,
          -0.03925941627940423,
          -0.16248935822152558,
          null,
          -0.03925941627940423,
          -0.2758245543126569,
          null,
          -0.03925941627940423,
          -0.8700709746574915,
          null,
          -0.03925941627940423,
          0.4353373053961855,
          null,
          -0.03925941627940423,
          -0.4174893023910735,
          null,
          -0.03925941627940423,
          0.6650414081948298,
          null,
          0.7134421195875371,
          -0.16248935822152558,
          null,
          0.7134421195875371,
          1.078114019961172,
          null,
          0.7134421195875371,
          0.4353373053961855,
          null,
          0.7134421195875371,
          0.6650414081948298,
          null,
          0.7134421195875371,
          1.3310338793448473,
          null,
          -1.1242380876243958,
          -0.16248935822152558,
          null,
          -1.1242380876243958,
          -0.46016199334669905,
          null,
          -1.1242380876243958,
          -0.7482997991451538,
          null,
          -1.1242380876243958,
          -0.8700709746574915,
          null,
          -1.1242380876243958,
          -2.0395713574781715,
          null,
          -1.1242380876243958,
          -1.4238547853062855,
          null,
          -0.16248935822152558,
          -0.46016199334669905,
          null,
          -0.16248935822152558,
          -0.8700709746574915,
          null,
          -0.16248935822152558,
          -0.4174893023910735,
          null,
          -0.46016199334669905,
          -0.7482997991451538,
          null,
          -0.46016199334669905,
          -0.041940325296721925,
          null,
          -0.46016199334669905,
          -0.8700709746574915,
          null,
          -0.46016199334669905,
          -1.4238547853062855,
          null,
          0.9587189558091119,
          0.881460644098442,
          null,
          0.9587189558091119,
          1.113567236328111,
          null,
          0.9587189558091119,
          0.9473172736375558,
          null,
          0.9587189558091119,
          0.3157215846521829,
          null,
          0.9587189558091119,
          0.7576359046673413,
          null,
          0.9587189558091119,
          1.3449059373245966,
          null,
          0.881460644098442,
          1.113567236328111,
          null,
          0.881460644098442,
          0.7576359046673413,
          null,
          0.881460644098442,
          1.1660192899377426,
          null,
          0.881460644098442,
          1.3449059373245966,
          null,
          0.881460644098442,
          1.3219852210876757,
          null,
          1.113567236328111,
          0.4353373053961855,
          null,
          1.113567236328111,
          1.1660192899377426,
          null,
          1.113567236328111,
          0.6650414081948298,
          null,
          1.113567236328111,
          1.3219852210876757,
          null,
          1.113567236328111,
          1.3310338793448473,
          null,
          1.113567236328111,
          1.98387947935409,
          null,
          0.9473172736375558,
          0.3157215846521829,
          null,
          0.9473172736375558,
          0.7576359046673413,
          null,
          0.9473172736375558,
          0.3855501239649984,
          null,
          0.9473172736375558,
          0.31972549048911775,
          null,
          0.3157215846521829,
          0.7576359046673413,
          null,
          0.3157215846521829,
          0.3855501239649984,
          null,
          0.3157215846521829,
          -0.30068044886260553,
          null,
          0.3157215846521829,
          0.31972549048911775,
          null,
          0.7576359046673413,
          1.3449059373245966,
          null,
          -0.7482997991451538,
          -0.041940325296721925,
          null,
          -0.7482997991451538,
          -1.0341759224687634,
          null,
          -0.7482997991451538,
          -1.6675238486030297,
          null,
          -0.7482997991451538,
          -1.4238547853062855,
          null,
          -0.7482997991451538,
          -0.6246183496168176,
          null,
          -0.041940325296721925,
          -1.0341759224687634,
          null,
          -0.041940325296721925,
          0.6051930669726293,
          null,
          -0.041940325296721925,
          0.44255454028516344,
          null,
          -0.041940325296721925,
          0.05437213370060751,
          null,
          -0.041940325296721925,
          -0.6246183496168176,
          null,
          -0.041940325296721925,
          0.7008925052444824,
          null,
          0.3855501239649984,
          -0.30068044886260553,
          null,
          0.3855501239649984,
          0.31972549048911775,
          null,
          1.078114019961172,
          0.6650414081948298,
          null,
          1.078114019961172,
          1.3310338793448473,
          null,
          -6.492156359868488,
          -6.845023421879541,
          null,
          -0.2758245543126569,
          0.4353373053961855,
          null,
          -0.2758245543126569,
          -0.4174893023910735,
          null,
          -0.2758245543126569,
          -0.30068044886260553,
          null,
          -0.2758245543126569,
          -0.4553313638256909,
          null,
          -0.2758245543126569,
          -1.1069765591535625,
          null,
          -0.8700709746574915,
          -0.4174893023910735,
          null,
          -0.8700709746574915,
          -1.1069765591535625,
          null,
          0.4353373053961855,
          -0.4174893023910735,
          null,
          0.4353373053961855,
          0.6650414081948298,
          null,
          -0.4174893023910735,
          -0.4553313638256909,
          null,
          -0.4174893023910735,
          -1.1069765591535625,
          null,
          1.1660192899377426,
          0.6650414081948298,
          null,
          1.1660192899377426,
          1.3219852210876757,
          null,
          1.1660192899377426,
          1.3310338793448473,
          null,
          1.1660192899377426,
          1.98387947935409,
          null,
          -0.30068044886260553,
          -0.4553313638256909,
          null,
          -0.4553313638256909,
          -1.1069765591535625,
          null,
          -1.0341759224687634,
          -1.6675238486030297,
          null,
          -1.0341759224687634,
          -1.4238547853062855,
          null,
          -1.0341759224687634,
          -0.6246183496168176,
          null,
          -1.0341759224687634,
          -1.5192399167356838,
          null,
          -1.0341759224687634,
          -1.2087811205910668,
          null,
          -1.0341759224687634,
          -1.6720208969094876,
          null,
          -1.1069765591535625,
          -2.0016118525533555,
          null,
          -1.6675238486030297,
          -1.4238547853062855,
          null,
          -1.6675238486030297,
          -1.5192399167356838,
          null,
          -1.6675238486030297,
          -1.6720208969094876,
          null,
          -2.0395713574781715,
          -1.4238547853062855,
          null,
          0.6650414081948298,
          1.3310338793448473,
          null,
          0.6051930669726293,
          0.44255454028516344,
          null,
          0.6051930669726293,
          0.05437213370060751,
          null,
          0.44255454028516344,
          0.05437213370060751,
          null,
          -0.6246183496168176,
          -1.5192399167356838,
          null,
          -0.6246183496168176,
          -1.2087811205910668,
          null,
          -6.378820650752137,
          -5.864628897909871,
          null,
          -6.378820650752137,
          -6.70335252399935,
          null,
          -1.5192399167356838,
          -1.2087811205910668,
          null,
          -1.5192399167356838,
          -1.6720208969094876,
          null,
          1.3219852210876757,
          1.98387947935409,
          null,
          -3.1613134321636034,
          -2.6057785959446313,
          null,
          -4.172541440519091,
          -4.72045993037773,
          null
         ]
        },
        {
         "hoverinfo": "text",
         "hoverlabel": {
          "bgcolor": [
           "#6acc5a",
           "#78d052",
           "#65ca5d",
           "#88d448",
           "#80d24d",
           "#c4e02a",
           "#7ed24e",
           "#72cf56",
           "#67cb5c",
           "#9ed939",
           "#9bd83b",
           "#71cf56",
           "#a7db34",
           "#8ad446",
           "#4bc06c",
           "#85d349",
           "#6acc5a",
           "#7ad150",
           "#76d053",
           "#a2da37",
           "#9dd93a",
           "#5bc663",
           "#9bd83b",
           "#98d73e",
           "#90d642",
           "#3fbb73",
           "#96d73f",
           "#94d740",
           "#6dce58",
           "#59c664",
           "#7dd14f",
           "#74cf54",
           "#70ce57",
           "#a7db34",
           "#9bd83c",
           "#a7db34",
           "#a6db34",
           "#9dd93a",
           "#c6e02a",
           "#87d448",
           "#26818e",
           "#61c960",
           "#25888d",
           "#85d349",
           "#5dc762",
           "#96d73f",
           "#8fd543",
           "#21a187",
           "#afdd2f",
           "#36b878",
           "#a8db33",
           "#f1e626",
           "#dee328",
           "#99d83d",
           "#21988a",
           "#fde725",
           "#5cc762",
           "#440154",
           "#c7e029",
           "#423d83"
          ]
         },
         "hovertext": [
          "Node ID: 0<br>Pullback set label: 10<br>Partial cluster label: 0<br>Node size: 1089<br>Summary statistic: 6000.0",
          "Node ID: 1<br>Pullback set label: 20<br>Partial cluster label: 0<br>Node size: 1125<br>Summary statistic: 6090.0",
          "Node ID: 2<br>Pullback set label: 33<br>Partial cluster label: 0<br>Node size: 846<br>Summary statistic: 5970.0",
          "Node ID: 3<br>Pullback set label: 34<br>Partial cluster label: 0<br>Node size: 621<br>Summary statistic: 6170.0",
          "Node ID: 4<br>Pullback set label: 43<br>Partial cluster label: 0<br>Node size: 231<br>Summary statistic: 6130.0",
          "Node ID: 5<br>Pullback set label: 44<br>Partial cluster label: 0<br>Node size: 125<br>Summary statistic: 6500.0",
          "Node ID: 6<br>Pullback set label: 6<br>Partial cluster label: 0<br>Node size: 401<br>Summary statistic: 6120.0",
          "Node ID: 7<br>Pullback set label: 5<br>Partial cluster label: 0<br>Node size: 551<br>Summary statistic: 6050.0",
          "Node ID: 8<br>Pullback set label: 22<br>Partial cluster label: 0<br>Node size: 1336<br>Summary statistic: 5990.0",
          "Node ID: 9<br>Pullback set label: 32<br>Partial cluster label: 0<br>Node size: 1109<br>Summary statistic: 6290.0",
          "Node ID: 10<br>Pullback set label: 14<br>Partial cluster label: 0<br>Node size: 830<br>Summary statistic: 6280.0",
          "Node ID: 11<br>Pullback set label: 23<br>Partial cluster label: 0<br>Node size: 1211<br>Summary statistic: 6050.0",
          "Node ID: 12<br>Pullback set label: 24<br>Partial cluster label: 0<br>Node size: 982<br>Summary statistic: 6340.0",
          "Node ID: 13<br>Pullback set label: 19<br>Partial cluster label: 0<br>Node size: 799<br>Summary statistic: 6180.0",
          "Node ID: 14<br>Pullback set label: 29<br>Partial cluster label: 0<br>Node size: 249<br>Summary statistic: 5790.0",
          "Node ID: 15<br>Pullback set label: 30<br>Partial cluster label: 0<br>Node size: 784<br>Summary statistic: 6160.0",
          "Node ID: 16<br>Pullback set label: 8<br>Partial cluster label: 0<br>Node size: 190<br>Summary statistic: 6000.0",
          "Node ID: 17<br>Pullback set label: 9<br>Partial cluster label: 0<br>Node size: 830<br>Summary statistic: 6100.0",
          "Node ID: 18<br>Pullback set label: 18<br>Partial cluster label: 0<br>Node size: 227<br>Summary statistic: 6070.0",
          "Node ID: 19<br>Pullback set label: 25<br>Partial cluster label: 0<br>Node size: 674<br>Summary statistic: 6310.0",
          "Node ID: 20<br>Pullback set label: 35<br>Partial cluster label: 0<br>Node size: 294<br>Summary statistic: 6290.0",
          "Node ID: 21<br>Pullback set label: 1<br>Partial cluster label: 0<br>Node size: 291<br>Summary statistic: 5900.0",
          "Node ID: 22<br>Pullback set label: 42<br>Partial cluster label: 0<br>Node size: 485<br>Summary statistic: 6280.0",
          "Node ID: 23<br>Pullback set label: 27<br>Partial cluster label: 0<br>Node size: 87<br>Summary statistic: 6260.0",
          "Node ID: 24<br>Pullback set label: 37<br>Partial cluster label: 0<br>Node size: 86<br>Summary statistic: 6220.0",
          "Node ID: 25<br>Pullback set label: 11<br>Partial cluster label: 0<br>Node size: 973<br>Summary statistic: 5710.0",
          "Node ID: 26<br>Pullback set label: 13<br>Partial cluster label: 0<br>Node size: 1027<br>Summary statistic: 6250.0",
          "Node ID: 27<br>Pullback set label: 21<br>Partial cluster label: 0<br>Node size: 1265<br>Summary statistic: 6240.0",
          "Node ID: 28<br>Pullback set label: 12<br>Partial cluster label: 0<br>Node size: 1034<br>Summary statistic: 6030.0",
          "Node ID: 29<br>Pullback set label: 40<br>Partial cluster label: 0<br>Node size: 169<br>Summary statistic: 5890.0",
          "Node ID: 30<br>Pullback set label: 28<br>Partial cluster label: 0<br>Node size: 71<br>Summary statistic: 6110.0",
          "Node ID: 31<br>Pullback set label: 2<br>Partial cluster label: 0<br>Node size: 325<br>Summary statistic: 6060.0",
          "Node ID: 32<br>Pullback set label: 3<br>Partial cluster label: 0<br>Node size: 227<br>Summary statistic: 6040.0",
          "Node ID: 33<br>Pullback set label: 26<br>Partial cluster label: 0<br>Node size: 497<br>Summary statistic: 6340.0",
          "Node ID: 34<br>Pullback set label: 4<br>Partial cluster label: 0<br>Node size: 432<br>Summary statistic: 6270.0",
          "Node ID: 35<br>Pullback set label: 16<br>Partial cluster label: 0<br>Node size: 214<br>Summary statistic: 6340.0",
          "Node ID: 36<br>Pullback set label: 7<br>Partial cluster label: 0<br>Node size: 208<br>Summary statistic: 6340.0",
          "Node ID: 37<br>Pullback set label: 15<br>Partial cluster label: 0<br>Node size: 524<br>Summary statistic: 6290.0",
          "Node ID: 38<br>Pullback set label: 31<br>Partial cluster label: 0<br>Node size: 1031<br>Summary statistic: 6510.0",
          "Node ID: 39<br>Pullback set label: 0<br>Partial cluster label: -1<br>Node size: 8<br>Summary statistic: 6170.0",
          "Node ID: 40<br>Pullback set label: 36<br>Partial cluster label: -1<br>Node size: 21<br>Summary statistic: 4850.0",
          "Node ID: 41<br>Pullback set label: 45<br>Partial cluster label: 0<br>Node size: 32<br>Summary statistic: 5940.0",
          "Node ID: 42<br>Pullback set label: 46<br>Partial cluster label: -1<br>Node size: 15<br>Summary statistic: 4950.0",
          "Node ID: 43<br>Pullback set label: 36<br>Partial cluster label: 0<br>Node size: 153<br>Summary statistic: 6160.0",
          "Node ID: 44<br>Pullback set label: 48<br>Partial cluster label: 0<br>Node size: 231<br>Summary statistic: 5910.0",
          "Node ID: 45<br>Pullback set label: 27<br>Partial cluster label: 1<br>Node size: 184<br>Summary statistic: 6250.0",
          "Node ID: 46<br>Pullback set label: 37<br>Partial cluster label: 1<br>Node size: 73<br>Summary statistic: 6210.0",
          "Node ID: 47<br>Pullback set label: 39<br>Partial cluster label: -1<br>Node size: 13<br>Summary statistic: 5300.0",
          "Node ID: 48<br>Pullback set label: 41<br>Partial cluster label: 0<br>Node size: 252<br>Summary statistic: 6380.0",
          "Node ID: 49<br>Pullback set label: 18<br>Partial cluster label: -1<br>Node size: 16<br>Summary statistic: 5650.0",
          "Node ID: 50<br>Pullback set label: 17<br>Partial cluster label: 0<br>Node size: 75<br>Summary statistic: 6350.0",
          "Node ID: 51<br>Pullback set label: 28<br>Partial cluster label: 1<br>Node size: 39<br>Summary statistic: 6740.0",
          "Node ID: 52<br>Pullback set label: 29<br>Partial cluster label: 1<br>Node size: 32<br>Summary statistic: 6640.0",
          "Node ID: 53<br>Pullback set label: 38<br>Partial cluster label: 0<br>Node size: 27<br>Summary statistic: 6270.0",
          "Node ID: 54<br>Pullback set label: 47<br>Partial cluster label: -1<br>Node size: 5<br>Summary statistic: 5170.0",
          "Node ID: 55<br>Pullback set label: 28<br>Partial cluster label: -1<br>Node size: 18<br>Summary statistic: 6800.0",
          "Node ID: 56<br>Pullback set label: 29<br>Partial cluster label: -1<br>Node size: 3<br>Summary statistic: 5910.0",
          "Node ID: 57<br>Pullback set label: 49<br>Partial cluster label: -1<br>Node size: 2<br>Summary statistic: 3320.0",
          "Node ID: 58<br>Pullback set label: 3<br>Partial cluster label: -1<br>Node size: 4<br>Summary statistic: 6520.0",
          "Node ID: 59<br>Pullback set label: 45<br>Partial cluster label: -1<br>Node size: 1<br>Summary statistic: 3960.0"
         ],
         "marker": {
          "color": [
           6001.847566574839,
           6085.776888888889,
           5966.502364066194,
           6169.610305958132,
           6126.38961038961,
           6498.016,
           6119.311720698254,
           6051.337568058077,
           5985.70508982036,
           6293.87466185753,
           6277.350602409639,
           6048.04789430223,
           6338.475560081466,
           6182.936170212766,
           5790.658634538153,
           6155.918367346939,
           6004.4,
           6096.063855421687,
           6072.753303964758,
           6314.69881305638,
           6285.156462585034,
           5901.223367697595,
           6277.686597938145,
           6257.0344827586205,
           6216.953488372093,
           5713.015416238438,
           6245.367088607595,
           6236.392885375494,
           6025.031914893617,
           5890.455621301775,
           6110.408450704225,
           6062.673846153846,
           6041.770925110132,
           6340.17907444668,
           6272.6087962962965,
           6342.130841121495,
           6336.754807692308,
           6288.135496183206,
           6510.356935014549,
           6167.125,
           4853.714285714285,
           5941.03125,
           4951.866666666667,
           6157.6274509803925,
           5913.917748917749,
           6248.554347826087,
           6209.013698630137,
           5299.153846153846,
           6384.892857142857,
           5652.875,
           6347.933333333333,
           6739.410256410257,
           6637,
           6265.592592592592,
           5172.2,
           6803.333333333333,
           5907.666666666667,
           3324.5,
           6515.25,
           3961
          ],
          "colorbar": {
           "thickness": 15,
           "title": {
            "side": "right",
            "text": ""
           },
           "xanchor": "left"
          },
          "colorscale": [
           [
            0,
            "#440154"
           ],
           [
            0.1111111111111111,
            "#482878"
           ],
           [
            0.2222222222222222,
            "#3e4989"
           ],
           [
            0.3333333333333333,
            "#31688e"
           ],
           [
            0.4444444444444444,
            "#26828e"
           ],
           [
            0.5555555555555556,
            "#1f9e89"
           ],
           [
            0.6666666666666666,
            "#35b779"
           ],
           [
            0.7777777777777778,
            "#6ece58"
           ],
           [
            0.8888888888888888,
            "#b5de2b"
           ],
           [
            1,
            "#fde725"
           ]
          ],
          "line": {
           "color": "#888",
           "width": 1
          },
          "opacity": 1,
          "reversescale": false,
          "showscale": true,
          "size": [
           1089,
           1125,
           846,
           621,
           231,
           125,
           401,
           551,
           1336,
           1109,
           830,
           1211,
           982,
           799,
           249,
           784,
           190,
           830,
           227,
           674,
           294,
           291,
           485,
           87,
           86,
           973,
           1027,
           1265,
           1034,
           169,
           71,
           325,
           227,
           497,
           432,
           214,
           208,
           524,
           1031,
           8,
           21,
           32,
           15,
           153,
           231,
           184,
           73,
           13,
           252,
           16,
           75,
           39,
           32,
           27,
           5,
           18,
           3,
           2,
           4,
           1
          ],
          "sizemin": 4,
          "sizemode": "area",
          "sizeref": 18.555555555555557
         },
         "mode": "markers",
         "name": "node_trace",
         "type": "scatter3d",
         "uid": "acc1e6fb-b977-4ade-a090-7877c7f8c108",
         "x": [
          1.8554728996831464,
          1.5276565551312504,
          -0.914640458389585,
          -1.3697179982729855,
          -0.9788566733177861,
          -1.6802395019192602,
          -0.7916978097035565,
          -0.0056458762629420815,
          0.08888966958466044,
          -0.12486236101142525,
          -1.0150142259299129,
          -0.5297487575271422,
          -1.3673708497641486,
          2.1949859114951726,
          1.8335203247376581,
          1.1771143495329666,
          3.1475299126437624,
          2.570901616237107,
          2.8580060491061174,
          -1.8433854727160177,
          -2.2224795112339844,
          2.8144876962530723,
          -0.5601813511943884,
          2.1216669337881466,
          1.5622705018676695,
          1.1728908788726713,
          -0.33900369525750135,
          0.8552310810594604,
          0.46468341675575536,
          0.7509771613258307,
          2.644293711884661,
          2.1977586232397113,
          1.4526960919698373,
          -2.555655312445141,
          0.7580757706092331,
          -2.4895237272641824,
          -1.4825795991270436,
          -1.760552724254237,
          0.4480887438807469,
          3.545056387579874,
          -3.0344415802453986,
          -2.983762028315379,
          -3.1780813849994467,
          -2.3886827619327238,
          2.970111125340026,
          -3.0300662526319906,
          -2.6872102899872563,
          1.308211534238659,
          0.15917173944551918,
          -0.095702707308349,
          -3.3698903308440835,
          0.878713972752056,
          -3.3224945900909377,
          0.24692135909857882,
          3.4024630266660174,
          -3.540998194232536,
          1.1132549358650246,
          2.185604379743753,
          1.2356735914434496,
          -1.78039527563798
         ],
         "y": [
          -0.2317801328758763,
          -0.9664670014436818,
          -0.12539284878015872,
          0.6870619792753432,
          0.09677417465779883,
          0.5120391354049632,
          0.307450166357377,
          0.4787470720396506,
          -0.40962120003762614,
          -0.31893083202120637,
          0.44210664185103365,
          0.24082104874958837,
          0.3071976284434996,
          -1.0626049810813316,
          -1.8186119278673056,
          -1.2567578142089981,
          -0.7413225882584388,
          -0.7252132369545344,
          -1.5764839708244043,
          0.9469974312770807,
          0.9019674095923333,
          0.0639658834994653,
          -0.792003067270504,
          -3.355806637153506,
          -2.846171798971228,
          -0.28372162974083415,
          0.04743427029464305,
          -0.44010663042243753,
          0.17240033767714527,
          -1.8600144749774317,
          -1.927921520713493,
          0.004578306658217471,
          0.39654000944767415,
          1.2293224024875242,
          0.21269250197333023,
          0.9536204508953611,
          0.03724298657870754,
          0.5902193287772233,
          -1.0522681638596614,
          -0.41696379967703484,
          0.6547082114872955,
          1.2739759270417148,
          0.43212309750340727,
          1.7652627553069662,
          2.030187702111041,
          1.7675125369600815,
          2.3375255125723684,
          -2.3105078073650924,
          -1.145539506835308,
          -0.10766878851735426,
          1.0828293828355935,
          -6.689940853924637,
          -5.254546311961844,
          -6.945562283528238,
          2.6171454199008073,
          -4.66962202624671,
          -1.802937527167718,
          2.0819636117748233,
          0.4571119243295607,
          1.3881958516339832
         ],
         "z": [
          0.336085645601207,
          0.4189369768041691,
          0.3675254832135147,
          0.19829149014870984,
          1.0705734262525834,
          0.7891242171296435,
          -1.7735485612591535,
          -1.3565251498693904,
          -0.03925941627940423,
          0.7134421195875371,
          -1.1242380876243958,
          -0.16248935822152558,
          -0.46016199334669905,
          0.9587189558091119,
          0.881460644098442,
          1.113567236328111,
          0.9473172736375558,
          0.3157215846521829,
          0.7576359046673413,
          -0.7482997991451538,
          -0.041940325296721925,
          0.3855501239649984,
          1.078114019961172,
          -6.492156359868488,
          -6.845023421879541,
          -0.2758245543126569,
          -0.8700709746574915,
          0.4353373053961855,
          -0.4174893023910735,
          1.1660192899377426,
          1.3449059373245966,
          -0.30068044886260553,
          -0.4553313638256909,
          -1.0341759224687634,
          -1.1069765591535625,
          -1.6675238486030297,
          -2.0395713574781715,
          -1.4238547853062855,
          0.6650414081948298,
          0.31972549048911775,
          0.6051930669726293,
          0.44255454028516344,
          0.05437213370060751,
          -0.6246183496168176,
          -6.378820650752137,
          -1.5192399167356838,
          -1.2087811205910668,
          1.3219852210876757,
          1.3310338793448473,
          -0.06886507852746203,
          -1.6720208969094876,
          -3.1613134321636034,
          -4.172541440519091,
          -2.6057785959446313,
          -5.864628897909871,
          -4.72045993037773,
          1.98387947935409,
          -6.70335252399935,
          -2.0016118525533555,
          0.7008925052444824
         ]
        }
       ],
       "layout": {
        "autosize": false,
        "hovermode": "closest",
        "margin": {
         "b": 20,
         "l": 5,
         "r": 5,
         "t": 40
        },
        "scene": {
         "xaxis": {
          "showbackground": false,
          "showgrid": false,
          "showline": false,
          "showticklabels": false,
          "title": {
           "text": ""
          },
          "zeroline": false
         },
         "yaxis": {
          "showbackground": false,
          "showgrid": false,
          "showline": false,
          "showticklabels": false,
          "title": {
           "text": ""
          },
          "zeroline": false
         },
         "zaxis": {
          "showbackground": false,
          "showgrid": false,
          "showline": false,
          "showticklabels": false,
          "title": {
           "text": ""
          },
          "zeroline": false
         }
        },
        "showlegend": false,
        "template": {
         "data": {
          "bar": [
           {
            "error_x": {
             "color": "#2a3f5f"
            },
            "error_y": {
             "color": "#2a3f5f"
            },
            "marker": {
             "line": {
              "color": "#E5ECF6",
              "width": 0.5
             },
             "pattern": {
              "fillmode": "overlay",
              "size": 10,
              "solidity": 0.2
             }
            },
            "type": "bar"
           }
          ],
          "barpolar": [
           {
            "marker": {
             "line": {
              "color": "#E5ECF6",
              "width": 0.5
             },
             "pattern": {
              "fillmode": "overlay",
              "size": 10,
              "solidity": 0.2
             }
            },
            "type": "barpolar"
           }
          ],
          "carpet": [
           {
            "aaxis": {
             "endlinecolor": "#2a3f5f",
             "gridcolor": "white",
             "linecolor": "white",
             "minorgridcolor": "white",
             "startlinecolor": "#2a3f5f"
            },
            "baxis": {
             "endlinecolor": "#2a3f5f",
             "gridcolor": "white",
             "linecolor": "white",
             "minorgridcolor": "white",
             "startlinecolor": "#2a3f5f"
            },
            "type": "carpet"
           }
          ],
          "choropleth": [
           {
            "colorbar": {
             "outlinewidth": 0,
             "ticks": ""
            },
            "type": "choropleth"
           }
          ],
          "contour": [
           {
            "colorbar": {
             "outlinewidth": 0,
             "ticks": ""
            },
            "colorscale": [
             [
              0,
              "#0d0887"
             ],
             [
              0.1111111111111111,
              "#46039f"
             ],
             [
              0.2222222222222222,
              "#7201a8"
             ],
             [
              0.3333333333333333,
              "#9c179e"
             ],
             [
              0.4444444444444444,
              "#bd3786"
             ],
             [
              0.5555555555555556,
              "#d8576b"
             ],
             [
              0.6666666666666666,
              "#ed7953"
             ],
             [
              0.7777777777777778,
              "#fb9f3a"
             ],
             [
              0.8888888888888888,
              "#fdca26"
             ],
             [
              1,
              "#f0f921"
             ]
            ],
            "type": "contour"
           }
          ],
          "contourcarpet": [
           {
            "colorbar": {
             "outlinewidth": 0,
             "ticks": ""
            },
            "type": "contourcarpet"
           }
          ],
          "heatmap": [
           {
            "colorbar": {
             "outlinewidth": 0,
             "ticks": ""
            },
            "colorscale": [
             [
              0,
              "#0d0887"
             ],
             [
              0.1111111111111111,
              "#46039f"
             ],
             [
              0.2222222222222222,
              "#7201a8"
             ],
             [
              0.3333333333333333,
              "#9c179e"
             ],
             [
              0.4444444444444444,
              "#bd3786"
             ],
             [
              0.5555555555555556,
              "#d8576b"
             ],
             [
              0.6666666666666666,
              "#ed7953"
             ],
             [
              0.7777777777777778,
              "#fb9f3a"
             ],
             [
              0.8888888888888888,
              "#fdca26"
             ],
             [
              1,
              "#f0f921"
             ]
            ],
            "type": "heatmap"
           }
          ],
          "heatmapgl": [
           {
            "colorbar": {
             "outlinewidth": 0,
             "ticks": ""
            },
            "colorscale": [
             [
              0,
              "#0d0887"
             ],
             [
              0.1111111111111111,
              "#46039f"
             ],
             [
              0.2222222222222222,
              "#7201a8"
             ],
             [
              0.3333333333333333,
              "#9c179e"
             ],
             [
              0.4444444444444444,
              "#bd3786"
             ],
             [
              0.5555555555555556,
              "#d8576b"
             ],
             [
              0.6666666666666666,
              "#ed7953"
             ],
             [
              0.7777777777777778,
              "#fb9f3a"
             ],
             [
              0.8888888888888888,
              "#fdca26"
             ],
             [
              1,
              "#f0f921"
             ]
            ],
            "type": "heatmapgl"
           }
          ],
          "histogram": [
           {
            "marker": {
             "pattern": {
              "fillmode": "overlay",
              "size": 10,
              "solidity": 0.2
             }
            },
            "type": "histogram"
           }
          ],
          "histogram2d": [
           {
            "colorbar": {
             "outlinewidth": 0,
             "ticks": ""
            },
            "colorscale": [
             [
              0,
              "#0d0887"
             ],
             [
              0.1111111111111111,
              "#46039f"
             ],
             [
              0.2222222222222222,
              "#7201a8"
             ],
             [
              0.3333333333333333,
              "#9c179e"
             ],
             [
              0.4444444444444444,
              "#bd3786"
             ],
             [
              0.5555555555555556,
              "#d8576b"
             ],
             [
              0.6666666666666666,
              "#ed7953"
             ],
             [
              0.7777777777777778,
              "#fb9f3a"
             ],
             [
              0.8888888888888888,
              "#fdca26"
             ],
             [
              1,
              "#f0f921"
             ]
            ],
            "type": "histogram2d"
           }
          ],
          "histogram2dcontour": [
           {
            "colorbar": {
             "outlinewidth": 0,
             "ticks": ""
            },
            "colorscale": [
             [
              0,
              "#0d0887"
             ],
             [
              0.1111111111111111,
              "#46039f"
             ],
             [
              0.2222222222222222,
              "#7201a8"
             ],
             [
              0.3333333333333333,
              "#9c179e"
             ],
             [
              0.4444444444444444,
              "#bd3786"
             ],
             [
              0.5555555555555556,
              "#d8576b"
             ],
             [
              0.6666666666666666,
              "#ed7953"
             ],
             [
              0.7777777777777778,
              "#fb9f3a"
             ],
             [
              0.8888888888888888,
              "#fdca26"
             ],
             [
              1,
              "#f0f921"
             ]
            ],
            "type": "histogram2dcontour"
           }
          ],
          "mesh3d": [
           {
            "colorbar": {
             "outlinewidth": 0,
             "ticks": ""
            },
            "type": "mesh3d"
           }
          ],
          "parcoords": [
           {
            "line": {
             "colorbar": {
              "outlinewidth": 0,
              "ticks": ""
             }
            },
            "type": "parcoords"
           }
          ],
          "pie": [
           {
            "automargin": true,
            "type": "pie"
           }
          ],
          "scatter": [
           {
            "marker": {
             "colorbar": {
              "outlinewidth": 0,
              "ticks": ""
             }
            },
            "type": "scatter"
           }
          ],
          "scatter3d": [
           {
            "line": {
             "colorbar": {
              "outlinewidth": 0,
              "ticks": ""
             }
            },
            "marker": {
             "colorbar": {
              "outlinewidth": 0,
              "ticks": ""
             }
            },
            "type": "scatter3d"
           }
          ],
          "scattercarpet": [
           {
            "marker": {
             "colorbar": {
              "outlinewidth": 0,
              "ticks": ""
             }
            },
            "type": "scattercarpet"
           }
          ],
          "scattergeo": [
           {
            "marker": {
             "colorbar": {
              "outlinewidth": 0,
              "ticks": ""
             }
            },
            "type": "scattergeo"
           }
          ],
          "scattergl": [
           {
            "marker": {
             "colorbar": {
              "outlinewidth": 0,
              "ticks": ""
             }
            },
            "type": "scattergl"
           }
          ],
          "scattermapbox": [
           {
            "marker": {
             "colorbar": {
              "outlinewidth": 0,
              "ticks": ""
             }
            },
            "type": "scattermapbox"
           }
          ],
          "scatterpolar": [
           {
            "marker": {
             "colorbar": {
              "outlinewidth": 0,
              "ticks": ""
             }
            },
            "type": "scatterpolar"
           }
          ],
          "scatterpolargl": [
           {
            "marker": {
             "colorbar": {
              "outlinewidth": 0,
              "ticks": ""
             }
            },
            "type": "scatterpolargl"
           }
          ],
          "scatterternary": [
           {
            "marker": {
             "colorbar": {
              "outlinewidth": 0,
              "ticks": ""
             }
            },
            "type": "scatterternary"
           }
          ],
          "surface": [
           {
            "colorbar": {
             "outlinewidth": 0,
             "ticks": ""
            },
            "colorscale": [
             [
              0,
              "#0d0887"
             ],
             [
              0.1111111111111111,
              "#46039f"
             ],
             [
              0.2222222222222222,
              "#7201a8"
             ],
             [
              0.3333333333333333,
              "#9c179e"
             ],
             [
              0.4444444444444444,
              "#bd3786"
             ],
             [
              0.5555555555555556,
              "#d8576b"
             ],
             [
              0.6666666666666666,
              "#ed7953"
             ],
             [
              0.7777777777777778,
              "#fb9f3a"
             ],
             [
              0.8888888888888888,
              "#fdca26"
             ],
             [
              1,
              "#f0f921"
             ]
            ],
            "type": "surface"
           }
          ],
          "table": [
           {
            "cells": {
             "fill": {
              "color": "#EBF0F8"
             },
             "line": {
              "color": "white"
             }
            },
            "header": {
             "fill": {
              "color": "#C8D4E3"
             },
             "line": {
              "color": "white"
             }
            },
            "type": "table"
           }
          ]
         },
         "layout": {
          "annotationdefaults": {
           "arrowcolor": "#2a3f5f",
           "arrowhead": 0,
           "arrowwidth": 1
          },
          "autotypenumbers": "strict",
          "coloraxis": {
           "colorbar": {
            "outlinewidth": 0,
            "ticks": ""
           }
          },
          "colorscale": {
           "diverging": [
            [
             0,
             "#8e0152"
            ],
            [
             0.1,
             "#c51b7d"
            ],
            [
             0.2,
             "#de77ae"
            ],
            [
             0.3,
             "#f1b6da"
            ],
            [
             0.4,
             "#fde0ef"
            ],
            [
             0.5,
             "#f7f7f7"
            ],
            [
             0.6,
             "#e6f5d0"
            ],
            [
             0.7,
             "#b8e186"
            ],
            [
             0.8,
             "#7fbc41"
            ],
            [
             0.9,
             "#4d9221"
            ],
            [
             1,
             "#276419"
            ]
           ],
           "sequential": [
            [
             0,
             "#0d0887"
            ],
            [
             0.1111111111111111,
             "#46039f"
            ],
            [
             0.2222222222222222,
             "#7201a8"
            ],
            [
             0.3333333333333333,
             "#9c179e"
            ],
            [
             0.4444444444444444,
             "#bd3786"
            ],
            [
             0.5555555555555556,
             "#d8576b"
            ],
            [
             0.6666666666666666,
             "#ed7953"
            ],
            [
             0.7777777777777778,
             "#fb9f3a"
            ],
            [
             0.8888888888888888,
             "#fdca26"
            ],
            [
             1,
             "#f0f921"
            ]
           ],
           "sequentialminus": [
            [
             0,
             "#0d0887"
            ],
            [
             0.1111111111111111,
             "#46039f"
            ],
            [
             0.2222222222222222,
             "#7201a8"
            ],
            [
             0.3333333333333333,
             "#9c179e"
            ],
            [
             0.4444444444444444,
             "#bd3786"
            ],
            [
             0.5555555555555556,
             "#d8576b"
            ],
            [
             0.6666666666666666,
             "#ed7953"
            ],
            [
             0.7777777777777778,
             "#fb9f3a"
            ],
            [
             0.8888888888888888,
             "#fdca26"
            ],
            [
             1,
             "#f0f921"
            ]
           ]
          },
          "colorway": [
           "#636efa",
           "#EF553B",
           "#00cc96",
           "#ab63fa",
           "#FFA15A",
           "#19d3f3",
           "#FF6692",
           "#B6E880",
           "#FF97FF",
           "#FECB52"
          ],
          "font": {
           "color": "#2a3f5f"
          },
          "geo": {
           "bgcolor": "white",
           "lakecolor": "white",
           "landcolor": "#E5ECF6",
           "showlakes": true,
           "showland": true,
           "subunitcolor": "white"
          },
          "hoverlabel": {
           "align": "left"
          },
          "hovermode": "closest",
          "mapbox": {
           "style": "light"
          },
          "paper_bgcolor": "white",
          "plot_bgcolor": "#E5ECF6",
          "polar": {
           "angularaxis": {
            "gridcolor": "white",
            "linecolor": "white",
            "ticks": ""
           },
           "bgcolor": "#E5ECF6",
           "radialaxis": {
            "gridcolor": "white",
            "linecolor": "white",
            "ticks": ""
           }
          },
          "scene": {
           "xaxis": {
            "backgroundcolor": "#E5ECF6",
            "gridcolor": "white",
            "gridwidth": 2,
            "linecolor": "white",
            "showbackground": true,
            "ticks": "",
            "zerolinecolor": "white"
           },
           "yaxis": {
            "backgroundcolor": "#E5ECF6",
            "gridcolor": "white",
            "gridwidth": 2,
            "linecolor": "white",
            "showbackground": true,
            "ticks": "",
            "zerolinecolor": "white"
           },
           "zaxis": {
            "backgroundcolor": "#E5ECF6",
            "gridcolor": "white",
            "gridwidth": 2,
            "linecolor": "white",
            "showbackground": true,
            "ticks": "",
            "zerolinecolor": "white"
           }
          },
          "shapedefaults": {
           "line": {
            "color": "#2a3f5f"
           }
          },
          "ternary": {
           "aaxis": {
            "gridcolor": "white",
            "linecolor": "white",
            "ticks": ""
           },
           "baxis": {
            "gridcolor": "white",
            "linecolor": "white",
            "ticks": ""
           },
           "bgcolor": "#E5ECF6",
           "caxis": {
            "gridcolor": "white",
            "linecolor": "white",
            "ticks": ""
           }
          },
          "title": {
           "x": 0.05
          },
          "xaxis": {
           "automargin": true,
           "gridcolor": "white",
           "linecolor": "white",
           "ticks": "",
           "title": {
            "standoff": 15
           },
           "zerolinecolor": "white",
           "zerolinewidth": 2
          },
          "yaxis": {
           "automargin": true,
           "gridcolor": "white",
           "linecolor": "white",
           "ticks": "",
           "title": {
            "standoff": 15
           },
           "zerolinecolor": "white",
           "zerolinewidth": 2
          }
         }
        },
        "title": {
         "text": ""
        }
       }
      },
      "text/html": [
       "<div>                            <div id=\"5201d826-67ad-4106-bc48-fa49e1da5271\" class=\"plotly-graph-div\" style=\"height:525px; width:100%;\"></div>            <script type=\"text/javascript\">                require([\"plotly\"], function(Plotly) {                    window.PLOTLYENV=window.PLOTLYENV || {};                                    if (document.getElementById(\"5201d826-67ad-4106-bc48-fa49e1da5271\")) {                    Plotly.newPlot(                        \"5201d826-67ad-4106-bc48-fa49e1da5271\",                        [{\"hoverinfo\":\"none\",\"line\":{\"color\":\"#888\",\"width\":1},\"mode\":\"lines\",\"name\":\"edge_trace\",\"x\":[1.8554728996831464,1.5276565551312504,null,1.8554728996831464,2.1949859114951726,null,1.8554728996831464,2.570901616237107,null,1.8554728996831464,2.8144876962530723,null,1.8554728996831464,1.1728908788726713,null,1.8554728996831464,0.8552310810594604,null,1.8554728996831464,2.1977586232397113,null,1.8554728996831464,1.4526960919698373,null,1.5276565551312504,2.1949859114951726,null,1.5276565551312504,1.8335203247376581,null,1.5276565551312504,1.1771143495329666,null,1.5276565551312504,2.570901616237107,null,1.5276565551312504,1.1728908788726713,null,1.5276565551312504,0.8552310810594604,null,1.5276565551312504,0.4480887438807469,null,-0.914640458389585,-1.3697179982729855,null,-0.914640458389585,-0.9788566733177861,null,-0.914640458389585,-1.6802395019192602,null,-0.914640458389585,0.08888966958466044,null,-0.914640458389585,-0.12486236101142525,null,-0.914640458389585,-0.5297487575271422,null,-0.914640458389585,-1.3673708497641486,null,-0.914640458389585,-0.5601813511943884,null,-1.3697179982729855,-0.9788566733177861,null,-1.3697179982729855,-1.6802395019192602,null,-1.3697179982729855,-0.5297487575271422,null,-1.3697179982729855,-1.3673708497641486,null,-1.3697179982729855,-1.8433854727160177,null,-1.3697179982729855,-2.2224795112339844,null,-1.3697179982729855,-1.78039527563798,null,-0.9788566733177861,-1.6802395019192602,null,-0.9788566733177861,-0.12486236101142525,null,-0.9788566733177861,-0.5601813511943884,null,-1.6802395019192602,-2.2224795112339844,null,-1.6802395019192602,-1.78039527563798,null,-0.7916978097035565,-0.0056458762629420815,null,-0.7916978097035565,-1.0150142259299129,null,-0.7916978097035565,-0.33900369525750135,null,-0.7916978097035565,-1.4825795991270436,null,-0.7916978097035565,-1.760552724254237,null,-0.0056458762629420815,-1.0150142259299129,null,-0.0056458762629420815,-0.33900369525750135,null,-0.0056458762629420815,0.46468341675575536,null,-0.0056458762629420815,0.7580757706092331,null,0.08888966958466044,-0.12486236101142525,null,0.08888966958466044,-0.5297487575271422,null,0.08888966958466044,1.1728908788726713,null,0.08888966958466044,-0.33900369525750135,null,0.08888966958466044,0.8552310810594604,null,0.08888966958466044,0.46468341675575536,null,0.08888966958466044,0.4480887438807469,null,-0.12486236101142525,-0.5297487575271422,null,-0.12486236101142525,-0.5601813511943884,null,-0.12486236101142525,0.8552310810594604,null,-0.12486236101142525,0.4480887438807469,null,-0.12486236101142525,0.15917173944551918,null,-1.0150142259299129,-0.5297487575271422,null,-1.0150142259299129,-1.3673708497641486,null,-1.0150142259299129,-1.8433854727160177,null,-1.0150142259299129,-0.33900369525750135,null,-1.0150142259299129,-1.4825795991270436,null,-1.0150142259299129,-1.760552724254237,null,-0.5297487575271422,-1.3673708497641486,null,-0.5297487575271422,-0.33900369525750135,null,-0.5297487575271422,0.46468341675575536,null,-1.3673708497641486,-1.8433854727160177,null,-1.3673708497641486,-2.2224795112339844,null,-1.3673708497641486,-0.33900369525750135,null,-1.3673708497641486,-1.760552724254237,null,2.1949859114951726,1.8335203247376581,null,2.1949859114951726,1.1771143495329666,null,2.1949859114951726,3.1475299126437624,null,2.1949859114951726,2.570901616237107,null,2.1949859114951726,2.8580060491061174,null,2.1949859114951726,2.644293711884661,null,1.8335203247376581,1.1771143495329666,null,1.8335203247376581,2.8580060491061174,null,1.8335203247376581,0.7509771613258307,null,1.8335203247376581,2.644293711884661,null,1.8335203247376581,1.308211534238659,null,1.1771143495329666,0.8552310810594604,null,1.1771143495329666,0.7509771613258307,null,1.1771143495329666,0.4480887438807469,null,1.1771143495329666,1.308211534238659,null,1.1771143495329666,0.15917173944551918,null,1.1771143495329666,1.1132549358650246,null,3.1475299126437624,2.570901616237107,null,3.1475299126437624,2.8580060491061174,null,3.1475299126437624,2.8144876962530723,null,3.1475299126437624,3.545056387579874,null,2.570901616237107,2.8580060491061174,null,2.570901616237107,2.8144876962530723,null,2.570901616237107,2.1977586232397113,null,2.570901616237107,3.545056387579874,null,2.8580060491061174,2.644293711884661,null,-1.8433854727160177,-2.2224795112339844,null,-1.8433854727160177,-2.555655312445141,null,-1.8433854727160177,-2.4895237272641824,null,-1.8433854727160177,-1.760552724254237,null,-1.8433854727160177,-2.3886827619327238,null,-2.2224795112339844,-2.555655312445141,null,-2.2224795112339844,-3.0344415802453986,null,-2.2224795112339844,-2.983762028315379,null,-2.2224795112339844,-3.1780813849994467,null,-2.2224795112339844,-2.3886827619327238,null,-2.2224795112339844,-1.78039527563798,null,2.8144876962530723,2.1977586232397113,null,2.8144876962530723,3.545056387579874,null,-0.5601813511943884,0.4480887438807469,null,-0.5601813511943884,0.15917173944551918,null,2.1216669337881466,1.5622705018676695,null,1.1728908788726713,0.8552310810594604,null,1.1728908788726713,0.46468341675575536,null,1.1728908788726713,2.1977586232397113,null,1.1728908788726713,1.4526960919698373,null,1.1728908788726713,0.7580757706092331,null,-0.33900369525750135,0.46468341675575536,null,-0.33900369525750135,0.7580757706092331,null,0.8552310810594604,0.46468341675575536,null,0.8552310810594604,0.4480887438807469,null,0.46468341675575536,1.4526960919698373,null,0.46468341675575536,0.7580757706092331,null,0.7509771613258307,0.4480887438807469,null,0.7509771613258307,1.308211534238659,null,0.7509771613258307,0.15917173944551918,null,0.7509771613258307,1.1132549358650246,null,2.1977586232397113,1.4526960919698373,null,1.4526960919698373,0.7580757706092331,null,-2.555655312445141,-2.4895237272641824,null,-2.555655312445141,-1.760552724254237,null,-2.555655312445141,-2.3886827619327238,null,-2.555655312445141,-3.0300662526319906,null,-2.555655312445141,-2.6872102899872563,null,-2.555655312445141,-3.3698903308440835,null,0.7580757706092331,1.2356735914434496,null,-2.4895237272641824,-1.760552724254237,null,-2.4895237272641824,-3.0300662526319906,null,-2.4895237272641824,-3.3698903308440835,null,-1.4825795991270436,-1.760552724254237,null,0.4480887438807469,0.15917173944551918,null,-3.0344415802453986,-2.983762028315379,null,-3.0344415802453986,-3.1780813849994467,null,-2.983762028315379,-3.1780813849994467,null,-2.3886827619327238,-3.0300662526319906,null,-2.3886827619327238,-2.6872102899872563,null,2.970111125340026,3.4024630266660174,null,2.970111125340026,2.185604379743753,null,-3.0300662526319906,-2.6872102899872563,null,-3.0300662526319906,-3.3698903308440835,null,1.308211534238659,1.1132549358650246,null,0.878713972752056,0.24692135909857882,null,-3.3224945900909377,-3.540998194232536,null],\"y\":[-0.2317801328758763,-0.9664670014436818,null,-0.2317801328758763,-1.0626049810813316,null,-0.2317801328758763,-0.7252132369545344,null,-0.2317801328758763,0.0639658834994653,null,-0.2317801328758763,-0.28372162974083415,null,-0.2317801328758763,-0.44010663042243753,null,-0.2317801328758763,0.004578306658217471,null,-0.2317801328758763,0.39654000944767415,null,-0.9664670014436818,-1.0626049810813316,null,-0.9664670014436818,-1.8186119278673056,null,-0.9664670014436818,-1.2567578142089981,null,-0.9664670014436818,-0.7252132369545344,null,-0.9664670014436818,-0.28372162974083415,null,-0.9664670014436818,-0.44010663042243753,null,-0.9664670014436818,-1.0522681638596614,null,-0.12539284878015872,0.6870619792753432,null,-0.12539284878015872,0.09677417465779883,null,-0.12539284878015872,0.5120391354049632,null,-0.12539284878015872,-0.40962120003762614,null,-0.12539284878015872,-0.31893083202120637,null,-0.12539284878015872,0.24082104874958837,null,-0.12539284878015872,0.3071976284434996,null,-0.12539284878015872,-0.792003067270504,null,0.6870619792753432,0.09677417465779883,null,0.6870619792753432,0.5120391354049632,null,0.6870619792753432,0.24082104874958837,null,0.6870619792753432,0.3071976284434996,null,0.6870619792753432,0.9469974312770807,null,0.6870619792753432,0.9019674095923333,null,0.6870619792753432,1.3881958516339832,null,0.09677417465779883,0.5120391354049632,null,0.09677417465779883,-0.31893083202120637,null,0.09677417465779883,-0.792003067270504,null,0.5120391354049632,0.9019674095923333,null,0.5120391354049632,1.3881958516339832,null,0.307450166357377,0.4787470720396506,null,0.307450166357377,0.44210664185103365,null,0.307450166357377,0.04743427029464305,null,0.307450166357377,0.03724298657870754,null,0.307450166357377,0.5902193287772233,null,0.4787470720396506,0.44210664185103365,null,0.4787470720396506,0.04743427029464305,null,0.4787470720396506,0.17240033767714527,null,0.4787470720396506,0.21269250197333023,null,-0.40962120003762614,-0.31893083202120637,null,-0.40962120003762614,0.24082104874958837,null,-0.40962120003762614,-0.28372162974083415,null,-0.40962120003762614,0.04743427029464305,null,-0.40962120003762614,-0.44010663042243753,null,-0.40962120003762614,0.17240033767714527,null,-0.40962120003762614,-1.0522681638596614,null,-0.31893083202120637,0.24082104874958837,null,-0.31893083202120637,-0.792003067270504,null,-0.31893083202120637,-0.44010663042243753,null,-0.31893083202120637,-1.0522681638596614,null,-0.31893083202120637,-1.145539506835308,null,0.44210664185103365,0.24082104874958837,null,0.44210664185103365,0.3071976284434996,null,0.44210664185103365,0.9469974312770807,null,0.44210664185103365,0.04743427029464305,null,0.44210664185103365,0.03724298657870754,null,0.44210664185103365,0.5902193287772233,null,0.24082104874958837,0.3071976284434996,null,0.24082104874958837,0.04743427029464305,null,0.24082104874958837,0.17240033767714527,null,0.3071976284434996,0.9469974312770807,null,0.3071976284434996,0.9019674095923333,null,0.3071976284434996,0.04743427029464305,null,0.3071976284434996,0.5902193287772233,null,-1.0626049810813316,-1.8186119278673056,null,-1.0626049810813316,-1.2567578142089981,null,-1.0626049810813316,-0.7413225882584388,null,-1.0626049810813316,-0.7252132369545344,null,-1.0626049810813316,-1.5764839708244043,null,-1.0626049810813316,-1.927921520713493,null,-1.8186119278673056,-1.2567578142089981,null,-1.8186119278673056,-1.5764839708244043,null,-1.8186119278673056,-1.8600144749774317,null,-1.8186119278673056,-1.927921520713493,null,-1.8186119278673056,-2.3105078073650924,null,-1.2567578142089981,-0.44010663042243753,null,-1.2567578142089981,-1.8600144749774317,null,-1.2567578142089981,-1.0522681638596614,null,-1.2567578142089981,-2.3105078073650924,null,-1.2567578142089981,-1.145539506835308,null,-1.2567578142089981,-1.802937527167718,null,-0.7413225882584388,-0.7252132369545344,null,-0.7413225882584388,-1.5764839708244043,null,-0.7413225882584388,0.0639658834994653,null,-0.7413225882584388,-0.41696379967703484,null,-0.7252132369545344,-1.5764839708244043,null,-0.7252132369545344,0.0639658834994653,null,-0.7252132369545344,0.004578306658217471,null,-0.7252132369545344,-0.41696379967703484,null,-1.5764839708244043,-1.927921520713493,null,0.9469974312770807,0.9019674095923333,null,0.9469974312770807,1.2293224024875242,null,0.9469974312770807,0.9536204508953611,null,0.9469974312770807,0.5902193287772233,null,0.9469974312770807,1.7652627553069662,null,0.9019674095923333,1.2293224024875242,null,0.9019674095923333,0.6547082114872955,null,0.9019674095923333,1.2739759270417148,null,0.9019674095923333,0.43212309750340727,null,0.9019674095923333,1.7652627553069662,null,0.9019674095923333,1.3881958516339832,null,0.0639658834994653,0.004578306658217471,null,0.0639658834994653,-0.41696379967703484,null,-0.792003067270504,-1.0522681638596614,null,-0.792003067270504,-1.145539506835308,null,-3.355806637153506,-2.846171798971228,null,-0.28372162974083415,-0.44010663042243753,null,-0.28372162974083415,0.17240033767714527,null,-0.28372162974083415,0.004578306658217471,null,-0.28372162974083415,0.39654000944767415,null,-0.28372162974083415,0.21269250197333023,null,0.04743427029464305,0.17240033767714527,null,0.04743427029464305,0.21269250197333023,null,-0.44010663042243753,0.17240033767714527,null,-0.44010663042243753,-1.0522681638596614,null,0.17240033767714527,0.39654000944767415,null,0.17240033767714527,0.21269250197333023,null,-1.8600144749774317,-1.0522681638596614,null,-1.8600144749774317,-2.3105078073650924,null,-1.8600144749774317,-1.145539506835308,null,-1.8600144749774317,-1.802937527167718,null,0.004578306658217471,0.39654000944767415,null,0.39654000944767415,0.21269250197333023,null,1.2293224024875242,0.9536204508953611,null,1.2293224024875242,0.5902193287772233,null,1.2293224024875242,1.7652627553069662,null,1.2293224024875242,1.7675125369600815,null,1.2293224024875242,2.3375255125723684,null,1.2293224024875242,1.0828293828355935,null,0.21269250197333023,0.4571119243295607,null,0.9536204508953611,0.5902193287772233,null,0.9536204508953611,1.7675125369600815,null,0.9536204508953611,1.0828293828355935,null,0.03724298657870754,0.5902193287772233,null,-1.0522681638596614,-1.145539506835308,null,0.6547082114872955,1.2739759270417148,null,0.6547082114872955,0.43212309750340727,null,1.2739759270417148,0.43212309750340727,null,1.7652627553069662,1.7675125369600815,null,1.7652627553069662,2.3375255125723684,null,2.030187702111041,2.6171454199008073,null,2.030187702111041,2.0819636117748233,null,1.7675125369600815,2.3375255125723684,null,1.7675125369600815,1.0828293828355935,null,-2.3105078073650924,-1.802937527167718,null,-6.689940853924637,-6.945562283528238,null,-5.254546311961844,-4.66962202624671,null],\"z\":[0.336085645601207,0.4189369768041691,null,0.336085645601207,0.9587189558091119,null,0.336085645601207,0.3157215846521829,null,0.336085645601207,0.3855501239649984,null,0.336085645601207,-0.2758245543126569,null,0.336085645601207,0.4353373053961855,null,0.336085645601207,-0.30068044886260553,null,0.336085645601207,-0.4553313638256909,null,0.4189369768041691,0.9587189558091119,null,0.4189369768041691,0.881460644098442,null,0.4189369768041691,1.113567236328111,null,0.4189369768041691,0.3157215846521829,null,0.4189369768041691,-0.2758245543126569,null,0.4189369768041691,0.4353373053961855,null,0.4189369768041691,0.6650414081948298,null,0.3675254832135147,0.19829149014870984,null,0.3675254832135147,1.0705734262525834,null,0.3675254832135147,0.7891242171296435,null,0.3675254832135147,-0.03925941627940423,null,0.3675254832135147,0.7134421195875371,null,0.3675254832135147,-0.16248935822152558,null,0.3675254832135147,-0.46016199334669905,null,0.3675254832135147,1.078114019961172,null,0.19829149014870984,1.0705734262525834,null,0.19829149014870984,0.7891242171296435,null,0.19829149014870984,-0.16248935822152558,null,0.19829149014870984,-0.46016199334669905,null,0.19829149014870984,-0.7482997991451538,null,0.19829149014870984,-0.041940325296721925,null,0.19829149014870984,0.7008925052444824,null,1.0705734262525834,0.7891242171296435,null,1.0705734262525834,0.7134421195875371,null,1.0705734262525834,1.078114019961172,null,0.7891242171296435,-0.041940325296721925,null,0.7891242171296435,0.7008925052444824,null,-1.7735485612591535,-1.3565251498693904,null,-1.7735485612591535,-1.1242380876243958,null,-1.7735485612591535,-0.8700709746574915,null,-1.7735485612591535,-2.0395713574781715,null,-1.7735485612591535,-1.4238547853062855,null,-1.3565251498693904,-1.1242380876243958,null,-1.3565251498693904,-0.8700709746574915,null,-1.3565251498693904,-0.4174893023910735,null,-1.3565251498693904,-1.1069765591535625,null,-0.03925941627940423,0.7134421195875371,null,-0.03925941627940423,-0.16248935822152558,null,-0.03925941627940423,-0.2758245543126569,null,-0.03925941627940423,-0.8700709746574915,null,-0.03925941627940423,0.4353373053961855,null,-0.03925941627940423,-0.4174893023910735,null,-0.03925941627940423,0.6650414081948298,null,0.7134421195875371,-0.16248935822152558,null,0.7134421195875371,1.078114019961172,null,0.7134421195875371,0.4353373053961855,null,0.7134421195875371,0.6650414081948298,null,0.7134421195875371,1.3310338793448473,null,-1.1242380876243958,-0.16248935822152558,null,-1.1242380876243958,-0.46016199334669905,null,-1.1242380876243958,-0.7482997991451538,null,-1.1242380876243958,-0.8700709746574915,null,-1.1242380876243958,-2.0395713574781715,null,-1.1242380876243958,-1.4238547853062855,null,-0.16248935822152558,-0.46016199334669905,null,-0.16248935822152558,-0.8700709746574915,null,-0.16248935822152558,-0.4174893023910735,null,-0.46016199334669905,-0.7482997991451538,null,-0.46016199334669905,-0.041940325296721925,null,-0.46016199334669905,-0.8700709746574915,null,-0.46016199334669905,-1.4238547853062855,null,0.9587189558091119,0.881460644098442,null,0.9587189558091119,1.113567236328111,null,0.9587189558091119,0.9473172736375558,null,0.9587189558091119,0.3157215846521829,null,0.9587189558091119,0.7576359046673413,null,0.9587189558091119,1.3449059373245966,null,0.881460644098442,1.113567236328111,null,0.881460644098442,0.7576359046673413,null,0.881460644098442,1.1660192899377426,null,0.881460644098442,1.3449059373245966,null,0.881460644098442,1.3219852210876757,null,1.113567236328111,0.4353373053961855,null,1.113567236328111,1.1660192899377426,null,1.113567236328111,0.6650414081948298,null,1.113567236328111,1.3219852210876757,null,1.113567236328111,1.3310338793448473,null,1.113567236328111,1.98387947935409,null,0.9473172736375558,0.3157215846521829,null,0.9473172736375558,0.7576359046673413,null,0.9473172736375558,0.3855501239649984,null,0.9473172736375558,0.31972549048911775,null,0.3157215846521829,0.7576359046673413,null,0.3157215846521829,0.3855501239649984,null,0.3157215846521829,-0.30068044886260553,null,0.3157215846521829,0.31972549048911775,null,0.7576359046673413,1.3449059373245966,null,-0.7482997991451538,-0.041940325296721925,null,-0.7482997991451538,-1.0341759224687634,null,-0.7482997991451538,-1.6675238486030297,null,-0.7482997991451538,-1.4238547853062855,null,-0.7482997991451538,-0.6246183496168176,null,-0.041940325296721925,-1.0341759224687634,null,-0.041940325296721925,0.6051930669726293,null,-0.041940325296721925,0.44255454028516344,null,-0.041940325296721925,0.05437213370060751,null,-0.041940325296721925,-0.6246183496168176,null,-0.041940325296721925,0.7008925052444824,null,0.3855501239649984,-0.30068044886260553,null,0.3855501239649984,0.31972549048911775,null,1.078114019961172,0.6650414081948298,null,1.078114019961172,1.3310338793448473,null,-6.492156359868488,-6.845023421879541,null,-0.2758245543126569,0.4353373053961855,null,-0.2758245543126569,-0.4174893023910735,null,-0.2758245543126569,-0.30068044886260553,null,-0.2758245543126569,-0.4553313638256909,null,-0.2758245543126569,-1.1069765591535625,null,-0.8700709746574915,-0.4174893023910735,null,-0.8700709746574915,-1.1069765591535625,null,0.4353373053961855,-0.4174893023910735,null,0.4353373053961855,0.6650414081948298,null,-0.4174893023910735,-0.4553313638256909,null,-0.4174893023910735,-1.1069765591535625,null,1.1660192899377426,0.6650414081948298,null,1.1660192899377426,1.3219852210876757,null,1.1660192899377426,1.3310338793448473,null,1.1660192899377426,1.98387947935409,null,-0.30068044886260553,-0.4553313638256909,null,-0.4553313638256909,-1.1069765591535625,null,-1.0341759224687634,-1.6675238486030297,null,-1.0341759224687634,-1.4238547853062855,null,-1.0341759224687634,-0.6246183496168176,null,-1.0341759224687634,-1.5192399167356838,null,-1.0341759224687634,-1.2087811205910668,null,-1.0341759224687634,-1.6720208969094876,null,-1.1069765591535625,-2.0016118525533555,null,-1.6675238486030297,-1.4238547853062855,null,-1.6675238486030297,-1.5192399167356838,null,-1.6675238486030297,-1.6720208969094876,null,-2.0395713574781715,-1.4238547853062855,null,0.6650414081948298,1.3310338793448473,null,0.6051930669726293,0.44255454028516344,null,0.6051930669726293,0.05437213370060751,null,0.44255454028516344,0.05437213370060751,null,-0.6246183496168176,-1.5192399167356838,null,-0.6246183496168176,-1.2087811205910668,null,-6.378820650752137,-5.864628897909871,null,-6.378820650752137,-6.70335252399935,null,-1.5192399167356838,-1.2087811205910668,null,-1.5192399167356838,-1.6720208969094876,null,1.3219852210876757,1.98387947935409,null,-3.1613134321636034,-2.6057785959446313,null,-4.172541440519091,-4.72045993037773,null],\"type\":\"scatter3d\",\"uid\":\"02780247-cfc1-4ea5-8912-a74eaaf8e1b0\"},{\"hoverinfo\":\"text\",\"hovertext\":[\"Node ID: 0<br>Pullback set label: 10<br>Partial cluster label: 0<br>Node size: 1089<br>Summary statistic: 6000.0\",\"Node ID: 1<br>Pullback set label: 20<br>Partial cluster label: 0<br>Node size: 1125<br>Summary statistic: 6090.0\",\"Node ID: 2<br>Pullback set label: 33<br>Partial cluster label: 0<br>Node size: 846<br>Summary statistic: 5970.0\",\"Node ID: 3<br>Pullback set label: 34<br>Partial cluster label: 0<br>Node size: 621<br>Summary statistic: 6170.0\",\"Node ID: 4<br>Pullback set label: 43<br>Partial cluster label: 0<br>Node size: 231<br>Summary statistic: 6130.0\",\"Node ID: 5<br>Pullback set label: 44<br>Partial cluster label: 0<br>Node size: 125<br>Summary statistic: 6500.0\",\"Node ID: 6<br>Pullback set label: 6<br>Partial cluster label: 0<br>Node size: 401<br>Summary statistic: 6120.0\",\"Node ID: 7<br>Pullback set label: 5<br>Partial cluster label: 0<br>Node size: 551<br>Summary statistic: 6050.0\",\"Node ID: 8<br>Pullback set label: 22<br>Partial cluster label: 0<br>Node size: 1336<br>Summary statistic: 5990.0\",\"Node ID: 9<br>Pullback set label: 32<br>Partial cluster label: 0<br>Node size: 1109<br>Summary statistic: 6290.0\",\"Node ID: 10<br>Pullback set label: 14<br>Partial cluster label: 0<br>Node size: 830<br>Summary statistic: 6280.0\",\"Node ID: 11<br>Pullback set label: 23<br>Partial cluster label: 0<br>Node size: 1211<br>Summary statistic: 6050.0\",\"Node ID: 12<br>Pullback set label: 24<br>Partial cluster label: 0<br>Node size: 982<br>Summary statistic: 6340.0\",\"Node ID: 13<br>Pullback set label: 19<br>Partial cluster label: 0<br>Node size: 799<br>Summary statistic: 6180.0\",\"Node ID: 14<br>Pullback set label: 29<br>Partial cluster label: 0<br>Node size: 249<br>Summary statistic: 5790.0\",\"Node ID: 15<br>Pullback set label: 30<br>Partial cluster label: 0<br>Node size: 784<br>Summary statistic: 6160.0\",\"Node ID: 16<br>Pullback set label: 8<br>Partial cluster label: 0<br>Node size: 190<br>Summary statistic: 6000.0\",\"Node ID: 17<br>Pullback set label: 9<br>Partial cluster label: 0<br>Node size: 830<br>Summary statistic: 6100.0\",\"Node ID: 18<br>Pullback set label: 18<br>Partial cluster label: 0<br>Node size: 227<br>Summary statistic: 6070.0\",\"Node ID: 19<br>Pullback set label: 25<br>Partial cluster label: 0<br>Node size: 674<br>Summary statistic: 6310.0\",\"Node ID: 20<br>Pullback set label: 35<br>Partial cluster label: 0<br>Node size: 294<br>Summary statistic: 6290.0\",\"Node ID: 21<br>Pullback set label: 1<br>Partial cluster label: 0<br>Node size: 291<br>Summary statistic: 5900.0\",\"Node ID: 22<br>Pullback set label: 42<br>Partial cluster label: 0<br>Node size: 485<br>Summary statistic: 6280.0\",\"Node ID: 23<br>Pullback set label: 27<br>Partial cluster label: 0<br>Node size: 87<br>Summary statistic: 6260.0\",\"Node ID: 24<br>Pullback set label: 37<br>Partial cluster label: 0<br>Node size: 86<br>Summary statistic: 6220.0\",\"Node ID: 25<br>Pullback set label: 11<br>Partial cluster label: 0<br>Node size: 973<br>Summary statistic: 5710.0\",\"Node ID: 26<br>Pullback set label: 13<br>Partial cluster label: 0<br>Node size: 1027<br>Summary statistic: 6250.0\",\"Node ID: 27<br>Pullback set label: 21<br>Partial cluster label: 0<br>Node size: 1265<br>Summary statistic: 6240.0\",\"Node ID: 28<br>Pullback set label: 12<br>Partial cluster label: 0<br>Node size: 1034<br>Summary statistic: 6030.0\",\"Node ID: 29<br>Pullback set label: 40<br>Partial cluster label: 0<br>Node size: 169<br>Summary statistic: 5890.0\",\"Node ID: 30<br>Pullback set label: 28<br>Partial cluster label: 0<br>Node size: 71<br>Summary statistic: 6110.0\",\"Node ID: 31<br>Pullback set label: 2<br>Partial cluster label: 0<br>Node size: 325<br>Summary statistic: 6060.0\",\"Node ID: 32<br>Pullback set label: 3<br>Partial cluster label: 0<br>Node size: 227<br>Summary statistic: 6040.0\",\"Node ID: 33<br>Pullback set label: 26<br>Partial cluster label: 0<br>Node size: 497<br>Summary statistic: 6340.0\",\"Node ID: 34<br>Pullback set label: 4<br>Partial cluster label: 0<br>Node size: 432<br>Summary statistic: 6270.0\",\"Node ID: 35<br>Pullback set label: 16<br>Partial cluster label: 0<br>Node size: 214<br>Summary statistic: 6340.0\",\"Node ID: 36<br>Pullback set label: 7<br>Partial cluster label: 0<br>Node size: 208<br>Summary statistic: 6340.0\",\"Node ID: 37<br>Pullback set label: 15<br>Partial cluster label: 0<br>Node size: 524<br>Summary statistic: 6290.0\",\"Node ID: 38<br>Pullback set label: 31<br>Partial cluster label: 0<br>Node size: 1031<br>Summary statistic: 6510.0\",\"Node ID: 39<br>Pullback set label: 0<br>Partial cluster label: -1<br>Node size: 8<br>Summary statistic: 6170.0\",\"Node ID: 40<br>Pullback set label: 36<br>Partial cluster label: -1<br>Node size: 21<br>Summary statistic: 4850.0\",\"Node ID: 41<br>Pullback set label: 45<br>Partial cluster label: 0<br>Node size: 32<br>Summary statistic: 5940.0\",\"Node ID: 42<br>Pullback set label: 46<br>Partial cluster label: -1<br>Node size: 15<br>Summary statistic: 4950.0\",\"Node ID: 43<br>Pullback set label: 36<br>Partial cluster label: 0<br>Node size: 153<br>Summary statistic: 6160.0\",\"Node ID: 44<br>Pullback set label: 48<br>Partial cluster label: 0<br>Node size: 231<br>Summary statistic: 5910.0\",\"Node ID: 45<br>Pullback set label: 27<br>Partial cluster label: 1<br>Node size: 184<br>Summary statistic: 6250.0\",\"Node ID: 46<br>Pullback set label: 37<br>Partial cluster label: 1<br>Node size: 73<br>Summary statistic: 6210.0\",\"Node ID: 47<br>Pullback set label: 39<br>Partial cluster label: -1<br>Node size: 13<br>Summary statistic: 5300.0\",\"Node ID: 48<br>Pullback set label: 41<br>Partial cluster label: 0<br>Node size: 252<br>Summary statistic: 6380.0\",\"Node ID: 49<br>Pullback set label: 18<br>Partial cluster label: -1<br>Node size: 16<br>Summary statistic: 5650.0\",\"Node ID: 50<br>Pullback set label: 17<br>Partial cluster label: 0<br>Node size: 75<br>Summary statistic: 6350.0\",\"Node ID: 51<br>Pullback set label: 28<br>Partial cluster label: 1<br>Node size: 39<br>Summary statistic: 6740.0\",\"Node ID: 52<br>Pullback set label: 29<br>Partial cluster label: 1<br>Node size: 32<br>Summary statistic: 6640.0\",\"Node ID: 53<br>Pullback set label: 38<br>Partial cluster label: 0<br>Node size: 27<br>Summary statistic: 6270.0\",\"Node ID: 54<br>Pullback set label: 47<br>Partial cluster label: -1<br>Node size: 5<br>Summary statistic: 5170.0\",\"Node ID: 55<br>Pullback set label: 28<br>Partial cluster label: -1<br>Node size: 18<br>Summary statistic: 6800.0\",\"Node ID: 56<br>Pullback set label: 29<br>Partial cluster label: -1<br>Node size: 3<br>Summary statistic: 5910.0\",\"Node ID: 57<br>Pullback set label: 49<br>Partial cluster label: -1<br>Node size: 2<br>Summary statistic: 3320.0\",\"Node ID: 58<br>Pullback set label: 3<br>Partial cluster label: -1<br>Node size: 4<br>Summary statistic: 6520.0\",\"Node ID: 59<br>Pullback set label: 45<br>Partial cluster label: -1<br>Node size: 1<br>Summary statistic: 3960.0\"],\"marker\":{\"color\":[6001.847566574839,6085.776888888889,5966.502364066194,6169.610305958132,6126.38961038961,6498.016,6119.311720698254,6051.337568058077,5985.70508982036,6293.87466185753,6277.350602409639,6048.04789430223,6338.475560081466,6182.936170212766,5790.658634538153,6155.918367346939,6004.4,6096.063855421687,6072.753303964758,6314.69881305638,6285.156462585034,5901.223367697595,6277.686597938145,6257.0344827586205,6216.953488372093,5713.015416238438,6245.367088607595,6236.392885375494,6025.031914893617,5890.455621301775,6110.408450704225,6062.673846153846,6041.770925110132,6340.17907444668,6272.6087962962965,6342.130841121495,6336.754807692308,6288.135496183206,6510.356935014549,6167.125,4853.714285714285,5941.03125,4951.866666666667,6157.6274509803925,5913.917748917749,6248.554347826087,6209.013698630137,5299.153846153846,6384.892857142857,5652.875,6347.933333333333,6739.410256410257,6637.0,6265.592592592592,5172.2,6803.333333333333,5907.666666666667,3324.5,6515.25,3961.0],\"colorbar\":{\"thickness\":15,\"title\":{\"side\":\"right\",\"text\":\"\"},\"xanchor\":\"left\"},\"colorscale\":[[0.0,\"#440154\"],[0.1111111111111111,\"#482878\"],[0.2222222222222222,\"#3e4989\"],[0.3333333333333333,\"#31688e\"],[0.4444444444444444,\"#26828e\"],[0.5555555555555556,\"#1f9e89\"],[0.6666666666666666,\"#35b779\"],[0.7777777777777778,\"#6ece58\"],[0.8888888888888888,\"#b5de2b\"],[1.0,\"#fde725\"]],\"line\":{\"color\":\"#888\",\"width\":1},\"opacity\":1.0,\"reversescale\":false,\"showscale\":true,\"size\":[1089,1125,846,621,231,125,401,551,1336,1109,830,1211,982,799,249,784,190,830,227,674,294,291,485,87,86,973,1027,1265,1034,169,71,325,227,497,432,214,208,524,1031,8,21,32,15,153,231,184,73,13,252,16,75,39,32,27,5,18,3,2,4,1],\"sizemin\":4,\"sizemode\":\"area\",\"sizeref\":18.555555555555557},\"mode\":\"markers\",\"name\":\"node_trace\",\"x\":[1.8554728996831464,1.5276565551312504,-0.914640458389585,-1.3697179982729855,-0.9788566733177861,-1.6802395019192602,-0.7916978097035565,-0.0056458762629420815,0.08888966958466044,-0.12486236101142525,-1.0150142259299129,-0.5297487575271422,-1.3673708497641486,2.1949859114951726,1.8335203247376581,1.1771143495329666,3.1475299126437624,2.570901616237107,2.8580060491061174,-1.8433854727160177,-2.2224795112339844,2.8144876962530723,-0.5601813511943884,2.1216669337881466,1.5622705018676695,1.1728908788726713,-0.33900369525750135,0.8552310810594604,0.46468341675575536,0.7509771613258307,2.644293711884661,2.1977586232397113,1.4526960919698373,-2.555655312445141,0.7580757706092331,-2.4895237272641824,-1.4825795991270436,-1.760552724254237,0.4480887438807469,3.545056387579874,-3.0344415802453986,-2.983762028315379,-3.1780813849994467,-2.3886827619327238,2.970111125340026,-3.0300662526319906,-2.6872102899872563,1.308211534238659,0.15917173944551918,-0.095702707308349,-3.3698903308440835,0.878713972752056,-3.3224945900909377,0.24692135909857882,3.4024630266660174,-3.540998194232536,1.1132549358650246,2.185604379743753,1.2356735914434496,-1.78039527563798],\"y\":[-0.2317801328758763,-0.9664670014436818,-0.12539284878015872,0.6870619792753432,0.09677417465779883,0.5120391354049632,0.307450166357377,0.4787470720396506,-0.40962120003762614,-0.31893083202120637,0.44210664185103365,0.24082104874958837,0.3071976284434996,-1.0626049810813316,-1.8186119278673056,-1.2567578142089981,-0.7413225882584388,-0.7252132369545344,-1.5764839708244043,0.9469974312770807,0.9019674095923333,0.0639658834994653,-0.792003067270504,-3.355806637153506,-2.846171798971228,-0.28372162974083415,0.04743427029464305,-0.44010663042243753,0.17240033767714527,-1.8600144749774317,-1.927921520713493,0.004578306658217471,0.39654000944767415,1.2293224024875242,0.21269250197333023,0.9536204508953611,0.03724298657870754,0.5902193287772233,-1.0522681638596614,-0.41696379967703484,0.6547082114872955,1.2739759270417148,0.43212309750340727,1.7652627553069662,2.030187702111041,1.7675125369600815,2.3375255125723684,-2.3105078073650924,-1.145539506835308,-0.10766878851735426,1.0828293828355935,-6.689940853924637,-5.254546311961844,-6.945562283528238,2.6171454199008073,-4.66962202624671,-1.802937527167718,2.0819636117748233,0.4571119243295607,1.3881958516339832],\"z\":[0.336085645601207,0.4189369768041691,0.3675254832135147,0.19829149014870984,1.0705734262525834,0.7891242171296435,-1.7735485612591535,-1.3565251498693904,-0.03925941627940423,0.7134421195875371,-1.1242380876243958,-0.16248935822152558,-0.46016199334669905,0.9587189558091119,0.881460644098442,1.113567236328111,0.9473172736375558,0.3157215846521829,0.7576359046673413,-0.7482997991451538,-0.041940325296721925,0.3855501239649984,1.078114019961172,-6.492156359868488,-6.845023421879541,-0.2758245543126569,-0.8700709746574915,0.4353373053961855,-0.4174893023910735,1.1660192899377426,1.3449059373245966,-0.30068044886260553,-0.4553313638256909,-1.0341759224687634,-1.1069765591535625,-1.6675238486030297,-2.0395713574781715,-1.4238547853062855,0.6650414081948298,0.31972549048911775,0.6051930669726293,0.44255454028516344,0.05437213370060751,-0.6246183496168176,-6.378820650752137,-1.5192399167356838,-1.2087811205910668,1.3219852210876757,1.3310338793448473,-0.06886507852746203,-1.6720208969094876,-3.1613134321636034,-4.172541440519091,-2.6057785959446313,-5.864628897909871,-4.72045993037773,1.98387947935409,-6.70335252399935,-2.0016118525533555,0.7008925052444824],\"type\":\"scatter3d\",\"uid\":\"acc1e6fb-b977-4ade-a090-7877c7f8c108\",\"hoverlabel\":{\"bgcolor\":[\"#6acc5a\",\"#78d052\",\"#65ca5d\",\"#88d448\",\"#80d24d\",\"#c4e02a\",\"#7ed24e\",\"#72cf56\",\"#67cb5c\",\"#9ed939\",\"#9bd83b\",\"#71cf56\",\"#a7db34\",\"#8ad446\",\"#4bc06c\",\"#85d349\",\"#6acc5a\",\"#7ad150\",\"#76d053\",\"#a2da37\",\"#9dd93a\",\"#5bc663\",\"#9bd83b\",\"#98d73e\",\"#90d642\",\"#3fbb73\",\"#96d73f\",\"#94d740\",\"#6dce58\",\"#59c664\",\"#7dd14f\",\"#74cf54\",\"#70ce57\",\"#a7db34\",\"#9bd83c\",\"#a7db34\",\"#a6db34\",\"#9dd93a\",\"#c6e02a\",\"#87d448\",\"#26818e\",\"#61c960\",\"#25888d\",\"#85d349\",\"#5dc762\",\"#96d73f\",\"#8fd543\",\"#21a187\",\"#afdd2f\",\"#36b878\",\"#a8db33\",\"#f1e626\",\"#dee328\",\"#99d83d\",\"#21988a\",\"#fde725\",\"#5cc762\",\"#440154\",\"#c7e029\",\"#423d83\"]}}],                        {\"autosize\":false,\"hovermode\":\"closest\",\"margin\":{\"b\":20,\"l\":5,\"r\":5,\"t\":40},\"scene\":{\"xaxis\":{\"showbackground\":false,\"showgrid\":false,\"showline\":false,\"showticklabels\":false,\"title\":{\"text\":\"\"},\"zeroline\":false},\"yaxis\":{\"showbackground\":false,\"showgrid\":false,\"showline\":false,\"showticklabels\":false,\"title\":{\"text\":\"\"},\"zeroline\":false},\"zaxis\":{\"showbackground\":false,\"showgrid\":false,\"showline\":false,\"showticklabels\":false,\"title\":{\"text\":\"\"},\"zeroline\":false}},\"showlegend\":false,\"title\":{\"text\":\"\"},\"template\":{\"data\":{\"barpolar\":[{\"marker\":{\"line\":{\"color\":\"#E5ECF6\",\"width\":0.5},\"pattern\":{\"fillmode\":\"overlay\",\"size\":10,\"solidity\":0.2}},\"type\":\"barpolar\"}],\"bar\":[{\"error_x\":{\"color\":\"#2a3f5f\"},\"error_y\":{\"color\":\"#2a3f5f\"},\"marker\":{\"line\":{\"color\":\"#E5ECF6\",\"width\":0.5},\"pattern\":{\"fillmode\":\"overlay\",\"size\":10,\"solidity\":0.2}},\"type\":\"bar\"}],\"carpet\":[{\"aaxis\":{\"endlinecolor\":\"#2a3f5f\",\"gridcolor\":\"white\",\"linecolor\":\"white\",\"minorgridcolor\":\"white\",\"startlinecolor\":\"#2a3f5f\"},\"baxis\":{\"endlinecolor\":\"#2a3f5f\",\"gridcolor\":\"white\",\"linecolor\":\"white\",\"minorgridcolor\":\"white\",\"startlinecolor\":\"#2a3f5f\"},\"type\":\"carpet\"}],\"choropleth\":[{\"colorbar\":{\"outlinewidth\":0,\"ticks\":\"\"},\"type\":\"choropleth\"}],\"contourcarpet\":[{\"colorbar\":{\"outlinewidth\":0,\"ticks\":\"\"},\"type\":\"contourcarpet\"}],\"contour\":[{\"colorbar\":{\"outlinewidth\":0,\"ticks\":\"\"},\"colorscale\":[[0.0,\"#0d0887\"],[0.1111111111111111,\"#46039f\"],[0.2222222222222222,\"#7201a8\"],[0.3333333333333333,\"#9c179e\"],[0.4444444444444444,\"#bd3786\"],[0.5555555555555556,\"#d8576b\"],[0.6666666666666666,\"#ed7953\"],[0.7777777777777778,\"#fb9f3a\"],[0.8888888888888888,\"#fdca26\"],[1.0,\"#f0f921\"]],\"type\":\"contour\"}],\"heatmapgl\":[{\"colorbar\":{\"outlinewidth\":0,\"ticks\":\"\"},\"colorscale\":[[0.0,\"#0d0887\"],[0.1111111111111111,\"#46039f\"],[0.2222222222222222,\"#7201a8\"],[0.3333333333333333,\"#9c179e\"],[0.4444444444444444,\"#bd3786\"],[0.5555555555555556,\"#d8576b\"],[0.6666666666666666,\"#ed7953\"],[0.7777777777777778,\"#fb9f3a\"],[0.8888888888888888,\"#fdca26\"],[1.0,\"#f0f921\"]],\"type\":\"heatmapgl\"}],\"heatmap\":[{\"colorbar\":{\"outlinewidth\":0,\"ticks\":\"\"},\"colorscale\":[[0.0,\"#0d0887\"],[0.1111111111111111,\"#46039f\"],[0.2222222222222222,\"#7201a8\"],[0.3333333333333333,\"#9c179e\"],[0.4444444444444444,\"#bd3786\"],[0.5555555555555556,\"#d8576b\"],[0.6666666666666666,\"#ed7953\"],[0.7777777777777778,\"#fb9f3a\"],[0.8888888888888888,\"#fdca26\"],[1.0,\"#f0f921\"]],\"type\":\"heatmap\"}],\"histogram2dcontour\":[{\"colorbar\":{\"outlinewidth\":0,\"ticks\":\"\"},\"colorscale\":[[0.0,\"#0d0887\"],[0.1111111111111111,\"#46039f\"],[0.2222222222222222,\"#7201a8\"],[0.3333333333333333,\"#9c179e\"],[0.4444444444444444,\"#bd3786\"],[0.5555555555555556,\"#d8576b\"],[0.6666666666666666,\"#ed7953\"],[0.7777777777777778,\"#fb9f3a\"],[0.8888888888888888,\"#fdca26\"],[1.0,\"#f0f921\"]],\"type\":\"histogram2dcontour\"}],\"histogram2d\":[{\"colorbar\":{\"outlinewidth\":0,\"ticks\":\"\"},\"colorscale\":[[0.0,\"#0d0887\"],[0.1111111111111111,\"#46039f\"],[0.2222222222222222,\"#7201a8\"],[0.3333333333333333,\"#9c179e\"],[0.4444444444444444,\"#bd3786\"],[0.5555555555555556,\"#d8576b\"],[0.6666666666666666,\"#ed7953\"],[0.7777777777777778,\"#fb9f3a\"],[0.8888888888888888,\"#fdca26\"],[1.0,\"#f0f921\"]],\"type\":\"histogram2d\"}],\"histogram\":[{\"marker\":{\"pattern\":{\"fillmode\":\"overlay\",\"size\":10,\"solidity\":0.2}},\"type\":\"histogram\"}],\"mesh3d\":[{\"colorbar\":{\"outlinewidth\":0,\"ticks\":\"\"},\"type\":\"mesh3d\"}],\"parcoords\":[{\"line\":{\"colorbar\":{\"outlinewidth\":0,\"ticks\":\"\"}},\"type\":\"parcoords\"}],\"pie\":[{\"automargin\":true,\"type\":\"pie\"}],\"scatter3d\":[{\"line\":{\"colorbar\":{\"outlinewidth\":0,\"ticks\":\"\"}},\"marker\":{\"colorbar\":{\"outlinewidth\":0,\"ticks\":\"\"}},\"type\":\"scatter3d\"}],\"scattercarpet\":[{\"marker\":{\"colorbar\":{\"outlinewidth\":0,\"ticks\":\"\"}},\"type\":\"scattercarpet\"}],\"scattergeo\":[{\"marker\":{\"colorbar\":{\"outlinewidth\":0,\"ticks\":\"\"}},\"type\":\"scattergeo\"}],\"scattergl\":[{\"marker\":{\"colorbar\":{\"outlinewidth\":0,\"ticks\":\"\"}},\"type\":\"scattergl\"}],\"scattermapbox\":[{\"marker\":{\"colorbar\":{\"outlinewidth\":0,\"ticks\":\"\"}},\"type\":\"scattermapbox\"}],\"scatterpolargl\":[{\"marker\":{\"colorbar\":{\"outlinewidth\":0,\"ticks\":\"\"}},\"type\":\"scatterpolargl\"}],\"scatterpolar\":[{\"marker\":{\"colorbar\":{\"outlinewidth\":0,\"ticks\":\"\"}},\"type\":\"scatterpolar\"}],\"scatter\":[{\"marker\":{\"colorbar\":{\"outlinewidth\":0,\"ticks\":\"\"}},\"type\":\"scatter\"}],\"scatterternary\":[{\"marker\":{\"colorbar\":{\"outlinewidth\":0,\"ticks\":\"\"}},\"type\":\"scatterternary\"}],\"surface\":[{\"colorbar\":{\"outlinewidth\":0,\"ticks\":\"\"},\"colorscale\":[[0.0,\"#0d0887\"],[0.1111111111111111,\"#46039f\"],[0.2222222222222222,\"#7201a8\"],[0.3333333333333333,\"#9c179e\"],[0.4444444444444444,\"#bd3786\"],[0.5555555555555556,\"#d8576b\"],[0.6666666666666666,\"#ed7953\"],[0.7777777777777778,\"#fb9f3a\"],[0.8888888888888888,\"#fdca26\"],[1.0,\"#f0f921\"]],\"type\":\"surface\"}],\"table\":[{\"cells\":{\"fill\":{\"color\":\"#EBF0F8\"},\"line\":{\"color\":\"white\"}},\"header\":{\"fill\":{\"color\":\"#C8D4E3\"},\"line\":{\"color\":\"white\"}},\"type\":\"table\"}]},\"layout\":{\"annotationdefaults\":{\"arrowcolor\":\"#2a3f5f\",\"arrowhead\":0,\"arrowwidth\":1},\"autotypenumbers\":\"strict\",\"coloraxis\":{\"colorbar\":{\"outlinewidth\":0,\"ticks\":\"\"}},\"colorscale\":{\"diverging\":[[0,\"#8e0152\"],[0.1,\"#c51b7d\"],[0.2,\"#de77ae\"],[0.3,\"#f1b6da\"],[0.4,\"#fde0ef\"],[0.5,\"#f7f7f7\"],[0.6,\"#e6f5d0\"],[0.7,\"#b8e186\"],[0.8,\"#7fbc41\"],[0.9,\"#4d9221\"],[1,\"#276419\"]],\"sequential\":[[0.0,\"#0d0887\"],[0.1111111111111111,\"#46039f\"],[0.2222222222222222,\"#7201a8\"],[0.3333333333333333,\"#9c179e\"],[0.4444444444444444,\"#bd3786\"],[0.5555555555555556,\"#d8576b\"],[0.6666666666666666,\"#ed7953\"],[0.7777777777777778,\"#fb9f3a\"],[0.8888888888888888,\"#fdca26\"],[1.0,\"#f0f921\"]],\"sequentialminus\":[[0.0,\"#0d0887\"],[0.1111111111111111,\"#46039f\"],[0.2222222222222222,\"#7201a8\"],[0.3333333333333333,\"#9c179e\"],[0.4444444444444444,\"#bd3786\"],[0.5555555555555556,\"#d8576b\"],[0.6666666666666666,\"#ed7953\"],[0.7777777777777778,\"#fb9f3a\"],[0.8888888888888888,\"#fdca26\"],[1.0,\"#f0f921\"]]},\"colorway\":[\"#636efa\",\"#EF553B\",\"#00cc96\",\"#ab63fa\",\"#FFA15A\",\"#19d3f3\",\"#FF6692\",\"#B6E880\",\"#FF97FF\",\"#FECB52\"],\"font\":{\"color\":\"#2a3f5f\"},\"geo\":{\"bgcolor\":\"white\",\"lakecolor\":\"white\",\"landcolor\":\"#E5ECF6\",\"showlakes\":true,\"showland\":true,\"subunitcolor\":\"white\"},\"hoverlabel\":{\"align\":\"left\"},\"hovermode\":\"closest\",\"mapbox\":{\"style\":\"light\"},\"paper_bgcolor\":\"white\",\"plot_bgcolor\":\"#E5ECF6\",\"polar\":{\"angularaxis\":{\"gridcolor\":\"white\",\"linecolor\":\"white\",\"ticks\":\"\"},\"bgcolor\":\"#E5ECF6\",\"radialaxis\":{\"gridcolor\":\"white\",\"linecolor\":\"white\",\"ticks\":\"\"}},\"scene\":{\"xaxis\":{\"backgroundcolor\":\"#E5ECF6\",\"gridcolor\":\"white\",\"gridwidth\":2,\"linecolor\":\"white\",\"showbackground\":true,\"ticks\":\"\",\"zerolinecolor\":\"white\"},\"yaxis\":{\"backgroundcolor\":\"#E5ECF6\",\"gridcolor\":\"white\",\"gridwidth\":2,\"linecolor\":\"white\",\"showbackground\":true,\"ticks\":\"\",\"zerolinecolor\":\"white\"},\"zaxis\":{\"backgroundcolor\":\"#E5ECF6\",\"gridcolor\":\"white\",\"gridwidth\":2,\"linecolor\":\"white\",\"showbackground\":true,\"ticks\":\"\",\"zerolinecolor\":\"white\"}},\"shapedefaults\":{\"line\":{\"color\":\"#2a3f5f\"}},\"ternary\":{\"aaxis\":{\"gridcolor\":\"white\",\"linecolor\":\"white\",\"ticks\":\"\"},\"baxis\":{\"gridcolor\":\"white\",\"linecolor\":\"white\",\"ticks\":\"\"},\"bgcolor\":\"#E5ECF6\",\"caxis\":{\"gridcolor\":\"white\",\"linecolor\":\"white\",\"ticks\":\"\"}},\"title\":{\"x\":0.05},\"xaxis\":{\"automargin\":true,\"gridcolor\":\"white\",\"linecolor\":\"white\",\"ticks\":\"\",\"title\":{\"standoff\":15},\"zerolinecolor\":\"white\",\"zerolinewidth\":2},\"yaxis\":{\"automargin\":true,\"gridcolor\":\"white\",\"linecolor\":\"white\",\"ticks\":\"\",\"title\":{\"standoff\":15},\"zerolinecolor\":\"white\",\"zerolinewidth\":2}}}},                        {\"scrollZoom\": true, \"responsive\": true}                    ).then(function(){\n",
       "                            \n",
       "var gd = document.getElementById('5201d826-67ad-4106-bc48-fa49e1da5271');\n",
       "var x = new MutationObserver(function (mutations, observer) {{\n",
       "        var display = window.getComputedStyle(gd).display;\n",
       "        if (!display || display === 'none') {{\n",
       "            console.log([gd, 'removed!']);\n",
       "            Plotly.purge(gd);\n",
       "            observer.disconnect();\n",
       "        }}\n",
       "}});\n",
       "\n",
       "// Listen for the removal of the full notebook cells\n",
       "var notebookContainer = gd.closest('#notebook-container');\n",
       "if (notebookContainer) {{\n",
       "    x.observe(notebookContainer, {childList: true});\n",
       "}}\n",
       "\n",
       "// Listen for the clearing of the current output cell\n",
       "var outputEl = gd.closest('.output');\n",
       "if (outputEl) {{\n",
       "    x.observe(outputEl, {childList: true});\n",
       "}}\n",
       "\n",
       "                        })                };                });            </script>        </div>"
      ]
     },
     "metadata": {},
     "output_type": "display_data"
    }
   ],
   "source": [
    "fig = plot_static_mapper_graph(pipe, embeddingsM, layout_dim=3)\n",
    "fig.show(config={'scrollZoom': True})"
   ]
  },
  {
   "cell_type": "code",
   "execution_count": 58,
   "id": "c2767091",
   "metadata": {},
   "outputs": [
    {
     "data": {
      "application/vnd.plotly.v1+json": {
       "config": {
        "plotlyServerURL": "https://plot.ly",
        "scrollZoom": true
       },
       "data": [
        {
         "hoverinfo": "none",
         "line": {
          "color": "#888",
          "width": 1
         },
         "mode": "lines",
         "name": "edge_trace",
         "type": "scatter3d",
         "uid": "f9b85476-0bd2-4b2b-89c0-a594245cf64a",
         "x": [
          0.8200925245409361,
          1.443494686186942,
          null,
          0.8200925245409361,
          1.2597264905937906,
          null,
          0.8200925245409361,
          0.639440259947271,
          null,
          0.8200925245409361,
          0.1656888514280187,
          null,
          0.8200925245409361,
          -0.1519432421302937,
          null,
          0.8200925245409361,
          0.27597079869617136,
          null,
          0.8200925245409361,
          1.7845128290619245,
          null,
          0.8200925245409361,
          1.1553453030154048,
          null,
          1.443494686186942,
          1.2597264905937906,
          null,
          1.443494686186942,
          0.27597079869617136,
          null,
          1.443494686186942,
          1.7845128290619245,
          null,
          1.443494686186942,
          2.4598743340695433,
          null,
          1.443494686186942,
          1.1553453030154048,
          null,
          1.443494686186942,
          2.1722481914118497,
          null,
          1.443494686186942,
          1.1570434015980084,
          null,
          1.443494686186942,
          2.130262650906762,
          null,
          1.2597264905937906,
          0.639440259947271,
          null,
          1.2597264905937906,
          0.1656888514280187,
          null,
          1.2597264905937906,
          1.317039872606441,
          null,
          1.2597264905937906,
          1.595341317514656,
          null,
          1.2597264905937906,
          1.7845128290619245,
          null,
          1.2597264905937906,
          2.257829792680507,
          null,
          0.639440259947271,
          0.1656888514280187,
          null,
          0.639440259947271,
          -0.19560121476746706,
          null,
          0.639440259947271,
          1.317039872606441,
          null,
          0.639440259947271,
          1.595341317514656,
          null,
          0.639440259947271,
          0.952277953945002,
          null,
          0.639440259947271,
          0.30358668982988557,
          null,
          0.1656888514280187,
          -0.1519432421302937,
          null,
          0.1656888514280187,
          0.27597079869617136,
          null,
          0.1656888514280187,
          -0.19560121476746706,
          null,
          0.1656888514280187,
          -0.4858459158610782,
          null,
          0.1656888514280187,
          0.30358668982988557,
          null,
          -0.1519432421302937,
          0.27597079869617136,
          null,
          -0.1519432421302937,
          -0.19560121476746706,
          null,
          -0.1519432421302937,
          -0.4858459158610782,
          null,
          -0.1519432421302937,
          -0.8343955638291416,
          null,
          -0.1519432421302937,
          -0.17818528172189949,
          null,
          -0.1519432421302937,
          -0.4542622863497092,
          null,
          0.27597079869617136,
          -0.8343955638291416,
          null,
          0.27597079869617136,
          1.1553453030154048,
          null,
          0.27597079869617136,
          -0.4542622863497092,
          null,
          2.6740600069024776,
          1.8800341114822983,
          null,
          2.6740600069024776,
          3.4059766968419765,
          null,
          2.6740600069024776,
          2.647633552790906,
          null,
          2.6740600069024776,
          2.8069664430611088,
          null,
          2.6740600069024776,
          2.2982288856621125,
          null,
          2.6740600069024776,
          2.04209510383233,
          null,
          2.6740600069024776,
          1.6224924008465587,
          null,
          2.6740600069024776,
          3.170791322860873,
          null,
          1.8800341114822983,
          1.317039872606441,
          null,
          1.8800341114822983,
          1.595341317514656,
          null,
          1.8800341114822983,
          0.952277953945002,
          null,
          1.8800341114822983,
          2.647633552790906,
          null,
          1.8800341114822983,
          2.2982288856621125,
          null,
          1.8800341114822983,
          2.04209510383233,
          null,
          1.8800341114822983,
          1.6224924008465587,
          null,
          -0.19560121476746706,
          -0.4858459158610782,
          null,
          -0.19560121476746706,
          0.2854579422247497,
          null,
          -0.19560121476746706,
          -0.20425267145414222,
          null,
          -0.19560121476746706,
          0.30358668982988557,
          null,
          -0.19560121476746706,
          -0.8591563741724864,
          null,
          -0.4858459158610782,
          -0.20425267145414222,
          null,
          -0.4858459158610782,
          -0.8591563741724864,
          null,
          -0.4858459158610782,
          -1.7270790324598826,
          null,
          -0.4858459158610782,
          -0.17818528172189949,
          null,
          -0.4858459158610782,
          -0.4542622863497092,
          null,
          -0.4858459158610782,
          -1.1754987325412776,
          null,
          1.317039872606441,
          1.595341317514656,
          null,
          1.317039872606441,
          0.952277953945002,
          null,
          1.317039872606441,
          0.30358668982988557,
          null,
          1.317039872606441,
          2.2982288856621125,
          null,
          1.317039872606441,
          1.6224924008465587,
          null,
          1.595341317514656,
          1.7845128290619245,
          null,
          1.595341317514656,
          2.257829792680507,
          null,
          1.595341317514656,
          2.2982288856621125,
          null,
          1.595341317514656,
          2.320460000608564,
          null,
          -3.5396954583166145,
          -3.848311591336926,
          null,
          -3.5396954583166145,
          -4.232439320220037,
          null,
          2.8424141951723527,
          2.821952003204785,
          null,
          2.8424141951723527,
          2.9636414888724576,
          null,
          2.8424141951723527,
          2.257829792680507,
          null,
          2.8424141951723527,
          2.42761791764219,
          null,
          2.8424141951723527,
          2.320460000608564,
          null,
          2.8424141951723527,
          3.0834430041630765,
          null,
          2.8424141951723527,
          2.7693730976890927,
          null,
          2.8424141951723527,
          2.7491664530579976,
          null,
          2.821952003204785,
          2.42761791764219,
          null,
          2.821952003204785,
          3.0834430041630765,
          null,
          2.821952003204785,
          2.7693730976890927,
          null,
          2.821952003204785,
          2.7491664530579976,
          null,
          2.821952003204785,
          2.946392535614932,
          null,
          2.821952003204785,
          3.4859989864174983,
          null,
          2.821952003204785,
          2.2808412104119618,
          null,
          2.821952003204785,
          3.138787472870743,
          null,
          0.2854579422247497,
          -0.20425267145414222,
          null,
          0.2854579422247497,
          0.952277953945002,
          null,
          0.2854579422247497,
          0.3538685362336502,
          null,
          0.2854579422247497,
          0.6634994486609387,
          null,
          0.2854579422247497,
          0.30358668982988557,
          null,
          0.2854579422247497,
          0.2730752539683744,
          null,
          0.2854579422247497,
          -0.3399327446117858,
          null,
          -0.20425267145414222,
          0.30358668982988557,
          null,
          -0.20425267145414222,
          0.2730752539683744,
          null,
          -0.20425267145414222,
          -0.3399327446117858,
          null,
          -0.20425267145414222,
          -0.8591563741724864,
          null,
          -0.20425267145414222,
          -1.317201224463819,
          null,
          -0.8343955638291416,
          -0.4542622863497092,
          null,
          0.952277953945002,
          0.9394841305318993,
          null,
          0.952277953945002,
          0.6634994486609387,
          null,
          0.952277953945002,
          0.30358668982988557,
          null,
          0.952277953945002,
          1.6224924008465587,
          null,
          0.2334015105991481,
          0.3538685362336502,
          null,
          0.2334015105991481,
          0.9394841305318993,
          null,
          0.2334015105991481,
          0.6634994486609387,
          null,
          0.2334015105991481,
          1.3051805726662287,
          null,
          0.2334015105991481,
          -0.3327499681249244,
          null,
          0.2334015105991481,
          -0.13001269294247753,
          null,
          0.2334015105991481,
          -0.26925196977483323,
          null,
          0.2334015105991481,
          0.22853823330543308,
          null,
          0.2334015105991481,
          -0.7655739840807099,
          null,
          0.2334015105991481,
          0.29643953636310133,
          null,
          0.3538685362336502,
          0.9394841305318993,
          null,
          0.3538685362336502,
          0.6634994486609387,
          null,
          0.3538685362336502,
          0.2730752539683744,
          null,
          0.3538685362336502,
          -0.13001269294247753,
          null,
          0.3538685362336502,
          -0.26925196977483323,
          null,
          0.3538685362336502,
          0.011622413908475064,
          null,
          0.9394841305318993,
          0.6634994486609387,
          null,
          0.9394841305318993,
          1.3051805726662287,
          null,
          0.9394841305318993,
          2.04209510383233,
          null,
          0.9394841305318993,
          1.6224924008465587,
          null,
          0.9394841305318993,
          0.22853823330543308,
          null,
          0.6634994486609387,
          0.30358668982988557,
          null,
          0.6634994486609387,
          0.2730752539683744,
          null,
          0.6634994486609387,
          1.6224924008465587,
          null,
          1.7845128290619245,
          2.4598743340695433,
          null,
          1.7845128290619245,
          2.257829792680507,
          null,
          1.7845128290619245,
          2.42761791764219,
          null,
          1.7845128290619245,
          2.1722481914118497,
          null,
          2.4598743340695433,
          2.257829792680507,
          null,
          2.4598743340695433,
          2.42761791764219,
          null,
          2.4598743340695433,
          3.0834430041630765,
          null,
          2.4598743340695433,
          3.0158773186390304,
          null,
          2.4598743340695433,
          3.0369580943927144,
          null,
          2.4598743340695433,
          2.1722481914118497,
          null,
          3.4059766968419765,
          2.647633552790906,
          null,
          3.4059766968419765,
          3.1030545612304947,
          null,
          3.4059766968419765,
          2.9636414888724576,
          null,
          3.4059766968419765,
          2.8069664430611088,
          null,
          2.647633552790906,
          3.1030545612304947,
          null,
          2.647633552790906,
          2.9636414888724576,
          null,
          2.647633552790906,
          2.8069664430611088,
          null,
          2.647633552790906,
          2.2982288856621125,
          null,
          2.647633552790906,
          2.320460000608564,
          null,
          3.1030545612304947,
          2.9636414888724576,
          null,
          3.1030545612304947,
          2.7693730976890927,
          null,
          3.1030545612304947,
          2.9869157513147107,
          null,
          2.9636414888724576,
          2.2982288856621125,
          null,
          2.9636414888724576,
          2.320460000608564,
          null,
          2.9636414888724576,
          2.7693730976890927,
          null,
          2.9636414888724576,
          2.9869157513147107,
          null,
          -7.416180226014693,
          -7.669293819790458,
          null,
          -6.844528231323432,
          -6.442362001449368,
          null,
          -6.844528231323432,
          -7.286446797115391,
          null,
          -6.844528231323432,
          -6.802186020074127,
          null,
          -6.442362001449368,
          -7.286446797115391,
          null,
          -6.442362001449368,
          -6.802186020074127,
          null,
          0.2730752539683744,
          -0.3399327446117858,
          null,
          0.2730752539683744,
          -0.26925196977483323,
          null,
          0.2730752539683744,
          0.011622413908475064,
          null,
          0.2730752539683744,
          -0.29150840597917216,
          null,
          0.2730752539683744,
          0.7816020553930091,
          null,
          0.2730752539683744,
          0.4454518218248992,
          null,
          -0.3399327446117858,
          -0.8591563741724864,
          null,
          -0.3399327446117858,
          0.011622413908475064,
          null,
          -0.3399327446117858,
          -1.317201224463819,
          null,
          -0.3399327446117858,
          -0.29150840597917216,
          null,
          -0.3399327446117858,
          0.4454518218248992,
          null,
          2.8069664430611088,
          2.04209510383233,
          null,
          2.8069664430611088,
          3.170791322860873,
          null,
          2.257829792680507,
          2.2982288856621125,
          null,
          2.257829792680507,
          2.42761791764219,
          null,
          2.257829792680507,
          2.320460000608564,
          null,
          2.2982288856621125,
          2.320460000608564,
          null,
          2.42761791764219,
          2.320460000608564,
          null,
          2.42761791764219,
          3.0834430041630765,
          null,
          2.42761791764219,
          3.0158773186390304,
          null,
          -0.8591563741724864,
          -1.7270790324598826,
          null,
          -0.8591563741724864,
          -1.317201224463819,
          null,
          -0.8591563741724864,
          -1.1754987325412776,
          null,
          -1.7270790324598826,
          -1.1754987325412776,
          null,
          2.320460000608564,
          2.7693730976890927,
          null,
          -2.6076115338763666,
          -1.7004861211486024,
          null,
          -2.6076115338763666,
          -2.8468288398951787,
          null,
          1.1553453030154048,
          2.1722481914118497,
          null,
          1.1553453030154048,
          1.1570434015980084,
          null,
          1.1553453030154048,
          2.130262650906762,
          null,
          3.0834430041630765,
          3.0158773186390304,
          null,
          3.0834430041630765,
          2.946392535614932,
          null,
          3.0834430041630765,
          3.4859989864174983,
          null,
          3.0834430041630765,
          4.000995581789825,
          null,
          3.0158773186390304,
          3.0369580943927144,
          null,
          3.0158773186390304,
          2.1722481914118497,
          null,
          3.0158773186390304,
          3.4859989864174983,
          null,
          3.0158773186390304,
          4.000995581789825,
          null,
          1.3051805726662287,
          2.04209510383233,
          null,
          1.3051805726662287,
          1.6224924008465587,
          null,
          1.3051805726662287,
          0.22853823330543308,
          null,
          1.3051805726662287,
          1.9923282640793063,
          null,
          2.04209510383233,
          1.6224924008465587,
          null,
          2.04209510383233,
          3.170791322860873,
          null,
          2.7693730976890927,
          2.7491664530579976,
          null,
          2.7693730976890927,
          2.9869157513147107,
          null,
          2.7693730976890927,
          2.468172182472389,
          null,
          -7.193628056586211,
          -7.292394993100797,
          null,
          -7.193628056586211,
          -7.122777722646358,
          null,
          -7.193628056586211,
          -6.574764102541787,
          null,
          3.0369580943927144,
          2.1722481914118497,
          null,
          3.0369580943927144,
          2.130262650906762,
          null,
          3.0369580943927144,
          3.1116030241557593,
          null,
          3.0369580943927144,
          2.4506543808550094,
          null,
          2.1722481914118497,
          1.1570434015980084,
          null,
          2.1722481914118497,
          2.130262650906762,
          null,
          2.1722481914118497,
          3.1116030241557593,
          null,
          2.1722481914118497,
          2.4506543808550094,
          null,
          2.7491664530579976,
          2.9869157513147107,
          null,
          2.7491664530579976,
          2.468172182472389,
          null,
          2.7491664530579976,
          2.2808412104119618,
          null,
          2.7491664530579976,
          3.138787472870743,
          null,
          3.350809582480994,
          2.9869157513147107,
          null,
          2.9869157513147107,
          2.468172182472389,
          null,
          -0.3327499681249244,
          -0.13001269294247753,
          null,
          -0.3327499681249244,
          0.22853823330543308,
          null,
          -0.3327499681249244,
          -0.7655739840807099,
          null,
          -0.3327499681249244,
          0.29643953636310133,
          null,
          -0.13001269294247753,
          -0.26925196977483323,
          null,
          -0.13001269294247753,
          0.29643953636310133,
          null,
          2.946392535614932,
          3.4859989864174983,
          null,
          3.4859989864174983,
          4.000995581789825,
          null,
          -0.26925196977483323,
          0.011622413908475064,
          null,
          0.011622413908475064,
          -0.29150840597917216,
          null,
          0.011622413908475064,
          0.7816020553930091,
          null,
          0.011622413908475064,
          0.4454518218248992,
          null,
          -0.29150840597917216,
          0.7816020553930091,
          null,
          -0.29150840597917216,
          -0.7557141998831015,
          null,
          2.130262650906762,
          3.1116030241557593,
          null,
          2.130262650906762,
          2.4506543808550094,
          null,
          1.9589044709858765,
          2.842627068157584,
          null,
          1.9589044709858765,
          0.9047842654082866,
          null,
          -7.292394993100797,
          -7.122777722646358,
          null,
          -7.292394993100797,
          -6.574764102541787,
          null,
          -0.17818528172189949,
          -0.4542622863497092,
          null,
          0.22853823330543308,
          -0.7655739840807099,
          null,
          3.830458784527634,
          4.532280778355345,
          null,
          -7.286446797115391,
          -6.802186020074127,
          null,
          -1.1061836057004104,
          -1.5983938352222418,
          null,
          -1.1061836057004104,
          -0.959318672897428,
          null,
          -1.1061836057004104,
          -0.49943885731857457,
          null,
          -1.5983938352222418,
          -0.959318672897428,
          null,
          -1.5983938352222418,
          -0.49943885731857457,
          null,
          2.2808412104119618,
          3.138787472870743,
          null,
          -0.959318672897428,
          -0.49943885731857457,
          null,
          -7.122777722646358,
          -6.574764102541787,
          null
         ],
         "y": [
          -1.1197849726861895,
          -1.733040718870402,
          null,
          -1.1197849726861895,
          -1.039279215643158,
          null,
          -1.1197849726861895,
          -0.42036556663095925,
          null,
          -1.1197849726861895,
          -0.46856811741285137,
          null,
          -1.1197849726861895,
          -0.5328427982588757,
          null,
          -1.1197849726861895,
          -1.282122315853289,
          null,
          -1.1197849726861895,
          -1.773755651315387,
          null,
          -1.1197849726861895,
          -1.6763535522125104,
          null,
          -1.733040718870402,
          -1.039279215643158,
          null,
          -1.733040718870402,
          -1.282122315853289,
          null,
          -1.733040718870402,
          -1.773755651315387,
          null,
          -1.733040718870402,
          -2.2998274854115714,
          null,
          -1.733040718870402,
          -1.6763535522125104,
          null,
          -1.733040718870402,
          -2.242345710845265,
          null,
          -1.733040718870402,
          -2.6886271318862924,
          null,
          -1.733040718870402,
          -1.7215858029220372,
          null,
          -1.039279215643158,
          -0.42036556663095925,
          null,
          -1.039279215643158,
          -0.46856811741285137,
          null,
          -1.039279215643158,
          -0.22821737617824553,
          null,
          -1.039279215643158,
          -1.103420025570472,
          null,
          -1.039279215643158,
          -1.773755651315387,
          null,
          -1.039279215643158,
          -1.7104950905043332,
          null,
          -0.42036556663095925,
          -0.46856811741285137,
          null,
          -0.42036556663095925,
          0.35314505882113584,
          null,
          -0.42036556663095925,
          -0.22821737617824553,
          null,
          -0.42036556663095925,
          -1.103420025570472,
          null,
          -0.42036556663095925,
          0.6145942585587248,
          null,
          -0.42036556663095925,
          0.48450817632354787,
          null,
          -0.46856811741285137,
          -0.5328427982588757,
          null,
          -0.46856811741285137,
          -1.282122315853289,
          null,
          -0.46856811741285137,
          0.35314505882113584,
          null,
          -0.46856811741285137,
          0.3307337011625351,
          null,
          -0.46856811741285137,
          0.48450817632354787,
          null,
          -0.5328427982588757,
          -1.282122315853289,
          null,
          -0.5328427982588757,
          0.35314505882113584,
          null,
          -0.5328427982588757,
          0.3307337011625351,
          null,
          -0.5328427982588757,
          -1.470826890338125,
          null,
          -0.5328427982588757,
          0.18493243567169323,
          null,
          -0.5328427982588757,
          -0.5773694690822572,
          null,
          -1.282122315853289,
          -1.470826890338125,
          null,
          -1.282122315853289,
          -1.6763535522125104,
          null,
          -1.282122315853289,
          -0.5773694690822572,
          null,
          0.14902683283379614,
          -0.10330188671878077,
          null,
          0.14902683283379614,
          -0.7529976638120419,
          null,
          0.14902683283379614,
          -0.9267450711116736,
          null,
          0.14902683283379614,
          0.03742052817428074,
          null,
          0.14902683283379614,
          -0.9396969283309051,
          null,
          0.14902683283379614,
          0.8487351821284569,
          null,
          0.14902683283379614,
          0.8636674197156634,
          null,
          0.14902683283379614,
          0.9853862968006157,
          null,
          -0.10330188671878077,
          -0.22821737617824553,
          null,
          -0.10330188671878077,
          -1.103420025570472,
          null,
          -0.10330188671878077,
          0.6145942585587248,
          null,
          -0.10330188671878077,
          -0.9267450711116736,
          null,
          -0.10330188671878077,
          -0.9396969283309051,
          null,
          -0.10330188671878077,
          0.8487351821284569,
          null,
          -0.10330188671878077,
          0.8636674197156634,
          null,
          0.35314505882113584,
          0.3307337011625351,
          null,
          0.35314505882113584,
          1.4312152899014439,
          null,
          0.35314505882113584,
          1.3098854870195393,
          null,
          0.35314505882113584,
          0.48450817632354787,
          null,
          0.35314505882113584,
          1.1828227344192874,
          null,
          0.3307337011625351,
          1.3098854870195393,
          null,
          0.3307337011625351,
          1.1828227344192874,
          null,
          0.3307337011625351,
          0.4865307029205142,
          null,
          0.3307337011625351,
          0.18493243567169323,
          null,
          0.3307337011625351,
          -0.5773694690822572,
          null,
          0.3307337011625351,
          0.8772302223944358,
          null,
          -0.22821737617824553,
          -1.103420025570472,
          null,
          -0.22821737617824553,
          0.6145942585587248,
          null,
          -0.22821737617824553,
          0.48450817632354787,
          null,
          -0.22821737617824553,
          -0.9396969283309051,
          null,
          -0.22821737617824553,
          0.8636674197156634,
          null,
          -1.103420025570472,
          -1.773755651315387,
          null,
          -1.103420025570472,
          -1.7104950905043332,
          null,
          -1.103420025570472,
          -0.9396969283309051,
          null,
          -1.103420025570472,
          -1.9184285269239105,
          null,
          6.210115937459002,
          5.536943817204173,
          null,
          6.210115937459002,
          6.428817215448159,
          null,
          -2.6847233781774764,
          -3.6647885790497314,
          null,
          -2.6847233781774764,
          -1.8401231997091203,
          null,
          -2.6847233781774764,
          -1.7104950905043332,
          null,
          -2.6847233781774764,
          -2.648128599284635,
          null,
          -2.6847233781774764,
          -1.9184285269239105,
          null,
          -2.6847233781774764,
          -3.2515791650176658,
          null,
          -2.6847233781774764,
          -2.8719068887701478,
          null,
          -2.6847233781774764,
          -3.7656827097301258,
          null,
          -3.6647885790497314,
          -2.648128599284635,
          null,
          -3.6647885790497314,
          -3.2515791650176658,
          null,
          -3.6647885790497314,
          -2.8719068887701478,
          null,
          -3.6647885790497314,
          -3.7656827097301258,
          null,
          -3.6647885790497314,
          -4.462017465472277,
          null,
          -3.6647885790497314,
          -3.9309636692776317,
          null,
          -3.6647885790497314,
          -4.694080850762423,
          null,
          -3.6647885790497314,
          -4.657221836465988,
          null,
          1.4312152899014439,
          1.3098854870195393,
          null,
          1.4312152899014439,
          0.6145942585587248,
          null,
          1.4312152899014439,
          2.3314601214817854,
          null,
          1.4312152899014439,
          1.5505449288175885,
          null,
          1.4312152899014439,
          0.48450817632354787,
          null,
          1.4312152899014439,
          2.4057222529009885,
          null,
          1.4312152899014439,
          2.2442559843712884,
          null,
          1.3098854870195393,
          0.48450817632354787,
          null,
          1.3098854870195393,
          2.4057222529009885,
          null,
          1.3098854870195393,
          2.2442559843712884,
          null,
          1.3098854870195393,
          1.1828227344192874,
          null,
          1.3098854870195393,
          1.896813794943514,
          null,
          -1.470826890338125,
          -0.5773694690822572,
          null,
          0.6145942585587248,
          1.4479213743865202,
          null,
          0.6145942585587248,
          1.5505449288175885,
          null,
          0.6145942585587248,
          0.48450817632354787,
          null,
          0.6145942585587248,
          0.8636674197156634,
          null,
          2.1769743545072475,
          2.3314601214817854,
          null,
          2.1769743545072475,
          1.4479213743865202,
          null,
          2.1769743545072475,
          1.5505449288175885,
          null,
          2.1769743545072475,
          1.5235936582370224,
          null,
          2.1769743545072475,
          2.6428577528407957,
          null,
          2.1769743545072475,
          3.1090448589510014,
          null,
          2.1769743545072475,
          2.9646295856506226,
          null,
          2.1769743545072475,
          1.6845860927200218,
          null,
          2.1769743545072475,
          2.0650582058518205,
          null,
          2.1769743545072475,
          3.124682121735666,
          null,
          2.3314601214817854,
          1.4479213743865202,
          null,
          2.3314601214817854,
          1.5505449288175885,
          null,
          2.3314601214817854,
          2.4057222529009885,
          null,
          2.3314601214817854,
          3.1090448589510014,
          null,
          2.3314601214817854,
          2.9646295856506226,
          null,
          2.3314601214817854,
          3.156941397997813,
          null,
          1.4479213743865202,
          1.5505449288175885,
          null,
          1.4479213743865202,
          1.5235936582370224,
          null,
          1.4479213743865202,
          0.8487351821284569,
          null,
          1.4479213743865202,
          0.8636674197156634,
          null,
          1.4479213743865202,
          1.6845860927200218,
          null,
          1.5505449288175885,
          0.48450817632354787,
          null,
          1.5505449288175885,
          2.4057222529009885,
          null,
          1.5505449288175885,
          0.8636674197156634,
          null,
          -1.773755651315387,
          -2.2998274854115714,
          null,
          -1.773755651315387,
          -1.7104950905043332,
          null,
          -1.773755651315387,
          -2.648128599284635,
          null,
          -1.773755651315387,
          -2.242345710845265,
          null,
          -2.2998274854115714,
          -1.7104950905043332,
          null,
          -2.2998274854115714,
          -2.648128599284635,
          null,
          -2.2998274854115714,
          -3.2515791650176658,
          null,
          -2.2998274854115714,
          -2.96235184841473,
          null,
          -2.2998274854115714,
          -2.355901036595201,
          null,
          -2.2998274854115714,
          -2.242345710845265,
          null,
          -0.7529976638120419,
          -0.9267450711116736,
          null,
          -0.7529976638120419,
          -1.8570774092471154,
          null,
          -0.7529976638120419,
          -1.8401231997091203,
          null,
          -0.7529976638120419,
          0.03742052817428074,
          null,
          -0.9267450711116736,
          -1.8570774092471154,
          null,
          -0.9267450711116736,
          -1.8401231997091203,
          null,
          -0.9267450711116736,
          0.03742052817428074,
          null,
          -0.9267450711116736,
          -0.9396969283309051,
          null,
          -0.9267450711116736,
          -1.9184285269239105,
          null,
          -1.8570774092471154,
          -1.8401231997091203,
          null,
          -1.8570774092471154,
          -2.8719068887701478,
          null,
          -1.8570774092471154,
          -2.8752970963292195,
          null,
          -1.8401231997091203,
          -0.9396969283309051,
          null,
          -1.8401231997091203,
          -1.9184285269239105,
          null,
          -1.8401231997091203,
          -2.8719068887701478,
          null,
          -1.8401231997091203,
          -2.8752970963292195,
          null,
          1.9077942728818393,
          1.4333467094104624,
          null,
          1.5234364776159022,
          0.5207715618618354,
          null,
          1.5234364776159022,
          0.6764988953703192,
          null,
          1.5234364776159022,
          0.9099459221205767,
          null,
          0.5207715618618354,
          0.6764988953703192,
          null,
          0.5207715618618354,
          0.9099459221205767,
          null,
          2.4057222529009885,
          2.2442559843712884,
          null,
          2.4057222529009885,
          2.9646295856506226,
          null,
          2.4057222529009885,
          3.156941397997813,
          null,
          2.4057222529009885,
          3.344699267429636,
          null,
          2.4057222529009885,
          3.552071425307221,
          null,
          2.4057222529009885,
          3.0730400029351306,
          null,
          2.2442559843712884,
          1.1828227344192874,
          null,
          2.2442559843712884,
          3.156941397997813,
          null,
          2.2442559843712884,
          1.896813794943514,
          null,
          2.2442559843712884,
          3.344699267429636,
          null,
          2.2442559843712884,
          3.0730400029351306,
          null,
          0.03742052817428074,
          0.8487351821284569,
          null,
          0.03742052817428074,
          0.9853862968006157,
          null,
          -1.7104950905043332,
          -0.9396969283309051,
          null,
          -1.7104950905043332,
          -2.648128599284635,
          null,
          -1.7104950905043332,
          -1.9184285269239105,
          null,
          -0.9396969283309051,
          -1.9184285269239105,
          null,
          -2.648128599284635,
          -1.9184285269239105,
          null,
          -2.648128599284635,
          -3.2515791650176658,
          null,
          -2.648128599284635,
          -2.96235184841473,
          null,
          1.1828227344192874,
          0.4865307029205142,
          null,
          1.1828227344192874,
          1.896813794943514,
          null,
          1.1828227344192874,
          0.8772302223944358,
          null,
          0.4865307029205142,
          0.8772302223944358,
          null,
          -1.9184285269239105,
          -2.8719068887701478,
          null,
          -5.73734930587992,
          -5.649723181278211,
          null,
          -5.73734930587992,
          -6.321552308248266,
          null,
          -1.6763535522125104,
          -2.242345710845265,
          null,
          -1.6763535522125104,
          -2.6886271318862924,
          null,
          -1.6763535522125104,
          -1.7215858029220372,
          null,
          -3.2515791650176658,
          -2.96235184841473,
          null,
          -3.2515791650176658,
          -4.462017465472277,
          null,
          -3.2515791650176658,
          -3.9309636692776317,
          null,
          -3.2515791650176658,
          -3.4334634408992892,
          null,
          -2.96235184841473,
          -2.355901036595201,
          null,
          -2.96235184841473,
          -2.242345710845265,
          null,
          -2.96235184841473,
          -3.9309636692776317,
          null,
          -2.96235184841473,
          -3.4334634408992892,
          null,
          1.5235936582370224,
          0.8487351821284569,
          null,
          1.5235936582370224,
          0.8636674197156634,
          null,
          1.5235936582370224,
          1.6845860927200218,
          null,
          1.5235936582370224,
          2.2679335311244486,
          null,
          0.8487351821284569,
          0.8636674197156634,
          null,
          0.8487351821284569,
          0.9853862968006157,
          null,
          -2.8719068887701478,
          -3.7656827097301258,
          null,
          -2.8719068887701478,
          -2.8752970963292195,
          null,
          -2.8719068887701478,
          -3.69725561861342,
          null,
          -3.794067008004922,
          -4.29482412447711,
          null,
          -3.794067008004922,
          -4.623736072757383,
          null,
          -3.794067008004922,
          -4.700847749032552,
          null,
          -2.355901036595201,
          -2.242345710845265,
          null,
          -2.355901036595201,
          -1.7215858029220372,
          null,
          -2.355901036595201,
          -1.8152312142067968,
          null,
          -2.355901036595201,
          -2.6554662287113038,
          null,
          -2.242345710845265,
          -2.6886271318862924,
          null,
          -2.242345710845265,
          -1.7215858029220372,
          null,
          -2.242345710845265,
          -1.8152312142067968,
          null,
          -2.242345710845265,
          -2.6554662287113038,
          null,
          -3.7656827097301258,
          -2.8752970963292195,
          null,
          -3.7656827097301258,
          -3.69725561861342,
          null,
          -3.7656827097301258,
          -4.694080850762423,
          null,
          -3.7656827097301258,
          -4.657221836465988,
          null,
          -3.257292977228635,
          -2.8752970963292195,
          null,
          -2.8752970963292195,
          -3.69725561861342,
          null,
          2.6428577528407957,
          3.1090448589510014,
          null,
          2.6428577528407957,
          1.6845860927200218,
          null,
          2.6428577528407957,
          2.0650582058518205,
          null,
          2.6428577528407957,
          3.124682121735666,
          null,
          3.1090448589510014,
          2.9646295856506226,
          null,
          3.1090448589510014,
          3.124682121735666,
          null,
          -4.462017465472277,
          -3.9309636692776317,
          null,
          -3.9309636692776317,
          -3.4334634408992892,
          null,
          2.9646295856506226,
          3.156941397997813,
          null,
          3.156941397997813,
          3.344699267429636,
          null,
          3.156941397997813,
          3.552071425307221,
          null,
          3.156941397997813,
          3.0730400029351306,
          null,
          3.344699267429636,
          3.552071425307221,
          null,
          3.344699267429636,
          4.353551300673226,
          null,
          -1.7215858029220372,
          -1.8152312142067968,
          null,
          -1.7215858029220372,
          -2.6554662287113038,
          null,
          8.623295376199966,
          8.528898581013717,
          null,
          8.623295376199966,
          8.817468864037258,
          null,
          -4.29482412447711,
          -4.623736072757383,
          null,
          -4.29482412447711,
          -4.700847749032552,
          null,
          0.18493243567169323,
          -0.5773694690822572,
          null,
          1.6845860927200218,
          2.0650582058518205,
          null,
          1.2611366235389938,
          1.7409357513026993,
          null,
          0.6764988953703192,
          0.9099459221205767,
          null,
          1.9703462154969325,
          2.5083908200760288,
          null,
          1.9703462154969325,
          3.180923192129914,
          null,
          1.9703462154969325,
          2.5492819754318434,
          null,
          2.5083908200760288,
          3.180923192129914,
          null,
          2.5083908200760288,
          2.5492819754318434,
          null,
          -4.694080850762423,
          -4.657221836465988,
          null,
          3.180923192129914,
          2.5492819754318434,
          null,
          -4.623736072757383,
          -4.700847749032552,
          null
         ],
         "z": [
          -0.5422256668102416,
          -0.9797395372302636,
          null,
          -0.5422256668102416,
          0.15441819144759755,
          null,
          -0.5422256668102416,
          0.5848992409525147,
          null,
          -0.5422256668102416,
          -0.12313960084230667,
          null,
          -0.5422256668102416,
          -0.9131919890836839,
          null,
          -0.5422256668102416,
          -1.1702593971178619,
          null,
          -0.5422256668102416,
          -0.17968760222858143,
          null,
          -0.5422256668102416,
          -1.6765542089552323,
          null,
          -0.9797395372302636,
          0.15441819144759755,
          null,
          -0.9797395372302636,
          -1.1702593971178619,
          null,
          -0.9797395372302636,
          -0.17968760222858143,
          null,
          -0.9797395372302636,
          -0.5041178784415937,
          null,
          -0.9797395372302636,
          -1.6765542089552323,
          null,
          -0.9797395372302636,
          -1.3761810798368523,
          null,
          -0.9797395372302636,
          -1.7276315128496917,
          null,
          -0.9797395372302636,
          -2.100611307129186,
          null,
          0.15441819144759755,
          0.5848992409525147,
          null,
          0.15441819144759755,
          -0.12313960084230667,
          null,
          0.15441819144759755,
          1.1278950874969982,
          null,
          0.15441819144759755,
          0.955904992914002,
          null,
          0.15441819144759755,
          -0.17968760222858143,
          null,
          0.15441819144759755,
          0.5508703944964302,
          null,
          0.5848992409525147,
          -0.12313960084230667,
          null,
          0.5848992409525147,
          0.024286338071931687,
          null,
          0.5848992409525147,
          1.1278950874969982,
          null,
          0.5848992409525147,
          0.955904992914002,
          null,
          0.5848992409525147,
          1.2947481114530681,
          null,
          0.5848992409525147,
          0.7582642165859985,
          null,
          -0.12313960084230667,
          -0.9131919890836839,
          null,
          -0.12313960084230667,
          -1.1702593971178619,
          null,
          -0.12313960084230667,
          0.024286338071931687,
          null,
          -0.12313960084230667,
          -0.912327681565157,
          null,
          -0.12313960084230667,
          0.7582642165859985,
          null,
          -0.9131919890836839,
          -1.1702593971178619,
          null,
          -0.9131919890836839,
          0.024286338071931687,
          null,
          -0.9131919890836839,
          -0.912327681565157,
          null,
          -0.9131919890836839,
          -1.400351091834105,
          null,
          -0.9131919890836839,
          -2.044223366346642,
          null,
          -0.9131919890836839,
          -1.7457148219541878,
          null,
          -1.1702593971178619,
          -1.400351091834105,
          null,
          -1.1702593971178619,
          -1.6765542089552323,
          null,
          -1.1702593971178619,
          -1.7457148219541878,
          null,
          2.0957050276060896,
          1.7514130869670397,
          null,
          2.0957050276060896,
          2.5705499682316164,
          null,
          2.0957050276060896,
          2.26635603564146,
          null,
          2.0957050276060896,
          3.00816597038379,
          null,
          2.0957050276060896,
          1.5007631858038364,
          null,
          2.0957050276060896,
          2.5445814333721652,
          null,
          2.0957050276060896,
          1.8069110113888835,
          null,
          2.0957050276060896,
          2.674919659494511,
          null,
          1.7514130869670397,
          1.1278950874969982,
          null,
          1.7514130869670397,
          0.955904992914002,
          null,
          1.7514130869670397,
          1.2947481114530681,
          null,
          1.7514130869670397,
          2.26635603564146,
          null,
          1.7514130869670397,
          1.5007631858038364,
          null,
          1.7514130869670397,
          2.5445814333721652,
          null,
          1.7514130869670397,
          1.8069110113888835,
          null,
          0.024286338071931687,
          -0.912327681565157,
          null,
          0.024286338071931687,
          0.590226116130908,
          null,
          0.024286338071931687,
          -0.12931379314798536,
          null,
          0.024286338071931687,
          0.7582642165859985,
          null,
          0.024286338071931687,
          -0.6669474625985886,
          null,
          -0.912327681565157,
          -0.12931379314798536,
          null,
          -0.912327681565157,
          -0.6669474625985886,
          null,
          -0.912327681565157,
          -0.9722041484437689,
          null,
          -0.912327681565157,
          -2.044223366346642,
          null,
          -0.912327681565157,
          -1.7457148219541878,
          null,
          -0.912327681565157,
          -1.6442129706900948,
          null,
          1.1278950874969982,
          0.955904992914002,
          null,
          1.1278950874969982,
          1.2947481114530681,
          null,
          1.1278950874969982,
          0.7582642165859985,
          null,
          1.1278950874969982,
          1.5007631858038364,
          null,
          1.1278950874969982,
          1.8069110113888835,
          null,
          0.955904992914002,
          -0.17968760222858143,
          null,
          0.955904992914002,
          0.5508703944964302,
          null,
          0.955904992914002,
          1.5007631858038364,
          null,
          0.955904992914002,
          1.4625061269813326,
          null,
          -4.942777247512762,
          -5.5562302911359875,
          null,
          -4.942777247512762,
          -4.1218922175167245,
          null,
          1.1125118901648932,
          0.8773925518663567,
          null,
          1.1125118901648932,
          2.0402779127413564,
          null,
          1.1125118901648932,
          0.5508703944964302,
          null,
          1.1125118901648932,
          0.352160691268127,
          null,
          1.1125118901648932,
          1.4625061269813326,
          null,
          1.1125118901648932,
          0.011372807885234829,
          null,
          1.1125118901648932,
          1.9663821856226797,
          null,
          1.1125118901648932,
          1.8089550778592207,
          null,
          0.8773925518663567,
          0.352160691268127,
          null,
          0.8773925518663567,
          0.011372807885234829,
          null,
          0.8773925518663567,
          1.9663821856226797,
          null,
          0.8773925518663567,
          1.8089550778592207,
          null,
          0.8773925518663567,
          0.06369216869061589,
          null,
          0.8773925518663567,
          -0.25443901461146373,
          null,
          0.8773925518663567,
          1.3227798158937345,
          null,
          0.8773925518663567,
          1.313591165797134,
          null,
          0.590226116130908,
          -0.12931379314798536,
          null,
          0.590226116130908,
          1.2947481114530681,
          null,
          0.590226116130908,
          1.470210303544389,
          null,
          0.590226116130908,
          1.3901045809534682,
          null,
          0.590226116130908,
          0.7582642165859985,
          null,
          0.590226116130908,
          0.4966644636588437,
          null,
          0.590226116130908,
          -0.1562430812117656,
          null,
          -0.12931379314798536,
          0.7582642165859985,
          null,
          -0.12931379314798536,
          0.4966644636588437,
          null,
          -0.12931379314798536,
          -0.1562430812117656,
          null,
          -0.12931379314798536,
          -0.6669474625985886,
          null,
          -0.12931379314798536,
          -0.26671844150678203,
          null,
          -1.400351091834105,
          -1.7457148219541878,
          null,
          1.2947481114530681,
          2.206747735445087,
          null,
          1.2947481114530681,
          1.3901045809534682,
          null,
          1.2947481114530681,
          0.7582642165859985,
          null,
          1.2947481114530681,
          1.8069110113888835,
          null,
          2.4521895429427327,
          1.470210303544389,
          null,
          2.4521895429427327,
          2.206747735445087,
          null,
          2.4521895429427327,
          1.3901045809534682,
          null,
          2.4521895429427327,
          2.9241642079982495,
          null,
          2.4521895429427327,
          3.319470694452386,
          null,
          2.4521895429427327,
          2.3388836363955234,
          null,
          2.4521895429427327,
          1.5587250703615902,
          null,
          2.4521895429427327,
          3.273161454466763,
          null,
          2.4521895429427327,
          3.376635540259086,
          null,
          2.4521895429427327,
          3.19444508602806,
          null,
          1.470210303544389,
          2.206747735445087,
          null,
          1.470210303544389,
          1.3901045809534682,
          null,
          1.470210303544389,
          0.4966644636588437,
          null,
          1.470210303544389,
          2.3388836363955234,
          null,
          1.470210303544389,
          1.5587250703615902,
          null,
          1.470210303544389,
          0.6255416286851028,
          null,
          2.206747735445087,
          1.3901045809534682,
          null,
          2.206747735445087,
          2.9241642079982495,
          null,
          2.206747735445087,
          2.5445814333721652,
          null,
          2.206747735445087,
          1.8069110113888835,
          null,
          2.206747735445087,
          3.273161454466763,
          null,
          1.3901045809534682,
          0.7582642165859985,
          null,
          1.3901045809534682,
          0.4966644636588437,
          null,
          1.3901045809534682,
          1.8069110113888835,
          null,
          -0.17968760222858143,
          -0.5041178784415937,
          null,
          -0.17968760222858143,
          0.5508703944964302,
          null,
          -0.17968760222858143,
          0.352160691268127,
          null,
          -0.17968760222858143,
          -1.3761810798368523,
          null,
          -0.5041178784415937,
          0.5508703944964302,
          null,
          -0.5041178784415937,
          0.352160691268127,
          null,
          -0.5041178784415937,
          0.011372807885234829,
          null,
          -0.5041178784415937,
          -0.8165160504866114,
          null,
          -0.5041178784415937,
          -1.636149325019705,
          null,
          -0.5041178784415937,
          -1.3761810798368523,
          null,
          2.5705499682316164,
          2.26635603564146,
          null,
          2.5705499682316164,
          2.8342828269145333,
          null,
          2.5705499682316164,
          2.0402779127413564,
          null,
          2.5705499682316164,
          3.00816597038379,
          null,
          2.26635603564146,
          2.8342828269145333,
          null,
          2.26635603564146,
          2.0402779127413564,
          null,
          2.26635603564146,
          3.00816597038379,
          null,
          2.26635603564146,
          1.5007631858038364,
          null,
          2.26635603564146,
          1.4625061269813326,
          null,
          2.8342828269145333,
          2.0402779127413564,
          null,
          2.8342828269145333,
          1.9663821856226797,
          null,
          2.8342828269145333,
          2.810074585931922,
          null,
          2.0402779127413564,
          1.5007631858038364,
          null,
          2.0402779127413564,
          1.4625061269813326,
          null,
          2.0402779127413564,
          1.9663821856226797,
          null,
          2.0402779127413564,
          2.810074585931922,
          null,
          3.6270094700993676,
          2.8859776589685397,
          null,
          -4.746577937988618,
          -4.870308368953133,
          null,
          -4.746577937988618,
          -4.574240766478033,
          null,
          -4.746577937988618,
          -5.485392560430042,
          null,
          -4.870308368953133,
          -4.574240766478033,
          null,
          -4.870308368953133,
          -5.485392560430042,
          null,
          0.4966644636588437,
          -0.1562430812117656,
          null,
          0.4966644636588437,
          1.5587250703615902,
          null,
          0.4966644636588437,
          0.6255416286851028,
          null,
          0.4966644636588437,
          -0.0996004194389819,
          null,
          0.4966644636588437,
          0.20245935523764708,
          null,
          0.4966644636588437,
          -0.4534647000653542,
          null,
          -0.1562430812117656,
          -0.6669474625985886,
          null,
          -0.1562430812117656,
          0.6255416286851028,
          null,
          -0.1562430812117656,
          -0.26671844150678203,
          null,
          -0.1562430812117656,
          -0.0996004194389819,
          null,
          -0.1562430812117656,
          -0.4534647000653542,
          null,
          3.00816597038379,
          2.5445814333721652,
          null,
          3.00816597038379,
          2.674919659494511,
          null,
          0.5508703944964302,
          1.5007631858038364,
          null,
          0.5508703944964302,
          0.352160691268127,
          null,
          0.5508703944964302,
          1.4625061269813326,
          null,
          1.5007631858038364,
          1.4625061269813326,
          null,
          0.352160691268127,
          1.4625061269813326,
          null,
          0.352160691268127,
          0.011372807885234829,
          null,
          0.352160691268127,
          -0.8165160504866114,
          null,
          -0.6669474625985886,
          -0.9722041484437689,
          null,
          -0.6669474625985886,
          -0.26671844150678203,
          null,
          -0.6669474625985886,
          -1.6442129706900948,
          null,
          -0.9722041484437689,
          -1.6442129706900948,
          null,
          1.4625061269813326,
          1.9663821856226797,
          null,
          -6.361749180420529,
          -6.84084161613377,
          null,
          -6.361749180420529,
          -5.450703231825038,
          null,
          -1.6765542089552323,
          -1.3761810798368523,
          null,
          -1.6765542089552323,
          -1.7276315128496917,
          null,
          -1.6765542089552323,
          -2.100611307129186,
          null,
          0.011372807885234829,
          -0.8165160504866114,
          null,
          0.011372807885234829,
          0.06369216869061589,
          null,
          0.011372807885234829,
          -0.25443901461146373,
          null,
          0.011372807885234829,
          -0.8575824854971257,
          null,
          -0.8165160504866114,
          -1.636149325019705,
          null,
          -0.8165160504866114,
          -1.3761810798368523,
          null,
          -0.8165160504866114,
          -0.25443901461146373,
          null,
          -0.8165160504866114,
          -0.8575824854971257,
          null,
          2.9241642079982495,
          2.5445814333721652,
          null,
          2.9241642079982495,
          1.8069110113888835,
          null,
          2.9241642079982495,
          3.273161454466763,
          null,
          2.9241642079982495,
          3.6310987471599376,
          null,
          2.5445814333721652,
          1.8069110113888835,
          null,
          2.5445814333721652,
          2.674919659494511,
          null,
          1.9663821856226797,
          1.8089550778592207,
          null,
          1.9663821856226797,
          2.810074585931922,
          null,
          1.9663821856226797,
          2.785212609851396,
          null,
          -2.0871681248563982,
          -1.2293274238278844,
          null,
          -2.0871681248563982,
          -2.380227269753974,
          null,
          -2.0871681248563982,
          -1.7672481554747748,
          null,
          -1.636149325019705,
          -1.3761810798368523,
          null,
          -1.636149325019705,
          -2.100611307129186,
          null,
          -1.636149325019705,
          -2.3582264712912338,
          null,
          -1.636149325019705,
          -2.4620664471852134,
          null,
          -1.3761810798368523,
          -1.7276315128496917,
          null,
          -1.3761810798368523,
          -2.100611307129186,
          null,
          -1.3761810798368523,
          -2.3582264712912338,
          null,
          -1.3761810798368523,
          -2.4620664471852134,
          null,
          1.8089550778592207,
          2.810074585931922,
          null,
          1.8089550778592207,
          2.785212609851396,
          null,
          1.8089550778592207,
          1.3227798158937345,
          null,
          1.8089550778592207,
          1.313591165797134,
          null,
          3.826909312320414,
          2.810074585931922,
          null,
          2.810074585931922,
          2.785212609851396,
          null,
          3.319470694452386,
          2.3388836363955234,
          null,
          3.319470694452386,
          3.273161454466763,
          null,
          3.319470694452386,
          3.376635540259086,
          null,
          3.319470694452386,
          3.19444508602806,
          null,
          2.3388836363955234,
          1.5587250703615902,
          null,
          2.3388836363955234,
          3.19444508602806,
          null,
          0.06369216869061589,
          -0.25443901461146373,
          null,
          -0.25443901461146373,
          -0.8575824854971257,
          null,
          1.5587250703615902,
          0.6255416286851028,
          null,
          0.6255416286851028,
          -0.0996004194389819,
          null,
          0.6255416286851028,
          0.20245935523764708,
          null,
          0.6255416286851028,
          -0.4534647000653542,
          null,
          -0.0996004194389819,
          0.20245935523764708,
          null,
          -0.0996004194389819,
          -0.49747620253494085,
          null,
          -2.100611307129186,
          -2.3582264712912338,
          null,
          -2.100611307129186,
          -2.4620664471852134,
          null,
          -1.5806769260050253,
          -1.1497550386006254,
          null,
          -1.5806769260050253,
          -1.3762902776654335,
          null,
          -1.2293274238278844,
          -2.380227269753974,
          null,
          -1.2293274238278844,
          -1.7672481554747748,
          null,
          -2.044223366346642,
          -1.7457148219541878,
          null,
          3.273161454466763,
          3.376635540259086,
          null,
          -8.239854978829035,
          -7.884051300104021,
          null,
          -4.574240766478033,
          -5.485392560430042,
          null,
          -8.632720635828951,
          -8.330127541510638,
          null,
          -8.632720635828951,
          -8.305762972751987,
          null,
          -8.632720635828951,
          -8.534384673810116,
          null,
          -8.330127541510638,
          -8.305762972751987,
          null,
          -8.330127541510638,
          -8.534384673810116,
          null,
          1.3227798158937345,
          1.313591165797134,
          null,
          -8.305762972751987,
          -8.534384673810116,
          null,
          -2.380227269753974,
          -1.7672481554747748,
          null
         ]
        },
        {
         "hoverinfo": "text",
         "hoverlabel": {
          "bgcolor": [
           "#25a485",
           "#209b89",
           "#21a088",
           "#209f88",
           "#25a485",
           "#29a982",
           "#28a982",
           "#2bac80",
           "#28a882",
           "#26a684",
           "#28a883",
           "#27a783",
           "#25a485",
           "#22a187",
           "#21a087",
           "#21a088",
           "#24a386",
           "#28a883",
           "#24a485",
           "#27a883",
           "#29aa81",
           "#26a684",
           "#29a982",
           "#26a684",
           "#2cad80",
           "#27a783",
           "#24a386",
           "#21a187",
           "#24a386",
           "#21a187",
           "#27a783",
           "#2bab80",
           "#2bab80",
           "#28a883",
           "#28a883",
           "#27a883",
           "#21968a",
           "#27a783",
           "#24a386",
           "#26a684",
           "#27a883",
           "#21a187",
           "#25a584",
           "#27a783",
           "#30b17d",
           "#24a485",
           "#1f9d89",
           "#21a187",
           "#25a584",
           "#21a187",
           "#29a982",
           "#24a485",
           "#27a783",
           "#25a585",
           "#25848e",
           "#27a783",
           "#24a386",
           "#209f89",
           "#22918b",
           "#25a585",
           "#21978a",
           "#25a585",
           "#22928b",
           "#209f88",
           "#2cad7f",
           "#28a982",
           "#28a982",
           "#28a882",
           "#24a485",
           "#25a585",
           "#28a883",
           "#24a485",
           "#22a187",
           "#2dae7f",
           "#440154",
           "#21a088",
           "#24a386",
           "#23a386",
           "#2bac80",
           "#23908c",
           "#21978a",
           "#33b57b",
           "#2dad7f",
           "#23a286",
           "#21978a",
           "#25a485",
           "#25a584",
           "#25858d",
           "#21958b",
           "#29a982",
           "#2aaa81",
           "#404386",
           "#45337e",
           "#25858d",
           "#40bb73",
           "#22918b",
           "#33628d",
           "#2b768e",
           "#2bab81",
           "#8ad446",
           "#d2e229",
           "#47be6e",
           "#4dc16b",
           "#fde725"
          ]
         },
         "hovertext": [
          "Node ID: 0<br>Pullback set label: 44<br>Partial cluster label: 0<br>Node size: 1397<br>Summary statistic: 12700.0",
          "Node ID: 1<br>Pullback set label: 54<br>Partial cluster label: 0<br>Node size: 737<br>Summary statistic: 11900.0",
          "Node ID: 2<br>Pullback set label: 43<br>Partial cluster label: 0<br>Node size: 1743<br>Summary statistic: 12300.0",
          "Node ID: 3<br>Pullback set label: 81<br>Partial cluster label: 0<br>Node size: 419<br>Summary statistic: 12200.0",
          "Node ID: 4<br>Pullback set label: 33<br>Partial cluster label: 0<br>Node size: 2009<br>Summary statistic: 12700.0",
          "Node ID: 5<br>Pullback set label: 34<br>Partial cluster label: 0<br>Node size: 1605<br>Summary statistic: 13200.0",
          "Node ID: 6<br>Pullback set label: 35<br>Partial cluster label: 0<br>Node size: 860<br>Summary statistic: 13100.0",
          "Node ID: 7<br>Pullback set label: 45<br>Partial cluster label: 0<br>Node size: 747<br>Summary statistic: 13400.0",
          "Node ID: 8<br>Pullback set label: 30<br>Partial cluster label: 0<br>Node size: 1039<br>Summary statistic: 13100.0",
          "Node ID: 9<br>Pullback set label: 31<br>Partial cluster label: 0<br>Node size: 1524<br>Summary statistic: 12900.0",
          "Node ID: 10<br>Pullback set label: 26<br>Partial cluster label: 0<br>Node size: 1491<br>Summary statistic: 13000.0",
          "Node ID: 11<br>Pullback set label: 27<br>Partial cluster label: 0<br>Node size: 709<br>Summary statistic: 13000.0",
          "Node ID: 12<br>Pullback set label: 32<br>Partial cluster label: 0<br>Node size: 1828<br>Summary statistic: 12700.0",
          "Node ID: 13<br>Pullback set label: 42<br>Partial cluster label: 0<br>Node size: 1595<br>Summary statistic: 12500.0",
          "Node ID: 14<br>Pullback set label: 68<br>Partial cluster label: 0<br>Node size: 201<br>Summary statistic: 12300.0",
          "Node ID: 15<br>Pullback set label: 76<br>Partial cluster label: 0<br>Node size: 190<br>Summary statistic: 12300.0",
          "Node ID: 16<br>Pullback set label: 61<br>Partial cluster label: 0<br>Node size: 935<br>Summary statistic: 12600.0",
          "Node ID: 17<br>Pullback set label: 71<br>Partial cluster label: 0<br>Node size: 638<br>Summary statistic: 13100.0",
          "Node ID: 18<br>Pullback set label: 17<br>Partial cluster label: 0<br>Node size: 1504<br>Summary statistic: 12700.0",
          "Node ID: 19<br>Pullback set label: 18<br>Partial cluster label: 0<br>Node size: 986<br>Summary statistic: 13000.0",
          "Node ID: 20<br>Pullback set label: 46<br>Partial cluster label: 0<br>Node size: 45<br>Summary statistic: 13200.0",
          "Node ID: 21<br>Pullback set label: 24<br>Partial cluster label: 0<br>Node size: 1911<br>Summary statistic: 12900.0",
          "Node ID: 22<br>Pullback set label: 8<br>Partial cluster label: 0<br>Node size: 781<br>Summary statistic: 13200.0",
          "Node ID: 23<br>Pullback set label: 9<br>Partial cluster label: 0<br>Node size: 1123<br>Summary statistic: 12900.0",
          "Node ID: 24<br>Pullback set label: 15<br>Partial cluster label: 0<br>Node size: 1463<br>Summary statistic: 13500.0",
          "Node ID: 25<br>Pullback set label: 16<br>Partial cluster label: 0<br>Node size: 1718<br>Summary statistic: 13000.0",
          "Node ID: 26<br>Pullback set label: 25<br>Partial cluster label: 0<br>Node size: 1808<br>Summary statistic: 12600.0",
          "Node ID: 27<br>Pullback set label: 53<br>Partial cluster label: 0<br>Node size: 1375<br>Summary statistic: 12400.0",
          "Node ID: 28<br>Pullback set label: 63<br>Partial cluster label: 0<br>Node size: 945<br>Summary statistic: 12600.0",
          "Node ID: 29<br>Pullback set label: 39<br>Partial cluster label: 0<br>Node size: 317<br>Summary statistic: 12400.0",
          "Node ID: 30<br>Pullback set label: 40<br>Partial cluster label: 0<br>Node size: 1213<br>Summary statistic: 12900.0",
          "Node ID: 31<br>Pullback set label: 49<br>Partial cluster label: 0<br>Node size: 214<br>Summary statistic: 13400.0",
          "Node ID: 32<br>Pullback set label: 50<br>Partial cluster label: 0<br>Node size: 634<br>Summary statistic: 13400.0",
          "Node ID: 33<br>Pullback set label: 2<br>Partial cluster label: 0<br>Node size: 30<br>Summary statistic: 13000.0",
          "Node ID: 34<br>Pullback set label: 3<br>Partial cluster label: 0<br>Node size: 30<br>Summary statistic: 13000.0",
          "Node ID: 35<br>Pullback set label: 48<br>Partial cluster label: 0<br>Node size: 102<br>Summary statistic: 13000.0",
          "Node ID: 36<br>Pullback set label: 58<br>Partial cluster label: 0<br>Node size: 31<br>Summary statistic: 11500.0",
          "Node ID: 37<br>Pullback set label: 10<br>Partial cluster label: 0<br>Node size: 821<br>Summary statistic: 13000.0",
          "Node ID: 38<br>Pullback set label: 11<br>Partial cluster label: 0<br>Node size: 351<br>Summary statistic: 12600.0",
          "Node ID: 39<br>Pullback set label: 29<br>Partial cluster label: 0<br>Node size: 320<br>Summary statistic: 12900.0",
          "Node ID: 40<br>Pullback set label: 52<br>Partial cluster label: 0<br>Node size: 1431<br>Summary statistic: 13000.0",
          "Node ID: 41<br>Pullback set label: 41<br>Partial cluster label: 0<br>Node size: 1525<br>Summary statistic: 12400.0",
          "Node ID: 42<br>Pullback set label: 62<br>Partial cluster label: 0<br>Node size: 1104<br>Summary statistic: 12800.0",
          "Node ID: 43<br>Pullback set label: 19<br>Partial cluster label: 0<br>Node size: 392<br>Summary statistic: 13000.0",
          "Node ID: 44<br>Pullback set label: 20<br>Partial cluster label: -1<br>Node size: 9<br>Summary statistic: 13900.0",
          "Node ID: 45<br>Pullback set label: 51<br>Partial cluster label: 0<br>Node size: 1121<br>Summary statistic: 12700.0",
          "Node ID: 46<br>Pullback set label: 38<br>Partial cluster label: 0<br>Node size: 195<br>Summary statistic: 12000.0",
          "Node ID: 47<br>Pullback set label: 55<br>Partial cluster label: 0<br>Node size: 277<br>Summary statistic: 12400.0",
          "Node ID: 48<br>Pullback set label: 72<br>Partial cluster label: 0<br>Node size: 521<br>Summary statistic: 12800.0",
          "Node ID: 49<br>Pullback set label: 73<br>Partial cluster label: 0<br>Node size: 409<br>Summary statistic: 12400.0",
          "Node ID: 50<br>Pullback set label: 14<br>Partial cluster label: 0<br>Node size: 692<br>Summary statistic: 13200.0",
          "Node ID: 51<br>Pullback set label: 22<br>Partial cluster label: 0<br>Node size: 811<br>Summary statistic: 12700.0",
          "Node ID: 52<br>Pullback set label: 23<br>Partial cluster label: 0<br>Node size: 1523<br>Summary statistic: 13000.0",
          "Node ID: 53<br>Pullback set label: 60<br>Partial cluster label: 0<br>Node size: 642<br>Summary statistic: 12800.0",
          "Node ID: 54<br>Pullback set label: 48<br>Partial cluster label: -1<br>Node size: 7<br>Summary statistic: 9960.0",
          "Node ID: 55<br>Pullback set label: 47<br>Partial cluster label: 0<br>Node size: 127<br>Summary statistic: 13000.0",
          "Node ID: 56<br>Pullback set label: 74<br>Partial cluster label: 0<br>Node size: 201<br>Summary statistic: 12600.0",
          "Node ID: 57<br>Pullback set label: 64<br>Partial cluster label: 0<br>Node size: 484<br>Summary statistic: 12200.0",
          "Node ID: 58<br>Pullback set label: 65<br>Partial cluster label: -1<br>Node size: 10<br>Summary statistic: 11100.0",
          "Node ID: 59<br>Pullback set label: 70<br>Partial cluster label: 0<br>Node size: 399<br>Summary statistic: 12800.0",
          "Node ID: 60<br>Pullback set label: 58<br>Partial cluster label: 1<br>Node size: 35<br>Summary statistic: 11600.0",
          "Node ID: 61<br>Pullback set label: 59<br>Partial cluster label: 0<br>Node size: 253<br>Summary statistic: 12800.0",
          "Node ID: 62<br>Pullback set label: 0<br>Partial cluster label: -1<br>Node size: 25<br>Summary statistic: 11100.0",
          "Node ID: 63<br>Pullback set label: 1<br>Partial cluster label: 0<br>Node size: 228<br>Summary statistic: 12200.0",
          "Node ID: 64<br>Pullback set label: 78<br>Partial cluster label: 0<br>Node size: 157<br>Summary statistic: 13600.0",
          "Node ID: 65<br>Pullback set label: 79<br>Partial cluster label: 0<br>Node size: 171<br>Summary statistic: 13100.0",
          "Node ID: 66<br>Pullback set label: 2<br>Partial cluster label: 1<br>Node size: 282<br>Summary statistic: 13100.0",
          "Node ID: 67<br>Pullback set label: 3<br>Partial cluster label: 1<br>Node size: 182<br>Summary statistic: 13100.0",
          "Node ID: 68<br>Pullback set label: 69<br>Partial cluster label: 0<br>Node size: 71<br>Summary statistic: 12700.0",
          "Node ID: 69<br>Pullback set label: 21<br>Partial cluster label: 0<br>Node size: 149<br>Summary statistic: 12800.0",
          "Node ID: 70<br>Pullback set label: 80<br>Partial cluster label: 0<br>Node size: 50<br>Summary statistic: 13000.0",
          "Node ID: 71<br>Pullback set label: 12<br>Partial cluster label: 0<br>Node size: 46<br>Summary statistic: 12700.0",
          "Node ID: 72<br>Pullback set label: 4<br>Partial cluster label: 0<br>Node size: 107<br>Summary statistic: 12400.0",
          "Node ID: 73<br>Pullback set label: 65<br>Partial cluster label: 0<br>Node size: 95<br>Summary statistic: 13600.0",
          "Node ID: 74<br>Pullback set label: 75<br>Partial cluster label: -1<br>Node size: 1<br>Summary statistic: 279.0",
          "Node ID: 75<br>Pullback set label: 75<br>Partial cluster label: 0<br>Node size: 52<br>Summary statistic: 12300.0",
          "Node ID: 76<br>Pullback set label: 5<br>Partial cluster label: 0<br>Node size: 59<br>Summary statistic: 12600.0",
          "Node ID: 77<br>Pullback set label: 6<br>Partial cluster label: 0<br>Node size: 40<br>Summary statistic: 12600.0",
          "Node ID: 78<br>Pullback set label: 46<br>Partial cluster label: 1<br>Node size: 38<br>Summary statistic: 13500.0",
          "Node ID: 79<br>Pullback set label: 28<br>Partial cluster label: 0<br>Node size: 31<br>Summary statistic: 10900.0",
          "Node ID: 80<br>Pullback set label: 36<br>Partial cluster label: 0<br>Node size: 91<br>Summary statistic: 11600.0",
          "Node ID: 81<br>Pullback set label: 7<br>Partial cluster label: 0<br>Node size: 238<br>Summary statistic: 14300.0",
          "Node ID: 82<br>Pullback set label: 57<br>Partial cluster label: 0<br>Node size: 80<br>Summary statistic: 13600.0",
          "Node ID: 83<br>Pullback set label: 67<br>Partial cluster label: -1<br>Node size: 4<br>Summary statistic: 12500.0",
          "Node ID: 84<br>Pullback set label: 49<br>Partial cluster label: -1<br>Node size: 3<br>Summary statistic: 11600.0",
          "Node ID: 85<br>Pullback set label: 56<br>Partial cluster label: 0<br>Node size: 51<br>Summary statistic: 12700.0",
          "Node ID: 86<br>Pullback set label: 57<br>Partial cluster label: 1<br>Node size: 51<br>Summary statistic: 12800.0",
          "Node ID: 87<br>Pullback set label: 77<br>Partial cluster label: -1<br>Node size: 16<br>Summary statistic: 9990.0",
          "Node ID: 88<br>Pullback set label: 78<br>Partial cluster label: -1<br>Node size: 11<br>Summary statistic: 11400.0",
          "Node ID: 89<br>Pullback set label: 66<br>Partial cluster label: 0<br>Node size: 46<br>Summary statistic: 13200.0",
          "Node ID: 90<br>Pullback set label: 67<br>Partial cluster label: 0<br>Node size: 47<br>Summary statistic: 13300.0",
          "Node ID: 91<br>Pullback set label: 11<br>Partial cluster label: -1<br>Node size: 2<br>Summary statistic: 4610.0",
          "Node ID: 92<br>Pullback set label: 69<br>Partial cluster label: -1<br>Node size: 1<br>Summary statistic: 3420.0",
          "Node ID: 93<br>Pullback set label: 3<br>Partial cluster label: -1<br>Node size: 5<br>Summary statistic: 10000.0",
          "Node ID: 94<br>Pullback set label: 13<br>Partial cluster label: -1<br>Node size: 8<br>Summary statistic: 15000.0",
          "Node ID: 95<br>Pullback set label: 37<br>Partial cluster label: -1<br>Node size: 2<br>Summary statistic: 11000.0",
          "Node ID: 96<br>Pullback set label: 39<br>Partial cluster label: -1<br>Node size: 1<br>Summary statistic: 6930.0",
          "Node ID: 97<br>Pullback set label: 1<br>Partial cluster label: -1<br>Node size: 1<br>Summary statistic: 8650.0",
          "Node ID: 98<br>Pullback set label: 7<br>Partial cluster label: -1<br>Node size: 1<br>Summary statistic: 13400.0",
          "Node ID: 99<br>Pullback set label: 4<br>Partial cluster label: -1<br>Node size: 4<br>Summary statistic: 17800.0",
          "Node ID: 100<br>Pullback set label: 28<br>Partial cluster label: -1<br>Node size: 2<br>Summary statistic: 20200.0",
          "Node ID: 101<br>Pullback set label: 12<br>Partial cluster label: -1<br>Node size: 1<br>Summary statistic: 15300.0",
          "Node ID: 102<br>Pullback set label: 36<br>Partial cluster label: -1<br>Node size: 1<br>Summary statistic: 15500.0",
          "Node ID: 103<br>Pullback set label: 59<br>Partial cluster label: -1<br>Node size: 1<br>Summary statistic: 21600.0"
         ],
         "marker": {
          "color": [
           12728.828919112384,
           11903.702849389416,
           12294.19736087206,
           12231.494033412888,
           12728.1931309109,
           13179.614953271028,
           13146.94534883721,
           13422.863453815262,
           13091.314725697786,
           12858.574146981628,
           13042.551978537895,
           12952.211565585332,
           12738.420131291028,
           12454.563636363637,
           12348.47263681592,
           12336.615789473684,
           12632.012834224599,
           13063.60971786834,
           12662.109707446809,
           13038.866125760649,
           13240.888888888889,
           12892.106750392464,
           13181.513444302176,
           12925.514692787177,
           13519.394395078605,
           12984.591385331782,
           12627.787610619469,
           12365.265454545455,
           12629.319576719578,
           12378.119873817035,
           12942.588623248144,
           13385.289719626167,
           13384.649842271294,
           13042.533333333333,
           13042.533333333333,
           13037.058823529413,
           11487.741935483871,
           13011.411693057247,
           12613.20227920228,
           12917.278125,
           13026.850454227813,
           12388.711475409837,
           12823.63134057971,
           12996.834183673469,
           13926.111111111111,
           12691.132917038358,
           12046.502564102564,
           12369.646209386281,
           12804.236084452976,
           12377.694376528118,
           13185.307803468208,
           12708.36251541307,
           12975.76231122784,
           12777.211838006231,
           9959.57142857143,
           12982.653543307086,
           12620.73631840796,
           12181.613636363636,
           11054.7,
           12763.817042606517,
           11554.657142857142,
           12756.142292490118,
           11096.96,
           12204.899122807017,
           13562.184713375796,
           13139.526315789473,
           13138.921985815603,
           13117.054945054944,
           12700.577464788732,
           12759.838926174496,
           13047.96,
           12659.152173913044,
           12424.214953271028,
           13595.652631578947,
           279,
           12340.807692307691,
           12638.93220338983,
           12594.85,
           13467.052631578947,
           10938.354838709678,
           11570.846153846154,
           14266.197478991597,
           13579.2125,
           12520,
           11563.666666666666,
           12722.35294117647,
           12811.35294117647,
           9993.25,
           11362.272727272728,
           13193.91304347826,
           13268.936170212766,
           4611.5,
           3423,
           10002.6,
           14952.375,
           11027.5,
           6933,
           8653,
           13382,
           17804.75,
           20178,
           15257,
           15494,
           21602
          ],
          "colorbar": {
           "thickness": 15,
           "title": {
            "side": "right",
            "text": ""
           },
           "xanchor": "left"
          },
          "colorscale": [
           [
            0,
            "#440154"
           ],
           [
            0.1111111111111111,
            "#482878"
           ],
           [
            0.2222222222222222,
            "#3e4989"
           ],
           [
            0.3333333333333333,
            "#31688e"
           ],
           [
            0.4444444444444444,
            "#26828e"
           ],
           [
            0.5555555555555556,
            "#1f9e89"
           ],
           [
            0.6666666666666666,
            "#35b779"
           ],
           [
            0.7777777777777778,
            "#6ece58"
           ],
           [
            0.8888888888888888,
            "#b5de2b"
           ],
           [
            1,
            "#fde725"
           ]
          ],
          "line": {
           "color": "#888",
           "width": 1
          },
          "opacity": 1,
          "reversescale": false,
          "showscale": true,
          "size": [
           1397,
           737,
           1743,
           419,
           2009,
           1605,
           860,
           747,
           1039,
           1524,
           1491,
           709,
           1828,
           1595,
           201,
           190,
           935,
           638,
           1504,
           986,
           45,
           1911,
           781,
           1123,
           1463,
           1718,
           1808,
           1375,
           945,
           317,
           1213,
           214,
           634,
           30,
           30,
           102,
           31,
           821,
           351,
           320,
           1431,
           1525,
           1104,
           392,
           9,
           1121,
           195,
           277,
           521,
           409,
           692,
           811,
           1523,
           642,
           7,
           127,
           201,
           484,
           10,
           399,
           35,
           253,
           25,
           228,
           157,
           171,
           282,
           182,
           71,
           149,
           50,
           46,
           107,
           95,
           1,
           52,
           59,
           40,
           38,
           31,
           91,
           238,
           80,
           4,
           3,
           51,
           51,
           16,
           11,
           46,
           47,
           2,
           1,
           5,
           8,
           2,
           1,
           1,
           1,
           4,
           2,
           1,
           1,
           1
          ],
          "sizemin": 4,
          "sizemode": "area",
          "sizeref": 27.90277777777778
         },
         "mode": "markers",
         "name": "node_trace",
         "type": "scatter3d",
         "uid": "86c43aa2-64e1-442c-aee6-286029e3c8eb",
         "x": [
          0.8200925245409361,
          1.443494686186942,
          1.2597264905937906,
          -7.2972674602742345,
          0.639440259947271,
          0.1656888514280187,
          -0.1519432421302937,
          0.27597079869617136,
          2.6740600069024776,
          1.8800341114822983,
          -0.19560121476746706,
          -0.4858459158610782,
          1.317039872606441,
          1.595341317514656,
          -3.5396954583166145,
          -3.848311591336926,
          2.8424141951723527,
          2.821952003204785,
          0.2854579422247497,
          -0.20425267145414222,
          -0.8343955638291416,
          0.952277953945002,
          0.2334015105991481,
          0.3538685362336502,
          0.9394841305318993,
          0.6634994486609387,
          0.30358668982988557,
          1.7845128290619245,
          2.4598743340695433,
          3.4059766968419765,
          2.647633552790906,
          3.1030545612304947,
          2.9636414888724576,
          -7.416180226014693,
          -7.669293819790458,
          -6.844528231323432,
          -6.442362001449368,
          0.2730752539683744,
          -0.3399327446117858,
          2.8069664430611088,
          2.257829792680507,
          2.2982288856621125,
          2.42761791764219,
          -0.8591563741724864,
          -1.7270790324598826,
          2.320460000608564,
          -2.6076115338763666,
          1.1553453030154048,
          3.0834430041630765,
          3.0158773186390304,
          1.3051805726662287,
          2.04209510383233,
          1.6224924008465587,
          2.7693730976890927,
          -1.7004861211486024,
          -7.193628056586211,
          3.0369580943927144,
          2.1722481914118497,
          1.1570434015980084,
          2.7491664530579976,
          3.350809582480994,
          2.9869157513147107,
          -0.3327499681249244,
          -0.13001269294247753,
          2.946392535614932,
          3.4859989864174983,
          -0.26925196977483323,
          0.011622413908475064,
          2.468172182472389,
          3.170791322860873,
          4.000995581789825,
          -1.317201224463819,
          -0.29150840597917216,
          2.130262650906762,
          3.1116030241557593,
          2.4506543808550094,
          1.9589044709858765,
          2.842627068157584,
          -7.292394993100797,
          -0.17818528172189949,
          -0.4542622863497092,
          0.22853823330543308,
          3.830458784527634,
          4.532280778355345,
          -7.286446797115391,
          -1.1061836057004104,
          -1.5983938352222418,
          2.2808412104119618,
          3.138787472870743,
          -0.959318672897428,
          -0.49943885731857457,
          0.7816020553930091,
          -4.232439320220037,
          -0.7557141998831015,
          1.9923282640793063,
          -7.122777722646358,
          -2.8468288398951787,
          -0.7655739840807099,
          0.29643953636310133,
          0.4454518218248992,
          -1.1754987325412776,
          0.9047842654082866,
          -6.574764102541787,
          -6.802186020074127
         ],
         "y": [
          -1.1197849726861895,
          -1.733040718870402,
          -1.039279215643158,
          -2.651363451881566,
          -0.42036556663095925,
          -0.46856811741285137,
          -0.5328427982588757,
          -1.282122315853289,
          0.14902683283379614,
          -0.10330188671878077,
          0.35314505882113584,
          0.3307337011625351,
          -0.22821737617824553,
          -1.103420025570472,
          6.210115937459002,
          5.536943817204173,
          -2.6847233781774764,
          -3.6647885790497314,
          1.4312152899014439,
          1.3098854870195393,
          -1.470826890338125,
          0.6145942585587248,
          2.1769743545072475,
          2.3314601214817854,
          1.4479213743865202,
          1.5505449288175885,
          0.48450817632354787,
          -1.773755651315387,
          -2.2998274854115714,
          -0.7529976638120419,
          -0.9267450711116736,
          -1.8570774092471154,
          -1.8401231997091203,
          1.9077942728818393,
          1.4333467094104624,
          1.5234364776159022,
          0.5207715618618354,
          2.4057222529009885,
          2.2442559843712884,
          0.03742052817428074,
          -1.7104950905043332,
          -0.9396969283309051,
          -2.648128599284635,
          1.1828227344192874,
          0.4865307029205142,
          -1.9184285269239105,
          -5.73734930587992,
          -1.6763535522125104,
          -3.2515791650176658,
          -2.96235184841473,
          1.5235936582370224,
          0.8487351821284569,
          0.8636674197156634,
          -2.8719068887701478,
          -5.649723181278211,
          -3.794067008004922,
          -2.355901036595201,
          -2.242345710845265,
          -2.6886271318862924,
          -3.7656827097301258,
          -3.257292977228635,
          -2.8752970963292195,
          2.6428577528407957,
          3.1090448589510014,
          -4.462017465472277,
          -3.9309636692776317,
          2.9646295856506226,
          3.156941397997813,
          -3.69725561861342,
          0.9853862968006157,
          -3.4334634408992892,
          1.896813794943514,
          3.344699267429636,
          -1.7215858029220372,
          -1.8152312142067968,
          -2.6554662287113038,
          8.623295376199966,
          8.528898581013717,
          -4.29482412447711,
          0.18493243567169323,
          -0.5773694690822572,
          1.6845860927200218,
          1.2611366235389938,
          1.7409357513026993,
          0.6764988953703192,
          1.9703462154969325,
          2.5083908200760288,
          -4.694080850762423,
          -4.657221836465988,
          3.180923192129914,
          2.5492819754318434,
          3.552071425307221,
          6.428817215448159,
          4.353551300673226,
          2.2679335311244486,
          -4.623736072757383,
          -6.321552308248266,
          2.0650582058518205,
          3.124682121735666,
          3.0730400029351306,
          0.8772302223944358,
          8.817468864037258,
          -4.700847749032552,
          0.9099459221205767
         ],
         "z": [
          -0.5422256668102416,
          -0.9797395372302636,
          0.15441819144759755,
          3.433457631193863,
          0.5848992409525147,
          -0.12313960084230667,
          -0.9131919890836839,
          -1.1702593971178619,
          2.0957050276060896,
          1.7514130869670397,
          0.024286338071931687,
          -0.912327681565157,
          1.1278950874969982,
          0.955904992914002,
          -4.942777247512762,
          -5.5562302911359875,
          1.1125118901648932,
          0.8773925518663567,
          0.590226116130908,
          -0.12931379314798536,
          -1.400351091834105,
          1.2947481114530681,
          2.4521895429427327,
          1.470210303544389,
          2.206747735445087,
          1.3901045809534682,
          0.7582642165859985,
          -0.17968760222858143,
          -0.5041178784415937,
          2.5705499682316164,
          2.26635603564146,
          2.8342828269145333,
          2.0402779127413564,
          3.6270094700993676,
          2.8859776589685397,
          -4.746577937988618,
          -4.870308368953133,
          0.4966644636588437,
          -0.1562430812117656,
          3.00816597038379,
          0.5508703944964302,
          1.5007631858038364,
          0.352160691268127,
          -0.6669474625985886,
          -0.9722041484437689,
          1.4625061269813326,
          -6.361749180420529,
          -1.6765542089552323,
          0.011372807885234829,
          -0.8165160504866114,
          2.9241642079982495,
          2.5445814333721652,
          1.8069110113888835,
          1.9663821856226797,
          -6.84084161613377,
          -2.0871681248563982,
          -1.636149325019705,
          -1.3761810798368523,
          -1.7276315128496917,
          1.8089550778592207,
          3.826909312320414,
          2.810074585931922,
          3.319470694452386,
          2.3388836363955234,
          0.06369216869061589,
          -0.25443901461146373,
          1.5587250703615902,
          0.6255416286851028,
          2.785212609851396,
          2.674919659494511,
          -0.8575824854971257,
          -0.26671844150678203,
          -0.0996004194389819,
          -2.100611307129186,
          -2.3582264712912338,
          -2.4620664471852134,
          -1.5806769260050253,
          -1.1497550386006254,
          -1.2293274238278844,
          -2.044223366346642,
          -1.7457148219541878,
          3.273161454466763,
          -8.239854978829035,
          -7.884051300104021,
          -4.574240766478033,
          -8.632720635828951,
          -8.330127541510638,
          1.3227798158937345,
          1.313591165797134,
          -8.305762972751987,
          -8.534384673810116,
          0.20245935523764708,
          -4.1218922175167245,
          -0.49747620253494085,
          3.6310987471599376,
          -2.380227269753974,
          -5.450703231825038,
          3.376635540259086,
          3.19444508602806,
          -0.4534647000653542,
          -1.6442129706900948,
          -1.3762902776654335,
          -1.7672481554747748,
          -5.485392560430042
         ]
        }
       ],
       "layout": {
        "autosize": false,
        "hovermode": "closest",
        "margin": {
         "b": 20,
         "l": 5,
         "r": 5,
         "t": 40
        },
        "scene": {
         "xaxis": {
          "showbackground": false,
          "showgrid": false,
          "showline": false,
          "showticklabels": false,
          "title": {
           "text": ""
          },
          "zeroline": false
         },
         "yaxis": {
          "showbackground": false,
          "showgrid": false,
          "showline": false,
          "showticklabels": false,
          "title": {
           "text": ""
          },
          "zeroline": false
         },
         "zaxis": {
          "showbackground": false,
          "showgrid": false,
          "showline": false,
          "showticklabels": false,
          "title": {
           "text": ""
          },
          "zeroline": false
         }
        },
        "showlegend": false,
        "template": {
         "data": {
          "bar": [
           {
            "error_x": {
             "color": "#2a3f5f"
            },
            "error_y": {
             "color": "#2a3f5f"
            },
            "marker": {
             "line": {
              "color": "#E5ECF6",
              "width": 0.5
             },
             "pattern": {
              "fillmode": "overlay",
              "size": 10,
              "solidity": 0.2
             }
            },
            "type": "bar"
           }
          ],
          "barpolar": [
           {
            "marker": {
             "line": {
              "color": "#E5ECF6",
              "width": 0.5
             },
             "pattern": {
              "fillmode": "overlay",
              "size": 10,
              "solidity": 0.2
             }
            },
            "type": "barpolar"
           }
          ],
          "carpet": [
           {
            "aaxis": {
             "endlinecolor": "#2a3f5f",
             "gridcolor": "white",
             "linecolor": "white",
             "minorgridcolor": "white",
             "startlinecolor": "#2a3f5f"
            },
            "baxis": {
             "endlinecolor": "#2a3f5f",
             "gridcolor": "white",
             "linecolor": "white",
             "minorgridcolor": "white",
             "startlinecolor": "#2a3f5f"
            },
            "type": "carpet"
           }
          ],
          "choropleth": [
           {
            "colorbar": {
             "outlinewidth": 0,
             "ticks": ""
            },
            "type": "choropleth"
           }
          ],
          "contour": [
           {
            "colorbar": {
             "outlinewidth": 0,
             "ticks": ""
            },
            "colorscale": [
             [
              0,
              "#0d0887"
             ],
             [
              0.1111111111111111,
              "#46039f"
             ],
             [
              0.2222222222222222,
              "#7201a8"
             ],
             [
              0.3333333333333333,
              "#9c179e"
             ],
             [
              0.4444444444444444,
              "#bd3786"
             ],
             [
              0.5555555555555556,
              "#d8576b"
             ],
             [
              0.6666666666666666,
              "#ed7953"
             ],
             [
              0.7777777777777778,
              "#fb9f3a"
             ],
             [
              0.8888888888888888,
              "#fdca26"
             ],
             [
              1,
              "#f0f921"
             ]
            ],
            "type": "contour"
           }
          ],
          "contourcarpet": [
           {
            "colorbar": {
             "outlinewidth": 0,
             "ticks": ""
            },
            "type": "contourcarpet"
           }
          ],
          "heatmap": [
           {
            "colorbar": {
             "outlinewidth": 0,
             "ticks": ""
            },
            "colorscale": [
             [
              0,
              "#0d0887"
             ],
             [
              0.1111111111111111,
              "#46039f"
             ],
             [
              0.2222222222222222,
              "#7201a8"
             ],
             [
              0.3333333333333333,
              "#9c179e"
             ],
             [
              0.4444444444444444,
              "#bd3786"
             ],
             [
              0.5555555555555556,
              "#d8576b"
             ],
             [
              0.6666666666666666,
              "#ed7953"
             ],
             [
              0.7777777777777778,
              "#fb9f3a"
             ],
             [
              0.8888888888888888,
              "#fdca26"
             ],
             [
              1,
              "#f0f921"
             ]
            ],
            "type": "heatmap"
           }
          ],
          "heatmapgl": [
           {
            "colorbar": {
             "outlinewidth": 0,
             "ticks": ""
            },
            "colorscale": [
             [
              0,
              "#0d0887"
             ],
             [
              0.1111111111111111,
              "#46039f"
             ],
             [
              0.2222222222222222,
              "#7201a8"
             ],
             [
              0.3333333333333333,
              "#9c179e"
             ],
             [
              0.4444444444444444,
              "#bd3786"
             ],
             [
              0.5555555555555556,
              "#d8576b"
             ],
             [
              0.6666666666666666,
              "#ed7953"
             ],
             [
              0.7777777777777778,
              "#fb9f3a"
             ],
             [
              0.8888888888888888,
              "#fdca26"
             ],
             [
              1,
              "#f0f921"
             ]
            ],
            "type": "heatmapgl"
           }
          ],
          "histogram": [
           {
            "marker": {
             "pattern": {
              "fillmode": "overlay",
              "size": 10,
              "solidity": 0.2
             }
            },
            "type": "histogram"
           }
          ],
          "histogram2d": [
           {
            "colorbar": {
             "outlinewidth": 0,
             "ticks": ""
            },
            "colorscale": [
             [
              0,
              "#0d0887"
             ],
             [
              0.1111111111111111,
              "#46039f"
             ],
             [
              0.2222222222222222,
              "#7201a8"
             ],
             [
              0.3333333333333333,
              "#9c179e"
             ],
             [
              0.4444444444444444,
              "#bd3786"
             ],
             [
              0.5555555555555556,
              "#d8576b"
             ],
             [
              0.6666666666666666,
              "#ed7953"
             ],
             [
              0.7777777777777778,
              "#fb9f3a"
             ],
             [
              0.8888888888888888,
              "#fdca26"
             ],
             [
              1,
              "#f0f921"
             ]
            ],
            "type": "histogram2d"
           }
          ],
          "histogram2dcontour": [
           {
            "colorbar": {
             "outlinewidth": 0,
             "ticks": ""
            },
            "colorscale": [
             [
              0,
              "#0d0887"
             ],
             [
              0.1111111111111111,
              "#46039f"
             ],
             [
              0.2222222222222222,
              "#7201a8"
             ],
             [
              0.3333333333333333,
              "#9c179e"
             ],
             [
              0.4444444444444444,
              "#bd3786"
             ],
             [
              0.5555555555555556,
              "#d8576b"
             ],
             [
              0.6666666666666666,
              "#ed7953"
             ],
             [
              0.7777777777777778,
              "#fb9f3a"
             ],
             [
              0.8888888888888888,
              "#fdca26"
             ],
             [
              1,
              "#f0f921"
             ]
            ],
            "type": "histogram2dcontour"
           }
          ],
          "mesh3d": [
           {
            "colorbar": {
             "outlinewidth": 0,
             "ticks": ""
            },
            "type": "mesh3d"
           }
          ],
          "parcoords": [
           {
            "line": {
             "colorbar": {
              "outlinewidth": 0,
              "ticks": ""
             }
            },
            "type": "parcoords"
           }
          ],
          "pie": [
           {
            "automargin": true,
            "type": "pie"
           }
          ],
          "scatter": [
           {
            "marker": {
             "colorbar": {
              "outlinewidth": 0,
              "ticks": ""
             }
            },
            "type": "scatter"
           }
          ],
          "scatter3d": [
           {
            "line": {
             "colorbar": {
              "outlinewidth": 0,
              "ticks": ""
             }
            },
            "marker": {
             "colorbar": {
              "outlinewidth": 0,
              "ticks": ""
             }
            },
            "type": "scatter3d"
           }
          ],
          "scattercarpet": [
           {
            "marker": {
             "colorbar": {
              "outlinewidth": 0,
              "ticks": ""
             }
            },
            "type": "scattercarpet"
           }
          ],
          "scattergeo": [
           {
            "marker": {
             "colorbar": {
              "outlinewidth": 0,
              "ticks": ""
             }
            },
            "type": "scattergeo"
           }
          ],
          "scattergl": [
           {
            "marker": {
             "colorbar": {
              "outlinewidth": 0,
              "ticks": ""
             }
            },
            "type": "scattergl"
           }
          ],
          "scattermapbox": [
           {
            "marker": {
             "colorbar": {
              "outlinewidth": 0,
              "ticks": ""
             }
            },
            "type": "scattermapbox"
           }
          ],
          "scatterpolar": [
           {
            "marker": {
             "colorbar": {
              "outlinewidth": 0,
              "ticks": ""
             }
            },
            "type": "scatterpolar"
           }
          ],
          "scatterpolargl": [
           {
            "marker": {
             "colorbar": {
              "outlinewidth": 0,
              "ticks": ""
             }
            },
            "type": "scatterpolargl"
           }
          ],
          "scatterternary": [
           {
            "marker": {
             "colorbar": {
              "outlinewidth": 0,
              "ticks": ""
             }
            },
            "type": "scatterternary"
           }
          ],
          "surface": [
           {
            "colorbar": {
             "outlinewidth": 0,
             "ticks": ""
            },
            "colorscale": [
             [
              0,
              "#0d0887"
             ],
             [
              0.1111111111111111,
              "#46039f"
             ],
             [
              0.2222222222222222,
              "#7201a8"
             ],
             [
              0.3333333333333333,
              "#9c179e"
             ],
             [
              0.4444444444444444,
              "#bd3786"
             ],
             [
              0.5555555555555556,
              "#d8576b"
             ],
             [
              0.6666666666666666,
              "#ed7953"
             ],
             [
              0.7777777777777778,
              "#fb9f3a"
             ],
             [
              0.8888888888888888,
              "#fdca26"
             ],
             [
              1,
              "#f0f921"
             ]
            ],
            "type": "surface"
           }
          ],
          "table": [
           {
            "cells": {
             "fill": {
              "color": "#EBF0F8"
             },
             "line": {
              "color": "white"
             }
            },
            "header": {
             "fill": {
              "color": "#C8D4E3"
             },
             "line": {
              "color": "white"
             }
            },
            "type": "table"
           }
          ]
         },
         "layout": {
          "annotationdefaults": {
           "arrowcolor": "#2a3f5f",
           "arrowhead": 0,
           "arrowwidth": 1
          },
          "autotypenumbers": "strict",
          "coloraxis": {
           "colorbar": {
            "outlinewidth": 0,
            "ticks": ""
           }
          },
          "colorscale": {
           "diverging": [
            [
             0,
             "#8e0152"
            ],
            [
             0.1,
             "#c51b7d"
            ],
            [
             0.2,
             "#de77ae"
            ],
            [
             0.3,
             "#f1b6da"
            ],
            [
             0.4,
             "#fde0ef"
            ],
            [
             0.5,
             "#f7f7f7"
            ],
            [
             0.6,
             "#e6f5d0"
            ],
            [
             0.7,
             "#b8e186"
            ],
            [
             0.8,
             "#7fbc41"
            ],
            [
             0.9,
             "#4d9221"
            ],
            [
             1,
             "#276419"
            ]
           ],
           "sequential": [
            [
             0,
             "#0d0887"
            ],
            [
             0.1111111111111111,
             "#46039f"
            ],
            [
             0.2222222222222222,
             "#7201a8"
            ],
            [
             0.3333333333333333,
             "#9c179e"
            ],
            [
             0.4444444444444444,
             "#bd3786"
            ],
            [
             0.5555555555555556,
             "#d8576b"
            ],
            [
             0.6666666666666666,
             "#ed7953"
            ],
            [
             0.7777777777777778,
             "#fb9f3a"
            ],
            [
             0.8888888888888888,
             "#fdca26"
            ],
            [
             1,
             "#f0f921"
            ]
           ],
           "sequentialminus": [
            [
             0,
             "#0d0887"
            ],
            [
             0.1111111111111111,
             "#46039f"
            ],
            [
             0.2222222222222222,
             "#7201a8"
            ],
            [
             0.3333333333333333,
             "#9c179e"
            ],
            [
             0.4444444444444444,
             "#bd3786"
            ],
            [
             0.5555555555555556,
             "#d8576b"
            ],
            [
             0.6666666666666666,
             "#ed7953"
            ],
            [
             0.7777777777777778,
             "#fb9f3a"
            ],
            [
             0.8888888888888888,
             "#fdca26"
            ],
            [
             1,
             "#f0f921"
            ]
           ]
          },
          "colorway": [
           "#636efa",
           "#EF553B",
           "#00cc96",
           "#ab63fa",
           "#FFA15A",
           "#19d3f3",
           "#FF6692",
           "#B6E880",
           "#FF97FF",
           "#FECB52"
          ],
          "font": {
           "color": "#2a3f5f"
          },
          "geo": {
           "bgcolor": "white",
           "lakecolor": "white",
           "landcolor": "#E5ECF6",
           "showlakes": true,
           "showland": true,
           "subunitcolor": "white"
          },
          "hoverlabel": {
           "align": "left"
          },
          "hovermode": "closest",
          "mapbox": {
           "style": "light"
          },
          "paper_bgcolor": "white",
          "plot_bgcolor": "#E5ECF6",
          "polar": {
           "angularaxis": {
            "gridcolor": "white",
            "linecolor": "white",
            "ticks": ""
           },
           "bgcolor": "#E5ECF6",
           "radialaxis": {
            "gridcolor": "white",
            "linecolor": "white",
            "ticks": ""
           }
          },
          "scene": {
           "xaxis": {
            "backgroundcolor": "#E5ECF6",
            "gridcolor": "white",
            "gridwidth": 2,
            "linecolor": "white",
            "showbackground": true,
            "ticks": "",
            "zerolinecolor": "white"
           },
           "yaxis": {
            "backgroundcolor": "#E5ECF6",
            "gridcolor": "white",
            "gridwidth": 2,
            "linecolor": "white",
            "showbackground": true,
            "ticks": "",
            "zerolinecolor": "white"
           },
           "zaxis": {
            "backgroundcolor": "#E5ECF6",
            "gridcolor": "white",
            "gridwidth": 2,
            "linecolor": "white",
            "showbackground": true,
            "ticks": "",
            "zerolinecolor": "white"
           }
          },
          "shapedefaults": {
           "line": {
            "color": "#2a3f5f"
           }
          },
          "ternary": {
           "aaxis": {
            "gridcolor": "white",
            "linecolor": "white",
            "ticks": ""
           },
           "baxis": {
            "gridcolor": "white",
            "linecolor": "white",
            "ticks": ""
           },
           "bgcolor": "#E5ECF6",
           "caxis": {
            "gridcolor": "white",
            "linecolor": "white",
            "ticks": ""
           }
          },
          "title": {
           "x": 0.05
          },
          "xaxis": {
           "automargin": true,
           "gridcolor": "white",
           "linecolor": "white",
           "ticks": "",
           "title": {
            "standoff": 15
           },
           "zerolinecolor": "white",
           "zerolinewidth": 2
          },
          "yaxis": {
           "automargin": true,
           "gridcolor": "white",
           "linecolor": "white",
           "ticks": "",
           "title": {
            "standoff": 15
           },
           "zerolinecolor": "white",
           "zerolinewidth": 2
          }
         }
        },
        "title": {
         "text": ""
        }
       }
      },
      "text/html": [
       "<div>                            <div id=\"8e835d60-741e-46ea-b9fb-2c178c84f269\" class=\"plotly-graph-div\" style=\"height:525px; width:100%;\"></div>            <script type=\"text/javascript\">                require([\"plotly\"], function(Plotly) {                    window.PLOTLYENV=window.PLOTLYENV || {};                                    if (document.getElementById(\"8e835d60-741e-46ea-b9fb-2c178c84f269\")) {                    Plotly.newPlot(                        \"8e835d60-741e-46ea-b9fb-2c178c84f269\",                        [{\"hoverinfo\":\"none\",\"line\":{\"color\":\"#888\",\"width\":1},\"mode\":\"lines\",\"name\":\"edge_trace\",\"x\":[0.8200925245409361,1.443494686186942,null,0.8200925245409361,1.2597264905937906,null,0.8200925245409361,0.639440259947271,null,0.8200925245409361,0.1656888514280187,null,0.8200925245409361,-0.1519432421302937,null,0.8200925245409361,0.27597079869617136,null,0.8200925245409361,1.7845128290619245,null,0.8200925245409361,1.1553453030154048,null,1.443494686186942,1.2597264905937906,null,1.443494686186942,0.27597079869617136,null,1.443494686186942,1.7845128290619245,null,1.443494686186942,2.4598743340695433,null,1.443494686186942,1.1553453030154048,null,1.443494686186942,2.1722481914118497,null,1.443494686186942,1.1570434015980084,null,1.443494686186942,2.130262650906762,null,1.2597264905937906,0.639440259947271,null,1.2597264905937906,0.1656888514280187,null,1.2597264905937906,1.317039872606441,null,1.2597264905937906,1.595341317514656,null,1.2597264905937906,1.7845128290619245,null,1.2597264905937906,2.257829792680507,null,0.639440259947271,0.1656888514280187,null,0.639440259947271,-0.19560121476746706,null,0.639440259947271,1.317039872606441,null,0.639440259947271,1.595341317514656,null,0.639440259947271,0.952277953945002,null,0.639440259947271,0.30358668982988557,null,0.1656888514280187,-0.1519432421302937,null,0.1656888514280187,0.27597079869617136,null,0.1656888514280187,-0.19560121476746706,null,0.1656888514280187,-0.4858459158610782,null,0.1656888514280187,0.30358668982988557,null,-0.1519432421302937,0.27597079869617136,null,-0.1519432421302937,-0.19560121476746706,null,-0.1519432421302937,-0.4858459158610782,null,-0.1519432421302937,-0.8343955638291416,null,-0.1519432421302937,-0.17818528172189949,null,-0.1519432421302937,-0.4542622863497092,null,0.27597079869617136,-0.8343955638291416,null,0.27597079869617136,1.1553453030154048,null,0.27597079869617136,-0.4542622863497092,null,2.6740600069024776,1.8800341114822983,null,2.6740600069024776,3.4059766968419765,null,2.6740600069024776,2.647633552790906,null,2.6740600069024776,2.8069664430611088,null,2.6740600069024776,2.2982288856621125,null,2.6740600069024776,2.04209510383233,null,2.6740600069024776,1.6224924008465587,null,2.6740600069024776,3.170791322860873,null,1.8800341114822983,1.317039872606441,null,1.8800341114822983,1.595341317514656,null,1.8800341114822983,0.952277953945002,null,1.8800341114822983,2.647633552790906,null,1.8800341114822983,2.2982288856621125,null,1.8800341114822983,2.04209510383233,null,1.8800341114822983,1.6224924008465587,null,-0.19560121476746706,-0.4858459158610782,null,-0.19560121476746706,0.2854579422247497,null,-0.19560121476746706,-0.20425267145414222,null,-0.19560121476746706,0.30358668982988557,null,-0.19560121476746706,-0.8591563741724864,null,-0.4858459158610782,-0.20425267145414222,null,-0.4858459158610782,-0.8591563741724864,null,-0.4858459158610782,-1.7270790324598826,null,-0.4858459158610782,-0.17818528172189949,null,-0.4858459158610782,-0.4542622863497092,null,-0.4858459158610782,-1.1754987325412776,null,1.317039872606441,1.595341317514656,null,1.317039872606441,0.952277953945002,null,1.317039872606441,0.30358668982988557,null,1.317039872606441,2.2982288856621125,null,1.317039872606441,1.6224924008465587,null,1.595341317514656,1.7845128290619245,null,1.595341317514656,2.257829792680507,null,1.595341317514656,2.2982288856621125,null,1.595341317514656,2.320460000608564,null,-3.5396954583166145,-3.848311591336926,null,-3.5396954583166145,-4.232439320220037,null,2.8424141951723527,2.821952003204785,null,2.8424141951723527,2.9636414888724576,null,2.8424141951723527,2.257829792680507,null,2.8424141951723527,2.42761791764219,null,2.8424141951723527,2.320460000608564,null,2.8424141951723527,3.0834430041630765,null,2.8424141951723527,2.7693730976890927,null,2.8424141951723527,2.7491664530579976,null,2.821952003204785,2.42761791764219,null,2.821952003204785,3.0834430041630765,null,2.821952003204785,2.7693730976890927,null,2.821952003204785,2.7491664530579976,null,2.821952003204785,2.946392535614932,null,2.821952003204785,3.4859989864174983,null,2.821952003204785,2.2808412104119618,null,2.821952003204785,3.138787472870743,null,0.2854579422247497,-0.20425267145414222,null,0.2854579422247497,0.952277953945002,null,0.2854579422247497,0.3538685362336502,null,0.2854579422247497,0.6634994486609387,null,0.2854579422247497,0.30358668982988557,null,0.2854579422247497,0.2730752539683744,null,0.2854579422247497,-0.3399327446117858,null,-0.20425267145414222,0.30358668982988557,null,-0.20425267145414222,0.2730752539683744,null,-0.20425267145414222,-0.3399327446117858,null,-0.20425267145414222,-0.8591563741724864,null,-0.20425267145414222,-1.317201224463819,null,-0.8343955638291416,-0.4542622863497092,null,0.952277953945002,0.9394841305318993,null,0.952277953945002,0.6634994486609387,null,0.952277953945002,0.30358668982988557,null,0.952277953945002,1.6224924008465587,null,0.2334015105991481,0.3538685362336502,null,0.2334015105991481,0.9394841305318993,null,0.2334015105991481,0.6634994486609387,null,0.2334015105991481,1.3051805726662287,null,0.2334015105991481,-0.3327499681249244,null,0.2334015105991481,-0.13001269294247753,null,0.2334015105991481,-0.26925196977483323,null,0.2334015105991481,0.22853823330543308,null,0.2334015105991481,-0.7655739840807099,null,0.2334015105991481,0.29643953636310133,null,0.3538685362336502,0.9394841305318993,null,0.3538685362336502,0.6634994486609387,null,0.3538685362336502,0.2730752539683744,null,0.3538685362336502,-0.13001269294247753,null,0.3538685362336502,-0.26925196977483323,null,0.3538685362336502,0.011622413908475064,null,0.9394841305318993,0.6634994486609387,null,0.9394841305318993,1.3051805726662287,null,0.9394841305318993,2.04209510383233,null,0.9394841305318993,1.6224924008465587,null,0.9394841305318993,0.22853823330543308,null,0.6634994486609387,0.30358668982988557,null,0.6634994486609387,0.2730752539683744,null,0.6634994486609387,1.6224924008465587,null,1.7845128290619245,2.4598743340695433,null,1.7845128290619245,2.257829792680507,null,1.7845128290619245,2.42761791764219,null,1.7845128290619245,2.1722481914118497,null,2.4598743340695433,2.257829792680507,null,2.4598743340695433,2.42761791764219,null,2.4598743340695433,3.0834430041630765,null,2.4598743340695433,3.0158773186390304,null,2.4598743340695433,3.0369580943927144,null,2.4598743340695433,2.1722481914118497,null,3.4059766968419765,2.647633552790906,null,3.4059766968419765,3.1030545612304947,null,3.4059766968419765,2.9636414888724576,null,3.4059766968419765,2.8069664430611088,null,2.647633552790906,3.1030545612304947,null,2.647633552790906,2.9636414888724576,null,2.647633552790906,2.8069664430611088,null,2.647633552790906,2.2982288856621125,null,2.647633552790906,2.320460000608564,null,3.1030545612304947,2.9636414888724576,null,3.1030545612304947,2.7693730976890927,null,3.1030545612304947,2.9869157513147107,null,2.9636414888724576,2.2982288856621125,null,2.9636414888724576,2.320460000608564,null,2.9636414888724576,2.7693730976890927,null,2.9636414888724576,2.9869157513147107,null,-7.416180226014693,-7.669293819790458,null,-6.844528231323432,-6.442362001449368,null,-6.844528231323432,-7.286446797115391,null,-6.844528231323432,-6.802186020074127,null,-6.442362001449368,-7.286446797115391,null,-6.442362001449368,-6.802186020074127,null,0.2730752539683744,-0.3399327446117858,null,0.2730752539683744,-0.26925196977483323,null,0.2730752539683744,0.011622413908475064,null,0.2730752539683744,-0.29150840597917216,null,0.2730752539683744,0.7816020553930091,null,0.2730752539683744,0.4454518218248992,null,-0.3399327446117858,-0.8591563741724864,null,-0.3399327446117858,0.011622413908475064,null,-0.3399327446117858,-1.317201224463819,null,-0.3399327446117858,-0.29150840597917216,null,-0.3399327446117858,0.4454518218248992,null,2.8069664430611088,2.04209510383233,null,2.8069664430611088,3.170791322860873,null,2.257829792680507,2.2982288856621125,null,2.257829792680507,2.42761791764219,null,2.257829792680507,2.320460000608564,null,2.2982288856621125,2.320460000608564,null,2.42761791764219,2.320460000608564,null,2.42761791764219,3.0834430041630765,null,2.42761791764219,3.0158773186390304,null,-0.8591563741724864,-1.7270790324598826,null,-0.8591563741724864,-1.317201224463819,null,-0.8591563741724864,-1.1754987325412776,null,-1.7270790324598826,-1.1754987325412776,null,2.320460000608564,2.7693730976890927,null,-2.6076115338763666,-1.7004861211486024,null,-2.6076115338763666,-2.8468288398951787,null,1.1553453030154048,2.1722481914118497,null,1.1553453030154048,1.1570434015980084,null,1.1553453030154048,2.130262650906762,null,3.0834430041630765,3.0158773186390304,null,3.0834430041630765,2.946392535614932,null,3.0834430041630765,3.4859989864174983,null,3.0834430041630765,4.000995581789825,null,3.0158773186390304,3.0369580943927144,null,3.0158773186390304,2.1722481914118497,null,3.0158773186390304,3.4859989864174983,null,3.0158773186390304,4.000995581789825,null,1.3051805726662287,2.04209510383233,null,1.3051805726662287,1.6224924008465587,null,1.3051805726662287,0.22853823330543308,null,1.3051805726662287,1.9923282640793063,null,2.04209510383233,1.6224924008465587,null,2.04209510383233,3.170791322860873,null,2.7693730976890927,2.7491664530579976,null,2.7693730976890927,2.9869157513147107,null,2.7693730976890927,2.468172182472389,null,-7.193628056586211,-7.292394993100797,null,-7.193628056586211,-7.122777722646358,null,-7.193628056586211,-6.574764102541787,null,3.0369580943927144,2.1722481914118497,null,3.0369580943927144,2.130262650906762,null,3.0369580943927144,3.1116030241557593,null,3.0369580943927144,2.4506543808550094,null,2.1722481914118497,1.1570434015980084,null,2.1722481914118497,2.130262650906762,null,2.1722481914118497,3.1116030241557593,null,2.1722481914118497,2.4506543808550094,null,2.7491664530579976,2.9869157513147107,null,2.7491664530579976,2.468172182472389,null,2.7491664530579976,2.2808412104119618,null,2.7491664530579976,3.138787472870743,null,3.350809582480994,2.9869157513147107,null,2.9869157513147107,2.468172182472389,null,-0.3327499681249244,-0.13001269294247753,null,-0.3327499681249244,0.22853823330543308,null,-0.3327499681249244,-0.7655739840807099,null,-0.3327499681249244,0.29643953636310133,null,-0.13001269294247753,-0.26925196977483323,null,-0.13001269294247753,0.29643953636310133,null,2.946392535614932,3.4859989864174983,null,3.4859989864174983,4.000995581789825,null,-0.26925196977483323,0.011622413908475064,null,0.011622413908475064,-0.29150840597917216,null,0.011622413908475064,0.7816020553930091,null,0.011622413908475064,0.4454518218248992,null,-0.29150840597917216,0.7816020553930091,null,-0.29150840597917216,-0.7557141998831015,null,2.130262650906762,3.1116030241557593,null,2.130262650906762,2.4506543808550094,null,1.9589044709858765,2.842627068157584,null,1.9589044709858765,0.9047842654082866,null,-7.292394993100797,-7.122777722646358,null,-7.292394993100797,-6.574764102541787,null,-0.17818528172189949,-0.4542622863497092,null,0.22853823330543308,-0.7655739840807099,null,3.830458784527634,4.532280778355345,null,-7.286446797115391,-6.802186020074127,null,-1.1061836057004104,-1.5983938352222418,null,-1.1061836057004104,-0.959318672897428,null,-1.1061836057004104,-0.49943885731857457,null,-1.5983938352222418,-0.959318672897428,null,-1.5983938352222418,-0.49943885731857457,null,2.2808412104119618,3.138787472870743,null,-0.959318672897428,-0.49943885731857457,null,-7.122777722646358,-6.574764102541787,null],\"y\":[-1.1197849726861895,-1.733040718870402,null,-1.1197849726861895,-1.039279215643158,null,-1.1197849726861895,-0.42036556663095925,null,-1.1197849726861895,-0.46856811741285137,null,-1.1197849726861895,-0.5328427982588757,null,-1.1197849726861895,-1.282122315853289,null,-1.1197849726861895,-1.773755651315387,null,-1.1197849726861895,-1.6763535522125104,null,-1.733040718870402,-1.039279215643158,null,-1.733040718870402,-1.282122315853289,null,-1.733040718870402,-1.773755651315387,null,-1.733040718870402,-2.2998274854115714,null,-1.733040718870402,-1.6763535522125104,null,-1.733040718870402,-2.242345710845265,null,-1.733040718870402,-2.6886271318862924,null,-1.733040718870402,-1.7215858029220372,null,-1.039279215643158,-0.42036556663095925,null,-1.039279215643158,-0.46856811741285137,null,-1.039279215643158,-0.22821737617824553,null,-1.039279215643158,-1.103420025570472,null,-1.039279215643158,-1.773755651315387,null,-1.039279215643158,-1.7104950905043332,null,-0.42036556663095925,-0.46856811741285137,null,-0.42036556663095925,0.35314505882113584,null,-0.42036556663095925,-0.22821737617824553,null,-0.42036556663095925,-1.103420025570472,null,-0.42036556663095925,0.6145942585587248,null,-0.42036556663095925,0.48450817632354787,null,-0.46856811741285137,-0.5328427982588757,null,-0.46856811741285137,-1.282122315853289,null,-0.46856811741285137,0.35314505882113584,null,-0.46856811741285137,0.3307337011625351,null,-0.46856811741285137,0.48450817632354787,null,-0.5328427982588757,-1.282122315853289,null,-0.5328427982588757,0.35314505882113584,null,-0.5328427982588757,0.3307337011625351,null,-0.5328427982588757,-1.470826890338125,null,-0.5328427982588757,0.18493243567169323,null,-0.5328427982588757,-0.5773694690822572,null,-1.282122315853289,-1.470826890338125,null,-1.282122315853289,-1.6763535522125104,null,-1.282122315853289,-0.5773694690822572,null,0.14902683283379614,-0.10330188671878077,null,0.14902683283379614,-0.7529976638120419,null,0.14902683283379614,-0.9267450711116736,null,0.14902683283379614,0.03742052817428074,null,0.14902683283379614,-0.9396969283309051,null,0.14902683283379614,0.8487351821284569,null,0.14902683283379614,0.8636674197156634,null,0.14902683283379614,0.9853862968006157,null,-0.10330188671878077,-0.22821737617824553,null,-0.10330188671878077,-1.103420025570472,null,-0.10330188671878077,0.6145942585587248,null,-0.10330188671878077,-0.9267450711116736,null,-0.10330188671878077,-0.9396969283309051,null,-0.10330188671878077,0.8487351821284569,null,-0.10330188671878077,0.8636674197156634,null,0.35314505882113584,0.3307337011625351,null,0.35314505882113584,1.4312152899014439,null,0.35314505882113584,1.3098854870195393,null,0.35314505882113584,0.48450817632354787,null,0.35314505882113584,1.1828227344192874,null,0.3307337011625351,1.3098854870195393,null,0.3307337011625351,1.1828227344192874,null,0.3307337011625351,0.4865307029205142,null,0.3307337011625351,0.18493243567169323,null,0.3307337011625351,-0.5773694690822572,null,0.3307337011625351,0.8772302223944358,null,-0.22821737617824553,-1.103420025570472,null,-0.22821737617824553,0.6145942585587248,null,-0.22821737617824553,0.48450817632354787,null,-0.22821737617824553,-0.9396969283309051,null,-0.22821737617824553,0.8636674197156634,null,-1.103420025570472,-1.773755651315387,null,-1.103420025570472,-1.7104950905043332,null,-1.103420025570472,-0.9396969283309051,null,-1.103420025570472,-1.9184285269239105,null,6.210115937459002,5.536943817204173,null,6.210115937459002,6.428817215448159,null,-2.6847233781774764,-3.6647885790497314,null,-2.6847233781774764,-1.8401231997091203,null,-2.6847233781774764,-1.7104950905043332,null,-2.6847233781774764,-2.648128599284635,null,-2.6847233781774764,-1.9184285269239105,null,-2.6847233781774764,-3.2515791650176658,null,-2.6847233781774764,-2.8719068887701478,null,-2.6847233781774764,-3.7656827097301258,null,-3.6647885790497314,-2.648128599284635,null,-3.6647885790497314,-3.2515791650176658,null,-3.6647885790497314,-2.8719068887701478,null,-3.6647885790497314,-3.7656827097301258,null,-3.6647885790497314,-4.462017465472277,null,-3.6647885790497314,-3.9309636692776317,null,-3.6647885790497314,-4.694080850762423,null,-3.6647885790497314,-4.657221836465988,null,1.4312152899014439,1.3098854870195393,null,1.4312152899014439,0.6145942585587248,null,1.4312152899014439,2.3314601214817854,null,1.4312152899014439,1.5505449288175885,null,1.4312152899014439,0.48450817632354787,null,1.4312152899014439,2.4057222529009885,null,1.4312152899014439,2.2442559843712884,null,1.3098854870195393,0.48450817632354787,null,1.3098854870195393,2.4057222529009885,null,1.3098854870195393,2.2442559843712884,null,1.3098854870195393,1.1828227344192874,null,1.3098854870195393,1.896813794943514,null,-1.470826890338125,-0.5773694690822572,null,0.6145942585587248,1.4479213743865202,null,0.6145942585587248,1.5505449288175885,null,0.6145942585587248,0.48450817632354787,null,0.6145942585587248,0.8636674197156634,null,2.1769743545072475,2.3314601214817854,null,2.1769743545072475,1.4479213743865202,null,2.1769743545072475,1.5505449288175885,null,2.1769743545072475,1.5235936582370224,null,2.1769743545072475,2.6428577528407957,null,2.1769743545072475,3.1090448589510014,null,2.1769743545072475,2.9646295856506226,null,2.1769743545072475,1.6845860927200218,null,2.1769743545072475,2.0650582058518205,null,2.1769743545072475,3.124682121735666,null,2.3314601214817854,1.4479213743865202,null,2.3314601214817854,1.5505449288175885,null,2.3314601214817854,2.4057222529009885,null,2.3314601214817854,3.1090448589510014,null,2.3314601214817854,2.9646295856506226,null,2.3314601214817854,3.156941397997813,null,1.4479213743865202,1.5505449288175885,null,1.4479213743865202,1.5235936582370224,null,1.4479213743865202,0.8487351821284569,null,1.4479213743865202,0.8636674197156634,null,1.4479213743865202,1.6845860927200218,null,1.5505449288175885,0.48450817632354787,null,1.5505449288175885,2.4057222529009885,null,1.5505449288175885,0.8636674197156634,null,-1.773755651315387,-2.2998274854115714,null,-1.773755651315387,-1.7104950905043332,null,-1.773755651315387,-2.648128599284635,null,-1.773755651315387,-2.242345710845265,null,-2.2998274854115714,-1.7104950905043332,null,-2.2998274854115714,-2.648128599284635,null,-2.2998274854115714,-3.2515791650176658,null,-2.2998274854115714,-2.96235184841473,null,-2.2998274854115714,-2.355901036595201,null,-2.2998274854115714,-2.242345710845265,null,-0.7529976638120419,-0.9267450711116736,null,-0.7529976638120419,-1.8570774092471154,null,-0.7529976638120419,-1.8401231997091203,null,-0.7529976638120419,0.03742052817428074,null,-0.9267450711116736,-1.8570774092471154,null,-0.9267450711116736,-1.8401231997091203,null,-0.9267450711116736,0.03742052817428074,null,-0.9267450711116736,-0.9396969283309051,null,-0.9267450711116736,-1.9184285269239105,null,-1.8570774092471154,-1.8401231997091203,null,-1.8570774092471154,-2.8719068887701478,null,-1.8570774092471154,-2.8752970963292195,null,-1.8401231997091203,-0.9396969283309051,null,-1.8401231997091203,-1.9184285269239105,null,-1.8401231997091203,-2.8719068887701478,null,-1.8401231997091203,-2.8752970963292195,null,1.9077942728818393,1.4333467094104624,null,1.5234364776159022,0.5207715618618354,null,1.5234364776159022,0.6764988953703192,null,1.5234364776159022,0.9099459221205767,null,0.5207715618618354,0.6764988953703192,null,0.5207715618618354,0.9099459221205767,null,2.4057222529009885,2.2442559843712884,null,2.4057222529009885,2.9646295856506226,null,2.4057222529009885,3.156941397997813,null,2.4057222529009885,3.344699267429636,null,2.4057222529009885,3.552071425307221,null,2.4057222529009885,3.0730400029351306,null,2.2442559843712884,1.1828227344192874,null,2.2442559843712884,3.156941397997813,null,2.2442559843712884,1.896813794943514,null,2.2442559843712884,3.344699267429636,null,2.2442559843712884,3.0730400029351306,null,0.03742052817428074,0.8487351821284569,null,0.03742052817428074,0.9853862968006157,null,-1.7104950905043332,-0.9396969283309051,null,-1.7104950905043332,-2.648128599284635,null,-1.7104950905043332,-1.9184285269239105,null,-0.9396969283309051,-1.9184285269239105,null,-2.648128599284635,-1.9184285269239105,null,-2.648128599284635,-3.2515791650176658,null,-2.648128599284635,-2.96235184841473,null,1.1828227344192874,0.4865307029205142,null,1.1828227344192874,1.896813794943514,null,1.1828227344192874,0.8772302223944358,null,0.4865307029205142,0.8772302223944358,null,-1.9184285269239105,-2.8719068887701478,null,-5.73734930587992,-5.649723181278211,null,-5.73734930587992,-6.321552308248266,null,-1.6763535522125104,-2.242345710845265,null,-1.6763535522125104,-2.6886271318862924,null,-1.6763535522125104,-1.7215858029220372,null,-3.2515791650176658,-2.96235184841473,null,-3.2515791650176658,-4.462017465472277,null,-3.2515791650176658,-3.9309636692776317,null,-3.2515791650176658,-3.4334634408992892,null,-2.96235184841473,-2.355901036595201,null,-2.96235184841473,-2.242345710845265,null,-2.96235184841473,-3.9309636692776317,null,-2.96235184841473,-3.4334634408992892,null,1.5235936582370224,0.8487351821284569,null,1.5235936582370224,0.8636674197156634,null,1.5235936582370224,1.6845860927200218,null,1.5235936582370224,2.2679335311244486,null,0.8487351821284569,0.8636674197156634,null,0.8487351821284569,0.9853862968006157,null,-2.8719068887701478,-3.7656827097301258,null,-2.8719068887701478,-2.8752970963292195,null,-2.8719068887701478,-3.69725561861342,null,-3.794067008004922,-4.29482412447711,null,-3.794067008004922,-4.623736072757383,null,-3.794067008004922,-4.700847749032552,null,-2.355901036595201,-2.242345710845265,null,-2.355901036595201,-1.7215858029220372,null,-2.355901036595201,-1.8152312142067968,null,-2.355901036595201,-2.6554662287113038,null,-2.242345710845265,-2.6886271318862924,null,-2.242345710845265,-1.7215858029220372,null,-2.242345710845265,-1.8152312142067968,null,-2.242345710845265,-2.6554662287113038,null,-3.7656827097301258,-2.8752970963292195,null,-3.7656827097301258,-3.69725561861342,null,-3.7656827097301258,-4.694080850762423,null,-3.7656827097301258,-4.657221836465988,null,-3.257292977228635,-2.8752970963292195,null,-2.8752970963292195,-3.69725561861342,null,2.6428577528407957,3.1090448589510014,null,2.6428577528407957,1.6845860927200218,null,2.6428577528407957,2.0650582058518205,null,2.6428577528407957,3.124682121735666,null,3.1090448589510014,2.9646295856506226,null,3.1090448589510014,3.124682121735666,null,-4.462017465472277,-3.9309636692776317,null,-3.9309636692776317,-3.4334634408992892,null,2.9646295856506226,3.156941397997813,null,3.156941397997813,3.344699267429636,null,3.156941397997813,3.552071425307221,null,3.156941397997813,3.0730400029351306,null,3.344699267429636,3.552071425307221,null,3.344699267429636,4.353551300673226,null,-1.7215858029220372,-1.8152312142067968,null,-1.7215858029220372,-2.6554662287113038,null,8.623295376199966,8.528898581013717,null,8.623295376199966,8.817468864037258,null,-4.29482412447711,-4.623736072757383,null,-4.29482412447711,-4.700847749032552,null,0.18493243567169323,-0.5773694690822572,null,1.6845860927200218,2.0650582058518205,null,1.2611366235389938,1.7409357513026993,null,0.6764988953703192,0.9099459221205767,null,1.9703462154969325,2.5083908200760288,null,1.9703462154969325,3.180923192129914,null,1.9703462154969325,2.5492819754318434,null,2.5083908200760288,3.180923192129914,null,2.5083908200760288,2.5492819754318434,null,-4.694080850762423,-4.657221836465988,null,3.180923192129914,2.5492819754318434,null,-4.623736072757383,-4.700847749032552,null],\"z\":[-0.5422256668102416,-0.9797395372302636,null,-0.5422256668102416,0.15441819144759755,null,-0.5422256668102416,0.5848992409525147,null,-0.5422256668102416,-0.12313960084230667,null,-0.5422256668102416,-0.9131919890836839,null,-0.5422256668102416,-1.1702593971178619,null,-0.5422256668102416,-0.17968760222858143,null,-0.5422256668102416,-1.6765542089552323,null,-0.9797395372302636,0.15441819144759755,null,-0.9797395372302636,-1.1702593971178619,null,-0.9797395372302636,-0.17968760222858143,null,-0.9797395372302636,-0.5041178784415937,null,-0.9797395372302636,-1.6765542089552323,null,-0.9797395372302636,-1.3761810798368523,null,-0.9797395372302636,-1.7276315128496917,null,-0.9797395372302636,-2.100611307129186,null,0.15441819144759755,0.5848992409525147,null,0.15441819144759755,-0.12313960084230667,null,0.15441819144759755,1.1278950874969982,null,0.15441819144759755,0.955904992914002,null,0.15441819144759755,-0.17968760222858143,null,0.15441819144759755,0.5508703944964302,null,0.5848992409525147,-0.12313960084230667,null,0.5848992409525147,0.024286338071931687,null,0.5848992409525147,1.1278950874969982,null,0.5848992409525147,0.955904992914002,null,0.5848992409525147,1.2947481114530681,null,0.5848992409525147,0.7582642165859985,null,-0.12313960084230667,-0.9131919890836839,null,-0.12313960084230667,-1.1702593971178619,null,-0.12313960084230667,0.024286338071931687,null,-0.12313960084230667,-0.912327681565157,null,-0.12313960084230667,0.7582642165859985,null,-0.9131919890836839,-1.1702593971178619,null,-0.9131919890836839,0.024286338071931687,null,-0.9131919890836839,-0.912327681565157,null,-0.9131919890836839,-1.400351091834105,null,-0.9131919890836839,-2.044223366346642,null,-0.9131919890836839,-1.7457148219541878,null,-1.1702593971178619,-1.400351091834105,null,-1.1702593971178619,-1.6765542089552323,null,-1.1702593971178619,-1.7457148219541878,null,2.0957050276060896,1.7514130869670397,null,2.0957050276060896,2.5705499682316164,null,2.0957050276060896,2.26635603564146,null,2.0957050276060896,3.00816597038379,null,2.0957050276060896,1.5007631858038364,null,2.0957050276060896,2.5445814333721652,null,2.0957050276060896,1.8069110113888835,null,2.0957050276060896,2.674919659494511,null,1.7514130869670397,1.1278950874969982,null,1.7514130869670397,0.955904992914002,null,1.7514130869670397,1.2947481114530681,null,1.7514130869670397,2.26635603564146,null,1.7514130869670397,1.5007631858038364,null,1.7514130869670397,2.5445814333721652,null,1.7514130869670397,1.8069110113888835,null,0.024286338071931687,-0.912327681565157,null,0.024286338071931687,0.590226116130908,null,0.024286338071931687,-0.12931379314798536,null,0.024286338071931687,0.7582642165859985,null,0.024286338071931687,-0.6669474625985886,null,-0.912327681565157,-0.12931379314798536,null,-0.912327681565157,-0.6669474625985886,null,-0.912327681565157,-0.9722041484437689,null,-0.912327681565157,-2.044223366346642,null,-0.912327681565157,-1.7457148219541878,null,-0.912327681565157,-1.6442129706900948,null,1.1278950874969982,0.955904992914002,null,1.1278950874969982,1.2947481114530681,null,1.1278950874969982,0.7582642165859985,null,1.1278950874969982,1.5007631858038364,null,1.1278950874969982,1.8069110113888835,null,0.955904992914002,-0.17968760222858143,null,0.955904992914002,0.5508703944964302,null,0.955904992914002,1.5007631858038364,null,0.955904992914002,1.4625061269813326,null,-4.942777247512762,-5.5562302911359875,null,-4.942777247512762,-4.1218922175167245,null,1.1125118901648932,0.8773925518663567,null,1.1125118901648932,2.0402779127413564,null,1.1125118901648932,0.5508703944964302,null,1.1125118901648932,0.352160691268127,null,1.1125118901648932,1.4625061269813326,null,1.1125118901648932,0.011372807885234829,null,1.1125118901648932,1.9663821856226797,null,1.1125118901648932,1.8089550778592207,null,0.8773925518663567,0.352160691268127,null,0.8773925518663567,0.011372807885234829,null,0.8773925518663567,1.9663821856226797,null,0.8773925518663567,1.8089550778592207,null,0.8773925518663567,0.06369216869061589,null,0.8773925518663567,-0.25443901461146373,null,0.8773925518663567,1.3227798158937345,null,0.8773925518663567,1.313591165797134,null,0.590226116130908,-0.12931379314798536,null,0.590226116130908,1.2947481114530681,null,0.590226116130908,1.470210303544389,null,0.590226116130908,1.3901045809534682,null,0.590226116130908,0.7582642165859985,null,0.590226116130908,0.4966644636588437,null,0.590226116130908,-0.1562430812117656,null,-0.12931379314798536,0.7582642165859985,null,-0.12931379314798536,0.4966644636588437,null,-0.12931379314798536,-0.1562430812117656,null,-0.12931379314798536,-0.6669474625985886,null,-0.12931379314798536,-0.26671844150678203,null,-1.400351091834105,-1.7457148219541878,null,1.2947481114530681,2.206747735445087,null,1.2947481114530681,1.3901045809534682,null,1.2947481114530681,0.7582642165859985,null,1.2947481114530681,1.8069110113888835,null,2.4521895429427327,1.470210303544389,null,2.4521895429427327,2.206747735445087,null,2.4521895429427327,1.3901045809534682,null,2.4521895429427327,2.9241642079982495,null,2.4521895429427327,3.319470694452386,null,2.4521895429427327,2.3388836363955234,null,2.4521895429427327,1.5587250703615902,null,2.4521895429427327,3.273161454466763,null,2.4521895429427327,3.376635540259086,null,2.4521895429427327,3.19444508602806,null,1.470210303544389,2.206747735445087,null,1.470210303544389,1.3901045809534682,null,1.470210303544389,0.4966644636588437,null,1.470210303544389,2.3388836363955234,null,1.470210303544389,1.5587250703615902,null,1.470210303544389,0.6255416286851028,null,2.206747735445087,1.3901045809534682,null,2.206747735445087,2.9241642079982495,null,2.206747735445087,2.5445814333721652,null,2.206747735445087,1.8069110113888835,null,2.206747735445087,3.273161454466763,null,1.3901045809534682,0.7582642165859985,null,1.3901045809534682,0.4966644636588437,null,1.3901045809534682,1.8069110113888835,null,-0.17968760222858143,-0.5041178784415937,null,-0.17968760222858143,0.5508703944964302,null,-0.17968760222858143,0.352160691268127,null,-0.17968760222858143,-1.3761810798368523,null,-0.5041178784415937,0.5508703944964302,null,-0.5041178784415937,0.352160691268127,null,-0.5041178784415937,0.011372807885234829,null,-0.5041178784415937,-0.8165160504866114,null,-0.5041178784415937,-1.636149325019705,null,-0.5041178784415937,-1.3761810798368523,null,2.5705499682316164,2.26635603564146,null,2.5705499682316164,2.8342828269145333,null,2.5705499682316164,2.0402779127413564,null,2.5705499682316164,3.00816597038379,null,2.26635603564146,2.8342828269145333,null,2.26635603564146,2.0402779127413564,null,2.26635603564146,3.00816597038379,null,2.26635603564146,1.5007631858038364,null,2.26635603564146,1.4625061269813326,null,2.8342828269145333,2.0402779127413564,null,2.8342828269145333,1.9663821856226797,null,2.8342828269145333,2.810074585931922,null,2.0402779127413564,1.5007631858038364,null,2.0402779127413564,1.4625061269813326,null,2.0402779127413564,1.9663821856226797,null,2.0402779127413564,2.810074585931922,null,3.6270094700993676,2.8859776589685397,null,-4.746577937988618,-4.870308368953133,null,-4.746577937988618,-4.574240766478033,null,-4.746577937988618,-5.485392560430042,null,-4.870308368953133,-4.574240766478033,null,-4.870308368953133,-5.485392560430042,null,0.4966644636588437,-0.1562430812117656,null,0.4966644636588437,1.5587250703615902,null,0.4966644636588437,0.6255416286851028,null,0.4966644636588437,-0.0996004194389819,null,0.4966644636588437,0.20245935523764708,null,0.4966644636588437,-0.4534647000653542,null,-0.1562430812117656,-0.6669474625985886,null,-0.1562430812117656,0.6255416286851028,null,-0.1562430812117656,-0.26671844150678203,null,-0.1562430812117656,-0.0996004194389819,null,-0.1562430812117656,-0.4534647000653542,null,3.00816597038379,2.5445814333721652,null,3.00816597038379,2.674919659494511,null,0.5508703944964302,1.5007631858038364,null,0.5508703944964302,0.352160691268127,null,0.5508703944964302,1.4625061269813326,null,1.5007631858038364,1.4625061269813326,null,0.352160691268127,1.4625061269813326,null,0.352160691268127,0.011372807885234829,null,0.352160691268127,-0.8165160504866114,null,-0.6669474625985886,-0.9722041484437689,null,-0.6669474625985886,-0.26671844150678203,null,-0.6669474625985886,-1.6442129706900948,null,-0.9722041484437689,-1.6442129706900948,null,1.4625061269813326,1.9663821856226797,null,-6.361749180420529,-6.84084161613377,null,-6.361749180420529,-5.450703231825038,null,-1.6765542089552323,-1.3761810798368523,null,-1.6765542089552323,-1.7276315128496917,null,-1.6765542089552323,-2.100611307129186,null,0.011372807885234829,-0.8165160504866114,null,0.011372807885234829,0.06369216869061589,null,0.011372807885234829,-0.25443901461146373,null,0.011372807885234829,-0.8575824854971257,null,-0.8165160504866114,-1.636149325019705,null,-0.8165160504866114,-1.3761810798368523,null,-0.8165160504866114,-0.25443901461146373,null,-0.8165160504866114,-0.8575824854971257,null,2.9241642079982495,2.5445814333721652,null,2.9241642079982495,1.8069110113888835,null,2.9241642079982495,3.273161454466763,null,2.9241642079982495,3.6310987471599376,null,2.5445814333721652,1.8069110113888835,null,2.5445814333721652,2.674919659494511,null,1.9663821856226797,1.8089550778592207,null,1.9663821856226797,2.810074585931922,null,1.9663821856226797,2.785212609851396,null,-2.0871681248563982,-1.2293274238278844,null,-2.0871681248563982,-2.380227269753974,null,-2.0871681248563982,-1.7672481554747748,null,-1.636149325019705,-1.3761810798368523,null,-1.636149325019705,-2.100611307129186,null,-1.636149325019705,-2.3582264712912338,null,-1.636149325019705,-2.4620664471852134,null,-1.3761810798368523,-1.7276315128496917,null,-1.3761810798368523,-2.100611307129186,null,-1.3761810798368523,-2.3582264712912338,null,-1.3761810798368523,-2.4620664471852134,null,1.8089550778592207,2.810074585931922,null,1.8089550778592207,2.785212609851396,null,1.8089550778592207,1.3227798158937345,null,1.8089550778592207,1.313591165797134,null,3.826909312320414,2.810074585931922,null,2.810074585931922,2.785212609851396,null,3.319470694452386,2.3388836363955234,null,3.319470694452386,3.273161454466763,null,3.319470694452386,3.376635540259086,null,3.319470694452386,3.19444508602806,null,2.3388836363955234,1.5587250703615902,null,2.3388836363955234,3.19444508602806,null,0.06369216869061589,-0.25443901461146373,null,-0.25443901461146373,-0.8575824854971257,null,1.5587250703615902,0.6255416286851028,null,0.6255416286851028,-0.0996004194389819,null,0.6255416286851028,0.20245935523764708,null,0.6255416286851028,-0.4534647000653542,null,-0.0996004194389819,0.20245935523764708,null,-0.0996004194389819,-0.49747620253494085,null,-2.100611307129186,-2.3582264712912338,null,-2.100611307129186,-2.4620664471852134,null,-1.5806769260050253,-1.1497550386006254,null,-1.5806769260050253,-1.3762902776654335,null,-1.2293274238278844,-2.380227269753974,null,-1.2293274238278844,-1.7672481554747748,null,-2.044223366346642,-1.7457148219541878,null,3.273161454466763,3.376635540259086,null,-8.239854978829035,-7.884051300104021,null,-4.574240766478033,-5.485392560430042,null,-8.632720635828951,-8.330127541510638,null,-8.632720635828951,-8.305762972751987,null,-8.632720635828951,-8.534384673810116,null,-8.330127541510638,-8.305762972751987,null,-8.330127541510638,-8.534384673810116,null,1.3227798158937345,1.313591165797134,null,-8.305762972751987,-8.534384673810116,null,-2.380227269753974,-1.7672481554747748,null],\"type\":\"scatter3d\",\"uid\":\"f9b85476-0bd2-4b2b-89c0-a594245cf64a\"},{\"hoverinfo\":\"text\",\"hovertext\":[\"Node ID: 0<br>Pullback set label: 44<br>Partial cluster label: 0<br>Node size: 1397<br>Summary statistic: 12700.0\",\"Node ID: 1<br>Pullback set label: 54<br>Partial cluster label: 0<br>Node size: 737<br>Summary statistic: 11900.0\",\"Node ID: 2<br>Pullback set label: 43<br>Partial cluster label: 0<br>Node size: 1743<br>Summary statistic: 12300.0\",\"Node ID: 3<br>Pullback set label: 81<br>Partial cluster label: 0<br>Node size: 419<br>Summary statistic: 12200.0\",\"Node ID: 4<br>Pullback set label: 33<br>Partial cluster label: 0<br>Node size: 2009<br>Summary statistic: 12700.0\",\"Node ID: 5<br>Pullback set label: 34<br>Partial cluster label: 0<br>Node size: 1605<br>Summary statistic: 13200.0\",\"Node ID: 6<br>Pullback set label: 35<br>Partial cluster label: 0<br>Node size: 860<br>Summary statistic: 13100.0\",\"Node ID: 7<br>Pullback set label: 45<br>Partial cluster label: 0<br>Node size: 747<br>Summary statistic: 13400.0\",\"Node ID: 8<br>Pullback set label: 30<br>Partial cluster label: 0<br>Node size: 1039<br>Summary statistic: 13100.0\",\"Node ID: 9<br>Pullback set label: 31<br>Partial cluster label: 0<br>Node size: 1524<br>Summary statistic: 12900.0\",\"Node ID: 10<br>Pullback set label: 26<br>Partial cluster label: 0<br>Node size: 1491<br>Summary statistic: 13000.0\",\"Node ID: 11<br>Pullback set label: 27<br>Partial cluster label: 0<br>Node size: 709<br>Summary statistic: 13000.0\",\"Node ID: 12<br>Pullback set label: 32<br>Partial cluster label: 0<br>Node size: 1828<br>Summary statistic: 12700.0\",\"Node ID: 13<br>Pullback set label: 42<br>Partial cluster label: 0<br>Node size: 1595<br>Summary statistic: 12500.0\",\"Node ID: 14<br>Pullback set label: 68<br>Partial cluster label: 0<br>Node size: 201<br>Summary statistic: 12300.0\",\"Node ID: 15<br>Pullback set label: 76<br>Partial cluster label: 0<br>Node size: 190<br>Summary statistic: 12300.0\",\"Node ID: 16<br>Pullback set label: 61<br>Partial cluster label: 0<br>Node size: 935<br>Summary statistic: 12600.0\",\"Node ID: 17<br>Pullback set label: 71<br>Partial cluster label: 0<br>Node size: 638<br>Summary statistic: 13100.0\",\"Node ID: 18<br>Pullback set label: 17<br>Partial cluster label: 0<br>Node size: 1504<br>Summary statistic: 12700.0\",\"Node ID: 19<br>Pullback set label: 18<br>Partial cluster label: 0<br>Node size: 986<br>Summary statistic: 13000.0\",\"Node ID: 20<br>Pullback set label: 46<br>Partial cluster label: 0<br>Node size: 45<br>Summary statistic: 13200.0\",\"Node ID: 21<br>Pullback set label: 24<br>Partial cluster label: 0<br>Node size: 1911<br>Summary statistic: 12900.0\",\"Node ID: 22<br>Pullback set label: 8<br>Partial cluster label: 0<br>Node size: 781<br>Summary statistic: 13200.0\",\"Node ID: 23<br>Pullback set label: 9<br>Partial cluster label: 0<br>Node size: 1123<br>Summary statistic: 12900.0\",\"Node ID: 24<br>Pullback set label: 15<br>Partial cluster label: 0<br>Node size: 1463<br>Summary statistic: 13500.0\",\"Node ID: 25<br>Pullback set label: 16<br>Partial cluster label: 0<br>Node size: 1718<br>Summary statistic: 13000.0\",\"Node ID: 26<br>Pullback set label: 25<br>Partial cluster label: 0<br>Node size: 1808<br>Summary statistic: 12600.0\",\"Node ID: 27<br>Pullback set label: 53<br>Partial cluster label: 0<br>Node size: 1375<br>Summary statistic: 12400.0\",\"Node ID: 28<br>Pullback set label: 63<br>Partial cluster label: 0<br>Node size: 945<br>Summary statistic: 12600.0\",\"Node ID: 29<br>Pullback set label: 39<br>Partial cluster label: 0<br>Node size: 317<br>Summary statistic: 12400.0\",\"Node ID: 30<br>Pullback set label: 40<br>Partial cluster label: 0<br>Node size: 1213<br>Summary statistic: 12900.0\",\"Node ID: 31<br>Pullback set label: 49<br>Partial cluster label: 0<br>Node size: 214<br>Summary statistic: 13400.0\",\"Node ID: 32<br>Pullback set label: 50<br>Partial cluster label: 0<br>Node size: 634<br>Summary statistic: 13400.0\",\"Node ID: 33<br>Pullback set label: 2<br>Partial cluster label: 0<br>Node size: 30<br>Summary statistic: 13000.0\",\"Node ID: 34<br>Pullback set label: 3<br>Partial cluster label: 0<br>Node size: 30<br>Summary statistic: 13000.0\",\"Node ID: 35<br>Pullback set label: 48<br>Partial cluster label: 0<br>Node size: 102<br>Summary statistic: 13000.0\",\"Node ID: 36<br>Pullback set label: 58<br>Partial cluster label: 0<br>Node size: 31<br>Summary statistic: 11500.0\",\"Node ID: 37<br>Pullback set label: 10<br>Partial cluster label: 0<br>Node size: 821<br>Summary statistic: 13000.0\",\"Node ID: 38<br>Pullback set label: 11<br>Partial cluster label: 0<br>Node size: 351<br>Summary statistic: 12600.0\",\"Node ID: 39<br>Pullback set label: 29<br>Partial cluster label: 0<br>Node size: 320<br>Summary statistic: 12900.0\",\"Node ID: 40<br>Pullback set label: 52<br>Partial cluster label: 0<br>Node size: 1431<br>Summary statistic: 13000.0\",\"Node ID: 41<br>Pullback set label: 41<br>Partial cluster label: 0<br>Node size: 1525<br>Summary statistic: 12400.0\",\"Node ID: 42<br>Pullback set label: 62<br>Partial cluster label: 0<br>Node size: 1104<br>Summary statistic: 12800.0\",\"Node ID: 43<br>Pullback set label: 19<br>Partial cluster label: 0<br>Node size: 392<br>Summary statistic: 13000.0\",\"Node ID: 44<br>Pullback set label: 20<br>Partial cluster label: -1<br>Node size: 9<br>Summary statistic: 13900.0\",\"Node ID: 45<br>Pullback set label: 51<br>Partial cluster label: 0<br>Node size: 1121<br>Summary statistic: 12700.0\",\"Node ID: 46<br>Pullback set label: 38<br>Partial cluster label: 0<br>Node size: 195<br>Summary statistic: 12000.0\",\"Node ID: 47<br>Pullback set label: 55<br>Partial cluster label: 0<br>Node size: 277<br>Summary statistic: 12400.0\",\"Node ID: 48<br>Pullback set label: 72<br>Partial cluster label: 0<br>Node size: 521<br>Summary statistic: 12800.0\",\"Node ID: 49<br>Pullback set label: 73<br>Partial cluster label: 0<br>Node size: 409<br>Summary statistic: 12400.0\",\"Node ID: 50<br>Pullback set label: 14<br>Partial cluster label: 0<br>Node size: 692<br>Summary statistic: 13200.0\",\"Node ID: 51<br>Pullback set label: 22<br>Partial cluster label: 0<br>Node size: 811<br>Summary statistic: 12700.0\",\"Node ID: 52<br>Pullback set label: 23<br>Partial cluster label: 0<br>Node size: 1523<br>Summary statistic: 13000.0\",\"Node ID: 53<br>Pullback set label: 60<br>Partial cluster label: 0<br>Node size: 642<br>Summary statistic: 12800.0\",\"Node ID: 54<br>Pullback set label: 48<br>Partial cluster label: -1<br>Node size: 7<br>Summary statistic: 9960.0\",\"Node ID: 55<br>Pullback set label: 47<br>Partial cluster label: 0<br>Node size: 127<br>Summary statistic: 13000.0\",\"Node ID: 56<br>Pullback set label: 74<br>Partial cluster label: 0<br>Node size: 201<br>Summary statistic: 12600.0\",\"Node ID: 57<br>Pullback set label: 64<br>Partial cluster label: 0<br>Node size: 484<br>Summary statistic: 12200.0\",\"Node ID: 58<br>Pullback set label: 65<br>Partial cluster label: -1<br>Node size: 10<br>Summary statistic: 11100.0\",\"Node ID: 59<br>Pullback set label: 70<br>Partial cluster label: 0<br>Node size: 399<br>Summary statistic: 12800.0\",\"Node ID: 60<br>Pullback set label: 58<br>Partial cluster label: 1<br>Node size: 35<br>Summary statistic: 11600.0\",\"Node ID: 61<br>Pullback set label: 59<br>Partial cluster label: 0<br>Node size: 253<br>Summary statistic: 12800.0\",\"Node ID: 62<br>Pullback set label: 0<br>Partial cluster label: -1<br>Node size: 25<br>Summary statistic: 11100.0\",\"Node ID: 63<br>Pullback set label: 1<br>Partial cluster label: 0<br>Node size: 228<br>Summary statistic: 12200.0\",\"Node ID: 64<br>Pullback set label: 78<br>Partial cluster label: 0<br>Node size: 157<br>Summary statistic: 13600.0\",\"Node ID: 65<br>Pullback set label: 79<br>Partial cluster label: 0<br>Node size: 171<br>Summary statistic: 13100.0\",\"Node ID: 66<br>Pullback set label: 2<br>Partial cluster label: 1<br>Node size: 282<br>Summary statistic: 13100.0\",\"Node ID: 67<br>Pullback set label: 3<br>Partial cluster label: 1<br>Node size: 182<br>Summary statistic: 13100.0\",\"Node ID: 68<br>Pullback set label: 69<br>Partial cluster label: 0<br>Node size: 71<br>Summary statistic: 12700.0\",\"Node ID: 69<br>Pullback set label: 21<br>Partial cluster label: 0<br>Node size: 149<br>Summary statistic: 12800.0\",\"Node ID: 70<br>Pullback set label: 80<br>Partial cluster label: 0<br>Node size: 50<br>Summary statistic: 13000.0\",\"Node ID: 71<br>Pullback set label: 12<br>Partial cluster label: 0<br>Node size: 46<br>Summary statistic: 12700.0\",\"Node ID: 72<br>Pullback set label: 4<br>Partial cluster label: 0<br>Node size: 107<br>Summary statistic: 12400.0\",\"Node ID: 73<br>Pullback set label: 65<br>Partial cluster label: 0<br>Node size: 95<br>Summary statistic: 13600.0\",\"Node ID: 74<br>Pullback set label: 75<br>Partial cluster label: -1<br>Node size: 1<br>Summary statistic: 279.0\",\"Node ID: 75<br>Pullback set label: 75<br>Partial cluster label: 0<br>Node size: 52<br>Summary statistic: 12300.0\",\"Node ID: 76<br>Pullback set label: 5<br>Partial cluster label: 0<br>Node size: 59<br>Summary statistic: 12600.0\",\"Node ID: 77<br>Pullback set label: 6<br>Partial cluster label: 0<br>Node size: 40<br>Summary statistic: 12600.0\",\"Node ID: 78<br>Pullback set label: 46<br>Partial cluster label: 1<br>Node size: 38<br>Summary statistic: 13500.0\",\"Node ID: 79<br>Pullback set label: 28<br>Partial cluster label: 0<br>Node size: 31<br>Summary statistic: 10900.0\",\"Node ID: 80<br>Pullback set label: 36<br>Partial cluster label: 0<br>Node size: 91<br>Summary statistic: 11600.0\",\"Node ID: 81<br>Pullback set label: 7<br>Partial cluster label: 0<br>Node size: 238<br>Summary statistic: 14300.0\",\"Node ID: 82<br>Pullback set label: 57<br>Partial cluster label: 0<br>Node size: 80<br>Summary statistic: 13600.0\",\"Node ID: 83<br>Pullback set label: 67<br>Partial cluster label: -1<br>Node size: 4<br>Summary statistic: 12500.0\",\"Node ID: 84<br>Pullback set label: 49<br>Partial cluster label: -1<br>Node size: 3<br>Summary statistic: 11600.0\",\"Node ID: 85<br>Pullback set label: 56<br>Partial cluster label: 0<br>Node size: 51<br>Summary statistic: 12700.0\",\"Node ID: 86<br>Pullback set label: 57<br>Partial cluster label: 1<br>Node size: 51<br>Summary statistic: 12800.0\",\"Node ID: 87<br>Pullback set label: 77<br>Partial cluster label: -1<br>Node size: 16<br>Summary statistic: 9990.0\",\"Node ID: 88<br>Pullback set label: 78<br>Partial cluster label: -1<br>Node size: 11<br>Summary statistic: 11400.0\",\"Node ID: 89<br>Pullback set label: 66<br>Partial cluster label: 0<br>Node size: 46<br>Summary statistic: 13200.0\",\"Node ID: 90<br>Pullback set label: 67<br>Partial cluster label: 0<br>Node size: 47<br>Summary statistic: 13300.0\",\"Node ID: 91<br>Pullback set label: 11<br>Partial cluster label: -1<br>Node size: 2<br>Summary statistic: 4610.0\",\"Node ID: 92<br>Pullback set label: 69<br>Partial cluster label: -1<br>Node size: 1<br>Summary statistic: 3420.0\",\"Node ID: 93<br>Pullback set label: 3<br>Partial cluster label: -1<br>Node size: 5<br>Summary statistic: 10000.0\",\"Node ID: 94<br>Pullback set label: 13<br>Partial cluster label: -1<br>Node size: 8<br>Summary statistic: 15000.0\",\"Node ID: 95<br>Pullback set label: 37<br>Partial cluster label: -1<br>Node size: 2<br>Summary statistic: 11000.0\",\"Node ID: 96<br>Pullback set label: 39<br>Partial cluster label: -1<br>Node size: 1<br>Summary statistic: 6930.0\",\"Node ID: 97<br>Pullback set label: 1<br>Partial cluster label: -1<br>Node size: 1<br>Summary statistic: 8650.0\",\"Node ID: 98<br>Pullback set label: 7<br>Partial cluster label: -1<br>Node size: 1<br>Summary statistic: 13400.0\",\"Node ID: 99<br>Pullback set label: 4<br>Partial cluster label: -1<br>Node size: 4<br>Summary statistic: 17800.0\",\"Node ID: 100<br>Pullback set label: 28<br>Partial cluster label: -1<br>Node size: 2<br>Summary statistic: 20200.0\",\"Node ID: 101<br>Pullback set label: 12<br>Partial cluster label: -1<br>Node size: 1<br>Summary statistic: 15300.0\",\"Node ID: 102<br>Pullback set label: 36<br>Partial cluster label: -1<br>Node size: 1<br>Summary statistic: 15500.0\",\"Node ID: 103<br>Pullback set label: 59<br>Partial cluster label: -1<br>Node size: 1<br>Summary statistic: 21600.0\"],\"marker\":{\"color\":[12728.828919112384,11903.702849389416,12294.19736087206,12231.494033412888,12728.1931309109,13179.614953271028,13146.94534883721,13422.863453815262,13091.314725697786,12858.574146981628,13042.551978537895,12952.211565585332,12738.420131291028,12454.563636363637,12348.47263681592,12336.615789473684,12632.012834224599,13063.60971786834,12662.109707446809,13038.866125760649,13240.888888888889,12892.106750392464,13181.513444302176,12925.514692787177,13519.394395078605,12984.591385331782,12627.787610619469,12365.265454545455,12629.319576719578,12378.119873817035,12942.588623248144,13385.289719626167,13384.649842271294,13042.533333333333,13042.533333333333,13037.058823529413,11487.741935483871,13011.411693057247,12613.20227920228,12917.278125,13026.850454227813,12388.711475409837,12823.63134057971,12996.834183673469,13926.111111111111,12691.132917038358,12046.502564102564,12369.646209386281,12804.236084452976,12377.694376528118,13185.307803468208,12708.36251541307,12975.76231122784,12777.211838006231,9959.57142857143,12982.653543307086,12620.73631840796,12181.613636363636,11054.7,12763.817042606517,11554.657142857142,12756.142292490118,11096.96,12204.899122807017,13562.184713375796,13139.526315789473,13138.921985815603,13117.054945054944,12700.577464788732,12759.838926174496,13047.96,12659.152173913044,12424.214953271028,13595.652631578947,279.0,12340.807692307691,12638.93220338983,12594.85,13467.052631578947,10938.354838709678,11570.846153846154,14266.197478991597,13579.2125,12520.0,11563.666666666666,12722.35294117647,12811.35294117647,9993.25,11362.272727272728,13193.91304347826,13268.936170212766,4611.5,3423.0,10002.6,14952.375,11027.5,6933.0,8653.0,13382.0,17804.75,20178.0,15257.0,15494.0,21602.0],\"colorbar\":{\"thickness\":15,\"title\":{\"side\":\"right\",\"text\":\"\"},\"xanchor\":\"left\"},\"colorscale\":[[0.0,\"#440154\"],[0.1111111111111111,\"#482878\"],[0.2222222222222222,\"#3e4989\"],[0.3333333333333333,\"#31688e\"],[0.4444444444444444,\"#26828e\"],[0.5555555555555556,\"#1f9e89\"],[0.6666666666666666,\"#35b779\"],[0.7777777777777778,\"#6ece58\"],[0.8888888888888888,\"#b5de2b\"],[1.0,\"#fde725\"]],\"line\":{\"color\":\"#888\",\"width\":1},\"opacity\":1.0,\"reversescale\":false,\"showscale\":true,\"size\":[1397,737,1743,419,2009,1605,860,747,1039,1524,1491,709,1828,1595,201,190,935,638,1504,986,45,1911,781,1123,1463,1718,1808,1375,945,317,1213,214,634,30,30,102,31,821,351,320,1431,1525,1104,392,9,1121,195,277,521,409,692,811,1523,642,7,127,201,484,10,399,35,253,25,228,157,171,282,182,71,149,50,46,107,95,1,52,59,40,38,31,91,238,80,4,3,51,51,16,11,46,47,2,1,5,8,2,1,1,1,4,2,1,1,1],\"sizemin\":4,\"sizemode\":\"area\",\"sizeref\":27.90277777777778},\"mode\":\"markers\",\"name\":\"node_trace\",\"x\":[0.8200925245409361,1.443494686186942,1.2597264905937906,-7.2972674602742345,0.639440259947271,0.1656888514280187,-0.1519432421302937,0.27597079869617136,2.6740600069024776,1.8800341114822983,-0.19560121476746706,-0.4858459158610782,1.317039872606441,1.595341317514656,-3.5396954583166145,-3.848311591336926,2.8424141951723527,2.821952003204785,0.2854579422247497,-0.20425267145414222,-0.8343955638291416,0.952277953945002,0.2334015105991481,0.3538685362336502,0.9394841305318993,0.6634994486609387,0.30358668982988557,1.7845128290619245,2.4598743340695433,3.4059766968419765,2.647633552790906,3.1030545612304947,2.9636414888724576,-7.416180226014693,-7.669293819790458,-6.844528231323432,-6.442362001449368,0.2730752539683744,-0.3399327446117858,2.8069664430611088,2.257829792680507,2.2982288856621125,2.42761791764219,-0.8591563741724864,-1.7270790324598826,2.320460000608564,-2.6076115338763666,1.1553453030154048,3.0834430041630765,3.0158773186390304,1.3051805726662287,2.04209510383233,1.6224924008465587,2.7693730976890927,-1.7004861211486024,-7.193628056586211,3.0369580943927144,2.1722481914118497,1.1570434015980084,2.7491664530579976,3.350809582480994,2.9869157513147107,-0.3327499681249244,-0.13001269294247753,2.946392535614932,3.4859989864174983,-0.26925196977483323,0.011622413908475064,2.468172182472389,3.170791322860873,4.000995581789825,-1.317201224463819,-0.29150840597917216,2.130262650906762,3.1116030241557593,2.4506543808550094,1.9589044709858765,2.842627068157584,-7.292394993100797,-0.17818528172189949,-0.4542622863497092,0.22853823330543308,3.830458784527634,4.532280778355345,-7.286446797115391,-1.1061836057004104,-1.5983938352222418,2.2808412104119618,3.138787472870743,-0.959318672897428,-0.49943885731857457,0.7816020553930091,-4.232439320220037,-0.7557141998831015,1.9923282640793063,-7.122777722646358,-2.8468288398951787,-0.7655739840807099,0.29643953636310133,0.4454518218248992,-1.1754987325412776,0.9047842654082866,-6.574764102541787,-6.802186020074127],\"y\":[-1.1197849726861895,-1.733040718870402,-1.039279215643158,-2.651363451881566,-0.42036556663095925,-0.46856811741285137,-0.5328427982588757,-1.282122315853289,0.14902683283379614,-0.10330188671878077,0.35314505882113584,0.3307337011625351,-0.22821737617824553,-1.103420025570472,6.210115937459002,5.536943817204173,-2.6847233781774764,-3.6647885790497314,1.4312152899014439,1.3098854870195393,-1.470826890338125,0.6145942585587248,2.1769743545072475,2.3314601214817854,1.4479213743865202,1.5505449288175885,0.48450817632354787,-1.773755651315387,-2.2998274854115714,-0.7529976638120419,-0.9267450711116736,-1.8570774092471154,-1.8401231997091203,1.9077942728818393,1.4333467094104624,1.5234364776159022,0.5207715618618354,2.4057222529009885,2.2442559843712884,0.03742052817428074,-1.7104950905043332,-0.9396969283309051,-2.648128599284635,1.1828227344192874,0.4865307029205142,-1.9184285269239105,-5.73734930587992,-1.6763535522125104,-3.2515791650176658,-2.96235184841473,1.5235936582370224,0.8487351821284569,0.8636674197156634,-2.8719068887701478,-5.649723181278211,-3.794067008004922,-2.355901036595201,-2.242345710845265,-2.6886271318862924,-3.7656827097301258,-3.257292977228635,-2.8752970963292195,2.6428577528407957,3.1090448589510014,-4.462017465472277,-3.9309636692776317,2.9646295856506226,3.156941397997813,-3.69725561861342,0.9853862968006157,-3.4334634408992892,1.896813794943514,3.344699267429636,-1.7215858029220372,-1.8152312142067968,-2.6554662287113038,8.623295376199966,8.528898581013717,-4.29482412447711,0.18493243567169323,-0.5773694690822572,1.6845860927200218,1.2611366235389938,1.7409357513026993,0.6764988953703192,1.9703462154969325,2.5083908200760288,-4.694080850762423,-4.657221836465988,3.180923192129914,2.5492819754318434,3.552071425307221,6.428817215448159,4.353551300673226,2.2679335311244486,-4.623736072757383,-6.321552308248266,2.0650582058518205,3.124682121735666,3.0730400029351306,0.8772302223944358,8.817468864037258,-4.700847749032552,0.9099459221205767],\"z\":[-0.5422256668102416,-0.9797395372302636,0.15441819144759755,3.433457631193863,0.5848992409525147,-0.12313960084230667,-0.9131919890836839,-1.1702593971178619,2.0957050276060896,1.7514130869670397,0.024286338071931687,-0.912327681565157,1.1278950874969982,0.955904992914002,-4.942777247512762,-5.5562302911359875,1.1125118901648932,0.8773925518663567,0.590226116130908,-0.12931379314798536,-1.400351091834105,1.2947481114530681,2.4521895429427327,1.470210303544389,2.206747735445087,1.3901045809534682,0.7582642165859985,-0.17968760222858143,-0.5041178784415937,2.5705499682316164,2.26635603564146,2.8342828269145333,2.0402779127413564,3.6270094700993676,2.8859776589685397,-4.746577937988618,-4.870308368953133,0.4966644636588437,-0.1562430812117656,3.00816597038379,0.5508703944964302,1.5007631858038364,0.352160691268127,-0.6669474625985886,-0.9722041484437689,1.4625061269813326,-6.361749180420529,-1.6765542089552323,0.011372807885234829,-0.8165160504866114,2.9241642079982495,2.5445814333721652,1.8069110113888835,1.9663821856226797,-6.84084161613377,-2.0871681248563982,-1.636149325019705,-1.3761810798368523,-1.7276315128496917,1.8089550778592207,3.826909312320414,2.810074585931922,3.319470694452386,2.3388836363955234,0.06369216869061589,-0.25443901461146373,1.5587250703615902,0.6255416286851028,2.785212609851396,2.674919659494511,-0.8575824854971257,-0.26671844150678203,-0.0996004194389819,-2.100611307129186,-2.3582264712912338,-2.4620664471852134,-1.5806769260050253,-1.1497550386006254,-1.2293274238278844,-2.044223366346642,-1.7457148219541878,3.273161454466763,-8.239854978829035,-7.884051300104021,-4.574240766478033,-8.632720635828951,-8.330127541510638,1.3227798158937345,1.313591165797134,-8.305762972751987,-8.534384673810116,0.20245935523764708,-4.1218922175167245,-0.49747620253494085,3.6310987471599376,-2.380227269753974,-5.450703231825038,3.376635540259086,3.19444508602806,-0.4534647000653542,-1.6442129706900948,-1.3762902776654335,-1.7672481554747748,-5.485392560430042],\"type\":\"scatter3d\",\"uid\":\"86c43aa2-64e1-442c-aee6-286029e3c8eb\",\"hoverlabel\":{\"bgcolor\":[\"#25a485\",\"#209b89\",\"#21a088\",\"#209f88\",\"#25a485\",\"#29a982\",\"#28a982\",\"#2bac80\",\"#28a882\",\"#26a684\",\"#28a883\",\"#27a783\",\"#25a485\",\"#22a187\",\"#21a087\",\"#21a088\",\"#24a386\",\"#28a883\",\"#24a485\",\"#27a883\",\"#29aa81\",\"#26a684\",\"#29a982\",\"#26a684\",\"#2cad80\",\"#27a783\",\"#24a386\",\"#21a187\",\"#24a386\",\"#21a187\",\"#27a783\",\"#2bab80\",\"#2bab80\",\"#28a883\",\"#28a883\",\"#27a883\",\"#21968a\",\"#27a783\",\"#24a386\",\"#26a684\",\"#27a883\",\"#21a187\",\"#25a584\",\"#27a783\",\"#30b17d\",\"#24a485\",\"#1f9d89\",\"#21a187\",\"#25a584\",\"#21a187\",\"#29a982\",\"#24a485\",\"#27a783\",\"#25a585\",\"#25848e\",\"#27a783\",\"#24a386\",\"#209f89\",\"#22918b\",\"#25a585\",\"#21978a\",\"#25a585\",\"#22928b\",\"#209f88\",\"#2cad7f\",\"#28a982\",\"#28a982\",\"#28a882\",\"#24a485\",\"#25a585\",\"#28a883\",\"#24a485\",\"#22a187\",\"#2dae7f\",\"#440154\",\"#21a088\",\"#24a386\",\"#23a386\",\"#2bac80\",\"#23908c\",\"#21978a\",\"#33b57b\",\"#2dad7f\",\"#23a286\",\"#21978a\",\"#25a485\",\"#25a584\",\"#25858d\",\"#21958b\",\"#29a982\",\"#2aaa81\",\"#404386\",\"#45337e\",\"#25858d\",\"#40bb73\",\"#22918b\",\"#33628d\",\"#2b768e\",\"#2bab81\",\"#8ad446\",\"#d2e229\",\"#47be6e\",\"#4dc16b\",\"#fde725\"]}}],                        {\"autosize\":false,\"hovermode\":\"closest\",\"margin\":{\"b\":20,\"l\":5,\"r\":5,\"t\":40},\"scene\":{\"xaxis\":{\"showbackground\":false,\"showgrid\":false,\"showline\":false,\"showticklabels\":false,\"title\":{\"text\":\"\"},\"zeroline\":false},\"yaxis\":{\"showbackground\":false,\"showgrid\":false,\"showline\":false,\"showticklabels\":false,\"title\":{\"text\":\"\"},\"zeroline\":false},\"zaxis\":{\"showbackground\":false,\"showgrid\":false,\"showline\":false,\"showticklabels\":false,\"title\":{\"text\":\"\"},\"zeroline\":false}},\"showlegend\":false,\"title\":{\"text\":\"\"},\"template\":{\"data\":{\"barpolar\":[{\"marker\":{\"line\":{\"color\":\"#E5ECF6\",\"width\":0.5},\"pattern\":{\"fillmode\":\"overlay\",\"size\":10,\"solidity\":0.2}},\"type\":\"barpolar\"}],\"bar\":[{\"error_x\":{\"color\":\"#2a3f5f\"},\"error_y\":{\"color\":\"#2a3f5f\"},\"marker\":{\"line\":{\"color\":\"#E5ECF6\",\"width\":0.5},\"pattern\":{\"fillmode\":\"overlay\",\"size\":10,\"solidity\":0.2}},\"type\":\"bar\"}],\"carpet\":[{\"aaxis\":{\"endlinecolor\":\"#2a3f5f\",\"gridcolor\":\"white\",\"linecolor\":\"white\",\"minorgridcolor\":\"white\",\"startlinecolor\":\"#2a3f5f\"},\"baxis\":{\"endlinecolor\":\"#2a3f5f\",\"gridcolor\":\"white\",\"linecolor\":\"white\",\"minorgridcolor\":\"white\",\"startlinecolor\":\"#2a3f5f\"},\"type\":\"carpet\"}],\"choropleth\":[{\"colorbar\":{\"outlinewidth\":0,\"ticks\":\"\"},\"type\":\"choropleth\"}],\"contourcarpet\":[{\"colorbar\":{\"outlinewidth\":0,\"ticks\":\"\"},\"type\":\"contourcarpet\"}],\"contour\":[{\"colorbar\":{\"outlinewidth\":0,\"ticks\":\"\"},\"colorscale\":[[0.0,\"#0d0887\"],[0.1111111111111111,\"#46039f\"],[0.2222222222222222,\"#7201a8\"],[0.3333333333333333,\"#9c179e\"],[0.4444444444444444,\"#bd3786\"],[0.5555555555555556,\"#d8576b\"],[0.6666666666666666,\"#ed7953\"],[0.7777777777777778,\"#fb9f3a\"],[0.8888888888888888,\"#fdca26\"],[1.0,\"#f0f921\"]],\"type\":\"contour\"}],\"heatmapgl\":[{\"colorbar\":{\"outlinewidth\":0,\"ticks\":\"\"},\"colorscale\":[[0.0,\"#0d0887\"],[0.1111111111111111,\"#46039f\"],[0.2222222222222222,\"#7201a8\"],[0.3333333333333333,\"#9c179e\"],[0.4444444444444444,\"#bd3786\"],[0.5555555555555556,\"#d8576b\"],[0.6666666666666666,\"#ed7953\"],[0.7777777777777778,\"#fb9f3a\"],[0.8888888888888888,\"#fdca26\"],[1.0,\"#f0f921\"]],\"type\":\"heatmapgl\"}],\"heatmap\":[{\"colorbar\":{\"outlinewidth\":0,\"ticks\":\"\"},\"colorscale\":[[0.0,\"#0d0887\"],[0.1111111111111111,\"#46039f\"],[0.2222222222222222,\"#7201a8\"],[0.3333333333333333,\"#9c179e\"],[0.4444444444444444,\"#bd3786\"],[0.5555555555555556,\"#d8576b\"],[0.6666666666666666,\"#ed7953\"],[0.7777777777777778,\"#fb9f3a\"],[0.8888888888888888,\"#fdca26\"],[1.0,\"#f0f921\"]],\"type\":\"heatmap\"}],\"histogram2dcontour\":[{\"colorbar\":{\"outlinewidth\":0,\"ticks\":\"\"},\"colorscale\":[[0.0,\"#0d0887\"],[0.1111111111111111,\"#46039f\"],[0.2222222222222222,\"#7201a8\"],[0.3333333333333333,\"#9c179e\"],[0.4444444444444444,\"#bd3786\"],[0.5555555555555556,\"#d8576b\"],[0.6666666666666666,\"#ed7953\"],[0.7777777777777778,\"#fb9f3a\"],[0.8888888888888888,\"#fdca26\"],[1.0,\"#f0f921\"]],\"type\":\"histogram2dcontour\"}],\"histogram2d\":[{\"colorbar\":{\"outlinewidth\":0,\"ticks\":\"\"},\"colorscale\":[[0.0,\"#0d0887\"],[0.1111111111111111,\"#46039f\"],[0.2222222222222222,\"#7201a8\"],[0.3333333333333333,\"#9c179e\"],[0.4444444444444444,\"#bd3786\"],[0.5555555555555556,\"#d8576b\"],[0.6666666666666666,\"#ed7953\"],[0.7777777777777778,\"#fb9f3a\"],[0.8888888888888888,\"#fdca26\"],[1.0,\"#f0f921\"]],\"type\":\"histogram2d\"}],\"histogram\":[{\"marker\":{\"pattern\":{\"fillmode\":\"overlay\",\"size\":10,\"solidity\":0.2}},\"type\":\"histogram\"}],\"mesh3d\":[{\"colorbar\":{\"outlinewidth\":0,\"ticks\":\"\"},\"type\":\"mesh3d\"}],\"parcoords\":[{\"line\":{\"colorbar\":{\"outlinewidth\":0,\"ticks\":\"\"}},\"type\":\"parcoords\"}],\"pie\":[{\"automargin\":true,\"type\":\"pie\"}],\"scatter3d\":[{\"line\":{\"colorbar\":{\"outlinewidth\":0,\"ticks\":\"\"}},\"marker\":{\"colorbar\":{\"outlinewidth\":0,\"ticks\":\"\"}},\"type\":\"scatter3d\"}],\"scattercarpet\":[{\"marker\":{\"colorbar\":{\"outlinewidth\":0,\"ticks\":\"\"}},\"type\":\"scattercarpet\"}],\"scattergeo\":[{\"marker\":{\"colorbar\":{\"outlinewidth\":0,\"ticks\":\"\"}},\"type\":\"scattergeo\"}],\"scattergl\":[{\"marker\":{\"colorbar\":{\"outlinewidth\":0,\"ticks\":\"\"}},\"type\":\"scattergl\"}],\"scattermapbox\":[{\"marker\":{\"colorbar\":{\"outlinewidth\":0,\"ticks\":\"\"}},\"type\":\"scattermapbox\"}],\"scatterpolargl\":[{\"marker\":{\"colorbar\":{\"outlinewidth\":0,\"ticks\":\"\"}},\"type\":\"scatterpolargl\"}],\"scatterpolar\":[{\"marker\":{\"colorbar\":{\"outlinewidth\":0,\"ticks\":\"\"}},\"type\":\"scatterpolar\"}],\"scatter\":[{\"marker\":{\"colorbar\":{\"outlinewidth\":0,\"ticks\":\"\"}},\"type\":\"scatter\"}],\"scatterternary\":[{\"marker\":{\"colorbar\":{\"outlinewidth\":0,\"ticks\":\"\"}},\"type\":\"scatterternary\"}],\"surface\":[{\"colorbar\":{\"outlinewidth\":0,\"ticks\":\"\"},\"colorscale\":[[0.0,\"#0d0887\"],[0.1111111111111111,\"#46039f\"],[0.2222222222222222,\"#7201a8\"],[0.3333333333333333,\"#9c179e\"],[0.4444444444444444,\"#bd3786\"],[0.5555555555555556,\"#d8576b\"],[0.6666666666666666,\"#ed7953\"],[0.7777777777777778,\"#fb9f3a\"],[0.8888888888888888,\"#fdca26\"],[1.0,\"#f0f921\"]],\"type\":\"surface\"}],\"table\":[{\"cells\":{\"fill\":{\"color\":\"#EBF0F8\"},\"line\":{\"color\":\"white\"}},\"header\":{\"fill\":{\"color\":\"#C8D4E3\"},\"line\":{\"color\":\"white\"}},\"type\":\"table\"}]},\"layout\":{\"annotationdefaults\":{\"arrowcolor\":\"#2a3f5f\",\"arrowhead\":0,\"arrowwidth\":1},\"autotypenumbers\":\"strict\",\"coloraxis\":{\"colorbar\":{\"outlinewidth\":0,\"ticks\":\"\"}},\"colorscale\":{\"diverging\":[[0,\"#8e0152\"],[0.1,\"#c51b7d\"],[0.2,\"#de77ae\"],[0.3,\"#f1b6da\"],[0.4,\"#fde0ef\"],[0.5,\"#f7f7f7\"],[0.6,\"#e6f5d0\"],[0.7,\"#b8e186\"],[0.8,\"#7fbc41\"],[0.9,\"#4d9221\"],[1,\"#276419\"]],\"sequential\":[[0.0,\"#0d0887\"],[0.1111111111111111,\"#46039f\"],[0.2222222222222222,\"#7201a8\"],[0.3333333333333333,\"#9c179e\"],[0.4444444444444444,\"#bd3786\"],[0.5555555555555556,\"#d8576b\"],[0.6666666666666666,\"#ed7953\"],[0.7777777777777778,\"#fb9f3a\"],[0.8888888888888888,\"#fdca26\"],[1.0,\"#f0f921\"]],\"sequentialminus\":[[0.0,\"#0d0887\"],[0.1111111111111111,\"#46039f\"],[0.2222222222222222,\"#7201a8\"],[0.3333333333333333,\"#9c179e\"],[0.4444444444444444,\"#bd3786\"],[0.5555555555555556,\"#d8576b\"],[0.6666666666666666,\"#ed7953\"],[0.7777777777777778,\"#fb9f3a\"],[0.8888888888888888,\"#fdca26\"],[1.0,\"#f0f921\"]]},\"colorway\":[\"#636efa\",\"#EF553B\",\"#00cc96\",\"#ab63fa\",\"#FFA15A\",\"#19d3f3\",\"#FF6692\",\"#B6E880\",\"#FF97FF\",\"#FECB52\"],\"font\":{\"color\":\"#2a3f5f\"},\"geo\":{\"bgcolor\":\"white\",\"lakecolor\":\"white\",\"landcolor\":\"#E5ECF6\",\"showlakes\":true,\"showland\":true,\"subunitcolor\":\"white\"},\"hoverlabel\":{\"align\":\"left\"},\"hovermode\":\"closest\",\"mapbox\":{\"style\":\"light\"},\"paper_bgcolor\":\"white\",\"plot_bgcolor\":\"#E5ECF6\",\"polar\":{\"angularaxis\":{\"gridcolor\":\"white\",\"linecolor\":\"white\",\"ticks\":\"\"},\"bgcolor\":\"#E5ECF6\",\"radialaxis\":{\"gridcolor\":\"white\",\"linecolor\":\"white\",\"ticks\":\"\"}},\"scene\":{\"xaxis\":{\"backgroundcolor\":\"#E5ECF6\",\"gridcolor\":\"white\",\"gridwidth\":2,\"linecolor\":\"white\",\"showbackground\":true,\"ticks\":\"\",\"zerolinecolor\":\"white\"},\"yaxis\":{\"backgroundcolor\":\"#E5ECF6\",\"gridcolor\":\"white\",\"gridwidth\":2,\"linecolor\":\"white\",\"showbackground\":true,\"ticks\":\"\",\"zerolinecolor\":\"white\"},\"zaxis\":{\"backgroundcolor\":\"#E5ECF6\",\"gridcolor\":\"white\",\"gridwidth\":2,\"linecolor\":\"white\",\"showbackground\":true,\"ticks\":\"\",\"zerolinecolor\":\"white\"}},\"shapedefaults\":{\"line\":{\"color\":\"#2a3f5f\"}},\"ternary\":{\"aaxis\":{\"gridcolor\":\"white\",\"linecolor\":\"white\",\"ticks\":\"\"},\"baxis\":{\"gridcolor\":\"white\",\"linecolor\":\"white\",\"ticks\":\"\"},\"bgcolor\":\"#E5ECF6\",\"caxis\":{\"gridcolor\":\"white\",\"linecolor\":\"white\",\"ticks\":\"\"}},\"title\":{\"x\":0.05},\"xaxis\":{\"automargin\":true,\"gridcolor\":\"white\",\"linecolor\":\"white\",\"ticks\":\"\",\"title\":{\"standoff\":15},\"zerolinecolor\":\"white\",\"zerolinewidth\":2},\"yaxis\":{\"automargin\":true,\"gridcolor\":\"white\",\"linecolor\":\"white\",\"ticks\":\"\",\"title\":{\"standoff\":15},\"zerolinecolor\":\"white\",\"zerolinewidth\":2}}}},                        {\"scrollZoom\": true, \"responsive\": true}                    ).then(function(){\n",
       "                            \n",
       "var gd = document.getElementById('8e835d60-741e-46ea-b9fb-2c178c84f269');\n",
       "var x = new MutationObserver(function (mutations, observer) {{\n",
       "        var display = window.getComputedStyle(gd).display;\n",
       "        if (!display || display === 'none') {{\n",
       "            console.log([gd, 'removed!']);\n",
       "            Plotly.purge(gd);\n",
       "            observer.disconnect();\n",
       "        }}\n",
       "}});\n",
       "\n",
       "// Listen for the removal of the full notebook cells\n",
       "var notebookContainer = gd.closest('#notebook-container');\n",
       "if (notebookContainer) {{\n",
       "    x.observe(notebookContainer, {childList: true});\n",
       "}}\n",
       "\n",
       "// Listen for the clearing of the current output cell\n",
       "var outputEl = gd.closest('.output');\n",
       "if (outputEl) {{\n",
       "    x.observe(outputEl, {childList: true});\n",
       "}}\n",
       "\n",
       "                        })                };                });            </script>        </div>"
      ]
     },
     "metadata": {},
     "output_type": "display_data"
    }
   ],
   "source": [
    "fig = plot_static_mapper_graph(pipe, embeddingsF, layout_dim=3)\n",
    "fig.show(config={'scrollZoom': True})"
   ]
  },
  {
   "cell_type": "code",
   "execution_count": 59,
   "id": "ec493d5f",
   "metadata": {},
   "outputs": [],
   "source": [
    "MIPM = MapperInteractivePlotter(pipe, embeddingsM)\n",
    "MIPF = MapperInteractivePlotter(pipe, embeddingsF)"
   ]
  },
  {
   "cell_type": "code",
   "execution_count": 60,
   "id": "b29bb05c",
   "metadata": {},
   "outputs": [
    {
     "name": "stdout",
     "output_type": "stream",
     "text": [
      "Attributes created by `.plot` and updated during the interactive session:\n",
      " ['color_features_', 'figure_', 'graph_', 'node_summaries_', 'pipeline_']\n",
      "Attributes created by `.plot` and updated during the interactive session:\n",
      " ['color_features_', 'figure_', 'graph_', 'node_summaries_', 'pipeline_']\n",
      "There are 60 nodes.\n",
      "The first node consists of row indices [    0    23    24 ... 12223 12253 12278].\n"
     ]
    }
   ],
   "source": [
    "print(\"Attributes created by `.plot` and updated during the interactive session:\\n\",\n",
    "      [attr for attr in dir(MIPM) if attr.endswith(\"_\") and attr[0] != \"_\"])\n",
    "\n",
    "print(\"Attributes created by `.plot` and updated during the interactive session:\\n\",\n",
    "      [attr for attr in dir(MIPF) if attr.endswith(\"_\") and attr[0] != \"_\"])\n",
    "\n",
    "graph = pipe.fit_transform(embeddingsM)\n",
    "node_elements = graph.vs[\"node_elements\"]\n",
    "print(f\"There are {len(node_elements)} nodes.\\nThe first node consists of row indices {node_elements[0]}.\")\n",
    "\n"
   ]
  },
  {
   "cell_type": "code",
   "execution_count": 61,
   "id": "9c646533",
   "metadata": {},
   "outputs": [
    {
     "name": "stdout",
     "output_type": "stream",
     "text": [
      "There are 104 nodes.\n",
      "The first node consists of row indices [    0     3     4 ... 25471 25526 25531].\n"
     ]
    }
   ],
   "source": [
    "graph = pipe.fit_transform(embeddingsF)\n",
    "node_elements = graph.vs[\"node_elements\"]\n",
    "print(f\"There are {len(node_elements)} nodes.\\nThe first node consists of row indices {node_elements[0]}.\")"
   ]
  },
  {
   "cell_type": "code",
   "execution_count": 62,
   "id": "d01cb316",
   "metadata": {},
   "outputs": [
    {
     "data": {
      "text/html": [
       "<div>\n",
       "<style scoped>\n",
       "    .dataframe tbody tr th:only-of-type {\n",
       "        vertical-align: middle;\n",
       "    }\n",
       "\n",
       "    .dataframe tbody tr th {\n",
       "        vertical-align: top;\n",
       "    }\n",
       "\n",
       "    .dataframe thead th {\n",
       "        text-align: right;\n",
       "    }\n",
       "</style>\n",
       "<table border=\"1\" class=\"dataframe\">\n",
       "  <thead>\n",
       "    <tr style=\"text-align: right;\">\n",
       "      <th></th>\n",
       "      <th>x</th>\n",
       "      <th>y</th>\n",
       "    </tr>\n",
       "  </thead>\n",
       "  <tbody>\n",
       "    <tr>\n",
       "      <th>0</th>\n",
       "      <td>7.375353</td>\n",
       "      <td>10.309052</td>\n",
       "    </tr>\n",
       "    <tr>\n",
       "      <th>1</th>\n",
       "      <td>9.034032</td>\n",
       "      <td>10.221829</td>\n",
       "    </tr>\n",
       "    <tr>\n",
       "      <th>2</th>\n",
       "      <td>0.865867</td>\n",
       "      <td>7.998778</td>\n",
       "    </tr>\n",
       "    <tr>\n",
       "      <th>3</th>\n",
       "      <td>9.138630</td>\n",
       "      <td>10.773139</td>\n",
       "    </tr>\n",
       "    <tr>\n",
       "      <th>4</th>\n",
       "      <td>7.827287</td>\n",
       "      <td>11.530293</td>\n",
       "    </tr>\n",
       "  </tbody>\n",
       "</table>\n",
       "</div>"
      ],
      "text/plain": [
       "          x          y\n",
       "0  7.375353  10.309052\n",
       "1  9.034032  10.221829\n",
       "2  0.865867   7.998778\n",
       "3  9.138630  10.773139\n",
       "4  7.827287  11.530293"
      ]
     },
     "execution_count": 62,
     "metadata": {},
     "output_type": "execute_result"
    }
   ],
   "source": [
    "dfM = pd.DataFrame(embeddingsM, columns=[\"x\", \"y\"])\n",
    "#dfM.head()\n",
    "dfF = pd.DataFrame(embeddingsF, columns=[\"x\", \"y\"])\n",
    "dfF.head()"
   ]
  },
  {
   "cell_type": "code",
   "execution_count": 63,
   "id": "f8c357d1",
   "metadata": {},
   "outputs": [],
   "source": [
    "pipe.set_params(filter_func=Projection(columns=[\"x\", \"y\"]));\n",
    "\n"
   ]
  },
  {
   "cell_type": "code",
   "execution_count": 64,
   "id": "6bd7f6fa",
   "metadata": {},
   "outputs": [],
   "source": [
    "dfM[\"Circle\"] = dfM[\"x\"] ** 2 + dfM[\"y\"] ** 2 < 0.25\n",
    "dfM[\"Circle\"] = dfM[\"Circle\"].replace([False, True], [\"A\", \"B\"])\n",
    "\n",
    "dfF[\"Circle\"] = dfF[\"x\"] ** 2 + dfF[\"y\"] ** 2 < 0.25\n",
    "dfF[\"Circle\"] = dfF[\"Circle\"].replace([False, True], [\"A\", \"B\"])"
   ]
  },
  {
   "cell_type": "code",
   "execution_count": 65,
   "id": "d25df9e9",
   "metadata": {},
   "outputs": [
    {
     "data": {
      "text/plain": [
       "['pullback_set_label', 'partial_cluster_label', 'node_elements']"
      ]
     },
     "execution_count": 65,
     "metadata": {},
     "output_type": "execute_result"
    }
   ],
   "source": [
    "graphM = pipe.fit_transform(dfM[[\"x\", \"y\"]])\n",
    "graphM.vs.attributes()"
   ]
  },
  {
   "cell_type": "code",
   "execution_count": 66,
   "id": "a7e8514b",
   "metadata": {},
   "outputs": [
    {
     "data": {
      "text/plain": [
       "['pullback_set_label', 'partial_cluster_label', 'node_elements']"
      ]
     },
     "execution_count": 66,
     "metadata": {},
     "output_type": "execute_result"
    }
   ],
   "source": [
    "graphF = pipe.fit_transform(dfF[[\"x\", \"y\"]])\n",
    "graphF.vs.attributes()"
   ]
  },
  {
   "cell_type": "code",
   "execution_count": 67,
   "id": "db32e8bb",
   "metadata": {},
   "outputs": [
    {
     "name": "stdout",
     "output_type": "stream",
     "text": [
      "\n",
      "Node ID: 0\n",
      "Node elements: [    0    23    24 ... 12218 12253 12278]\n",
      "Data points: [[11.663283  9.617425]\n",
      " [12.931302 10.365602]\n",
      " [12.471156  9.121324]\n",
      " ...\n",
      " [12.983233 10.193071]\n",
      " [12.758827  9.741889]\n",
      " [11.18316   9.719506]]\n",
      "\n"
     ]
    }
   ],
   "source": [
    "node_id = 0\n",
    "node_elementsM = graphM.vs[\"node_elements\"]\n",
    "\n",
    "print(f\"\"\"\n",
    "Node ID: {node_id}\n",
    "Node elements: {node_elementsM[node_id]}\n",
    "Data points: {embeddingsM[node_elementsM[node_id]]}\n",
    "\"\"\")"
   ]
  },
  {
   "cell_type": "code",
   "execution_count": 68,
   "id": "4c06a857",
   "metadata": {},
   "outputs": [
    {
     "name": "stdout",
     "output_type": "stream",
     "text": [
      "\n",
      "Node ID: 0\n",
      "Node elements: [    0     4    31 ... 25487 25525 25526]\n",
      "Data points: [[ 7.3753533 10.309052 ]\n",
      " [ 7.827287  11.530293 ]\n",
      " [ 7.315082  10.130991 ]\n",
      " ...\n",
      " [ 6.8700433 10.01657  ]\n",
      " [ 6.951774   9.788628 ]\n",
      " [ 7.3392887 10.097902 ]]\n",
      "\n"
     ]
    }
   ],
   "source": [
    "node_id = 0\n",
    "node_elementsF = graphF.vs[\"node_elements\"]\n",
    "\n",
    "print(f\"\"\"\n",
    "Node ID: {node_id}\n",
    "Node elements: {node_elementsF[node_id]}\n",
    "Data points: {embeddingsF[node_elementsF[node_id]]}\n",
    "\"\"\")"
   ]
  },
  {
   "cell_type": "code",
   "execution_count": 69,
   "id": "57e8d551",
   "metadata": {},
   "outputs": [],
   "source": [
    "filter_func = np.sum\n",
    "\n",
    "pipe = make_mapper_pipeline(\n",
    "    filter_func=filter_func,\n",
    "    cover=cover,\n",
    "    clusterer=model,\n",
    "    verbose=True,\n",
    "    n_jobs=n_jobs,\n",
    ")"
   ]
  },
  {
   "cell_type": "code",
   "execution_count": 70,
   "id": "d7176825",
   "metadata": {},
   "outputs": [
    {
     "name": "stdout",
     "output_type": "stream",
     "text": [
      "[Pipeline] ............ (step 1 of 3) Processing scaler, total=   0.0s\n",
      "[Pipeline] ....... (step 2 of 3) Processing filter_func, total=   0.0s\n",
      "[Pipeline] ............. (step 3 of 3) Processing cover, total=   0.0s\n",
      "[Pipeline] .... (step 1 of 3) Processing pullback_cover, total=   0.1s\n",
      "[Pipeline] ........ (step 2 of 3) Processing clustering, total=   0.3s\n",
      "[Pipeline] ............. (step 3 of 3) Processing nerve, total=   0.0s\n"
     ]
    },
    {
     "data": {
      "application/vnd.plotly.v1+json": {
       "config": {
        "plotlyServerURL": "https://plot.ly",
        "scrollZoom": true
       },
       "data": [
        {
         "hoverinfo": "none",
         "line": {
          "color": "#888",
          "width": 1
         },
         "mode": "lines",
         "name": "edge_trace",
         "type": "scatter",
         "uid": "4814ec3e-9c09-4fd2-b469-4dede1198916",
         "x": [
          1.723298654642239,
          1.106574607149933,
          null,
          1.723298654642239,
          2.495968434925538,
          null,
          1.723298654642239,
          1.8616204377410113,
          null,
          -1.1621995272057488,
          -0.38940392445370914,
          null,
          -1.1621995272057488,
          -1.9540569002620747,
          null,
          -1.1621995272057488,
          -1.5475174669878438,
          null,
          -1.1621995272057488,
          -1.703696995945007,
          null,
          -1.1621995272057488,
          -1.020988363824018,
          null,
          1.106574607149933,
          0.3529522075913693,
          null,
          1.106574607149933,
          1.6028693743162379,
          null,
          1.106574607149933,
          0.7958312319742117,
          null,
          0.3529522075913693,
          -0.38940392445370914,
          null,
          -1.5895583089735803,
          -0.9662795150082827,
          null,
          1.6028693743162379,
          2.2191047452469577,
          null
         ],
         "y": [
          -0.3787022972618587,
          0.17842593539567952,
          null,
          -0.3787022972618587,
          -0.3967198526254559,
          null,
          -0.3787022972618587,
          -1.1491933388738202,
          null,
          0.9964510294552065,
          0.7388762782248929,
          null,
          0.9964510294552065,
          0.8772043388146002,
          null,
          0.9964510294552065,
          0.3092422132919637,
          null,
          0.9964510294552065,
          1.5807266478387165,
          null,
          0.9964510294552065,
          1.7711019063531979,
          null,
          0.17842593539567952,
          0.5007352556291876,
          null,
          0.17842593539567952,
          0.7927629545853774,
          null,
          0.17842593539567952,
          -0.5067909554785777,
          null,
          0.5007352556291876,
          0.7388762782248929,
          null,
          -2.4624472819164365,
          -2.7588976368597744,
          null,
          0.7927629545853774,
          1.2120856340538175,
          null
         ]
        },
        {
         "hoverinfo": "text",
         "hovertext": [
          "Node ID: 0<br>Pullback set label: 7<br>Partial cluster label: 0<br>Node size: 2849<br>Summary statistic: 6050.0",
          "Node ID: 1<br>Pullback set label: 3<br>Partial cluster label: 0<br>Node size: 1270<br>Summary statistic: 6240.0",
          "Node ID: 2<br>Pullback set label: 6<br>Partial cluster label: 0<br>Node size: 3976<br>Summary statistic: 6140.0",
          "Node ID: 3<br>Pullback set label: 5<br>Partial cluster label: 0<br>Node size: 3981<br>Summary statistic: 6250.0",
          "Node ID: 4<br>Pullback set label: 4<br>Partial cluster label: 0<br>Node size: 2885<br>Summary statistic: 6220.0",
          "Node ID: 5<br>Pullback set label: 8<br>Partial cluster label: 0<br>Node size: 1463<br>Summary statistic: 6060.0",
          "Node ID: 6<br>Pullback set label: 2<br>Partial cluster label: 0<br>Node size: 87<br>Summary statistic: 6260.0",
          "Node ID: 7<br>Pullback set label: 2<br>Partial cluster label: -1<br>Node size: 12<br>Summary statistic: 6940.0",
          "Node ID: 8<br>Pullback set label: 2<br>Partial cluster label: 1<br>Node size: 152<br>Summary statistic: 6280.0",
          "Node ID: 9<br>Pullback set label: 2<br>Partial cluster label: 2<br>Node size: 66<br>Summary statistic: 6040.0",
          "Node ID: 10<br>Pullback set label: 0<br>Partial cluster label: 0<br>Node size: 231<br>Summary statistic: 5910.0",
          "Node ID: 11<br>Pullback set label: 8<br>Partial cluster label: -1<br>Node size: 16<br>Summary statistic: 5650.0",
          "Node ID: 12<br>Pullback set label: 8<br>Partial cluster label: 1<br>Node size: 104<br>Summary statistic: 6210.0",
          "Node ID: 13<br>Pullback set label: 1<br>Partial cluster label: -1<br>Node size: 20<br>Summary statistic: 6220.0",
          "Node ID: 14<br>Pullback set label: 7<br>Partial cluster label: 1<br>Node size: 39<br>Summary statistic: 6740.0",
          "Node ID: 15<br>Pullback set label: 7<br>Partial cluster label: -1<br>Node size: 1<br>Summary statistic: 3960.0",
          "Node ID: 16<br>Pullback set label: 4<br>Partial cluster label: -1<br>Node size: 1<br>Summary statistic: 5980.0",
          "Node ID: 17<br>Pullback set label: 6<br>Partial cluster label: -1<br>Node size: 4<br>Summary statistic: 8850.0"
         ],
         "marker": {
          "color": [
           6052.55071955072,
           6237.98188976378,
           6135.068410462776,
           6251.9432303441345,
           6220.616291161178,
           6059.149008885851,
           6257.0344827586205,
           6937.75,
           6279.3026315789475,
           6039.151515151515,
           5913.917748917749,
           5652.875,
           6212.403846153846,
           6216.6,
           6739.410256410257,
           3955,
           5983,
           8845.75
          ],
          "colorbar": {
           "thickness": 15,
           "title": {
            "side": "right",
            "text": ""
           },
           "xanchor": "left"
          },
          "colorscale": [
           [
            0,
            "#440154"
           ],
           [
            0.1111111111111111,
            "#482878"
           ],
           [
            0.2222222222222222,
            "#3e4989"
           ],
           [
            0.3333333333333333,
            "#31688e"
           ],
           [
            0.4444444444444444,
            "#26828e"
           ],
           [
            0.5555555555555556,
            "#1f9e89"
           ],
           [
            0.6666666666666666,
            "#35b779"
           ],
           [
            0.7777777777777778,
            "#6ece58"
           ],
           [
            0.8888888888888888,
            "#b5de2b"
           ],
           [
            1,
            "#fde725"
           ]
          ],
          "line": {
           "color": "#888",
           "width": 1
          },
          "opacity": 1,
          "reversescale": false,
          "showscale": true,
          "size": [
           2849,
           1270,
           3976,
           3981,
           2885,
           1463,
           87,
           12,
           152,
           66,
           231,
           16,
           104,
           20,
           39,
           1,
           1,
           4
          ],
          "sizemin": 4,
          "sizemode": "area",
          "sizeref": 55.291666666666664
         },
         "mode": "markers",
         "name": "node_trace",
         "type": "scatter",
         "uid": "a76a8f01-fe65-4089-b323-9b73cfbf03e0",
         "x": [
          1.723298654642239,
          -1.1621995272057488,
          1.106574607149933,
          0.3529522075913693,
          -0.38940392445370914,
          2.495968434925538,
          -1.5895583089735803,
          -1.9540569002620747,
          -1.5475174669878438,
          -1.703696995945007,
          -0.17434912402487132,
          2.1273265079088306,
          1.8616204377410113,
          -0.9662795150082827,
          1.6028693743162379,
          0.7958312319742117,
          -1.020988363824018,
          2.2191047452469577
         ],
         "y": [
          -0.3787022972618587,
          0.9964510294552065,
          0.17842593539567952,
          0.5007352556291876,
          0.7388762782248929,
          -0.3967198526254559,
          -2.4624472819164365,
          0.8772043388146002,
          0.3092422132919637,
          1.5807266478387165,
          4.024774854269196,
          3.4836530862983937,
          -1.1491933388738202,
          -2.7588976368597744,
          0.7927629545853774,
          -0.5067909554785777,
          1.7711019063531979,
          1.2120856340538175
         ]
        }
       ],
       "layout": {
        "autosize": false,
        "hovermode": "closest",
        "margin": {
         "b": 20,
         "l": 5,
         "r": 5,
         "t": 40
        },
        "showlegend": false,
        "template": {
         "data": {
          "bar": [
           {
            "error_x": {
             "color": "rgb(36,36,36)"
            },
            "error_y": {
             "color": "rgb(36,36,36)"
            },
            "marker": {
             "line": {
              "color": "white",
              "width": 0.5
             },
             "pattern": {
              "fillmode": "overlay",
              "size": 10,
              "solidity": 0.2
             }
            },
            "type": "bar"
           }
          ],
          "barpolar": [
           {
            "marker": {
             "line": {
              "color": "white",
              "width": 0.5
             },
             "pattern": {
              "fillmode": "overlay",
              "size": 10,
              "solidity": 0.2
             }
            },
            "type": "barpolar"
           }
          ],
          "carpet": [
           {
            "aaxis": {
             "endlinecolor": "rgb(36,36,36)",
             "gridcolor": "white",
             "linecolor": "white",
             "minorgridcolor": "white",
             "startlinecolor": "rgb(36,36,36)"
            },
            "baxis": {
             "endlinecolor": "rgb(36,36,36)",
             "gridcolor": "white",
             "linecolor": "white",
             "minorgridcolor": "white",
             "startlinecolor": "rgb(36,36,36)"
            },
            "type": "carpet"
           }
          ],
          "choropleth": [
           {
            "colorbar": {
             "outlinewidth": 1,
             "tickcolor": "rgb(36,36,36)",
             "ticks": "outside"
            },
            "type": "choropleth"
           }
          ],
          "contour": [
           {
            "colorbar": {
             "outlinewidth": 1,
             "tickcolor": "rgb(36,36,36)",
             "ticks": "outside"
            },
            "colorscale": [
             [
              0,
              "#440154"
             ],
             [
              0.1111111111111111,
              "#482878"
             ],
             [
              0.2222222222222222,
              "#3e4989"
             ],
             [
              0.3333333333333333,
              "#31688e"
             ],
             [
              0.4444444444444444,
              "#26828e"
             ],
             [
              0.5555555555555556,
              "#1f9e89"
             ],
             [
              0.6666666666666666,
              "#35b779"
             ],
             [
              0.7777777777777778,
              "#6ece58"
             ],
             [
              0.8888888888888888,
              "#b5de2b"
             ],
             [
              1,
              "#fde725"
             ]
            ],
            "type": "contour"
           }
          ],
          "contourcarpet": [
           {
            "colorbar": {
             "outlinewidth": 1,
             "tickcolor": "rgb(36,36,36)",
             "ticks": "outside"
            },
            "type": "contourcarpet"
           }
          ],
          "heatmap": [
           {
            "colorbar": {
             "outlinewidth": 1,
             "tickcolor": "rgb(36,36,36)",
             "ticks": "outside"
            },
            "colorscale": [
             [
              0,
              "#440154"
             ],
             [
              0.1111111111111111,
              "#482878"
             ],
             [
              0.2222222222222222,
              "#3e4989"
             ],
             [
              0.3333333333333333,
              "#31688e"
             ],
             [
              0.4444444444444444,
              "#26828e"
             ],
             [
              0.5555555555555556,
              "#1f9e89"
             ],
             [
              0.6666666666666666,
              "#35b779"
             ],
             [
              0.7777777777777778,
              "#6ece58"
             ],
             [
              0.8888888888888888,
              "#b5de2b"
             ],
             [
              1,
              "#fde725"
             ]
            ],
            "type": "heatmap"
           }
          ],
          "heatmapgl": [
           {
            "colorbar": {
             "outlinewidth": 1,
             "tickcolor": "rgb(36,36,36)",
             "ticks": "outside"
            },
            "colorscale": [
             [
              0,
              "#440154"
             ],
             [
              0.1111111111111111,
              "#482878"
             ],
             [
              0.2222222222222222,
              "#3e4989"
             ],
             [
              0.3333333333333333,
              "#31688e"
             ],
             [
              0.4444444444444444,
              "#26828e"
             ],
             [
              0.5555555555555556,
              "#1f9e89"
             ],
             [
              0.6666666666666666,
              "#35b779"
             ],
             [
              0.7777777777777778,
              "#6ece58"
             ],
             [
              0.8888888888888888,
              "#b5de2b"
             ],
             [
              1,
              "#fde725"
             ]
            ],
            "type": "heatmapgl"
           }
          ],
          "histogram": [
           {
            "marker": {
             "line": {
              "color": "white",
              "width": 0.6
             }
            },
            "type": "histogram"
           }
          ],
          "histogram2d": [
           {
            "colorbar": {
             "outlinewidth": 1,
             "tickcolor": "rgb(36,36,36)",
             "ticks": "outside"
            },
            "colorscale": [
             [
              0,
              "#440154"
             ],
             [
              0.1111111111111111,
              "#482878"
             ],
             [
              0.2222222222222222,
              "#3e4989"
             ],
             [
              0.3333333333333333,
              "#31688e"
             ],
             [
              0.4444444444444444,
              "#26828e"
             ],
             [
              0.5555555555555556,
              "#1f9e89"
             ],
             [
              0.6666666666666666,
              "#35b779"
             ],
             [
              0.7777777777777778,
              "#6ece58"
             ],
             [
              0.8888888888888888,
              "#b5de2b"
             ],
             [
              1,
              "#fde725"
             ]
            ],
            "type": "histogram2d"
           }
          ],
          "histogram2dcontour": [
           {
            "colorbar": {
             "outlinewidth": 1,
             "tickcolor": "rgb(36,36,36)",
             "ticks": "outside"
            },
            "colorscale": [
             [
              0,
              "#440154"
             ],
             [
              0.1111111111111111,
              "#482878"
             ],
             [
              0.2222222222222222,
              "#3e4989"
             ],
             [
              0.3333333333333333,
              "#31688e"
             ],
             [
              0.4444444444444444,
              "#26828e"
             ],
             [
              0.5555555555555556,
              "#1f9e89"
             ],
             [
              0.6666666666666666,
              "#35b779"
             ],
             [
              0.7777777777777778,
              "#6ece58"
             ],
             [
              0.8888888888888888,
              "#b5de2b"
             ],
             [
              1,
              "#fde725"
             ]
            ],
            "type": "histogram2dcontour"
           }
          ],
          "mesh3d": [
           {
            "colorbar": {
             "outlinewidth": 1,
             "tickcolor": "rgb(36,36,36)",
             "ticks": "outside"
            },
            "type": "mesh3d"
           }
          ],
          "parcoords": [
           {
            "line": {
             "colorbar": {
              "outlinewidth": 1,
              "tickcolor": "rgb(36,36,36)",
              "ticks": "outside"
             }
            },
            "type": "parcoords"
           }
          ],
          "pie": [
           {
            "automargin": true,
            "type": "pie"
           }
          ],
          "scatter": [
           {
            "marker": {
             "colorbar": {
              "outlinewidth": 1,
              "tickcolor": "rgb(36,36,36)",
              "ticks": "outside"
             }
            },
            "type": "scatter"
           }
          ],
          "scatter3d": [
           {
            "line": {
             "colorbar": {
              "outlinewidth": 1,
              "tickcolor": "rgb(36,36,36)",
              "ticks": "outside"
             }
            },
            "marker": {
             "colorbar": {
              "outlinewidth": 1,
              "tickcolor": "rgb(36,36,36)",
              "ticks": "outside"
             }
            },
            "type": "scatter3d"
           }
          ],
          "scattercarpet": [
           {
            "marker": {
             "colorbar": {
              "outlinewidth": 1,
              "tickcolor": "rgb(36,36,36)",
              "ticks": "outside"
             }
            },
            "type": "scattercarpet"
           }
          ],
          "scattergeo": [
           {
            "marker": {
             "colorbar": {
              "outlinewidth": 1,
              "tickcolor": "rgb(36,36,36)",
              "ticks": "outside"
             }
            },
            "type": "scattergeo"
           }
          ],
          "scattergl": [
           {
            "marker": {
             "colorbar": {
              "outlinewidth": 1,
              "tickcolor": "rgb(36,36,36)",
              "ticks": "outside"
             }
            },
            "type": "scattergl"
           }
          ],
          "scattermapbox": [
           {
            "marker": {
             "colorbar": {
              "outlinewidth": 1,
              "tickcolor": "rgb(36,36,36)",
              "ticks": "outside"
             }
            },
            "type": "scattermapbox"
           }
          ],
          "scatterpolar": [
           {
            "marker": {
             "colorbar": {
              "outlinewidth": 1,
              "tickcolor": "rgb(36,36,36)",
              "ticks": "outside"
             }
            },
            "type": "scatterpolar"
           }
          ],
          "scatterpolargl": [
           {
            "marker": {
             "colorbar": {
              "outlinewidth": 1,
              "tickcolor": "rgb(36,36,36)",
              "ticks": "outside"
             }
            },
            "type": "scatterpolargl"
           }
          ],
          "scatterternary": [
           {
            "marker": {
             "colorbar": {
              "outlinewidth": 1,
              "tickcolor": "rgb(36,36,36)",
              "ticks": "outside"
             }
            },
            "type": "scatterternary"
           }
          ],
          "surface": [
           {
            "colorbar": {
             "outlinewidth": 1,
             "tickcolor": "rgb(36,36,36)",
             "ticks": "outside"
            },
            "colorscale": [
             [
              0,
              "#440154"
             ],
             [
              0.1111111111111111,
              "#482878"
             ],
             [
              0.2222222222222222,
              "#3e4989"
             ],
             [
              0.3333333333333333,
              "#31688e"
             ],
             [
              0.4444444444444444,
              "#26828e"
             ],
             [
              0.5555555555555556,
              "#1f9e89"
             ],
             [
              0.6666666666666666,
              "#35b779"
             ],
             [
              0.7777777777777778,
              "#6ece58"
             ],
             [
              0.8888888888888888,
              "#b5de2b"
             ],
             [
              1,
              "#fde725"
             ]
            ],
            "type": "surface"
           }
          ],
          "table": [
           {
            "cells": {
             "fill": {
              "color": "rgb(237,237,237)"
             },
             "line": {
              "color": "white"
             }
            },
            "header": {
             "fill": {
              "color": "rgb(217,217,217)"
             },
             "line": {
              "color": "white"
             }
            },
            "type": "table"
           }
          ]
         },
         "layout": {
          "annotationdefaults": {
           "arrowhead": 0,
           "arrowwidth": 1
          },
          "autotypenumbers": "strict",
          "coloraxis": {
           "colorbar": {
            "outlinewidth": 1,
            "tickcolor": "rgb(36,36,36)",
            "ticks": "outside"
           }
          },
          "colorscale": {
           "diverging": [
            [
             0,
             "rgb(103,0,31)"
            ],
            [
             0.1,
             "rgb(178,24,43)"
            ],
            [
             0.2,
             "rgb(214,96,77)"
            ],
            [
             0.3,
             "rgb(244,165,130)"
            ],
            [
             0.4,
             "rgb(253,219,199)"
            ],
            [
             0.5,
             "rgb(247,247,247)"
            ],
            [
             0.6,
             "rgb(209,229,240)"
            ],
            [
             0.7,
             "rgb(146,197,222)"
            ],
            [
             0.8,
             "rgb(67,147,195)"
            ],
            [
             0.9,
             "rgb(33,102,172)"
            ],
            [
             1,
             "rgb(5,48,97)"
            ]
           ],
           "sequential": [
            [
             0,
             "#440154"
            ],
            [
             0.1111111111111111,
             "#482878"
            ],
            [
             0.2222222222222222,
             "#3e4989"
            ],
            [
             0.3333333333333333,
             "#31688e"
            ],
            [
             0.4444444444444444,
             "#26828e"
            ],
            [
             0.5555555555555556,
             "#1f9e89"
            ],
            [
             0.6666666666666666,
             "#35b779"
            ],
            [
             0.7777777777777778,
             "#6ece58"
            ],
            [
             0.8888888888888888,
             "#b5de2b"
            ],
            [
             1,
             "#fde725"
            ]
           ],
           "sequentialminus": [
            [
             0,
             "#440154"
            ],
            [
             0.1111111111111111,
             "#482878"
            ],
            [
             0.2222222222222222,
             "#3e4989"
            ],
            [
             0.3333333333333333,
             "#31688e"
            ],
            [
             0.4444444444444444,
             "#26828e"
            ],
            [
             0.5555555555555556,
             "#1f9e89"
            ],
            [
             0.6666666666666666,
             "#35b779"
            ],
            [
             0.7777777777777778,
             "#6ece58"
            ],
            [
             0.8888888888888888,
             "#b5de2b"
            ],
            [
             1,
             "#fde725"
            ]
           ]
          },
          "colorway": [
           "#1F77B4",
           "#FF7F0E",
           "#2CA02C",
           "#D62728",
           "#9467BD",
           "#8C564B",
           "#E377C2",
           "#7F7F7F",
           "#BCBD22",
           "#17BECF"
          ],
          "font": {
           "color": "rgb(36,36,36)"
          },
          "geo": {
           "bgcolor": "white",
           "lakecolor": "white",
           "landcolor": "white",
           "showlakes": true,
           "showland": true,
           "subunitcolor": "white"
          },
          "hoverlabel": {
           "align": "left"
          },
          "hovermode": "closest",
          "mapbox": {
           "style": "light"
          },
          "paper_bgcolor": "white",
          "plot_bgcolor": "white",
          "polar": {
           "angularaxis": {
            "gridcolor": "rgb(232,232,232)",
            "linecolor": "rgb(36,36,36)",
            "showgrid": false,
            "showline": true,
            "ticks": "outside"
           },
           "bgcolor": "white",
           "radialaxis": {
            "gridcolor": "rgb(232,232,232)",
            "linecolor": "rgb(36,36,36)",
            "showgrid": false,
            "showline": true,
            "ticks": "outside"
           }
          },
          "scene": {
           "xaxis": {
            "backgroundcolor": "white",
            "gridcolor": "rgb(232,232,232)",
            "gridwidth": 2,
            "linecolor": "rgb(36,36,36)",
            "showbackground": true,
            "showgrid": false,
            "showline": true,
            "ticks": "outside",
            "zeroline": false,
            "zerolinecolor": "rgb(36,36,36)"
           },
           "yaxis": {
            "backgroundcolor": "white",
            "gridcolor": "rgb(232,232,232)",
            "gridwidth": 2,
            "linecolor": "rgb(36,36,36)",
            "showbackground": true,
            "showgrid": false,
            "showline": true,
            "ticks": "outside",
            "zeroline": false,
            "zerolinecolor": "rgb(36,36,36)"
           },
           "zaxis": {
            "backgroundcolor": "white",
            "gridcolor": "rgb(232,232,232)",
            "gridwidth": 2,
            "linecolor": "rgb(36,36,36)",
            "showbackground": true,
            "showgrid": false,
            "showline": true,
            "ticks": "outside",
            "zeroline": false,
            "zerolinecolor": "rgb(36,36,36)"
           }
          },
          "shapedefaults": {
           "fillcolor": "black",
           "line": {
            "width": 0
           },
           "opacity": 0.3
          },
          "ternary": {
           "aaxis": {
            "gridcolor": "rgb(232,232,232)",
            "linecolor": "rgb(36,36,36)",
            "showgrid": false,
            "showline": true,
            "ticks": "outside"
           },
           "baxis": {
            "gridcolor": "rgb(232,232,232)",
            "linecolor": "rgb(36,36,36)",
            "showgrid": false,
            "showline": true,
            "ticks": "outside"
           },
           "bgcolor": "white",
           "caxis": {
            "gridcolor": "rgb(232,232,232)",
            "linecolor": "rgb(36,36,36)",
            "showgrid": false,
            "showline": true,
            "ticks": "outside"
           }
          },
          "title": {
           "x": 0.05
          },
          "xaxis": {
           "automargin": true,
           "gridcolor": "rgb(232,232,232)",
           "linecolor": "rgb(36,36,36)",
           "showgrid": false,
           "showline": true,
           "ticks": "outside",
           "title": {
            "standoff": 15
           },
           "zeroline": false,
           "zerolinecolor": "rgb(36,36,36)"
          },
          "yaxis": {
           "automargin": true,
           "gridcolor": "rgb(232,232,232)",
           "linecolor": "rgb(36,36,36)",
           "showgrid": false,
           "showline": true,
           "ticks": "outside",
           "title": {
            "standoff": 15
           },
           "zeroline": false,
           "zerolinecolor": "rgb(36,36,36)"
          }
         }
        },
        "title": {
         "text": ""
        },
        "xaxis": {
         "showgrid": false,
         "showline": false,
         "showticklabels": false,
         "ticks": "",
         "title": {
          "text": ""
         },
         "zeroline": false
        },
        "yaxis": {
         "showgrid": false,
         "showline": false,
         "showticklabels": false,
         "ticks": "",
         "title": {
          "text": ""
         },
         "zeroline": false
        }
       }
      },
      "text/html": [
       "<div>                            <div id=\"47946d27-2f78-4722-90e9-3e8448a3a454\" class=\"plotly-graph-div\" style=\"height:525px; width:100%;\"></div>            <script type=\"text/javascript\">                require([\"plotly\"], function(Plotly) {                    window.PLOTLYENV=window.PLOTLYENV || {};                                    if (document.getElementById(\"47946d27-2f78-4722-90e9-3e8448a3a454\")) {                    Plotly.newPlot(                        \"47946d27-2f78-4722-90e9-3e8448a3a454\",                        [{\"hoverinfo\":\"none\",\"line\":{\"color\":\"#888\",\"width\":1},\"mode\":\"lines\",\"name\":\"edge_trace\",\"x\":[1.723298654642239,1.106574607149933,null,1.723298654642239,2.495968434925538,null,1.723298654642239,1.8616204377410113,null,-1.1621995272057488,-0.38940392445370914,null,-1.1621995272057488,-1.9540569002620747,null,-1.1621995272057488,-1.5475174669878438,null,-1.1621995272057488,-1.703696995945007,null,-1.1621995272057488,-1.020988363824018,null,1.106574607149933,0.3529522075913693,null,1.106574607149933,1.6028693743162379,null,1.106574607149933,0.7958312319742117,null,0.3529522075913693,-0.38940392445370914,null,-1.5895583089735803,-0.9662795150082827,null,1.6028693743162379,2.2191047452469577,null],\"y\":[-0.3787022972618587,0.17842593539567952,null,-0.3787022972618587,-0.3967198526254559,null,-0.3787022972618587,-1.1491933388738202,null,0.9964510294552065,0.7388762782248929,null,0.9964510294552065,0.8772043388146002,null,0.9964510294552065,0.3092422132919637,null,0.9964510294552065,1.5807266478387165,null,0.9964510294552065,1.7711019063531979,null,0.17842593539567952,0.5007352556291876,null,0.17842593539567952,0.7927629545853774,null,0.17842593539567952,-0.5067909554785777,null,0.5007352556291876,0.7388762782248929,null,-2.4624472819164365,-2.7588976368597744,null,0.7927629545853774,1.2120856340538175,null],\"type\":\"scatter\",\"uid\":\"4814ec3e-9c09-4fd2-b469-4dede1198916\"},{\"hoverinfo\":\"text\",\"hovertext\":[\"Node ID: 0<br>Pullback set label: 7<br>Partial cluster label: 0<br>Node size: 2849<br>Summary statistic: 6050.0\",\"Node ID: 1<br>Pullback set label: 3<br>Partial cluster label: 0<br>Node size: 1270<br>Summary statistic: 6240.0\",\"Node ID: 2<br>Pullback set label: 6<br>Partial cluster label: 0<br>Node size: 3976<br>Summary statistic: 6140.0\",\"Node ID: 3<br>Pullback set label: 5<br>Partial cluster label: 0<br>Node size: 3981<br>Summary statistic: 6250.0\",\"Node ID: 4<br>Pullback set label: 4<br>Partial cluster label: 0<br>Node size: 2885<br>Summary statistic: 6220.0\",\"Node ID: 5<br>Pullback set label: 8<br>Partial cluster label: 0<br>Node size: 1463<br>Summary statistic: 6060.0\",\"Node ID: 6<br>Pullback set label: 2<br>Partial cluster label: 0<br>Node size: 87<br>Summary statistic: 6260.0\",\"Node ID: 7<br>Pullback set label: 2<br>Partial cluster label: -1<br>Node size: 12<br>Summary statistic: 6940.0\",\"Node ID: 8<br>Pullback set label: 2<br>Partial cluster label: 1<br>Node size: 152<br>Summary statistic: 6280.0\",\"Node ID: 9<br>Pullback set label: 2<br>Partial cluster label: 2<br>Node size: 66<br>Summary statistic: 6040.0\",\"Node ID: 10<br>Pullback set label: 0<br>Partial cluster label: 0<br>Node size: 231<br>Summary statistic: 5910.0\",\"Node ID: 11<br>Pullback set label: 8<br>Partial cluster label: -1<br>Node size: 16<br>Summary statistic: 5650.0\",\"Node ID: 12<br>Pullback set label: 8<br>Partial cluster label: 1<br>Node size: 104<br>Summary statistic: 6210.0\",\"Node ID: 13<br>Pullback set label: 1<br>Partial cluster label: -1<br>Node size: 20<br>Summary statistic: 6220.0\",\"Node ID: 14<br>Pullback set label: 7<br>Partial cluster label: 1<br>Node size: 39<br>Summary statistic: 6740.0\",\"Node ID: 15<br>Pullback set label: 7<br>Partial cluster label: -1<br>Node size: 1<br>Summary statistic: 3960.0\",\"Node ID: 16<br>Pullback set label: 4<br>Partial cluster label: -1<br>Node size: 1<br>Summary statistic: 5980.0\",\"Node ID: 17<br>Pullback set label: 6<br>Partial cluster label: -1<br>Node size: 4<br>Summary statistic: 8850.0\"],\"marker\":{\"color\":[6052.55071955072,6237.98188976378,6135.068410462776,6251.9432303441345,6220.616291161178,6059.149008885851,6257.0344827586205,6937.75,6279.3026315789475,6039.151515151515,5913.917748917749,5652.875,6212.403846153846,6216.6,6739.410256410257,3955.0,5983.0,8845.75],\"colorbar\":{\"thickness\":15,\"title\":{\"side\":\"right\",\"text\":\"\"},\"xanchor\":\"left\"},\"colorscale\":[[0.0,\"#440154\"],[0.1111111111111111,\"#482878\"],[0.2222222222222222,\"#3e4989\"],[0.3333333333333333,\"#31688e\"],[0.4444444444444444,\"#26828e\"],[0.5555555555555556,\"#1f9e89\"],[0.6666666666666666,\"#35b779\"],[0.7777777777777778,\"#6ece58\"],[0.8888888888888888,\"#b5de2b\"],[1.0,\"#fde725\"]],\"line\":{\"color\":\"#888\",\"width\":1},\"opacity\":1.0,\"reversescale\":false,\"showscale\":true,\"size\":[2849,1270,3976,3981,2885,1463,87,12,152,66,231,16,104,20,39,1,1,4],\"sizemin\":4,\"sizemode\":\"area\",\"sizeref\":55.291666666666664},\"mode\":\"markers\",\"name\":\"node_trace\",\"x\":[1.723298654642239,-1.1621995272057488,1.106574607149933,0.3529522075913693,-0.38940392445370914,2.495968434925538,-1.5895583089735803,-1.9540569002620747,-1.5475174669878438,-1.703696995945007,-0.17434912402487132,2.1273265079088306,1.8616204377410113,-0.9662795150082827,1.6028693743162379,0.7958312319742117,-1.020988363824018,2.2191047452469577],\"y\":[-0.3787022972618587,0.9964510294552065,0.17842593539567952,0.5007352556291876,0.7388762782248929,-0.3967198526254559,-2.4624472819164365,0.8772043388146002,0.3092422132919637,1.5807266478387165,4.024774854269196,3.4836530862983937,-1.1491933388738202,-2.7588976368597744,0.7927629545853774,-0.5067909554785777,1.7711019063531979,1.2120856340538175],\"type\":\"scatter\",\"uid\":\"a76a8f01-fe65-4089-b323-9b73cfbf03e0\"}],                        {\"autosize\":false,\"hovermode\":\"closest\",\"margin\":{\"b\":20,\"l\":5,\"r\":5,\"t\":40},\"showlegend\":false,\"template\":{\"data\":{\"barpolar\":[{\"marker\":{\"line\":{\"color\":\"white\",\"width\":0.5},\"pattern\":{\"fillmode\":\"overlay\",\"size\":10,\"solidity\":0.2}},\"type\":\"barpolar\"}],\"bar\":[{\"error_x\":{\"color\":\"rgb(36,36,36)\"},\"error_y\":{\"color\":\"rgb(36,36,36)\"},\"marker\":{\"line\":{\"color\":\"white\",\"width\":0.5},\"pattern\":{\"fillmode\":\"overlay\",\"size\":10,\"solidity\":0.2}},\"type\":\"bar\"}],\"carpet\":[{\"aaxis\":{\"endlinecolor\":\"rgb(36,36,36)\",\"gridcolor\":\"white\",\"linecolor\":\"white\",\"minorgridcolor\":\"white\",\"startlinecolor\":\"rgb(36,36,36)\"},\"baxis\":{\"endlinecolor\":\"rgb(36,36,36)\",\"gridcolor\":\"white\",\"linecolor\":\"white\",\"minorgridcolor\":\"white\",\"startlinecolor\":\"rgb(36,36,36)\"},\"type\":\"carpet\"}],\"choropleth\":[{\"colorbar\":{\"outlinewidth\":1,\"tickcolor\":\"rgb(36,36,36)\",\"ticks\":\"outside\"},\"type\":\"choropleth\"}],\"contourcarpet\":[{\"colorbar\":{\"outlinewidth\":1,\"tickcolor\":\"rgb(36,36,36)\",\"ticks\":\"outside\"},\"type\":\"contourcarpet\"}],\"contour\":[{\"colorbar\":{\"outlinewidth\":1,\"tickcolor\":\"rgb(36,36,36)\",\"ticks\":\"outside\"},\"colorscale\":[[0.0,\"#440154\"],[0.1111111111111111,\"#482878\"],[0.2222222222222222,\"#3e4989\"],[0.3333333333333333,\"#31688e\"],[0.4444444444444444,\"#26828e\"],[0.5555555555555556,\"#1f9e89\"],[0.6666666666666666,\"#35b779\"],[0.7777777777777778,\"#6ece58\"],[0.8888888888888888,\"#b5de2b\"],[1.0,\"#fde725\"]],\"type\":\"contour\"}],\"heatmapgl\":[{\"colorbar\":{\"outlinewidth\":1,\"tickcolor\":\"rgb(36,36,36)\",\"ticks\":\"outside\"},\"colorscale\":[[0.0,\"#440154\"],[0.1111111111111111,\"#482878\"],[0.2222222222222222,\"#3e4989\"],[0.3333333333333333,\"#31688e\"],[0.4444444444444444,\"#26828e\"],[0.5555555555555556,\"#1f9e89\"],[0.6666666666666666,\"#35b779\"],[0.7777777777777778,\"#6ece58\"],[0.8888888888888888,\"#b5de2b\"],[1.0,\"#fde725\"]],\"type\":\"heatmapgl\"}],\"heatmap\":[{\"colorbar\":{\"outlinewidth\":1,\"tickcolor\":\"rgb(36,36,36)\",\"ticks\":\"outside\"},\"colorscale\":[[0.0,\"#440154\"],[0.1111111111111111,\"#482878\"],[0.2222222222222222,\"#3e4989\"],[0.3333333333333333,\"#31688e\"],[0.4444444444444444,\"#26828e\"],[0.5555555555555556,\"#1f9e89\"],[0.6666666666666666,\"#35b779\"],[0.7777777777777778,\"#6ece58\"],[0.8888888888888888,\"#b5de2b\"],[1.0,\"#fde725\"]],\"type\":\"heatmap\"}],\"histogram2dcontour\":[{\"colorbar\":{\"outlinewidth\":1,\"tickcolor\":\"rgb(36,36,36)\",\"ticks\":\"outside\"},\"colorscale\":[[0.0,\"#440154\"],[0.1111111111111111,\"#482878\"],[0.2222222222222222,\"#3e4989\"],[0.3333333333333333,\"#31688e\"],[0.4444444444444444,\"#26828e\"],[0.5555555555555556,\"#1f9e89\"],[0.6666666666666666,\"#35b779\"],[0.7777777777777778,\"#6ece58\"],[0.8888888888888888,\"#b5de2b\"],[1.0,\"#fde725\"]],\"type\":\"histogram2dcontour\"}],\"histogram2d\":[{\"colorbar\":{\"outlinewidth\":1,\"tickcolor\":\"rgb(36,36,36)\",\"ticks\":\"outside\"},\"colorscale\":[[0.0,\"#440154\"],[0.1111111111111111,\"#482878\"],[0.2222222222222222,\"#3e4989\"],[0.3333333333333333,\"#31688e\"],[0.4444444444444444,\"#26828e\"],[0.5555555555555556,\"#1f9e89\"],[0.6666666666666666,\"#35b779\"],[0.7777777777777778,\"#6ece58\"],[0.8888888888888888,\"#b5de2b\"],[1.0,\"#fde725\"]],\"type\":\"histogram2d\"}],\"histogram\":[{\"marker\":{\"line\":{\"color\":\"white\",\"width\":0.6}},\"type\":\"histogram\"}],\"mesh3d\":[{\"colorbar\":{\"outlinewidth\":1,\"tickcolor\":\"rgb(36,36,36)\",\"ticks\":\"outside\"},\"type\":\"mesh3d\"}],\"parcoords\":[{\"line\":{\"colorbar\":{\"outlinewidth\":1,\"tickcolor\":\"rgb(36,36,36)\",\"ticks\":\"outside\"}},\"type\":\"parcoords\"}],\"pie\":[{\"automargin\":true,\"type\":\"pie\"}],\"scatter3d\":[{\"line\":{\"colorbar\":{\"outlinewidth\":1,\"tickcolor\":\"rgb(36,36,36)\",\"ticks\":\"outside\"}},\"marker\":{\"colorbar\":{\"outlinewidth\":1,\"tickcolor\":\"rgb(36,36,36)\",\"ticks\":\"outside\"}},\"type\":\"scatter3d\"}],\"scattercarpet\":[{\"marker\":{\"colorbar\":{\"outlinewidth\":1,\"tickcolor\":\"rgb(36,36,36)\",\"ticks\":\"outside\"}},\"type\":\"scattercarpet\"}],\"scattergeo\":[{\"marker\":{\"colorbar\":{\"outlinewidth\":1,\"tickcolor\":\"rgb(36,36,36)\",\"ticks\":\"outside\"}},\"type\":\"scattergeo\"}],\"scattergl\":[{\"marker\":{\"colorbar\":{\"outlinewidth\":1,\"tickcolor\":\"rgb(36,36,36)\",\"ticks\":\"outside\"}},\"type\":\"scattergl\"}],\"scattermapbox\":[{\"marker\":{\"colorbar\":{\"outlinewidth\":1,\"tickcolor\":\"rgb(36,36,36)\",\"ticks\":\"outside\"}},\"type\":\"scattermapbox\"}],\"scatterpolargl\":[{\"marker\":{\"colorbar\":{\"outlinewidth\":1,\"tickcolor\":\"rgb(36,36,36)\",\"ticks\":\"outside\"}},\"type\":\"scatterpolargl\"}],\"scatterpolar\":[{\"marker\":{\"colorbar\":{\"outlinewidth\":1,\"tickcolor\":\"rgb(36,36,36)\",\"ticks\":\"outside\"}},\"type\":\"scatterpolar\"}],\"scatter\":[{\"marker\":{\"colorbar\":{\"outlinewidth\":1,\"tickcolor\":\"rgb(36,36,36)\",\"ticks\":\"outside\"}},\"type\":\"scatter\"}],\"scatterternary\":[{\"marker\":{\"colorbar\":{\"outlinewidth\":1,\"tickcolor\":\"rgb(36,36,36)\",\"ticks\":\"outside\"}},\"type\":\"scatterternary\"}],\"surface\":[{\"colorbar\":{\"outlinewidth\":1,\"tickcolor\":\"rgb(36,36,36)\",\"ticks\":\"outside\"},\"colorscale\":[[0.0,\"#440154\"],[0.1111111111111111,\"#482878\"],[0.2222222222222222,\"#3e4989\"],[0.3333333333333333,\"#31688e\"],[0.4444444444444444,\"#26828e\"],[0.5555555555555556,\"#1f9e89\"],[0.6666666666666666,\"#35b779\"],[0.7777777777777778,\"#6ece58\"],[0.8888888888888888,\"#b5de2b\"],[1.0,\"#fde725\"]],\"type\":\"surface\"}],\"table\":[{\"cells\":{\"fill\":{\"color\":\"rgb(237,237,237)\"},\"line\":{\"color\":\"white\"}},\"header\":{\"fill\":{\"color\":\"rgb(217,217,217)\"},\"line\":{\"color\":\"white\"}},\"type\":\"table\"}]},\"layout\":{\"annotationdefaults\":{\"arrowhead\":0,\"arrowwidth\":1},\"autotypenumbers\":\"strict\",\"coloraxis\":{\"colorbar\":{\"outlinewidth\":1,\"tickcolor\":\"rgb(36,36,36)\",\"ticks\":\"outside\"}},\"colorscale\":{\"diverging\":[[0.0,\"rgb(103,0,31)\"],[0.1,\"rgb(178,24,43)\"],[0.2,\"rgb(214,96,77)\"],[0.3,\"rgb(244,165,130)\"],[0.4,\"rgb(253,219,199)\"],[0.5,\"rgb(247,247,247)\"],[0.6,\"rgb(209,229,240)\"],[0.7,\"rgb(146,197,222)\"],[0.8,\"rgb(67,147,195)\"],[0.9,\"rgb(33,102,172)\"],[1.0,\"rgb(5,48,97)\"]],\"sequential\":[[0.0,\"#440154\"],[0.1111111111111111,\"#482878\"],[0.2222222222222222,\"#3e4989\"],[0.3333333333333333,\"#31688e\"],[0.4444444444444444,\"#26828e\"],[0.5555555555555556,\"#1f9e89\"],[0.6666666666666666,\"#35b779\"],[0.7777777777777778,\"#6ece58\"],[0.8888888888888888,\"#b5de2b\"],[1.0,\"#fde725\"]],\"sequentialminus\":[[0.0,\"#440154\"],[0.1111111111111111,\"#482878\"],[0.2222222222222222,\"#3e4989\"],[0.3333333333333333,\"#31688e\"],[0.4444444444444444,\"#26828e\"],[0.5555555555555556,\"#1f9e89\"],[0.6666666666666666,\"#35b779\"],[0.7777777777777778,\"#6ece58\"],[0.8888888888888888,\"#b5de2b\"],[1.0,\"#fde725\"]]},\"colorway\":[\"#1F77B4\",\"#FF7F0E\",\"#2CA02C\",\"#D62728\",\"#9467BD\",\"#8C564B\",\"#E377C2\",\"#7F7F7F\",\"#BCBD22\",\"#17BECF\"],\"font\":{\"color\":\"rgb(36,36,36)\"},\"geo\":{\"bgcolor\":\"white\",\"lakecolor\":\"white\",\"landcolor\":\"white\",\"showlakes\":true,\"showland\":true,\"subunitcolor\":\"white\"},\"hoverlabel\":{\"align\":\"left\"},\"hovermode\":\"closest\",\"mapbox\":{\"style\":\"light\"},\"paper_bgcolor\":\"white\",\"plot_bgcolor\":\"white\",\"polar\":{\"angularaxis\":{\"gridcolor\":\"rgb(232,232,232)\",\"linecolor\":\"rgb(36,36,36)\",\"showgrid\":false,\"showline\":true,\"ticks\":\"outside\"},\"bgcolor\":\"white\",\"radialaxis\":{\"gridcolor\":\"rgb(232,232,232)\",\"linecolor\":\"rgb(36,36,36)\",\"showgrid\":false,\"showline\":true,\"ticks\":\"outside\"}},\"scene\":{\"xaxis\":{\"backgroundcolor\":\"white\",\"gridcolor\":\"rgb(232,232,232)\",\"gridwidth\":2,\"linecolor\":\"rgb(36,36,36)\",\"showbackground\":true,\"showgrid\":false,\"showline\":true,\"ticks\":\"outside\",\"zeroline\":false,\"zerolinecolor\":\"rgb(36,36,36)\"},\"yaxis\":{\"backgroundcolor\":\"white\",\"gridcolor\":\"rgb(232,232,232)\",\"gridwidth\":2,\"linecolor\":\"rgb(36,36,36)\",\"showbackground\":true,\"showgrid\":false,\"showline\":true,\"ticks\":\"outside\",\"zeroline\":false,\"zerolinecolor\":\"rgb(36,36,36)\"},\"zaxis\":{\"backgroundcolor\":\"white\",\"gridcolor\":\"rgb(232,232,232)\",\"gridwidth\":2,\"linecolor\":\"rgb(36,36,36)\",\"showbackground\":true,\"showgrid\":false,\"showline\":true,\"ticks\":\"outside\",\"zeroline\":false,\"zerolinecolor\":\"rgb(36,36,36)\"}},\"shapedefaults\":{\"fillcolor\":\"black\",\"line\":{\"width\":0},\"opacity\":0.3},\"ternary\":{\"aaxis\":{\"gridcolor\":\"rgb(232,232,232)\",\"linecolor\":\"rgb(36,36,36)\",\"showgrid\":false,\"showline\":true,\"ticks\":\"outside\"},\"baxis\":{\"gridcolor\":\"rgb(232,232,232)\",\"linecolor\":\"rgb(36,36,36)\",\"showgrid\":false,\"showline\":true,\"ticks\":\"outside\"},\"bgcolor\":\"white\",\"caxis\":{\"gridcolor\":\"rgb(232,232,232)\",\"linecolor\":\"rgb(36,36,36)\",\"showgrid\":false,\"showline\":true,\"ticks\":\"outside\"}},\"title\":{\"x\":0.05},\"xaxis\":{\"automargin\":true,\"gridcolor\":\"rgb(232,232,232)\",\"linecolor\":\"rgb(36,36,36)\",\"showgrid\":false,\"showline\":true,\"ticks\":\"outside\",\"title\":{\"standoff\":15},\"zeroline\":false,\"zerolinecolor\":\"rgb(36,36,36)\"},\"yaxis\":{\"automargin\":true,\"gridcolor\":\"rgb(232,232,232)\",\"linecolor\":\"rgb(36,36,36)\",\"showgrid\":false,\"showline\":true,\"ticks\":\"outside\",\"title\":{\"standoff\":15},\"zeroline\":false,\"zerolinecolor\":\"rgb(36,36,36)\"}}},\"title\":{\"text\":\"\"},\"xaxis\":{\"showgrid\":false,\"showline\":false,\"showticklabels\":false,\"ticks\":\"\",\"title\":{\"text\":\"\"},\"zeroline\":false},\"yaxis\":{\"showgrid\":false,\"showline\":false,\"showticklabels\":false,\"ticks\":\"\",\"title\":{\"text\":\"\"},\"zeroline\":false}},                        {\"scrollZoom\": true, \"responsive\": true}                    ).then(function(){\n",
       "                            \n",
       "var gd = document.getElementById('47946d27-2f78-4722-90e9-3e8448a3a454');\n",
       "var x = new MutationObserver(function (mutations, observer) {{\n",
       "        var display = window.getComputedStyle(gd).display;\n",
       "        if (!display || display === 'none') {{\n",
       "            console.log([gd, 'removed!']);\n",
       "            Plotly.purge(gd);\n",
       "            observer.disconnect();\n",
       "        }}\n",
       "}});\n",
       "\n",
       "// Listen for the removal of the full notebook cells\n",
       "var notebookContainer = gd.closest('#notebook-container');\n",
       "if (notebookContainer) {{\n",
       "    x.observe(notebookContainer, {childList: true});\n",
       "}}\n",
       "\n",
       "// Listen for the clearing of the current output cell\n",
       "var outputEl = gd.closest('.output');\n",
       "if (outputEl) {{\n",
       "    x.observe(outputEl, {childList: true});\n",
       "}}\n",
       "\n",
       "                        })                };                });            </script>        </div>"
      ]
     },
     "metadata": {},
     "output_type": "display_data"
    }
   ],
   "source": [
    "fig = plot_static_mapper_graph(pipe, embeddingsM)\n",
    "fig.show(config={'scrollZoom': True})\n"
   ]
  },
  {
   "cell_type": "code",
   "execution_count": 71,
   "id": "d33090e3",
   "metadata": {},
   "outputs": [
    {
     "name": "stdout",
     "output_type": "stream",
     "text": [
      "[Pipeline] ............ (step 1 of 3) Processing scaler, total=   0.0s\n",
      "[Pipeline] ....... (step 2 of 3) Processing filter_func, total=   0.0s\n",
      "[Pipeline] ............. (step 3 of 3) Processing cover, total=   0.1s\n",
      "[Pipeline] .... (step 1 of 3) Processing pullback_cover, total=   0.1s\n",
      "[Pipeline] ........ (step 2 of 3) Processing clustering, total=   0.8s\n",
      "[Pipeline] ............. (step 3 of 3) Processing nerve, total=   0.0s\n"
     ]
    },
    {
     "data": {
      "application/vnd.plotly.v1+json": {
       "config": {
        "plotlyServerURL": "https://plot.ly",
        "scrollZoom": true
       },
       "data": [
        {
         "hoverinfo": "none",
         "line": {
          "color": "#888",
          "width": 1
         },
         "mode": "lines",
         "name": "edge_trace",
         "type": "scatter",
         "uid": "dca1c385-3570-4139-abb8-863be6ffc3c6",
         "x": [
          1.6207675910795758,
          1.7808025342103655,
          null,
          1.6207675910795758,
          1.1459163208313636,
          null,
          1.7808025342103655,
          2.266012549397378,
          null,
          2.266012549397378,
          2.471310362660366,
          null,
          -0.08828225006825034,
          0.012906132766734123,
          null,
          0.74487816853088,
          1.1459163208313636,
          null,
          0.74487816853088,
          0.8460225045462115,
          null,
          0.74487816853088,
          0.16719616070500873,
          null,
          2.471310362660366,
          2.3649308956003754,
          null,
          2.3649308956003754,
          2.4675786748800546,
          null,
          -1.5515761670063792,
          -2.0072217979174796,
          null,
          -3.6468957514370604,
          -3.560304959518338,
          null,
          2.4675786748800546,
          2.865234812299778,
          null,
          -1.9558140925649214,
          -2.3655312748571684,
          null,
          -3.4885331738757075,
          -3.0379565015167063,
          null,
          1.58901660905071,
          2.0973956301844843,
          null
         ],
         "y": [
          -1.6739421817170101,
          -1.1461267575955363,
          null,
          -1.6739421817170101,
          -1.9480000343419182,
          null,
          -1.1461267575955363,
          -0.8749927062837287,
          null,
          -0.8749927062837287,
          -0.3671549640315613,
          null,
          3.8581282741174676,
          3.3252537001631883,
          null,
          -2.3458785044389154,
          -1.9480000343419182,
          null,
          -2.3458785044389154,
          -2.9219579643963263,
          null,
          -2.3458785044389154,
          -2.2399885218335363,
          null,
          -0.3671549640315613,
          0.1752762496099943,
          null,
          0.1752762496099943,
          0.7077312989431143,
          null,
          2.1952639306437525,
          2.50713146168307,
          null,
          1.3886125274329635,
          1.925533391977318,
          null,
          0.7077312989431143,
          1.091057905831032,
          null,
          -3.164889373555892,
          -2.809541037660123,
          null,
          -1.496276453466396,
          -1.1922540247390438,
          null,
          3.334631311321711,
          3.1466379379883267,
          null
         ]
        },
        {
         "hoverinfo": "text",
         "hovertext": [
          "Node ID: 0<br>Pullback set label: 4<br>Partial cluster label: 0<br>Node size: 5501<br>Summary statistic: 12700.0",
          "Node ID: 1<br>Pullback set label: 5<br>Partial cluster label: 0<br>Node size: 6971<br>Summary statistic: 12700.0",
          "Node ID: 2<br>Pullback set label: 0<br>Partial cluster label: 0<br>Node size: 419<br>Summary statistic: 12200.0",
          "Node ID: 3<br>Pullback set label: 6<br>Partial cluster label: 0<br>Node size: 6750<br>Summary statistic: 12900.0",
          "Node ID: 4<br>Pullback set label: 2<br>Partial cluster label: 0<br>Node size: 200<br>Summary statistic: 12400.0",
          "Node ID: 5<br>Pullback set label: 3<br>Partial cluster label: 0<br>Node size: 201<br>Summary statistic: 12300.0",
          "Node ID: 6<br>Pullback set label: 2<br>Partial cluster label: 1<br>Node size: 1932<br>Summary statistic: 12800.0",
          "Node ID: 7<br>Pullback set label: 3<br>Partial cluster label: 1<br>Node size: 3790<br>Summary statistic: 12600.0",
          "Node ID: 8<br>Pullback set label: 7<br>Partial cluster label: 0<br>Node size: 5275<br>Summary statistic: 12900.0",
          "Node ID: 9<br>Pullback set label: 8<br>Partial cluster label: 0<br>Node size: 3059<br>Summary statistic: 13200.0",
          "Node ID: 10<br>Pullback set label: 9<br>Partial cluster label: 0<br>Node size: 30<br>Summary statistic: 13000.0",
          "Node ID: 11<br>Pullback set label: 4<br>Partial cluster label: 1<br>Node size: 102<br>Summary statistic: 13000.0",
          "Node ID: 12<br>Pullback set label: 5<br>Partial cluster label: 1<br>Node size: 98<br>Summary statistic: 12800.0",
          "Node ID: 13<br>Pullback set label: 5<br>Partial cluster label: 2<br>Node size: 195<br>Summary statistic: 12000.0",
          "Node ID: 14<br>Pullback set label: 6<br>Partial cluster label: 1<br>Node size: 187<br>Summary statistic: 12000.0",
          "Node ID: 15<br>Pullback set label: 9<br>Partial cluster label: 1<br>Node size: 889<br>Summary statistic: 13100.0",
          "Node ID: 16<br>Pullback set label: 4<br>Partial cluster label: 2<br>Node size: 129<br>Summary statistic: 12800.0",
          "Node ID: 17<br>Pullback set label: 1<br>Partial cluster label: 0<br>Node size: 128<br>Summary statistic: 12900.0",
          "Node ID: 18<br>Pullback set label: 1<br>Partial cluster label: 1<br>Node size: 218<br>Summary statistic: 13100.0",
          "Node ID: 19<br>Pullback set label: 8<br>Partial cluster label: 1<br>Node size: 59<br>Summary statistic: 12600.0",
          "Node ID: 20<br>Pullback set label: 9<br>Partial cluster label: 2<br>Node size: 58<br>Summary statistic: 12600.0",
          "Node ID: 21<br>Pullback set label: 2<br>Partial cluster label: 2<br>Node size: 70<br>Summary statistic: 13500.0",
          "Node ID: 22<br>Pullback set label: 3<br>Partial cluster label: 2<br>Node size: 78<br>Summary statistic: 13800.0",
          "Node ID: 23<br>Pullback set label: 2<br>Partial cluster label: 3<br>Node size: 52<br>Summary statistic: 12800.0",
          "Node ID: 24<br>Pullback set label: 3<br>Partial cluster label: 3<br>Node size: 52<br>Summary statistic: 12800.0",
          "Node ID: 25<br>Pullback set label: 8<br>Partial cluster label: -1<br>Node size: 2<br>Summary statistic: 14100.0"
         ],
         "marker": {
          "color": [
           12682.643701145247,
           12724.578539664324,
           12231.494033412888,
           12858.153481481482,
           12393.1,
           12348.47263681592,
           12759.487577639751,
           12572.449604221636,
           12861.328909952606,
           13225.112781954887,
           13042.533333333333,
           13037.058823529413,
           12808.357142857143,
           12046.502564102564,
           11962.941176470587,
           13099.526434195726,
           12849.98449612403,
           12900.9375,
           13088.08256880734,
           12638.93220338983,
           12593.793103448275,
           13516.942857142858,
           13772.01282051282,
           12799.23076923077,
           12799.23076923077,
           14059.5
          ],
          "colorbar": {
           "thickness": 15,
           "title": {
            "side": "right",
            "text": ""
           },
           "xanchor": "left"
          },
          "colorscale": [
           [
            0,
            "#440154"
           ],
           [
            0.1111111111111111,
            "#482878"
           ],
           [
            0.2222222222222222,
            "#3e4989"
           ],
           [
            0.3333333333333333,
            "#31688e"
           ],
           [
            0.4444444444444444,
            "#26828e"
           ],
           [
            0.5555555555555556,
            "#1f9e89"
           ],
           [
            0.6666666666666666,
            "#35b779"
           ],
           [
            0.7777777777777778,
            "#6ece58"
           ],
           [
            0.8888888888888888,
            "#b5de2b"
           ],
           [
            1,
            "#fde725"
           ]
          ],
          "line": {
           "color": "#888",
           "width": 1
          },
          "opacity": 1,
          "reversescale": false,
          "showscale": true,
          "size": [
           5501,
           6971,
           419,
           6750,
           200,
           201,
           1932,
           3790,
           5275,
           3059,
           30,
           102,
           98,
           195,
           187,
           889,
           129,
           128,
           218,
           59,
           58,
           70,
           78,
           52,
           52,
           2
          ],
          "sizemin": 4,
          "sizemode": "area",
          "sizeref": 96.81944444444444
         },
         "mode": "markers",
         "name": "node_trace",
         "type": "scatter",
         "uid": "402169aa-1943-40a1-9356-fc822e9285d8",
         "x": [
          1.6207675910795758,
          1.7808025342103655,
          -1.8774984385418432,
          2.266012549397378,
          -0.08828225006825034,
          0.012906132766734123,
          0.74487816853088,
          1.1459163208313636,
          2.471310362660366,
          2.3649308956003754,
          -1.8006600726144577,
          -1.5515761670063792,
          -2.0072217979174796,
          -3.6468957514370604,
          -3.560304959518338,
          2.4675786748800546,
          -3.990572805591541,
          0.8460225045462115,
          0.16719616070500873,
          -1.9558140925649214,
          -2.3655312748571684,
          -3.4885331738757075,
          -3.0379565015167063,
          1.58901660905071,
          2.0973956301844843,
          2.865234812299778
         ],
         "y": [
          -1.6739421817170101,
          -1.1461267575955363,
          3.8229647303215524,
          -0.8749927062837287,
          3.8581282741174676,
          3.3252537001631883,
          -2.3458785044389154,
          -1.9480000343419182,
          -0.3671549640315613,
          0.1752762496099943,
          0.28649154344631866,
          2.1952639306437525,
          2.50713146168307,
          1.3886125274329635,
          1.925533391977318,
          0.7077312989431143,
          -0.03203295126630358,
          -2.9219579643963263,
          -2.2399885218335363,
          -3.164889373555892,
          -2.809541037660123,
          -1.496276453466396,
          -1.1922540247390438,
          3.334631311321711,
          3.1466379379883267,
          1.091057905831032
         ]
        }
       ],
       "layout": {
        "autosize": false,
        "hovermode": "closest",
        "margin": {
         "b": 20,
         "l": 5,
         "r": 5,
         "t": 40
        },
        "showlegend": false,
        "template": {
         "data": {
          "bar": [
           {
            "error_x": {
             "color": "rgb(36,36,36)"
            },
            "error_y": {
             "color": "rgb(36,36,36)"
            },
            "marker": {
             "line": {
              "color": "white",
              "width": 0.5
             },
             "pattern": {
              "fillmode": "overlay",
              "size": 10,
              "solidity": 0.2
             }
            },
            "type": "bar"
           }
          ],
          "barpolar": [
           {
            "marker": {
             "line": {
              "color": "white",
              "width": 0.5
             },
             "pattern": {
              "fillmode": "overlay",
              "size": 10,
              "solidity": 0.2
             }
            },
            "type": "barpolar"
           }
          ],
          "carpet": [
           {
            "aaxis": {
             "endlinecolor": "rgb(36,36,36)",
             "gridcolor": "white",
             "linecolor": "white",
             "minorgridcolor": "white",
             "startlinecolor": "rgb(36,36,36)"
            },
            "baxis": {
             "endlinecolor": "rgb(36,36,36)",
             "gridcolor": "white",
             "linecolor": "white",
             "minorgridcolor": "white",
             "startlinecolor": "rgb(36,36,36)"
            },
            "type": "carpet"
           }
          ],
          "choropleth": [
           {
            "colorbar": {
             "outlinewidth": 1,
             "tickcolor": "rgb(36,36,36)",
             "ticks": "outside"
            },
            "type": "choropleth"
           }
          ],
          "contour": [
           {
            "colorbar": {
             "outlinewidth": 1,
             "tickcolor": "rgb(36,36,36)",
             "ticks": "outside"
            },
            "colorscale": [
             [
              0,
              "#440154"
             ],
             [
              0.1111111111111111,
              "#482878"
             ],
             [
              0.2222222222222222,
              "#3e4989"
             ],
             [
              0.3333333333333333,
              "#31688e"
             ],
             [
              0.4444444444444444,
              "#26828e"
             ],
             [
              0.5555555555555556,
              "#1f9e89"
             ],
             [
              0.6666666666666666,
              "#35b779"
             ],
             [
              0.7777777777777778,
              "#6ece58"
             ],
             [
              0.8888888888888888,
              "#b5de2b"
             ],
             [
              1,
              "#fde725"
             ]
            ],
            "type": "contour"
           }
          ],
          "contourcarpet": [
           {
            "colorbar": {
             "outlinewidth": 1,
             "tickcolor": "rgb(36,36,36)",
             "ticks": "outside"
            },
            "type": "contourcarpet"
           }
          ],
          "heatmap": [
           {
            "colorbar": {
             "outlinewidth": 1,
             "tickcolor": "rgb(36,36,36)",
             "ticks": "outside"
            },
            "colorscale": [
             [
              0,
              "#440154"
             ],
             [
              0.1111111111111111,
              "#482878"
             ],
             [
              0.2222222222222222,
              "#3e4989"
             ],
             [
              0.3333333333333333,
              "#31688e"
             ],
             [
              0.4444444444444444,
              "#26828e"
             ],
             [
              0.5555555555555556,
              "#1f9e89"
             ],
             [
              0.6666666666666666,
              "#35b779"
             ],
             [
              0.7777777777777778,
              "#6ece58"
             ],
             [
              0.8888888888888888,
              "#b5de2b"
             ],
             [
              1,
              "#fde725"
             ]
            ],
            "type": "heatmap"
           }
          ],
          "heatmapgl": [
           {
            "colorbar": {
             "outlinewidth": 1,
             "tickcolor": "rgb(36,36,36)",
             "ticks": "outside"
            },
            "colorscale": [
             [
              0,
              "#440154"
             ],
             [
              0.1111111111111111,
              "#482878"
             ],
             [
              0.2222222222222222,
              "#3e4989"
             ],
             [
              0.3333333333333333,
              "#31688e"
             ],
             [
              0.4444444444444444,
              "#26828e"
             ],
             [
              0.5555555555555556,
              "#1f9e89"
             ],
             [
              0.6666666666666666,
              "#35b779"
             ],
             [
              0.7777777777777778,
              "#6ece58"
             ],
             [
              0.8888888888888888,
              "#b5de2b"
             ],
             [
              1,
              "#fde725"
             ]
            ],
            "type": "heatmapgl"
           }
          ],
          "histogram": [
           {
            "marker": {
             "line": {
              "color": "white",
              "width": 0.6
             }
            },
            "type": "histogram"
           }
          ],
          "histogram2d": [
           {
            "colorbar": {
             "outlinewidth": 1,
             "tickcolor": "rgb(36,36,36)",
             "ticks": "outside"
            },
            "colorscale": [
             [
              0,
              "#440154"
             ],
             [
              0.1111111111111111,
              "#482878"
             ],
             [
              0.2222222222222222,
              "#3e4989"
             ],
             [
              0.3333333333333333,
              "#31688e"
             ],
             [
              0.4444444444444444,
              "#26828e"
             ],
             [
              0.5555555555555556,
              "#1f9e89"
             ],
             [
              0.6666666666666666,
              "#35b779"
             ],
             [
              0.7777777777777778,
              "#6ece58"
             ],
             [
              0.8888888888888888,
              "#b5de2b"
             ],
             [
              1,
              "#fde725"
             ]
            ],
            "type": "histogram2d"
           }
          ],
          "histogram2dcontour": [
           {
            "colorbar": {
             "outlinewidth": 1,
             "tickcolor": "rgb(36,36,36)",
             "ticks": "outside"
            },
            "colorscale": [
             [
              0,
              "#440154"
             ],
             [
              0.1111111111111111,
              "#482878"
             ],
             [
              0.2222222222222222,
              "#3e4989"
             ],
             [
              0.3333333333333333,
              "#31688e"
             ],
             [
              0.4444444444444444,
              "#26828e"
             ],
             [
              0.5555555555555556,
              "#1f9e89"
             ],
             [
              0.6666666666666666,
              "#35b779"
             ],
             [
              0.7777777777777778,
              "#6ece58"
             ],
             [
              0.8888888888888888,
              "#b5de2b"
             ],
             [
              1,
              "#fde725"
             ]
            ],
            "type": "histogram2dcontour"
           }
          ],
          "mesh3d": [
           {
            "colorbar": {
             "outlinewidth": 1,
             "tickcolor": "rgb(36,36,36)",
             "ticks": "outside"
            },
            "type": "mesh3d"
           }
          ],
          "parcoords": [
           {
            "line": {
             "colorbar": {
              "outlinewidth": 1,
              "tickcolor": "rgb(36,36,36)",
              "ticks": "outside"
             }
            },
            "type": "parcoords"
           }
          ],
          "pie": [
           {
            "automargin": true,
            "type": "pie"
           }
          ],
          "scatter": [
           {
            "marker": {
             "colorbar": {
              "outlinewidth": 1,
              "tickcolor": "rgb(36,36,36)",
              "ticks": "outside"
             }
            },
            "type": "scatter"
           }
          ],
          "scatter3d": [
           {
            "line": {
             "colorbar": {
              "outlinewidth": 1,
              "tickcolor": "rgb(36,36,36)",
              "ticks": "outside"
             }
            },
            "marker": {
             "colorbar": {
              "outlinewidth": 1,
              "tickcolor": "rgb(36,36,36)",
              "ticks": "outside"
             }
            },
            "type": "scatter3d"
           }
          ],
          "scattercarpet": [
           {
            "marker": {
             "colorbar": {
              "outlinewidth": 1,
              "tickcolor": "rgb(36,36,36)",
              "ticks": "outside"
             }
            },
            "type": "scattercarpet"
           }
          ],
          "scattergeo": [
           {
            "marker": {
             "colorbar": {
              "outlinewidth": 1,
              "tickcolor": "rgb(36,36,36)",
              "ticks": "outside"
             }
            },
            "type": "scattergeo"
           }
          ],
          "scattergl": [
           {
            "marker": {
             "colorbar": {
              "outlinewidth": 1,
              "tickcolor": "rgb(36,36,36)",
              "ticks": "outside"
             }
            },
            "type": "scattergl"
           }
          ],
          "scattermapbox": [
           {
            "marker": {
             "colorbar": {
              "outlinewidth": 1,
              "tickcolor": "rgb(36,36,36)",
              "ticks": "outside"
             }
            },
            "type": "scattermapbox"
           }
          ],
          "scatterpolar": [
           {
            "marker": {
             "colorbar": {
              "outlinewidth": 1,
              "tickcolor": "rgb(36,36,36)",
              "ticks": "outside"
             }
            },
            "type": "scatterpolar"
           }
          ],
          "scatterpolargl": [
           {
            "marker": {
             "colorbar": {
              "outlinewidth": 1,
              "tickcolor": "rgb(36,36,36)",
              "ticks": "outside"
             }
            },
            "type": "scatterpolargl"
           }
          ],
          "scatterternary": [
           {
            "marker": {
             "colorbar": {
              "outlinewidth": 1,
              "tickcolor": "rgb(36,36,36)",
              "ticks": "outside"
             }
            },
            "type": "scatterternary"
           }
          ],
          "surface": [
           {
            "colorbar": {
             "outlinewidth": 1,
             "tickcolor": "rgb(36,36,36)",
             "ticks": "outside"
            },
            "colorscale": [
             [
              0,
              "#440154"
             ],
             [
              0.1111111111111111,
              "#482878"
             ],
             [
              0.2222222222222222,
              "#3e4989"
             ],
             [
              0.3333333333333333,
              "#31688e"
             ],
             [
              0.4444444444444444,
              "#26828e"
             ],
             [
              0.5555555555555556,
              "#1f9e89"
             ],
             [
              0.6666666666666666,
              "#35b779"
             ],
             [
              0.7777777777777778,
              "#6ece58"
             ],
             [
              0.8888888888888888,
              "#b5de2b"
             ],
             [
              1,
              "#fde725"
             ]
            ],
            "type": "surface"
           }
          ],
          "table": [
           {
            "cells": {
             "fill": {
              "color": "rgb(237,237,237)"
             },
             "line": {
              "color": "white"
             }
            },
            "header": {
             "fill": {
              "color": "rgb(217,217,217)"
             },
             "line": {
              "color": "white"
             }
            },
            "type": "table"
           }
          ]
         },
         "layout": {
          "annotationdefaults": {
           "arrowhead": 0,
           "arrowwidth": 1
          },
          "autotypenumbers": "strict",
          "coloraxis": {
           "colorbar": {
            "outlinewidth": 1,
            "tickcolor": "rgb(36,36,36)",
            "ticks": "outside"
           }
          },
          "colorscale": {
           "diverging": [
            [
             0,
             "rgb(103,0,31)"
            ],
            [
             0.1,
             "rgb(178,24,43)"
            ],
            [
             0.2,
             "rgb(214,96,77)"
            ],
            [
             0.3,
             "rgb(244,165,130)"
            ],
            [
             0.4,
             "rgb(253,219,199)"
            ],
            [
             0.5,
             "rgb(247,247,247)"
            ],
            [
             0.6,
             "rgb(209,229,240)"
            ],
            [
             0.7,
             "rgb(146,197,222)"
            ],
            [
             0.8,
             "rgb(67,147,195)"
            ],
            [
             0.9,
             "rgb(33,102,172)"
            ],
            [
             1,
             "rgb(5,48,97)"
            ]
           ],
           "sequential": [
            [
             0,
             "#440154"
            ],
            [
             0.1111111111111111,
             "#482878"
            ],
            [
             0.2222222222222222,
             "#3e4989"
            ],
            [
             0.3333333333333333,
             "#31688e"
            ],
            [
             0.4444444444444444,
             "#26828e"
            ],
            [
             0.5555555555555556,
             "#1f9e89"
            ],
            [
             0.6666666666666666,
             "#35b779"
            ],
            [
             0.7777777777777778,
             "#6ece58"
            ],
            [
             0.8888888888888888,
             "#b5de2b"
            ],
            [
             1,
             "#fde725"
            ]
           ],
           "sequentialminus": [
            [
             0,
             "#440154"
            ],
            [
             0.1111111111111111,
             "#482878"
            ],
            [
             0.2222222222222222,
             "#3e4989"
            ],
            [
             0.3333333333333333,
             "#31688e"
            ],
            [
             0.4444444444444444,
             "#26828e"
            ],
            [
             0.5555555555555556,
             "#1f9e89"
            ],
            [
             0.6666666666666666,
             "#35b779"
            ],
            [
             0.7777777777777778,
             "#6ece58"
            ],
            [
             0.8888888888888888,
             "#b5de2b"
            ],
            [
             1,
             "#fde725"
            ]
           ]
          },
          "colorway": [
           "#1F77B4",
           "#FF7F0E",
           "#2CA02C",
           "#D62728",
           "#9467BD",
           "#8C564B",
           "#E377C2",
           "#7F7F7F",
           "#BCBD22",
           "#17BECF"
          ],
          "font": {
           "color": "rgb(36,36,36)"
          },
          "geo": {
           "bgcolor": "white",
           "lakecolor": "white",
           "landcolor": "white",
           "showlakes": true,
           "showland": true,
           "subunitcolor": "white"
          },
          "hoverlabel": {
           "align": "left"
          },
          "hovermode": "closest",
          "mapbox": {
           "style": "light"
          },
          "paper_bgcolor": "white",
          "plot_bgcolor": "white",
          "polar": {
           "angularaxis": {
            "gridcolor": "rgb(232,232,232)",
            "linecolor": "rgb(36,36,36)",
            "showgrid": false,
            "showline": true,
            "ticks": "outside"
           },
           "bgcolor": "white",
           "radialaxis": {
            "gridcolor": "rgb(232,232,232)",
            "linecolor": "rgb(36,36,36)",
            "showgrid": false,
            "showline": true,
            "ticks": "outside"
           }
          },
          "scene": {
           "xaxis": {
            "backgroundcolor": "white",
            "gridcolor": "rgb(232,232,232)",
            "gridwidth": 2,
            "linecolor": "rgb(36,36,36)",
            "showbackground": true,
            "showgrid": false,
            "showline": true,
            "ticks": "outside",
            "zeroline": false,
            "zerolinecolor": "rgb(36,36,36)"
           },
           "yaxis": {
            "backgroundcolor": "white",
            "gridcolor": "rgb(232,232,232)",
            "gridwidth": 2,
            "linecolor": "rgb(36,36,36)",
            "showbackground": true,
            "showgrid": false,
            "showline": true,
            "ticks": "outside",
            "zeroline": false,
            "zerolinecolor": "rgb(36,36,36)"
           },
           "zaxis": {
            "backgroundcolor": "white",
            "gridcolor": "rgb(232,232,232)",
            "gridwidth": 2,
            "linecolor": "rgb(36,36,36)",
            "showbackground": true,
            "showgrid": false,
            "showline": true,
            "ticks": "outside",
            "zeroline": false,
            "zerolinecolor": "rgb(36,36,36)"
           }
          },
          "shapedefaults": {
           "fillcolor": "black",
           "line": {
            "width": 0
           },
           "opacity": 0.3
          },
          "ternary": {
           "aaxis": {
            "gridcolor": "rgb(232,232,232)",
            "linecolor": "rgb(36,36,36)",
            "showgrid": false,
            "showline": true,
            "ticks": "outside"
           },
           "baxis": {
            "gridcolor": "rgb(232,232,232)",
            "linecolor": "rgb(36,36,36)",
            "showgrid": false,
            "showline": true,
            "ticks": "outside"
           },
           "bgcolor": "white",
           "caxis": {
            "gridcolor": "rgb(232,232,232)",
            "linecolor": "rgb(36,36,36)",
            "showgrid": false,
            "showline": true,
            "ticks": "outside"
           }
          },
          "title": {
           "x": 0.05
          },
          "xaxis": {
           "automargin": true,
           "gridcolor": "rgb(232,232,232)",
           "linecolor": "rgb(36,36,36)",
           "showgrid": false,
           "showline": true,
           "ticks": "outside",
           "title": {
            "standoff": 15
           },
           "zeroline": false,
           "zerolinecolor": "rgb(36,36,36)"
          },
          "yaxis": {
           "automargin": true,
           "gridcolor": "rgb(232,232,232)",
           "linecolor": "rgb(36,36,36)",
           "showgrid": false,
           "showline": true,
           "ticks": "outside",
           "title": {
            "standoff": 15
           },
           "zeroline": false,
           "zerolinecolor": "rgb(36,36,36)"
          }
         }
        },
        "title": {
         "text": ""
        },
        "xaxis": {
         "showgrid": false,
         "showline": false,
         "showticklabels": false,
         "ticks": "",
         "title": {
          "text": ""
         },
         "zeroline": false
        },
        "yaxis": {
         "showgrid": false,
         "showline": false,
         "showticklabels": false,
         "ticks": "",
         "title": {
          "text": ""
         },
         "zeroline": false
        }
       }
      },
      "text/html": [
       "<div>                            <div id=\"f226c6c3-2ccd-4811-9bd7-0eba9f95f1dc\" class=\"plotly-graph-div\" style=\"height:525px; width:100%;\"></div>            <script type=\"text/javascript\">                require([\"plotly\"], function(Plotly) {                    window.PLOTLYENV=window.PLOTLYENV || {};                                    if (document.getElementById(\"f226c6c3-2ccd-4811-9bd7-0eba9f95f1dc\")) {                    Plotly.newPlot(                        \"f226c6c3-2ccd-4811-9bd7-0eba9f95f1dc\",                        [{\"hoverinfo\":\"none\",\"line\":{\"color\":\"#888\",\"width\":1},\"mode\":\"lines\",\"name\":\"edge_trace\",\"x\":[1.6207675910795758,1.7808025342103655,null,1.6207675910795758,1.1459163208313636,null,1.7808025342103655,2.266012549397378,null,2.266012549397378,2.471310362660366,null,-0.08828225006825034,0.012906132766734123,null,0.74487816853088,1.1459163208313636,null,0.74487816853088,0.8460225045462115,null,0.74487816853088,0.16719616070500873,null,2.471310362660366,2.3649308956003754,null,2.3649308956003754,2.4675786748800546,null,-1.5515761670063792,-2.0072217979174796,null,-3.6468957514370604,-3.560304959518338,null,2.4675786748800546,2.865234812299778,null,-1.9558140925649214,-2.3655312748571684,null,-3.4885331738757075,-3.0379565015167063,null,1.58901660905071,2.0973956301844843,null],\"y\":[-1.6739421817170101,-1.1461267575955363,null,-1.6739421817170101,-1.9480000343419182,null,-1.1461267575955363,-0.8749927062837287,null,-0.8749927062837287,-0.3671549640315613,null,3.8581282741174676,3.3252537001631883,null,-2.3458785044389154,-1.9480000343419182,null,-2.3458785044389154,-2.9219579643963263,null,-2.3458785044389154,-2.2399885218335363,null,-0.3671549640315613,0.1752762496099943,null,0.1752762496099943,0.7077312989431143,null,2.1952639306437525,2.50713146168307,null,1.3886125274329635,1.925533391977318,null,0.7077312989431143,1.091057905831032,null,-3.164889373555892,-2.809541037660123,null,-1.496276453466396,-1.1922540247390438,null,3.334631311321711,3.1466379379883267,null],\"type\":\"scatter\",\"uid\":\"dca1c385-3570-4139-abb8-863be6ffc3c6\"},{\"hoverinfo\":\"text\",\"hovertext\":[\"Node ID: 0<br>Pullback set label: 4<br>Partial cluster label: 0<br>Node size: 5501<br>Summary statistic: 12700.0\",\"Node ID: 1<br>Pullback set label: 5<br>Partial cluster label: 0<br>Node size: 6971<br>Summary statistic: 12700.0\",\"Node ID: 2<br>Pullback set label: 0<br>Partial cluster label: 0<br>Node size: 419<br>Summary statistic: 12200.0\",\"Node ID: 3<br>Pullback set label: 6<br>Partial cluster label: 0<br>Node size: 6750<br>Summary statistic: 12900.0\",\"Node ID: 4<br>Pullback set label: 2<br>Partial cluster label: 0<br>Node size: 200<br>Summary statistic: 12400.0\",\"Node ID: 5<br>Pullback set label: 3<br>Partial cluster label: 0<br>Node size: 201<br>Summary statistic: 12300.0\",\"Node ID: 6<br>Pullback set label: 2<br>Partial cluster label: 1<br>Node size: 1932<br>Summary statistic: 12800.0\",\"Node ID: 7<br>Pullback set label: 3<br>Partial cluster label: 1<br>Node size: 3790<br>Summary statistic: 12600.0\",\"Node ID: 8<br>Pullback set label: 7<br>Partial cluster label: 0<br>Node size: 5275<br>Summary statistic: 12900.0\",\"Node ID: 9<br>Pullback set label: 8<br>Partial cluster label: 0<br>Node size: 3059<br>Summary statistic: 13200.0\",\"Node ID: 10<br>Pullback set label: 9<br>Partial cluster label: 0<br>Node size: 30<br>Summary statistic: 13000.0\",\"Node ID: 11<br>Pullback set label: 4<br>Partial cluster label: 1<br>Node size: 102<br>Summary statistic: 13000.0\",\"Node ID: 12<br>Pullback set label: 5<br>Partial cluster label: 1<br>Node size: 98<br>Summary statistic: 12800.0\",\"Node ID: 13<br>Pullback set label: 5<br>Partial cluster label: 2<br>Node size: 195<br>Summary statistic: 12000.0\",\"Node ID: 14<br>Pullback set label: 6<br>Partial cluster label: 1<br>Node size: 187<br>Summary statistic: 12000.0\",\"Node ID: 15<br>Pullback set label: 9<br>Partial cluster label: 1<br>Node size: 889<br>Summary statistic: 13100.0\",\"Node ID: 16<br>Pullback set label: 4<br>Partial cluster label: 2<br>Node size: 129<br>Summary statistic: 12800.0\",\"Node ID: 17<br>Pullback set label: 1<br>Partial cluster label: 0<br>Node size: 128<br>Summary statistic: 12900.0\",\"Node ID: 18<br>Pullback set label: 1<br>Partial cluster label: 1<br>Node size: 218<br>Summary statistic: 13100.0\",\"Node ID: 19<br>Pullback set label: 8<br>Partial cluster label: 1<br>Node size: 59<br>Summary statistic: 12600.0\",\"Node ID: 20<br>Pullback set label: 9<br>Partial cluster label: 2<br>Node size: 58<br>Summary statistic: 12600.0\",\"Node ID: 21<br>Pullback set label: 2<br>Partial cluster label: 2<br>Node size: 70<br>Summary statistic: 13500.0\",\"Node ID: 22<br>Pullback set label: 3<br>Partial cluster label: 2<br>Node size: 78<br>Summary statistic: 13800.0\",\"Node ID: 23<br>Pullback set label: 2<br>Partial cluster label: 3<br>Node size: 52<br>Summary statistic: 12800.0\",\"Node ID: 24<br>Pullback set label: 3<br>Partial cluster label: 3<br>Node size: 52<br>Summary statistic: 12800.0\",\"Node ID: 25<br>Pullback set label: 8<br>Partial cluster label: -1<br>Node size: 2<br>Summary statistic: 14100.0\"],\"marker\":{\"color\":[12682.643701145247,12724.578539664324,12231.494033412888,12858.153481481482,12393.1,12348.47263681592,12759.487577639751,12572.449604221636,12861.328909952606,13225.112781954887,13042.533333333333,13037.058823529413,12808.357142857143,12046.502564102564,11962.941176470587,13099.526434195726,12849.98449612403,12900.9375,13088.08256880734,12638.93220338983,12593.793103448275,13516.942857142858,13772.01282051282,12799.23076923077,12799.23076923077,14059.5],\"colorbar\":{\"thickness\":15,\"title\":{\"side\":\"right\",\"text\":\"\"},\"xanchor\":\"left\"},\"colorscale\":[[0.0,\"#440154\"],[0.1111111111111111,\"#482878\"],[0.2222222222222222,\"#3e4989\"],[0.3333333333333333,\"#31688e\"],[0.4444444444444444,\"#26828e\"],[0.5555555555555556,\"#1f9e89\"],[0.6666666666666666,\"#35b779\"],[0.7777777777777778,\"#6ece58\"],[0.8888888888888888,\"#b5de2b\"],[1.0,\"#fde725\"]],\"line\":{\"color\":\"#888\",\"width\":1},\"opacity\":1.0,\"reversescale\":false,\"showscale\":true,\"size\":[5501,6971,419,6750,200,201,1932,3790,5275,3059,30,102,98,195,187,889,129,128,218,59,58,70,78,52,52,2],\"sizemin\":4,\"sizemode\":\"area\",\"sizeref\":96.81944444444444},\"mode\":\"markers\",\"name\":\"node_trace\",\"x\":[1.6207675910795758,1.7808025342103655,-1.8774984385418432,2.266012549397378,-0.08828225006825034,0.012906132766734123,0.74487816853088,1.1459163208313636,2.471310362660366,2.3649308956003754,-1.8006600726144577,-1.5515761670063792,-2.0072217979174796,-3.6468957514370604,-3.560304959518338,2.4675786748800546,-3.990572805591541,0.8460225045462115,0.16719616070500873,-1.9558140925649214,-2.3655312748571684,-3.4885331738757075,-3.0379565015167063,1.58901660905071,2.0973956301844843,2.865234812299778],\"y\":[-1.6739421817170101,-1.1461267575955363,3.8229647303215524,-0.8749927062837287,3.8581282741174676,3.3252537001631883,-2.3458785044389154,-1.9480000343419182,-0.3671549640315613,0.1752762496099943,0.28649154344631866,2.1952639306437525,2.50713146168307,1.3886125274329635,1.925533391977318,0.7077312989431143,-0.03203295126630358,-2.9219579643963263,-2.2399885218335363,-3.164889373555892,-2.809541037660123,-1.496276453466396,-1.1922540247390438,3.334631311321711,3.1466379379883267,1.091057905831032],\"type\":\"scatter\",\"uid\":\"402169aa-1943-40a1-9356-fc822e9285d8\"}],                        {\"autosize\":false,\"hovermode\":\"closest\",\"margin\":{\"b\":20,\"l\":5,\"r\":5,\"t\":40},\"showlegend\":false,\"template\":{\"data\":{\"barpolar\":[{\"marker\":{\"line\":{\"color\":\"white\",\"width\":0.5},\"pattern\":{\"fillmode\":\"overlay\",\"size\":10,\"solidity\":0.2}},\"type\":\"barpolar\"}],\"bar\":[{\"error_x\":{\"color\":\"rgb(36,36,36)\"},\"error_y\":{\"color\":\"rgb(36,36,36)\"},\"marker\":{\"line\":{\"color\":\"white\",\"width\":0.5},\"pattern\":{\"fillmode\":\"overlay\",\"size\":10,\"solidity\":0.2}},\"type\":\"bar\"}],\"carpet\":[{\"aaxis\":{\"endlinecolor\":\"rgb(36,36,36)\",\"gridcolor\":\"white\",\"linecolor\":\"white\",\"minorgridcolor\":\"white\",\"startlinecolor\":\"rgb(36,36,36)\"},\"baxis\":{\"endlinecolor\":\"rgb(36,36,36)\",\"gridcolor\":\"white\",\"linecolor\":\"white\",\"minorgridcolor\":\"white\",\"startlinecolor\":\"rgb(36,36,36)\"},\"type\":\"carpet\"}],\"choropleth\":[{\"colorbar\":{\"outlinewidth\":1,\"tickcolor\":\"rgb(36,36,36)\",\"ticks\":\"outside\"},\"type\":\"choropleth\"}],\"contourcarpet\":[{\"colorbar\":{\"outlinewidth\":1,\"tickcolor\":\"rgb(36,36,36)\",\"ticks\":\"outside\"},\"type\":\"contourcarpet\"}],\"contour\":[{\"colorbar\":{\"outlinewidth\":1,\"tickcolor\":\"rgb(36,36,36)\",\"ticks\":\"outside\"},\"colorscale\":[[0.0,\"#440154\"],[0.1111111111111111,\"#482878\"],[0.2222222222222222,\"#3e4989\"],[0.3333333333333333,\"#31688e\"],[0.4444444444444444,\"#26828e\"],[0.5555555555555556,\"#1f9e89\"],[0.6666666666666666,\"#35b779\"],[0.7777777777777778,\"#6ece58\"],[0.8888888888888888,\"#b5de2b\"],[1.0,\"#fde725\"]],\"type\":\"contour\"}],\"heatmapgl\":[{\"colorbar\":{\"outlinewidth\":1,\"tickcolor\":\"rgb(36,36,36)\",\"ticks\":\"outside\"},\"colorscale\":[[0.0,\"#440154\"],[0.1111111111111111,\"#482878\"],[0.2222222222222222,\"#3e4989\"],[0.3333333333333333,\"#31688e\"],[0.4444444444444444,\"#26828e\"],[0.5555555555555556,\"#1f9e89\"],[0.6666666666666666,\"#35b779\"],[0.7777777777777778,\"#6ece58\"],[0.8888888888888888,\"#b5de2b\"],[1.0,\"#fde725\"]],\"type\":\"heatmapgl\"}],\"heatmap\":[{\"colorbar\":{\"outlinewidth\":1,\"tickcolor\":\"rgb(36,36,36)\",\"ticks\":\"outside\"},\"colorscale\":[[0.0,\"#440154\"],[0.1111111111111111,\"#482878\"],[0.2222222222222222,\"#3e4989\"],[0.3333333333333333,\"#31688e\"],[0.4444444444444444,\"#26828e\"],[0.5555555555555556,\"#1f9e89\"],[0.6666666666666666,\"#35b779\"],[0.7777777777777778,\"#6ece58\"],[0.8888888888888888,\"#b5de2b\"],[1.0,\"#fde725\"]],\"type\":\"heatmap\"}],\"histogram2dcontour\":[{\"colorbar\":{\"outlinewidth\":1,\"tickcolor\":\"rgb(36,36,36)\",\"ticks\":\"outside\"},\"colorscale\":[[0.0,\"#440154\"],[0.1111111111111111,\"#482878\"],[0.2222222222222222,\"#3e4989\"],[0.3333333333333333,\"#31688e\"],[0.4444444444444444,\"#26828e\"],[0.5555555555555556,\"#1f9e89\"],[0.6666666666666666,\"#35b779\"],[0.7777777777777778,\"#6ece58\"],[0.8888888888888888,\"#b5de2b\"],[1.0,\"#fde725\"]],\"type\":\"histogram2dcontour\"}],\"histogram2d\":[{\"colorbar\":{\"outlinewidth\":1,\"tickcolor\":\"rgb(36,36,36)\",\"ticks\":\"outside\"},\"colorscale\":[[0.0,\"#440154\"],[0.1111111111111111,\"#482878\"],[0.2222222222222222,\"#3e4989\"],[0.3333333333333333,\"#31688e\"],[0.4444444444444444,\"#26828e\"],[0.5555555555555556,\"#1f9e89\"],[0.6666666666666666,\"#35b779\"],[0.7777777777777778,\"#6ece58\"],[0.8888888888888888,\"#b5de2b\"],[1.0,\"#fde725\"]],\"type\":\"histogram2d\"}],\"histogram\":[{\"marker\":{\"line\":{\"color\":\"white\",\"width\":0.6}},\"type\":\"histogram\"}],\"mesh3d\":[{\"colorbar\":{\"outlinewidth\":1,\"tickcolor\":\"rgb(36,36,36)\",\"ticks\":\"outside\"},\"type\":\"mesh3d\"}],\"parcoords\":[{\"line\":{\"colorbar\":{\"outlinewidth\":1,\"tickcolor\":\"rgb(36,36,36)\",\"ticks\":\"outside\"}},\"type\":\"parcoords\"}],\"pie\":[{\"automargin\":true,\"type\":\"pie\"}],\"scatter3d\":[{\"line\":{\"colorbar\":{\"outlinewidth\":1,\"tickcolor\":\"rgb(36,36,36)\",\"ticks\":\"outside\"}},\"marker\":{\"colorbar\":{\"outlinewidth\":1,\"tickcolor\":\"rgb(36,36,36)\",\"ticks\":\"outside\"}},\"type\":\"scatter3d\"}],\"scattercarpet\":[{\"marker\":{\"colorbar\":{\"outlinewidth\":1,\"tickcolor\":\"rgb(36,36,36)\",\"ticks\":\"outside\"}},\"type\":\"scattercarpet\"}],\"scattergeo\":[{\"marker\":{\"colorbar\":{\"outlinewidth\":1,\"tickcolor\":\"rgb(36,36,36)\",\"ticks\":\"outside\"}},\"type\":\"scattergeo\"}],\"scattergl\":[{\"marker\":{\"colorbar\":{\"outlinewidth\":1,\"tickcolor\":\"rgb(36,36,36)\",\"ticks\":\"outside\"}},\"type\":\"scattergl\"}],\"scattermapbox\":[{\"marker\":{\"colorbar\":{\"outlinewidth\":1,\"tickcolor\":\"rgb(36,36,36)\",\"ticks\":\"outside\"}},\"type\":\"scattermapbox\"}],\"scatterpolargl\":[{\"marker\":{\"colorbar\":{\"outlinewidth\":1,\"tickcolor\":\"rgb(36,36,36)\",\"ticks\":\"outside\"}},\"type\":\"scatterpolargl\"}],\"scatterpolar\":[{\"marker\":{\"colorbar\":{\"outlinewidth\":1,\"tickcolor\":\"rgb(36,36,36)\",\"ticks\":\"outside\"}},\"type\":\"scatterpolar\"}],\"scatter\":[{\"marker\":{\"colorbar\":{\"outlinewidth\":1,\"tickcolor\":\"rgb(36,36,36)\",\"ticks\":\"outside\"}},\"type\":\"scatter\"}],\"scatterternary\":[{\"marker\":{\"colorbar\":{\"outlinewidth\":1,\"tickcolor\":\"rgb(36,36,36)\",\"ticks\":\"outside\"}},\"type\":\"scatterternary\"}],\"surface\":[{\"colorbar\":{\"outlinewidth\":1,\"tickcolor\":\"rgb(36,36,36)\",\"ticks\":\"outside\"},\"colorscale\":[[0.0,\"#440154\"],[0.1111111111111111,\"#482878\"],[0.2222222222222222,\"#3e4989\"],[0.3333333333333333,\"#31688e\"],[0.4444444444444444,\"#26828e\"],[0.5555555555555556,\"#1f9e89\"],[0.6666666666666666,\"#35b779\"],[0.7777777777777778,\"#6ece58\"],[0.8888888888888888,\"#b5de2b\"],[1.0,\"#fde725\"]],\"type\":\"surface\"}],\"table\":[{\"cells\":{\"fill\":{\"color\":\"rgb(237,237,237)\"},\"line\":{\"color\":\"white\"}},\"header\":{\"fill\":{\"color\":\"rgb(217,217,217)\"},\"line\":{\"color\":\"white\"}},\"type\":\"table\"}]},\"layout\":{\"annotationdefaults\":{\"arrowhead\":0,\"arrowwidth\":1},\"autotypenumbers\":\"strict\",\"coloraxis\":{\"colorbar\":{\"outlinewidth\":1,\"tickcolor\":\"rgb(36,36,36)\",\"ticks\":\"outside\"}},\"colorscale\":{\"diverging\":[[0.0,\"rgb(103,0,31)\"],[0.1,\"rgb(178,24,43)\"],[0.2,\"rgb(214,96,77)\"],[0.3,\"rgb(244,165,130)\"],[0.4,\"rgb(253,219,199)\"],[0.5,\"rgb(247,247,247)\"],[0.6,\"rgb(209,229,240)\"],[0.7,\"rgb(146,197,222)\"],[0.8,\"rgb(67,147,195)\"],[0.9,\"rgb(33,102,172)\"],[1.0,\"rgb(5,48,97)\"]],\"sequential\":[[0.0,\"#440154\"],[0.1111111111111111,\"#482878\"],[0.2222222222222222,\"#3e4989\"],[0.3333333333333333,\"#31688e\"],[0.4444444444444444,\"#26828e\"],[0.5555555555555556,\"#1f9e89\"],[0.6666666666666666,\"#35b779\"],[0.7777777777777778,\"#6ece58\"],[0.8888888888888888,\"#b5de2b\"],[1.0,\"#fde725\"]],\"sequentialminus\":[[0.0,\"#440154\"],[0.1111111111111111,\"#482878\"],[0.2222222222222222,\"#3e4989\"],[0.3333333333333333,\"#31688e\"],[0.4444444444444444,\"#26828e\"],[0.5555555555555556,\"#1f9e89\"],[0.6666666666666666,\"#35b779\"],[0.7777777777777778,\"#6ece58\"],[0.8888888888888888,\"#b5de2b\"],[1.0,\"#fde725\"]]},\"colorway\":[\"#1F77B4\",\"#FF7F0E\",\"#2CA02C\",\"#D62728\",\"#9467BD\",\"#8C564B\",\"#E377C2\",\"#7F7F7F\",\"#BCBD22\",\"#17BECF\"],\"font\":{\"color\":\"rgb(36,36,36)\"},\"geo\":{\"bgcolor\":\"white\",\"lakecolor\":\"white\",\"landcolor\":\"white\",\"showlakes\":true,\"showland\":true,\"subunitcolor\":\"white\"},\"hoverlabel\":{\"align\":\"left\"},\"hovermode\":\"closest\",\"mapbox\":{\"style\":\"light\"},\"paper_bgcolor\":\"white\",\"plot_bgcolor\":\"white\",\"polar\":{\"angularaxis\":{\"gridcolor\":\"rgb(232,232,232)\",\"linecolor\":\"rgb(36,36,36)\",\"showgrid\":false,\"showline\":true,\"ticks\":\"outside\"},\"bgcolor\":\"white\",\"radialaxis\":{\"gridcolor\":\"rgb(232,232,232)\",\"linecolor\":\"rgb(36,36,36)\",\"showgrid\":false,\"showline\":true,\"ticks\":\"outside\"}},\"scene\":{\"xaxis\":{\"backgroundcolor\":\"white\",\"gridcolor\":\"rgb(232,232,232)\",\"gridwidth\":2,\"linecolor\":\"rgb(36,36,36)\",\"showbackground\":true,\"showgrid\":false,\"showline\":true,\"ticks\":\"outside\",\"zeroline\":false,\"zerolinecolor\":\"rgb(36,36,36)\"},\"yaxis\":{\"backgroundcolor\":\"white\",\"gridcolor\":\"rgb(232,232,232)\",\"gridwidth\":2,\"linecolor\":\"rgb(36,36,36)\",\"showbackground\":true,\"showgrid\":false,\"showline\":true,\"ticks\":\"outside\",\"zeroline\":false,\"zerolinecolor\":\"rgb(36,36,36)\"},\"zaxis\":{\"backgroundcolor\":\"white\",\"gridcolor\":\"rgb(232,232,232)\",\"gridwidth\":2,\"linecolor\":\"rgb(36,36,36)\",\"showbackground\":true,\"showgrid\":false,\"showline\":true,\"ticks\":\"outside\",\"zeroline\":false,\"zerolinecolor\":\"rgb(36,36,36)\"}},\"shapedefaults\":{\"fillcolor\":\"black\",\"line\":{\"width\":0},\"opacity\":0.3},\"ternary\":{\"aaxis\":{\"gridcolor\":\"rgb(232,232,232)\",\"linecolor\":\"rgb(36,36,36)\",\"showgrid\":false,\"showline\":true,\"ticks\":\"outside\"},\"baxis\":{\"gridcolor\":\"rgb(232,232,232)\",\"linecolor\":\"rgb(36,36,36)\",\"showgrid\":false,\"showline\":true,\"ticks\":\"outside\"},\"bgcolor\":\"white\",\"caxis\":{\"gridcolor\":\"rgb(232,232,232)\",\"linecolor\":\"rgb(36,36,36)\",\"showgrid\":false,\"showline\":true,\"ticks\":\"outside\"}},\"title\":{\"x\":0.05},\"xaxis\":{\"automargin\":true,\"gridcolor\":\"rgb(232,232,232)\",\"linecolor\":\"rgb(36,36,36)\",\"showgrid\":false,\"showline\":true,\"ticks\":\"outside\",\"title\":{\"standoff\":15},\"zeroline\":false,\"zerolinecolor\":\"rgb(36,36,36)\"},\"yaxis\":{\"automargin\":true,\"gridcolor\":\"rgb(232,232,232)\",\"linecolor\":\"rgb(36,36,36)\",\"showgrid\":false,\"showline\":true,\"ticks\":\"outside\",\"title\":{\"standoff\":15},\"zeroline\":false,\"zerolinecolor\":\"rgb(36,36,36)\"}}},\"title\":{\"text\":\"\"},\"xaxis\":{\"showgrid\":false,\"showline\":false,\"showticklabels\":false,\"ticks\":\"\",\"title\":{\"text\":\"\"},\"zeroline\":false},\"yaxis\":{\"showgrid\":false,\"showline\":false,\"showticklabels\":false,\"ticks\":\"\",\"title\":{\"text\":\"\"},\"zeroline\":false}},                        {\"scrollZoom\": true, \"responsive\": true}                    ).then(function(){\n",
       "                            \n",
       "var gd = document.getElementById('f226c6c3-2ccd-4811-9bd7-0eba9f95f1dc');\n",
       "var x = new MutationObserver(function (mutations, observer) {{\n",
       "        var display = window.getComputedStyle(gd).display;\n",
       "        if (!display || display === 'none') {{\n",
       "            console.log([gd, 'removed!']);\n",
       "            Plotly.purge(gd);\n",
       "            observer.disconnect();\n",
       "        }}\n",
       "}});\n",
       "\n",
       "// Listen for the removal of the full notebook cells\n",
       "var notebookContainer = gd.closest('#notebook-container');\n",
       "if (notebookContainer) {{\n",
       "    x.observe(notebookContainer, {childList: true});\n",
       "}}\n",
       "\n",
       "// Listen for the clearing of the current output cell\n",
       "var outputEl = gd.closest('.output');\n",
       "if (outputEl) {{\n",
       "    x.observe(outputEl, {childList: true});\n",
       "}}\n",
       "\n",
       "                        })                };                });            </script>        </div>"
      ]
     },
     "metadata": {},
     "output_type": "display_data"
    }
   ],
   "source": [
    "fig = plot_static_mapper_graph(pipe, embeddingsF)\n",
    "fig.show(config={'scrollZoom': True})"
   ]
  },
  {
   "cell_type": "code",
   "execution_count": 72,
   "id": "64cff787",
   "metadata": {},
   "outputs": [
    {
     "name": "stdout",
     "output_type": "stream",
     "text": [
      "[Pipeline] ............ (step 1 of 3) Processing scaler, total=   0.0s\n",
      "[Pipeline] ....... (step 2 of 3) Processing filter_func, total=   0.0s\n",
      "[Pipeline] ............. (step 3 of 3) Processing cover, total=   0.1s\n",
      "[Pipeline] .... (step 1 of 3) Processing pullback_cover, total=   0.1s\n",
      "[Pipeline] ........ (step 2 of 3) Processing clustering, total=   0.3s\n",
      "[Pipeline] ............. (step 3 of 3) Processing nerve, total=   0.0s\n"
     ]
    },
    {
     "data": {
      "application/vnd.jupyter.widget-view+json": {
       "model_id": "1eb3ed4291ce407fa10c55e4fec740d0",
       "version_major": 2,
       "version_minor": 0
      },
      "text/plain": [
       "VBox(children=(HBox(children=(VBox(children=(HTML(value='<b>Cover parameters</b>'), Text(value='uniform', cont…"
      ]
     },
     "metadata": {},
     "output_type": "display_data"
    }
   ],
   "source": [
    "plot_interactive_mapper_graph(pipe, embeddingsM)"
   ]
  },
  {
   "cell_type": "code",
   "execution_count": 88,
   "id": "c938580e",
   "metadata": {},
   "outputs": [],
   "source": [
    "clean1 = model.labels_"
   ]
  },
  {
   "cell_type": "code",
   "execution_count": 92,
   "id": "b561686f",
   "metadata": {},
   "outputs": [],
   "source": [
    "n_clusters1_ = len(set(clean1)) - (1 if -1 in clean1 else 0)\n",
    "n_noise_ = list(clean1).count(-1)"
   ]
  },
  {
   "cell_type": "code",
   "execution_count": 93,
   "id": "8307d471",
   "metadata": {},
   "outputs": [
    {
     "data": {
      "text/plain": [
       "4"
      ]
     },
     "execution_count": 93,
     "metadata": {},
     "output_type": "execute_result"
    }
   ],
   "source": [
    "n_clusters1_"
   ]
  },
  {
   "cell_type": "code",
   "execution_count": null,
   "id": "a03f76a4",
   "metadata": {},
   "outputs": [],
   "source": []
  },
  {
   "cell_type": "code",
   "execution_count": 73,
   "id": "e4443145",
   "metadata": {},
   "outputs": [
    {
     "name": "stdout",
     "output_type": "stream",
     "text": [
      "[Pipeline] ............ (step 1 of 3) Processing scaler, total=   0.0s\n",
      "[Pipeline] ....... (step 2 of 3) Processing filter_func, total=   0.0s\n",
      "[Pipeline] ............. (step 3 of 3) Processing cover, total=   0.1s\n",
      "[Pipeline] .... (step 1 of 3) Processing pullback_cover, total=   0.1s\n",
      "[Pipeline] ........ (step 2 of 3) Processing clustering, total=   0.8s\n",
      "[Pipeline] ............. (step 3 of 3) Processing nerve, total=   0.0s\n"
     ]
    },
    {
     "data": {
      "application/vnd.jupyter.widget-view+json": {
       "model_id": "9da7803b719b4b57968d271cd1cc3614",
       "version_major": 2,
       "version_minor": 0
      },
      "text/plain": [
       "VBox(children=(HBox(children=(VBox(children=(HTML(value='<b>Cover parameters</b>'), Text(value='uniform', cont…"
      ]
     },
     "metadata": {},
     "output_type": "display_data"
    }
   ],
   "source": [
    "plot_interactive_mapper_graph(pipe, embeddingsF)"
   ]
  },
  {
   "cell_type": "code",
   "execution_count": 85,
   "id": "544e853d",
   "metadata": {},
   "outputs": [],
   "source": [
    "clean = model.labels_"
   ]
  },
  {
   "cell_type": "code",
   "execution_count": 86,
   "id": "39199342",
   "metadata": {},
   "outputs": [],
   "source": [
    "n_clusters_ = len(set(clean)) - (1 if -1 in clean else 0)\n",
    "n_noise_ = list(clean).count(-1)"
   ]
  },
  {
   "cell_type": "code",
   "execution_count": 87,
   "id": "24e44352",
   "metadata": {},
   "outputs": [
    {
     "data": {
      "text/plain": [
       "4"
      ]
     },
     "execution_count": 87,
     "metadata": {},
     "output_type": "execute_result"
    }
   ],
   "source": [
    "n_clusters_"
   ]
  },
  {
   "cell_type": "code",
   "execution_count": null,
   "id": "5bcedc88",
   "metadata": {},
   "outputs": [],
   "source": [
    "raw_data.to_csv('raw_hierar.csv', index = False)"
   ]
  },
  {
   "cell_type": "code",
   "execution_count": null,
   "id": "118a588b",
   "metadata": {},
   "outputs": [],
   "source": [
    "KMeans = pd.read_csv('C:\\\\Users\\BRIGHT\\\\Desktop\\\\caproject.csv')"
   ]
  }
 ],
 "metadata": {
  "kernelspec": {
   "display_name": "Python 3",
   "language": "python",
   "name": "python3"
  },
  "language_info": {
   "codemirror_mode": {
    "name": "ipython",
    "version": 3
   },
   "file_extension": ".py",
   "mimetype": "text/x-python",
   "name": "python",
   "nbconvert_exporter": "python",
   "pygments_lexer": "ipython3",
   "version": "3.8.8"
  }
 },
 "nbformat": 4,
 "nbformat_minor": 5
}
