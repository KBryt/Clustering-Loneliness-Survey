{
 "cells": [
  {
   "cell_type": "code",
   "execution_count": 1,
   "id": "a655a527",
   "metadata": {},
   "outputs": [
    {
     "data": {
      "text/html": [
       "<div>\n",
       "<style scoped>\n",
       "    .dataframe tbody tr th:only-of-type {\n",
       "        vertical-align: middle;\n",
       "    }\n",
       "\n",
       "    .dataframe tbody tr th {\n",
       "        vertical-align: top;\n",
       "    }\n",
       "\n",
       "    .dataframe thead th {\n",
       "        text-align: right;\n",
       "    }\n",
       "</style>\n",
       "<table border=\"1\" class=\"dataframe\">\n",
       "  <thead>\n",
       "    <tr style=\"text-align: right;\">\n",
       "      <th></th>\n",
       "      <th>Idme</th>\n",
       "      <th>Q9_Loneliness_Meaning_Qual</th>\n",
       "    </tr>\n",
       "  </thead>\n",
       "  <tbody>\n",
       "    <tr>\n",
       "      <th>0</th>\n",
       "      <td>203</td>\n",
       "      <td>-99</td>\n",
       "    </tr>\n",
       "    <tr>\n",
       "      <th>1</th>\n",
       "      <td>237</td>\n",
       "      <td>Makes me feel empty</td>\n",
       "    </tr>\n",
       "    <tr>\n",
       "      <th>2</th>\n",
       "      <td>545</td>\n",
       "      <td>Not speaking to anyone for days. Being out wit...</td>\n",
       "    </tr>\n",
       "    <tr>\n",
       "      <th>3</th>\n",
       "      <td>565</td>\n",
       "      <td>I am a very loving generous person but due to ...</td>\n",
       "    </tr>\n",
       "    <tr>\n",
       "      <th>4</th>\n",
       "      <td>658</td>\n",
       "      <td>Unlikeable</td>\n",
       "    </tr>\n",
       "  </tbody>\n",
       "</table>\n",
       "</div>"
      ],
      "text/plain": [
       "   Idme                         Q9_Loneliness_Meaning_Qual\n",
       "0   203                                                -99\n",
       "1   237                                Makes me feel empty\n",
       "2   545  Not speaking to anyone for days. Being out wit...\n",
       "3   565  I am a very loving generous person but due to ...\n",
       "4   658                                         Unlikeable"
      ]
     },
     "execution_count": 1,
     "metadata": {},
     "output_type": "execute_result"
    }
   ],
   "source": [
    "\n",
    "\n",
    "\n",
    "## Imports (code & data)\n",
    "\n",
    "import pandas as pd\n",
    "import yake\n",
    "\n",
    "\n",
    "import numpy as np\n",
    "\n",
    "\n",
    "raw_data = pd.read_csv('C:\\\\Users\\BRIGHT\\\\Desktop\\\\caproject.csv')\n",
    "raw_data.head()"
   ]
  },
  {
   "cell_type": "markdown",
   "id": "bc061a19",
   "metadata": {},
   "source": [
    "import os\n",
    "\n",
    "os.system(\"pip install git+https://github.com/LIAAD/yake\")\n",
    "\n",
    "import pandas as pd\n",
    "from nltk.tokenize import RegexpTokenizer\n",
    "import yake\n",
    "\n",
    "sample_posts = clean_data \n",
    "\n",
    "def keywords_yake(sample_posts):\n",
    "    # take keywords for each post & turn them into a text string \"sentence\"\n",
    "    simple_kwextractor = yake.KeywordExtractor()\n",
    "\n",
    "    # create empty list to save our \"sentnecs\" to\n",
    "    sentences = []\n",
    "\n",
    "    for post in sample_posts:\n",
    "        post_keywords = simple_kwextractor.extract_keywords(post)\n",
    "\n",
    "        sentence_output = \"\"\n",
    "        for word, number in post_keywords:\n",
    "            sentence_output += word + \" \"\n",
    "\n",
    "        sentences.append(sentence_output)\n",
    "        \n",
    "    return(sentences)\n",
    "\n",
    "def tokenizing_after_YAKE(sentences):\n",
    "    tokenizer = RegexpTokenizer(r'\\w+')\n",
    "    sample_data_tokenized = [w.lower() for w in sentences]\n",
    "    sample_data_tokenized = [tokenizer.tokenize(i) for i in sample_data_tokenized]\n",
    "    \n",
    "    return(sample_data_tokenized)"
   ]
  },
  {
   "cell_type": "code",
   "execution_count": 2,
   "id": "76169850",
   "metadata": {},
   "outputs": [
    {
     "name": "stdout",
     "output_type": "stream",
     "text": [
      "(55203, 2)\n"
     ]
    }
   ],
   "source": [
    " print (raw_data.shape)"
   ]
  },
  {
   "cell_type": "code",
   "execution_count": 3,
   "id": "6aa9b856",
   "metadata": {},
   "outputs": [
    {
     "name": "stdout",
     "output_type": "stream",
     "text": [
      "<class 'pandas.core.frame.DataFrame'>\n",
      "RangeIndex: 55203 entries, 0 to 55202\n",
      "Data columns (total 2 columns):\n",
      " #   Column                      Non-Null Count  Dtype \n",
      "---  ------                      --------------  ----- \n",
      " 0   Idme                        55203 non-null  int64 \n",
      " 1   Q9_Loneliness_Meaning_Qual  55202 non-null  object\n",
      "dtypes: int64(1), object(1)\n",
      "memory usage: 862.7+ KB\n"
     ]
    }
   ],
   "source": [
    "raw_data.info()"
   ]
  },
  {
   "cell_type": "code",
   "execution_count": 4,
   "id": "5bc2e76f",
   "metadata": {},
   "outputs": [
    {
     "data": {
      "text/plain": [
       "Index(['Idme', 'Q9_Loneliness_Meaning_Qual'], dtype='object')"
      ]
     },
     "execution_count": 4,
     "metadata": {},
     "output_type": "execute_result"
    }
   ],
   "source": [
    "raw_data.columns"
   ]
  },
  {
   "cell_type": "code",
   "execution_count": 5,
   "id": "04308c20",
   "metadata": {},
   "outputs": [],
   "source": [
    "# Renaming column\n",
    "\n",
    "raw_data = raw_data.rename(columns = {'Q9_Loneliness_Meaning_Qual': 'response'})"
   ]
  },
  {
   "cell_type": "code",
   "execution_count": 6,
   "id": "49f6db91",
   "metadata": {},
   "outputs": [
    {
     "data": {
      "text/html": [
       "<div>\n",
       "<style scoped>\n",
       "    .dataframe tbody tr th:only-of-type {\n",
       "        vertical-align: middle;\n",
       "    }\n",
       "\n",
       "    .dataframe tbody tr th {\n",
       "        vertical-align: top;\n",
       "    }\n",
       "\n",
       "    .dataframe thead th {\n",
       "        text-align: right;\n",
       "    }\n",
       "</style>\n",
       "<table border=\"1\" class=\"dataframe\">\n",
       "  <thead>\n",
       "    <tr style=\"text-align: right;\">\n",
       "      <th></th>\n",
       "      <th>Idme</th>\n",
       "      <th>response</th>\n",
       "    </tr>\n",
       "  </thead>\n",
       "  <tbody>\n",
       "    <tr>\n",
       "      <th>0</th>\n",
       "      <td>203</td>\n",
       "      <td>-99</td>\n",
       "    </tr>\n",
       "    <tr>\n",
       "      <th>1</th>\n",
       "      <td>237</td>\n",
       "      <td>Makes me feel empty</td>\n",
       "    </tr>\n",
       "    <tr>\n",
       "      <th>2</th>\n",
       "      <td>545</td>\n",
       "      <td>Not speaking to anyone for days. Being out wit...</td>\n",
       "    </tr>\n",
       "    <tr>\n",
       "      <th>3</th>\n",
       "      <td>565</td>\n",
       "      <td>I am a very loving generous person but due to ...</td>\n",
       "    </tr>\n",
       "    <tr>\n",
       "      <th>4</th>\n",
       "      <td>658</td>\n",
       "      <td>Unlikeable</td>\n",
       "    </tr>\n",
       "  </tbody>\n",
       "</table>\n",
       "</div>"
      ],
      "text/plain": [
       "   Idme                                           response\n",
       "0   203                                                -99\n",
       "1   237                                Makes me feel empty\n",
       "2   545  Not speaking to anyone for days. Being out wit...\n",
       "3   565  I am a very loving generous person but due to ...\n",
       "4   658                                         Unlikeable"
      ]
     },
     "execution_count": 6,
     "metadata": {},
     "output_type": "execute_result"
    }
   ],
   "source": [
    "raw_data.head()"
   ]
  },
  {
   "cell_type": "code",
   "execution_count": 7,
   "id": "c53f7bf3",
   "metadata": {},
   "outputs": [
    {
     "data": {
      "text/html": [
       "<div>\n",
       "<style scoped>\n",
       "    .dataframe tbody tr th:only-of-type {\n",
       "        vertical-align: middle;\n",
       "    }\n",
       "\n",
       "    .dataframe tbody tr th {\n",
       "        vertical-align: top;\n",
       "    }\n",
       "\n",
       "    .dataframe thead th {\n",
       "        text-align: right;\n",
       "    }\n",
       "</style>\n",
       "<table border=\"1\" class=\"dataframe\">\n",
       "  <thead>\n",
       "    <tr style=\"text-align: right;\">\n",
       "      <th></th>\n",
       "      <th>Idme</th>\n",
       "      <th>response</th>\n",
       "    </tr>\n",
       "  </thead>\n",
       "  <tbody>\n",
       "    <tr>\n",
       "      <th>1</th>\n",
       "      <td>237</td>\n",
       "      <td>Makes me feel empty</td>\n",
       "    </tr>\n",
       "    <tr>\n",
       "      <th>2</th>\n",
       "      <td>545</td>\n",
       "      <td>Not speaking to anyone for days. Being out wit...</td>\n",
       "    </tr>\n",
       "    <tr>\n",
       "      <th>3</th>\n",
       "      <td>565</td>\n",
       "      <td>I am a very loving generous person but due to ...</td>\n",
       "    </tr>\n",
       "    <tr>\n",
       "      <th>4</th>\n",
       "      <td>658</td>\n",
       "      <td>Unlikeable</td>\n",
       "    </tr>\n",
       "    <tr>\n",
       "      <th>5</th>\n",
       "      <td>1044</td>\n",
       "      <td>Feeling like you aren't connected to the world...</td>\n",
       "    </tr>\n",
       "  </tbody>\n",
       "</table>\n",
       "</div>"
      ],
      "text/plain": [
       "   Idme                                           response\n",
       "1   237                                Makes me feel empty\n",
       "2   545  Not speaking to anyone for days. Being out wit...\n",
       "3   565  I am a very loving generous person but due to ...\n",
       "4   658                                         Unlikeable\n",
       "5  1044  Feeling like you aren't connected to the world..."
      ]
     },
     "execution_count": 7,
     "metadata": {},
     "output_type": "execute_result"
    }
   ],
   "source": [
    "clean_data = raw_data[raw_data['response'] != '-99']\n",
    "clean_data.head()"
   ]
  },
  {
   "cell_type": "code",
   "execution_count": 8,
   "id": "10e0d5c2",
   "metadata": {},
   "outputs": [
    {
     "data": {
      "text/plain": [
       "(39444, 2)"
      ]
     },
     "execution_count": 8,
     "metadata": {},
     "output_type": "execute_result"
    }
   ],
   "source": [
    "clean_data.shape"
   ]
  },
  {
   "cell_type": "code",
   "execution_count": 9,
   "id": "5b0cfc87",
   "metadata": {},
   "outputs": [],
   "source": [
    "clean_data.to_csv('raw_hierar.csv', index = False)"
   ]
  },
  {
   "cell_type": "code",
   "execution_count": 10,
   "id": "e2bb5eed",
   "metadata": {},
   "outputs": [],
   "source": [
    "clean_data1 = clean_data.response.str.cat(sep=' ')"
   ]
  },
  {
   "cell_type": "code",
   "execution_count": 11,
   "id": "6ee91afc",
   "metadata": {},
   "outputs": [],
   "source": [
    "#remove single character mostly punctuation\n",
    "import string\n",
    "import nltk\n",
    "words = nltk.word_tokenize(clean_data1)\n",
    "words = [word for word in words if len(word) > 2]\n",
    "\n",
    "\n",
    "#Remove numbers\n",
    "words = [word for word in words if not word.isnumeric()]\n",
    "\n",
    "#Remove non breaking space\n",
    "words = [word for word in words if word != \"nbsp\"]\n",
    "\n",
    "# Stop words\n",
    "from nltk.corpus import stopwords\n",
    "stop_words = set(stopwords.words(\"english\"))\n",
    "words = [w for w in words if not w in stop_words]\n",
    "\n",
    "#lowercase all words\n",
    "words = [word.lower() for word in words]\n",
    "\n",
    "3\n",
    "exclude = set(string.punctuation)\n",
    "words = ' '.join(ch for ch in words if ch not in exclude)\n",
    "\n",
    "import string\n",
    "for char in string.punctuation:\n",
    "    words = words.replace(char, ' ')\n",
    "\n",
    "words = words.replace('.', ' ')\n"
   ]
  },
  {
   "cell_type": "code",
   "execution_count": 12,
   "id": "eb3b89ef",
   "metadata": {},
   "outputs": [
    {
     "data": {
      "text/plain": [
       "3826148"
      ]
     },
     "execution_count": 12,
     "metadata": {},
     "output_type": "execute_result"
    }
   ],
   "source": [
    "len(words)"
   ]
  },
  {
   "cell_type": "code",
   "execution_count": 13,
   "id": "d81c4245",
   "metadata": {},
   "outputs": [
    {
     "name": "stdout",
     "output_type": "stream",
     "text": [
      "('feeling isolated feeling', 1.3978385678099293e-10)\n",
      "('share thoughts feelings', 4.934484530170151e-10)\n",
      "('loneliness feeling isolated', 6.572377117085242e-10)\n",
      "('feel lonely feeling', 7.948234532799694e-10)\n",
      "('people loneliness feeling', 8.81128599638712e-10)\n",
      "('share things feeling', 9.375374691244522e-10)\n",
      "('feel lonely feel', 9.63682086985371e-10)\n",
      "('people feeling isolated', 9.736056543384721e-10)\n",
      "('people feel lonely', 1.1346187486529636e-09)\n",
      "('loneliness feeling isolation', 1.1974124287604156e-09)\n",
      "('feeling disconnected people', 1.2034031386528546e-09)\n",
      "('feeling isolated people', 1.2285976114271194e-09)\n",
      "('feeling isolation feeling', 1.274346316588053e-09)\n",
      "('feel lonely loneliness', 1.2859592957880074e-09)\n",
      "('feeling lonely feeling', 1.3618274061017504e-09)\n",
      "('feelings loneliness feeling', 1.4178368349145458e-09)\n",
      "('feeling isolated loneliness', 1.4324411665442194e-09)\n",
      "('lonely loneliness feeling', 1.4502181647219184e-09)\n",
      "('share feelings feeling', 1.6350122536018455e-09)\n",
      "('feel lonely people', 1.8099870514225848e-09)\n"
     ]
    }
   ],
   "source": [
    "import yake\n",
    "kw_extractor = yake.KeywordExtractor()\n",
    "keywords = kw_extractor.extract_keywords(words)\n",
    "\n",
    "for kw in keywords:\n",
    "\tprint(kw)"
   ]
  },
  {
   "cell_type": "code",
   "execution_count": 14,
   "id": "6a224d42",
   "metadata": {},
   "outputs": [],
   "source": [
    "import sys\n",
    "from termcolor import colored\n",
    "text=words\n",
    "l1=keywords\n",
    "formattedText = []\n",
    "for t in text.lower().split():\n",
    "    if t in l1:\n",
    "        formattedText.append(colored(t,'white','on_green'))\n",
    "    else: \n",
    "        formattedText.append(t)\n"
   ]
  },
  {
   "cell_type": "code",
   "execution_count": 15,
   "id": "8b43e1d6",
   "metadata": {},
   "outputs": [
    {
     "name": "stderr",
     "output_type": "stream",
     "text": [
      "IOPub data rate exceeded.\n",
      "The notebook server will temporarily stop sending output\n",
      "to the client in order to avoid crashing it.\n",
      "To change this limit, set the config variable\n",
      "`--NotebookApp.iopub_data_rate_limit`.\n",
      "\n",
      "Current values:\n",
      "NotebookApp.iopub_data_rate_limit=1000000.0 (bytes/sec)\n",
      "NotebookApp.rate_limit_window=3.0 (secs)\n",
      "\n"
     ]
    }
   ],
   "source": [
    "print(\" \".join(formattedText))"
   ]
  },
  {
   "cell_type": "code",
   "execution_count": 16,
   "id": "12820619",
   "metadata": {},
   "outputs": [
    {
     "name": "stdout",
     "output_type": "stream",
     "text": [
      "('feeling isolated feeling', 1.3978385678099293e-10)\n",
      "('share thoughts feelings', 4.934484530170151e-10)\n",
      "('loneliness feeling isolated', 6.572377117085242e-10)\n",
      "('feel lonely feeling', 7.948234532799694e-10)\n",
      "('people loneliness feeling', 8.81128599638712e-10)\n",
      "('share things feeling', 9.375374691244522e-10)\n",
      "('feel lonely feel', 9.63682086985371e-10)\n",
      "('people feeling isolated', 9.736056543384721e-10)\n",
      "('people feel lonely', 1.1346187486529636e-09)\n",
      "('loneliness feeling isolation', 1.1974124287604156e-09)\n",
      "('feeling disconnected people', 1.2034031386528546e-09)\n",
      "('feeling isolated people', 1.2285976114271194e-09)\n",
      "('feeling isolation feeling', 1.274346316588053e-09)\n",
      "('feel lonely loneliness', 1.2859592957880074e-09)\n",
      "('feeling lonely feeling', 1.3618274061017504e-09)\n",
      "('feelings loneliness feeling', 1.4178368349145458e-09)\n",
      "('feeling isolated loneliness', 1.4324411665442194e-09)\n",
      "('lonely loneliness feeling', 1.4502181647219184e-09)\n",
      "('share feelings feeling', 1.6350122536018455e-09)\n",
      "('feel lonely people', 1.8099870514225848e-09)\n",
      "('share life feeling', 1.8938234316426816e-09)\n",
      "('talk loneliness feeling', 1.947067916319651e-09)\n",
      "('talk feeling isolated', 1.9570868815526508e-09)\n",
      "('feeling disconnected feeling', 1.977079175898507e-09)\n",
      "('feeling sad feeling', 2.2433726162139695e-09)\n",
      "('feeling left feeling', 2.276915176038755e-09)\n",
      "('surrounded people feeling', 2.3242833857682624e-09)\n",
      "('thoughts feelings feeling', 2.3306923962164865e-09)\n",
      "('life loneliness feeling', 2.4242974290815718e-09)\n",
      "('loneliness feeling disconnected', 2.4609414286226185e-09)\n",
      "('share experiences feeling', 2.526850381301004e-09)\n",
      "('people feeling people', 2.746826099423407e-09)\n",
      "('people share things', 2.753003805519706e-09)\n",
      "('makes feel lonely', 2.8347177649547687e-09)\n",
      "('talk share things', 2.9078342431557533e-09)\n",
      "('loneliness makes feel', 3.233754219605146e-09)\n",
      "('feeling misunderstood feeling', 3.2385381984282254e-09)\n",
      "('life feeling isolated', 3.34621671584856e-09)\n",
      "('feeling empty feeling', 3.3465889605233994e-09)\n",
      "('friends family feeling', 3.391057920461269e-09)\n",
      "('talk feelings feeling', 3.394091922101323e-09)\n",
      "('loneliness feeling feeling', 3.5445920872863646e-09)\n",
      "('loneliness feeling lack', 3.8189567886536384e-09)\n",
      "('friends loneliness feeling', 3.8516138376524025e-09)\n",
      "('loneliness feeling people', 3.965078698374204e-09)\n",
      "('feel lonely times', 3.975011694816101e-09)\n",
      "('friends feeling isolated', 3.978167752346581e-09)\n",
      "('times feel lonely', 4.11697639820239e-09)\n",
      "('feeling lonely loneliness', 4.205632677693564e-09)\n",
      "('things loneliness feeling', 4.268270578023468e-09)\n",
      "('people share life', 4.283052993838647e-09)\n",
      "('company loneliness feeling', 4.287760873571884e-09)\n",
      "('isolated loneliness feeling', 4.297323499632658e-09)\n",
      "('people feeling lonely', 4.3162502381819034e-09)\n",
      "('feelings feeling isolated', 4.393206927402633e-09)\n",
      "('share things loneliness', 4.470753165707013e-09)\n",
      "('loneliness feeling feel', 4.624317772736288e-09)\n",
      "('loneliness feeling lonely', 4.672925197437292e-09)\n",
      "('contact people feeling', 4.7337488587666435e-09)\n",
      "('talk share feelings', 4.740102260679106e-09)\n",
      "('spend time feeling', 4.79478699220637e-09)\n",
      "('lonely feeling isolated', 4.801072774441219e-09)\n",
      "('feeling connected people', 4.9122016083731524e-09)\n",
      "('share loneliness feeling', 4.95027011947192e-09)\n",
      "('share feeling isolated', 4.9555766464188826e-09)\n",
      "('loneliness people share', 4.983772555001024e-09)\n",
      "('share good times', 5.090543219355308e-09)\n",
      "('loneliness loneliness feeling', 5.151278140601704e-09)\n",
      "('share feelings thoughts', 5.15379495373327e-09)\n",
      "('lonely feel lonely', 5.1687352759371256e-09)\n",
      "('family friends feeling', 5.2278809607111235e-09)\n",
      "('talk things feeling', 5.254813089826108e-09)\n",
      "('feelings loneliness feel', 5.549181327283545e-09)\n",
      "('time people feeling', 5.553646747337766e-09)\n",
      "('friends feel lonely', 5.5942962963882636e-09)\n",
      "('feeling isolated unable', 5.686842340013101e-09)\n",
      "('people talk feeling', 5.695099572748827e-09)\n",
      "('isolated people feeling', 5.733455519993223e-09)\n",
      "('share life experiences', 5.774164574581268e-09)\n",
      "('feeling unloved feeling', 5.86350434744886e-09)\n",
      "('people life feeling', 5.878044201944239e-09)\n",
      "('share life loneliness', 5.925041487799042e-09)\n",
      "('loneliness people feeling', 5.947618047561306e-09)\n",
      "('feeling understood feeling', 5.994613173961899e-09)\n",
      "('thoughts feelings loneliness', 6.188128426773364e-09)\n",
      "('loneliness feeling', 6.303095578669973e-09)\n",
      "('isolation loneliness feeling', 6.313629169827645e-09)\n",
      "('feeling isolation loneliness', 6.313629169827645e-09)\n",
      "('feeling isolated disconnected', 6.405694634556503e-09)\n",
      "('spend time people', 6.406670977774562e-09)\n",
      "('feelings loneliness loneliness', 6.43909767575213e-09)\n",
      "('feeling lonely feel', 6.472133833851179e-09)\n",
      "('things people feeling', 6.758538352330905e-09)\n",
      "('feeling unable share', 6.802554406949994e-09)\n",
      "('people share feelings', 6.858642219833527e-09)\n",
      "('share thoughts ideas', 6.935081346782243e-09)\n",
      "('feel loneliness feeling', 6.93647665910443e-09)\n",
      "('things feeling isolated', 6.943462487924859e-09)\n",
      "('share feelings experiences', 7.075181067642811e-09)\n",
      "('connection people feeling', 7.1720325693668716e-09)\n"
     ]
    }
   ],
   "source": [
    "language = \"en\"\n",
    "max_ngram_size = 3\n",
    "deduplication_thresold = 0.9\n",
    "deduplication_algo = 'seqm'\n",
    "windowSize = 1\n",
    "numOfKeywords = 100\n",
    "\n",
    "custom_kw_extractor = yake.KeywordExtractor(lan=language, n=max_ngram_size, dedupLim=deduplication_thresold, dedupFunc=deduplication_algo, windowsSize=windowSize, top=numOfKeywords, features=None)\n",
    "keywords = custom_kw_extractor.extract_keywords(words)\n",
    "\n",
    "for kw in keywords:\n",
    "    print(kw)"
   ]
  },
  {
   "cell_type": "code",
   "execution_count": null,
   "id": "4295ad6f",
   "metadata": {},
   "outputs": [],
   "source": []
  },
  {
   "cell_type": "code",
   "execution_count": 17,
   "id": "3117ff2f",
   "metadata": {},
   "outputs": [
    {
     "ename": "ModuleNotFoundError",
     "evalue": "No module named 'kaggle_specific_embed_cluster'",
     "output_type": "error",
     "traceback": [
      "\u001b[1;31m---------------------------------------------------------------------------\u001b[0m",
      "\u001b[1;31mModuleNotFoundError\u001b[0m                       Traceback (most recent call last)",
      "\u001b[1;32m<ipython-input-17-784ad8d5c27e>\u001b[0m in \u001b[0;36m<module>\u001b[1;34m\u001b[0m\n\u001b[1;32m----> 1\u001b[1;33m \u001b[1;32mimport\u001b[0m \u001b[0mkaggle_specific_embed_cluster\u001b[0m \u001b[1;32mas\u001b[0m \u001b[0membed_cluster\u001b[0m\u001b[1;33m\u001b[0m\u001b[1;33m\u001b[0m\u001b[0m\n\u001b[0m\u001b[0;32m      2\u001b[0m \u001b[0mclustering\u001b[0m \u001b[1;33m=\u001b[0m \u001b[0membed_cluster\u001b[0m\u001b[1;33m.\u001b[0m\u001b[0mget_spectral_clusters\u001b[0m\u001b[1;33m(\u001b[0m\u001b[0mwords\u001b[0m\u001b[1;33m=\u001b[0m\u001b[0mwords\u001b[0m\u001b[1;33m)\u001b[0m\u001b[1;33m\u001b[0m\u001b[1;33m\u001b[0m\u001b[0m\n",
      "\u001b[1;31mModuleNotFoundError\u001b[0m: No module named 'kaggle_specific_embed_cluster'"
     ]
    }
   ],
   "source": [
    "import kaggle_specific_embed_cluster as embed_cluster\n",
    "clustering = embed_cluster.get_spectral_clusters(words=words)"
   ]
  },
  {
   "cell_type": "code",
   "execution_count": null,
   "id": "515ecc71",
   "metadata": {},
   "outputs": [],
   "source": [
    "clean_data.shape\n"
   ]
  },
  {
   "cell_type": "markdown",
   "id": "61dfdeb1",
   "metadata": {},
   "source": [
    "raw_data['Clusters'] = hc.labels_"
   ]
  },
  {
   "cell_type": "code",
   "execution_count": null,
   "id": "5875a2b0",
   "metadata": {
    "scrolled": true
   },
   "outputs": [],
   "source": [
    "raw_data.head()"
   ]
  },
  {
   "cell_type": "markdown",
   "id": "d682ea97",
   "metadata": {},
   "source": [
    "clean_data.to_csv('raw_hierar.csv', index = False)"
   ]
  },
  {
   "cell_type": "code",
   "execution_count": null,
   "id": "f2509150",
   "metadata": {},
   "outputs": [],
   "source": []
  },
  {
   "cell_type": "code",
   "execution_count": null,
   "id": "118a588b",
   "metadata": {},
   "outputs": [],
   "source": []
  }
 ],
 "metadata": {
  "kernelspec": {
   "display_name": "Python 3",
   "language": "python",
   "name": "python3"
  },
  "language_info": {
   "codemirror_mode": {
    "name": "ipython",
    "version": 3
   },
   "file_extension": ".py",
   "mimetype": "text/x-python",
   "name": "python",
   "nbconvert_exporter": "python",
   "pygments_lexer": "ipython3",
   "version": "3.8.8"
  }
 },
 "nbformat": 4,
 "nbformat_minor": 5
}
